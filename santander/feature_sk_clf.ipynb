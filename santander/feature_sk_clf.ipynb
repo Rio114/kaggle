{
 "cells": [
  {
   "cell_type": "code",
   "execution_count": 1,
   "metadata": {},
   "outputs": [],
   "source": [
    "import numpy as np\n",
    "import pandas as pd\n",
    "\n",
    "from sklearn.model_selection import train_test_split\n",
    "\n",
    "import matplotlib.pyplot as plt\n",
    "%matplotlib inline\n",
    "\n",
    "import lightgbm as lgb\n",
    "import optuna\n",
    "from sklearn import metrics\n",
    "from sklearn.preprocessing import StandardScaler\n",
    "import time\n",
    "import pickle\n",
    "from random import sample\n",
    "\n",
    "import optuna\n",
    "\n",
    "from sklearn.naive_bayes import GaussianNB\n"
   ]
  },
  {
   "cell_type": "code",
   "execution_count": 2,
   "metadata": {},
   "outputs": [],
   "source": [
    "df = pd.read_csv('train.csv')\n",
    "X = df.drop(['ID_code', 'target'], axis=1).values\n",
    "sc = StandardScaler()\n",
    "X = sc.fit_transform(X)\n",
    "y = df['target'].values\n",
    "del df"
   ]
  },
  {
   "cell_type": "code",
   "execution_count": 3,
   "metadata": {},
   "outputs": [],
   "source": [
    "X_train, X_val, y_train, y_val = train_test_split(X, y, test_size= 0.2, random_state=0, stratify=y)"
   ]
  },
  {
   "cell_type": "code",
   "execution_count": 4,
   "metadata": {},
   "outputs": [],
   "source": [
    "classifiers = [LogisticRegression(),\n",
    "            MLPClassifier(alpha=1),\n",
    "            RandomForestClassifier(max_depth=2, n_estimators=10, max_features=1),\n",
    "            RandomForestClassifier(max_depth=3, n_estimators=10, max_features=1),\n",
    "            RandomForestClassifier(max_depth=4, n_estimators=10, max_features=1),\n",
    "            RandomForestClassifier(max_depth=5, n_estimators=10, max_features=1),\n",
    "            RandomForestClassifier(max_depth=6, n_estimators=10, max_features=1),\n",
    "            RandomForestClassifier(max_depth=7, n_estimators=10, max_features=1),\n",
    "            RandomForestClassifier(max_depth=8, n_estimators=10, max_features=1),\n",
    "            RandomForestClassifier(max_depth=9, n_estimators=10, max_features=1),\n",
    "            RandomForestClassifier(max_depth=10, n_estimators=10, max_features=1),\n",
    "            AdaBoostClassifier(base_estimator=DecisionTreeClassifier(max_depth=2)),\n",
    "            AdaBoostClassifier(base_estimator=DecisionTreeClassifier(max_depth=3)),\n",
    "            AdaBoostClassifier(base_estimator=DecisionTreeClassifier(max_depth=4)),\n",
    "            AdaBoostClassifier(base_estimator=DecisionTreeClassifier(max_depth=5)),\n",
    "            AdaBoostClassifier(base_estimator=DecisionTreeClassifier(max_depth=6)),\n",
    "            AdaBoostClassifier(base_estimator=DecisionTreeClassifier(max_depth=7)),\n",
    "            AdaBoostClassifier(base_estimator=DecisionTreeClassifier(max_depth=8)),\n",
    "            AdaBoostClassifier(base_estimator=DecisionTreeClassifier(max_depth=9)),\n",
    "            AdaBoostClassifier(base_estimator=DecisionTreeClassifier(max_depth=10)),\n",
    "            AdaBoostClassifier(base_estimator=DecisionTreeClassifier(max_depth=11)),\n",
    "            AdaBoostClassifier(base_estimator=DecisionTreeClassifier(max_depth=12)),\n",
    "            GaussianNB(var_smoothing=1e-7),\n",
    "            GaussianNB(var_smoothing=1.1*1e-7),\n",
    "            GaussianNB(var_smoothing=1.2*1e-7),\n",
    "            GaussianNB(var_smoothing=0.9*1e-7),\n",
    "            GaussianNB(var_smoothing=0.8*1e-7),\n",
    "            ]"
   ]
  },
  {
   "cell_type": "code",
   "execution_count": 5,
   "metadata": {
    "scrolled": false
   },
   "outputs": [
    {
     "name": "stdout",
     "output_type": "stream",
     "text": [
      "fitting with LogisticRegression.....\n"
     ]
    },
    {
     "name": "stderr",
     "output_type": "stream",
     "text": [
      "/home/ryoji/Documents/python/kaggle/ml/lib/python3.6/site-packages/sklearn/linear_model/logistic.py:433: FutureWarning: Default solver will be changed to 'lbfgs' in 0.22. Specify a solver to silence this warning.\n",
      "  FutureWarning)\n"
     ]
    },
    {
     "name": "stdout",
     "output_type": "stream",
     "text": [
      "fitting with MLPClassifier.....\n",
      "fitting with RandomForestClassifier.....\n",
      "fitting with RandomForestClassifier.....\n",
      "fitting with RandomForestClassifier.....\n",
      "fitting with RandomForestClassifier.....\n",
      "fitting with RandomForestClassifier.....\n",
      "fitting with RandomForestClassifier.....\n",
      "fitting with RandomForestClassifier.....\n",
      "fitting with RandomForestClassifier.....\n",
      "fitting with RandomForestClassifier.....\n",
      "fitting with AdaBoostClassifier.....\n",
      "fitting with AdaBoostClassifier.....\n",
      "fitting with AdaBoostClassifier.....\n",
      "fitting with AdaBoostClassifier.....\n",
      "fitting with AdaBoostClassifier.....\n",
      "fitting with AdaBoostClassifier.....\n",
      "fitting with AdaBoostClassifier.....\n",
      "fitting with AdaBoostClassifier.....\n",
      "fitting with AdaBoostClassifier.....\n",
      "fitting with AdaBoostClassifier.....\n",
      "fitting with AdaBoostClassifier.....\n",
      "fitting with GaussianNB.....\n",
      "fitting with GaussianNB.....\n",
      "fitting with GaussianNB.....\n",
      "fitting with GaussianNB.....\n",
      "fitting with GaussianNB.....\n"
     ]
    }
   ],
   "source": [
    "scores = []\n",
    "times = []\n",
    "names = []\n",
    "clfs = []\n",
    "\n",
    "len_pn = len(X_pn_train)\n",
    "num_sample = 10000\n",
    "\n",
    "sampling = sample([i for i in range(len_pn)], num_sample) \n",
    "X_clf_train = X_pn_train[sampling]\n",
    "y_clf_train = y_pn_train[sampling]\n",
    "\n",
    "for clf in classifiers:\n",
    "    name = str(clf).split('(')[0]\n",
    "    print('fitting with %s.....' % name)\n",
    "    t1 = time.time() \n",
    "    clf.fit(X_clf_train, y_clf_train)\n",
    "    pred = clf.predict(X_pn_val)\n",
    "    score = metrics.accuracy_score(y_pn_val, pred)\n",
    "    t2 = time.time()\n",
    "    elapsed_time = t2-t1\n",
    "\n",
    "    scores.append(score)\n",
    "    times.append(elapsed_time)\n",
    "    names.append(name)\n",
    "    clfs.append(clf)"
   ]
  },
  {
   "cell_type": "code",
   "execution_count": 6,
   "metadata": {},
   "outputs": [
    {
     "name": "stdout",
     "output_type": "stream",
     "text": [
      "predicting with LogisticRegression.....\n",
      "predicting with MLPClassifier.....\n",
      "predicting with RandomForestClassifier.....\n",
      "predicting with RandomForestClassifier.....\n",
      "predicting with RandomForestClassifier.....\n",
      "predicting with RandomForestClassifier.....\n",
      "predicting with RandomForestClassifier.....\n",
      "predicting with RandomForestClassifier.....\n",
      "predicting with RandomForestClassifier.....\n",
      "predicting with RandomForestClassifier.....\n",
      "predicting with RandomForestClassifier.....\n",
      "predicting with AdaBoostClassifier.....\n",
      "predicting with AdaBoostClassifier.....\n",
      "predicting with AdaBoostClassifier.....\n",
      "predicting with AdaBoostClassifier.....\n",
      "predicting with AdaBoostClassifier.....\n",
      "predicting with AdaBoostClassifier.....\n",
      "predicting with AdaBoostClassifier.....\n",
      "predicting with AdaBoostClassifier.....\n",
      "predicting with AdaBoostClassifier.....\n",
      "predicting with AdaBoostClassifier.....\n",
      "predicting with AdaBoostClassifier.....\n",
      "predicting with GaussianNB.....\n",
      "predicting with GaussianNB.....\n",
      "predicting with GaussianNB.....\n",
      "predicting with GaussianNB.....\n",
      "predicting with GaussianNB.....\n"
     ]
    }
   ],
   "source": [
    "predicts_train = []\n",
    "predicts_val = []\n",
    "for clf in clfs:\n",
    "    name = str(clf).split('(')[0]\n",
    "    print('predicting with %s.....' % name)\n",
    "    if hasattr(clf,'predict_proba') == True:\n",
    "        pred_train = clf.predict_proba(X_train)[:,0]\n",
    "        pred_val = clf.predict_proba(X_val)[:,0]\n",
    "        predicts_train.append(pred_train)\n",
    "        predicts_val.append(pred_val)\n",
    "    else:\n",
    "        pred_train = clf.predict(X_train)\n",
    "        pred_val = clf.predict(X_val)\n",
    "        predicts_train.append(pred_train)\n",
    "        predicts_val.append(pred_val)\n",
    "        \n",
    "\n",
    "param_train = np.array(predicts_train).T\n",
    "X_train = np.hstack([X_train, param_train])\n",
    "\n",
    "param_val = np.array(predicts_val).T\n",
    "X_val = np.hstack([X_val, param_val])\n",
    "\n",
    "del predicts_train, predicts_val"
   ]
  },
  {
   "cell_type": "code",
   "execution_count": 7,
   "metadata": {},
   "outputs": [],
   "source": [
    "lgb_train = lgb.Dataset(X_train, y_train)\n",
    "lgb_val = lgb.Dataset(X_val, y_val, reference=lgb_train)"
   ]
  },
  {
   "cell_type": "code",
   "execution_count": 8,
   "metadata": {},
   "outputs": [],
   "source": [
    "def objective(trial):\n",
    "    \"\"\"最小化する目的関数\"\"\"\n",
    "    # LightGBM parameters\n",
    "    params = {\n",
    "        'objective': 'binary',\n",
    "        'boost_from_average':False,\n",
    "        'metric': 'auc',\n",
    "        'boosting_type': 'gbdt',\n",
    "        'feature_fraction': trial.suggest_uniform('feature_fraction', 0.8, 1.0), # 1.0 use\n",
    "        'learning_rate': trial.suggest_uniform('learning_rate', 0.001, 1.0), # small for acc\n",
    "        'subsample': trial.suggest_uniform('subsample', 0.8, 1.0),\n",
    "        'min_data_in_leaf': trial.suggest_int('min_data_in_leaf', 10, 100), # 20 use\n",
    "        'min_sum_hessian_in_leaf' : trial.suggest_uniform('min_sum_hessian_in_leaf', 1e-4, 1e-2) ,#1e-3 use\n",
    "        'bagging_fraction' : trial.suggest_uniform('bagging_fraction', 0.8, 1.0) ,# 1.0 use\n",
    "        'bagging_freq': trial.suggest_int('bagging_freq', 0, 10) ,# 0 use\n",
    "        'min_gain_to_split': trial.suggest_uniform('min_gain_to_split', 0.8, 1.0),# 0.0 use\n",
    "        'lambda_l1': trial.suggest_uniform('lambda_l1', 0.0, 0.5),\n",
    "        'lambda_l2': trial.suggest_uniform('lambda_l2', 0.0, 0.5),\n",
    "        'num_leaves'   : trial.suggest_int('num_leaves', 16, 31), # 31, small for overfit, large for acc\n",
    "        'max_bin': trial.suggest_int('max_bin', 128, 255), # 255, small for overfit, large for acc, \n",
    "    }\n",
    "    # train\n",
    "    gbm = lgb.train(params,\n",
    "                    lgb_train,\n",
    "                    valid_sets=lgb_val,\n",
    "                    num_boost_round=10000,\n",
    "                    early_stopping_rounds=100,\n",
    "                    verbose_eval = 200)    \n",
    "    \n",
    "    y_val_pred = gbm.predict(X_val, num_iteration=gbm.best_iteration)\n",
    "    fpr_val, tpr_val, thresholds_val = metrics.roc_curve(y_val, y_val_pred)\n",
    "    auc_val = metrics.auc(fpr_val, tpr_val)\n",
    "    return  -auc_val"
   ]
  },
  {
   "cell_type": "code",
   "execution_count": 9,
   "metadata": {
    "scrolled": true
   },
   "outputs": [
    {
     "name": "stdout",
     "output_type": "stream",
     "text": [
      "Training until validation scores don't improve for 100 rounds.\n",
      "Early stopping, best iteration is:\n",
      "[4]\tvalid_0's auc: 0.883156\n"
     ]
    },
    {
     "name": "stderr",
     "output_type": "stream",
     "text": [
      "[I 2019-04-02 20:18:15,140] Finished trial#0 resulted in value: -0.8831556676041693. Current best value is -0.8831556676041693 with parameters: {'feature_fraction': 0.977548270191196, 'learning_rate': 0.8995035959334565, 'subsample': 0.9624003850530691, 'min_data_in_leaf': 46, 'min_sum_hessian_in_leaf': 0.009235553605422041, 'bagging_fraction': 0.8611859293516516, 'bagging_freq': 5, 'min_gain_to_split': 0.8205195066228963, 'lambda_l1': 0.32310739434865415, 'lambda_l2': 0.41073929462252756, 'num_leaves': 28, 'max_bin': 155}.\n"
     ]
    },
    {
     "name": "stdout",
     "output_type": "stream",
     "text": [
      "Training until validation scores don't improve for 100 rounds.\n",
      "Early stopping, best iteration is:\n",
      "[7]\tvalid_0's auc: 0.885637\n"
     ]
    },
    {
     "name": "stderr",
     "output_type": "stream",
     "text": [
      "[I 2019-04-02 20:18:19,805] Finished trial#1 resulted in value: -0.8856370627407708. Current best value is -0.8856370627407708 with parameters: {'feature_fraction': 0.816382052448592, 'learning_rate': 0.5189152918483096, 'subsample': 0.8298591440064738, 'min_data_in_leaf': 92, 'min_sum_hessian_in_leaf': 0.0033455408007232973, 'bagging_fraction': 0.8601300216031158, 'bagging_freq': 1, 'min_gain_to_split': 0.8005423576156931, 'lambda_l1': 0.170298396695854, 'lambda_l2': 0.3301799976496548, 'num_leaves': 25, 'max_bin': 216}.\n"
     ]
    },
    {
     "name": "stdout",
     "output_type": "stream",
     "text": [
      "Training until validation scores don't improve for 100 rounds.\n",
      "Early stopping, best iteration is:\n",
      "[39]\tvalid_0's auc: 0.88873\n"
     ]
    },
    {
     "name": "stderr",
     "output_type": "stream",
     "text": [
      "[I 2019-04-02 20:18:26,107] Finished trial#2 resulted in value: -0.8887298360891486. Current best value is -0.8887298360891486 with parameters: {'feature_fraction': 0.8292630568957517, 'learning_rate': 0.22108930947254196, 'subsample': 0.908113047454014, 'min_data_in_leaf': 10, 'min_sum_hessian_in_leaf': 0.0036479978847044742, 'bagging_fraction': 0.9589534907792596, 'bagging_freq': 1, 'min_gain_to_split': 0.9987286063811592, 'lambda_l1': 0.24978014005567856, 'lambda_l2': 0.1911646877025865, 'num_leaves': 27, 'max_bin': 185}.\n"
     ]
    },
    {
     "name": "stdout",
     "output_type": "stream",
     "text": [
      "Training until validation scores don't improve for 100 rounds.\n",
      "Early stopping, best iteration is:\n",
      "[5]\tvalid_0's auc: 0.884593\n"
     ]
    },
    {
     "name": "stderr",
     "output_type": "stream",
     "text": [
      "[I 2019-04-02 20:18:30,090] Finished trial#3 resulted in value: -0.884593423930929. Current best value is -0.8887298360891486 with parameters: {'feature_fraction': 0.8292630568957517, 'learning_rate': 0.22108930947254196, 'subsample': 0.908113047454014, 'min_data_in_leaf': 10, 'min_sum_hessian_in_leaf': 0.0036479978847044742, 'bagging_fraction': 0.9589534907792596, 'bagging_freq': 1, 'min_gain_to_split': 0.9987286063811592, 'lambda_l1': 0.24978014005567856, 'lambda_l2': 0.1911646877025865, 'num_leaves': 27, 'max_bin': 185}.\n"
     ]
    },
    {
     "name": "stdout",
     "output_type": "stream",
     "text": [
      "Training until validation scores don't improve for 100 rounds.\n",
      "[200]\tvalid_0's auc: 0.886223\n",
      "[400]\tvalid_0's auc: 0.8894\n",
      "[600]\tvalid_0's auc: 0.891103\n",
      "[800]\tvalid_0's auc: 0.891881\n",
      "[1000]\tvalid_0's auc: 0.892352\n",
      "[1200]\tvalid_0's auc: 0.89277\n",
      "[1400]\tvalid_0's auc: 0.892984\n",
      "[1600]\tvalid_0's auc: 0.893104\n",
      "Early stopping, best iteration is:\n",
      "[1647]\tvalid_0's auc: 0.893172\n"
     ]
    },
    {
     "name": "stderr",
     "output_type": "stream",
     "text": [
      "[I 2019-04-02 20:19:43,730] Finished trial#4 resulted in value: -0.8931722847684866. Current best value is -0.8931722847684866 with parameters: {'feature_fraction': 0.9502433638956223, 'learning_rate': 0.017027901579411885, 'subsample': 0.8710147349213191, 'min_data_in_leaf': 80, 'min_sum_hessian_in_leaf': 0.0028357558369591237, 'bagging_fraction': 0.9388322188642676, 'bagging_freq': 8, 'min_gain_to_split': 0.9838308261781148, 'lambda_l1': 0.0412603718547197, 'lambda_l2': 0.3318398128624334, 'num_leaves': 18, 'max_bin': 192}.\n"
     ]
    },
    {
     "name": "stdout",
     "output_type": "stream",
     "text": [
      "Training until validation scores don't improve for 100 rounds.\n",
      "Early stopping, best iteration is:\n",
      "[6]\tvalid_0's auc: 0.884128\n"
     ]
    },
    {
     "name": "stderr",
     "output_type": "stream",
     "text": [
      "[I 2019-04-02 20:19:47,805] Finished trial#5 resulted in value: -0.8841283438283845. Current best value is -0.8931722847684866 with parameters: {'feature_fraction': 0.9502433638956223, 'learning_rate': 0.017027901579411885, 'subsample': 0.8710147349213191, 'min_data_in_leaf': 80, 'min_sum_hessian_in_leaf': 0.0028357558369591237, 'bagging_fraction': 0.9388322188642676, 'bagging_freq': 8, 'min_gain_to_split': 0.9838308261781148, 'lambda_l1': 0.0412603718547197, 'lambda_l2': 0.3318398128624334, 'num_leaves': 18, 'max_bin': 192}.\n"
     ]
    },
    {
     "name": "stdout",
     "output_type": "stream",
     "text": [
      "Training until validation scores don't improve for 100 rounds.\n",
      "Early stopping, best iteration is:\n",
      "[11]\tvalid_0's auc: 0.885644\n"
     ]
    },
    {
     "name": "stderr",
     "output_type": "stream",
     "text": [
      "[I 2019-04-02 20:19:51,966] Finished trial#6 resulted in value: -0.8856438140039103. Current best value is -0.8931722847684866 with parameters: {'feature_fraction': 0.9502433638956223, 'learning_rate': 0.017027901579411885, 'subsample': 0.8710147349213191, 'min_data_in_leaf': 80, 'min_sum_hessian_in_leaf': 0.0028357558369591237, 'bagging_fraction': 0.9388322188642676, 'bagging_freq': 8, 'min_gain_to_split': 0.9838308261781148, 'lambda_l1': 0.0412603718547197, 'lambda_l2': 0.3318398128624334, 'num_leaves': 18, 'max_bin': 192}.\n"
     ]
    },
    {
     "name": "stdout",
     "output_type": "stream",
     "text": [
      "Training until validation scores don't improve for 100 rounds.\n",
      "[200]\tvalid_0's auc: 0.890527\n",
      "Early stopping, best iteration is:\n",
      "[121]\tvalid_0's auc: 0.890845\n"
     ]
    },
    {
     "name": "stderr",
     "output_type": "stream",
     "text": [
      "[I 2019-04-02 20:20:01,407] Finished trial#7 resulted in value: -0.8908454531124256. Current best value is -0.8931722847684866 with parameters: {'feature_fraction': 0.9502433638956223, 'learning_rate': 0.017027901579411885, 'subsample': 0.8710147349213191, 'min_data_in_leaf': 80, 'min_sum_hessian_in_leaf': 0.0028357558369591237, 'bagging_fraction': 0.9388322188642676, 'bagging_freq': 8, 'min_gain_to_split': 0.9838308261781148, 'lambda_l1': 0.0412603718547197, 'lambda_l2': 0.3318398128624334, 'num_leaves': 18, 'max_bin': 192}.\n"
     ]
    },
    {
     "name": "stdout",
     "output_type": "stream",
     "text": [
      "Training until validation scores don't improve for 100 rounds.\n",
      "[200]\tvalid_0's auc: 0.885026\n",
      "[400]\tvalid_0's auc: 0.886761\n",
      "[600]\tvalid_0's auc: 0.888546\n",
      "[800]\tvalid_0's auc: 0.889877\n",
      "[1000]\tvalid_0's auc: 0.890779\n",
      "[1200]\tvalid_0's auc: 0.891318\n",
      "[1400]\tvalid_0's auc: 0.891718\n",
      "[1600]\tvalid_0's auc: 0.89202\n",
      "[1800]\tvalid_0's auc: 0.892207\n",
      "Early stopping, best iteration is:\n",
      "[1884]\tvalid_0's auc: 0.892384\n"
     ]
    },
    {
     "name": "stderr",
     "output_type": "stream",
     "text": [
      "[I 2019-04-02 20:21:26,303] Finished trial#8 resulted in value: -0.8923840359071791. Current best value is -0.8931722847684866 with parameters: {'feature_fraction': 0.9502433638956223, 'learning_rate': 0.017027901579411885, 'subsample': 0.8710147349213191, 'min_data_in_leaf': 80, 'min_sum_hessian_in_leaf': 0.0028357558369591237, 'bagging_fraction': 0.9388322188642676, 'bagging_freq': 8, 'min_gain_to_split': 0.9838308261781148, 'lambda_l1': 0.0412603718547197, 'lambda_l2': 0.3318398128624334, 'num_leaves': 18, 'max_bin': 192}.\n"
     ]
    },
    {
     "name": "stdout",
     "output_type": "stream",
     "text": [
      "Training until validation scores don't improve for 100 rounds.\n",
      "Early stopping, best iteration is:\n",
      "[10]\tvalid_0's auc: 0.885655\n"
     ]
    },
    {
     "name": "stderr",
     "output_type": "stream",
     "text": [
      "[I 2019-04-02 20:21:31,557] Finished trial#9 resulted in value: -0.8856549243775563. Current best value is -0.8931722847684866 with parameters: {'feature_fraction': 0.9502433638956223, 'learning_rate': 0.017027901579411885, 'subsample': 0.8710147349213191, 'min_data_in_leaf': 80, 'min_sum_hessian_in_leaf': 0.0028357558369591237, 'bagging_fraction': 0.9388322188642676, 'bagging_freq': 8, 'min_gain_to_split': 0.9838308261781148, 'lambda_l1': 0.0412603718547197, 'lambda_l2': 0.3318398128624334, 'num_leaves': 18, 'max_bin': 192}.\n"
     ]
    },
    {
     "name": "stdout",
     "output_type": "stream",
     "text": [
      "Training until validation scores don't improve for 100 rounds.\n",
      "Early stopping, best iteration is:\n",
      "[21]\tvalid_0's auc: 0.886953\n"
     ]
    },
    {
     "name": "stderr",
     "output_type": "stream",
     "text": [
      "[I 2019-04-02 20:21:36,365] Finished trial#10 resulted in value: -0.8869527605164838. Current best value is -0.8931722847684866 with parameters: {'feature_fraction': 0.9502433638956223, 'learning_rate': 0.017027901579411885, 'subsample': 0.8710147349213191, 'min_data_in_leaf': 80, 'min_sum_hessian_in_leaf': 0.0028357558369591237, 'bagging_fraction': 0.9388322188642676, 'bagging_freq': 8, 'min_gain_to_split': 0.9838308261781148, 'lambda_l1': 0.0412603718547197, 'lambda_l2': 0.3318398128624334, 'num_leaves': 18, 'max_bin': 192}.\n"
     ]
    },
    {
     "name": "stdout",
     "output_type": "stream",
     "text": [
      "Training until validation scores don't improve for 100 rounds.\n",
      "Early stopping, best iteration is:\n",
      "[23]\tvalid_0's auc: 0.886621\n"
     ]
    },
    {
     "name": "stderr",
     "output_type": "stream",
     "text": [
      "[I 2019-04-02 20:21:42,370] Finished trial#11 resulted in value: -0.8866212572490522. Current best value is -0.8931722847684866 with parameters: {'feature_fraction': 0.9502433638956223, 'learning_rate': 0.017027901579411885, 'subsample': 0.8710147349213191, 'min_data_in_leaf': 80, 'min_sum_hessian_in_leaf': 0.0028357558369591237, 'bagging_fraction': 0.9388322188642676, 'bagging_freq': 8, 'min_gain_to_split': 0.9838308261781148, 'lambda_l1': 0.0412603718547197, 'lambda_l2': 0.3318398128624334, 'num_leaves': 18, 'max_bin': 192}.\n"
     ]
    },
    {
     "name": "stdout",
     "output_type": "stream",
     "text": [
      "Training until validation scores don't improve for 100 rounds.\n",
      "[200]\tvalid_0's auc: 0.886034\n",
      "[400]\tvalid_0's auc: 0.888661\n",
      "[600]\tvalid_0's auc: 0.890448\n",
      "[800]\tvalid_0's auc: 0.891501\n",
      "[1000]\tvalid_0's auc: 0.892159\n",
      "[1200]\tvalid_0's auc: 0.892496\n",
      "[1400]\tvalid_0's auc: 0.892707\n",
      "[1600]\tvalid_0's auc: 0.892915\n",
      "[1800]\tvalid_0's auc: 0.89306\n",
      "Early stopping, best iteration is:\n",
      "[1735]\tvalid_0's auc: 0.893121\n"
     ]
    },
    {
     "name": "stderr",
     "output_type": "stream",
     "text": [
      "[I 2019-04-02 20:23:21,733] Finished trial#12 resulted in value: -0.8931211023813673. Current best value is -0.8931722847684866 with parameters: {'feature_fraction': 0.9502433638956223, 'learning_rate': 0.017027901579411885, 'subsample': 0.8710147349213191, 'min_data_in_leaf': 80, 'min_sum_hessian_in_leaf': 0.0028357558369591237, 'bagging_fraction': 0.9388322188642676, 'bagging_freq': 8, 'min_gain_to_split': 0.9838308261781148, 'lambda_l1': 0.0412603718547197, 'lambda_l2': 0.3318398128624334, 'num_leaves': 18, 'max_bin': 192}.\n"
     ]
    },
    {
     "name": "stdout",
     "output_type": "stream",
     "text": [
      "Training until validation scores don't improve for 100 rounds.\n",
      "[200]\tvalid_0's auc: 0.887272\n",
      "[400]\tvalid_0's auc: 0.890383\n",
      "[600]\tvalid_0's auc: 0.891671\n",
      "[800]\tvalid_0's auc: 0.892668\n",
      "[1000]\tvalid_0's auc: 0.892923\n",
      "Early stopping, best iteration is:\n",
      "[905]\tvalid_0's auc: 0.892952\n"
     ]
    },
    {
     "name": "stderr",
     "output_type": "stream",
     "text": [
      "[I 2019-04-02 20:24:07,244] Finished trial#13 resulted in value: -0.8929519785729496. Current best value is -0.8931722847684866 with parameters: {'feature_fraction': 0.9502433638956223, 'learning_rate': 0.017027901579411885, 'subsample': 0.8710147349213191, 'min_data_in_leaf': 80, 'min_sum_hessian_in_leaf': 0.0028357558369591237, 'bagging_fraction': 0.9388322188642676, 'bagging_freq': 8, 'min_gain_to_split': 0.9838308261781148, 'lambda_l1': 0.0412603718547197, 'lambda_l2': 0.3318398128624334, 'num_leaves': 18, 'max_bin': 192}.\n"
     ]
    },
    {
     "name": "stdout",
     "output_type": "stream",
     "text": [
      "Training until validation scores don't improve for 100 rounds.\n",
      "[200]\tvalid_0's auc: 0.889336\n",
      "Early stopping, best iteration is:\n",
      "[100]\tvalid_0's auc: 0.890384\n"
     ]
    },
    {
     "name": "stderr",
     "output_type": "stream",
     "text": [
      "[I 2019-04-02 20:24:15,474] Finished trial#14 resulted in value: -0.8903841963058525. Current best value is -0.8931722847684866 with parameters: {'feature_fraction': 0.9502433638956223, 'learning_rate': 0.017027901579411885, 'subsample': 0.8710147349213191, 'min_data_in_leaf': 80, 'min_sum_hessian_in_leaf': 0.0028357558369591237, 'bagging_fraction': 0.9388322188642676, 'bagging_freq': 8, 'min_gain_to_split': 0.9838308261781148, 'lambda_l1': 0.0412603718547197, 'lambda_l2': 0.3318398128624334, 'num_leaves': 18, 'max_bin': 192}.\n"
     ]
    },
    {
     "name": "stdout",
     "output_type": "stream",
     "text": [
      "Training until validation scores don't improve for 100 rounds.\n",
      "Early stopping, best iteration is:\n",
      "[24]\tvalid_0's auc: 0.887292\n"
     ]
    },
    {
     "name": "stderr",
     "output_type": "stream",
     "text": [
      "[I 2019-04-02 20:24:23,863] Finished trial#15 resulted in value: -0.8872918585228389. Current best value is -0.8931722847684866 with parameters: {'feature_fraction': 0.9502433638956223, 'learning_rate': 0.017027901579411885, 'subsample': 0.8710147349213191, 'min_data_in_leaf': 80, 'min_sum_hessian_in_leaf': 0.0028357558369591237, 'bagging_fraction': 0.9388322188642676, 'bagging_freq': 8, 'min_gain_to_split': 0.9838308261781148, 'lambda_l1': 0.0412603718547197, 'lambda_l2': 0.3318398128624334, 'num_leaves': 18, 'max_bin': 192}.\n"
     ]
    },
    {
     "name": "stdout",
     "output_type": "stream",
     "text": [
      "Training until validation scores don't improve for 100 rounds.\n",
      "[200]\tvalid_0's auc: 0.890837\n",
      "Early stopping, best iteration is:\n",
      "[182]\tvalid_0's auc: 0.891119\n"
     ]
    },
    {
     "name": "stderr",
     "output_type": "stream",
     "text": [
      "[I 2019-04-02 20:24:37,892] Finished trial#16 resulted in value: -0.8911192439691482. Current best value is -0.8931722847684866 with parameters: {'feature_fraction': 0.9502433638956223, 'learning_rate': 0.017027901579411885, 'subsample': 0.8710147349213191, 'min_data_in_leaf': 80, 'min_sum_hessian_in_leaf': 0.0028357558369591237, 'bagging_fraction': 0.9388322188642676, 'bagging_freq': 8, 'min_gain_to_split': 0.9838308261781148, 'lambda_l1': 0.0412603718547197, 'lambda_l2': 0.3318398128624334, 'num_leaves': 18, 'max_bin': 192}.\n"
     ]
    },
    {
     "name": "stdout",
     "output_type": "stream",
     "text": [
      "Training until validation scores don't improve for 100 rounds.\n",
      "Early stopping, best iteration is:\n",
      "[6]\tvalid_0's auc: 0.885014\n"
     ]
    },
    {
     "name": "stderr",
     "output_type": "stream",
     "text": [
      "[I 2019-04-02 20:24:43,013] Finished trial#17 resulted in value: -0.8850144047688185. Current best value is -0.8931722847684866 with parameters: {'feature_fraction': 0.9502433638956223, 'learning_rate': 0.017027901579411885, 'subsample': 0.8710147349213191, 'min_data_in_leaf': 80, 'min_sum_hessian_in_leaf': 0.0028357558369591237, 'bagging_fraction': 0.9388322188642676, 'bagging_freq': 8, 'min_gain_to_split': 0.9838308261781148, 'lambda_l1': 0.0412603718547197, 'lambda_l2': 0.3318398128624334, 'num_leaves': 18, 'max_bin': 192}.\n"
     ]
    },
    {
     "name": "stdout",
     "output_type": "stream",
     "text": [
      "Training until validation scores don't improve for 100 rounds.\n",
      "Early stopping, best iteration is:\n",
      "[27]\tvalid_0's auc: 0.886867\n"
     ]
    },
    {
     "name": "stderr",
     "output_type": "stream",
     "text": [
      "[I 2019-04-02 20:24:49,194] Finished trial#18 resulted in value: -0.8868666948747091. Current best value is -0.8931722847684866 with parameters: {'feature_fraction': 0.9502433638956223, 'learning_rate': 0.017027901579411885, 'subsample': 0.8710147349213191, 'min_data_in_leaf': 80, 'min_sum_hessian_in_leaf': 0.0028357558369591237, 'bagging_fraction': 0.9388322188642676, 'bagging_freq': 8, 'min_gain_to_split': 0.9838308261781148, 'lambda_l1': 0.0412603718547197, 'lambda_l2': 0.3318398128624334, 'num_leaves': 18, 'max_bin': 192}.\n"
     ]
    },
    {
     "name": "stdout",
     "output_type": "stream",
     "text": [
      "Training until validation scores don't improve for 100 rounds.\n",
      "[200]\tvalid_0's auc: 0.884872\n",
      "[400]\tvalid_0's auc: 0.886484\n",
      "[600]\tvalid_0's auc: 0.887989\n",
      "[800]\tvalid_0's auc: 0.889516\n",
      "[1000]\tvalid_0's auc: 0.890502\n",
      "[1200]\tvalid_0's auc: 0.891171\n",
      "[1400]\tvalid_0's auc: 0.891704\n",
      "[1600]\tvalid_0's auc: 0.89213\n",
      "[1800]\tvalid_0's auc: 0.892412\n",
      "[2000]\tvalid_0's auc: 0.892618\n",
      "[2200]\tvalid_0's auc: 0.892777\n",
      "[2400]\tvalid_0's auc: 0.89288\n",
      "[2600]\tvalid_0's auc: 0.893024\n",
      "Early stopping, best iteration is:\n",
      "[2598]\tvalid_0's auc: 0.893028\n"
     ]
    },
    {
     "name": "stderr",
     "output_type": "stream",
     "text": [
      "[I 2019-04-02 20:27:13,486] Finished trial#19 resulted in value: -0.8930282301665657. Current best value is -0.8931722847684866 with parameters: {'feature_fraction': 0.9502433638956223, 'learning_rate': 0.017027901579411885, 'subsample': 0.8710147349213191, 'min_data_in_leaf': 80, 'min_sum_hessian_in_leaf': 0.0028357558369591237, 'bagging_fraction': 0.9388322188642676, 'bagging_freq': 8, 'min_gain_to_split': 0.9838308261781148, 'lambda_l1': 0.0412603718547197, 'lambda_l2': 0.3318398128624334, 'num_leaves': 18, 'max_bin': 192}.\n"
     ]
    },
    {
     "name": "stdout",
     "output_type": "stream",
     "text": [
      "Training until validation scores don't improve for 100 rounds.\n",
      "Early stopping, best iteration is:\n",
      "[8]\tvalid_0's auc: 0.885125\n"
     ]
    },
    {
     "name": "stderr",
     "output_type": "stream",
     "text": [
      "[I 2019-04-02 20:27:18,119] Finished trial#20 resulted in value: -0.8851247998473447. Current best value is -0.8931722847684866 with parameters: {'feature_fraction': 0.9502433638956223, 'learning_rate': 0.017027901579411885, 'subsample': 0.8710147349213191, 'min_data_in_leaf': 80, 'min_sum_hessian_in_leaf': 0.0028357558369591237, 'bagging_fraction': 0.9388322188642676, 'bagging_freq': 8, 'min_gain_to_split': 0.9838308261781148, 'lambda_l1': 0.0412603718547197, 'lambda_l2': 0.3318398128624334, 'num_leaves': 18, 'max_bin': 192}.\n"
     ]
    },
    {
     "name": "stdout",
     "output_type": "stream",
     "text": [
      "Training until validation scores don't improve for 100 rounds.\n",
      "Early stopping, best iteration is:\n",
      "[16]\tvalid_0's auc: 0.887595\n"
     ]
    },
    {
     "name": "stderr",
     "output_type": "stream",
     "text": [
      "[I 2019-04-02 20:27:22,717] Finished trial#21 resulted in value: -0.8875946248468608. Current best value is -0.8931722847684866 with parameters: {'feature_fraction': 0.9502433638956223, 'learning_rate': 0.017027901579411885, 'subsample': 0.8710147349213191, 'min_data_in_leaf': 80, 'min_sum_hessian_in_leaf': 0.0028357558369591237, 'bagging_fraction': 0.9388322188642676, 'bagging_freq': 8, 'min_gain_to_split': 0.9838308261781148, 'lambda_l1': 0.0412603718547197, 'lambda_l2': 0.3318398128624334, 'num_leaves': 18, 'max_bin': 192}.\n"
     ]
    },
    {
     "name": "stdout",
     "output_type": "stream",
     "text": [
      "Training until validation scores don't improve for 100 rounds.\n",
      "Early stopping, best iteration is:\n",
      "[49]\tvalid_0's auc: 0.890517\n"
     ]
    },
    {
     "name": "stderr",
     "output_type": "stream",
     "text": [
      "[I 2019-04-02 20:27:29,001] Finished trial#22 resulted in value: -0.8905171474478635. Current best value is -0.8931722847684866 with parameters: {'feature_fraction': 0.9502433638956223, 'learning_rate': 0.017027901579411885, 'subsample': 0.8710147349213191, 'min_data_in_leaf': 80, 'min_sum_hessian_in_leaf': 0.0028357558369591237, 'bagging_fraction': 0.9388322188642676, 'bagging_freq': 8, 'min_gain_to_split': 0.9838308261781148, 'lambda_l1': 0.0412603718547197, 'lambda_l2': 0.3318398128624334, 'num_leaves': 18, 'max_bin': 192}.\n"
     ]
    },
    {
     "name": "stdout",
     "output_type": "stream",
     "text": [
      "Training until validation scores don't improve for 100 rounds.\n",
      "[200]\tvalid_0's auc: 0.89026\n",
      "Early stopping, best iteration is:\n",
      "[177]\tvalid_0's auc: 0.890502\n"
     ]
    },
    {
     "name": "stderr",
     "output_type": "stream",
     "text": [
      "[I 2019-04-02 20:27:43,199] Finished trial#23 resulted in value: -0.8905016191969557. Current best value is -0.8931722847684866 with parameters: {'feature_fraction': 0.9502433638956223, 'learning_rate': 0.017027901579411885, 'subsample': 0.8710147349213191, 'min_data_in_leaf': 80, 'min_sum_hessian_in_leaf': 0.0028357558369591237, 'bagging_fraction': 0.9388322188642676, 'bagging_freq': 8, 'min_gain_to_split': 0.9838308261781148, 'lambda_l1': 0.0412603718547197, 'lambda_l2': 0.3318398128624334, 'num_leaves': 18, 'max_bin': 192}.\n"
     ]
    },
    {
     "name": "stdout",
     "output_type": "stream",
     "text": [
      "Training until validation scores don't improve for 100 rounds.\n",
      "Early stopping, best iteration is:\n",
      "[12]\tvalid_0's auc: 0.88507\n"
     ]
    },
    {
     "name": "stderr",
     "output_type": "stream",
     "text": [
      "[I 2019-04-02 20:27:48,406] Finished trial#24 resulted in value: -0.8850703714612042. Current best value is -0.8931722847684866 with parameters: {'feature_fraction': 0.9502433638956223, 'learning_rate': 0.017027901579411885, 'subsample': 0.8710147349213191, 'min_data_in_leaf': 80, 'min_sum_hessian_in_leaf': 0.0028357558369591237, 'bagging_fraction': 0.9388322188642676, 'bagging_freq': 8, 'min_gain_to_split': 0.9838308261781148, 'lambda_l1': 0.0412603718547197, 'lambda_l2': 0.3318398128624334, 'num_leaves': 18, 'max_bin': 192}.\n"
     ]
    },
    {
     "name": "stdout",
     "output_type": "stream",
     "text": [
      "Training until validation scores don't improve for 100 rounds.\n",
      "Early stopping, best iteration is:\n",
      "[6]\tvalid_0's auc: 0.884153\n"
     ]
    },
    {
     "name": "stderr",
     "output_type": "stream",
     "text": [
      "[I 2019-04-02 20:27:52,526] Finished trial#25 resulted in value: -0.8841528806772143. Current best value is -0.8931722847684866 with parameters: {'feature_fraction': 0.9502433638956223, 'learning_rate': 0.017027901579411885, 'subsample': 0.8710147349213191, 'min_data_in_leaf': 80, 'min_sum_hessian_in_leaf': 0.0028357558369591237, 'bagging_fraction': 0.9388322188642676, 'bagging_freq': 8, 'min_gain_to_split': 0.9838308261781148, 'lambda_l1': 0.0412603718547197, 'lambda_l2': 0.3318398128624334, 'num_leaves': 18, 'max_bin': 192}.\n"
     ]
    },
    {
     "name": "stdout",
     "output_type": "stream",
     "text": [
      "Training until validation scores don't improve for 100 rounds.\n",
      "Early stopping, best iteration is:\n",
      "[24]\tvalid_0's auc: 0.887989\n"
     ]
    },
    {
     "name": "stderr",
     "output_type": "stream",
     "text": [
      "[I 2019-04-02 20:27:57,608] Finished trial#26 resulted in value: -0.8879891122486512. Current best value is -0.8931722847684866 with parameters: {'feature_fraction': 0.9502433638956223, 'learning_rate': 0.017027901579411885, 'subsample': 0.8710147349213191, 'min_data_in_leaf': 80, 'min_sum_hessian_in_leaf': 0.0028357558369591237, 'bagging_fraction': 0.9388322188642676, 'bagging_freq': 8, 'min_gain_to_split': 0.9838308261781148, 'lambda_l1': 0.0412603718547197, 'lambda_l2': 0.3318398128624334, 'num_leaves': 18, 'max_bin': 192}.\n"
     ]
    },
    {
     "name": "stdout",
     "output_type": "stream",
     "text": [
      "Training until validation scores don't improve for 100 rounds.\n",
      "Early stopping, best iteration is:\n",
      "[72]\tvalid_0's auc: 0.889268\n"
     ]
    },
    {
     "name": "stderr",
     "output_type": "stream",
     "text": [
      "[I 2019-04-02 20:28:07,018] Finished trial#27 resulted in value: -0.889268464514559. Current best value is -0.8931722847684866 with parameters: {'feature_fraction': 0.9502433638956223, 'learning_rate': 0.017027901579411885, 'subsample': 0.8710147349213191, 'min_data_in_leaf': 80, 'min_sum_hessian_in_leaf': 0.0028357558369591237, 'bagging_fraction': 0.9388322188642676, 'bagging_freq': 8, 'min_gain_to_split': 0.9838308261781148, 'lambda_l1': 0.0412603718547197, 'lambda_l2': 0.3318398128624334, 'num_leaves': 18, 'max_bin': 192}.\n"
     ]
    },
    {
     "name": "stdout",
     "output_type": "stream",
     "text": [
      "Training until validation scores don't improve for 100 rounds.\n",
      "Early stopping, best iteration is:\n",
      "[21]\tvalid_0's auc: 0.88684\n"
     ]
    },
    {
     "name": "stderr",
     "output_type": "stream",
     "text": [
      "[I 2019-04-02 20:28:15,060] Finished trial#28 resulted in value: -0.8868396379691315. Current best value is -0.8931722847684866 with parameters: {'feature_fraction': 0.9502433638956223, 'learning_rate': 0.017027901579411885, 'subsample': 0.8710147349213191, 'min_data_in_leaf': 80, 'min_sum_hessian_in_leaf': 0.0028357558369591237, 'bagging_fraction': 0.9388322188642676, 'bagging_freq': 8, 'min_gain_to_split': 0.9838308261781148, 'lambda_l1': 0.0412603718547197, 'lambda_l2': 0.3318398128624334, 'num_leaves': 18, 'max_bin': 192}.\n"
     ]
    },
    {
     "name": "stdout",
     "output_type": "stream",
     "text": [
      "Training until validation scores don't improve for 100 rounds.\n",
      "Early stopping, best iteration is:\n",
      "[4]\tvalid_0's auc: 0.883591\n"
     ]
    },
    {
     "name": "stderr",
     "output_type": "stream",
     "text": [
      "[I 2019-04-02 20:28:21,196] Finished trial#29 resulted in value: -0.883591080865821. Current best value is -0.8931722847684866 with parameters: {'feature_fraction': 0.9502433638956223, 'learning_rate': 0.017027901579411885, 'subsample': 0.8710147349213191, 'min_data_in_leaf': 80, 'min_sum_hessian_in_leaf': 0.0028357558369591237, 'bagging_fraction': 0.9388322188642676, 'bagging_freq': 8, 'min_gain_to_split': 0.9838308261781148, 'lambda_l1': 0.0412603718547197, 'lambda_l2': 0.3318398128624334, 'num_leaves': 18, 'max_bin': 192}.\n"
     ]
    },
    {
     "name": "stdout",
     "output_type": "stream",
     "text": [
      "Training until validation scores don't improve for 100 rounds.\n",
      "Early stopping, best iteration is:\n",
      "[14]\tvalid_0's auc: 0.886888\n"
     ]
    },
    {
     "name": "stderr",
     "output_type": "stream",
     "text": [
      "[I 2019-04-02 20:28:27,257] Finished trial#30 resulted in value: -0.8868878612772713. Current best value is -0.8931722847684866 with parameters: {'feature_fraction': 0.9502433638956223, 'learning_rate': 0.017027901579411885, 'subsample': 0.8710147349213191, 'min_data_in_leaf': 80, 'min_sum_hessian_in_leaf': 0.0028357558369591237, 'bagging_fraction': 0.9388322188642676, 'bagging_freq': 8, 'min_gain_to_split': 0.9838308261781148, 'lambda_l1': 0.0412603718547197, 'lambda_l2': 0.3318398128624334, 'num_leaves': 18, 'max_bin': 192}.\n"
     ]
    },
    {
     "name": "stdout",
     "output_type": "stream",
     "text": [
      "Training until validation scores don't improve for 100 rounds.\n",
      "[200]\tvalid_0's auc: 0.891007\n",
      "[400]\tvalid_0's auc: 0.892035\n",
      "Early stopping, best iteration is:\n",
      "[396]\tvalid_0's auc: 0.892173\n"
     ]
    },
    {
     "name": "stderr",
     "output_type": "stream",
     "text": [
      "[I 2019-04-02 20:28:54,306] Finished trial#31 resulted in value: -0.8921732775809667. Current best value is -0.8931722847684866 with parameters: {'feature_fraction': 0.9502433638956223, 'learning_rate': 0.017027901579411885, 'subsample': 0.8710147349213191, 'min_data_in_leaf': 80, 'min_sum_hessian_in_leaf': 0.0028357558369591237, 'bagging_fraction': 0.9388322188642676, 'bagging_freq': 8, 'min_gain_to_split': 0.9838308261781148, 'lambda_l1': 0.0412603718547197, 'lambda_l2': 0.3318398128624334, 'num_leaves': 18, 'max_bin': 192}.\n"
     ]
    },
    {
     "name": "stdout",
     "output_type": "stream",
     "text": [
      "Training until validation scores don't improve for 100 rounds.\n",
      "Early stopping, best iteration is:\n",
      "[63]\tvalid_0's auc: 0.88871\n"
     ]
    },
    {
     "name": "stderr",
     "output_type": "stream",
     "text": [
      "[I 2019-04-02 20:29:01,749] Finished trial#32 resulted in value: -0.888710297871399. Current best value is -0.8931722847684866 with parameters: {'feature_fraction': 0.9502433638956223, 'learning_rate': 0.017027901579411885, 'subsample': 0.8710147349213191, 'min_data_in_leaf': 80, 'min_sum_hessian_in_leaf': 0.0028357558369591237, 'bagging_fraction': 0.9388322188642676, 'bagging_freq': 8, 'min_gain_to_split': 0.9838308261781148, 'lambda_l1': 0.0412603718547197, 'lambda_l2': 0.3318398128624334, 'num_leaves': 18, 'max_bin': 192}.\n"
     ]
    },
    {
     "name": "stdout",
     "output_type": "stream",
     "text": [
      "Training until validation scores don't improve for 100 rounds.\n",
      "Early stopping, best iteration is:\n",
      "[3]\tvalid_0's auc: 0.883507\n"
     ]
    },
    {
     "name": "stderr",
     "output_type": "stream",
     "text": [
      "[I 2019-04-02 20:29:06,490] Finished trial#33 resulted in value: -0.8835069683544478. Current best value is -0.8931722847684866 with parameters: {'feature_fraction': 0.9502433638956223, 'learning_rate': 0.017027901579411885, 'subsample': 0.8710147349213191, 'min_data_in_leaf': 80, 'min_sum_hessian_in_leaf': 0.0028357558369591237, 'bagging_fraction': 0.9388322188642676, 'bagging_freq': 8, 'min_gain_to_split': 0.9838308261781148, 'lambda_l1': 0.0412603718547197, 'lambda_l2': 0.3318398128624334, 'num_leaves': 18, 'max_bin': 192}.\n"
     ]
    },
    {
     "name": "stdout",
     "output_type": "stream",
     "text": [
      "Training until validation scores don't improve for 100 rounds.\n",
      "Early stopping, best iteration is:\n",
      "[12]\tvalid_0's auc: 0.886899\n"
     ]
    },
    {
     "name": "stderr",
     "output_type": "stream",
     "text": [
      "[I 2019-04-02 20:29:11,303] Finished trial#34 resulted in value: -0.8868992862259022. Current best value is -0.8931722847684866 with parameters: {'feature_fraction': 0.9502433638956223, 'learning_rate': 0.017027901579411885, 'subsample': 0.8710147349213191, 'min_data_in_leaf': 80, 'min_sum_hessian_in_leaf': 0.0028357558369591237, 'bagging_fraction': 0.9388322188642676, 'bagging_freq': 8, 'min_gain_to_split': 0.9838308261781148, 'lambda_l1': 0.0412603718547197, 'lambda_l2': 0.3318398128624334, 'num_leaves': 18, 'max_bin': 192}.\n"
     ]
    },
    {
     "name": "stdout",
     "output_type": "stream",
     "text": [
      "Training until validation scores don't improve for 100 rounds.\n",
      "[200]\tvalid_0's auc: 0.890316\n",
      "Early stopping, best iteration is:\n",
      "[132]\tvalid_0's auc: 0.890692\n"
     ]
    },
    {
     "name": "stderr",
     "output_type": "stream",
     "text": [
      "[I 2019-04-02 20:29:21,358] Finished trial#35 resulted in value: -0.8906916363153659. Current best value is -0.8931722847684866 with parameters: {'feature_fraction': 0.9502433638956223, 'learning_rate': 0.017027901579411885, 'subsample': 0.8710147349213191, 'min_data_in_leaf': 80, 'min_sum_hessian_in_leaf': 0.0028357558369591237, 'bagging_fraction': 0.9388322188642676, 'bagging_freq': 8, 'min_gain_to_split': 0.9838308261781148, 'lambda_l1': 0.0412603718547197, 'lambda_l2': 0.3318398128624334, 'num_leaves': 18, 'max_bin': 192}.\n"
     ]
    },
    {
     "name": "stdout",
     "output_type": "stream",
     "text": [
      "Training until validation scores don't improve for 100 rounds.\n",
      "Early stopping, best iteration is:\n",
      "[13]\tvalid_0's auc: 0.88631\n"
     ]
    },
    {
     "name": "stderr",
     "output_type": "stream",
     "text": [
      "[I 2019-04-02 20:29:25,861] Finished trial#36 resulted in value: -0.8863101564163618. Current best value is -0.8931722847684866 with parameters: {'feature_fraction': 0.9502433638956223, 'learning_rate': 0.017027901579411885, 'subsample': 0.8710147349213191, 'min_data_in_leaf': 80, 'min_sum_hessian_in_leaf': 0.0028357558369591237, 'bagging_fraction': 0.9388322188642676, 'bagging_freq': 8, 'min_gain_to_split': 0.9838308261781148, 'lambda_l1': 0.0412603718547197, 'lambda_l2': 0.3318398128624334, 'num_leaves': 18, 'max_bin': 192}.\n"
     ]
    },
    {
     "name": "stdout",
     "output_type": "stream",
     "text": [
      "Training until validation scores don't improve for 100 rounds.\n",
      "Early stopping, best iteration is:\n",
      "[49]\tvalid_0's auc: 0.888415\n"
     ]
    },
    {
     "name": "stderr",
     "output_type": "stream",
     "text": [
      "[I 2019-04-02 20:29:32,408] Finished trial#37 resulted in value: -0.8884145697305579. Current best value is -0.8931722847684866 with parameters: {'feature_fraction': 0.9502433638956223, 'learning_rate': 0.017027901579411885, 'subsample': 0.8710147349213191, 'min_data_in_leaf': 80, 'min_sum_hessian_in_leaf': 0.0028357558369591237, 'bagging_fraction': 0.9388322188642676, 'bagging_freq': 8, 'min_gain_to_split': 0.9838308261781148, 'lambda_l1': 0.0412603718547197, 'lambda_l2': 0.3318398128624334, 'num_leaves': 18, 'max_bin': 192}.\n"
     ]
    },
    {
     "name": "stdout",
     "output_type": "stream",
     "text": [
      "Training until validation scores don't improve for 100 rounds.\n",
      "Early stopping, best iteration is:\n",
      "[20]\tvalid_0's auc: 0.888022\n"
     ]
    },
    {
     "name": "stderr",
     "output_type": "stream",
     "text": [
      "[I 2019-04-02 20:29:37,686] Finished trial#38 resulted in value: -0.8880219040981862. Current best value is -0.8931722847684866 with parameters: {'feature_fraction': 0.9502433638956223, 'learning_rate': 0.017027901579411885, 'subsample': 0.8710147349213191, 'min_data_in_leaf': 80, 'min_sum_hessian_in_leaf': 0.0028357558369591237, 'bagging_fraction': 0.9388322188642676, 'bagging_freq': 8, 'min_gain_to_split': 0.9838308261781148, 'lambda_l1': 0.0412603718547197, 'lambda_l2': 0.3318398128624334, 'num_leaves': 18, 'max_bin': 192}.\n"
     ]
    },
    {
     "name": "stdout",
     "output_type": "stream",
     "text": [
      "Training until validation scores don't improve for 100 rounds.\n",
      "Early stopping, best iteration is:\n",
      "[15]\tvalid_0's auc: 0.88651\n"
     ]
    },
    {
     "name": "stderr",
     "output_type": "stream",
     "text": [
      "[I 2019-04-02 20:29:42,587] Finished trial#39 resulted in value: -0.8865096280686616. Current best value is -0.8931722847684866 with parameters: {'feature_fraction': 0.9502433638956223, 'learning_rate': 0.017027901579411885, 'subsample': 0.8710147349213191, 'min_data_in_leaf': 80, 'min_sum_hessian_in_leaf': 0.0028357558369591237, 'bagging_fraction': 0.9388322188642676, 'bagging_freq': 8, 'min_gain_to_split': 0.9838308261781148, 'lambda_l1': 0.0412603718547197, 'lambda_l2': 0.3318398128624334, 'num_leaves': 18, 'max_bin': 192}.\n"
     ]
    },
    {
     "name": "stdout",
     "output_type": "stream",
     "text": [
      "Training until validation scores don't improve for 100 rounds.\n",
      "Early stopping, best iteration is:\n",
      "[15]\tvalid_0's auc: 0.886485\n"
     ]
    },
    {
     "name": "stderr",
     "output_type": "stream",
     "text": [
      "[I 2019-04-02 20:29:48,682] Finished trial#40 resulted in value: -0.8864850117118688. Current best value is -0.8931722847684866 with parameters: {'feature_fraction': 0.9502433638956223, 'learning_rate': 0.017027901579411885, 'subsample': 0.8710147349213191, 'min_data_in_leaf': 80, 'min_sum_hessian_in_leaf': 0.0028357558369591237, 'bagging_fraction': 0.9388322188642676, 'bagging_freq': 8, 'min_gain_to_split': 0.9838308261781148, 'lambda_l1': 0.0412603718547197, 'lambda_l2': 0.3318398128624334, 'num_leaves': 18, 'max_bin': 192}.\n"
     ]
    },
    {
     "name": "stdout",
     "output_type": "stream",
     "text": [
      "Training until validation scores don't improve for 100 rounds.\n",
      "[200]\tvalid_0's auc: 0.891302\n",
      "[400]\tvalid_0's auc: 0.892505\n",
      "Early stopping, best iteration is:\n",
      "[449]\tvalid_0's auc: 0.892575\n"
     ]
    },
    {
     "name": "stderr",
     "output_type": "stream",
     "text": [
      "[I 2019-04-02 20:30:11,976] Finished trial#41 resulted in value: -0.8925753458942088. Current best value is -0.8931722847684866 with parameters: {'feature_fraction': 0.9502433638956223, 'learning_rate': 0.017027901579411885, 'subsample': 0.8710147349213191, 'min_data_in_leaf': 80, 'min_sum_hessian_in_leaf': 0.0028357558369591237, 'bagging_fraction': 0.9388322188642676, 'bagging_freq': 8, 'min_gain_to_split': 0.9838308261781148, 'lambda_l1': 0.0412603718547197, 'lambda_l2': 0.3318398128624334, 'num_leaves': 18, 'max_bin': 192}.\n"
     ]
    },
    {
     "name": "stdout",
     "output_type": "stream",
     "text": [
      "Training until validation scores don't improve for 100 rounds.\n",
      "Early stopping, best iteration is:\n",
      "[31]\tvalid_0's auc: 0.8873\n"
     ]
    },
    {
     "name": "stderr",
     "output_type": "stream",
     "text": [
      "[I 2019-04-02 20:30:16,532] Finished trial#42 resulted in value: -0.887299688328784. Current best value is -0.8931722847684866 with parameters: {'feature_fraction': 0.9502433638956223, 'learning_rate': 0.017027901579411885, 'subsample': 0.8710147349213191, 'min_data_in_leaf': 80, 'min_sum_hessian_in_leaf': 0.0028357558369591237, 'bagging_fraction': 0.9388322188642676, 'bagging_freq': 8, 'min_gain_to_split': 0.9838308261781148, 'lambda_l1': 0.0412603718547197, 'lambda_l2': 0.3318398128624334, 'num_leaves': 18, 'max_bin': 192}.\n"
     ]
    },
    {
     "name": "stdout",
     "output_type": "stream",
     "text": [
      "Training until validation scores don't improve for 100 rounds.\n",
      "Early stopping, best iteration is:\n",
      "[4]\tvalid_0's auc: 0.884032\n"
     ]
    },
    {
     "name": "stderr",
     "output_type": "stream",
     "text": [
      "[I 2019-04-02 20:30:21,133] Finished trial#43 resulted in value: -0.8840319732632003. Current best value is -0.8931722847684866 with parameters: {'feature_fraction': 0.9502433638956223, 'learning_rate': 0.017027901579411885, 'subsample': 0.8710147349213191, 'min_data_in_leaf': 80, 'min_sum_hessian_in_leaf': 0.0028357558369591237, 'bagging_fraction': 0.9388322188642676, 'bagging_freq': 8, 'min_gain_to_split': 0.9838308261781148, 'lambda_l1': 0.0412603718547197, 'lambda_l2': 0.3318398128624334, 'num_leaves': 18, 'max_bin': 192}.\n"
     ]
    },
    {
     "name": "stdout",
     "output_type": "stream",
     "text": [
      "Training until validation scores don't improve for 100 rounds.\n",
      "Early stopping, best iteration is:\n",
      "[95]\tvalid_0's auc: 0.890419\n"
     ]
    },
    {
     "name": "stderr",
     "output_type": "stream",
     "text": [
      "[I 2019-04-02 20:30:28,547] Finished trial#44 resulted in value: -0.8904190207937522. Current best value is -0.8931722847684866 with parameters: {'feature_fraction': 0.9502433638956223, 'learning_rate': 0.017027901579411885, 'subsample': 0.8710147349213191, 'min_data_in_leaf': 80, 'min_sum_hessian_in_leaf': 0.0028357558369591237, 'bagging_fraction': 0.9388322188642676, 'bagging_freq': 8, 'min_gain_to_split': 0.9838308261781148, 'lambda_l1': 0.0412603718547197, 'lambda_l2': 0.3318398128624334, 'num_leaves': 18, 'max_bin': 192}.\n"
     ]
    },
    {
     "name": "stdout",
     "output_type": "stream",
     "text": [
      "Training until validation scores don't improve for 100 rounds.\n",
      "Early stopping, best iteration is:\n",
      "[11]\tvalid_0's auc: 0.88496\n"
     ]
    },
    {
     "name": "stderr",
     "output_type": "stream",
     "text": [
      "[I 2019-04-02 20:30:33,102] Finished trial#45 resulted in value: -0.8849596341527493. Current best value is -0.8931722847684866 with parameters: {'feature_fraction': 0.9502433638956223, 'learning_rate': 0.017027901579411885, 'subsample': 0.8710147349213191, 'min_data_in_leaf': 80, 'min_sum_hessian_in_leaf': 0.0028357558369591237, 'bagging_fraction': 0.9388322188642676, 'bagging_freq': 8, 'min_gain_to_split': 0.9838308261781148, 'lambda_l1': 0.0412603718547197, 'lambda_l2': 0.3318398128624334, 'num_leaves': 18, 'max_bin': 192}.\n"
     ]
    },
    {
     "name": "stdout",
     "output_type": "stream",
     "text": [
      "Training until validation scores don't improve for 100 rounds.\n",
      "[200]\tvalid_0's auc: 0.884174\n",
      "[400]\tvalid_0's auc: 0.886075\n",
      "[600]\tvalid_0's auc: 0.886986\n",
      "[800]\tvalid_0's auc: 0.888139\n",
      "[1000]\tvalid_0's auc: 0.889248\n",
      "[1200]\tvalid_0's auc: 0.890047\n",
      "[1400]\tvalid_0's auc: 0.89067\n",
      "[1600]\tvalid_0's auc: 0.891177\n",
      "[1800]\tvalid_0's auc: 0.891541\n",
      "[2000]\tvalid_0's auc: 0.891935\n",
      "[2200]\tvalid_0's auc: 0.89216\n",
      "[2400]\tvalid_0's auc: 0.892357\n",
      "[2600]\tvalid_0's auc: 0.892574\n",
      "[2800]\tvalid_0's auc: 0.892694\n",
      "[3000]\tvalid_0's auc: 0.892918\n",
      "[3200]\tvalid_0's auc: 0.892954\n",
      "[3400]\tvalid_0's auc: 0.893002\n",
      "[3600]\tvalid_0's auc: 0.893065\n",
      "Early stopping, best iteration is:\n",
      "[3581]\tvalid_0's auc: 0.893073\n"
     ]
    },
    {
     "name": "stderr",
     "output_type": "stream",
     "text": [
      "[I 2019-04-02 20:33:09,664] Finished trial#46 resulted in value: -0.8930731971050805. Current best value is -0.8931722847684866 with parameters: {'feature_fraction': 0.9502433638956223, 'learning_rate': 0.017027901579411885, 'subsample': 0.8710147349213191, 'min_data_in_leaf': 80, 'min_sum_hessian_in_leaf': 0.0028357558369591237, 'bagging_fraction': 0.9388322188642676, 'bagging_freq': 8, 'min_gain_to_split': 0.9838308261781148, 'lambda_l1': 0.0412603718547197, 'lambda_l2': 0.3318398128624334, 'num_leaves': 18, 'max_bin': 192}.\n"
     ]
    },
    {
     "name": "stdout",
     "output_type": "stream",
     "text": [
      "Training until validation scores don't improve for 100 rounds.\n",
      "Early stopping, best iteration is:\n",
      "[21]\tvalid_0's auc: 0.887534\n"
     ]
    },
    {
     "name": "stderr",
     "output_type": "stream",
     "text": [
      "[I 2019-04-02 20:33:15,383] Finished trial#47 resulted in value: -0.8875340985456266. Current best value is -0.8931722847684866 with parameters: {'feature_fraction': 0.9502433638956223, 'learning_rate': 0.017027901579411885, 'subsample': 0.8710147349213191, 'min_data_in_leaf': 80, 'min_sum_hessian_in_leaf': 0.0028357558369591237, 'bagging_fraction': 0.9388322188642676, 'bagging_freq': 8, 'min_gain_to_split': 0.9838308261781148, 'lambda_l1': 0.0412603718547197, 'lambda_l2': 0.3318398128624334, 'num_leaves': 18, 'max_bin': 192}.\n"
     ]
    },
    {
     "name": "stdout",
     "output_type": "stream",
     "text": [
      "Training until validation scores don't improve for 100 rounds.\n",
      "Early stopping, best iteration is:\n",
      "[38]\tvalid_0's auc: 0.888434\n"
     ]
    },
    {
     "name": "stderr",
     "output_type": "stream",
     "text": [
      "[I 2019-04-02 20:33:22,126] Finished trial#48 resulted in value: -0.8884336931241514. Current best value is -0.8931722847684866 with parameters: {'feature_fraction': 0.9502433638956223, 'learning_rate': 0.017027901579411885, 'subsample': 0.8710147349213191, 'min_data_in_leaf': 80, 'min_sum_hessian_in_leaf': 0.0028357558369591237, 'bagging_fraction': 0.9388322188642676, 'bagging_freq': 8, 'min_gain_to_split': 0.9838308261781148, 'lambda_l1': 0.0412603718547197, 'lambda_l2': 0.3318398128624334, 'num_leaves': 18, 'max_bin': 192}.\n"
     ]
    },
    {
     "name": "stdout",
     "output_type": "stream",
     "text": [
      "Training until validation scores don't improve for 100 rounds.\n",
      "[200]\tvalid_0's auc: 0.891159\n",
      "[400]\tvalid_0's auc: 0.892172\n",
      "[600]\tvalid_0's auc: 0.892292\n",
      "Early stopping, best iteration is:\n",
      "[514]\tvalid_0's auc: 0.892563\n"
     ]
    },
    {
     "name": "stderr",
     "output_type": "stream",
     "text": [
      "[I 2019-04-02 20:33:46,670] Finished trial#49 resulted in value: -0.8925633090799476. Current best value is -0.8931722847684866 with parameters: {'feature_fraction': 0.9502433638956223, 'learning_rate': 0.017027901579411885, 'subsample': 0.8710147349213191, 'min_data_in_leaf': 80, 'min_sum_hessian_in_leaf': 0.0028357558369591237, 'bagging_fraction': 0.9388322188642676, 'bagging_freq': 8, 'min_gain_to_split': 0.9838308261781148, 'lambda_l1': 0.0412603718547197, 'lambda_l2': 0.3318398128624334, 'num_leaves': 18, 'max_bin': 192}.\n"
     ]
    },
    {
     "name": "stdout",
     "output_type": "stream",
     "text": [
      "Training until validation scores don't improve for 100 rounds.\n",
      "Early stopping, best iteration is:\n",
      "[9]\tvalid_0's auc: 0.885435\n"
     ]
    },
    {
     "name": "stderr",
     "output_type": "stream",
     "text": [
      "[I 2019-04-02 20:33:51,862] Finished trial#50 resulted in value: -0.8854354685715391. Current best value is -0.8931722847684866 with parameters: {'feature_fraction': 0.9502433638956223, 'learning_rate': 0.017027901579411885, 'subsample': 0.8710147349213191, 'min_data_in_leaf': 80, 'min_sum_hessian_in_leaf': 0.0028357558369591237, 'bagging_fraction': 0.9388322188642676, 'bagging_freq': 8, 'min_gain_to_split': 0.9838308261781148, 'lambda_l1': 0.0412603718547197, 'lambda_l2': 0.3318398128624334, 'num_leaves': 18, 'max_bin': 192}.\n"
     ]
    },
    {
     "name": "stdout",
     "output_type": "stream",
     "text": [
      "Training until validation scores don't improve for 100 rounds.\n",
      "Early stopping, best iteration is:\n",
      "[18]\tvalid_0's auc: 0.886414\n"
     ]
    },
    {
     "name": "stderr",
     "output_type": "stream",
     "text": [
      "[I 2019-04-02 20:33:56,524] Finished trial#51 resulted in value: -0.8864139004809195. Current best value is -0.8931722847684866 with parameters: {'feature_fraction': 0.9502433638956223, 'learning_rate': 0.017027901579411885, 'subsample': 0.8710147349213191, 'min_data_in_leaf': 80, 'min_sum_hessian_in_leaf': 0.0028357558369591237, 'bagging_fraction': 0.9388322188642676, 'bagging_freq': 8, 'min_gain_to_split': 0.9838308261781148, 'lambda_l1': 0.0412603718547197, 'lambda_l2': 0.3318398128624334, 'num_leaves': 18, 'max_bin': 192}.\n"
     ]
    },
    {
     "name": "stdout",
     "output_type": "stream",
     "text": [
      "Training until validation scores don't improve for 100 rounds.\n",
      "Early stopping, best iteration is:\n",
      "[5]\tvalid_0's auc: 0.884205\n"
     ]
    },
    {
     "name": "stderr",
     "output_type": "stream",
     "text": [
      "[I 2019-04-02 20:34:01,584] Finished trial#52 resulted in value: -0.8842054319840488. Current best value is -0.8931722847684866 with parameters: {'feature_fraction': 0.9502433638956223, 'learning_rate': 0.017027901579411885, 'subsample': 0.8710147349213191, 'min_data_in_leaf': 80, 'min_sum_hessian_in_leaf': 0.0028357558369591237, 'bagging_fraction': 0.9388322188642676, 'bagging_freq': 8, 'min_gain_to_split': 0.9838308261781148, 'lambda_l1': 0.0412603718547197, 'lambda_l2': 0.3318398128624334, 'num_leaves': 18, 'max_bin': 192}.\n"
     ]
    },
    {
     "name": "stdout",
     "output_type": "stream",
     "text": [
      "Training until validation scores don't improve for 100 rounds.\n",
      "Early stopping, best iteration is:\n",
      "[12]\tvalid_0's auc: 0.885631\n"
     ]
    },
    {
     "name": "stderr",
     "output_type": "stream",
     "text": [
      "[I 2019-04-02 20:34:06,104] Finished trial#53 resulted in value: -0.885631082359188. Current best value is -0.8931722847684866 with parameters: {'feature_fraction': 0.9502433638956223, 'learning_rate': 0.017027901579411885, 'subsample': 0.8710147349213191, 'min_data_in_leaf': 80, 'min_sum_hessian_in_leaf': 0.0028357558369591237, 'bagging_fraction': 0.9388322188642676, 'bagging_freq': 8, 'min_gain_to_split': 0.9838308261781148, 'lambda_l1': 0.0412603718547197, 'lambda_l2': 0.3318398128624334, 'num_leaves': 18, 'max_bin': 192}.\n"
     ]
    },
    {
     "name": "stdout",
     "output_type": "stream",
     "text": [
      "Training until validation scores don't improve for 100 rounds.\n",
      "[200]\tvalid_0's auc: 0.8903\n",
      "Early stopping, best iteration is:\n",
      "[174]\tvalid_0's auc: 0.890651\n"
     ]
    },
    {
     "name": "stderr",
     "output_type": "stream",
     "text": [
      "[I 2019-04-02 20:34:17,104] Finished trial#54 resulted in value: -0.8906508936695068. Current best value is -0.8931722847684866 with parameters: {'feature_fraction': 0.9502433638956223, 'learning_rate': 0.017027901579411885, 'subsample': 0.8710147349213191, 'min_data_in_leaf': 80, 'min_sum_hessian_in_leaf': 0.0028357558369591237, 'bagging_fraction': 0.9388322188642676, 'bagging_freq': 8, 'min_gain_to_split': 0.9838308261781148, 'lambda_l1': 0.0412603718547197, 'lambda_l2': 0.3318398128624334, 'num_leaves': 18, 'max_bin': 192}.\n"
     ]
    },
    {
     "name": "stdout",
     "output_type": "stream",
     "text": [
      "Training until validation scores don't improve for 100 rounds.\n",
      "Early stopping, best iteration is:\n",
      "[47]\tvalid_0's auc: 0.887464\n"
     ]
    },
    {
     "name": "stderr",
     "output_type": "stream",
     "text": [
      "[I 2019-04-02 20:34:22,793] Finished trial#55 resulted in value: -0.8874639379533681. Current best value is -0.8931722847684866 with parameters: {'feature_fraction': 0.9502433638956223, 'learning_rate': 0.017027901579411885, 'subsample': 0.8710147349213191, 'min_data_in_leaf': 80, 'min_sum_hessian_in_leaf': 0.0028357558369591237, 'bagging_fraction': 0.9388322188642676, 'bagging_freq': 8, 'min_gain_to_split': 0.9838308261781148, 'lambda_l1': 0.0412603718547197, 'lambda_l2': 0.3318398128624334, 'num_leaves': 18, 'max_bin': 192}.\n"
     ]
    },
    {
     "name": "stdout",
     "output_type": "stream",
     "text": [
      "Training until validation scores don't improve for 100 rounds.\n",
      "Early stopping, best iteration is:\n",
      "[23]\tvalid_0's auc: 0.888272\n"
     ]
    },
    {
     "name": "stderr",
     "output_type": "stream",
     "text": [
      "[I 2019-04-02 20:34:27,400] Finished trial#56 resulted in value: -0.8882719393582393. Current best value is -0.8931722847684866 with parameters: {'feature_fraction': 0.9502433638956223, 'learning_rate': 0.017027901579411885, 'subsample': 0.8710147349213191, 'min_data_in_leaf': 80, 'min_sum_hessian_in_leaf': 0.0028357558369591237, 'bagging_fraction': 0.9388322188642676, 'bagging_freq': 8, 'min_gain_to_split': 0.9838308261781148, 'lambda_l1': 0.0412603718547197, 'lambda_l2': 0.3318398128624334, 'num_leaves': 18, 'max_bin': 192}.\n"
     ]
    },
    {
     "name": "stdout",
     "output_type": "stream",
     "text": [
      "Training until validation scores don't improve for 100 rounds.\n",
      "Early stopping, best iteration is:\n",
      "[4]\tvalid_0's auc: 0.883891\n"
     ]
    },
    {
     "name": "stderr",
     "output_type": "stream",
     "text": [
      "[I 2019-04-02 20:34:32,088] Finished trial#57 resulted in value: -0.8838913582449066. Current best value is -0.8931722847684866 with parameters: {'feature_fraction': 0.9502433638956223, 'learning_rate': 0.017027901579411885, 'subsample': 0.8710147349213191, 'min_data_in_leaf': 80, 'min_sum_hessian_in_leaf': 0.0028357558369591237, 'bagging_fraction': 0.9388322188642676, 'bagging_freq': 8, 'min_gain_to_split': 0.9838308261781148, 'lambda_l1': 0.0412603718547197, 'lambda_l2': 0.3318398128624334, 'num_leaves': 18, 'max_bin': 192}.\n"
     ]
    },
    {
     "name": "stdout",
     "output_type": "stream",
     "text": [
      "Training until validation scores don't improve for 100 rounds.\n",
      "Early stopping, best iteration is:\n",
      "[8]\tvalid_0's auc: 0.885462\n"
     ]
    },
    {
     "name": "stderr",
     "output_type": "stream",
     "text": [
      "[I 2019-04-02 20:34:36,836] Finished trial#58 resulted in value: -0.8854622523845477. Current best value is -0.8931722847684866 with parameters: {'feature_fraction': 0.9502433638956223, 'learning_rate': 0.017027901579411885, 'subsample': 0.8710147349213191, 'min_data_in_leaf': 80, 'min_sum_hessian_in_leaf': 0.0028357558369591237, 'bagging_fraction': 0.9388322188642676, 'bagging_freq': 8, 'min_gain_to_split': 0.9838308261781148, 'lambda_l1': 0.0412603718547197, 'lambda_l2': 0.3318398128624334, 'num_leaves': 18, 'max_bin': 192}.\n"
     ]
    },
    {
     "name": "stdout",
     "output_type": "stream",
     "text": [
      "Training until validation scores don't improve for 100 rounds.\n",
      "Early stopping, best iteration is:\n",
      "[52]\tvalid_0's auc: 0.889389\n"
     ]
    },
    {
     "name": "stderr",
     "output_type": "stream",
     "text": [
      "[I 2019-04-02 20:34:42,184] Finished trial#59 resulted in value: -0.8893886805549794. Current best value is -0.8931722847684866 with parameters: {'feature_fraction': 0.9502433638956223, 'learning_rate': 0.017027901579411885, 'subsample': 0.8710147349213191, 'min_data_in_leaf': 80, 'min_sum_hessian_in_leaf': 0.0028357558369591237, 'bagging_fraction': 0.9388322188642676, 'bagging_freq': 8, 'min_gain_to_split': 0.9838308261781148, 'lambda_l1': 0.0412603718547197, 'lambda_l2': 0.3318398128624334, 'num_leaves': 18, 'max_bin': 192}.\n"
     ]
    },
    {
     "name": "stdout",
     "output_type": "stream",
     "text": [
      "Training until validation scores don't improve for 100 rounds.\n",
      "[200]\tvalid_0's auc: 0.89032\n",
      "[400]\tvalid_0's auc: 0.892119\n",
      "[600]\tvalid_0's auc: 0.89241\n",
      "Early stopping, best iteration is:\n",
      "[548]\tvalid_0's auc: 0.892514\n"
     ]
    },
    {
     "name": "stderr",
     "output_type": "stream",
     "text": [
      "[I 2019-04-02 20:35:14,258] Finished trial#60 resulted in value: -0.8925142768647036. Current best value is -0.8931722847684866 with parameters: {'feature_fraction': 0.9502433638956223, 'learning_rate': 0.017027901579411885, 'subsample': 0.8710147349213191, 'min_data_in_leaf': 80, 'min_sum_hessian_in_leaf': 0.0028357558369591237, 'bagging_fraction': 0.9388322188642676, 'bagging_freq': 8, 'min_gain_to_split': 0.9838308261781148, 'lambda_l1': 0.0412603718547197, 'lambda_l2': 0.3318398128624334, 'num_leaves': 18, 'max_bin': 192}.\n"
     ]
    },
    {
     "name": "stdout",
     "output_type": "stream",
     "text": [
      "Training until validation scores don't improve for 100 rounds.\n",
      "Early stopping, best iteration is:\n",
      "[65]\tvalid_0's auc: 0.889049\n"
     ]
    },
    {
     "name": "stderr",
     "output_type": "stream",
     "text": [
      "[I 2019-04-02 20:35:20,624] Finished trial#61 resulted in value: -0.8890486561080091. Current best value is -0.8931722847684866 with parameters: {'feature_fraction': 0.9502433638956223, 'learning_rate': 0.017027901579411885, 'subsample': 0.8710147349213191, 'min_data_in_leaf': 80, 'min_sum_hessian_in_leaf': 0.0028357558369591237, 'bagging_fraction': 0.9388322188642676, 'bagging_freq': 8, 'min_gain_to_split': 0.9838308261781148, 'lambda_l1': 0.0412603718547197, 'lambda_l2': 0.3318398128624334, 'num_leaves': 18, 'max_bin': 192}.\n"
     ]
    },
    {
     "name": "stdout",
     "output_type": "stream",
     "text": [
      "Training until validation scores don't improve for 100 rounds.\n",
      "[200]\tvalid_0's auc: 0.891607\n",
      "[400]\tvalid_0's auc: 0.891738\n",
      "Early stopping, best iteration is:\n",
      "[348]\tvalid_0's auc: 0.891995\n"
     ]
    },
    {
     "name": "stderr",
     "output_type": "stream",
     "text": [
      "[I 2019-04-02 20:35:36,607] Finished trial#62 resulted in value: -0.8919945713345445. Current best value is -0.8931722847684866 with parameters: {'feature_fraction': 0.9502433638956223, 'learning_rate': 0.017027901579411885, 'subsample': 0.8710147349213191, 'min_data_in_leaf': 80, 'min_sum_hessian_in_leaf': 0.0028357558369591237, 'bagging_fraction': 0.9388322188642676, 'bagging_freq': 8, 'min_gain_to_split': 0.9838308261781148, 'lambda_l1': 0.0412603718547197, 'lambda_l2': 0.3318398128624334, 'num_leaves': 18, 'max_bin': 192}.\n"
     ]
    },
    {
     "name": "stdout",
     "output_type": "stream",
     "text": [
      "Training until validation scores don't improve for 100 rounds.\n",
      "Early stopping, best iteration is:\n",
      "[20]\tvalid_0's auc: 0.887596\n"
     ]
    },
    {
     "name": "stderr",
     "output_type": "stream",
     "text": [
      "[I 2019-04-02 20:35:42,143] Finished trial#63 resulted in value: -0.8875963117984287. Current best value is -0.8931722847684866 with parameters: {'feature_fraction': 0.9502433638956223, 'learning_rate': 0.017027901579411885, 'subsample': 0.8710147349213191, 'min_data_in_leaf': 80, 'min_sum_hessian_in_leaf': 0.0028357558369591237, 'bagging_fraction': 0.9388322188642676, 'bagging_freq': 8, 'min_gain_to_split': 0.9838308261781148, 'lambda_l1': 0.0412603718547197, 'lambda_l2': 0.3318398128624334, 'num_leaves': 18, 'max_bin': 192}.\n"
     ]
    },
    {
     "name": "stdout",
     "output_type": "stream",
     "text": [
      "Training until validation scores don't improve for 100 rounds.\n",
      "Early stopping, best iteration is:\n",
      "[16]\tvalid_0's auc: 0.887272\n"
     ]
    },
    {
     "name": "stderr",
     "output_type": "stream",
     "text": [
      "[I 2019-04-02 20:35:46,947] Finished trial#64 resulted in value: -0.8872718536279137. Current best value is -0.8931722847684866 with parameters: {'feature_fraction': 0.9502433638956223, 'learning_rate': 0.017027901579411885, 'subsample': 0.8710147349213191, 'min_data_in_leaf': 80, 'min_sum_hessian_in_leaf': 0.0028357558369591237, 'bagging_fraction': 0.9388322188642676, 'bagging_freq': 8, 'min_gain_to_split': 0.9838308261781148, 'lambda_l1': 0.0412603718547197, 'lambda_l2': 0.3318398128624334, 'num_leaves': 18, 'max_bin': 192}.\n"
     ]
    },
    {
     "name": "stdout",
     "output_type": "stream",
     "text": [
      "Training until validation scores don't improve for 100 rounds.\n",
      "[200]\tvalid_0's auc: 0.885746\n",
      "[400]\tvalid_0's auc: 0.887233\n",
      "[600]\tvalid_0's auc: 0.889344\n",
      "[800]\tvalid_0's auc: 0.89044\n",
      "[1000]\tvalid_0's auc: 0.891256\n",
      "[1200]\tvalid_0's auc: 0.89157\n",
      "[1400]\tvalid_0's auc: 0.892005\n",
      "[1600]\tvalid_0's auc: 0.892229\n",
      "[1800]\tvalid_0's auc: 0.892425\n",
      "[2000]\tvalid_0's auc: 0.892667\n",
      "[2200]\tvalid_0's auc: 0.89282\n",
      "Early stopping, best iteration is:\n",
      "[2128]\tvalid_0's auc: 0.892863\n"
     ]
    },
    {
     "name": "stderr",
     "output_type": "stream",
     "text": [
      "[I 2019-04-02 20:37:10,544] Finished trial#65 resulted in value: -0.8928629434815916. Current best value is -0.8931722847684866 with parameters: {'feature_fraction': 0.9502433638956223, 'learning_rate': 0.017027901579411885, 'subsample': 0.8710147349213191, 'min_data_in_leaf': 80, 'min_sum_hessian_in_leaf': 0.0028357558369591237, 'bagging_fraction': 0.9388322188642676, 'bagging_freq': 8, 'min_gain_to_split': 0.9838308261781148, 'lambda_l1': 0.0412603718547197, 'lambda_l2': 0.3318398128624334, 'num_leaves': 18, 'max_bin': 192}.\n"
     ]
    },
    {
     "name": "stdout",
     "output_type": "stream",
     "text": [
      "Training until validation scores don't improve for 100 rounds.\n",
      "[200]\tvalid_0's auc: 0.890297\n",
      "Early stopping, best iteration is:\n",
      "[123]\tvalid_0's auc: 0.890371\n"
     ]
    },
    {
     "name": "stderr",
     "output_type": "stream",
     "text": [
      "[I 2019-04-02 20:37:19,062] Finished trial#66 resulted in value: -0.8903713367570153. Current best value is -0.8931722847684866 with parameters: {'feature_fraction': 0.9502433638956223, 'learning_rate': 0.017027901579411885, 'subsample': 0.8710147349213191, 'min_data_in_leaf': 80, 'min_sum_hessian_in_leaf': 0.0028357558369591237, 'bagging_fraction': 0.9388322188642676, 'bagging_freq': 8, 'min_gain_to_split': 0.9838308261781148, 'lambda_l1': 0.0412603718547197, 'lambda_l2': 0.3318398128624334, 'num_leaves': 18, 'max_bin': 192}.\n"
     ]
    },
    {
     "name": "stdout",
     "output_type": "stream",
     "text": [
      "Training until validation scores don't improve for 100 rounds.\n",
      "[200]\tvalid_0's auc: 0.890934\n",
      "Early stopping, best iteration is:\n",
      "[264]\tvalid_0's auc: 0.8911\n"
     ]
    },
    {
     "name": "stderr",
     "output_type": "stream",
     "text": [
      "[I 2019-04-02 20:37:33,647] Finished trial#67 resulted in value: -0.8911001758854422. Current best value is -0.8931722847684866 with parameters: {'feature_fraction': 0.9502433638956223, 'learning_rate': 0.017027901579411885, 'subsample': 0.8710147349213191, 'min_data_in_leaf': 80, 'min_sum_hessian_in_leaf': 0.0028357558369591237, 'bagging_fraction': 0.9388322188642676, 'bagging_freq': 8, 'min_gain_to_split': 0.9838308261781148, 'lambda_l1': 0.0412603718547197, 'lambda_l2': 0.3318398128624334, 'num_leaves': 18, 'max_bin': 192}.\n"
     ]
    },
    {
     "name": "stdout",
     "output_type": "stream",
     "text": [
      "Training until validation scores don't improve for 100 rounds.\n",
      "[200]\tvalid_0's auc: 0.886996\n",
      "[400]\tvalid_0's auc: 0.890167\n",
      "[600]\tvalid_0's auc: 0.891412\n",
      "[800]\tvalid_0's auc: 0.892162\n",
      "[1000]\tvalid_0's auc: 0.892833\n",
      "[1200]\tvalid_0's auc: 0.893097\n",
      "Early stopping, best iteration is:\n",
      "[1227]\tvalid_0's auc: 0.893141\n"
     ]
    },
    {
     "name": "stderr",
     "output_type": "stream",
     "text": [
      "[I 2019-04-02 20:38:21,851] Finished trial#68 resulted in value: -0.8931409724584413. Current best value is -0.8931722847684866 with parameters: {'feature_fraction': 0.9502433638956223, 'learning_rate': 0.017027901579411885, 'subsample': 0.8710147349213191, 'min_data_in_leaf': 80, 'min_sum_hessian_in_leaf': 0.0028357558369591237, 'bagging_fraction': 0.9388322188642676, 'bagging_freq': 8, 'min_gain_to_split': 0.9838308261781148, 'lambda_l1': 0.0412603718547197, 'lambda_l2': 0.3318398128624334, 'num_leaves': 18, 'max_bin': 192}.\n"
     ]
    },
    {
     "name": "stdout",
     "output_type": "stream",
     "text": [
      "Training until validation scores don't improve for 100 rounds.\n",
      "[200]\tvalid_0's auc: 0.889541\n",
      "[400]\tvalid_0's auc: 0.891707\n",
      "[600]\tvalid_0's auc: 0.892274\n",
      "[800]\tvalid_0's auc: 0.892668\n",
      "Early stopping, best iteration is:\n",
      "[846]\tvalid_0's auc: 0.892872\n"
     ]
    },
    {
     "name": "stderr",
     "output_type": "stream",
     "text": [
      "[I 2019-04-02 20:38:55,123] Finished trial#69 resulted in value: -0.8928716340476606. Current best value is -0.8931722847684866 with parameters: {'feature_fraction': 0.9502433638956223, 'learning_rate': 0.017027901579411885, 'subsample': 0.8710147349213191, 'min_data_in_leaf': 80, 'min_sum_hessian_in_leaf': 0.0028357558369591237, 'bagging_fraction': 0.9388322188642676, 'bagging_freq': 8, 'min_gain_to_split': 0.9838308261781148, 'lambda_l1': 0.0412603718547197, 'lambda_l2': 0.3318398128624334, 'num_leaves': 18, 'max_bin': 192}.\n"
     ]
    },
    {
     "name": "stdout",
     "output_type": "stream",
     "text": [
      "Training until validation scores don't improve for 100 rounds.\n",
      "[200]\tvalid_0's auc: 0.88977\n",
      "Early stopping, best iteration is:\n",
      "[107]\tvalid_0's auc: 0.890735\n"
     ]
    },
    {
     "name": "stderr",
     "output_type": "stream",
     "text": [
      "[I 2019-04-02 20:39:01,876] Finished trial#70 resulted in value: -0.8907346604940833. Current best value is -0.8931722847684866 with parameters: {'feature_fraction': 0.9502433638956223, 'learning_rate': 0.017027901579411885, 'subsample': 0.8710147349213191, 'min_data_in_leaf': 80, 'min_sum_hessian_in_leaf': 0.0028357558369591237, 'bagging_fraction': 0.9388322188642676, 'bagging_freq': 8, 'min_gain_to_split': 0.9838308261781148, 'lambda_l1': 0.0412603718547197, 'lambda_l2': 0.3318398128624334, 'num_leaves': 18, 'max_bin': 192}.\n"
     ]
    },
    {
     "name": "stdout",
     "output_type": "stream",
     "text": [
      "Training until validation scores don't improve for 100 rounds.\n",
      "[200]\tvalid_0's auc: 0.890957\n",
      "Early stopping, best iteration is:\n",
      "[161]\tvalid_0's auc: 0.891414\n"
     ]
    },
    {
     "name": "stderr",
     "output_type": "stream",
     "text": [
      "[I 2019-04-02 20:39:10,896] Finished trial#71 resulted in value: -0.8914136999825772. Current best value is -0.8931722847684866 with parameters: {'feature_fraction': 0.9502433638956223, 'learning_rate': 0.017027901579411885, 'subsample': 0.8710147349213191, 'min_data_in_leaf': 80, 'min_sum_hessian_in_leaf': 0.0028357558369591237, 'bagging_fraction': 0.9388322188642676, 'bagging_freq': 8, 'min_gain_to_split': 0.9838308261781148, 'lambda_l1': 0.0412603718547197, 'lambda_l2': 0.3318398128624334, 'num_leaves': 18, 'max_bin': 192}.\n"
     ]
    },
    {
     "name": "stdout",
     "output_type": "stream",
     "text": [
      "Training until validation scores don't improve for 100 rounds.\n",
      "Early stopping, best iteration is:\n",
      "[55]\tvalid_0's auc: 0.88881\n"
     ]
    },
    {
     "name": "stderr",
     "output_type": "stream",
     "text": [
      "[I 2019-04-02 20:39:16,403] Finished trial#72 resulted in value: -0.8888098141864329. Current best value is -0.8931722847684866 with parameters: {'feature_fraction': 0.9502433638956223, 'learning_rate': 0.017027901579411885, 'subsample': 0.8710147349213191, 'min_data_in_leaf': 80, 'min_sum_hessian_in_leaf': 0.0028357558369591237, 'bagging_fraction': 0.9388322188642676, 'bagging_freq': 8, 'min_gain_to_split': 0.9838308261781148, 'lambda_l1': 0.0412603718547197, 'lambda_l2': 0.3318398128624334, 'num_leaves': 18, 'max_bin': 192}.\n"
     ]
    },
    {
     "name": "stdout",
     "output_type": "stream",
     "text": [
      "Training until validation scores don't improve for 100 rounds.\n",
      "[200]\tvalid_0's auc: 0.882382\n",
      "[400]\tvalid_0's auc: 0.883185\n",
      "[600]\tvalid_0's auc: 0.885013\n",
      "[800]\tvalid_0's auc: 0.885821\n",
      "[1000]\tvalid_0's auc: 0.886245\n",
      "[1200]\tvalid_0's auc: 0.886662\n",
      "[1400]\tvalid_0's auc: 0.887086\n",
      "[1600]\tvalid_0's auc: 0.887517\n",
      "[1800]\tvalid_0's auc: 0.88807\n",
      "[2000]\tvalid_0's auc: 0.888678\n",
      "[2200]\tvalid_0's auc: 0.88919\n",
      "[2400]\tvalid_0's auc: 0.889571\n",
      "[2600]\tvalid_0's auc: 0.88995\n",
      "[2800]\tvalid_0's auc: 0.89028\n",
      "[3000]\tvalid_0's auc: 0.890579\n",
      "[3200]\tvalid_0's auc: 0.890821\n",
      "[3400]\tvalid_0's auc: 0.891089\n",
      "[3600]\tvalid_0's auc: 0.891263\n",
      "[3800]\tvalid_0's auc: 0.891453\n",
      "[4000]\tvalid_0's auc: 0.891679\n",
      "[4200]\tvalid_0's auc: 0.891833\n",
      "[4400]\tvalid_0's auc: 0.891934\n",
      "[4600]\tvalid_0's auc: 0.892053\n",
      "[4800]\tvalid_0's auc: 0.892144\n",
      "[5000]\tvalid_0's auc: 0.892268\n",
      "[5200]\tvalid_0's auc: 0.892387\n",
      "[5400]\tvalid_0's auc: 0.892482\n",
      "[5600]\tvalid_0's auc: 0.892593\n",
      "[5800]\tvalid_0's auc: 0.892638\n",
      "[6000]\tvalid_0's auc: 0.892756\n",
      "[6200]\tvalid_0's auc: 0.892818\n",
      "[6400]\tvalid_0's auc: 0.892886\n",
      "[6600]\tvalid_0's auc: 0.892949\n",
      "[6800]\tvalid_0's auc: 0.893018\n",
      "[7000]\tvalid_0's auc: 0.893077\n",
      "[7200]\tvalid_0's auc: 0.893142\n",
      "[7400]\tvalid_0's auc: 0.893212\n",
      "[7600]\tvalid_0's auc: 0.893254\n",
      "[7800]\tvalid_0's auc: 0.893299\n",
      "[8000]\tvalid_0's auc: 0.893377\n",
      "[8200]\tvalid_0's auc: 0.893447\n",
      "[8400]\tvalid_0's auc: 0.893512\n",
      "[8600]\tvalid_0's auc: 0.89358\n",
      "[8800]\tvalid_0's auc: 0.893623\n",
      "Early stopping, best iteration is:\n",
      "[8743]\tvalid_0's auc: 0.893632\n"
     ]
    },
    {
     "name": "stderr",
     "output_type": "stream",
     "text": [
      "[I 2019-04-02 20:44:54,639] Finished trial#73 resulted in value: -0.8936323109300633. Current best value is -0.8936323109300633 with parameters: {'feature_fraction': 0.8441361700800667, 'learning_rate': 0.002900330590547711, 'subsample': 0.9197774418279273, 'min_data_in_leaf': 16, 'min_sum_hessian_in_leaf': 0.0042405612859193215, 'bagging_fraction': 0.9245521981959403, 'bagging_freq': 7, 'min_gain_to_split': 0.9286774022517412, 'lambda_l1': 0.0554153601415885, 'lambda_l2': 0.33255643863221945, 'num_leaves': 21, 'max_bin': 180}.\n"
     ]
    },
    {
     "name": "stdout",
     "output_type": "stream",
     "text": [
      "Training until validation scores don't improve for 100 rounds.\n",
      "[200]\tvalid_0's auc: 0.891397\n",
      "[400]\tvalid_0's auc: 0.891925\n",
      "Early stopping, best iteration is:\n",
      "[388]\tvalid_0's auc: 0.89204\n"
     ]
    },
    {
     "name": "stderr",
     "output_type": "stream",
     "text": [
      "[I 2019-04-02 20:45:09,980] Finished trial#74 resulted in value: -0.8920403402664276. Current best value is -0.8936323109300633 with parameters: {'feature_fraction': 0.8441361700800667, 'learning_rate': 0.002900330590547711, 'subsample': 0.9197774418279273, 'min_data_in_leaf': 16, 'min_sum_hessian_in_leaf': 0.0042405612859193215, 'bagging_fraction': 0.9245521981959403, 'bagging_freq': 7, 'min_gain_to_split': 0.9286774022517412, 'lambda_l1': 0.0554153601415885, 'lambda_l2': 0.33255643863221945, 'num_leaves': 21, 'max_bin': 180}.\n"
     ]
    },
    {
     "name": "stdout",
     "output_type": "stream",
     "text": [
      "Training until validation scores don't improve for 100 rounds.\n",
      "[200]\tvalid_0's auc: 0.886568\n",
      "[400]\tvalid_0's auc: 0.889503\n",
      "[600]\tvalid_0's auc: 0.891083\n",
      "[800]\tvalid_0's auc: 0.892084\n",
      "[1000]\tvalid_0's auc: 0.892559\n",
      "[1200]\tvalid_0's auc: 0.892978\n",
      "[1400]\tvalid_0's auc: 0.893014\n",
      "Early stopping, best iteration is:\n",
      "[1456]\tvalid_0's auc: 0.893096\n"
     ]
    },
    {
     "name": "stderr",
     "output_type": "stream",
     "text": [
      "[I 2019-04-02 20:46:08,543] Finished trial#75 resulted in value: -0.8930964825677062. Current best value is -0.8936323109300633 with parameters: {'feature_fraction': 0.8441361700800667, 'learning_rate': 0.002900330590547711, 'subsample': 0.9197774418279273, 'min_data_in_leaf': 16, 'min_sum_hessian_in_leaf': 0.0042405612859193215, 'bagging_fraction': 0.9245521981959403, 'bagging_freq': 7, 'min_gain_to_split': 0.9286774022517412, 'lambda_l1': 0.0554153601415885, 'lambda_l2': 0.33255643863221945, 'num_leaves': 21, 'max_bin': 180}.\n"
     ]
    },
    {
     "name": "stdout",
     "output_type": "stream",
     "text": [
      "Training until validation scores don't improve for 100 rounds.\n",
      "[200]\tvalid_0's auc: 0.890255\n",
      "Early stopping, best iteration is:\n",
      "[110]\tvalid_0's auc: 0.891197\n"
     ]
    },
    {
     "name": "stderr",
     "output_type": "stream",
     "text": [
      "[I 2019-04-02 20:46:16,812] Finished trial#76 resulted in value: -0.8911967400352323. Current best value is -0.8936323109300633 with parameters: {'feature_fraction': 0.8441361700800667, 'learning_rate': 0.002900330590547711, 'subsample': 0.9197774418279273, 'min_data_in_leaf': 16, 'min_sum_hessian_in_leaf': 0.0042405612859193215, 'bagging_fraction': 0.9245521981959403, 'bagging_freq': 7, 'min_gain_to_split': 0.9286774022517412, 'lambda_l1': 0.0554153601415885, 'lambda_l2': 0.33255643863221945, 'num_leaves': 21, 'max_bin': 180}.\n"
     ]
    },
    {
     "name": "stdout",
     "output_type": "stream",
     "text": [
      "Training until validation scores don't improve for 100 rounds.\n",
      "Early stopping, best iteration is:\n",
      "[41]\tvalid_0's auc: 0.889195\n"
     ]
    },
    {
     "name": "stderr",
     "output_type": "stream",
     "text": [
      "[I 2019-04-02 20:46:21,598] Finished trial#77 resulted in value: -0.8891946465559915. Current best value is -0.8936323109300633 with parameters: {'feature_fraction': 0.8441361700800667, 'learning_rate': 0.002900330590547711, 'subsample': 0.9197774418279273, 'min_data_in_leaf': 16, 'min_sum_hessian_in_leaf': 0.0042405612859193215, 'bagging_fraction': 0.9245521981959403, 'bagging_freq': 7, 'min_gain_to_split': 0.9286774022517412, 'lambda_l1': 0.0554153601415885, 'lambda_l2': 0.33255643863221945, 'num_leaves': 21, 'max_bin': 180}.\n"
     ]
    },
    {
     "name": "stdout",
     "output_type": "stream",
     "text": [
      "Training until validation scores don't improve for 100 rounds.\n",
      "[200]\tvalid_0's auc: 0.877569\n",
      "[400]\tvalid_0's auc: 0.881994\n",
      "[600]\tvalid_0's auc: 0.882744\n",
      "[800]\tvalid_0's auc: 0.884529\n",
      "[1000]\tvalid_0's auc: 0.884871\n",
      "[1200]\tvalid_0's auc: 0.885444\n",
      "[1400]\tvalid_0's auc: 0.885649\n",
      "[1600]\tvalid_0's auc: 0.88588\n",
      "[1800]\tvalid_0's auc: 0.88609\n",
      "[2000]\tvalid_0's auc: 0.886306\n",
      "[2200]\tvalid_0's auc: 0.886534\n",
      "[2400]\tvalid_0's auc: 0.88678\n",
      "[2600]\tvalid_0's auc: 0.887023\n",
      "[2800]\tvalid_0's auc: 0.887307\n",
      "[3000]\tvalid_0's auc: 0.887655\n",
      "[3200]\tvalid_0's auc: 0.887978\n",
      "[3400]\tvalid_0's auc: 0.888327\n",
      "[3600]\tvalid_0's auc: 0.888657\n",
      "[3800]\tvalid_0's auc: 0.888901\n",
      "[4000]\tvalid_0's auc: 0.88918\n",
      "[4200]\tvalid_0's auc: 0.889388\n",
      "[4400]\tvalid_0's auc: 0.889633\n",
      "[4600]\tvalid_0's auc: 0.889826\n",
      "[4800]\tvalid_0's auc: 0.89003\n",
      "[5000]\tvalid_0's auc: 0.890225\n",
      "[5200]\tvalid_0's auc: 0.89037\n",
      "[5400]\tvalid_0's auc: 0.890532\n",
      "[5600]\tvalid_0's auc: 0.890682\n",
      "[5800]\tvalid_0's auc: 0.890815\n",
      "[6000]\tvalid_0's auc: 0.890946\n",
      "[6200]\tvalid_0's auc: 0.891036\n",
      "[6400]\tvalid_0's auc: 0.891176\n",
      "[6600]\tvalid_0's auc: 0.891288\n",
      "[6800]\tvalid_0's auc: 0.891399\n",
      "[7000]\tvalid_0's auc: 0.891502\n",
      "[7200]\tvalid_0's auc: 0.89158\n",
      "[7400]\tvalid_0's auc: 0.891684\n",
      "[7600]\tvalid_0's auc: 0.891746\n",
      "[7800]\tvalid_0's auc: 0.891863\n",
      "[8000]\tvalid_0's auc: 0.891939\n",
      "[8200]\tvalid_0's auc: 0.892012\n",
      "[8400]\tvalid_0's auc: 0.892047\n",
      "[8600]\tvalid_0's auc: 0.892108\n",
      "[8800]\tvalid_0's auc: 0.892185\n",
      "[9000]\tvalid_0's auc: 0.892249\n",
      "[9200]\tvalid_0's auc: 0.892313\n",
      "[9400]\tvalid_0's auc: 0.892349\n",
      "[9600]\tvalid_0's auc: 0.892408\n",
      "[9800]\tvalid_0's auc: 0.892473\n",
      "[10000]\tvalid_0's auc: 0.892533\n",
      "Did not meet early stopping. Best iteration is:\n",
      "[10000]\tvalid_0's auc: 0.892533\n"
     ]
    },
    {
     "name": "stderr",
     "output_type": "stream",
     "text": [
      "[I 2019-04-02 20:52:43,668] Finished trial#78 resulted in value: -0.8925330338302926. Current best value is -0.8936323109300633 with parameters: {'feature_fraction': 0.8441361700800667, 'learning_rate': 0.002900330590547711, 'subsample': 0.9197774418279273, 'min_data_in_leaf': 16, 'min_sum_hessian_in_leaf': 0.0042405612859193215, 'bagging_fraction': 0.9245521981959403, 'bagging_freq': 7, 'min_gain_to_split': 0.9286774022517412, 'lambda_l1': 0.0554153601415885, 'lambda_l2': 0.33255643863221945, 'num_leaves': 21, 'max_bin': 180}.\n"
     ]
    },
    {
     "name": "stdout",
     "output_type": "stream",
     "text": [
      "Training until validation scores don't improve for 100 rounds.\n",
      "[200]\tvalid_0's auc: 0.890939\n",
      "[400]\tvalid_0's auc: 0.891663\n",
      "Early stopping, best iteration is:\n",
      "[316]\tvalid_0's auc: 0.89185\n"
     ]
    },
    {
     "name": "stderr",
     "output_type": "stream",
     "text": [
      "[I 2019-04-02 20:52:57,922] Finished trial#79 resulted in value: -0.8918504130265846. Current best value is -0.8936323109300633 with parameters: {'feature_fraction': 0.8441361700800667, 'learning_rate': 0.002900330590547711, 'subsample': 0.9197774418279273, 'min_data_in_leaf': 16, 'min_sum_hessian_in_leaf': 0.0042405612859193215, 'bagging_fraction': 0.9245521981959403, 'bagging_freq': 7, 'min_gain_to_split': 0.9286774022517412, 'lambda_l1': 0.0554153601415885, 'lambda_l2': 0.33255643863221945, 'num_leaves': 21, 'max_bin': 180}.\n"
     ]
    },
    {
     "name": "stdout",
     "output_type": "stream",
     "text": [
      "Training until validation scores don't improve for 100 rounds.\n",
      "[200]\tvalid_0's auc: 0.890798\n",
      "Early stopping, best iteration is:\n",
      "[166]\tvalid_0's auc: 0.891048\n"
     ]
    },
    {
     "name": "stderr",
     "output_type": "stream",
     "text": [
      "[I 2019-04-02 20:53:08,905] Finished trial#80 resulted in value: -0.8910481776774825. Current best value is -0.8936323109300633 with parameters: {'feature_fraction': 0.8441361700800667, 'learning_rate': 0.002900330590547711, 'subsample': 0.9197774418279273, 'min_data_in_leaf': 16, 'min_sum_hessian_in_leaf': 0.0042405612859193215, 'bagging_fraction': 0.9245521981959403, 'bagging_freq': 7, 'min_gain_to_split': 0.9286774022517412, 'lambda_l1': 0.0554153601415885, 'lambda_l2': 0.33255643863221945, 'num_leaves': 21, 'max_bin': 180}.\n"
     ]
    },
    {
     "name": "stdout",
     "output_type": "stream",
     "text": [
      "Training until validation scores don't improve for 100 rounds.\n",
      "Early stopping, best iteration is:\n",
      "[30]\tvalid_0's auc: 0.889036\n"
     ]
    },
    {
     "name": "stderr",
     "output_type": "stream",
     "text": [
      "[I 2019-04-02 20:53:13,373] Finished trial#81 resulted in value: -0.8890361975558562. Current best value is -0.8936323109300633 with parameters: {'feature_fraction': 0.8441361700800667, 'learning_rate': 0.002900330590547711, 'subsample': 0.9197774418279273, 'min_data_in_leaf': 16, 'min_sum_hessian_in_leaf': 0.0042405612859193215, 'bagging_fraction': 0.9245521981959403, 'bagging_freq': 7, 'min_gain_to_split': 0.9286774022517412, 'lambda_l1': 0.0554153601415885, 'lambda_l2': 0.33255643863221945, 'num_leaves': 21, 'max_bin': 180}.\n"
     ]
    },
    {
     "name": "stdout",
     "output_type": "stream",
     "text": [
      "Training until validation scores don't improve for 100 rounds.\n",
      "Early stopping, best iteration is:\n",
      "[62]\tvalid_0's auc: 0.88873\n"
     ]
    },
    {
     "name": "stderr",
     "output_type": "stream",
     "text": [
      "[I 2019-04-02 20:53:19,364] Finished trial#82 resulted in value: -0.888730202517153. Current best value is -0.8936323109300633 with parameters: {'feature_fraction': 0.8441361700800667, 'learning_rate': 0.002900330590547711, 'subsample': 0.9197774418279273, 'min_data_in_leaf': 16, 'min_sum_hessian_in_leaf': 0.0042405612859193215, 'bagging_fraction': 0.9245521981959403, 'bagging_freq': 7, 'min_gain_to_split': 0.9286774022517412, 'lambda_l1': 0.0554153601415885, 'lambda_l2': 0.33255643863221945, 'num_leaves': 21, 'max_bin': 180}.\n"
     ]
    },
    {
     "name": "stdout",
     "output_type": "stream",
     "text": [
      "Training until validation scores don't improve for 100 rounds.\n",
      "Early stopping, best iteration is:\n",
      "[21]\tvalid_0's auc: 0.887789\n"
     ]
    },
    {
     "name": "stderr",
     "output_type": "stream",
     "text": [
      "[I 2019-04-02 20:53:23,540] Finished trial#83 resulted in value: -0.8877889768777015. Current best value is -0.8936323109300633 with parameters: {'feature_fraction': 0.8441361700800667, 'learning_rate': 0.002900330590547711, 'subsample': 0.9197774418279273, 'min_data_in_leaf': 16, 'min_sum_hessian_in_leaf': 0.0042405612859193215, 'bagging_fraction': 0.9245521981959403, 'bagging_freq': 7, 'min_gain_to_split': 0.9286774022517412, 'lambda_l1': 0.0554153601415885, 'lambda_l2': 0.33255643863221945, 'num_leaves': 21, 'max_bin': 180}.\n"
     ]
    },
    {
     "name": "stdout",
     "output_type": "stream",
     "text": [
      "Training until validation scores don't improve for 100 rounds.\n",
      "[200]\tvalid_0's auc: 0.88958\n",
      "[400]\tvalid_0's auc: 0.891836\n",
      "[600]\tvalid_0's auc: 0.892101\n",
      "[800]\tvalid_0's auc: 0.892577\n",
      "Early stopping, best iteration is:\n",
      "[852]\tvalid_0's auc: 0.892711\n"
     ]
    },
    {
     "name": "stderr",
     "output_type": "stream",
     "text": [
      "[I 2019-04-02 20:53:58,319] Finished trial#84 resulted in value: -0.8927111040130089. Current best value is -0.8936323109300633 with parameters: {'feature_fraction': 0.8441361700800667, 'learning_rate': 0.002900330590547711, 'subsample': 0.9197774418279273, 'min_data_in_leaf': 16, 'min_sum_hessian_in_leaf': 0.0042405612859193215, 'bagging_fraction': 0.9245521981959403, 'bagging_freq': 7, 'min_gain_to_split': 0.9286774022517412, 'lambda_l1': 0.0554153601415885, 'lambda_l2': 0.33255643863221945, 'num_leaves': 21, 'max_bin': 180}.\n"
     ]
    },
    {
     "name": "stdout",
     "output_type": "stream",
     "text": [
      "Training until validation scores don't improve for 100 rounds.\n",
      "[200]\tvalid_0's auc: 0.888633\n",
      "Early stopping, best iteration is:\n",
      "[102]\tvalid_0's auc: 0.890368\n"
     ]
    },
    {
     "name": "stderr",
     "output_type": "stream",
     "text": [
      "[I 2019-04-02 20:54:06,007] Finished trial#85 resulted in value: -0.8903680803873906. Current best value is -0.8936323109300633 with parameters: {'feature_fraction': 0.8441361700800667, 'learning_rate': 0.002900330590547711, 'subsample': 0.9197774418279273, 'min_data_in_leaf': 16, 'min_sum_hessian_in_leaf': 0.0042405612859193215, 'bagging_fraction': 0.9245521981959403, 'bagging_freq': 7, 'min_gain_to_split': 0.9286774022517412, 'lambda_l1': 0.0554153601415885, 'lambda_l2': 0.33255643863221945, 'num_leaves': 21, 'max_bin': 180}.\n"
     ]
    },
    {
     "name": "stdout",
     "output_type": "stream",
     "text": [
      "Training until validation scores don't improve for 100 rounds.\n",
      "Early stopping, best iteration is:\n",
      "[59]\tvalid_0's auc: 0.889186\n"
     ]
    },
    {
     "name": "stderr",
     "output_type": "stream",
     "text": [
      "[I 2019-04-02 20:54:12,056] Finished trial#86 resulted in value: -0.8891863224179269. Current best value is -0.8936323109300633 with parameters: {'feature_fraction': 0.8441361700800667, 'learning_rate': 0.002900330590547711, 'subsample': 0.9197774418279273, 'min_data_in_leaf': 16, 'min_sum_hessian_in_leaf': 0.0042405612859193215, 'bagging_fraction': 0.9245521981959403, 'bagging_freq': 7, 'min_gain_to_split': 0.9286774022517412, 'lambda_l1': 0.0554153601415885, 'lambda_l2': 0.33255643863221945, 'num_leaves': 21, 'max_bin': 180}.\n"
     ]
    },
    {
     "name": "stdout",
     "output_type": "stream",
     "text": [
      "Training until validation scores don't improve for 100 rounds.\n",
      "[200]\tvalid_0's auc: 0.890256\n",
      "Early stopping, best iteration is:\n",
      "[175]\tvalid_0's auc: 0.890885\n"
     ]
    },
    {
     "name": "stderr",
     "output_type": "stream",
     "text": [
      "[I 2019-04-02 20:54:21,037] Finished trial#87 resulted in value: -0.8908851932665742. Current best value is -0.8936323109300633 with parameters: {'feature_fraction': 0.8441361700800667, 'learning_rate': 0.002900330590547711, 'subsample': 0.9197774418279273, 'min_data_in_leaf': 16, 'min_sum_hessian_in_leaf': 0.0042405612859193215, 'bagging_fraction': 0.9245521981959403, 'bagging_freq': 7, 'min_gain_to_split': 0.9286774022517412, 'lambda_l1': 0.0554153601415885, 'lambda_l2': 0.33255643863221945, 'num_leaves': 21, 'max_bin': 180}.\n"
     ]
    },
    {
     "name": "stdout",
     "output_type": "stream",
     "text": [
      "Training until validation scores don't improve for 100 rounds.\n",
      "[200]\tvalid_0's auc: 0.890951\n",
      "Early stopping, best iteration is:\n",
      "[289]\tvalid_0's auc: 0.891376\n"
     ]
    },
    {
     "name": "stderr",
     "output_type": "stream",
     "text": [
      "[I 2019-04-02 20:54:35,830] Finished trial#88 resulted in value: -0.8913759371569059. Current best value is -0.8936323109300633 with parameters: {'feature_fraction': 0.8441361700800667, 'learning_rate': 0.002900330590547711, 'subsample': 0.9197774418279273, 'min_data_in_leaf': 16, 'min_sum_hessian_in_leaf': 0.0042405612859193215, 'bagging_fraction': 0.9245521981959403, 'bagging_freq': 7, 'min_gain_to_split': 0.9286774022517412, 'lambda_l1': 0.0554153601415885, 'lambda_l2': 0.33255643863221945, 'num_leaves': 21, 'max_bin': 180}.\n"
     ]
    },
    {
     "name": "stdout",
     "output_type": "stream",
     "text": [
      "Training until validation scores don't improve for 100 rounds.\n",
      "Early stopping, best iteration is:\n",
      "[14]\tvalid_0's auc: 0.88796\n"
     ]
    },
    {
     "name": "stderr",
     "output_type": "stream",
     "text": [
      "[I 2019-04-02 20:54:40,174] Finished trial#89 resulted in value: -0.8879596009668168. Current best value is -0.8936323109300633 with parameters: {'feature_fraction': 0.8441361700800667, 'learning_rate': 0.002900330590547711, 'subsample': 0.9197774418279273, 'min_data_in_leaf': 16, 'min_sum_hessian_in_leaf': 0.0042405612859193215, 'bagging_fraction': 0.9245521981959403, 'bagging_freq': 7, 'min_gain_to_split': 0.9286774022517412, 'lambda_l1': 0.0554153601415885, 'lambda_l2': 0.33255643863221945, 'num_leaves': 21, 'max_bin': 180}.\n"
     ]
    },
    {
     "name": "stdout",
     "output_type": "stream",
     "text": [
      "Training until validation scores don't improve for 100 rounds.\n",
      "Early stopping, best iteration is:\n",
      "[73]\tvalid_0's auc: 0.889698\n"
     ]
    },
    {
     "name": "stderr",
     "output_type": "stream",
     "text": [
      "[I 2019-04-02 20:54:46,406] Finished trial#90 resulted in value: -0.8896983606149353. Current best value is -0.8936323109300633 with parameters: {'feature_fraction': 0.8441361700800667, 'learning_rate': 0.002900330590547711, 'subsample': 0.9197774418279273, 'min_data_in_leaf': 16, 'min_sum_hessian_in_leaf': 0.0042405612859193215, 'bagging_fraction': 0.9245521981959403, 'bagging_freq': 7, 'min_gain_to_split': 0.9286774022517412, 'lambda_l1': 0.0554153601415885, 'lambda_l2': 0.33255643863221945, 'num_leaves': 21, 'max_bin': 180}.\n"
     ]
    },
    {
     "name": "stdout",
     "output_type": "stream",
     "text": [
      "Training until validation scores don't improve for 100 rounds.\n",
      "Early stopping, best iteration is:\n",
      "[23]\tvalid_0's auc: 0.888569\n"
     ]
    },
    {
     "name": "stderr",
     "output_type": "stream",
     "text": [
      "[I 2019-04-02 20:54:51,005] Finished trial#91 resulted in value: -0.8885685144317323. Current best value is -0.8936323109300633 with parameters: {'feature_fraction': 0.8441361700800667, 'learning_rate': 0.002900330590547711, 'subsample': 0.9197774418279273, 'min_data_in_leaf': 16, 'min_sum_hessian_in_leaf': 0.0042405612859193215, 'bagging_fraction': 0.9245521981959403, 'bagging_freq': 7, 'min_gain_to_split': 0.9286774022517412, 'lambda_l1': 0.0554153601415885, 'lambda_l2': 0.33255643863221945, 'num_leaves': 21, 'max_bin': 180}.\n"
     ]
    },
    {
     "name": "stdout",
     "output_type": "stream",
     "text": [
      "Training until validation scores don't improve for 100 rounds.\n",
      "Early stopping, best iteration is:\n",
      "[30]\tvalid_0's auc: 0.887308\n"
     ]
    },
    {
     "name": "stderr",
     "output_type": "stream",
     "text": [
      "[I 2019-04-02 20:54:56,131] Finished trial#92 resulted in value: -0.8873084826008922. Current best value is -0.8936323109300633 with parameters: {'feature_fraction': 0.8441361700800667, 'learning_rate': 0.002900330590547711, 'subsample': 0.9197774418279273, 'min_data_in_leaf': 16, 'min_sum_hessian_in_leaf': 0.0042405612859193215, 'bagging_fraction': 0.9245521981959403, 'bagging_freq': 7, 'min_gain_to_split': 0.9286774022517412, 'lambda_l1': 0.0554153601415885, 'lambda_l2': 0.33255643863221945, 'num_leaves': 21, 'max_bin': 180}.\n"
     ]
    },
    {
     "name": "stdout",
     "output_type": "stream",
     "text": [
      "Training until validation scores don't improve for 100 rounds.\n",
      "[200]\tvalid_0's auc: 0.890792\n",
      "[400]\tvalid_0's auc: 0.889906\n",
      "Early stopping, best iteration is:\n",
      "[302]\tvalid_0's auc: 0.891005\n"
     ]
    },
    {
     "name": "stderr",
     "output_type": "stream",
     "text": [
      "[I 2019-04-02 20:55:11,610] Finished trial#93 resulted in value: -0.8910052710322762. Current best value is -0.8936323109300633 with parameters: {'feature_fraction': 0.8441361700800667, 'learning_rate': 0.002900330590547711, 'subsample': 0.9197774418279273, 'min_data_in_leaf': 16, 'min_sum_hessian_in_leaf': 0.0042405612859193215, 'bagging_fraction': 0.9245521981959403, 'bagging_freq': 7, 'min_gain_to_split': 0.9286774022517412, 'lambda_l1': 0.0554153601415885, 'lambda_l2': 0.33255643863221945, 'num_leaves': 21, 'max_bin': 180}.\n"
     ]
    },
    {
     "name": "stdout",
     "output_type": "stream",
     "text": [
      "Training until validation scores don't improve for 100 rounds.\n",
      "Early stopping, best iteration is:\n",
      "[4]\tvalid_0's auc: 0.883967\n"
     ]
    },
    {
     "name": "stderr",
     "output_type": "stream",
     "text": [
      "[I 2019-04-02 20:55:16,626] Finished trial#94 resulted in value: -0.8839669599473449. Current best value is -0.8936323109300633 with parameters: {'feature_fraction': 0.8441361700800667, 'learning_rate': 0.002900330590547711, 'subsample': 0.9197774418279273, 'min_data_in_leaf': 16, 'min_sum_hessian_in_leaf': 0.0042405612859193215, 'bagging_fraction': 0.9245521981959403, 'bagging_freq': 7, 'min_gain_to_split': 0.9286774022517412, 'lambda_l1': 0.0554153601415885, 'lambda_l2': 0.33255643863221945, 'num_leaves': 21, 'max_bin': 180}.\n"
     ]
    },
    {
     "name": "stdout",
     "output_type": "stream",
     "text": [
      "Training until validation scores don't improve for 100 rounds.\n",
      "[200]\tvalid_0's auc: 0.887862\n",
      "[400]\tvalid_0's auc: 0.890971\n",
      "[600]\tvalid_0's auc: 0.892188\n",
      "[800]\tvalid_0's auc: 0.892772\n",
      "[1000]\tvalid_0's auc: 0.892991\n",
      "Early stopping, best iteration is:\n",
      "[1063]\tvalid_0's auc: 0.893067\n"
     ]
    },
    {
     "name": "stderr",
     "output_type": "stream",
     "text": [
      "[I 2019-04-02 20:56:03,978] Finished trial#95 resulted in value: -0.8930674932729348. Current best value is -0.8936323109300633 with parameters: {'feature_fraction': 0.8441361700800667, 'learning_rate': 0.002900330590547711, 'subsample': 0.9197774418279273, 'min_data_in_leaf': 16, 'min_sum_hessian_in_leaf': 0.0042405612859193215, 'bagging_fraction': 0.9245521981959403, 'bagging_freq': 7, 'min_gain_to_split': 0.9286774022517412, 'lambda_l1': 0.0554153601415885, 'lambda_l2': 0.33255643863221945, 'num_leaves': 21, 'max_bin': 180}.\n"
     ]
    },
    {
     "name": "stdout",
     "output_type": "stream",
     "text": [
      "Training until validation scores don't improve for 100 rounds.\n",
      "[200]\tvalid_0's auc: 0.890812\n",
      "[400]\tvalid_0's auc: 0.892496\n",
      "Early stopping, best iteration is:\n",
      "[498]\tvalid_0's auc: 0.892797\n"
     ]
    },
    {
     "name": "stderr",
     "output_type": "stream",
     "text": [
      "[I 2019-04-02 20:56:26,741] Finished trial#96 resulted in value: -0.8927966338402484. Current best value is -0.8936323109300633 with parameters: {'feature_fraction': 0.8441361700800667, 'learning_rate': 0.002900330590547711, 'subsample': 0.9197774418279273, 'min_data_in_leaf': 16, 'min_sum_hessian_in_leaf': 0.0042405612859193215, 'bagging_fraction': 0.9245521981959403, 'bagging_freq': 7, 'min_gain_to_split': 0.9286774022517412, 'lambda_l1': 0.0554153601415885, 'lambda_l2': 0.33255643863221945, 'num_leaves': 21, 'max_bin': 180}.\n"
     ]
    },
    {
     "name": "stdout",
     "output_type": "stream",
     "text": [
      "Training until validation scores don't improve for 100 rounds.\n",
      "Early stopping, best iteration is:\n",
      "[23]\tvalid_0's auc: 0.887386\n"
     ]
    },
    {
     "name": "stderr",
     "output_type": "stream",
     "text": [
      "[I 2019-04-02 20:56:30,594] Finished trial#97 resulted in value: -0.8873864591716238. Current best value is -0.8936323109300633 with parameters: {'feature_fraction': 0.8441361700800667, 'learning_rate': 0.002900330590547711, 'subsample': 0.9197774418279273, 'min_data_in_leaf': 16, 'min_sum_hessian_in_leaf': 0.0042405612859193215, 'bagging_fraction': 0.9245521981959403, 'bagging_freq': 7, 'min_gain_to_split': 0.9286774022517412, 'lambda_l1': 0.0554153601415885, 'lambda_l2': 0.33255643863221945, 'num_leaves': 21, 'max_bin': 180}.\n"
     ]
    },
    {
     "name": "stdout",
     "output_type": "stream",
     "text": [
      "Training until validation scores don't improve for 100 rounds.\n",
      "Early stopping, best iteration is:\n",
      "[59]\tvalid_0's auc: 0.890186\n"
     ]
    },
    {
     "name": "stderr",
     "output_type": "stream",
     "text": [
      "[I 2019-04-02 20:56:36,262] Finished trial#98 resulted in value: -0.8901855923274125. Current best value is -0.8936323109300633 with parameters: {'feature_fraction': 0.8441361700800667, 'learning_rate': 0.002900330590547711, 'subsample': 0.9197774418279273, 'min_data_in_leaf': 16, 'min_sum_hessian_in_leaf': 0.0042405612859193215, 'bagging_fraction': 0.9245521981959403, 'bagging_freq': 7, 'min_gain_to_split': 0.9286774022517412, 'lambda_l1': 0.0554153601415885, 'lambda_l2': 0.33255643863221945, 'num_leaves': 21, 'max_bin': 180}.\n"
     ]
    },
    {
     "name": "stdout",
     "output_type": "stream",
     "text": [
      "Training until validation scores don't improve for 100 rounds.\n",
      "Early stopping, best iteration is:\n",
      "[5]\tvalid_0's auc: 0.884676\n"
     ]
    },
    {
     "name": "stderr",
     "output_type": "stream",
     "text": [
      "[I 2019-04-02 20:56:40,283] Finished trial#99 resulted in value: -0.8846764544426284. Current best value is -0.8936323109300633 with parameters: {'feature_fraction': 0.8441361700800667, 'learning_rate': 0.002900330590547711, 'subsample': 0.9197774418279273, 'min_data_in_leaf': 16, 'min_sum_hessian_in_leaf': 0.0042405612859193215, 'bagging_fraction': 0.9245521981959403, 'bagging_freq': 7, 'min_gain_to_split': 0.9286774022517412, 'lambda_l1': 0.0554153601415885, 'lambda_l2': 0.33255643863221945, 'num_leaves': 21, 'max_bin': 180}.\n"
     ]
    },
    {
     "name": "stdout",
     "output_type": "stream",
     "text": [
      "Training until validation scores don't improve for 100 rounds.\n",
      "Early stopping, best iteration is:\n",
      "[51]\tvalid_0's auc: 0.889655\n"
     ]
    },
    {
     "name": "stderr",
     "output_type": "stream",
     "text": [
      "[I 2019-04-02 20:56:46,368] Finished trial#100 resulted in value: -0.8896549423532698. Current best value is -0.8936323109300633 with parameters: {'feature_fraction': 0.8441361700800667, 'learning_rate': 0.002900330590547711, 'subsample': 0.9197774418279273, 'min_data_in_leaf': 16, 'min_sum_hessian_in_leaf': 0.0042405612859193215, 'bagging_fraction': 0.9245521981959403, 'bagging_freq': 7, 'min_gain_to_split': 0.9286774022517412, 'lambda_l1': 0.0554153601415885, 'lambda_l2': 0.33255643863221945, 'num_leaves': 21, 'max_bin': 180}.\n"
     ]
    },
    {
     "name": "stdout",
     "output_type": "stream",
     "text": [
      "Training until validation scores don't improve for 100 rounds.\n",
      "Early stopping, best iteration is:\n",
      "[6]\tvalid_0's auc: 0.884707\n"
     ]
    },
    {
     "name": "stderr",
     "output_type": "stream",
     "text": [
      "[I 2019-04-02 20:56:51,321] Finished trial#101 resulted in value: -0.8847071410595718. Current best value is -0.8936323109300633 with parameters: {'feature_fraction': 0.8441361700800667, 'learning_rate': 0.002900330590547711, 'subsample': 0.9197774418279273, 'min_data_in_leaf': 16, 'min_sum_hessian_in_leaf': 0.0042405612859193215, 'bagging_fraction': 0.9245521981959403, 'bagging_freq': 7, 'min_gain_to_split': 0.9286774022517412, 'lambda_l1': 0.0554153601415885, 'lambda_l2': 0.33255643863221945, 'num_leaves': 21, 'max_bin': 180}.\n"
     ]
    },
    {
     "name": "stdout",
     "output_type": "stream",
     "text": [
      "Training until validation scores don't improve for 100 rounds.\n",
      "Early stopping, best iteration is:\n",
      "[5]\tvalid_0's auc: 0.884303\n"
     ]
    },
    {
     "name": "stderr",
     "output_type": "stream",
     "text": [
      "[I 2019-04-02 20:56:55,660] Finished trial#102 resulted in value: -0.8843034307340452. Current best value is -0.8936323109300633 with parameters: {'feature_fraction': 0.8441361700800667, 'learning_rate': 0.002900330590547711, 'subsample': 0.9197774418279273, 'min_data_in_leaf': 16, 'min_sum_hessian_in_leaf': 0.0042405612859193215, 'bagging_fraction': 0.9245521981959403, 'bagging_freq': 7, 'min_gain_to_split': 0.9286774022517412, 'lambda_l1': 0.0554153601415885, 'lambda_l2': 0.33255643863221945, 'num_leaves': 21, 'max_bin': 180}.\n"
     ]
    },
    {
     "name": "stdout",
     "output_type": "stream",
     "text": [
      "Training until validation scores don't improve for 100 rounds.\n",
      "Early stopping, best iteration is:\n",
      "[57]\tvalid_0's auc: 0.88964\n"
     ]
    },
    {
     "name": "stderr",
     "output_type": "stream",
     "text": [
      "[I 2019-04-02 20:57:02,788] Finished trial#103 resulted in value: -0.88964025066441. Current best value is -0.8936323109300633 with parameters: {'feature_fraction': 0.8441361700800667, 'learning_rate': 0.002900330590547711, 'subsample': 0.9197774418279273, 'min_data_in_leaf': 16, 'min_sum_hessian_in_leaf': 0.0042405612859193215, 'bagging_fraction': 0.9245521981959403, 'bagging_freq': 7, 'min_gain_to_split': 0.9286774022517412, 'lambda_l1': 0.0554153601415885, 'lambda_l2': 0.33255643863221945, 'num_leaves': 21, 'max_bin': 180}.\n"
     ]
    },
    {
     "name": "stdout",
     "output_type": "stream",
     "text": [
      "Training until validation scores don't improve for 100 rounds.\n",
      "Early stopping, best iteration is:\n",
      "[6]\tvalid_0's auc: 0.884862\n"
     ]
    },
    {
     "name": "stderr",
     "output_type": "stream",
     "text": [
      "[I 2019-04-02 20:57:07,314] Finished trial#104 resulted in value: -0.8848615800928654. Current best value is -0.8936323109300633 with parameters: {'feature_fraction': 0.8441361700800667, 'learning_rate': 0.002900330590547711, 'subsample': 0.9197774418279273, 'min_data_in_leaf': 16, 'min_sum_hessian_in_leaf': 0.0042405612859193215, 'bagging_fraction': 0.9245521981959403, 'bagging_freq': 7, 'min_gain_to_split': 0.9286774022517412, 'lambda_l1': 0.0554153601415885, 'lambda_l2': 0.33255643863221945, 'num_leaves': 21, 'max_bin': 180}.\n"
     ]
    },
    {
     "name": "stdout",
     "output_type": "stream",
     "text": [
      "Training until validation scores don't improve for 100 rounds.\n",
      "Early stopping, best iteration is:\n",
      "[16]\tvalid_0's auc: 0.886575\n"
     ]
    },
    {
     "name": "stderr",
     "output_type": "stream",
     "text": [
      "[I 2019-04-02 20:57:12,075] Finished trial#105 resulted in value: -0.8865749870713139. Current best value is -0.8936323109300633 with parameters: {'feature_fraction': 0.8441361700800667, 'learning_rate': 0.002900330590547711, 'subsample': 0.9197774418279273, 'min_data_in_leaf': 16, 'min_sum_hessian_in_leaf': 0.0042405612859193215, 'bagging_fraction': 0.9245521981959403, 'bagging_freq': 7, 'min_gain_to_split': 0.9286774022517412, 'lambda_l1': 0.0554153601415885, 'lambda_l2': 0.33255643863221945, 'num_leaves': 21, 'max_bin': 180}.\n"
     ]
    },
    {
     "name": "stdout",
     "output_type": "stream",
     "text": [
      "Training until validation scores don't improve for 100 rounds.\n",
      "Early stopping, best iteration is:\n",
      "[7]\tvalid_0's auc: 0.885319\n"
     ]
    },
    {
     "name": "stderr",
     "output_type": "stream",
     "text": [
      "[I 2019-04-02 20:57:16,262] Finished trial#106 resulted in value: -0.8853185642106312. Current best value is -0.8936323109300633 with parameters: {'feature_fraction': 0.8441361700800667, 'learning_rate': 0.002900330590547711, 'subsample': 0.9197774418279273, 'min_data_in_leaf': 16, 'min_sum_hessian_in_leaf': 0.0042405612859193215, 'bagging_fraction': 0.9245521981959403, 'bagging_freq': 7, 'min_gain_to_split': 0.9286774022517412, 'lambda_l1': 0.0554153601415885, 'lambda_l2': 0.33255643863221945, 'num_leaves': 21, 'max_bin': 180}.\n"
     ]
    },
    {
     "name": "stdout",
     "output_type": "stream",
     "text": [
      "Training until validation scores don't improve for 100 rounds.\n",
      "[200]\tvalid_0's auc: 0.881858\n",
      "[400]\tvalid_0's auc: 0.883988\n",
      "[600]\tvalid_0's auc: 0.885022\n",
      "[800]\tvalid_0's auc: 0.885747\n",
      "[1000]\tvalid_0's auc: 0.886222\n",
      "[1200]\tvalid_0's auc: 0.886779\n",
      "[1400]\tvalid_0's auc: 0.887258\n",
      "[1600]\tvalid_0's auc: 0.887909\n",
      "[1800]\tvalid_0's auc: 0.888578\n",
      "[2000]\tvalid_0's auc: 0.889118\n",
      "[2200]\tvalid_0's auc: 0.889555\n",
      "[2400]\tvalid_0's auc: 0.889988\n",
      "[2600]\tvalid_0's auc: 0.890327\n",
      "[2800]\tvalid_0's auc: 0.890581\n",
      "[3000]\tvalid_0's auc: 0.890834\n",
      "[3200]\tvalid_0's auc: 0.89108\n",
      "[3400]\tvalid_0's auc: 0.891298\n",
      "[3600]\tvalid_0's auc: 0.89147\n",
      "[3800]\tvalid_0's auc: 0.891586\n",
      "[4000]\tvalid_0's auc: 0.891696\n",
      "[4200]\tvalid_0's auc: 0.891814\n",
      "[4400]\tvalid_0's auc: 0.8919\n",
      "[4600]\tvalid_0's auc: 0.891981\n",
      "[4800]\tvalid_0's auc: 0.892117\n",
      "[5000]\tvalid_0's auc: 0.892202\n",
      "[5200]\tvalid_0's auc: 0.892277\n",
      "[5400]\tvalid_0's auc: 0.892373\n",
      "[5600]\tvalid_0's auc: 0.892388\n",
      "[5800]\tvalid_0's auc: 0.892436\n",
      "[6000]\tvalid_0's auc: 0.8925\n",
      "[6200]\tvalid_0's auc: 0.892554\n",
      "[6400]\tvalid_0's auc: 0.892612\n",
      "Early stopping, best iteration is:\n",
      "[6456]\tvalid_0's auc: 0.892632\n"
     ]
    },
    {
     "name": "stderr",
     "output_type": "stream",
     "text": [
      "[I 2019-04-02 21:01:17,762] Finished trial#107 resulted in value: -0.8926321698898503. Current best value is -0.8936323109300633 with parameters: {'feature_fraction': 0.8441361700800667, 'learning_rate': 0.002900330590547711, 'subsample': 0.9197774418279273, 'min_data_in_leaf': 16, 'min_sum_hessian_in_leaf': 0.0042405612859193215, 'bagging_fraction': 0.9245521981959403, 'bagging_freq': 7, 'min_gain_to_split': 0.9286774022517412, 'lambda_l1': 0.0554153601415885, 'lambda_l2': 0.33255643863221945, 'num_leaves': 21, 'max_bin': 180}.\n"
     ]
    },
    {
     "name": "stdout",
     "output_type": "stream",
     "text": [
      "Training until validation scores don't improve for 100 rounds.\n",
      "Early stopping, best iteration is:\n",
      "[95]\tvalid_0's auc: 0.890316\n"
     ]
    },
    {
     "name": "stderr",
     "output_type": "stream",
     "text": [
      "[I 2019-04-02 21:01:24,282] Finished trial#108 resulted in value: -0.8903163449013962. Current best value is -0.8936323109300633 with parameters: {'feature_fraction': 0.8441361700800667, 'learning_rate': 0.002900330590547711, 'subsample': 0.9197774418279273, 'min_data_in_leaf': 16, 'min_sum_hessian_in_leaf': 0.0042405612859193215, 'bagging_fraction': 0.9245521981959403, 'bagging_freq': 7, 'min_gain_to_split': 0.9286774022517412, 'lambda_l1': 0.0554153601415885, 'lambda_l2': 0.33255643863221945, 'num_leaves': 21, 'max_bin': 180}.\n"
     ]
    },
    {
     "name": "stdout",
     "output_type": "stream",
     "text": [
      "Training until validation scores don't improve for 100 rounds.\n",
      "Early stopping, best iteration is:\n",
      "[58]\tvalid_0's auc: 0.889069\n"
     ]
    },
    {
     "name": "stderr",
     "output_type": "stream",
     "text": [
      "[I 2019-04-02 21:01:30,634] Finished trial#109 resulted in value: -0.8890688787856161. Current best value is -0.8936323109300633 with parameters: {'feature_fraction': 0.8441361700800667, 'learning_rate': 0.002900330590547711, 'subsample': 0.9197774418279273, 'min_data_in_leaf': 16, 'min_sum_hessian_in_leaf': 0.0042405612859193215, 'bagging_fraction': 0.9245521981959403, 'bagging_freq': 7, 'min_gain_to_split': 0.9286774022517412, 'lambda_l1': 0.0554153601415885, 'lambda_l2': 0.33255643863221945, 'num_leaves': 21, 'max_bin': 180}.\n"
     ]
    },
    {
     "name": "stdout",
     "output_type": "stream",
     "text": [
      "Training until validation scores don't improve for 100 rounds.\n",
      "Early stopping, best iteration is:\n",
      "[14]\tvalid_0's auc: 0.886981\n"
     ]
    },
    {
     "name": "stderr",
     "output_type": "stream",
     "text": [
      "[I 2019-04-02 21:01:35,957] Finished trial#110 resulted in value: -0.8869814144950623. Current best value is -0.8936323109300633 with parameters: {'feature_fraction': 0.8441361700800667, 'learning_rate': 0.002900330590547711, 'subsample': 0.9197774418279273, 'min_data_in_leaf': 16, 'min_sum_hessian_in_leaf': 0.0042405612859193215, 'bagging_fraction': 0.9245521981959403, 'bagging_freq': 7, 'min_gain_to_split': 0.9286774022517412, 'lambda_l1': 0.0554153601415885, 'lambda_l2': 0.33255643863221945, 'num_leaves': 21, 'max_bin': 180}.\n"
     ]
    },
    {
     "name": "stdout",
     "output_type": "stream",
     "text": [
      "Training until validation scores don't improve for 100 rounds.\n",
      "[200]\tvalid_0's auc: 0.889993\n",
      "Early stopping, best iteration is:\n",
      "[123]\tvalid_0's auc: 0.890258\n"
     ]
    },
    {
     "name": "stderr",
     "output_type": "stream",
     "text": [
      "[I 2019-04-02 21:01:45,479] Finished trial#111 resulted in value: -0.8902584561904209. Current best value is -0.8936323109300633 with parameters: {'feature_fraction': 0.8441361700800667, 'learning_rate': 0.002900330590547711, 'subsample': 0.9197774418279273, 'min_data_in_leaf': 16, 'min_sum_hessian_in_leaf': 0.0042405612859193215, 'bagging_fraction': 0.9245521981959403, 'bagging_freq': 7, 'min_gain_to_split': 0.9286774022517412, 'lambda_l1': 0.0554153601415885, 'lambda_l2': 0.33255643863221945, 'num_leaves': 21, 'max_bin': 180}.\n"
     ]
    },
    {
     "name": "stdout",
     "output_type": "stream",
     "text": [
      "Training until validation scores don't improve for 100 rounds.\n",
      "[200]\tvalid_0's auc: 0.891357\n",
      "[400]\tvalid_0's auc: 0.89266\n",
      "[600]\tvalid_0's auc: 0.89283\n",
      "[800]\tvalid_0's auc: 0.892973\n",
      "Early stopping, best iteration is:\n",
      "[709]\tvalid_0's auc: 0.893088\n"
     ]
    },
    {
     "name": "stderr",
     "output_type": "stream",
     "text": [
      "[I 2019-04-02 21:02:13,102] Finished trial#112 resulted in value: -0.8930880754648104. Current best value is -0.8936323109300633 with parameters: {'feature_fraction': 0.8441361700800667, 'learning_rate': 0.002900330590547711, 'subsample': 0.9197774418279273, 'min_data_in_leaf': 16, 'min_sum_hessian_in_leaf': 0.0042405612859193215, 'bagging_fraction': 0.9245521981959403, 'bagging_freq': 7, 'min_gain_to_split': 0.9286774022517412, 'lambda_l1': 0.0554153601415885, 'lambda_l2': 0.33255643863221945, 'num_leaves': 21, 'max_bin': 180}.\n"
     ]
    },
    {
     "name": "stdout",
     "output_type": "stream",
     "text": [
      "Training until validation scores don't improve for 100 rounds.\n",
      "[200]\tvalid_0's auc: 0.891322\n",
      "[400]\tvalid_0's auc: 0.89171\n",
      "Early stopping, best iteration is:\n",
      "[355]\tvalid_0's auc: 0.8921\n"
     ]
    },
    {
     "name": "stderr",
     "output_type": "stream",
     "text": [
      "[I 2019-04-02 21:02:29,608] Finished trial#113 resulted in value: -0.8921004344591662. Current best value is -0.8936323109300633 with parameters: {'feature_fraction': 0.8441361700800667, 'learning_rate': 0.002900330590547711, 'subsample': 0.9197774418279273, 'min_data_in_leaf': 16, 'min_sum_hessian_in_leaf': 0.0042405612859193215, 'bagging_fraction': 0.9245521981959403, 'bagging_freq': 7, 'min_gain_to_split': 0.9286774022517412, 'lambda_l1': 0.0554153601415885, 'lambda_l2': 0.33255643863221945, 'num_leaves': 21, 'max_bin': 180}.\n"
     ]
    },
    {
     "name": "stdout",
     "output_type": "stream",
     "text": [
      "Training until validation scores don't improve for 100 rounds.\n",
      "Early stopping, best iteration is:\n",
      "[6]\tvalid_0's auc: 0.88515\n"
     ]
    },
    {
     "name": "stderr",
     "output_type": "stream",
     "text": [
      "[I 2019-04-02 21:02:34,349] Finished trial#114 resulted in value: -0.8851499762167484. Current best value is -0.8936323109300633 with parameters: {'feature_fraction': 0.8441361700800667, 'learning_rate': 0.002900330590547711, 'subsample': 0.9197774418279273, 'min_data_in_leaf': 16, 'min_sum_hessian_in_leaf': 0.0042405612859193215, 'bagging_fraction': 0.9245521981959403, 'bagging_freq': 7, 'min_gain_to_split': 0.9286774022517412, 'lambda_l1': 0.0554153601415885, 'lambda_l2': 0.33255643863221945, 'num_leaves': 21, 'max_bin': 180}.\n"
     ]
    },
    {
     "name": "stdout",
     "output_type": "stream",
     "text": [
      "Training until validation scores don't improve for 100 rounds.\n",
      "[200]\tvalid_0's auc: 0.888834\n",
      "[400]\tvalid_0's auc: 0.891455\n",
      "[600]\tvalid_0's auc: 0.892176\n",
      "[800]\tvalid_0's auc: 0.892476\n",
      "[1000]\tvalid_0's auc: 0.892652\n",
      "Early stopping, best iteration is:\n",
      "[1039]\tvalid_0's auc: 0.892713\n"
     ]
    },
    {
     "name": "stderr",
     "output_type": "stream",
     "text": [
      "[I 2019-04-02 21:03:20,920] Finished trial#115 resulted in value: -0.892713496165642. Current best value is -0.8936323109300633 with parameters: {'feature_fraction': 0.8441361700800667, 'learning_rate': 0.002900330590547711, 'subsample': 0.9197774418279273, 'min_data_in_leaf': 16, 'min_sum_hessian_in_leaf': 0.0042405612859193215, 'bagging_fraction': 0.9245521981959403, 'bagging_freq': 7, 'min_gain_to_split': 0.9286774022517412, 'lambda_l1': 0.0554153601415885, 'lambda_l2': 0.33255643863221945, 'num_leaves': 21, 'max_bin': 180}.\n"
     ]
    },
    {
     "name": "stdout",
     "output_type": "stream",
     "text": [
      "Training until validation scores don't improve for 100 rounds.\n",
      "[200]\tvalid_0's auc: 0.883543\n",
      "[400]\tvalid_0's auc: 0.883901\n",
      "[600]\tvalid_0's auc: 0.884877\n",
      "[800]\tvalid_0's auc: 0.885601\n",
      "[1000]\tvalid_0's auc: 0.886023\n",
      "[1200]\tvalid_0's auc: 0.886338\n",
      "[1400]\tvalid_0's auc: 0.886746\n",
      "[1600]\tvalid_0's auc: 0.887105\n",
      "[1800]\tvalid_0's auc: 0.887449\n",
      "[2000]\tvalid_0's auc: 0.888019\n",
      "[2200]\tvalid_0's auc: 0.888637\n",
      "[2400]\tvalid_0's auc: 0.889176\n",
      "[2600]\tvalid_0's auc: 0.889623\n",
      "[2800]\tvalid_0's auc: 0.890007\n",
      "[3000]\tvalid_0's auc: 0.890294\n",
      "[3200]\tvalid_0's auc: 0.890577\n",
      "[3400]\tvalid_0's auc: 0.890809\n",
      "[3600]\tvalid_0's auc: 0.891071\n",
      "[3800]\tvalid_0's auc: 0.89128\n",
      "[4000]\tvalid_0's auc: 0.8915\n",
      "[4200]\tvalid_0's auc: 0.891671\n",
      "[4400]\tvalid_0's auc: 0.891853\n",
      "[4600]\tvalid_0's auc: 0.891991\n",
      "[4800]\tvalid_0's auc: 0.892113\n",
      "[5000]\tvalid_0's auc: 0.892231\n",
      "[5200]\tvalid_0's auc: 0.892344\n",
      "[5400]\tvalid_0's auc: 0.892476\n",
      "[5600]\tvalid_0's auc: 0.892585\n",
      "[5800]\tvalid_0's auc: 0.892643\n",
      "[6000]\tvalid_0's auc: 0.892721\n",
      "[6200]\tvalid_0's auc: 0.892804\n",
      "[6400]\tvalid_0's auc: 0.892842\n",
      "[6600]\tvalid_0's auc: 0.892915\n",
      "[6800]\tvalid_0's auc: 0.892988\n",
      "[7000]\tvalid_0's auc: 0.893033\n",
      "[7200]\tvalid_0's auc: 0.893102\n",
      "[7400]\tvalid_0's auc: 0.893153\n",
      "[7600]\tvalid_0's auc: 0.893204\n",
      "Early stopping, best iteration is:\n",
      "[7524]\tvalid_0's auc: 0.893209\n"
     ]
    },
    {
     "name": "stderr",
     "output_type": "stream",
     "text": [
      "[I 2019-04-02 21:08:51,162] Finished trial#116 resulted in value: -0.8932093009106774. Current best value is -0.8936323109300633 with parameters: {'feature_fraction': 0.8441361700800667, 'learning_rate': 0.002900330590547711, 'subsample': 0.9197774418279273, 'min_data_in_leaf': 16, 'min_sum_hessian_in_leaf': 0.0042405612859193215, 'bagging_fraction': 0.9245521981959403, 'bagging_freq': 7, 'min_gain_to_split': 0.9286774022517412, 'lambda_l1': 0.0554153601415885, 'lambda_l2': 0.33255643863221945, 'num_leaves': 21, 'max_bin': 180}.\n"
     ]
    },
    {
     "name": "stdout",
     "output_type": "stream",
     "text": [
      "Training until validation scores don't improve for 100 rounds.\n",
      "Early stopping, best iteration is:\n",
      "[15]\tvalid_0's auc: 0.886971\n"
     ]
    },
    {
     "name": "stderr",
     "output_type": "stream",
     "text": [
      "[I 2019-04-02 21:08:55,990] Finished trial#117 resulted in value: -0.8869705046197585. Current best value is -0.8936323109300633 with parameters: {'feature_fraction': 0.8441361700800667, 'learning_rate': 0.002900330590547711, 'subsample': 0.9197774418279273, 'min_data_in_leaf': 16, 'min_sum_hessian_in_leaf': 0.0042405612859193215, 'bagging_fraction': 0.9245521981959403, 'bagging_freq': 7, 'min_gain_to_split': 0.9286774022517412, 'lambda_l1': 0.0554153601415885, 'lambda_l2': 0.33255643863221945, 'num_leaves': 21, 'max_bin': 180}.\n"
     ]
    },
    {
     "name": "stdout",
     "output_type": "stream",
     "text": [
      "Training until validation scores don't improve for 100 rounds.\n",
      "Early stopping, best iteration is:\n",
      "[7]\tvalid_0's auc: 0.885479\n"
     ]
    },
    {
     "name": "stderr",
     "output_type": "stream",
     "text": [
      "[I 2019-04-02 21:09:00,952] Finished trial#118 resulted in value: -0.8854791702963781. Current best value is -0.8936323109300633 with parameters: {'feature_fraction': 0.8441361700800667, 'learning_rate': 0.002900330590547711, 'subsample': 0.9197774418279273, 'min_data_in_leaf': 16, 'min_sum_hessian_in_leaf': 0.0042405612859193215, 'bagging_fraction': 0.9245521981959403, 'bagging_freq': 7, 'min_gain_to_split': 0.9286774022517412, 'lambda_l1': 0.0554153601415885, 'lambda_l2': 0.33255643863221945, 'num_leaves': 21, 'max_bin': 180}.\n"
     ]
    },
    {
     "name": "stdout",
     "output_type": "stream",
     "text": [
      "Training until validation scores don't improve for 100 rounds.\n",
      "Early stopping, best iteration is:\n",
      "[4]\tvalid_0's auc: 0.884396\n"
     ]
    },
    {
     "name": "stderr",
     "output_type": "stream",
     "text": [
      "[I 2019-04-02 21:09:06,355] Finished trial#119 resulted in value: -0.8843957671343118. Current best value is -0.8936323109300633 with parameters: {'feature_fraction': 0.8441361700800667, 'learning_rate': 0.002900330590547711, 'subsample': 0.9197774418279273, 'min_data_in_leaf': 16, 'min_sum_hessian_in_leaf': 0.0042405612859193215, 'bagging_fraction': 0.9245521981959403, 'bagging_freq': 7, 'min_gain_to_split': 0.9286774022517412, 'lambda_l1': 0.0554153601415885, 'lambda_l2': 0.33255643863221945, 'num_leaves': 21, 'max_bin': 180}.\n"
     ]
    },
    {
     "name": "stdout",
     "output_type": "stream",
     "text": [
      "Training until validation scores don't improve for 100 rounds.\n",
      "Early stopping, best iteration is:\n",
      "[23]\tvalid_0's auc: 0.888344\n"
     ]
    },
    {
     "name": "stderr",
     "output_type": "stream",
     "text": [
      "[I 2019-04-02 21:09:12,151] Finished trial#120 resulted in value: -0.8883442950616567. Current best value is -0.8936323109300633 with parameters: {'feature_fraction': 0.8441361700800667, 'learning_rate': 0.002900330590547711, 'subsample': 0.9197774418279273, 'min_data_in_leaf': 16, 'min_sum_hessian_in_leaf': 0.0042405612859193215, 'bagging_fraction': 0.9245521981959403, 'bagging_freq': 7, 'min_gain_to_split': 0.9286774022517412, 'lambda_l1': 0.0554153601415885, 'lambda_l2': 0.33255643863221945, 'num_leaves': 21, 'max_bin': 180}.\n"
     ]
    },
    {
     "name": "stdout",
     "output_type": "stream",
     "text": [
      "Training until validation scores don't improve for 100 rounds.\n",
      "[200]\tvalid_0's auc: 0.890399\n",
      "Early stopping, best iteration is:\n",
      "[189]\tvalid_0's auc: 0.890712\n"
     ]
    },
    {
     "name": "stderr",
     "output_type": "stream",
     "text": [
      "[I 2019-04-02 21:09:23,998] Finished trial#121 resulted in value: -0.8907123083858086. Current best value is -0.8936323109300633 with parameters: {'feature_fraction': 0.8441361700800667, 'learning_rate': 0.002900330590547711, 'subsample': 0.9197774418279273, 'min_data_in_leaf': 16, 'min_sum_hessian_in_leaf': 0.0042405612859193215, 'bagging_fraction': 0.9245521981959403, 'bagging_freq': 7, 'min_gain_to_split': 0.9286774022517412, 'lambda_l1': 0.0554153601415885, 'lambda_l2': 0.33255643863221945, 'num_leaves': 21, 'max_bin': 180}.\n"
     ]
    },
    {
     "name": "stdout",
     "output_type": "stream",
     "text": [
      "Training until validation scores don't improve for 100 rounds.\n",
      "Early stopping, best iteration is:\n",
      "[66]\tvalid_0's auc: 0.889003\n"
     ]
    },
    {
     "name": "stderr",
     "output_type": "stream",
     "text": [
      "[I 2019-04-02 21:09:32,546] Finished trial#122 resulted in value: -0.8890034402750008. Current best value is -0.8936323109300633 with parameters: {'feature_fraction': 0.8441361700800667, 'learning_rate': 0.002900330590547711, 'subsample': 0.9197774418279273, 'min_data_in_leaf': 16, 'min_sum_hessian_in_leaf': 0.0042405612859193215, 'bagging_fraction': 0.9245521981959403, 'bagging_freq': 7, 'min_gain_to_split': 0.9286774022517412, 'lambda_l1': 0.0554153601415885, 'lambda_l2': 0.33255643863221945, 'num_leaves': 21, 'max_bin': 180}.\n"
     ]
    },
    {
     "name": "stdout",
     "output_type": "stream",
     "text": [
      "Training until validation scores don't improve for 100 rounds.\n",
      "[200]\tvalid_0's auc: 0.891791\n",
      "Early stopping, best iteration is:\n",
      "[208]\tvalid_0's auc: 0.891846\n"
     ]
    },
    {
     "name": "stderr",
     "output_type": "stream",
     "text": [
      "[I 2019-04-02 21:09:47,821] Finished trial#123 resulted in value: -0.8918464860245743. Current best value is -0.8936323109300633 with parameters: {'feature_fraction': 0.8441361700800667, 'learning_rate': 0.002900330590547711, 'subsample': 0.9197774418279273, 'min_data_in_leaf': 16, 'min_sum_hessian_in_leaf': 0.0042405612859193215, 'bagging_fraction': 0.9245521981959403, 'bagging_freq': 7, 'min_gain_to_split': 0.9286774022517412, 'lambda_l1': 0.0554153601415885, 'lambda_l2': 0.33255643863221945, 'num_leaves': 21, 'max_bin': 180}.\n"
     ]
    },
    {
     "name": "stdout",
     "output_type": "stream",
     "text": [
      "Training until validation scores don't improve for 100 rounds.\n",
      "Early stopping, best iteration is:\n",
      "[54]\tvalid_0's auc: 0.887933\n"
     ]
    },
    {
     "name": "stderr",
     "output_type": "stream",
     "text": [
      "[I 2019-04-02 21:09:54,861] Finished trial#124 resulted in value: -0.8879327583870529. Current best value is -0.8936323109300633 with parameters: {'feature_fraction': 0.8441361700800667, 'learning_rate': 0.002900330590547711, 'subsample': 0.9197774418279273, 'min_data_in_leaf': 16, 'min_sum_hessian_in_leaf': 0.0042405612859193215, 'bagging_fraction': 0.9245521981959403, 'bagging_freq': 7, 'min_gain_to_split': 0.9286774022517412, 'lambda_l1': 0.0554153601415885, 'lambda_l2': 0.33255643863221945, 'num_leaves': 21, 'max_bin': 180}.\n"
     ]
    },
    {
     "name": "stdout",
     "output_type": "stream",
     "text": [
      "Training until validation scores don't improve for 100 rounds.\n",
      "Early stopping, best iteration is:\n",
      "[18]\tvalid_0's auc: 0.886632\n"
     ]
    },
    {
     "name": "stderr",
     "output_type": "stream",
     "text": [
      "[I 2019-04-02 21:10:00,418] Finished trial#125 resulted in value: -0.8866321809518279. Current best value is -0.8936323109300633 with parameters: {'feature_fraction': 0.8441361700800667, 'learning_rate': 0.002900330590547711, 'subsample': 0.9197774418279273, 'min_data_in_leaf': 16, 'min_sum_hessian_in_leaf': 0.0042405612859193215, 'bagging_fraction': 0.9245521981959403, 'bagging_freq': 7, 'min_gain_to_split': 0.9286774022517412, 'lambda_l1': 0.0554153601415885, 'lambda_l2': 0.33255643863221945, 'num_leaves': 21, 'max_bin': 180}.\n"
     ]
    },
    {
     "name": "stdout",
     "output_type": "stream",
     "text": [
      "Training until validation scores don't improve for 100 rounds.\n",
      "[200]\tvalid_0's auc: 0.890727\n",
      "[400]\tvalid_0's auc: 0.891724\n",
      "[600]\tvalid_0's auc: 0.891813\n",
      "Early stopping, best iteration is:\n",
      "[572]\tvalid_0's auc: 0.891874\n"
     ]
    },
    {
     "name": "stderr",
     "output_type": "stream",
     "text": [
      "[I 2019-04-02 21:10:25,170] Finished trial#126 resulted in value: -0.8918742861567648. Current best value is -0.8936323109300633 with parameters: {'feature_fraction': 0.8441361700800667, 'learning_rate': 0.002900330590547711, 'subsample': 0.9197774418279273, 'min_data_in_leaf': 16, 'min_sum_hessian_in_leaf': 0.0042405612859193215, 'bagging_fraction': 0.9245521981959403, 'bagging_freq': 7, 'min_gain_to_split': 0.9286774022517412, 'lambda_l1': 0.0554153601415885, 'lambda_l2': 0.33255643863221945, 'num_leaves': 21, 'max_bin': 180}.\n"
     ]
    },
    {
     "name": "stdout",
     "output_type": "stream",
     "text": [
      "Training until validation scores don't improve for 100 rounds.\n",
      "Early stopping, best iteration is:\n",
      "[29]\tvalid_0's auc: 0.887289\n"
     ]
    },
    {
     "name": "stderr",
     "output_type": "stream",
     "text": [
      "[I 2019-04-02 21:10:30,424] Finished trial#127 resulted in value: -0.8872887922809521. Current best value is -0.8936323109300633 with parameters: {'feature_fraction': 0.8441361700800667, 'learning_rate': 0.002900330590547711, 'subsample': 0.9197774418279273, 'min_data_in_leaf': 16, 'min_sum_hessian_in_leaf': 0.0042405612859193215, 'bagging_fraction': 0.9245521981959403, 'bagging_freq': 7, 'min_gain_to_split': 0.9286774022517412, 'lambda_l1': 0.0554153601415885, 'lambda_l2': 0.33255643863221945, 'num_leaves': 21, 'max_bin': 180}.\n"
     ]
    },
    {
     "name": "stdout",
     "output_type": "stream",
     "text": [
      "Training until validation scores don't improve for 100 rounds.\n",
      "Early stopping, best iteration is:\n",
      "[59]\tvalid_0's auc: 0.889943\n"
     ]
    },
    {
     "name": "stderr",
     "output_type": "stream",
     "text": [
      "[I 2019-04-02 21:10:36,978] Finished trial#128 resulted in value: -0.8899427750076742. Current best value is -0.8936323109300633 with parameters: {'feature_fraction': 0.8441361700800667, 'learning_rate': 0.002900330590547711, 'subsample': 0.9197774418279273, 'min_data_in_leaf': 16, 'min_sum_hessian_in_leaf': 0.0042405612859193215, 'bagging_fraction': 0.9245521981959403, 'bagging_freq': 7, 'min_gain_to_split': 0.9286774022517412, 'lambda_l1': 0.0554153601415885, 'lambda_l2': 0.33255643863221945, 'num_leaves': 21, 'max_bin': 180}.\n"
     ]
    },
    {
     "name": "stdout",
     "output_type": "stream",
     "text": [
      "Training until validation scores don't improve for 100 rounds.\n",
      "[200]\tvalid_0's auc: 0.882526\n",
      "[400]\tvalid_0's auc: 0.884647\n",
      "[600]\tvalid_0's auc: 0.885729\n",
      "[800]\tvalid_0's auc: 0.886136\n",
      "[1000]\tvalid_0's auc: 0.886671\n",
      "[1200]\tvalid_0's auc: 0.887262\n",
      "[1400]\tvalid_0's auc: 0.887949\n",
      "[1600]\tvalid_0's auc: 0.888683\n",
      "[1800]\tvalid_0's auc: 0.889331\n",
      "[2000]\tvalid_0's auc: 0.889881\n",
      "[2200]\tvalid_0's auc: 0.890309\n",
      "[2400]\tvalid_0's auc: 0.890699\n",
      "[2600]\tvalid_0's auc: 0.891031\n",
      "[2800]\tvalid_0's auc: 0.891355\n",
      "[3000]\tvalid_0's auc: 0.891651\n",
      "[3200]\tvalid_0's auc: 0.891902\n",
      "[3400]\tvalid_0's auc: 0.892078\n",
      "[3600]\tvalid_0's auc: 0.892268\n",
      "[3800]\tvalid_0's auc: 0.892431\n",
      "[4000]\tvalid_0's auc: 0.892534\n",
      "[4200]\tvalid_0's auc: 0.892698\n",
      "[4400]\tvalid_0's auc: 0.892837\n",
      "[4600]\tvalid_0's auc: 0.892937\n",
      "[4800]\tvalid_0's auc: 0.893011\n",
      "[5000]\tvalid_0's auc: 0.893126\n",
      "[5200]\tvalid_0's auc: 0.893168\n",
      "[5400]\tvalid_0's auc: 0.893227\n",
      "[5600]\tvalid_0's auc: 0.893354\n",
      "[5800]\tvalid_0's auc: 0.893419\n",
      "Early stopping, best iteration is:\n",
      "[5759]\tvalid_0's auc: 0.893429\n"
     ]
    },
    {
     "name": "stderr",
     "output_type": "stream",
     "text": [
      "[I 2019-04-02 21:14:53,718] Finished trial#129 resulted in value: -0.8934292890743614. Current best value is -0.8936323109300633 with parameters: {'feature_fraction': 0.8441361700800667, 'learning_rate': 0.002900330590547711, 'subsample': 0.9197774418279273, 'min_data_in_leaf': 16, 'min_sum_hessian_in_leaf': 0.0042405612859193215, 'bagging_fraction': 0.9245521981959403, 'bagging_freq': 7, 'min_gain_to_split': 0.9286774022517412, 'lambda_l1': 0.0554153601415885, 'lambda_l2': 0.33255643863221945, 'num_leaves': 21, 'max_bin': 180}.\n"
     ]
    },
    {
     "name": "stdout",
     "output_type": "stream",
     "text": [
      "Training until validation scores don't improve for 100 rounds.\n",
      "Early stopping, best iteration is:\n",
      "[10]\tvalid_0's auc: 0.885707\n"
     ]
    },
    {
     "name": "stderr",
     "output_type": "stream",
     "text": [
      "[I 2019-04-02 21:14:58,204] Finished trial#130 resulted in value: -0.8857068465344207. Current best value is -0.8936323109300633 with parameters: {'feature_fraction': 0.8441361700800667, 'learning_rate': 0.002900330590547711, 'subsample': 0.9197774418279273, 'min_data_in_leaf': 16, 'min_sum_hessian_in_leaf': 0.0042405612859193215, 'bagging_fraction': 0.9245521981959403, 'bagging_freq': 7, 'min_gain_to_split': 0.9286774022517412, 'lambda_l1': 0.0554153601415885, 'lambda_l2': 0.33255643863221945, 'num_leaves': 21, 'max_bin': 180}.\n"
     ]
    },
    {
     "name": "stdout",
     "output_type": "stream",
     "text": [
      "Training until validation scores don't improve for 100 rounds.\n",
      "[200]\tvalid_0's auc: 0.886029\n",
      "[400]\tvalid_0's auc: 0.887826\n",
      "[600]\tvalid_0's auc: 0.889926\n",
      "[800]\tvalid_0's auc: 0.89144\n",
      "[1000]\tvalid_0's auc: 0.892096\n",
      "[1200]\tvalid_0's auc: 0.892596\n",
      "[1400]\tvalid_0's auc: 0.892893\n",
      "[1600]\tvalid_0's auc: 0.893064\n",
      "[1800]\tvalid_0's auc: 0.893196\n",
      "[2000]\tvalid_0's auc: 0.893319\n",
      "Early stopping, best iteration is:\n",
      "[1990]\tvalid_0's auc: 0.893342\n"
     ]
    },
    {
     "name": "stderr",
     "output_type": "stream",
     "text": [
      "[I 2019-04-02 21:16:35,654] Finished trial#131 resulted in value: -0.893341761177437. Current best value is -0.8936323109300633 with parameters: {'feature_fraction': 0.8441361700800667, 'learning_rate': 0.002900330590547711, 'subsample': 0.9197774418279273, 'min_data_in_leaf': 16, 'min_sum_hessian_in_leaf': 0.0042405612859193215, 'bagging_fraction': 0.9245521981959403, 'bagging_freq': 7, 'min_gain_to_split': 0.9286774022517412, 'lambda_l1': 0.0554153601415885, 'lambda_l2': 0.33255643863221945, 'num_leaves': 21, 'max_bin': 180}.\n"
     ]
    },
    {
     "name": "stdout",
     "output_type": "stream",
     "text": [
      "Training until validation scores don't improve for 100 rounds.\n",
      "Early stopping, best iteration is:\n",
      "[4]\tvalid_0's auc: 0.884568\n"
     ]
    },
    {
     "name": "stderr",
     "output_type": "stream",
     "text": [
      "[I 2019-04-02 21:16:40,795] Finished trial#132 resulted in value: -0.8845684757148111. Current best value is -0.8936323109300633 with parameters: {'feature_fraction': 0.8441361700800667, 'learning_rate': 0.002900330590547711, 'subsample': 0.9197774418279273, 'min_data_in_leaf': 16, 'min_sum_hessian_in_leaf': 0.0042405612859193215, 'bagging_fraction': 0.9245521981959403, 'bagging_freq': 7, 'min_gain_to_split': 0.9286774022517412, 'lambda_l1': 0.0554153601415885, 'lambda_l2': 0.33255643863221945, 'num_leaves': 21, 'max_bin': 180}.\n"
     ]
    },
    {
     "name": "stdout",
     "output_type": "stream",
     "text": [
      "Training until validation scores don't improve for 100 rounds.\n",
      "[200]\tvalid_0's auc: 0.883702\n",
      "[400]\tvalid_0's auc: 0.88441\n",
      "Early stopping, best iteration is:\n",
      "[422]\tvalid_0's auc: 0.884433\n"
     ]
    },
    {
     "name": "stderr",
     "output_type": "stream",
     "text": [
      "[I 2019-04-02 21:17:03,059] Finished trial#133 resulted in value: -0.8844330079729202. Current best value is -0.8936323109300633 with parameters: {'feature_fraction': 0.8441361700800667, 'learning_rate': 0.002900330590547711, 'subsample': 0.9197774418279273, 'min_data_in_leaf': 16, 'min_sum_hessian_in_leaf': 0.0042405612859193215, 'bagging_fraction': 0.9245521981959403, 'bagging_freq': 7, 'min_gain_to_split': 0.9286774022517412, 'lambda_l1': 0.0554153601415885, 'lambda_l2': 0.33255643863221945, 'num_leaves': 21, 'max_bin': 180}.\n"
     ]
    },
    {
     "name": "stdout",
     "output_type": "stream",
     "text": [
      "Training until validation scores don't improve for 100 rounds.\n",
      "[200]\tvalid_0's auc: 0.891387\n",
      "Early stopping, best iteration is:\n",
      "[125]\tvalid_0's auc: 0.891663\n"
     ]
    },
    {
     "name": "stderr",
     "output_type": "stream",
     "text": [
      "[I 2019-04-02 21:17:13,232] Finished trial#134 resulted in value: -0.8916627811470718. Current best value is -0.8936323109300633 with parameters: {'feature_fraction': 0.8441361700800667, 'learning_rate': 0.002900330590547711, 'subsample': 0.9197774418279273, 'min_data_in_leaf': 16, 'min_sum_hessian_in_leaf': 0.0042405612859193215, 'bagging_fraction': 0.9245521981959403, 'bagging_freq': 7, 'min_gain_to_split': 0.9286774022517412, 'lambda_l1': 0.0554153601415885, 'lambda_l2': 0.33255643863221945, 'num_leaves': 21, 'max_bin': 180}.\n"
     ]
    },
    {
     "name": "stdout",
     "output_type": "stream",
     "text": [
      "Training until validation scores don't improve for 100 rounds.\n",
      "Early stopping, best iteration is:\n",
      "[12]\tvalid_0's auc: 0.88573\n"
     ]
    },
    {
     "name": "stderr",
     "output_type": "stream",
     "text": [
      "[I 2019-04-02 21:17:18,437] Finished trial#135 resulted in value: -0.8857296756904749. Current best value is -0.8936323109300633 with parameters: {'feature_fraction': 0.8441361700800667, 'learning_rate': 0.002900330590547711, 'subsample': 0.9197774418279273, 'min_data_in_leaf': 16, 'min_sum_hessian_in_leaf': 0.0042405612859193215, 'bagging_fraction': 0.9245521981959403, 'bagging_freq': 7, 'min_gain_to_split': 0.9286774022517412, 'lambda_l1': 0.0554153601415885, 'lambda_l2': 0.33255643863221945, 'num_leaves': 21, 'max_bin': 180}.\n"
     ]
    },
    {
     "name": "stdout",
     "output_type": "stream",
     "text": [
      "Training until validation scores don't improve for 100 rounds.\n",
      "Early stopping, best iteration is:\n",
      "[19]\tvalid_0's auc: 0.887728\n"
     ]
    },
    {
     "name": "stderr",
     "output_type": "stream",
     "text": [
      "[I 2019-04-02 21:17:23,441] Finished trial#136 resulted in value: -0.8877281671132939. Current best value is -0.8936323109300633 with parameters: {'feature_fraction': 0.8441361700800667, 'learning_rate': 0.002900330590547711, 'subsample': 0.9197774418279273, 'min_data_in_leaf': 16, 'min_sum_hessian_in_leaf': 0.0042405612859193215, 'bagging_fraction': 0.9245521981959403, 'bagging_freq': 7, 'min_gain_to_split': 0.9286774022517412, 'lambda_l1': 0.0554153601415885, 'lambda_l2': 0.33255643863221945, 'num_leaves': 21, 'max_bin': 180}.\n"
     ]
    },
    {
     "name": "stdout",
     "output_type": "stream",
     "text": [
      "Training until validation scores don't improve for 100 rounds.\n",
      "[200]\tvalid_0's auc: 0.888688\n",
      "[400]\tvalid_0's auc: 0.891757\n",
      "[600]\tvalid_0's auc: 0.892673\n",
      "[800]\tvalid_0's auc: 0.892897\n",
      "[1000]\tvalid_0's auc: 0.893194\n",
      "[1200]\tvalid_0's auc: 0.89318\n",
      "Early stopping, best iteration is:\n",
      "[1147]\tvalid_0's auc: 0.893325\n"
     ]
    },
    {
     "name": "stderr",
     "output_type": "stream",
     "text": [
      "[I 2019-04-02 21:18:19,612] Finished trial#137 resulted in value: -0.8933248847480219. Current best value is -0.8936323109300633 with parameters: {'feature_fraction': 0.8441361700800667, 'learning_rate': 0.002900330590547711, 'subsample': 0.9197774418279273, 'min_data_in_leaf': 16, 'min_sum_hessian_in_leaf': 0.0042405612859193215, 'bagging_fraction': 0.9245521981959403, 'bagging_freq': 7, 'min_gain_to_split': 0.9286774022517412, 'lambda_l1': 0.0554153601415885, 'lambda_l2': 0.33255643863221945, 'num_leaves': 21, 'max_bin': 180}.\n"
     ]
    },
    {
     "name": "stdout",
     "output_type": "stream",
     "text": [
      "Training until validation scores don't improve for 100 rounds.\n",
      "Early stopping, best iteration is:\n",
      "[72]\tvalid_0's auc: 0.889343\n"
     ]
    },
    {
     "name": "stderr",
     "output_type": "stream",
     "text": [
      "[I 2019-04-02 21:18:27,038] Finished trial#138 resulted in value: -0.8893431190351745. Current best value is -0.8936323109300633 with parameters: {'feature_fraction': 0.8441361700800667, 'learning_rate': 0.002900330590547711, 'subsample': 0.9197774418279273, 'min_data_in_leaf': 16, 'min_sum_hessian_in_leaf': 0.0042405612859193215, 'bagging_fraction': 0.9245521981959403, 'bagging_freq': 7, 'min_gain_to_split': 0.9286774022517412, 'lambda_l1': 0.0554153601415885, 'lambda_l2': 0.33255643863221945, 'num_leaves': 21, 'max_bin': 180}.\n"
     ]
    },
    {
     "name": "stdout",
     "output_type": "stream",
     "text": [
      "Training until validation scores don't improve for 100 rounds.\n",
      "Early stopping, best iteration is:\n",
      "[49]\tvalid_0's auc: 0.888808\n"
     ]
    },
    {
     "name": "stderr",
     "output_type": "stream",
     "text": [
      "[I 2019-04-02 21:18:32,814] Finished trial#139 resulted in value: -0.888807926736523. Current best value is -0.8936323109300633 with parameters: {'feature_fraction': 0.8441361700800667, 'learning_rate': 0.002900330590547711, 'subsample': 0.9197774418279273, 'min_data_in_leaf': 16, 'min_sum_hessian_in_leaf': 0.0042405612859193215, 'bagging_fraction': 0.9245521981959403, 'bagging_freq': 7, 'min_gain_to_split': 0.9286774022517412, 'lambda_l1': 0.0554153601415885, 'lambda_l2': 0.33255643863221945, 'num_leaves': 21, 'max_bin': 180}.\n"
     ]
    },
    {
     "name": "stdout",
     "output_type": "stream",
     "text": [
      "Training until validation scores don't improve for 100 rounds.\n",
      "Early stopping, best iteration is:\n",
      "[25]\tvalid_0's auc: 0.888637\n"
     ]
    },
    {
     "name": "stderr",
     "output_type": "stream",
     "text": [
      "[I 2019-04-02 21:18:38,094] Finished trial#140 resulted in value: -0.8886369362194032. Current best value is -0.8936323109300633 with parameters: {'feature_fraction': 0.8441361700800667, 'learning_rate': 0.002900330590547711, 'subsample': 0.9197774418279273, 'min_data_in_leaf': 16, 'min_sum_hessian_in_leaf': 0.0042405612859193215, 'bagging_fraction': 0.9245521981959403, 'bagging_freq': 7, 'min_gain_to_split': 0.9286774022517412, 'lambda_l1': 0.0554153601415885, 'lambda_l2': 0.33255643863221945, 'num_leaves': 21, 'max_bin': 180}.\n"
     ]
    },
    {
     "name": "stdout",
     "output_type": "stream",
     "text": [
      "Training until validation scores don't improve for 100 rounds.\n",
      "[200]\tvalid_0's auc: 0.890866\n",
      "Early stopping, best iteration is:\n",
      "[243]\tvalid_0's auc: 0.891094\n"
     ]
    },
    {
     "name": "stderr",
     "output_type": "stream",
     "text": [
      "[I 2019-04-02 21:18:54,360] Finished trial#141 resulted in value: -0.8910940917978203. Current best value is -0.8936323109300633 with parameters: {'feature_fraction': 0.8441361700800667, 'learning_rate': 0.002900330590547711, 'subsample': 0.9197774418279273, 'min_data_in_leaf': 16, 'min_sum_hessian_in_leaf': 0.0042405612859193215, 'bagging_fraction': 0.9245521981959403, 'bagging_freq': 7, 'min_gain_to_split': 0.9286774022517412, 'lambda_l1': 0.0554153601415885, 'lambda_l2': 0.33255643863221945, 'num_leaves': 21, 'max_bin': 180}.\n"
     ]
    },
    {
     "name": "stdout",
     "output_type": "stream",
     "text": [
      "Training until validation scores don't improve for 100 rounds.\n",
      "Early stopping, best iteration is:\n",
      "[3]\tvalid_0's auc: 0.882658\n"
     ]
    },
    {
     "name": "stderr",
     "output_type": "stream",
     "text": [
      "[I 2019-04-02 21:18:58,773] Finished trial#142 resulted in value: -0.8826577437990701. Current best value is -0.8936323109300633 with parameters: {'feature_fraction': 0.8441361700800667, 'learning_rate': 0.002900330590547711, 'subsample': 0.9197774418279273, 'min_data_in_leaf': 16, 'min_sum_hessian_in_leaf': 0.0042405612859193215, 'bagging_fraction': 0.9245521981959403, 'bagging_freq': 7, 'min_gain_to_split': 0.9286774022517412, 'lambda_l1': 0.0554153601415885, 'lambda_l2': 0.33255643863221945, 'num_leaves': 21, 'max_bin': 180}.\n"
     ]
    },
    {
     "name": "stdout",
     "output_type": "stream",
     "text": [
      "Training until validation scores don't improve for 100 rounds.\n",
      "[200]\tvalid_0's auc: 0.889064\n",
      "Early stopping, best iteration is:\n",
      "[126]\tvalid_0's auc: 0.889997\n"
     ]
    },
    {
     "name": "stderr",
     "output_type": "stream",
     "text": [
      "[I 2019-04-02 21:19:09,490] Finished trial#143 resulted in value: -0.8899965293045611. Current best value is -0.8936323109300633 with parameters: {'feature_fraction': 0.8441361700800667, 'learning_rate': 0.002900330590547711, 'subsample': 0.9197774418279273, 'min_data_in_leaf': 16, 'min_sum_hessian_in_leaf': 0.0042405612859193215, 'bagging_fraction': 0.9245521981959403, 'bagging_freq': 7, 'min_gain_to_split': 0.9286774022517412, 'lambda_l1': 0.0554153601415885, 'lambda_l2': 0.33255643863221945, 'num_leaves': 21, 'max_bin': 180}.\n"
     ]
    },
    {
     "name": "stdout",
     "output_type": "stream",
     "text": [
      "Training until validation scores don't improve for 100 rounds.\n",
      "[200]\tvalid_0's auc: 0.887856\n",
      "Early stopping, best iteration is:\n",
      "[109]\tvalid_0's auc: 0.890246\n"
     ]
    },
    {
     "name": "stderr",
     "output_type": "stream",
     "text": [
      "[I 2019-04-02 21:19:17,928] Finished trial#144 resulted in value: -0.8902461635679303. Current best value is -0.8936323109300633 with parameters: {'feature_fraction': 0.8441361700800667, 'learning_rate': 0.002900330590547711, 'subsample': 0.9197774418279273, 'min_data_in_leaf': 16, 'min_sum_hessian_in_leaf': 0.0042405612859193215, 'bagging_fraction': 0.9245521981959403, 'bagging_freq': 7, 'min_gain_to_split': 0.9286774022517412, 'lambda_l1': 0.0554153601415885, 'lambda_l2': 0.33255643863221945, 'num_leaves': 21, 'max_bin': 180}.\n"
     ]
    },
    {
     "name": "stdout",
     "output_type": "stream",
     "text": [
      "Training until validation scores don't improve for 100 rounds.\n",
      "[200]\tvalid_0's auc: 0.889457\n",
      "[400]\tvalid_0's auc: 0.892167\n",
      "[600]\tvalid_0's auc: 0.892928\n",
      "Early stopping, best iteration is:\n",
      "[658]\tvalid_0's auc: 0.892952\n"
     ]
    },
    {
     "name": "stderr",
     "output_type": "stream",
     "text": [
      "[I 2019-04-02 21:19:52,935] Finished trial#145 resulted in value: -0.8929520961064605. Current best value is -0.8936323109300633 with parameters: {'feature_fraction': 0.8441361700800667, 'learning_rate': 0.002900330590547711, 'subsample': 0.9197774418279273, 'min_data_in_leaf': 16, 'min_sum_hessian_in_leaf': 0.0042405612859193215, 'bagging_fraction': 0.9245521981959403, 'bagging_freq': 7, 'min_gain_to_split': 0.9286774022517412, 'lambda_l1': 0.0554153601415885, 'lambda_l2': 0.33255643863221945, 'num_leaves': 21, 'max_bin': 180}.\n"
     ]
    },
    {
     "name": "stdout",
     "output_type": "stream",
     "text": [
      "Training until validation scores don't improve for 100 rounds.\n",
      "[200]\tvalid_0's auc: 0.891676\n",
      "Early stopping, best iteration is:\n",
      "[259]\tvalid_0's auc: 0.892071\n"
     ]
    },
    {
     "name": "stderr",
     "output_type": "stream",
     "text": [
      "[I 2019-04-02 21:20:10,558] Finished trial#146 resulted in value: -0.8920707330495936. Current best value is -0.8936323109300633 with parameters: {'feature_fraction': 0.8441361700800667, 'learning_rate': 0.002900330590547711, 'subsample': 0.9197774418279273, 'min_data_in_leaf': 16, 'min_sum_hessian_in_leaf': 0.0042405612859193215, 'bagging_fraction': 0.9245521981959403, 'bagging_freq': 7, 'min_gain_to_split': 0.9286774022517412, 'lambda_l1': 0.0554153601415885, 'lambda_l2': 0.33255643863221945, 'num_leaves': 21, 'max_bin': 180}.\n"
     ]
    },
    {
     "name": "stdout",
     "output_type": "stream",
     "text": [
      "Training until validation scores don't improve for 100 rounds.\n",
      "[200]\tvalid_0's auc: 0.890984\n",
      "[400]\tvalid_0's auc: 0.892211\n",
      "Early stopping, best iteration is:\n",
      "[439]\tvalid_0's auc: 0.892349\n"
     ]
    },
    {
     "name": "stderr",
     "output_type": "stream",
     "text": [
      "[I 2019-04-02 21:20:36,600] Finished trial#147 resulted in value: -0.8923493220390541. Current best value is -0.8936323109300633 with parameters: {'feature_fraction': 0.8441361700800667, 'learning_rate': 0.002900330590547711, 'subsample': 0.9197774418279273, 'min_data_in_leaf': 16, 'min_sum_hessian_in_leaf': 0.0042405612859193215, 'bagging_fraction': 0.9245521981959403, 'bagging_freq': 7, 'min_gain_to_split': 0.9286774022517412, 'lambda_l1': 0.0554153601415885, 'lambda_l2': 0.33255643863221945, 'num_leaves': 21, 'max_bin': 180}.\n"
     ]
    },
    {
     "name": "stdout",
     "output_type": "stream",
     "text": [
      "Training until validation scores don't improve for 100 rounds.\n",
      "[200]\tvalid_0's auc: 0.886173\n",
      "[400]\tvalid_0's auc: 0.888163\n",
      "[600]\tvalid_0's auc: 0.89016\n",
      "[800]\tvalid_0's auc: 0.891236\n",
      "[1000]\tvalid_0's auc: 0.891913\n",
      "[1200]\tvalid_0's auc: 0.892295\n",
      "[1400]\tvalid_0's auc: 0.892595\n",
      "[1600]\tvalid_0's auc: 0.892921\n",
      "[1800]\tvalid_0's auc: 0.893125\n",
      "Early stopping, best iteration is:\n",
      "[1806]\tvalid_0's auc: 0.893144\n"
     ]
    },
    {
     "name": "stderr",
     "output_type": "stream",
     "text": [
      "[I 2019-04-02 21:22:04,630] Finished trial#148 resulted in value: -0.8931442772242179. Current best value is -0.8936323109300633 with parameters: {'feature_fraction': 0.8441361700800667, 'learning_rate': 0.002900330590547711, 'subsample': 0.9197774418279273, 'min_data_in_leaf': 16, 'min_sum_hessian_in_leaf': 0.0042405612859193215, 'bagging_fraction': 0.9245521981959403, 'bagging_freq': 7, 'min_gain_to_split': 0.9286774022517412, 'lambda_l1': 0.0554153601415885, 'lambda_l2': 0.33255643863221945, 'num_leaves': 21, 'max_bin': 180}.\n"
     ]
    },
    {
     "name": "stdout",
     "output_type": "stream",
     "text": [
      "Training until validation scores don't improve for 100 rounds.\n",
      "[200]\tvalid_0's auc: 0.887614\n",
      "[400]\tvalid_0's auc: 0.890892\n",
      "[600]\tvalid_0's auc: 0.892128\n",
      "[800]\tvalid_0's auc: 0.89276\n",
      "[1000]\tvalid_0's auc: 0.893042\n",
      "[1200]\tvalid_0's auc: 0.893159\n",
      "Early stopping, best iteration is:\n",
      "[1206]\tvalid_0's auc: 0.893184\n"
     ]
    },
    {
     "name": "stderr",
     "output_type": "stream",
     "text": [
      "[I 2019-04-02 21:23:05,395] Finished trial#149 resulted in value: -0.8931836163816825. Current best value is -0.8936323109300633 with parameters: {'feature_fraction': 0.8441361700800667, 'learning_rate': 0.002900330590547711, 'subsample': 0.9197774418279273, 'min_data_in_leaf': 16, 'min_sum_hessian_in_leaf': 0.0042405612859193215, 'bagging_fraction': 0.9245521981959403, 'bagging_freq': 7, 'min_gain_to_split': 0.9286774022517412, 'lambda_l1': 0.0554153601415885, 'lambda_l2': 0.33255643863221945, 'num_leaves': 21, 'max_bin': 180}.\n"
     ]
    },
    {
     "name": "stdout",
     "output_type": "stream",
     "text": [
      "Training until validation scores don't improve for 100 rounds.\n",
      "[200]\tvalid_0's auc: 0.889615\n",
      "Early stopping, best iteration is:\n",
      "[163]\tvalid_0's auc: 0.890316\n"
     ]
    },
    {
     "name": "stderr",
     "output_type": "stream",
     "text": [
      "[I 2019-04-02 21:23:16,130] Finished trial#150 resulted in value: -0.8903164002112839. Current best value is -0.8936323109300633 with parameters: {'feature_fraction': 0.8441361700800667, 'learning_rate': 0.002900330590547711, 'subsample': 0.9197774418279273, 'min_data_in_leaf': 16, 'min_sum_hessian_in_leaf': 0.0042405612859193215, 'bagging_fraction': 0.9245521981959403, 'bagging_freq': 7, 'min_gain_to_split': 0.9286774022517412, 'lambda_l1': 0.0554153601415885, 'lambda_l2': 0.33255643863221945, 'num_leaves': 21, 'max_bin': 180}.\n"
     ]
    },
    {
     "name": "stdout",
     "output_type": "stream",
     "text": [
      "Training until validation scores don't improve for 100 rounds.\n",
      "[200]\tvalid_0's auc: 0.883892\n",
      "[400]\tvalid_0's auc: 0.884104\n",
      "[600]\tvalid_0's auc: 0.884705\n",
      "[800]\tvalid_0's auc: 0.885025\n",
      "[1000]\tvalid_0's auc: 0.885834\n",
      "[1200]\tvalid_0's auc: 0.886108\n",
      "[1400]\tvalid_0's auc: 0.88637\n",
      "[1600]\tvalid_0's auc: 0.886678\n",
      "[1800]\tvalid_0's auc: 0.886939\n",
      "[2000]\tvalid_0's auc: 0.887227\n",
      "[2200]\tvalid_0's auc: 0.887533\n",
      "[2400]\tvalid_0's auc: 0.887803\n",
      "[2600]\tvalid_0's auc: 0.888185\n",
      "[2800]\tvalid_0's auc: 0.888581\n",
      "[3000]\tvalid_0's auc: 0.888951\n",
      "[3200]\tvalid_0's auc: 0.889321\n",
      "[3400]\tvalid_0's auc: 0.889635\n",
      "[3600]\tvalid_0's auc: 0.889916\n",
      "[3800]\tvalid_0's auc: 0.890198\n",
      "[4000]\tvalid_0's auc: 0.890459\n",
      "[4200]\tvalid_0's auc: 0.890693\n",
      "[4400]\tvalid_0's auc: 0.890908\n",
      "[4600]\tvalid_0's auc: 0.891114\n",
      "[4800]\tvalid_0's auc: 0.891299\n",
      "[5000]\tvalid_0's auc: 0.891456\n",
      "[5200]\tvalid_0's auc: 0.891637\n",
      "[5400]\tvalid_0's auc: 0.891768\n",
      "[5600]\tvalid_0's auc: 0.891923\n",
      "[5800]\tvalid_0's auc: 0.89205\n",
      "[6000]\tvalid_0's auc: 0.892166\n",
      "[6200]\tvalid_0's auc: 0.892259\n",
      "[6400]\tvalid_0's auc: 0.892374\n",
      "[6600]\tvalid_0's auc: 0.892482\n",
      "[6800]\tvalid_0's auc: 0.892579\n",
      "[7000]\tvalid_0's auc: 0.892693\n",
      "[7200]\tvalid_0's auc: 0.892764\n",
      "[7400]\tvalid_0's auc: 0.892878\n",
      "[7600]\tvalid_0's auc: 0.892955\n",
      "[7800]\tvalid_0's auc: 0.893019\n",
      "[8000]\tvalid_0's auc: 0.893093\n",
      "[8200]\tvalid_0's auc: 0.893173\n",
      "[8400]\tvalid_0's auc: 0.893248\n",
      "[8600]\tvalid_0's auc: 0.893316\n",
      "[8800]\tvalid_0's auc: 0.893382\n",
      "[9000]\tvalid_0's auc: 0.893443\n",
      "[9200]\tvalid_0's auc: 0.89351\n",
      "[9400]\tvalid_0's auc: 0.893564\n",
      "[9600]\tvalid_0's auc: 0.893598\n",
      "[9800]\tvalid_0's auc: 0.893656\n",
      "[10000]\tvalid_0's auc: 0.893706\n",
      "Did not meet early stopping. Best iteration is:\n",
      "[9999]\tvalid_0's auc: 0.893707\n"
     ]
    },
    {
     "name": "stderr",
     "output_type": "stream",
     "text": [
      "[I 2019-04-02 21:31:26,790] Finished trial#151 resulted in value: -0.8937065644539947. Current best value is -0.8937065644539947 with parameters: {'feature_fraction': 0.8511387076865629, 'learning_rate': 0.0018879228618584366, 'subsample': 0.8977614795344665, 'min_data_in_leaf': 100, 'min_sum_hessian_in_leaf': 0.00182719843764287, 'bagging_fraction': 0.8880427123779113, 'bagging_freq': 2, 'min_gain_to_split': 0.9528499982983796, 'lambda_l1': 0.2322778098581329, 'lambda_l2': 0.1308106687873926, 'num_leaves': 28, 'max_bin': 202}.\n"
     ]
    },
    {
     "name": "stdout",
     "output_type": "stream",
     "text": [
      "Training until validation scores don't improve for 100 rounds.\n",
      "[200]\tvalid_0's auc: 0.8911\n",
      "[400]\tvalid_0's auc: 0.891287\n",
      "Early stopping, best iteration is:\n",
      "[304]\tvalid_0's auc: 0.891398\n"
     ]
    },
    {
     "name": "stderr",
     "output_type": "stream",
     "text": [
      "[I 2019-04-02 21:31:45,276] Finished trial#152 resulted in value: -0.8913977430800417. Current best value is -0.8937065644539947 with parameters: {'feature_fraction': 0.8511387076865629, 'learning_rate': 0.0018879228618584366, 'subsample': 0.8977614795344665, 'min_data_in_leaf': 100, 'min_sum_hessian_in_leaf': 0.00182719843764287, 'bagging_fraction': 0.8880427123779113, 'bagging_freq': 2, 'min_gain_to_split': 0.9528499982983796, 'lambda_l1': 0.2322778098581329, 'lambda_l2': 0.1308106687873926, 'num_leaves': 28, 'max_bin': 202}.\n"
     ]
    },
    {
     "name": "stdout",
     "output_type": "stream",
     "text": [
      "Training until validation scores don't improve for 100 rounds.\n",
      "[200]\tvalid_0's auc: 0.890392\n",
      "[400]\tvalid_0's auc: 0.891841\n",
      "[600]\tvalid_0's auc: 0.892025\n",
      "Early stopping, best iteration is:\n",
      "[509]\tvalid_0's auc: 0.892084\n"
     ]
    },
    {
     "name": "stderr",
     "output_type": "stream",
     "text": [
      "[I 2019-04-02 21:32:13,447] Finished trial#153 resulted in value: -0.8920839106302837. Current best value is -0.8937065644539947 with parameters: {'feature_fraction': 0.8511387076865629, 'learning_rate': 0.0018879228618584366, 'subsample': 0.8977614795344665, 'min_data_in_leaf': 100, 'min_sum_hessian_in_leaf': 0.00182719843764287, 'bagging_fraction': 0.8880427123779113, 'bagging_freq': 2, 'min_gain_to_split': 0.9528499982983796, 'lambda_l1': 0.2322778098581329, 'lambda_l2': 0.1308106687873926, 'num_leaves': 28, 'max_bin': 202}.\n"
     ]
    },
    {
     "name": "stdout",
     "output_type": "stream",
     "text": [
      "Training until validation scores don't improve for 100 rounds.\n",
      "Early stopping, best iteration is:\n",
      "[44]\tvalid_0's auc: 0.888092\n"
     ]
    },
    {
     "name": "stderr",
     "output_type": "stream",
     "text": [
      "[I 2019-04-02 21:32:20,361] Finished trial#154 resulted in value: -0.888092113086596. Current best value is -0.8937065644539947 with parameters: {'feature_fraction': 0.8511387076865629, 'learning_rate': 0.0018879228618584366, 'subsample': 0.8977614795344665, 'min_data_in_leaf': 100, 'min_sum_hessian_in_leaf': 0.00182719843764287, 'bagging_fraction': 0.8880427123779113, 'bagging_freq': 2, 'min_gain_to_split': 0.9528499982983796, 'lambda_l1': 0.2322778098581329, 'lambda_l2': 0.1308106687873926, 'num_leaves': 28, 'max_bin': 202}.\n"
     ]
    },
    {
     "name": "stdout",
     "output_type": "stream",
     "text": [
      "Training until validation scores don't improve for 100 rounds.\n",
      "[200]\tvalid_0's auc: 0.88364\n",
      "Early stopping, best iteration is:\n",
      "[267]\tvalid_0's auc: 0.884188\n"
     ]
    },
    {
     "name": "stderr",
     "output_type": "stream",
     "text": [
      "[I 2019-04-02 21:32:36,626] Finished trial#155 resulted in value: -0.8841878538104364. Current best value is -0.8937065644539947 with parameters: {'feature_fraction': 0.8511387076865629, 'learning_rate': 0.0018879228618584366, 'subsample': 0.8977614795344665, 'min_data_in_leaf': 100, 'min_sum_hessian_in_leaf': 0.00182719843764287, 'bagging_fraction': 0.8880427123779113, 'bagging_freq': 2, 'min_gain_to_split': 0.9528499982983796, 'lambda_l1': 0.2322778098581329, 'lambda_l2': 0.1308106687873926, 'num_leaves': 28, 'max_bin': 202}.\n"
     ]
    },
    {
     "name": "stdout",
     "output_type": "stream",
     "text": [
      "Training until validation scores don't improve for 100 rounds.\n",
      "[200]\tvalid_0's auc: 0.889104\n",
      "Early stopping, best iteration is:\n",
      "[130]\tvalid_0's auc: 0.889487\n"
     ]
    },
    {
     "name": "stderr",
     "output_type": "stream",
     "text": [
      "[I 2019-04-02 21:32:47,984] Finished trial#156 resulted in value: -0.8894874363590608. Current best value is -0.8937065644539947 with parameters: {'feature_fraction': 0.8511387076865629, 'learning_rate': 0.0018879228618584366, 'subsample': 0.8977614795344665, 'min_data_in_leaf': 100, 'min_sum_hessian_in_leaf': 0.00182719843764287, 'bagging_fraction': 0.8880427123779113, 'bagging_freq': 2, 'min_gain_to_split': 0.9528499982983796, 'lambda_l1': 0.2322778098581329, 'lambda_l2': 0.1308106687873926, 'num_leaves': 28, 'max_bin': 202}.\n"
     ]
    },
    {
     "name": "stdout",
     "output_type": "stream",
     "text": [
      "Training until validation scores don't improve for 100 rounds.\n",
      "[200]\tvalid_0's auc: 0.891559\n",
      "Early stopping, best iteration is:\n",
      "[205]\tvalid_0's auc: 0.891673\n"
     ]
    },
    {
     "name": "stderr",
     "output_type": "stream",
     "text": [
      "[I 2019-04-02 21:33:01,825] Finished trial#157 resulted in value: -0.891673442127882. Current best value is -0.8937065644539947 with parameters: {'feature_fraction': 0.8511387076865629, 'learning_rate': 0.0018879228618584366, 'subsample': 0.8977614795344665, 'min_data_in_leaf': 100, 'min_sum_hessian_in_leaf': 0.00182719843764287, 'bagging_fraction': 0.8880427123779113, 'bagging_freq': 2, 'min_gain_to_split': 0.9528499982983796, 'lambda_l1': 0.2322778098581329, 'lambda_l2': 0.1308106687873926, 'num_leaves': 28, 'max_bin': 202}.\n"
     ]
    },
    {
     "name": "stdout",
     "output_type": "stream",
     "text": [
      "Training until validation scores don't improve for 100 rounds.\n",
      "Early stopping, best iteration is:\n",
      "[29]\tvalid_0's auc: 0.888096\n"
     ]
    },
    {
     "name": "stderr",
     "output_type": "stream",
     "text": [
      "[I 2019-04-02 21:33:08,796] Finished trial#158 resulted in value: -0.888095566497695. Current best value is -0.8937065644539947 with parameters: {'feature_fraction': 0.8511387076865629, 'learning_rate': 0.0018879228618584366, 'subsample': 0.8977614795344665, 'min_data_in_leaf': 100, 'min_sum_hessian_in_leaf': 0.00182719843764287, 'bagging_fraction': 0.8880427123779113, 'bagging_freq': 2, 'min_gain_to_split': 0.9528499982983796, 'lambda_l1': 0.2322778098581329, 'lambda_l2': 0.1308106687873926, 'num_leaves': 28, 'max_bin': 202}.\n"
     ]
    },
    {
     "name": "stdout",
     "output_type": "stream",
     "text": [
      "Training until validation scores don't improve for 100 rounds.\n",
      "Early stopping, best iteration is:\n",
      "[33]\tvalid_0's auc: 0.886524\n"
     ]
    },
    {
     "name": "stderr",
     "output_type": "stream",
     "text": [
      "[I 2019-04-02 21:33:15,726] Finished trial#159 resulted in value: -0.8865238115979303. Current best value is -0.8937065644539947 with parameters: {'feature_fraction': 0.8511387076865629, 'learning_rate': 0.0018879228618584366, 'subsample': 0.8977614795344665, 'min_data_in_leaf': 100, 'min_sum_hessian_in_leaf': 0.00182719843764287, 'bagging_fraction': 0.8880427123779113, 'bagging_freq': 2, 'min_gain_to_split': 0.9528499982983796, 'lambda_l1': 0.2322778098581329, 'lambda_l2': 0.1308106687873926, 'num_leaves': 28, 'max_bin': 202}.\n"
     ]
    },
    {
     "name": "stdout",
     "output_type": "stream",
     "text": [
      "Training until validation scores don't improve for 100 rounds.\n",
      "[200]\tvalid_0's auc: 0.888616\n",
      "Early stopping, best iteration is:\n",
      "[109]\tvalid_0's auc: 0.889641\n"
     ]
    },
    {
     "name": "stderr",
     "output_type": "stream",
     "text": [
      "[I 2019-04-02 21:33:23,890] Finished trial#160 resulted in value: -0.889640872900644. Current best value is -0.8937065644539947 with parameters: {'feature_fraction': 0.8511387076865629, 'learning_rate': 0.0018879228618584366, 'subsample': 0.8977614795344665, 'min_data_in_leaf': 100, 'min_sum_hessian_in_leaf': 0.00182719843764287, 'bagging_fraction': 0.8880427123779113, 'bagging_freq': 2, 'min_gain_to_split': 0.9528499982983796, 'lambda_l1': 0.2322778098581329, 'lambda_l2': 0.1308106687873926, 'num_leaves': 28, 'max_bin': 202}.\n"
     ]
    },
    {
     "name": "stdout",
     "output_type": "stream",
     "text": [
      "Training until validation scores don't improve for 100 rounds.\n",
      "Early stopping, best iteration is:\n",
      "[32]\tvalid_0's auc: 0.88817\n"
     ]
    },
    {
     "name": "stderr",
     "output_type": "stream",
     "text": [
      "[I 2019-04-02 21:33:29,998] Finished trial#161 resulted in value: -0.8881699133570612. Current best value is -0.8937065644539947 with parameters: {'feature_fraction': 0.8511387076865629, 'learning_rate': 0.0018879228618584366, 'subsample': 0.8977614795344665, 'min_data_in_leaf': 100, 'min_sum_hessian_in_leaf': 0.00182719843764287, 'bagging_fraction': 0.8880427123779113, 'bagging_freq': 2, 'min_gain_to_split': 0.9528499982983796, 'lambda_l1': 0.2322778098581329, 'lambda_l2': 0.1308106687873926, 'num_leaves': 28, 'max_bin': 202}.\n"
     ]
    },
    {
     "name": "stdout",
     "output_type": "stream",
     "text": [
      "Training until validation scores don't improve for 100 rounds.\n",
      "[200]\tvalid_0's auc: 0.891179\n",
      "Early stopping, best iteration is:\n",
      "[241]\tvalid_0's auc: 0.891376\n"
     ]
    },
    {
     "name": "stderr",
     "output_type": "stream",
     "text": [
      "[I 2019-04-02 21:33:53,752] Finished trial#162 resulted in value: -0.891376434945893. Current best value is -0.8937065644539947 with parameters: {'feature_fraction': 0.8511387076865629, 'learning_rate': 0.0018879228618584366, 'subsample': 0.8977614795344665, 'min_data_in_leaf': 100, 'min_sum_hessian_in_leaf': 0.00182719843764287, 'bagging_fraction': 0.8880427123779113, 'bagging_freq': 2, 'min_gain_to_split': 0.9528499982983796, 'lambda_l1': 0.2322778098581329, 'lambda_l2': 0.1308106687873926, 'num_leaves': 28, 'max_bin': 202}.\n"
     ]
    },
    {
     "name": "stdout",
     "output_type": "stream",
     "text": [
      "Training until validation scores don't improve for 100 rounds.\n",
      "[200]\tvalid_0's auc: 0.887822\n",
      "Early stopping, best iteration is:\n",
      "[112]\tvalid_0's auc: 0.889254\n"
     ]
    },
    {
     "name": "stderr",
     "output_type": "stream",
     "text": [
      "[I 2019-04-02 21:34:03,169] Finished trial#163 resulted in value: -0.8892542913558943. Current best value is -0.8937065644539947 with parameters: {'feature_fraction': 0.8511387076865629, 'learning_rate': 0.0018879228618584366, 'subsample': 0.8977614795344665, 'min_data_in_leaf': 100, 'min_sum_hessian_in_leaf': 0.00182719843764287, 'bagging_fraction': 0.8880427123779113, 'bagging_freq': 2, 'min_gain_to_split': 0.9528499982983796, 'lambda_l1': 0.2322778098581329, 'lambda_l2': 0.1308106687873926, 'num_leaves': 28, 'max_bin': 202}.\n"
     ]
    },
    {
     "name": "stdout",
     "output_type": "stream",
     "text": [
      "Training until validation scores don't improve for 100 rounds.\n",
      "[200]\tvalid_0's auc: 0.890376\n",
      "Early stopping, best iteration is:\n",
      "[180]\tvalid_0's auc: 0.890571\n"
     ]
    },
    {
     "name": "stderr",
     "output_type": "stream",
     "text": [
      "[I 2019-04-02 21:34:14,701] Finished trial#164 resulted in value: -0.8905708602623348. Current best value is -0.8937065644539947 with parameters: {'feature_fraction': 0.8511387076865629, 'learning_rate': 0.0018879228618584366, 'subsample': 0.8977614795344665, 'min_data_in_leaf': 100, 'min_sum_hessian_in_leaf': 0.00182719843764287, 'bagging_fraction': 0.8880427123779113, 'bagging_freq': 2, 'min_gain_to_split': 0.9528499982983796, 'lambda_l1': 0.2322778098581329, 'lambda_l2': 0.1308106687873926, 'num_leaves': 28, 'max_bin': 202}.\n"
     ]
    },
    {
     "name": "stdout",
     "output_type": "stream",
     "text": [
      "Training until validation scores don't improve for 100 rounds.\n",
      "[200]\tvalid_0's auc: 0.890339\n",
      "[400]\tvalid_0's auc: 0.891879\n",
      "Early stopping, best iteration is:\n",
      "[489]\tvalid_0's auc: 0.892165\n"
     ]
    },
    {
     "name": "stderr",
     "output_type": "stream",
     "text": [
      "[I 2019-04-02 21:34:44,686] Finished trial#165 resulted in value: -0.8921653682670582. Current best value is -0.8937065644539947 with parameters: {'feature_fraction': 0.8511387076865629, 'learning_rate': 0.0018879228618584366, 'subsample': 0.8977614795344665, 'min_data_in_leaf': 100, 'min_sum_hessian_in_leaf': 0.00182719843764287, 'bagging_fraction': 0.8880427123779113, 'bagging_freq': 2, 'min_gain_to_split': 0.9528499982983796, 'lambda_l1': 0.2322778098581329, 'lambda_l2': 0.1308106687873926, 'num_leaves': 28, 'max_bin': 202}.\n"
     ]
    },
    {
     "name": "stdout",
     "output_type": "stream",
     "text": [
      "Training until validation scores don't improve for 100 rounds.\n",
      "Early stopping, best iteration is:\n",
      "[55]\tvalid_0's auc: 0.888873\n"
     ]
    },
    {
     "name": "stderr",
     "output_type": "stream",
     "text": [
      "[I 2019-04-02 21:34:52,143] Finished trial#166 resulted in value: -0.8888729365955105. Current best value is -0.8937065644539947 with parameters: {'feature_fraction': 0.8511387076865629, 'learning_rate': 0.0018879228618584366, 'subsample': 0.8977614795344665, 'min_data_in_leaf': 100, 'min_sum_hessian_in_leaf': 0.00182719843764287, 'bagging_fraction': 0.8880427123779113, 'bagging_freq': 2, 'min_gain_to_split': 0.9528499982983796, 'lambda_l1': 0.2322778098581329, 'lambda_l2': 0.1308106687873926, 'num_leaves': 28, 'max_bin': 202}.\n"
     ]
    },
    {
     "name": "stdout",
     "output_type": "stream",
     "text": [
      "Training until validation scores don't improve for 100 rounds.\n",
      "[200]\tvalid_0's auc: 0.88684\n",
      "[400]\tvalid_0's auc: 0.889492\n",
      "[600]\tvalid_0's auc: 0.89115\n",
      "[800]\tvalid_0's auc: 0.892126\n",
      "[1000]\tvalid_0's auc: 0.89268\n",
      "[1200]\tvalid_0's auc: 0.892794\n",
      "Early stopping, best iteration is:\n",
      "[1124]\tvalid_0's auc: 0.892863\n"
     ]
    },
    {
     "name": "stderr",
     "output_type": "stream",
     "text": [
      "[I 2019-04-02 21:36:05,807] Finished trial#167 resulted in value: -0.892863316823332. Current best value is -0.8937065644539947 with parameters: {'feature_fraction': 0.8511387076865629, 'learning_rate': 0.0018879228618584366, 'subsample': 0.8977614795344665, 'min_data_in_leaf': 100, 'min_sum_hessian_in_leaf': 0.00182719843764287, 'bagging_fraction': 0.8880427123779113, 'bagging_freq': 2, 'min_gain_to_split': 0.9528499982983796, 'lambda_l1': 0.2322778098581329, 'lambda_l2': 0.1308106687873926, 'num_leaves': 28, 'max_bin': 202}.\n"
     ]
    },
    {
     "name": "stdout",
     "output_type": "stream",
     "text": [
      "Training until validation scores don't improve for 100 rounds.\n",
      "[200]\tvalid_0's auc: 0.889736\n",
      "Early stopping, best iteration is:\n",
      "[117]\tvalid_0's auc: 0.890489\n"
     ]
    },
    {
     "name": "stderr",
     "output_type": "stream",
     "text": [
      "[I 2019-04-02 21:36:16,675] Finished trial#168 resulted in value: -0.8904894026255603. Current best value is -0.8937065644539947 with parameters: {'feature_fraction': 0.8511387076865629, 'learning_rate': 0.0018879228618584366, 'subsample': 0.8977614795344665, 'min_data_in_leaf': 100, 'min_sum_hessian_in_leaf': 0.00182719843764287, 'bagging_fraction': 0.8880427123779113, 'bagging_freq': 2, 'min_gain_to_split': 0.9528499982983796, 'lambda_l1': 0.2322778098581329, 'lambda_l2': 0.1308106687873926, 'num_leaves': 28, 'max_bin': 202}.\n"
     ]
    },
    {
     "name": "stdout",
     "output_type": "stream",
     "text": [
      "Training until validation scores don't improve for 100 rounds.\n",
      "[200]\tvalid_0's auc: 0.890105\n",
      "Early stopping, best iteration is:\n",
      "[127]\tvalid_0's auc: 0.890712\n"
     ]
    },
    {
     "name": "stderr",
     "output_type": "stream",
     "text": [
      "[I 2019-04-02 21:36:28,980] Finished trial#169 resulted in value: -0.8907123222132804. Current best value is -0.8937065644539947 with parameters: {'feature_fraction': 0.8511387076865629, 'learning_rate': 0.0018879228618584366, 'subsample': 0.8977614795344665, 'min_data_in_leaf': 100, 'min_sum_hessian_in_leaf': 0.00182719843764287, 'bagging_fraction': 0.8880427123779113, 'bagging_freq': 2, 'min_gain_to_split': 0.9528499982983796, 'lambda_l1': 0.2322778098581329, 'lambda_l2': 0.1308106687873926, 'num_leaves': 28, 'max_bin': 202}.\n"
     ]
    },
    {
     "name": "stdout",
     "output_type": "stream",
     "text": [
      "Training until validation scores don't improve for 100 rounds.\n",
      "Early stopping, best iteration is:\n",
      "[36]\tvalid_0's auc: 0.888679\n"
     ]
    },
    {
     "name": "stderr",
     "output_type": "stream",
     "text": [
      "[I 2019-04-02 21:36:35,190] Finished trial#170 resulted in value: -0.8886785361685182. Current best value is -0.8937065644539947 with parameters: {'feature_fraction': 0.8511387076865629, 'learning_rate': 0.0018879228618584366, 'subsample': 0.8977614795344665, 'min_data_in_leaf': 100, 'min_sum_hessian_in_leaf': 0.00182719843764287, 'bagging_fraction': 0.8880427123779113, 'bagging_freq': 2, 'min_gain_to_split': 0.9528499982983796, 'lambda_l1': 0.2322778098581329, 'lambda_l2': 0.1308106687873926, 'num_leaves': 28, 'max_bin': 202}.\n"
     ]
    },
    {
     "name": "stdout",
     "output_type": "stream",
     "text": [
      "Training until validation scores don't improve for 100 rounds.\n",
      "Early stopping, best iteration is:\n",
      "[14]\tvalid_0's auc: 0.887337\n"
     ]
    },
    {
     "name": "stderr",
     "output_type": "stream",
     "text": [
      "[I 2019-04-02 21:36:39,804] Finished trial#171 resulted in value: -0.8873365074295005. Current best value is -0.8937065644539947 with parameters: {'feature_fraction': 0.8511387076865629, 'learning_rate': 0.0018879228618584366, 'subsample': 0.8977614795344665, 'min_data_in_leaf': 100, 'min_sum_hessian_in_leaf': 0.00182719843764287, 'bagging_fraction': 0.8880427123779113, 'bagging_freq': 2, 'min_gain_to_split': 0.9528499982983796, 'lambda_l1': 0.2322778098581329, 'lambda_l2': 0.1308106687873926, 'num_leaves': 28, 'max_bin': 202}.\n"
     ]
    },
    {
     "name": "stdout",
     "output_type": "stream",
     "text": [
      "Training until validation scores don't improve for 100 rounds.\n",
      "[200]\tvalid_0's auc: 0.882457\n",
      "[400]\tvalid_0's auc: 0.883774\n",
      "[600]\tvalid_0's auc: 0.883861\n",
      "Early stopping, best iteration is:\n",
      "[524]\tvalid_0's auc: 0.883886\n"
     ]
    },
    {
     "name": "stderr",
     "output_type": "stream",
     "text": [
      "[I 2019-04-02 21:37:09,251] Finished trial#172 resulted in value: -0.8838863146745429. Current best value is -0.8937065644539947 with parameters: {'feature_fraction': 0.8511387076865629, 'learning_rate': 0.0018879228618584366, 'subsample': 0.8977614795344665, 'min_data_in_leaf': 100, 'min_sum_hessian_in_leaf': 0.00182719843764287, 'bagging_fraction': 0.8880427123779113, 'bagging_freq': 2, 'min_gain_to_split': 0.9528499982983796, 'lambda_l1': 0.2322778098581329, 'lambda_l2': 0.1308106687873926, 'num_leaves': 28, 'max_bin': 202}.\n"
     ]
    },
    {
     "name": "stdout",
     "output_type": "stream",
     "text": [
      "Training until validation scores don't improve for 100 rounds.\n",
      "Early stopping, best iteration is:\n",
      "[10]\tvalid_0's auc: 0.885672\n"
     ]
    },
    {
     "name": "stderr",
     "output_type": "stream",
     "text": [
      "[I 2019-04-02 21:37:13,816] Finished trial#173 resulted in value: -0.8856715795674215. Current best value is -0.8937065644539947 with parameters: {'feature_fraction': 0.8511387076865629, 'learning_rate': 0.0018879228618584366, 'subsample': 0.8977614795344665, 'min_data_in_leaf': 100, 'min_sum_hessian_in_leaf': 0.00182719843764287, 'bagging_fraction': 0.8880427123779113, 'bagging_freq': 2, 'min_gain_to_split': 0.9528499982983796, 'lambda_l1': 0.2322778098581329, 'lambda_l2': 0.1308106687873926, 'num_leaves': 28, 'max_bin': 202}.\n"
     ]
    },
    {
     "name": "stdout",
     "output_type": "stream",
     "text": [
      "Training until validation scores don't improve for 100 rounds.\n",
      "[200]\tvalid_0's auc: 0.89109\n",
      "Early stopping, best iteration is:\n",
      "[205]\tvalid_0's auc: 0.891176\n"
     ]
    },
    {
     "name": "stderr",
     "output_type": "stream",
     "text": [
      "[I 2019-04-02 21:37:28,191] Finished trial#174 resulted in value: -0.8911755770895384. Current best value is -0.8937065644539947 with parameters: {'feature_fraction': 0.8511387076865629, 'learning_rate': 0.0018879228618584366, 'subsample': 0.8977614795344665, 'min_data_in_leaf': 100, 'min_sum_hessian_in_leaf': 0.00182719843764287, 'bagging_fraction': 0.8880427123779113, 'bagging_freq': 2, 'min_gain_to_split': 0.9528499982983796, 'lambda_l1': 0.2322778098581329, 'lambda_l2': 0.1308106687873926, 'num_leaves': 28, 'max_bin': 202}.\n"
     ]
    },
    {
     "name": "stdout",
     "output_type": "stream",
     "text": [
      "Training until validation scores don't improve for 100 rounds.\n",
      "Early stopping, best iteration is:\n",
      "[5]\tvalid_0's auc: 0.884046\n"
     ]
    },
    {
     "name": "stderr",
     "output_type": "stream",
     "text": [
      "[I 2019-04-02 21:37:33,129] Finished trial#175 resulted in value: -0.8840463330927354. Current best value is -0.8937065644539947 with parameters: {'feature_fraction': 0.8511387076865629, 'learning_rate': 0.0018879228618584366, 'subsample': 0.8977614795344665, 'min_data_in_leaf': 100, 'min_sum_hessian_in_leaf': 0.00182719843764287, 'bagging_fraction': 0.8880427123779113, 'bagging_freq': 2, 'min_gain_to_split': 0.9528499982983796, 'lambda_l1': 0.2322778098581329, 'lambda_l2': 0.1308106687873926, 'num_leaves': 28, 'max_bin': 202}.\n"
     ]
    },
    {
     "name": "stdout",
     "output_type": "stream",
     "text": [
      "Training until validation scores don't improve for 100 rounds.\n",
      "Early stopping, best iteration is:\n",
      "[5]\tvalid_0's auc: 0.883839\n"
     ]
    },
    {
     "name": "stderr",
     "output_type": "stream",
     "text": [
      "[I 2019-04-02 21:37:39,004] Finished trial#176 resulted in value: -0.8838391318836611. Current best value is -0.8937065644539947 with parameters: {'feature_fraction': 0.8511387076865629, 'learning_rate': 0.0018879228618584366, 'subsample': 0.8977614795344665, 'min_data_in_leaf': 100, 'min_sum_hessian_in_leaf': 0.00182719843764287, 'bagging_fraction': 0.8880427123779113, 'bagging_freq': 2, 'min_gain_to_split': 0.9528499982983796, 'lambda_l1': 0.2322778098581329, 'lambda_l2': 0.1308106687873926, 'num_leaves': 28, 'max_bin': 202}.\n"
     ]
    },
    {
     "name": "stdout",
     "output_type": "stream",
     "text": [
      "Training until validation scores don't improve for 100 rounds.\n",
      "Early stopping, best iteration is:\n",
      "[40]\tvalid_0's auc: 0.887809\n"
     ]
    },
    {
     "name": "stderr",
     "output_type": "stream",
     "text": [
      "[I 2019-04-02 21:37:45,688] Finished trial#177 resulted in value: -0.8878093412868951. Current best value is -0.8937065644539947 with parameters: {'feature_fraction': 0.8511387076865629, 'learning_rate': 0.0018879228618584366, 'subsample': 0.8977614795344665, 'min_data_in_leaf': 100, 'min_sum_hessian_in_leaf': 0.00182719843764287, 'bagging_fraction': 0.8880427123779113, 'bagging_freq': 2, 'min_gain_to_split': 0.9528499982983796, 'lambda_l1': 0.2322778098581329, 'lambda_l2': 0.1308106687873926, 'num_leaves': 28, 'max_bin': 202}.\n"
     ]
    },
    {
     "name": "stdout",
     "output_type": "stream",
     "text": [
      "Training until validation scores don't improve for 100 rounds.\n",
      "[200]\tvalid_0's auc: 0.887126\n",
      "Early stopping, best iteration is:\n",
      "[101]\tvalid_0's auc: 0.888821\n"
     ]
    },
    {
     "name": "stderr",
     "output_type": "stream",
     "text": [
      "[I 2019-04-02 21:37:53,932] Finished trial#178 resulted in value: -0.8888206410969056. Current best value is -0.8937065644539947 with parameters: {'feature_fraction': 0.8511387076865629, 'learning_rate': 0.0018879228618584366, 'subsample': 0.8977614795344665, 'min_data_in_leaf': 100, 'min_sum_hessian_in_leaf': 0.00182719843764287, 'bagging_fraction': 0.8880427123779113, 'bagging_freq': 2, 'min_gain_to_split': 0.9528499982983796, 'lambda_l1': 0.2322778098581329, 'lambda_l2': 0.1308106687873926, 'num_leaves': 28, 'max_bin': 202}.\n"
     ]
    },
    {
     "name": "stdout",
     "output_type": "stream",
     "text": [
      "Training until validation scores don't improve for 100 rounds.\n",
      "Early stopping, best iteration is:\n",
      "[5]\tvalid_0's auc: 0.884471\n"
     ]
    },
    {
     "name": "stderr",
     "output_type": "stream",
     "text": [
      "[I 2019-04-02 21:37:58,246] Finished trial#179 resulted in value: -0.8844709229007823. Current best value is -0.8937065644539947 with parameters: {'feature_fraction': 0.8511387076865629, 'learning_rate': 0.0018879228618584366, 'subsample': 0.8977614795344665, 'min_data_in_leaf': 100, 'min_sum_hessian_in_leaf': 0.00182719843764287, 'bagging_fraction': 0.8880427123779113, 'bagging_freq': 2, 'min_gain_to_split': 0.9528499982983796, 'lambda_l1': 0.2322778098581329, 'lambda_l2': 0.1308106687873926, 'num_leaves': 28, 'max_bin': 202}.\n"
     ]
    },
    {
     "name": "stdout",
     "output_type": "stream",
     "text": [
      "Training until validation scores don't improve for 100 rounds.\n",
      "[200]\tvalid_0's auc: 0.891253\n",
      "[400]\tvalid_0's auc: 0.892981\n",
      "Early stopping, best iteration is:\n",
      "[402]\tvalid_0's auc: 0.893\n"
     ]
    },
    {
     "name": "stderr",
     "output_type": "stream",
     "text": [
      "[I 2019-04-02 21:38:18,603] Finished trial#180 resulted in value: -0.8930004853442626. Current best value is -0.8937065644539947 with parameters: {'feature_fraction': 0.8511387076865629, 'learning_rate': 0.0018879228618584366, 'subsample': 0.8977614795344665, 'min_data_in_leaf': 100, 'min_sum_hessian_in_leaf': 0.00182719843764287, 'bagging_fraction': 0.8880427123779113, 'bagging_freq': 2, 'min_gain_to_split': 0.9528499982983796, 'lambda_l1': 0.2322778098581329, 'lambda_l2': 0.1308106687873926, 'num_leaves': 28, 'max_bin': 202}.\n"
     ]
    },
    {
     "name": "stdout",
     "output_type": "stream",
     "text": [
      "Training until validation scores don't improve for 100 rounds.\n",
      "[200]\tvalid_0's auc: 0.888641\n",
      "[400]\tvalid_0's auc: 0.891428\n",
      "[600]\tvalid_0's auc: 0.892802\n",
      "Early stopping, best iteration is:\n",
      "[619]\tvalid_0's auc: 0.892861\n"
     ]
    },
    {
     "name": "stderr",
     "output_type": "stream",
     "text": [
      "[I 2019-04-02 21:39:31,405] Finished trial#181 resulted in value: -0.8928609661531144. Current best value is -0.8937065644539947 with parameters: {'feature_fraction': 0.8511387076865629, 'learning_rate': 0.0018879228618584366, 'subsample': 0.8977614795344665, 'min_data_in_leaf': 100, 'min_sum_hessian_in_leaf': 0.00182719843764287, 'bagging_fraction': 0.8880427123779113, 'bagging_freq': 2, 'min_gain_to_split': 0.9528499982983796, 'lambda_l1': 0.2322778098581329, 'lambda_l2': 0.1308106687873926, 'num_leaves': 28, 'max_bin': 202}.\n"
     ]
    },
    {
     "name": "stdout",
     "output_type": "stream",
     "text": [
      "Training until validation scores don't improve for 100 rounds.\n",
      "Early stopping, best iteration is:\n",
      "[17]\tvalid_0's auc: 0.886671\n"
     ]
    },
    {
     "name": "stderr",
     "output_type": "stream",
     "text": [
      "[I 2019-04-02 21:39:36,668] Finished trial#182 resulted in value: -0.8866707595983396. Current best value is -0.8937065644539947 with parameters: {'feature_fraction': 0.8511387076865629, 'learning_rate': 0.0018879228618584366, 'subsample': 0.8977614795344665, 'min_data_in_leaf': 100, 'min_sum_hessian_in_leaf': 0.00182719843764287, 'bagging_fraction': 0.8880427123779113, 'bagging_freq': 2, 'min_gain_to_split': 0.9528499982983796, 'lambda_l1': 0.2322778098581329, 'lambda_l2': 0.1308106687873926, 'num_leaves': 28, 'max_bin': 202}.\n"
     ]
    },
    {
     "name": "stdout",
     "output_type": "stream",
     "text": [
      "Training until validation scores don't improve for 100 rounds.\n",
      "Early stopping, best iteration is:\n",
      "[6]\tvalid_0's auc: 0.885017\n"
     ]
    },
    {
     "name": "stderr",
     "output_type": "stream",
     "text": [
      "[I 2019-04-02 21:39:40,931] Finished trial#183 resulted in value: -0.8850165238288824. Current best value is -0.8937065644539947 with parameters: {'feature_fraction': 0.8511387076865629, 'learning_rate': 0.0018879228618584366, 'subsample': 0.8977614795344665, 'min_data_in_leaf': 100, 'min_sum_hessian_in_leaf': 0.00182719843764287, 'bagging_fraction': 0.8880427123779113, 'bagging_freq': 2, 'min_gain_to_split': 0.9528499982983796, 'lambda_l1': 0.2322778098581329, 'lambda_l2': 0.1308106687873926, 'num_leaves': 28, 'max_bin': 202}.\n"
     ]
    },
    {
     "name": "stdout",
     "output_type": "stream",
     "text": [
      "Training until validation scores don't improve for 100 rounds.\n",
      "Early stopping, best iteration is:\n",
      "[12]\tvalid_0's auc: 0.886031\n"
     ]
    },
    {
     "name": "stderr",
     "output_type": "stream",
     "text": [
      "[I 2019-04-02 21:39:46,413] Finished trial#184 resulted in value: -0.8860309590181389. Current best value is -0.8937065644539947 with parameters: {'feature_fraction': 0.8511387076865629, 'learning_rate': 0.0018879228618584366, 'subsample': 0.8977614795344665, 'min_data_in_leaf': 100, 'min_sum_hessian_in_leaf': 0.00182719843764287, 'bagging_fraction': 0.8880427123779113, 'bagging_freq': 2, 'min_gain_to_split': 0.9528499982983796, 'lambda_l1': 0.2322778098581329, 'lambda_l2': 0.1308106687873926, 'num_leaves': 28, 'max_bin': 202}.\n"
     ]
    },
    {
     "name": "stdout",
     "output_type": "stream",
     "text": [
      "Training until validation scores don't improve for 100 rounds.\n",
      "Early stopping, best iteration is:\n",
      "[20]\tvalid_0's auc: 0.88717\n"
     ]
    },
    {
     "name": "stderr",
     "output_type": "stream",
     "text": [
      "[I 2019-04-02 21:39:53,256] Finished trial#185 resulted in value: -0.8871701525723247. Current best value is -0.8937065644539947 with parameters: {'feature_fraction': 0.8511387076865629, 'learning_rate': 0.0018879228618584366, 'subsample': 0.8977614795344665, 'min_data_in_leaf': 100, 'min_sum_hessian_in_leaf': 0.00182719843764287, 'bagging_fraction': 0.8880427123779113, 'bagging_freq': 2, 'min_gain_to_split': 0.9528499982983796, 'lambda_l1': 0.2322778098581329, 'lambda_l2': 0.1308106687873926, 'num_leaves': 28, 'max_bin': 202}.\n"
     ]
    },
    {
     "name": "stdout",
     "output_type": "stream",
     "text": [
      "Training until validation scores don't improve for 100 rounds.\n",
      "[200]\tvalid_0's auc: 0.882924\n",
      "[400]\tvalid_0's auc: 0.885095\n",
      "[600]\tvalid_0's auc: 0.886159\n",
      "[800]\tvalid_0's auc: 0.886724\n",
      "[1000]\tvalid_0's auc: 0.887308\n",
      "[1200]\tvalid_0's auc: 0.887947\n",
      "[1400]\tvalid_0's auc: 0.888813\n",
      "[1600]\tvalid_0's auc: 0.889527\n",
      "[1800]\tvalid_0's auc: 0.890125\n",
      "[2000]\tvalid_0's auc: 0.890603\n",
      "[2200]\tvalid_0's auc: 0.891072\n",
      "[2400]\tvalid_0's auc: 0.891478\n",
      "[2600]\tvalid_0's auc: 0.89178\n",
      "[2800]\tvalid_0's auc: 0.892085\n",
      "[3000]\tvalid_0's auc: 0.892321\n",
      "[3200]\tvalid_0's auc: 0.89252\n",
      "[3400]\tvalid_0's auc: 0.892724\n",
      "[3600]\tvalid_0's auc: 0.892854\n",
      "[3800]\tvalid_0's auc: 0.893021\n",
      "[4000]\tvalid_0's auc: 0.89313\n",
      "[4200]\tvalid_0's auc: 0.893308\n",
      "[4400]\tvalid_0's auc: 0.893446\n",
      "[4600]\tvalid_0's auc: 0.893557\n",
      "[4800]\tvalid_0's auc: 0.893657\n",
      "Early stopping, best iteration is:\n",
      "[4790]\tvalid_0's auc: 0.893668\n"
     ]
    },
    {
     "name": "stderr",
     "output_type": "stream",
     "text": [
      "[I 2019-04-02 21:44:37,203] Finished trial#186 resulted in value: -0.8936677922228766. Current best value is -0.8937065644539947 with parameters: {'feature_fraction': 0.8511387076865629, 'learning_rate': 0.0018879228618584366, 'subsample': 0.8977614795344665, 'min_data_in_leaf': 100, 'min_sum_hessian_in_leaf': 0.00182719843764287, 'bagging_fraction': 0.8880427123779113, 'bagging_freq': 2, 'min_gain_to_split': 0.9528499982983796, 'lambda_l1': 0.2322778098581329, 'lambda_l2': 0.1308106687873926, 'num_leaves': 28, 'max_bin': 202}.\n"
     ]
    },
    {
     "name": "stdout",
     "output_type": "stream",
     "text": [
      "Training until validation scores don't improve for 100 rounds.\n",
      "[200]\tvalid_0's auc: 0.889657\n",
      "Early stopping, best iteration is:\n",
      "[119]\tvalid_0's auc: 0.890303\n"
     ]
    },
    {
     "name": "stderr",
     "output_type": "stream",
     "text": [
      "[I 2019-04-02 21:44:47,341] Finished trial#187 resulted in value: -0.8903027317553425. Current best value is -0.8937065644539947 with parameters: {'feature_fraction': 0.8511387076865629, 'learning_rate': 0.0018879228618584366, 'subsample': 0.8977614795344665, 'min_data_in_leaf': 100, 'min_sum_hessian_in_leaf': 0.00182719843764287, 'bagging_fraction': 0.8880427123779113, 'bagging_freq': 2, 'min_gain_to_split': 0.9528499982983796, 'lambda_l1': 0.2322778098581329, 'lambda_l2': 0.1308106687873926, 'num_leaves': 28, 'max_bin': 202}.\n"
     ]
    },
    {
     "name": "stdout",
     "output_type": "stream",
     "text": [
      "Training until validation scores don't improve for 100 rounds.\n",
      "Early stopping, best iteration is:\n",
      "[74]\tvalid_0's auc: 0.888527\n"
     ]
    },
    {
     "name": "stderr",
     "output_type": "stream",
     "text": [
      "[I 2019-04-02 21:44:55,244] Finished trial#188 resulted in value: -0.8885268211471824. Current best value is -0.8937065644539947 with parameters: {'feature_fraction': 0.8511387076865629, 'learning_rate': 0.0018879228618584366, 'subsample': 0.8977614795344665, 'min_data_in_leaf': 100, 'min_sum_hessian_in_leaf': 0.00182719843764287, 'bagging_fraction': 0.8880427123779113, 'bagging_freq': 2, 'min_gain_to_split': 0.9528499982983796, 'lambda_l1': 0.2322778098581329, 'lambda_l2': 0.1308106687873926, 'num_leaves': 28, 'max_bin': 202}.\n"
     ]
    },
    {
     "name": "stdout",
     "output_type": "stream",
     "text": [
      "Training until validation scores don't improve for 100 rounds.\n",
      "Early stopping, best iteration is:\n",
      "[45]\tvalid_0's auc: 0.882014\n"
     ]
    },
    {
     "name": "stderr",
     "output_type": "stream",
     "text": [
      "[I 2019-04-02 21:44:59,624] Finished trial#189 resulted in value: -0.8820140023893871. Current best value is -0.8937065644539947 with parameters: {'feature_fraction': 0.8511387076865629, 'learning_rate': 0.0018879228618584366, 'subsample': 0.8977614795344665, 'min_data_in_leaf': 100, 'min_sum_hessian_in_leaf': 0.00182719843764287, 'bagging_fraction': 0.8880427123779113, 'bagging_freq': 2, 'min_gain_to_split': 0.9528499982983796, 'lambda_l1': 0.2322778098581329, 'lambda_l2': 0.1308106687873926, 'num_leaves': 28, 'max_bin': 202}.\n"
     ]
    },
    {
     "name": "stdout",
     "output_type": "stream",
     "text": [
      "Training until validation scores don't improve for 100 rounds.\n",
      "[200]\tvalid_0's auc: 0.888628\n",
      "Early stopping, best iteration is:\n",
      "[122]\tvalid_0's auc: 0.890145\n"
     ]
    },
    {
     "name": "stderr",
     "output_type": "stream",
     "text": [
      "[I 2019-04-02 21:45:08,914] Finished trial#190 resulted in value: -0.8901449533875923. Current best value is -0.8937065644539947 with parameters: {'feature_fraction': 0.8511387076865629, 'learning_rate': 0.0018879228618584366, 'subsample': 0.8977614795344665, 'min_data_in_leaf': 100, 'min_sum_hessian_in_leaf': 0.00182719843764287, 'bagging_fraction': 0.8880427123779113, 'bagging_freq': 2, 'min_gain_to_split': 0.9528499982983796, 'lambda_l1': 0.2322778098581329, 'lambda_l2': 0.1308106687873926, 'num_leaves': 28, 'max_bin': 202}.\n"
     ]
    },
    {
     "name": "stdout",
     "output_type": "stream",
     "text": [
      "Training until validation scores don't improve for 100 rounds.\n",
      "Early stopping, best iteration is:\n",
      "[15]\tvalid_0's auc: 0.887039\n"
     ]
    },
    {
     "name": "stderr",
     "output_type": "stream",
     "text": [
      "[I 2019-04-02 21:45:13,405] Finished trial#191 resulted in value: -0.8870390231997324. Current best value is -0.8937065644539947 with parameters: {'feature_fraction': 0.8511387076865629, 'learning_rate': 0.0018879228618584366, 'subsample': 0.8977614795344665, 'min_data_in_leaf': 100, 'min_sum_hessian_in_leaf': 0.00182719843764287, 'bagging_fraction': 0.8880427123779113, 'bagging_freq': 2, 'min_gain_to_split': 0.9528499982983796, 'lambda_l1': 0.2322778098581329, 'lambda_l2': 0.1308106687873926, 'num_leaves': 28, 'max_bin': 202}.\n"
     ]
    },
    {
     "name": "stdout",
     "output_type": "stream",
     "text": [
      "Training until validation scores don't improve for 100 rounds.\n",
      "Early stopping, best iteration is:\n",
      "[45]\tvalid_0's auc: 0.888602\n"
     ]
    },
    {
     "name": "stderr",
     "output_type": "stream",
     "text": [
      "[I 2019-04-02 21:45:20,092] Finished trial#192 resulted in value: -0.8886015102364776. Current best value is -0.8937065644539947 with parameters: {'feature_fraction': 0.8511387076865629, 'learning_rate': 0.0018879228618584366, 'subsample': 0.8977614795344665, 'min_data_in_leaf': 100, 'min_sum_hessian_in_leaf': 0.00182719843764287, 'bagging_fraction': 0.8880427123779113, 'bagging_freq': 2, 'min_gain_to_split': 0.9528499982983796, 'lambda_l1': 0.2322778098581329, 'lambda_l2': 0.1308106687873926, 'num_leaves': 28, 'max_bin': 202}.\n"
     ]
    },
    {
     "name": "stdout",
     "output_type": "stream",
     "text": [
      "Training until validation scores don't improve for 100 rounds.\n",
      "[200]\tvalid_0's auc: 0.890141\n",
      "[400]\tvalid_0's auc: 0.892228\n",
      "[600]\tvalid_0's auc: 0.89252\n",
      "[800]\tvalid_0's auc: 0.892688\n",
      "Early stopping, best iteration is:\n",
      "[749]\tvalid_0's auc: 0.892848\n"
     ]
    },
    {
     "name": "stderr",
     "output_type": "stream",
     "text": [
      "[I 2019-04-02 21:45:49,930] Finished trial#193 resulted in value: -0.8928482656202036. Current best value is -0.8937065644539947 with parameters: {'feature_fraction': 0.8511387076865629, 'learning_rate': 0.0018879228618584366, 'subsample': 0.8977614795344665, 'min_data_in_leaf': 100, 'min_sum_hessian_in_leaf': 0.00182719843764287, 'bagging_fraction': 0.8880427123779113, 'bagging_freq': 2, 'min_gain_to_split': 0.9528499982983796, 'lambda_l1': 0.2322778098581329, 'lambda_l2': 0.1308106687873926, 'num_leaves': 28, 'max_bin': 202}.\n"
     ]
    },
    {
     "name": "stdout",
     "output_type": "stream",
     "text": [
      "Training until validation scores don't improve for 100 rounds.\n",
      "[200]\tvalid_0's auc: 0.891288\n",
      "Early stopping, best iteration is:\n",
      "[197]\tvalid_0's auc: 0.891429\n"
     ]
    },
    {
     "name": "stderr",
     "output_type": "stream",
     "text": [
      "[I 2019-04-02 21:46:01,153] Finished trial#194 resulted in value: -0.8914293872494116. Current best value is -0.8937065644539947 with parameters: {'feature_fraction': 0.8511387076865629, 'learning_rate': 0.0018879228618584366, 'subsample': 0.8977614795344665, 'min_data_in_leaf': 100, 'min_sum_hessian_in_leaf': 0.00182719843764287, 'bagging_fraction': 0.8880427123779113, 'bagging_freq': 2, 'min_gain_to_split': 0.9528499982983796, 'lambda_l1': 0.2322778098581329, 'lambda_l2': 0.1308106687873926, 'num_leaves': 28, 'max_bin': 202}.\n"
     ]
    },
    {
     "name": "stdout",
     "output_type": "stream",
     "text": [
      "Training until validation scores don't improve for 100 rounds.\n",
      "Early stopping, best iteration is:\n",
      "[34]\tvalid_0's auc: 0.888305\n"
     ]
    },
    {
     "name": "stderr",
     "output_type": "stream",
     "text": [
      "[I 2019-04-02 21:46:06,802] Finished trial#195 resulted in value: -0.8883054018401599. Current best value is -0.8937065644539947 with parameters: {'feature_fraction': 0.8511387076865629, 'learning_rate': 0.0018879228618584366, 'subsample': 0.8977614795344665, 'min_data_in_leaf': 100, 'min_sum_hessian_in_leaf': 0.00182719843764287, 'bagging_fraction': 0.8880427123779113, 'bagging_freq': 2, 'min_gain_to_split': 0.9528499982983796, 'lambda_l1': 0.2322778098581329, 'lambda_l2': 0.1308106687873926, 'num_leaves': 28, 'max_bin': 202}.\n"
     ]
    },
    {
     "name": "stdout",
     "output_type": "stream",
     "text": [
      "Training until validation scores don't improve for 100 rounds.\n",
      "[200]\tvalid_0's auc: 0.890305\n",
      "Early stopping, best iteration is:\n",
      "[283]\tvalid_0's auc: 0.890623\n"
     ]
    },
    {
     "name": "stderr",
     "output_type": "stream",
     "text": [
      "[I 2019-04-02 21:46:22,964] Finished trial#196 resulted in value: -0.8906231557609396. Current best value is -0.8937065644539947 with parameters: {'feature_fraction': 0.8511387076865629, 'learning_rate': 0.0018879228618584366, 'subsample': 0.8977614795344665, 'min_data_in_leaf': 100, 'min_sum_hessian_in_leaf': 0.00182719843764287, 'bagging_fraction': 0.8880427123779113, 'bagging_freq': 2, 'min_gain_to_split': 0.9528499982983796, 'lambda_l1': 0.2322778098581329, 'lambda_l2': 0.1308106687873926, 'num_leaves': 28, 'max_bin': 202}.\n"
     ]
    },
    {
     "name": "stdout",
     "output_type": "stream",
     "text": [
      "Training until validation scores don't improve for 100 rounds.\n",
      "[200]\tvalid_0's auc: 0.89103\n",
      "[400]\tvalid_0's auc: 0.89128\n",
      "Early stopping, best iteration is:\n",
      "[424]\tvalid_0's auc: 0.891421\n"
     ]
    },
    {
     "name": "stderr",
     "output_type": "stream",
     "text": [
      "[I 2019-04-02 21:46:46,609] Finished trial#197 resulted in value: -0.8914212497822173. Current best value is -0.8937065644539947 with parameters: {'feature_fraction': 0.8511387076865629, 'learning_rate': 0.0018879228618584366, 'subsample': 0.8977614795344665, 'min_data_in_leaf': 100, 'min_sum_hessian_in_leaf': 0.00182719843764287, 'bagging_fraction': 0.8880427123779113, 'bagging_freq': 2, 'min_gain_to_split': 0.9528499982983796, 'lambda_l1': 0.2322778098581329, 'lambda_l2': 0.1308106687873926, 'num_leaves': 28, 'max_bin': 202}.\n"
     ]
    },
    {
     "name": "stdout",
     "output_type": "stream",
     "text": [
      "Training until validation scores don't improve for 100 rounds.\n",
      "Early stopping, best iteration is:\n",
      "[51]\tvalid_0's auc: 0.888818\n"
     ]
    },
    {
     "name": "stderr",
     "output_type": "stream",
     "text": [
      "[I 2019-04-02 21:46:52,966] Finished trial#198 resulted in value: -0.88881808301461. Current best value is -0.8937065644539947 with parameters: {'feature_fraction': 0.8511387076865629, 'learning_rate': 0.0018879228618584366, 'subsample': 0.8977614795344665, 'min_data_in_leaf': 100, 'min_sum_hessian_in_leaf': 0.00182719843764287, 'bagging_fraction': 0.8880427123779113, 'bagging_freq': 2, 'min_gain_to_split': 0.9528499982983796, 'lambda_l1': 0.2322778098581329, 'lambda_l2': 0.1308106687873926, 'num_leaves': 28, 'max_bin': 202}.\n"
     ]
    },
    {
     "name": "stdout",
     "output_type": "stream",
     "text": [
      "Training until validation scores don't improve for 100 rounds.\n",
      "Early stopping, best iteration is:\n",
      "[4]\tvalid_0's auc: 0.883986\n"
     ]
    },
    {
     "name": "stderr",
     "output_type": "stream",
     "text": [
      "[I 2019-04-02 21:46:57,194] Finished trial#199 resulted in value: -0.8839858966700682. Current best value is -0.8937065644539947 with parameters: {'feature_fraction': 0.8511387076865629, 'learning_rate': 0.0018879228618584366, 'subsample': 0.8977614795344665, 'min_data_in_leaf': 100, 'min_sum_hessian_in_leaf': 0.00182719843764287, 'bagging_fraction': 0.8880427123779113, 'bagging_freq': 2, 'min_gain_to_split': 0.9528499982983796, 'lambda_l1': 0.2322778098581329, 'lambda_l2': 0.1308106687873926, 'num_leaves': 28, 'max_bin': 202}.\n"
     ]
    },
    {
     "name": "stdout",
     "output_type": "stream",
     "text": [
      "Training until validation scores don't improve for 100 rounds.\n",
      "[200]\tvalid_0's auc: 0.887531\n",
      "[400]\tvalid_0's auc: 0.891059\n",
      "[600]\tvalid_0's auc: 0.892276\n",
      "[800]\tvalid_0's auc: 0.892936\n",
      "[1000]\tvalid_0's auc: 0.893402\n",
      "[1200]\tvalid_0's auc: 0.893646\n",
      "[1400]\tvalid_0's auc: 0.893831\n",
      "[1600]\tvalid_0's auc: 0.893896\n",
      "Early stopping, best iteration is:\n",
      "[1523]\tvalid_0's auc: 0.893967\n"
     ]
    },
    {
     "name": "stderr",
     "output_type": "stream",
     "text": [
      "[I 2019-04-02 21:47:57,862] Finished trial#200 resulted in value: -0.8939669495767412. Current best value is -0.8939669495767412 with parameters: {'feature_fraction': 0.8456166140259092, 'learning_rate': 0.022882050091209978, 'subsample': 0.9546959405472876, 'min_data_in_leaf': 90, 'min_sum_hessian_in_leaf': 0.002604008491933739, 'bagging_fraction': 0.8614887102342914, 'bagging_freq': 4, 'min_gain_to_split': 0.962931424121709, 'lambda_l1': 0.34910401487743964, 'lambda_l2': 0.2969701315968142, 'num_leaves': 22, 'max_bin': 149}.\n"
     ]
    },
    {
     "name": "stdout",
     "output_type": "stream",
     "text": [
      "Training until validation scores don't improve for 100 rounds.\n",
      "Early stopping, best iteration is:\n",
      "[10]\tvalid_0's auc: 0.884448\n"
     ]
    },
    {
     "name": "stderr",
     "output_type": "stream",
     "text": [
      "[I 2019-04-02 21:48:02,384] Finished trial#201 resulted in value: -0.8844478621345745. Current best value is -0.8939669495767412 with parameters: {'feature_fraction': 0.8456166140259092, 'learning_rate': 0.022882050091209978, 'subsample': 0.9546959405472876, 'min_data_in_leaf': 90, 'min_sum_hessian_in_leaf': 0.002604008491933739, 'bagging_fraction': 0.8614887102342914, 'bagging_freq': 4, 'min_gain_to_split': 0.962931424121709, 'lambda_l1': 0.34910401487743964, 'lambda_l2': 0.2969701315968142, 'num_leaves': 22, 'max_bin': 149}.\n"
     ]
    },
    {
     "name": "stdout",
     "output_type": "stream",
     "text": [
      "Training until validation scores don't improve for 100 rounds.\n",
      "Early stopping, best iteration is:\n",
      "[5]\tvalid_0's auc: 0.883447\n"
     ]
    },
    {
     "name": "stderr",
     "output_type": "stream",
     "text": [
      "[I 2019-04-02 21:48:07,510] Finished trial#202 resulted in value: -0.8834471126855992. Current best value is -0.8939669495767412 with parameters: {'feature_fraction': 0.8456166140259092, 'learning_rate': 0.022882050091209978, 'subsample': 0.9546959405472876, 'min_data_in_leaf': 90, 'min_sum_hessian_in_leaf': 0.002604008491933739, 'bagging_fraction': 0.8614887102342914, 'bagging_freq': 4, 'min_gain_to_split': 0.962931424121709, 'lambda_l1': 0.34910401487743964, 'lambda_l2': 0.2969701315968142, 'num_leaves': 22, 'max_bin': 149}.\n"
     ]
    },
    {
     "name": "stdout",
     "output_type": "stream",
     "text": [
      "Training until validation scores don't improve for 100 rounds.\n",
      "Early stopping, best iteration is:\n",
      "[48]\tvalid_0's auc: 0.888535\n"
     ]
    },
    {
     "name": "stderr",
     "output_type": "stream",
     "text": [
      "[I 2019-04-02 21:48:13,742] Finished trial#203 resulted in value: -0.8885348756495455. Current best value is -0.8939669495767412 with parameters: {'feature_fraction': 0.8456166140259092, 'learning_rate': 0.022882050091209978, 'subsample': 0.9546959405472876, 'min_data_in_leaf': 90, 'min_sum_hessian_in_leaf': 0.002604008491933739, 'bagging_fraction': 0.8614887102342914, 'bagging_freq': 4, 'min_gain_to_split': 0.962931424121709, 'lambda_l1': 0.34910401487743964, 'lambda_l2': 0.2969701315968142, 'num_leaves': 22, 'max_bin': 149}.\n"
     ]
    },
    {
     "name": "stdout",
     "output_type": "stream",
     "text": [
      "Training until validation scores don't improve for 100 rounds.\n",
      "Early stopping, best iteration is:\n",
      "[24]\tvalid_0's auc: 0.887536\n"
     ]
    },
    {
     "name": "stderr",
     "output_type": "stream",
     "text": [
      "[I 2019-04-02 21:48:18,711] Finished trial#204 resulted in value: -0.8875364111902965. Current best value is -0.8939669495767412 with parameters: {'feature_fraction': 0.8456166140259092, 'learning_rate': 0.022882050091209978, 'subsample': 0.9546959405472876, 'min_data_in_leaf': 90, 'min_sum_hessian_in_leaf': 0.002604008491933739, 'bagging_fraction': 0.8614887102342914, 'bagging_freq': 4, 'min_gain_to_split': 0.962931424121709, 'lambda_l1': 0.34910401487743964, 'lambda_l2': 0.2969701315968142, 'num_leaves': 22, 'max_bin': 149}.\n"
     ]
    },
    {
     "name": "stdout",
     "output_type": "stream",
     "text": [
      "Training until validation scores don't improve for 100 rounds.\n",
      "[200]\tvalid_0's auc: 0.890106\n",
      "[400]\tvalid_0's auc: 0.892296\n",
      "[600]\tvalid_0's auc: 0.89267\n",
      "[800]\tvalid_0's auc: 0.892892\n",
      "[1000]\tvalid_0's auc: 0.893203\n",
      "[1200]\tvalid_0's auc: 0.893395\n",
      "Early stopping, best iteration is:\n",
      "[1132]\tvalid_0's auc: 0.893461\n"
     ]
    },
    {
     "name": "stderr",
     "output_type": "stream",
     "text": [
      "[I 2019-04-02 21:49:07,815] Finished trial#205 resulted in value: -0.8934612236206407. Current best value is -0.8939669495767412 with parameters: {'feature_fraction': 0.8456166140259092, 'learning_rate': 0.022882050091209978, 'subsample': 0.9546959405472876, 'min_data_in_leaf': 90, 'min_sum_hessian_in_leaf': 0.002604008491933739, 'bagging_fraction': 0.8614887102342914, 'bagging_freq': 4, 'min_gain_to_split': 0.962931424121709, 'lambda_l1': 0.34910401487743964, 'lambda_l2': 0.2969701315968142, 'num_leaves': 22, 'max_bin': 149}.\n"
     ]
    },
    {
     "name": "stdout",
     "output_type": "stream",
     "text": [
      "Training until validation scores don't improve for 100 rounds.\n",
      "[200]\tvalid_0's auc: 0.889769\n",
      "Early stopping, best iteration is:\n",
      "[186]\tvalid_0's auc: 0.890078\n"
     ]
    },
    {
     "name": "stderr",
     "output_type": "stream",
     "text": [
      "[I 2019-04-02 21:49:20,479] Finished trial#206 resulted in value: -0.8900783741105478. Current best value is -0.8939669495767412 with parameters: {'feature_fraction': 0.8456166140259092, 'learning_rate': 0.022882050091209978, 'subsample': 0.9546959405472876, 'min_data_in_leaf': 90, 'min_sum_hessian_in_leaf': 0.002604008491933739, 'bagging_fraction': 0.8614887102342914, 'bagging_freq': 4, 'min_gain_to_split': 0.962931424121709, 'lambda_l1': 0.34910401487743964, 'lambda_l2': 0.2969701315968142, 'num_leaves': 22, 'max_bin': 149}.\n"
     ]
    },
    {
     "name": "stdout",
     "output_type": "stream",
     "text": [
      "Training until validation scores don't improve for 100 rounds.\n",
      "Early stopping, best iteration is:\n",
      "[17]\tvalid_0's auc: 0.8871\n"
     ]
    },
    {
     "name": "stderr",
     "output_type": "stream",
     "text": [
      "[I 2019-04-02 21:49:24,949] Finished trial#207 resulted in value: -0.8870997569130447. Current best value is -0.8939669495767412 with parameters: {'feature_fraction': 0.8456166140259092, 'learning_rate': 0.022882050091209978, 'subsample': 0.9546959405472876, 'min_data_in_leaf': 90, 'min_sum_hessian_in_leaf': 0.002604008491933739, 'bagging_fraction': 0.8614887102342914, 'bagging_freq': 4, 'min_gain_to_split': 0.962931424121709, 'lambda_l1': 0.34910401487743964, 'lambda_l2': 0.2969701315968142, 'num_leaves': 22, 'max_bin': 149}.\n"
     ]
    },
    {
     "name": "stdout",
     "output_type": "stream",
     "text": [
      "Training until validation scores don't improve for 100 rounds.\n",
      "[200]\tvalid_0's auc: 0.889288\n",
      "Early stopping, best iteration is:\n",
      "[109]\tvalid_0's auc: 0.890333\n"
     ]
    },
    {
     "name": "stderr",
     "output_type": "stream",
     "text": [
      "[I 2019-04-02 21:49:34,192] Finished trial#208 resulted in value: -0.8903329102126942. Current best value is -0.8939669495767412 with parameters: {'feature_fraction': 0.8456166140259092, 'learning_rate': 0.022882050091209978, 'subsample': 0.9546959405472876, 'min_data_in_leaf': 90, 'min_sum_hessian_in_leaf': 0.002604008491933739, 'bagging_fraction': 0.8614887102342914, 'bagging_freq': 4, 'min_gain_to_split': 0.962931424121709, 'lambda_l1': 0.34910401487743964, 'lambda_l2': 0.2969701315968142, 'num_leaves': 22, 'max_bin': 149}.\n"
     ]
    },
    {
     "name": "stdout",
     "output_type": "stream",
     "text": [
      "Training until validation scores don't improve for 100 rounds.\n",
      "[200]\tvalid_0's auc: 0.887509\n",
      "[400]\tvalid_0's auc: 0.890823\n",
      "[600]\tvalid_0's auc: 0.892479\n",
      "[800]\tvalid_0's auc: 0.893277\n",
      "[1000]\tvalid_0's auc: 0.893868\n",
      "[1200]\tvalid_0's auc: 0.894161\n",
      "[1400]\tvalid_0's auc: 0.894375\n",
      "Early stopping, best iteration is:\n",
      "[1472]\tvalid_0's auc: 0.894481\n"
     ]
    },
    {
     "name": "stderr",
     "output_type": "stream",
     "text": [
      "[I 2019-04-02 21:50:34,970] Finished trial#209 resulted in value: -0.8944807438626767. Current best value is -0.8944807438626767 with parameters: {'feature_fraction': 0.826977192958044, 'learning_rate': 0.02282076577563403, 'subsample': 0.9474956435517711, 'min_data_in_leaf': 82, 'min_sum_hessian_in_leaf': 0.0017853923506107412, 'bagging_fraction': 0.8404734128700382, 'bagging_freq': 1, 'min_gain_to_split': 0.9445989208456473, 'lambda_l1': 0.45734714204064286, 'lambda_l2': 0.39514949348019346, 'num_leaves': 22, 'max_bin': 140}.\n"
     ]
    },
    {
     "name": "stdout",
     "output_type": "stream",
     "text": [
      "Training until validation scores don't improve for 100 rounds.\n",
      "[200]\tvalid_0's auc: 0.891426\n",
      "[400]\tvalid_0's auc: 0.891576\n",
      "Early stopping, best iteration is:\n",
      "[315]\tvalid_0's auc: 0.891833\n"
     ]
    },
    {
     "name": "stderr",
     "output_type": "stream",
     "text": [
      "[I 2019-04-02 21:50:51,902] Finished trial#210 resulted in value: -0.8918333084438841. Current best value is -0.8944807438626767 with parameters: {'feature_fraction': 0.826977192958044, 'learning_rate': 0.02282076577563403, 'subsample': 0.9474956435517711, 'min_data_in_leaf': 82, 'min_sum_hessian_in_leaf': 0.0017853923506107412, 'bagging_fraction': 0.8404734128700382, 'bagging_freq': 1, 'min_gain_to_split': 0.9445989208456473, 'lambda_l1': 0.45734714204064286, 'lambda_l2': 0.39514949348019346, 'num_leaves': 22, 'max_bin': 140}.\n"
     ]
    },
    {
     "name": "stdout",
     "output_type": "stream",
     "text": [
      "Training until validation scores don't improve for 100 rounds.\n",
      "Early stopping, best iteration is:\n",
      "[73]\tvalid_0's auc: 0.889863\n"
     ]
    },
    {
     "name": "stderr",
     "output_type": "stream",
     "text": [
      "[I 2019-04-02 21:50:58,530] Finished trial#211 resulted in value: -0.889862651721935. Current best value is -0.8944807438626767 with parameters: {'feature_fraction': 0.826977192958044, 'learning_rate': 0.02282076577563403, 'subsample': 0.9474956435517711, 'min_data_in_leaf': 82, 'min_sum_hessian_in_leaf': 0.0017853923506107412, 'bagging_fraction': 0.8404734128700382, 'bagging_freq': 1, 'min_gain_to_split': 0.9445989208456473, 'lambda_l1': 0.45734714204064286, 'lambda_l2': 0.39514949348019346, 'num_leaves': 22, 'max_bin': 140}.\n"
     ]
    },
    {
     "name": "stdout",
     "output_type": "stream",
     "text": [
      "Training until validation scores don't improve for 100 rounds.\n",
      "[200]\tvalid_0's auc: 0.881329\n",
      "Early stopping, best iteration is:\n",
      "[146]\tvalid_0's auc: 0.881394\n"
     ]
    },
    {
     "name": "stderr",
     "output_type": "stream",
     "text": [
      "[I 2019-04-02 21:51:06,471] Finished trial#212 resulted in value: -0.8813943484356981. Current best value is -0.8944807438626767 with parameters: {'feature_fraction': 0.826977192958044, 'learning_rate': 0.02282076577563403, 'subsample': 0.9474956435517711, 'min_data_in_leaf': 82, 'min_sum_hessian_in_leaf': 0.0017853923506107412, 'bagging_fraction': 0.8404734128700382, 'bagging_freq': 1, 'min_gain_to_split': 0.9445989208456473, 'lambda_l1': 0.45734714204064286, 'lambda_l2': 0.39514949348019346, 'num_leaves': 22, 'max_bin': 140}.\n"
     ]
    },
    {
     "name": "stdout",
     "output_type": "stream",
     "text": [
      "Training until validation scores don't improve for 100 rounds.\n",
      "Early stopping, best iteration is:\n",
      "[33]\tvalid_0's auc: 0.889029\n"
     ]
    },
    {
     "name": "stderr",
     "output_type": "stream",
     "text": [
      "[I 2019-04-02 21:51:12,004] Finished trial#213 resulted in value: -0.8890287722034629. Current best value is -0.8944807438626767 with parameters: {'feature_fraction': 0.826977192958044, 'learning_rate': 0.02282076577563403, 'subsample': 0.9474956435517711, 'min_data_in_leaf': 82, 'min_sum_hessian_in_leaf': 0.0017853923506107412, 'bagging_fraction': 0.8404734128700382, 'bagging_freq': 1, 'min_gain_to_split': 0.9445989208456473, 'lambda_l1': 0.45734714204064286, 'lambda_l2': 0.39514949348019346, 'num_leaves': 22, 'max_bin': 140}.\n"
     ]
    },
    {
     "name": "stdout",
     "output_type": "stream",
     "text": [
      "Training until validation scores don't improve for 100 rounds.\n",
      "Early stopping, best iteration is:\n",
      "[7]\tvalid_0's auc: 0.88465\n"
     ]
    },
    {
     "name": "stderr",
     "output_type": "stream",
     "text": [
      "[I 2019-04-02 21:51:16,999] Finished trial#214 resulted in value: -0.8846497777925272. Current best value is -0.8944807438626767 with parameters: {'feature_fraction': 0.826977192958044, 'learning_rate': 0.02282076577563403, 'subsample': 0.9474956435517711, 'min_data_in_leaf': 82, 'min_sum_hessian_in_leaf': 0.0017853923506107412, 'bagging_fraction': 0.8404734128700382, 'bagging_freq': 1, 'min_gain_to_split': 0.9445989208456473, 'lambda_l1': 0.45734714204064286, 'lambda_l2': 0.39514949348019346, 'num_leaves': 22, 'max_bin': 140}.\n"
     ]
    },
    {
     "name": "stdout",
     "output_type": "stream",
     "text": [
      "Training until validation scores don't improve for 100 rounds.\n",
      "[200]\tvalid_0's auc: 0.889365\n",
      "Early stopping, best iteration is:\n",
      "[128]\tvalid_0's auc: 0.890408\n"
     ]
    },
    {
     "name": "stderr",
     "output_type": "stream",
     "text": [
      "[I 2019-04-02 21:51:26,132] Finished trial#215 resulted in value: -0.8904078689376906. Current best value is -0.8944807438626767 with parameters: {'feature_fraction': 0.826977192958044, 'learning_rate': 0.02282076577563403, 'subsample': 0.9474956435517711, 'min_data_in_leaf': 82, 'min_sum_hessian_in_leaf': 0.0017853923506107412, 'bagging_fraction': 0.8404734128700382, 'bagging_freq': 1, 'min_gain_to_split': 0.9445989208456473, 'lambda_l1': 0.45734714204064286, 'lambda_l2': 0.39514949348019346, 'num_leaves': 22, 'max_bin': 140}.\n"
     ]
    },
    {
     "name": "stdout",
     "output_type": "stream",
     "text": [
      "Training until validation scores don't improve for 100 rounds.\n",
      "[200]\tvalid_0's auc: 0.888502\n",
      "[400]\tvalid_0's auc: 0.891378\n",
      "[600]\tvalid_0's auc: 0.892702\n",
      "[800]\tvalid_0's auc: 0.893182\n",
      "[1000]\tvalid_0's auc: 0.893699\n",
      "[1200]\tvalid_0's auc: 0.89365\n",
      "Early stopping, best iteration is:\n",
      "[1119]\tvalid_0's auc: 0.893744\n"
     ]
    },
    {
     "name": "stderr",
     "output_type": "stream",
     "text": [
      "[I 2019-04-02 21:52:18,574] Finished trial#216 resulted in value: -0.8937442719697787. Current best value is -0.8944807438626767 with parameters: {'feature_fraction': 0.826977192958044, 'learning_rate': 0.02282076577563403, 'subsample': 0.9474956435517711, 'min_data_in_leaf': 82, 'min_sum_hessian_in_leaf': 0.0017853923506107412, 'bagging_fraction': 0.8404734128700382, 'bagging_freq': 1, 'min_gain_to_split': 0.9445989208456473, 'lambda_l1': 0.45734714204064286, 'lambda_l2': 0.39514949348019346, 'num_leaves': 22, 'max_bin': 140}.\n"
     ]
    },
    {
     "name": "stdout",
     "output_type": "stream",
     "text": [
      "Training until validation scores don't improve for 100 rounds.\n",
      "[200]\tvalid_0's auc: 0.887782\n",
      "[400]\tvalid_0's auc: 0.890944\n",
      "[600]\tvalid_0's auc: 0.892388\n",
      "[800]\tvalid_0's auc: 0.893118\n",
      "[1000]\tvalid_0's auc: 0.893723\n",
      "[1200]\tvalid_0's auc: 0.893874\n",
      "Early stopping, best iteration is:\n",
      "[1173]\tvalid_0's auc: 0.893896\n"
     ]
    },
    {
     "name": "stderr",
     "output_type": "stream",
     "text": [
      "[I 2019-04-02 21:53:11,688] Finished trial#217 resulted in value: -0.8938962981092315. Current best value is -0.8944807438626767 with parameters: {'feature_fraction': 0.826977192958044, 'learning_rate': 0.02282076577563403, 'subsample': 0.9474956435517711, 'min_data_in_leaf': 82, 'min_sum_hessian_in_leaf': 0.0017853923506107412, 'bagging_fraction': 0.8404734128700382, 'bagging_freq': 1, 'min_gain_to_split': 0.9445989208456473, 'lambda_l1': 0.45734714204064286, 'lambda_l2': 0.39514949348019346, 'num_leaves': 22, 'max_bin': 140}.\n"
     ]
    },
    {
     "name": "stdout",
     "output_type": "stream",
     "text": [
      "Training until validation scores don't improve for 100 rounds.\n",
      "[200]\tvalid_0's auc: 0.889446\n",
      "Early stopping, best iteration is:\n",
      "[158]\tvalid_0's auc: 0.890069\n"
     ]
    },
    {
     "name": "stderr",
     "output_type": "stream",
     "text": [
      "[I 2019-04-02 21:53:21,960] Finished trial#218 resulted in value: -0.8900687087077123. Current best value is -0.8944807438626767 with parameters: {'feature_fraction': 0.826977192958044, 'learning_rate': 0.02282076577563403, 'subsample': 0.9474956435517711, 'min_data_in_leaf': 82, 'min_sum_hessian_in_leaf': 0.0017853923506107412, 'bagging_fraction': 0.8404734128700382, 'bagging_freq': 1, 'min_gain_to_split': 0.9445989208456473, 'lambda_l1': 0.45734714204064286, 'lambda_l2': 0.39514949348019346, 'num_leaves': 22, 'max_bin': 140}.\n"
     ]
    },
    {
     "name": "stdout",
     "output_type": "stream",
     "text": [
      "Training until validation scores don't improve for 100 rounds.\n",
      "[200]\tvalid_0's auc: 0.888877\n",
      "[400]\tvalid_0's auc: 0.891954\n",
      "[600]\tvalid_0's auc: 0.893155\n",
      "[800]\tvalid_0's auc: 0.893743\n",
      "[1000]\tvalid_0's auc: 0.894019\n",
      "Early stopping, best iteration is:\n",
      "[1065]\tvalid_0's auc: 0.894089\n"
     ]
    },
    {
     "name": "stderr",
     "output_type": "stream",
     "text": [
      "[I 2019-04-02 21:54:07,778] Finished trial#219 resulted in value: -0.8940892466516775. Current best value is -0.8944807438626767 with parameters: {'feature_fraction': 0.826977192958044, 'learning_rate': 0.02282076577563403, 'subsample': 0.9474956435517711, 'min_data_in_leaf': 82, 'min_sum_hessian_in_leaf': 0.0017853923506107412, 'bagging_fraction': 0.8404734128700382, 'bagging_freq': 1, 'min_gain_to_split': 0.9445989208456473, 'lambda_l1': 0.45734714204064286, 'lambda_l2': 0.39514949348019346, 'num_leaves': 22, 'max_bin': 140}.\n"
     ]
    },
    {
     "name": "stdout",
     "output_type": "stream",
     "text": [
      "Training until validation scores don't improve for 100 rounds.\n",
      "Early stopping, best iteration is:\n",
      "[31]\tvalid_0's auc: 0.886678\n"
     ]
    },
    {
     "name": "stderr",
     "output_type": "stream",
     "text": [
      "[I 2019-04-02 21:54:13,005] Finished trial#220 resulted in value: -0.8866781503820532. Current best value is -0.8944807438626767 with parameters: {'feature_fraction': 0.826977192958044, 'learning_rate': 0.02282076577563403, 'subsample': 0.9474956435517711, 'min_data_in_leaf': 82, 'min_sum_hessian_in_leaf': 0.0017853923506107412, 'bagging_fraction': 0.8404734128700382, 'bagging_freq': 1, 'min_gain_to_split': 0.9445989208456473, 'lambda_l1': 0.45734714204064286, 'lambda_l2': 0.39514949348019346, 'num_leaves': 22, 'max_bin': 140}.\n"
     ]
    },
    {
     "name": "stdout",
     "output_type": "stream",
     "text": [
      "Training until validation scores don't improve for 100 rounds.\n",
      "Early stopping, best iteration is:\n",
      "[39]\tvalid_0's auc: 0.887168\n"
     ]
    },
    {
     "name": "stderr",
     "output_type": "stream",
     "text": [
      "[I 2019-04-02 21:54:18,519] Finished trial#221 resulted in value: -0.8871682996910943. Current best value is -0.8944807438626767 with parameters: {'feature_fraction': 0.826977192958044, 'learning_rate': 0.02282076577563403, 'subsample': 0.9474956435517711, 'min_data_in_leaf': 82, 'min_sum_hessian_in_leaf': 0.0017853923506107412, 'bagging_fraction': 0.8404734128700382, 'bagging_freq': 1, 'min_gain_to_split': 0.9445989208456473, 'lambda_l1': 0.45734714204064286, 'lambda_l2': 0.39514949348019346, 'num_leaves': 22, 'max_bin': 140}.\n"
     ]
    },
    {
     "name": "stdout",
     "output_type": "stream",
     "text": [
      "Training until validation scores don't improve for 100 rounds.\n",
      "Early stopping, best iteration is:\n",
      "[59]\tvalid_0's auc: 0.889405\n"
     ]
    },
    {
     "name": "stderr",
     "output_type": "stream",
     "text": [
      "[I 2019-04-02 21:54:24,853] Finished trial#222 resulted in value: -0.8894053910547318. Current best value is -0.8944807438626767 with parameters: {'feature_fraction': 0.826977192958044, 'learning_rate': 0.02282076577563403, 'subsample': 0.9474956435517711, 'min_data_in_leaf': 82, 'min_sum_hessian_in_leaf': 0.0017853923506107412, 'bagging_fraction': 0.8404734128700382, 'bagging_freq': 1, 'min_gain_to_split': 0.9445989208456473, 'lambda_l1': 0.45734714204064286, 'lambda_l2': 0.39514949348019346, 'num_leaves': 22, 'max_bin': 140}.\n"
     ]
    },
    {
     "name": "stdout",
     "output_type": "stream",
     "text": [
      "Training until validation scores don't improve for 100 rounds.\n",
      "Early stopping, best iteration is:\n",
      "[94]\tvalid_0's auc: 0.890075\n"
     ]
    },
    {
     "name": "stderr",
     "output_type": "stream",
     "text": [
      "[I 2019-04-02 21:54:32,391] Finished trial#223 resulted in value: -0.890075338980473. Current best value is -0.8944807438626767 with parameters: {'feature_fraction': 0.826977192958044, 'learning_rate': 0.02282076577563403, 'subsample': 0.9474956435517711, 'min_data_in_leaf': 82, 'min_sum_hessian_in_leaf': 0.0017853923506107412, 'bagging_fraction': 0.8404734128700382, 'bagging_freq': 1, 'min_gain_to_split': 0.9445989208456473, 'lambda_l1': 0.45734714204064286, 'lambda_l2': 0.39514949348019346, 'num_leaves': 22, 'max_bin': 140}.\n"
     ]
    },
    {
     "name": "stdout",
     "output_type": "stream",
     "text": [
      "Training until validation scores don't improve for 100 rounds.\n",
      "Early stopping, best iteration is:\n",
      "[7]\tvalid_0's auc: 0.885727\n"
     ]
    },
    {
     "name": "stderr",
     "output_type": "stream",
     "text": [
      "[I 2019-04-02 21:54:36,812] Finished trial#224 resulted in value: -0.885726927480441. Current best value is -0.8944807438626767 with parameters: {'feature_fraction': 0.826977192958044, 'learning_rate': 0.02282076577563403, 'subsample': 0.9474956435517711, 'min_data_in_leaf': 82, 'min_sum_hessian_in_leaf': 0.0017853923506107412, 'bagging_fraction': 0.8404734128700382, 'bagging_freq': 1, 'min_gain_to_split': 0.9445989208456473, 'lambda_l1': 0.45734714204064286, 'lambda_l2': 0.39514949348019346, 'num_leaves': 22, 'max_bin': 140}.\n"
     ]
    },
    {
     "name": "stdout",
     "output_type": "stream",
     "text": [
      "Training until validation scores don't improve for 100 rounds.\n",
      "[200]\tvalid_0's auc: 0.890429\n",
      "Early stopping, best iteration is:\n",
      "[177]\tvalid_0's auc: 0.890766\n"
     ]
    },
    {
     "name": "stderr",
     "output_type": "stream",
     "text": [
      "[I 2019-04-02 21:54:47,548] Finished trial#225 resulted in value: -0.8907660695964315. Current best value is -0.8944807438626767 with parameters: {'feature_fraction': 0.826977192958044, 'learning_rate': 0.02282076577563403, 'subsample': 0.9474956435517711, 'min_data_in_leaf': 82, 'min_sum_hessian_in_leaf': 0.0017853923506107412, 'bagging_fraction': 0.8404734128700382, 'bagging_freq': 1, 'min_gain_to_split': 0.9445989208456473, 'lambda_l1': 0.45734714204064286, 'lambda_l2': 0.39514949348019346, 'num_leaves': 22, 'max_bin': 140}.\n"
     ]
    },
    {
     "name": "stdout",
     "output_type": "stream",
     "text": [
      "Training until validation scores don't improve for 100 rounds.\n",
      "[200]\tvalid_0's auc: 0.891098\n",
      "[400]\tvalid_0's auc: 0.892781\n",
      "Early stopping, best iteration is:\n",
      "[454]\tvalid_0's auc: 0.89289\n"
     ]
    },
    {
     "name": "stderr",
     "output_type": "stream",
     "text": [
      "[I 2019-04-02 21:55:10,269] Finished trial#226 resulted in value: -0.8928902873072105. Current best value is -0.8944807438626767 with parameters: {'feature_fraction': 0.826977192958044, 'learning_rate': 0.02282076577563403, 'subsample': 0.9474956435517711, 'min_data_in_leaf': 82, 'min_sum_hessian_in_leaf': 0.0017853923506107412, 'bagging_fraction': 0.8404734128700382, 'bagging_freq': 1, 'min_gain_to_split': 0.9445989208456473, 'lambda_l1': 0.45734714204064286, 'lambda_l2': 0.39514949348019346, 'num_leaves': 22, 'max_bin': 140}.\n"
     ]
    },
    {
     "name": "stdout",
     "output_type": "stream",
     "text": [
      "Training until validation scores don't improve for 100 rounds.\n",
      "[200]\tvalid_0's auc: 0.89179\n"
     ]
    },
    {
     "ename": "KeyboardInterrupt",
     "evalue": "",
     "output_type": "error",
     "traceback": [
      "\u001b[0;31m---------------------------------------------------------------------------\u001b[0m",
      "\u001b[0;31mKeyboardInterrupt\u001b[0m                         Traceback (most recent call last)",
      "\u001b[0;32m<ipython-input-9-4abae8c6cd6a>\u001b[0m in \u001b[0;36m<module>\u001b[0;34m\u001b[0m\n\u001b[1;32m      1\u001b[0m \u001b[0mstudy\u001b[0m \u001b[0;34m=\u001b[0m \u001b[0moptuna\u001b[0m\u001b[0;34m.\u001b[0m\u001b[0mcreate_study\u001b[0m\u001b[0;34m(\u001b[0m\u001b[0;34m)\u001b[0m\u001b[0;34m\u001b[0m\u001b[0;34m\u001b[0m\u001b[0m\n\u001b[0;32m----> 2\u001b[0;31m \u001b[0mstudy\u001b[0m\u001b[0;34m.\u001b[0m\u001b[0moptimize\u001b[0m\u001b[0;34m(\u001b[0m\u001b[0mobjective\u001b[0m\u001b[0;34m,\u001b[0m \u001b[0mn_trials\u001b[0m\u001b[0;34m=\u001b[0m\u001b[0;36m400\u001b[0m\u001b[0;34m)\u001b[0m\u001b[0;34m\u001b[0m\u001b[0;34m\u001b[0m\u001b[0m\n\u001b[0m",
      "\u001b[0;32m~/Documents/python/kaggle/ml/lib/python3.6/site-packages/optuna/study.py\u001b[0m in \u001b[0;36moptimize\u001b[0;34m(self, func, n_trials, timeout, n_jobs, catch)\u001b[0m\n\u001b[1;32m    208\u001b[0m \u001b[0;34m\u001b[0m\u001b[0m\n\u001b[1;32m    209\u001b[0m         \u001b[0;32mif\u001b[0m \u001b[0mn_jobs\u001b[0m \u001b[0;34m==\u001b[0m \u001b[0;36m1\u001b[0m\u001b[0;34m:\u001b[0m\u001b[0;34m\u001b[0m\u001b[0;34m\u001b[0m\u001b[0m\n\u001b[0;32m--> 210\u001b[0;31m             \u001b[0mself\u001b[0m\u001b[0;34m.\u001b[0m\u001b[0m_optimize_sequential\u001b[0m\u001b[0;34m(\u001b[0m\u001b[0mfunc\u001b[0m\u001b[0;34m,\u001b[0m \u001b[0mn_trials\u001b[0m\u001b[0;34m,\u001b[0m \u001b[0mtimeout\u001b[0m\u001b[0;34m,\u001b[0m \u001b[0mcatch\u001b[0m\u001b[0;34m)\u001b[0m\u001b[0;34m\u001b[0m\u001b[0;34m\u001b[0m\u001b[0m\n\u001b[0m\u001b[1;32m    211\u001b[0m         \u001b[0;32melse\u001b[0m\u001b[0;34m:\u001b[0m\u001b[0;34m\u001b[0m\u001b[0;34m\u001b[0m\u001b[0m\n\u001b[1;32m    212\u001b[0m             \u001b[0mself\u001b[0m\u001b[0;34m.\u001b[0m\u001b[0m_optimize_parallel\u001b[0m\u001b[0;34m(\u001b[0m\u001b[0mfunc\u001b[0m\u001b[0;34m,\u001b[0m \u001b[0mn_trials\u001b[0m\u001b[0;34m,\u001b[0m \u001b[0mtimeout\u001b[0m\u001b[0;34m,\u001b[0m \u001b[0mn_jobs\u001b[0m\u001b[0;34m,\u001b[0m \u001b[0mcatch\u001b[0m\u001b[0;34m)\u001b[0m\u001b[0;34m\u001b[0m\u001b[0;34m\u001b[0m\u001b[0m\n",
      "\u001b[0;32m~/Documents/python/kaggle/ml/lib/python3.6/site-packages/optuna/study.py\u001b[0m in \u001b[0;36m_optimize_sequential\u001b[0;34m(self, func, n_trials, timeout, catch)\u001b[0m\n\u001b[1;32m    322\u001b[0m                     \u001b[0;32mbreak\u001b[0m\u001b[0;34m\u001b[0m\u001b[0;34m\u001b[0m\u001b[0m\n\u001b[1;32m    323\u001b[0m \u001b[0;34m\u001b[0m\u001b[0m\n\u001b[0;32m--> 324\u001b[0;31m             \u001b[0mself\u001b[0m\u001b[0;34m.\u001b[0m\u001b[0m_run_trial\u001b[0m\u001b[0;34m(\u001b[0m\u001b[0mfunc\u001b[0m\u001b[0;34m,\u001b[0m \u001b[0mcatch\u001b[0m\u001b[0;34m)\u001b[0m\u001b[0;34m\u001b[0m\u001b[0;34m\u001b[0m\u001b[0m\n\u001b[0m\u001b[1;32m    325\u001b[0m \u001b[0;34m\u001b[0m\u001b[0m\n\u001b[1;32m    326\u001b[0m     def _optimize_parallel(\n",
      "\u001b[0;32m~/Documents/python/kaggle/ml/lib/python3.6/site-packages/optuna/study.py\u001b[0m in \u001b[0;36m_run_trial\u001b[0;34m(self, func, catch)\u001b[0m\n\u001b[1;32m    396\u001b[0m \u001b[0;34m\u001b[0m\u001b[0m\n\u001b[1;32m    397\u001b[0m         \u001b[0;32mtry\u001b[0m\u001b[0;34m:\u001b[0m\u001b[0;34m\u001b[0m\u001b[0;34m\u001b[0m\u001b[0m\n\u001b[0;32m--> 398\u001b[0;31m             \u001b[0mresult\u001b[0m \u001b[0;34m=\u001b[0m \u001b[0mfunc\u001b[0m\u001b[0;34m(\u001b[0m\u001b[0mtrial\u001b[0m\u001b[0;34m)\u001b[0m\u001b[0;34m\u001b[0m\u001b[0;34m\u001b[0m\u001b[0m\n\u001b[0m\u001b[1;32m    399\u001b[0m         \u001b[0;32mexcept\u001b[0m \u001b[0mstructs\u001b[0m\u001b[0;34m.\u001b[0m\u001b[0mTrialPruned\u001b[0m \u001b[0;32mas\u001b[0m \u001b[0me\u001b[0m\u001b[0;34m:\u001b[0m\u001b[0;34m\u001b[0m\u001b[0;34m\u001b[0m\u001b[0m\n\u001b[1;32m    400\u001b[0m             message = 'Setting status of trial#{} as {}. {}'.format(trial_number,\n",
      "\u001b[0;32m<ipython-input-8-7f992a1e43ac>\u001b[0m in \u001b[0;36mobjective\u001b[0;34m(trial)\u001b[0m\n\u001b[1;32m     26\u001b[0m                     \u001b[0mnum_boost_round\u001b[0m\u001b[0;34m=\u001b[0m\u001b[0;36m10000\u001b[0m\u001b[0;34m,\u001b[0m\u001b[0;34m\u001b[0m\u001b[0;34m\u001b[0m\u001b[0m\n\u001b[1;32m     27\u001b[0m                     \u001b[0mearly_stopping_rounds\u001b[0m\u001b[0;34m=\u001b[0m\u001b[0;36m100\u001b[0m\u001b[0;34m,\u001b[0m\u001b[0;34m\u001b[0m\u001b[0;34m\u001b[0m\u001b[0m\n\u001b[0;32m---> 28\u001b[0;31m                     verbose_eval = 200)    \n\u001b[0m\u001b[1;32m     29\u001b[0m \u001b[0;34m\u001b[0m\u001b[0m\n\u001b[1;32m     30\u001b[0m     \u001b[0my_val_pred\u001b[0m \u001b[0;34m=\u001b[0m \u001b[0mgbm\u001b[0m\u001b[0;34m.\u001b[0m\u001b[0mpredict\u001b[0m\u001b[0;34m(\u001b[0m\u001b[0mX_val\u001b[0m\u001b[0;34m,\u001b[0m \u001b[0mnum_iteration\u001b[0m\u001b[0;34m=\u001b[0m\u001b[0mgbm\u001b[0m\u001b[0;34m.\u001b[0m\u001b[0mbest_iteration\u001b[0m\u001b[0;34m)\u001b[0m\u001b[0;34m\u001b[0m\u001b[0;34m\u001b[0m\u001b[0m\n",
      "\u001b[0;32m~/Documents/python/kaggle/ml/lib/python3.6/site-packages/lightgbm/engine.py\u001b[0m in \u001b[0;36mtrain\u001b[0;34m(params, train_set, num_boost_round, valid_sets, valid_names, fobj, feval, init_model, feature_name, categorical_feature, early_stopping_rounds, evals_result, verbose_eval, learning_rates, keep_training_booster, callbacks)\u001b[0m\n\u001b[1;32m    216\u001b[0m                                     evaluation_result_list=None))\n\u001b[1;32m    217\u001b[0m \u001b[0;34m\u001b[0m\u001b[0m\n\u001b[0;32m--> 218\u001b[0;31m         \u001b[0mbooster\u001b[0m\u001b[0;34m.\u001b[0m\u001b[0mupdate\u001b[0m\u001b[0;34m(\u001b[0m\u001b[0mfobj\u001b[0m\u001b[0;34m=\u001b[0m\u001b[0mfobj\u001b[0m\u001b[0;34m)\u001b[0m\u001b[0;34m\u001b[0m\u001b[0;34m\u001b[0m\u001b[0m\n\u001b[0m\u001b[1;32m    219\u001b[0m \u001b[0;34m\u001b[0m\u001b[0m\n\u001b[1;32m    220\u001b[0m         \u001b[0mevaluation_result_list\u001b[0m \u001b[0;34m=\u001b[0m \u001b[0;34m[\u001b[0m\u001b[0;34m]\u001b[0m\u001b[0;34m\u001b[0m\u001b[0;34m\u001b[0m\u001b[0m\n",
      "\u001b[0;32m~/Documents/python/kaggle/ml/lib/python3.6/site-packages/lightgbm/basic.py\u001b[0m in \u001b[0;36mupdate\u001b[0;34m(self, train_set, fobj)\u001b[0m\n\u001b[1;32m   1800\u001b[0m             _safe_call(_LIB.LGBM_BoosterUpdateOneIter(\n\u001b[1;32m   1801\u001b[0m                 \u001b[0mself\u001b[0m\u001b[0;34m.\u001b[0m\u001b[0mhandle\u001b[0m\u001b[0;34m,\u001b[0m\u001b[0;34m\u001b[0m\u001b[0;34m\u001b[0m\u001b[0m\n\u001b[0;32m-> 1802\u001b[0;31m                 ctypes.byref(is_finished)))\n\u001b[0m\u001b[1;32m   1803\u001b[0m             \u001b[0mself\u001b[0m\u001b[0;34m.\u001b[0m\u001b[0m__is_predicted_cur_iter\u001b[0m \u001b[0;34m=\u001b[0m \u001b[0;34m[\u001b[0m\u001b[0;32mFalse\u001b[0m \u001b[0;32mfor\u001b[0m \u001b[0m_\u001b[0m \u001b[0;32min\u001b[0m \u001b[0mrange_\u001b[0m\u001b[0;34m(\u001b[0m\u001b[0mself\u001b[0m\u001b[0;34m.\u001b[0m\u001b[0m__num_dataset\u001b[0m\u001b[0;34m)\u001b[0m\u001b[0;34m]\u001b[0m\u001b[0;34m\u001b[0m\u001b[0;34m\u001b[0m\u001b[0m\n\u001b[1;32m   1804\u001b[0m             \u001b[0;32mreturn\u001b[0m \u001b[0mis_finished\u001b[0m\u001b[0;34m.\u001b[0m\u001b[0mvalue\u001b[0m \u001b[0;34m==\u001b[0m \u001b[0;36m1\u001b[0m\u001b[0;34m\u001b[0m\u001b[0;34m\u001b[0m\u001b[0m\n",
      "\u001b[0;31mKeyboardInterrupt\u001b[0m: "
     ]
    }
   ],
   "source": [
    "v"
   ]
  },
  {
   "cell_type": "code",
   "execution_count": null,
   "metadata": {},
   "outputs": [],
   "source": [
    "# params = {\n",
    "#     'objective': 'binary',\n",
    "#     'boost_from_average':False,\n",
    "#     'metric': 'auc',\n",
    "#     'boosting_type': 'gbdt', \n",
    "#     'feature_fraction': study.best_params['feature_fraction'], # 1.0 use\n",
    "#     'learning_rate': study.best_params['learning_rate'], # small for acc\n",
    "#     'subsample': study.best_params['subsample'],\n",
    "#     'min_data_in_leaf': study.best_params['min_data_in_leaf'], # 20 use\n",
    "#     'min_sum_hessian_in_leaf' : study.best_params['min_sum_hessian_in_leaf'] ,#1e-3 use\n",
    "#     'bagging_fraction' :  study.best_params['bagging_fraction'],# 1.0 use\n",
    "#     'bagging_freq': study.best_params['bagging_freq'],#, 0 use\n",
    "#     'min_gain_to_split': study.best_params['min_gain_to_split'],# 0.0 use\n",
    "#     'lambda_l1': study.best_params['lambda_l1'],\n",
    "#     'lambda_l2': study.best_params['lambda_l2'],\n",
    "#     'num_leaves': study.best_params['num_leaves'], # 31, small for overfit, large for acc\n",
    "#     'max_bin': study.best_params['max_bin'], # 255, small for overfit, large for acc, \n",
    "# }"
   ]
  },
  {
   "cell_type": "code",
   "execution_count": 10,
   "metadata": {},
   "outputs": [],
   "source": [
    "params = {\n",
    "    'objective': 'binary',\n",
    "    'boost_from_average':False,\n",
    "    'metric': 'auc',\n",
    "    'boosting_type': 'gbdt', \n",
    "'feature_fraction': 0.826977192958044, 'learning_rate': 0.02282076577563403, 'subsample': 0.9474956435517711, 'min_data_in_leaf': 82, 'min_sum_hessian_in_leaf': 0.0017853923506107412, 'bagging_fraction': 0.8404734128700382, 'bagging_freq': 1, 'min_gain_to_split': 0.9445989208456473, 'lambda_l1': 0.45734714204064286, 'lambda_l2': 0.39514949348019346, 'num_leaves': 22, 'max_bin': 140\n",
    "}"
   ]
  },
  {
   "cell_type": "code",
   "execution_count": 11,
   "metadata": {},
   "outputs": [
    {
     "name": "stdout",
     "output_type": "stream",
     "text": [
      "Training until validation scores don't improve for 100 rounds.\n",
      "[200]\tvalid_0's auc: 0.887509\n",
      "[400]\tvalid_0's auc: 0.890823\n",
      "[600]\tvalid_0's auc: 0.892479\n",
      "[800]\tvalid_0's auc: 0.893277\n",
      "[1000]\tvalid_0's auc: 0.893868\n",
      "[1200]\tvalid_0's auc: 0.894161\n",
      "[1400]\tvalid_0's auc: 0.894375\n",
      "Early stopping, best iteration is:\n",
      "[1472]\tvalid_0's auc: 0.894481\n"
     ]
    }
   ],
   "source": [
    "gbm = lgb.train(params,\n",
    "                lgb_train,\n",
    "                valid_sets=lgb_val,\n",
    "                num_boost_round=10000,\n",
    "                early_stopping_rounds=100,\n",
    "                verbose_eval = 200) "
   ]
  },
  {
   "cell_type": "code",
   "execution_count": 12,
   "metadata": {},
   "outputs": [
    {
     "data": {
      "image/png": "[encoded data removed]",
      "text/plain": [
       "<Figure size 432x288 with 1 Axes>"
      ]
     },
     "metadata": {
      "needs_background": "light"
     },
     "output_type": "display_data"
    }
   ],
   "source": [
    "y_val_pred = gbm.predict(X_val, num_iteration=gbm.best_iteration)\n",
    "fpr_val, tpr_val, thresholds_val = metrics.roc_curve(y_val, y_val_pred)\n",
    "auc_val = metrics.auc(fpr_val, tpr_val)\n",
    "\n",
    "y_train_pred = gbm.predict(X_train, num_iteration=gbm.best_iteration)\n",
    "fpr_train, tpr_train, thresholds_train = metrics.roc_curve(y_train, y_train_pred)\n",
    "auc_train = metrics.auc(fpr_train, tpr_train)\n",
    "\n",
    "plt.plot(fpr_train, tpr_train, label='ROC curve (area = %.2f)'%auc_train)\n",
    "plt.plot(fpr_val, tpr_val, label='ROC curve (area = %.2f)'%auc_val)\n",
    "plt.legend()\n",
    "plt.title('ROC curve')\n",
    "plt.xlabel('False Positive Rate')\n",
    "plt.ylabel('True Positive Rate')\n",
    "plt.grid(True)"
   ]
  },
  {
   "cell_type": "code",
   "execution_count": 13,
   "metadata": {},
   "outputs": [
    {
     "name": "stdout",
     "output_type": "stream",
     "text": [
      "1102\n",
      "4\n",
      "LogisticRegression          91\n",
      "MLPClassifier              197\n",
      "RandomForestClassifier      71\n",
      "RandomForestClassifier     120\n",
      "RandomForestClassifier     223\n",
      "RandomForestClassifier     103\n",
      "RandomForestClassifier     125\n",
      "RandomForestClassifier     110\n",
      "RandomForestClassifier      84\n",
      "RandomForestClassifier     149\n",
      "RandomForestClassifier     122\n",
      "AdaBoostClassifier         331\n",
      "AdaBoostClassifier         367\n",
      "AdaBoostClassifier         148\n",
      "AdaBoostClassifier         138\n",
      "AdaBoostClassifier         144\n",
      "AdaBoostClassifier         137\n",
      "AdaBoostClassifier         131\n",
      "AdaBoostClassifier         304\n",
      "AdaBoostClassifier         373\n",
      "AdaBoostClassifier         408\n",
      "AdaBoostClassifier         594\n",
      "GaussianNB                1102\n",
      "GaussianNB                 144\n",
      "GaussianNB                  31\n",
      "GaussianNB                   4\n",
      "GaussianNB                   8\n",
      "dtype: int64\n"
     ]
    }
   ],
   "source": [
    "importance = pd.Series(gbm.feature_importance())\n",
    "clf_imp = importance[200:]\n",
    "clf_imp.index = names\n",
    "print(importance.max())\n",
    "print(importance.min())\n",
    "print(clf_imp)"
   ]
  },
  {
   "cell_type": "code",
   "execution_count": 14,
   "metadata": {},
   "outputs": [],
   "source": [
    "test_df = pd.read_csv('test.csv')\n",
    "IDs = test_df['ID_code']\n",
    "X_test = test_df.drop(['ID_code'], axis=1)\n",
    "X_test = sc.fit_transform(X_test)"
   ]
  },
  {
   "cell_type": "code",
   "execution_count": 15,
   "metadata": {},
   "outputs": [
    {
     "name": "stdout",
     "output_type": "stream",
     "text": [
      "predicting with LogisticRegression.....\n",
      "predicting with MLPClassifier.....\n",
      "predicting with RandomForestClassifier.....\n",
      "predicting with RandomForestClassifier.....\n",
      "predicting with RandomForestClassifier.....\n",
      "predicting with RandomForestClassifier.....\n",
      "predicting with RandomForestClassifier.....\n",
      "predicting with RandomForestClassifier.....\n",
      "predicting with RandomForestClassifier.....\n",
      "predicting with RandomForestClassifier.....\n",
      "predicting with RandomForestClassifier.....\n",
      "predicting with AdaBoostClassifier.....\n",
      "predicting with AdaBoostClassifier.....\n",
      "predicting with AdaBoostClassifier.....\n",
      "predicting with AdaBoostClassifier.....\n",
      "predicting with AdaBoostClassifier.....\n",
      "predicting with AdaBoostClassifier.....\n",
      "predicting with AdaBoostClassifier.....\n",
      "predicting with AdaBoostClassifier.....\n",
      "predicting with AdaBoostClassifier.....\n",
      "predicting with AdaBoostClassifier.....\n",
      "predicting with AdaBoostClassifier.....\n",
      "predicting with GaussianNB.....\n",
      "predicting with GaussianNB.....\n",
      "predicting with GaussianNB.....\n",
      "predicting with GaussianNB.....\n",
      "predicting with GaussianNB.....\n"
     ]
    }
   ],
   "source": [
    "predicts = []\n",
    "for clf in clfs:\n",
    "    name = str(clf).split('(')[0]\n",
    "    print('predicting with %s.....' % name)\n",
    "    if hasattr(clf,'predict_proba') == True:\n",
    "        pred_test = clf.predict_proba(X_test)[:,0]\n",
    "        predicts.append(pred_test)\n",
    "    else:\n",
    "        pred_test = clf.predict(X_test)\n",
    "        predicts.append(pred_test)\n",
    "        \n",
    "param_clf = np.array(predicts).T\n",
    "X_test = np.hstack([X_test, param_clf])"
   ]
  },
  {
   "cell_type": "code",
   "execution_count": 16,
   "metadata": {},
   "outputs": [],
   "source": [
    "y_pred = gbm.predict(X_test, num_iteration=gbm.best_iteration)\n",
    "se_pred = pd.Series(y_pred)\n",
    "submission = pd.concat([IDs, se_pred], axis=1)\n",
    "submission.columns  = ['ID_code', 'target']"
   ]
  },
  {
   "cell_type": "code",
   "execution_count": 17,
   "metadata": {},
   "outputs": [],
   "source": [
    "submission.to_csv('submission_clf.csv', index=False)"
   ]
  },
  {
   "cell_type": "code",
   "execution_count": null,
   "metadata": {},
   "outputs": [],
   "source": []
  }
 ],
 "metadata": {
  "kernelspec": {
   "display_name": "Python 3",
   "language": "python",
   "name": "python3"
  },
  "language_info": {
   "codemirror_mode": {
    "name": "ipython",
    "version": 3
   },
   "file_extension": ".py",
   "mimetype": "text/x-python",
   "name": "python",
   "nbconvert_exporter": "python",
   "pygments_lexer": "ipython3",
   "version": "3.6.7"
  }
 },
 "nbformat": 4,
 "nbformat_minor": 2
}
