{
 "cells": [
  {
   "cell_type": "code",
   "execution_count": 1,
   "metadata": {},
   "outputs": [],
   "source": [
    "import pandas as pd\n",
    "import numpy as np\n",
    "import matplotlib.pyplot as plt\n",
    "%matplotlib inline\n",
    "import seaborn as sns\n",
    "\n",
    "from sklearn.model_selection import train_test_split\n",
    "from sklearn.preprocessing import StandardScaler\n",
    "from sklearn import metrics\n",
    "import lightgbm as lgb"
   ]
  },
  {
   "cell_type": "code",
   "execution_count": 2,
   "metadata": {},
   "outputs": [],
   "source": [
    "df = pd.read_csv('train.csv')"
   ]
  },
  {
   "cell_type": "code",
   "execution_count": 3,
   "metadata": {},
   "outputs": [],
   "source": [
    "X_code = df.drop(['target'], axis=1).values\n",
    "y = df['target'].values\n",
    "X_code_train, X_code_val, y_train, y_val = train_test_split(X_code, y, test_size= 0.2, random_state=0, stratify=y)\n",
    "\n",
    "X_train = X_code_train[:,1:].astype(np.float)\n",
    "code_train = X_code_train[:,0]\n",
    "X_val = X_code_val[:,1:].astype(np.float)\n",
    "code_val = X_code_val[:,0]"
   ]
  },
  {
   "cell_type": "code",
   "execution_count": 4,
   "metadata": {},
   "outputs": [],
   "source": [
    "cols = df.columns[2:]\n",
    "df_train = pd.DataFrame(X_train, columns=cols)\n",
    "se_code_train = pd.Series(code_train, name='ID_code')\n",
    "se_y_train = pd.Series(y_train, name='target')\n",
    "df_train = pd.concat([se_code_train, se_y_train, df_train], axis=1)"
   ]
  },
  {
   "cell_type": "code",
   "execution_count": 5,
   "metadata": {},
   "outputs": [],
   "source": [
    "df_val = pd.DataFrame(X_val, columns=cols)\n",
    "se_code_val = pd.Series(code_val, name='ID_code')\n",
    "se_y_val = pd.Series(y_val, name='target')\n",
    "df_val = pd.concat([se_code_val, se_y_val, df_val], axis=1)"
   ]
  },
  {
   "cell_type": "code",
   "execution_count": 17,
   "metadata": {},
   "outputs": [],
   "source": [
    "df_post_train = pd.read_csv('train_posterior.csv')\n",
    "df_post_val = pd.read_csv('val_posterior.csv')\n",
    "df_post_test = pd.read_csv('test_posterior.csv')\n",
    "\n",
    "df_lr_train = pd.read_csv('train_lr_score.csv')\n",
    "df_lr_val = pd.read_csv('val_lr_score.csv')\n",
    "df_lr_test = pd.read_csv('test_lr_score.csv')"
   ]
  },
  {
   "cell_type": "code",
   "execution_count": 18,
   "metadata": {},
   "outputs": [],
   "source": [
    "df_test = pd.read_csv('test.csv')"
   ]
  },
  {
   "cell_type": "code",
   "execution_count": 19,
   "metadata": {},
   "outputs": [],
   "source": [
    "del df_lr_train['target'], df_lr_val['target']"
   ]
  },
  {
   "cell_type": "code",
   "execution_count": 53,
   "metadata": {},
   "outputs": [],
   "source": [
    "df_train_all = pd.merge(df_train, df_post_train)\n",
    "df_train_all = pd.merge(df_train_all, df_lr_train)\n",
    "\n",
    "df_val_all = pd.merge(df_val, df_post_val)\n",
    "df_val_all = pd.merge(df_val_all, df_lr_val)\n",
    "\n",
    "df_test_all = pd.merge(df_test, df_post_test)\n",
    "df_test_all = pd.merge(df_test_all, df_lr_test)"
   ]
  },
  {
   "cell_type": "code",
   "execution_count": 81,
   "metadata": {},
   "outputs": [],
   "source": [
    "X_train = df_train_all.drop(['ID_code','target'], axis=1).values\n",
    "y_train = df_train_all['target'].values\n",
    "\n",
    "X_val = df_val_all.drop(['ID_code','target'], axis=1).values\n",
    "y_val = df_val_all['target'].values\n",
    "\n",
    "X_test = df_test_all.drop(['ID_code'], axis=1).values"
   ]
  },
  {
   "cell_type": "code",
   "execution_count": 88,
   "metadata": {},
   "outputs": [],
   "source": [
    "lgb_train = lgb.Dataset(X_train, y_train)\n",
    "lgb_val = lgb.Dataset(X_val, y_val, reference=lgb_train)"
   ]
  },
  {
   "cell_type": "code",
   "execution_count": 28,
   "metadata": {},
   "outputs": [],
   "source": [
    "import optuna"
   ]
  },
  {
   "cell_type": "code",
   "execution_count": 41,
   "metadata": {},
   "outputs": [],
   "source": [
    "def objective(trial):\n",
    "    \"\"\"最小化する目的関数\"\"\"\n",
    "    # LightGBM parameters\n",
    "    params = {\n",
    "        'objective': 'binary',\n",
    "        'boost_from_average':False,\n",
    "        'metric': 'auc',\n",
    "        'boosting_type': 'gbdt',\n",
    "        'feature_fraction': trial.suggest_uniform('feature_fraction', 0.8, 1.0), # 1.0 use\n",
    "        'learning_rate': trial.suggest_uniform('learning_rate', 0.001, 1.0), # small for acc\n",
    "        'subsample': trial.suggest_uniform('subsample', 0.8, 1.0),\n",
    "        'min_data_in_leaf': trial.suggest_int('min_data_in_leaf', 10, 100), # 20 use\n",
    "        'min_sum_hessian_in_leaf' : trial.suggest_uniform('min_sum_hessian_in_leaf', 1e-4, 1e-2) ,#1e-3 use\n",
    "        'bagging_fraction' : trial.suggest_uniform('bagging_fraction', 0.8, 1.0) ,# 1.0 use\n",
    "        'bagging_freq': trial.suggest_int('bagging_freq', 0, 10) ,# 0 use\n",
    "        'min_gain_to_split': trial.suggest_uniform('min_gain_to_split', 0.8, 1.0),# 0.0 use\n",
    "        'lambda_l1': trial.suggest_uniform('lambda_l1', 0.0, 0.5),\n",
    "        'lambda_l2': trial.suggest_uniform('lambda_l2', 0.0, 0.5),\n",
    "        'num_leaves'   : trial.suggest_int('num_leaves', 16, 31), # 31, small for overfit, large for acc\n",
    "        'max_bin': trial.suggest_int('max_bin', 128, 255), # 255, small for overfit, large for acc, \n",
    "    }\n",
    "    # train\n",
    "    gbm = lgb.train(params,\n",
    "                    lgb_train,\n",
    "                    valid_sets=lgb_val,\n",
    "                    num_boost_round=10000,\n",
    "                    early_stopping_rounds=100,\n",
    "                    verbose_eval = 200)    \n",
    "    \n",
    "    y_val_pred = gbm.predict(X_val, num_iteration=gbm.best_iteration)\n",
    "    fpr_val, tpr_val, thresholds_val = metrics.roc_curve(y_val, y_val_pred)\n",
    "    auc_val = metrics.auc(fpr_val, tpr_val)\n",
    "    return  -auc_val"
   ]
  },
  {
   "cell_type": "code",
   "execution_count": 42,
   "metadata": {},
   "outputs": [
    {
     "name": "stdout",
     "output_type": "stream",
     "text": [
      "Training until validation scores don't improve for 100 rounds.\n",
      "Early stopping, best iteration is:\n",
      "[72]\tvalid_0's auc: 0.876988\n"
     ]
    },
    {
     "name": "stderr",
     "output_type": "stream",
     "text": [
      "[I 2019-04-07 23:22:30,465] Finished trial#0 resulted in value: -0.8769877751321217. Current best value is -0.8769877751321217 with parameters: {'feature_fraction': 0.9753787985168908, 'learning_rate': 0.22632436999607605, 'subsample': 0.8084205654587784, 'min_data_in_leaf': 51, 'min_sum_hessian_in_leaf': 0.0007012267031058061, 'bagging_fraction': 0.9975356344507997, 'bagging_freq': 9, 'min_gain_to_split': 0.8658423742125327, 'lambda_l1': 0.03758254444538933, 'lambda_l2': 0.3445764950755816, 'num_leaves': 27, 'max_bin': 181}.\n"
     ]
    },
    {
     "name": "stdout",
     "output_type": "stream",
     "text": [
      "Training until validation scores don't improve for 100 rounds.\n",
      "Early stopping, best iteration is:\n",
      "[86]\tvalid_0's auc: 0.869367\n"
     ]
    },
    {
     "name": "stderr",
     "output_type": "stream",
     "text": [
      "[I 2019-04-07 23:22:51,340] Finished trial#1 resulted in value: -0.8693671096988653. Current best value is -0.8769877751321217 with parameters: {'feature_fraction': 0.9753787985168908, 'learning_rate': 0.22632436999607605, 'subsample': 0.8084205654587784, 'min_data_in_leaf': 51, 'min_sum_hessian_in_leaf': 0.0007012267031058061, 'bagging_fraction': 0.9975356344507997, 'bagging_freq': 9, 'min_gain_to_split': 0.8658423742125327, 'lambda_l1': 0.03758254444538933, 'lambda_l2': 0.3445764950755816, 'num_leaves': 27, 'max_bin': 181}.\n"
     ]
    },
    {
     "name": "stdout",
     "output_type": "stream",
     "text": [
      "Training until validation scores don't improve for 100 rounds.\n",
      "Early stopping, best iteration is:\n",
      "[21]\tvalid_0's auc: 0.868099\n"
     ]
    },
    {
     "name": "stderr",
     "output_type": "stream",
     "text": [
      "[I 2019-04-07 23:23:06,259] Finished trial#2 resulted in value: -0.8680991028736252. Current best value is -0.8769877751321217 with parameters: {'feature_fraction': 0.9753787985168908, 'learning_rate': 0.22632436999607605, 'subsample': 0.8084205654587784, 'min_data_in_leaf': 51, 'min_sum_hessian_in_leaf': 0.0007012267031058061, 'bagging_fraction': 0.9975356344507997, 'bagging_freq': 9, 'min_gain_to_split': 0.8658423742125327, 'lambda_l1': 0.03758254444538933, 'lambda_l2': 0.3445764950755816, 'num_leaves': 27, 'max_bin': 181}.\n"
     ]
    },
    {
     "name": "stdout",
     "output_type": "stream",
     "text": [
      "Training until validation scores don't improve for 100 rounds.\n",
      "Early stopping, best iteration is:\n",
      "[18]\tvalid_0's auc: 0.870821\n"
     ]
    },
    {
     "name": "stderr",
     "output_type": "stream",
     "text": [
      "[I 2019-04-07 23:23:19,648] Finished trial#3 resulted in value: -0.870820999228427. Current best value is -0.8769877751321217 with parameters: {'feature_fraction': 0.9753787985168908, 'learning_rate': 0.22632436999607605, 'subsample': 0.8084205654587784, 'min_data_in_leaf': 51, 'min_sum_hessian_in_leaf': 0.0007012267031058061, 'bagging_fraction': 0.9975356344507997, 'bagging_freq': 9, 'min_gain_to_split': 0.8658423742125327, 'lambda_l1': 0.03758254444538933, 'lambda_l2': 0.3445764950755816, 'num_leaves': 27, 'max_bin': 181}.\n"
     ]
    },
    {
     "name": "stdout",
     "output_type": "stream",
     "text": [
      "Training until validation scores don't improve for 100 rounds.\n",
      "Early stopping, best iteration is:\n",
      "[37]\tvalid_0's auc: 0.871983\n"
     ]
    },
    {
     "name": "stderr",
     "output_type": "stream",
     "text": [
      "[I 2019-04-07 23:23:36,370] Finished trial#4 resulted in value: -0.8719829147757597. Current best value is -0.8769877751321217 with parameters: {'feature_fraction': 0.9753787985168908, 'learning_rate': 0.22632436999607605, 'subsample': 0.8084205654587784, 'min_data_in_leaf': 51, 'min_sum_hessian_in_leaf': 0.0007012267031058061, 'bagging_fraction': 0.9975356344507997, 'bagging_freq': 9, 'min_gain_to_split': 0.8658423742125327, 'lambda_l1': 0.03758254444538933, 'lambda_l2': 0.3445764950755816, 'num_leaves': 27, 'max_bin': 181}.\n"
     ]
    },
    {
     "name": "stdout",
     "output_type": "stream",
     "text": [
      "Training until validation scores don't improve for 100 rounds.\n",
      "[200]\tvalid_0's auc: 0.877863\n",
      "[400]\tvalid_0's auc: 0.88354\n",
      "[600]\tvalid_0's auc: 0.884997\n",
      "[800]\tvalid_0's auc: 0.885414\n",
      "Early stopping, best iteration is:\n",
      "[766]\tvalid_0's auc: 0.885583\n"
     ]
    },
    {
     "name": "stderr",
     "output_type": "stream",
     "text": [
      "[I 2019-04-07 23:25:55,811] Finished trial#5 resulted in value: -0.8855830630062582. Current best value is -0.8855830630062582 with parameters: {'feature_fraction': 0.9632769705131796, 'learning_rate': 0.04451690910588942, 'subsample': 0.9482494759019763, 'min_data_in_leaf': 27, 'min_sum_hessian_in_leaf': 0.0071531850104952655, 'bagging_fraction': 0.9219664039258519, 'bagging_freq': 10, 'min_gain_to_split': 0.866114331697275, 'lambda_l1': 0.32513006918916015, 'lambda_l2': 0.17950422582364367, 'num_leaves': 30, 'max_bin': 232}.\n"
     ]
    },
    {
     "name": "stdout",
     "output_type": "stream",
     "text": [
      "Training until validation scores don't improve for 100 rounds.\n",
      "Early stopping, best iteration is:\n",
      "[10]\tvalid_0's auc: 0.867692\n"
     ]
    },
    {
     "name": "stderr",
     "output_type": "stream",
     "text": [
      "[I 2019-04-07 23:26:07,527] Finished trial#6 resulted in value: -0.8676919633350757. Current best value is -0.8855830630062582 with parameters: {'feature_fraction': 0.9632769705131796, 'learning_rate': 0.04451690910588942, 'subsample': 0.9482494759019763, 'min_data_in_leaf': 27, 'min_sum_hessian_in_leaf': 0.0071531850104952655, 'bagging_fraction': 0.9219664039258519, 'bagging_freq': 10, 'min_gain_to_split': 0.866114331697275, 'lambda_l1': 0.32513006918916015, 'lambda_l2': 0.17950422582364367, 'num_leaves': 30, 'max_bin': 232}.\n"
     ]
    },
    {
     "name": "stdout",
     "output_type": "stream",
     "text": [
      "Training until validation scores don't improve for 100 rounds.\n",
      "Early stopping, best iteration is:\n",
      "[11]\tvalid_0's auc: 0.866354\n"
     ]
    },
    {
     "name": "stderr",
     "output_type": "stream",
     "text": [
      "[I 2019-04-07 23:26:19,816] Finished trial#7 resulted in value: -0.8663544700068307. Current best value is -0.8855830630062582 with parameters: {'feature_fraction': 0.9632769705131796, 'learning_rate': 0.04451690910588942, 'subsample': 0.9482494759019763, 'min_data_in_leaf': 27, 'min_sum_hessian_in_leaf': 0.0071531850104952655, 'bagging_fraction': 0.9219664039258519, 'bagging_freq': 10, 'min_gain_to_split': 0.866114331697275, 'lambda_l1': 0.32513006918916015, 'lambda_l2': 0.17950422582364367, 'num_leaves': 30, 'max_bin': 232}.\n"
     ]
    },
    {
     "name": "stdout",
     "output_type": "stream",
     "text": [
      "Training until validation scores don't improve for 100 rounds.\n",
      "Early stopping, best iteration is:\n",
      "[16]\tvalid_0's auc: 0.867063\n"
     ]
    },
    {
     "name": "stderr",
     "output_type": "stream",
     "text": [
      "[I 2019-04-07 23:26:32,295] Finished trial#8 resulted in value: -0.8670629205279881. Current best value is -0.8855830630062582 with parameters: {'feature_fraction': 0.9632769705131796, 'learning_rate': 0.04451690910588942, 'subsample': 0.9482494759019763, 'min_data_in_leaf': 27, 'min_sum_hessian_in_leaf': 0.0071531850104952655, 'bagging_fraction': 0.9219664039258519, 'bagging_freq': 10, 'min_gain_to_split': 0.866114331697275, 'lambda_l1': 0.32513006918916015, 'lambda_l2': 0.17950422582364367, 'num_leaves': 30, 'max_bin': 232}.\n"
     ]
    },
    {
     "name": "stdout",
     "output_type": "stream",
     "text": [
      "Training until validation scores don't improve for 100 rounds.\n",
      "Early stopping, best iteration is:\n",
      "[17]\tvalid_0's auc: 0.862843\n"
     ]
    },
    {
     "name": "stderr",
     "output_type": "stream",
     "text": [
      "[I 2019-04-07 23:26:44,022] Finished trial#9 resulted in value: -0.8628426862353048. Current best value is -0.8855830630062582 with parameters: {'feature_fraction': 0.9632769705131796, 'learning_rate': 0.04451690910588942, 'subsample': 0.9482494759019763, 'min_data_in_leaf': 27, 'min_sum_hessian_in_leaf': 0.0071531850104952655, 'bagging_fraction': 0.9219664039258519, 'bagging_freq': 10, 'min_gain_to_split': 0.866114331697275, 'lambda_l1': 0.32513006918916015, 'lambda_l2': 0.17950422582364367, 'num_leaves': 30, 'max_bin': 232}.\n"
     ]
    },
    {
     "name": "stdout",
     "output_type": "stream",
     "text": [
      "Training until validation scores don't improve for 100 rounds.\n",
      "[200]\tvalid_0's auc: 0.854262\n",
      "[400]\tvalid_0's auc: 0.856834\n",
      "[600]\tvalid_0's auc: 0.857846\n",
      "[800]\tvalid_0's auc: 0.858748\n",
      "[1000]\tvalid_0's auc: 0.859449\n",
      "[1200]\tvalid_0's auc: 0.860117\n",
      "[1400]\tvalid_0's auc: 0.860759\n",
      "[1600]\tvalid_0's auc: 0.861261\n",
      "[1800]\tvalid_0's auc: 0.8618\n",
      "[2000]\tvalid_0's auc: 0.862445\n",
      "[2200]\tvalid_0's auc: 0.863134\n",
      "[2400]\tvalid_0's auc: 0.863886\n",
      "[2600]\tvalid_0's auc: 0.864764\n",
      "[2800]\tvalid_0's auc: 0.865777\n",
      "[3000]\tvalid_0's auc: 0.866791\n",
      "[3200]\tvalid_0's auc: 0.867833\n",
      "[3400]\tvalid_0's auc: 0.868814\n",
      "[3600]\tvalid_0's auc: 0.869701\n",
      "[3800]\tvalid_0's auc: 0.870514\n",
      "[4000]\tvalid_0's auc: 0.871276\n",
      "[4200]\tvalid_0's auc: 0.872064\n",
      "[4400]\tvalid_0's auc: 0.87283\n",
      "[4600]\tvalid_0's auc: 0.873578\n",
      "[4800]\tvalid_0's auc: 0.874246\n",
      "[5000]\tvalid_0's auc: 0.874866\n",
      "[5200]\tvalid_0's auc: 0.875453\n",
      "[5400]\tvalid_0's auc: 0.875984\n",
      "[5600]\tvalid_0's auc: 0.876493\n",
      "[5800]\tvalid_0's auc: 0.87695\n",
      "[6000]\tvalid_0's auc: 0.877366\n",
      "[6200]\tvalid_0's auc: 0.877785\n",
      "[6400]\tvalid_0's auc: 0.878154\n",
      "[6600]\tvalid_0's auc: 0.878514\n",
      "[6800]\tvalid_0's auc: 0.878851\n",
      "[7000]\tvalid_0's auc: 0.87918\n",
      "[7200]\tvalid_0's auc: 0.879486\n",
      "[7400]\tvalid_0's auc: 0.879791\n",
      "[7600]\tvalid_0's auc: 0.880078\n",
      "[7800]\tvalid_0's auc: 0.880367\n",
      "[8000]\tvalid_0's auc: 0.880618\n",
      "[8200]\tvalid_0's auc: 0.880877\n",
      "[8400]\tvalid_0's auc: 0.881129\n",
      "[8600]\tvalid_0's auc: 0.881374\n",
      "[8800]\tvalid_0's auc: 0.881622\n",
      "[9000]\tvalid_0's auc: 0.88181\n",
      "[9200]\tvalid_0's auc: 0.882026\n",
      "[9400]\tvalid_0's auc: 0.882203\n",
      "[9600]\tvalid_0's auc: 0.882388\n",
      "[9800]\tvalid_0's auc: 0.882581\n",
      "[10000]\tvalid_0's auc: 0.882778\n",
      "Did not meet early stopping. Best iteration is:\n",
      "[10000]\tvalid_0's auc: 0.882778\n"
     ]
    },
    {
     "name": "stderr",
     "output_type": "stream",
     "text": [
      "[I 2019-04-07 23:52:16,086] Finished trial#10 resulted in value: -0.8827784852834218. Current best value is -0.8855830630062582 with parameters: {'feature_fraction': 0.9632769705131796, 'learning_rate': 0.04451690910588942, 'subsample': 0.9482494759019763, 'min_data_in_leaf': 27, 'min_sum_hessian_in_leaf': 0.0071531850104952655, 'bagging_fraction': 0.9219664039258519, 'bagging_freq': 10, 'min_gain_to_split': 0.866114331697275, 'lambda_l1': 0.32513006918916015, 'lambda_l2': 0.17950422582364367, 'num_leaves': 30, 'max_bin': 232}.\n"
     ]
    },
    {
     "name": "stdout",
     "output_type": "stream",
     "text": [
      "Training until validation scores don't improve for 100 rounds.\n",
      "[200]\tvalid_0's auc: 0.878563\n",
      "Early stopping, best iteration is:\n",
      "[250]\tvalid_0's auc: 0.878953\n"
     ]
    },
    {
     "name": "stderr",
     "output_type": "stream",
     "text": [
      "[I 2019-04-07 23:53:09,311] Finished trial#11 resulted in value: -0.8789531428460811. Current best value is -0.8855830630062582 with parameters: {'feature_fraction': 0.9632769705131796, 'learning_rate': 0.04451690910588942, 'subsample': 0.9482494759019763, 'min_data_in_leaf': 27, 'min_sum_hessian_in_leaf': 0.0071531850104952655, 'bagging_fraction': 0.9219664039258519, 'bagging_freq': 10, 'min_gain_to_split': 0.866114331697275, 'lambda_l1': 0.32513006918916015, 'lambda_l2': 0.17950422582364367, 'num_leaves': 30, 'max_bin': 232}.\n"
     ]
    },
    {
     "name": "stdout",
     "output_type": "stream",
     "text": [
      "Training until validation scores don't improve for 100 rounds.\n",
      "[200]\tvalid_0's auc: 0.881261\n",
      "[400]\tvalid_0's auc: 0.883754\n",
      "Early stopping, best iteration is:\n",
      "[432]\tvalid_0's auc: 0.884097\n"
     ]
    },
    {
     "name": "stderr",
     "output_type": "stream",
     "text": [
      "[I 2019-04-07 23:54:29,035] Finished trial#12 resulted in value: -0.8840973288089844. Current best value is -0.8855830630062582 with parameters: {'feature_fraction': 0.9632769705131796, 'learning_rate': 0.04451690910588942, 'subsample': 0.9482494759019763, 'min_data_in_leaf': 27, 'min_sum_hessian_in_leaf': 0.0071531850104952655, 'bagging_fraction': 0.9219664039258519, 'bagging_freq': 10, 'min_gain_to_split': 0.866114331697275, 'lambda_l1': 0.32513006918916015, 'lambda_l2': 0.17950422582364367, 'num_leaves': 30, 'max_bin': 232}.\n"
     ]
    },
    {
     "name": "stdout",
     "output_type": "stream",
     "text": [
      "Training until validation scores don't improve for 100 rounds.\n",
      "[200]\tvalid_0's auc: 0.860758\n",
      "[400]\tvalid_0's auc: 0.869053\n",
      "[600]\tvalid_0's auc: 0.875281\n",
      "[800]\tvalid_0's auc: 0.87868\n",
      "[1000]\tvalid_0's auc: 0.880845\n",
      "[1200]\tvalid_0's auc: 0.882326\n",
      "[1400]\tvalid_0's auc: 0.883465\n",
      "[1600]\tvalid_0's auc: 0.884519\n",
      "[1800]\tvalid_0's auc: 0.885203\n",
      "[2000]\tvalid_0's auc: 0.886003\n",
      "[2200]\tvalid_0's auc: 0.886297\n",
      "[2400]\tvalid_0's auc: 0.88668\n",
      "[2600]\tvalid_0's auc: 0.886981\n",
      "[2800]\tvalid_0's auc: 0.887179\n",
      "Early stopping, best iteration is:\n",
      "[2813]\tvalid_0's auc: 0.887204\n"
     ]
    },
    {
     "name": "stderr",
     "output_type": "stream",
     "text": [
      "[I 2019-04-08 00:00:54,680] Finished trial#13 resulted in value: -0.8872043548239902. Current best value is -0.8872043548239902 with parameters: {'feature_fraction': 0.9391494635740887, 'learning_rate': 0.011489801023534488, 'subsample': 0.9743763280438088, 'min_data_in_leaf': 11, 'min_sum_hessian_in_leaf': 0.004878397582435823, 'bagging_fraction': 0.8606956267620264, 'bagging_freq': 10, 'min_gain_to_split': 0.8425849469423922, 'lambda_l1': 0.4199204095485375, 'lambda_l2': 0.16053845444503495, 'num_leaves': 26, 'max_bin': 214}.\n"
     ]
    },
    {
     "name": "stdout",
     "output_type": "stream",
     "text": [
      "Training until validation scores don't improve for 100 rounds.\n",
      "Early stopping, best iteration is:\n",
      "[9]\tvalid_0's auc: 0.856569\n"
     ]
    },
    {
     "name": "stderr",
     "output_type": "stream",
     "text": [
      "[I 2019-04-08 00:01:04,398] Finished trial#14 resulted in value: -0.8565687474246334. Current best value is -0.8872043548239902 with parameters: {'feature_fraction': 0.9391494635740887, 'learning_rate': 0.011489801023534488, 'subsample': 0.9743763280438088, 'min_data_in_leaf': 11, 'min_sum_hessian_in_leaf': 0.004878397582435823, 'bagging_fraction': 0.8606956267620264, 'bagging_freq': 10, 'min_gain_to_split': 0.8425849469423922, 'lambda_l1': 0.4199204095485375, 'lambda_l2': 0.16053845444503495, 'num_leaves': 26, 'max_bin': 214}.\n"
     ]
    },
    {
     "name": "stdout",
     "output_type": "stream",
     "text": [
      "Training until validation scores don't improve for 100 rounds.\n",
      "[200]\tvalid_0's auc: 0.875377\n",
      "Early stopping, best iteration is:\n",
      "[101]\tvalid_0's auc: 0.877775\n"
     ]
    },
    {
     "name": "stderr",
     "output_type": "stream",
     "text": [
      "[I 2019-04-08 00:01:27,494] Finished trial#15 resulted in value: -0.8777749731055673. Current best value is -0.8872043548239902 with parameters: {'feature_fraction': 0.9391494635740887, 'learning_rate': 0.011489801023534488, 'subsample': 0.9743763280438088, 'min_data_in_leaf': 11, 'min_sum_hessian_in_leaf': 0.004878397582435823, 'bagging_fraction': 0.8606956267620264, 'bagging_freq': 10, 'min_gain_to_split': 0.8425849469423922, 'lambda_l1': 0.4199204095485375, 'lambda_l2': 0.16053845444503495, 'num_leaves': 26, 'max_bin': 214}.\n"
     ]
    },
    {
     "name": "stdout",
     "output_type": "stream",
     "text": [
      "Training until validation scores don't improve for 100 rounds.\n",
      "[200]\tvalid_0's auc: 0.878954\n",
      "Early stopping, best iteration is:\n",
      "[157]\tvalid_0's auc: 0.879929\n"
     ]
    },
    {
     "name": "stderr",
     "output_type": "stream",
     "text": [
      "[I 2019-04-08 00:01:58,867] Finished trial#16 resulted in value: -0.8799289613632783. Current best value is -0.8872043548239902 with parameters: {'feature_fraction': 0.9391494635740887, 'learning_rate': 0.011489801023534488, 'subsample': 0.9743763280438088, 'min_data_in_leaf': 11, 'min_sum_hessian_in_leaf': 0.004878397582435823, 'bagging_fraction': 0.8606956267620264, 'bagging_freq': 10, 'min_gain_to_split': 0.8425849469423922, 'lambda_l1': 0.4199204095485375, 'lambda_l2': 0.16053845444503495, 'num_leaves': 26, 'max_bin': 214}.\n"
     ]
    },
    {
     "name": "stdout",
     "output_type": "stream",
     "text": [
      "Training until validation scores don't improve for 100 rounds.\n",
      "[200]\tvalid_0's auc: 0.864697\n",
      "[400]\tvalid_0's auc: 0.875088\n",
      "[600]\tvalid_0's auc: 0.879453\n",
      "[800]\tvalid_0's auc: 0.882107\n",
      "[1000]\tvalid_0's auc: 0.883869\n",
      "[1200]\tvalid_0's auc: 0.884878\n",
      "[1400]\tvalid_0's auc: 0.885524\n",
      "[1600]\tvalid_0's auc: 0.885851\n",
      "Early stopping, best iteration is:\n",
      "[1687]\tvalid_0's auc: 0.886008\n"
     ]
    },
    {
     "name": "stderr",
     "output_type": "stream",
     "text": [
      "[I 2019-04-08 00:06:29,262] Finished trial#17 resulted in value: -0.8860082577661996. Current best value is -0.8872043548239902 with parameters: {'feature_fraction': 0.9391494635740887, 'learning_rate': 0.011489801023534488, 'subsample': 0.9743763280438088, 'min_data_in_leaf': 11, 'min_sum_hessian_in_leaf': 0.004878397582435823, 'bagging_fraction': 0.8606956267620264, 'bagging_freq': 10, 'min_gain_to_split': 0.8425849469423922, 'lambda_l1': 0.4199204095485375, 'lambda_l2': 0.16053845444503495, 'num_leaves': 26, 'max_bin': 214}.\n"
     ]
    },
    {
     "name": "stdout",
     "output_type": "stream",
     "text": [
      "Training until validation scores don't improve for 100 rounds.\n",
      "[200]\tvalid_0's auc: 0.855732\n",
      "[400]\tvalid_0's auc: 0.858007\n",
      "[600]\tvalid_0's auc: 0.859761\n",
      "[800]\tvalid_0's auc: 0.861132\n",
      "[1000]\tvalid_0's auc: 0.862459\n",
      "[1200]\tvalid_0's auc: 0.864197\n",
      "[1400]\tvalid_0's auc: 0.866174\n",
      "[1600]\tvalid_0's auc: 0.868328\n",
      "[1800]\tvalid_0's auc: 0.870027\n",
      "[2000]\tvalid_0's auc: 0.871774\n",
      "[2200]\tvalid_0's auc: 0.873456\n",
      "[2400]\tvalid_0's auc: 0.874841\n",
      "[2600]\tvalid_0's auc: 0.875852\n",
      "[2800]\tvalid_0's auc: 0.876755\n",
      "[3000]\tvalid_0's auc: 0.87763\n",
      "[3200]\tvalid_0's auc: 0.878385\n",
      "[3400]\tvalid_0's auc: 0.879045\n",
      "[3600]\tvalid_0's auc: 0.879699\n",
      "[3800]\tvalid_0's auc: 0.880309\n",
      "[4000]\tvalid_0's auc: 0.880713\n",
      "[4200]\tvalid_0's auc: 0.881265\n",
      "[4400]\tvalid_0's auc: 0.881703\n",
      "[4600]\tvalid_0's auc: 0.88207\n",
      "[4800]\tvalid_0's auc: 0.882412\n",
      "[5000]\tvalid_0's auc: 0.882788\n",
      "[5200]\tvalid_0's auc: 0.883079\n",
      "[5400]\tvalid_0's auc: 0.883368\n",
      "[5600]\tvalid_0's auc: 0.883629\n",
      "[5800]\tvalid_0's auc: 0.883896\n",
      "[6000]\tvalid_0's auc: 0.884189\n",
      "[6200]\tvalid_0's auc: 0.884436\n",
      "[6400]\tvalid_0's auc: 0.884626\n",
      "[6600]\tvalid_0's auc: 0.884824\n",
      "[6800]\tvalid_0's auc: 0.884949\n",
      "[7000]\tvalid_0's auc: 0.885115\n",
      "[7200]\tvalid_0's auc: 0.885293\n",
      "[7400]\tvalid_0's auc: 0.885396\n",
      "[7600]\tvalid_0's auc: 0.885568\n",
      "[7800]\tvalid_0's auc: 0.885783\n",
      "[8000]\tvalid_0's auc: 0.885892\n",
      "[8200]\tvalid_0's auc: 0.885947\n",
      "[8400]\tvalid_0's auc: 0.886137\n",
      "[8600]\tvalid_0's auc: 0.886251\n",
      "[8800]\tvalid_0's auc: 0.886417\n",
      "[9000]\tvalid_0's auc: 0.886487\n",
      "[9200]\tvalid_0's auc: 0.886586\n",
      "[9400]\tvalid_0's auc: 0.886579\n",
      "Early stopping, best iteration is:\n",
      "[9310]\tvalid_0's auc: 0.886616\n"
     ]
    },
    {
     "name": "stderr",
     "output_type": "stream",
     "text": [
      "[I 2019-04-08 00:31:00,137] Finished trial#18 resulted in value: -0.8866162102218205. Current best value is -0.8872043548239902 with parameters: {'feature_fraction': 0.9391494635740887, 'learning_rate': 0.011489801023534488, 'subsample': 0.9743763280438088, 'min_data_in_leaf': 11, 'min_sum_hessian_in_leaf': 0.004878397582435823, 'bagging_fraction': 0.8606956267620264, 'bagging_freq': 10, 'min_gain_to_split': 0.8425849469423922, 'lambda_l1': 0.4199204095485375, 'lambda_l2': 0.16053845444503495, 'num_leaves': 26, 'max_bin': 214}.\n"
     ]
    },
    {
     "name": "stdout",
     "output_type": "stream",
     "text": [
      "Training until validation scores don't improve for 100 rounds.\n",
      "Early stopping, best iteration is:\n",
      "[23]\tvalid_0's auc: 0.869557\n"
     ]
    },
    {
     "name": "stderr",
     "output_type": "stream",
     "text": [
      "[I 2019-04-08 00:31:18,343] Finished trial#19 resulted in value: -0.8695574725040722. Current best value is -0.8872043548239902 with parameters: {'feature_fraction': 0.9391494635740887, 'learning_rate': 0.011489801023534488, 'subsample': 0.9743763280438088, 'min_data_in_leaf': 11, 'min_sum_hessian_in_leaf': 0.004878397582435823, 'bagging_fraction': 0.8606956267620264, 'bagging_freq': 10, 'min_gain_to_split': 0.8425849469423922, 'lambda_l1': 0.4199204095485375, 'lambda_l2': 0.16053845444503495, 'num_leaves': 26, 'max_bin': 214}.\n"
     ]
    },
    {
     "name": "stdout",
     "output_type": "stream",
     "text": [
      "Training until validation scores don't improve for 100 rounds.\n",
      "Early stopping, best iteration is:\n",
      "[19]\tvalid_0's auc: 0.869876\n"
     ]
    },
    {
     "name": "stderr",
     "output_type": "stream",
     "text": [
      "[I 2019-04-08 00:31:35,474] Finished trial#20 resulted in value: -0.8698760298009673. Current best value is -0.8872043548239902 with parameters: {'feature_fraction': 0.9391494635740887, 'learning_rate': 0.011489801023534488, 'subsample': 0.9743763280438088, 'min_data_in_leaf': 11, 'min_sum_hessian_in_leaf': 0.004878397582435823, 'bagging_fraction': 0.8606956267620264, 'bagging_freq': 10, 'min_gain_to_split': 0.8425849469423922, 'lambda_l1': 0.4199204095485375, 'lambda_l2': 0.16053845444503495, 'num_leaves': 26, 'max_bin': 214}.\n"
     ]
    },
    {
     "name": "stdout",
     "output_type": "stream",
     "text": [
      "Training until validation scores don't improve for 100 rounds.\n",
      "Early stopping, best iteration is:\n",
      "[14]\tvalid_0's auc: 0.865603\n"
     ]
    },
    {
     "name": "stderr",
     "output_type": "stream",
     "text": [
      "[I 2019-04-08 00:31:49,022] Finished trial#21 resulted in value: -0.8656025390003843. Current best value is -0.8872043548239902 with parameters: {'feature_fraction': 0.9391494635740887, 'learning_rate': 0.011489801023534488, 'subsample': 0.9743763280438088, 'min_data_in_leaf': 11, 'min_sum_hessian_in_leaf': 0.004878397582435823, 'bagging_fraction': 0.8606956267620264, 'bagging_freq': 10, 'min_gain_to_split': 0.8425849469423922, 'lambda_l1': 0.4199204095485375, 'lambda_l2': 0.16053845444503495, 'num_leaves': 26, 'max_bin': 214}.\n"
     ]
    },
    {
     "name": "stdout",
     "output_type": "stream",
     "text": [
      "Training until validation scores don't improve for 100 rounds.\n",
      "Early stopping, best iteration is:\n",
      "[9]\tvalid_0's auc: 0.856661\n"
     ]
    },
    {
     "name": "stderr",
     "output_type": "stream",
     "text": [
      "[I 2019-04-08 00:32:00,664] Finished trial#22 resulted in value: -0.8566611080229758. Current best value is -0.8872043548239902 with parameters: {'feature_fraction': 0.9391494635740887, 'learning_rate': 0.011489801023534488, 'subsample': 0.9743763280438088, 'min_data_in_leaf': 11, 'min_sum_hessian_in_leaf': 0.004878397582435823, 'bagging_fraction': 0.8606956267620264, 'bagging_freq': 10, 'min_gain_to_split': 0.8425849469423922, 'lambda_l1': 0.4199204095485375, 'lambda_l2': 0.16053845444503495, 'num_leaves': 26, 'max_bin': 214}.\n"
     ]
    },
    {
     "name": "stdout",
     "output_type": "stream",
     "text": [
      "Training until validation scores don't improve for 100 rounds.\n",
      "Early stopping, best iteration is:\n",
      "[50]\tvalid_0's auc: 0.87095\n"
     ]
    },
    {
     "name": "stderr",
     "output_type": "stream",
     "text": [
      "[I 2019-04-08 00:32:23,538] Finished trial#23 resulted in value: -0.87094996805854. Current best value is -0.8872043548239902 with parameters: {'feature_fraction': 0.9391494635740887, 'learning_rate': 0.011489801023534488, 'subsample': 0.9743763280438088, 'min_data_in_leaf': 11, 'min_sum_hessian_in_leaf': 0.004878397582435823, 'bagging_fraction': 0.8606956267620264, 'bagging_freq': 10, 'min_gain_to_split': 0.8425849469423922, 'lambda_l1': 0.4199204095485375, 'lambda_l2': 0.16053845444503495, 'num_leaves': 26, 'max_bin': 214}.\n"
     ]
    },
    {
     "name": "stdout",
     "output_type": "stream",
     "text": [
      "Training until validation scores don't improve for 100 rounds.\n",
      "Early stopping, best iteration is:\n",
      "[29]\tvalid_0's auc: 0.870563\n"
     ]
    },
    {
     "name": "stderr",
     "output_type": "stream",
     "text": [
      "[I 2019-04-08 00:32:36,617] Finished trial#24 resulted in value: -0.8705627158814043. Current best value is -0.8872043548239902 with parameters: {'feature_fraction': 0.9391494635740887, 'learning_rate': 0.011489801023534488, 'subsample': 0.9743763280438088, 'min_data_in_leaf': 11, 'min_sum_hessian_in_leaf': 0.004878397582435823, 'bagging_fraction': 0.8606956267620264, 'bagging_freq': 10, 'min_gain_to_split': 0.8425849469423922, 'lambda_l1': 0.4199204095485375, 'lambda_l2': 0.16053845444503495, 'num_leaves': 26, 'max_bin': 214}.\n"
     ]
    },
    {
     "name": "stdout",
     "output_type": "stream",
     "text": [
      "Training until validation scores don't improve for 100 rounds.\n",
      "[200]\tvalid_0's auc: 0.881236\n",
      "Early stopping, best iteration is:\n",
      "[228]\tvalid_0's auc: 0.881742\n"
     ]
    },
    {
     "name": "stderr",
     "output_type": "stream",
     "text": [
      "[I 2019-04-08 00:33:19,315] Finished trial#25 resulted in value: -0.8817420125608756. Current best value is -0.8872043548239902 with parameters: {'feature_fraction': 0.9391494635740887, 'learning_rate': 0.011489801023534488, 'subsample': 0.9743763280438088, 'min_data_in_leaf': 11, 'min_sum_hessian_in_leaf': 0.004878397582435823, 'bagging_fraction': 0.8606956267620264, 'bagging_freq': 10, 'min_gain_to_split': 0.8425849469423922, 'lambda_l1': 0.4199204095485375, 'lambda_l2': 0.16053845444503495, 'num_leaves': 26, 'max_bin': 214}.\n"
     ]
    },
    {
     "name": "stdout",
     "output_type": "stream",
     "text": [
      "Training until validation scores don't improve for 100 rounds.\n",
      "Early stopping, best iteration is:\n",
      "[14]\tvalid_0's auc: 0.865214\n"
     ]
    },
    {
     "name": "stderr",
     "output_type": "stream",
     "text": [
      "[I 2019-04-08 00:33:34,562] Finished trial#26 resulted in value: -0.8652144917436165. Current best value is -0.8872043548239902 with parameters: {'feature_fraction': 0.9391494635740887, 'learning_rate': 0.011489801023534488, 'subsample': 0.9743763280438088, 'min_data_in_leaf': 11, 'min_sum_hessian_in_leaf': 0.004878397582435823, 'bagging_fraction': 0.8606956267620264, 'bagging_freq': 10, 'min_gain_to_split': 0.8425849469423922, 'lambda_l1': 0.4199204095485375, 'lambda_l2': 0.16053845444503495, 'num_leaves': 26, 'max_bin': 214}.\n"
     ]
    },
    {
     "name": "stdout",
     "output_type": "stream",
     "text": [
      "Training until validation scores don't improve for 100 rounds.\n",
      "Early stopping, best iteration is:\n",
      "[7]\tvalid_0's auc: 0.856142\n"
     ]
    },
    {
     "name": "stderr",
     "output_type": "stream",
     "text": [
      "[I 2019-04-08 00:33:45,377] Finished trial#27 resulted in value: -0.8561417412658775. Current best value is -0.8872043548239902 with parameters: {'feature_fraction': 0.9391494635740887, 'learning_rate': 0.011489801023534488, 'subsample': 0.9743763280438088, 'min_data_in_leaf': 11, 'min_sum_hessian_in_leaf': 0.004878397582435823, 'bagging_fraction': 0.8606956267620264, 'bagging_freq': 10, 'min_gain_to_split': 0.8425849469423922, 'lambda_l1': 0.4199204095485375, 'lambda_l2': 0.16053845444503495, 'num_leaves': 26, 'max_bin': 214}.\n"
     ]
    },
    {
     "name": "stdout",
     "output_type": "stream",
     "text": [
      "Training until validation scores don't improve for 100 rounds.\n",
      "[200]\tvalid_0's auc: 0.873548\n",
      "Early stopping, best iteration is:\n",
      "[113]\tvalid_0's auc: 0.875122\n"
     ]
    },
    {
     "name": "stderr",
     "output_type": "stream",
     "text": [
      "[I 2019-04-08 00:34:13,490] Finished trial#28 resulted in value: -0.8751220066980274. Current best value is -0.8872043548239902 with parameters: {'feature_fraction': 0.9391494635740887, 'learning_rate': 0.011489801023534488, 'subsample': 0.9743763280438088, 'min_data_in_leaf': 11, 'min_sum_hessian_in_leaf': 0.004878397582435823, 'bagging_fraction': 0.8606956267620264, 'bagging_freq': 10, 'min_gain_to_split': 0.8425849469423922, 'lambda_l1': 0.4199204095485375, 'lambda_l2': 0.16053845444503495, 'num_leaves': 26, 'max_bin': 214}.\n"
     ]
    },
    {
     "name": "stdout",
     "output_type": "stream",
     "text": [
      "Training until validation scores don't improve for 100 rounds.\n",
      "[200]\tvalid_0's auc: 0.881177\n",
      "[400]\tvalid_0's auc: 0.8813\n",
      "Early stopping, best iteration is:\n",
      "[318]\tvalid_0's auc: 0.88214\n"
     ]
    },
    {
     "name": "stderr",
     "output_type": "stream",
     "text": [
      "[I 2019-04-08 00:35:02,376] Finished trial#29 resulted in value: -0.8821398220127822. Current best value is -0.8872043548239902 with parameters: {'feature_fraction': 0.9391494635740887, 'learning_rate': 0.011489801023534488, 'subsample': 0.9743763280438088, 'min_data_in_leaf': 11, 'min_sum_hessian_in_leaf': 0.004878397582435823, 'bagging_fraction': 0.8606956267620264, 'bagging_freq': 10, 'min_gain_to_split': 0.8425849469423922, 'lambda_l1': 0.4199204095485375, 'lambda_l2': 0.16053845444503495, 'num_leaves': 26, 'max_bin': 214}.\n"
     ]
    },
    {
     "name": "stdout",
     "output_type": "stream",
     "text": [
      "Training until validation scores don't improve for 100 rounds.\n",
      "[200]\tvalid_0's auc: 0.877049\n",
      "Early stopping, best iteration is:\n",
      "[114]\tvalid_0's auc: 0.877185\n"
     ]
    },
    {
     "name": "stderr",
     "output_type": "stream",
     "text": [
      "[I 2019-04-08 00:35:29,656] Finished trial#30 resulted in value: -0.8771850516732624. Current best value is -0.8872043548239902 with parameters: {'feature_fraction': 0.9391494635740887, 'learning_rate': 0.011489801023534488, 'subsample': 0.9743763280438088, 'min_data_in_leaf': 11, 'min_sum_hessian_in_leaf': 0.004878397582435823, 'bagging_fraction': 0.8606956267620264, 'bagging_freq': 10, 'min_gain_to_split': 0.8425849469423922, 'lambda_l1': 0.4199204095485375, 'lambda_l2': 0.16053845444503495, 'num_leaves': 26, 'max_bin': 214}.\n"
     ]
    },
    {
     "name": "stdout",
     "output_type": "stream",
     "text": [
      "Training until validation scores don't improve for 100 rounds.\n",
      "Early stopping, best iteration is:\n",
      "[35]\tvalid_0's auc: 0.870637\n"
     ]
    },
    {
     "name": "stderr",
     "output_type": "stream",
     "text": [
      "[I 2019-04-08 00:35:46,311] Finished trial#31 resulted in value: -0.8706365200125. Current best value is -0.8872043548239902 with parameters: {'feature_fraction': 0.9391494635740887, 'learning_rate': 0.011489801023534488, 'subsample': 0.9743763280438088, 'min_data_in_leaf': 11, 'min_sum_hessian_in_leaf': 0.004878397582435823, 'bagging_fraction': 0.8606956267620264, 'bagging_freq': 10, 'min_gain_to_split': 0.8425849469423922, 'lambda_l1': 0.4199204095485375, 'lambda_l2': 0.16053845444503495, 'num_leaves': 26, 'max_bin': 214}.\n"
     ]
    },
    {
     "name": "stdout",
     "output_type": "stream",
     "text": [
      "Training until validation scores don't improve for 100 rounds.\n",
      "Early stopping, best iteration is:\n",
      "[18]\tvalid_0's auc: 0.865098\n"
     ]
    },
    {
     "name": "stderr",
     "output_type": "stream",
     "text": [
      "[I 2019-04-08 00:35:57,562] Finished trial#32 resulted in value: -0.8650979054145614. Current best value is -0.8872043548239902 with parameters: {'feature_fraction': 0.9391494635740887, 'learning_rate': 0.011489801023534488, 'subsample': 0.9743763280438088, 'min_data_in_leaf': 11, 'min_sum_hessian_in_leaf': 0.004878397582435823, 'bagging_fraction': 0.8606956267620264, 'bagging_freq': 10, 'min_gain_to_split': 0.8425849469423922, 'lambda_l1': 0.4199204095485375, 'lambda_l2': 0.16053845444503495, 'num_leaves': 26, 'max_bin': 214}.\n"
     ]
    },
    {
     "name": "stdout",
     "output_type": "stream",
     "text": [
      "Training until validation scores don't improve for 100 rounds.\n",
      "Early stopping, best iteration is:\n",
      "[27]\tvalid_0's auc: 0.870862\n"
     ]
    },
    {
     "name": "stderr",
     "output_type": "stream",
     "text": [
      "[I 2019-04-08 00:36:13,230] Finished trial#33 resulted in value: -0.8708616105133034. Current best value is -0.8872043548239902 with parameters: {'feature_fraction': 0.9391494635740887, 'learning_rate': 0.011489801023534488, 'subsample': 0.9743763280438088, 'min_data_in_leaf': 11, 'min_sum_hessian_in_leaf': 0.004878397582435823, 'bagging_fraction': 0.8606956267620264, 'bagging_freq': 10, 'min_gain_to_split': 0.8425849469423922, 'lambda_l1': 0.4199204095485375, 'lambda_l2': 0.16053845444503495, 'num_leaves': 26, 'max_bin': 214}.\n"
     ]
    },
    {
     "name": "stdout",
     "output_type": "stream",
     "text": [
      "Training until validation scores don't improve for 100 rounds.\n",
      "Early stopping, best iteration is:\n",
      "[41]\tvalid_0's auc: 0.87328\n"
     ]
    },
    {
     "name": "stderr",
     "output_type": "stream",
     "text": [
      "[I 2019-04-08 00:36:30,096] Finished trial#34 resulted in value: -0.8732798210172041. Current best value is -0.8872043548239902 with parameters: {'feature_fraction': 0.9391494635740887, 'learning_rate': 0.011489801023534488, 'subsample': 0.9743763280438088, 'min_data_in_leaf': 11, 'min_sum_hessian_in_leaf': 0.004878397582435823, 'bagging_fraction': 0.8606956267620264, 'bagging_freq': 10, 'min_gain_to_split': 0.8425849469423922, 'lambda_l1': 0.4199204095485375, 'lambda_l2': 0.16053845444503495, 'num_leaves': 26, 'max_bin': 214}.\n"
     ]
    },
    {
     "name": "stdout",
     "output_type": "stream",
     "text": [
      "Training until validation scores don't improve for 100 rounds.\n",
      "Early stopping, best iteration is:\n",
      "[17]\tvalid_0's auc: 0.8669\n"
     ]
    },
    {
     "name": "stderr",
     "output_type": "stream",
     "text": [
      "[I 2019-04-08 00:36:44,146] Finished trial#35 resulted in value: -0.8669002334077253. Current best value is -0.8872043548239902 with parameters: {'feature_fraction': 0.9391494635740887, 'learning_rate': 0.011489801023534488, 'subsample': 0.9743763280438088, 'min_data_in_leaf': 11, 'min_sum_hessian_in_leaf': 0.004878397582435823, 'bagging_fraction': 0.8606956267620264, 'bagging_freq': 10, 'min_gain_to_split': 0.8425849469423922, 'lambda_l1': 0.4199204095485375, 'lambda_l2': 0.16053845444503495, 'num_leaves': 26, 'max_bin': 214}.\n"
     ]
    },
    {
     "name": "stdout",
     "output_type": "stream",
     "text": [
      "Training until validation scores don't improve for 100 rounds.\n",
      "[200]\tvalid_0's auc: 0.877063\n",
      "[400]\tvalid_0's auc: 0.883156\n",
      "[600]\tvalid_0's auc: 0.885251\n",
      "[800]\tvalid_0's auc: 0.885692\n",
      "Early stopping, best iteration is:\n",
      "[838]\tvalid_0's auc: 0.885859\n"
     ]
    },
    {
     "name": "stderr",
     "output_type": "stream",
     "text": [
      "[I 2019-04-08 00:38:41,276] Finished trial#36 resulted in value: -0.88585884501893. Current best value is -0.8872043548239902 with parameters: {'feature_fraction': 0.9391494635740887, 'learning_rate': 0.011489801023534488, 'subsample': 0.9743763280438088, 'min_data_in_leaf': 11, 'min_sum_hessian_in_leaf': 0.004878397582435823, 'bagging_fraction': 0.8606956267620264, 'bagging_freq': 10, 'min_gain_to_split': 0.8425849469423922, 'lambda_l1': 0.4199204095485375, 'lambda_l2': 0.16053845444503495, 'num_leaves': 26, 'max_bin': 214}.\n"
     ]
    },
    {
     "name": "stdout",
     "output_type": "stream",
     "text": [
      "Training until validation scores don't improve for 100 rounds.\n",
      "Early stopping, best iteration is:\n",
      "[10]\tvalid_0's auc: 0.864084\n"
     ]
    },
    {
     "name": "stderr",
     "output_type": "stream",
     "text": [
      "[I 2019-04-08 00:38:56,071] Finished trial#37 resulted in value: -0.8640841857969739. Current best value is -0.8872043548239902 with parameters: {'feature_fraction': 0.9391494635740887, 'learning_rate': 0.011489801023534488, 'subsample': 0.9743763280438088, 'min_data_in_leaf': 11, 'min_sum_hessian_in_leaf': 0.004878397582435823, 'bagging_fraction': 0.8606956267620264, 'bagging_freq': 10, 'min_gain_to_split': 0.8425849469423922, 'lambda_l1': 0.4199204095485375, 'lambda_l2': 0.16053845444503495, 'num_leaves': 26, 'max_bin': 214}.\n"
     ]
    },
    {
     "name": "stdout",
     "output_type": "stream",
     "text": [
      "Training until validation scores don't improve for 100 rounds.\n",
      "Early stopping, best iteration is:\n",
      "[26]\tvalid_0's auc: 0.867365\n"
     ]
    },
    {
     "name": "stderr",
     "output_type": "stream",
     "text": [
      "[I 2019-04-08 00:39:12,367] Finished trial#38 resulted in value: -0.8673645737405248. Current best value is -0.8872043548239902 with parameters: {'feature_fraction': 0.9391494635740887, 'learning_rate': 0.011489801023534488, 'subsample': 0.9743763280438088, 'min_data_in_leaf': 11, 'min_sum_hessian_in_leaf': 0.004878397582435823, 'bagging_fraction': 0.8606956267620264, 'bagging_freq': 10, 'min_gain_to_split': 0.8425849469423922, 'lambda_l1': 0.4199204095485375, 'lambda_l2': 0.16053845444503495, 'num_leaves': 26, 'max_bin': 214}.\n"
     ]
    },
    {
     "name": "stdout",
     "output_type": "stream",
     "text": [
      "Training until validation scores don't improve for 100 rounds.\n",
      "Early stopping, best iteration is:\n",
      "[31]\tvalid_0's auc: 0.868928\n"
     ]
    },
    {
     "name": "stderr",
     "output_type": "stream",
     "text": [
      "[I 2019-04-08 00:39:27,622] Finished trial#39 resulted in value: -0.8689276035055408. Current best value is -0.8872043548239902 with parameters: {'feature_fraction': 0.9391494635740887, 'learning_rate': 0.011489801023534488, 'subsample': 0.9743763280438088, 'min_data_in_leaf': 11, 'min_sum_hessian_in_leaf': 0.004878397582435823, 'bagging_fraction': 0.8606956267620264, 'bagging_freq': 10, 'min_gain_to_split': 0.8425849469423922, 'lambda_l1': 0.4199204095485375, 'lambda_l2': 0.16053845444503495, 'num_leaves': 26, 'max_bin': 214}.\n"
     ]
    },
    {
     "name": "stdout",
     "output_type": "stream",
     "text": [
      "Training until validation scores don't improve for 100 rounds.\n",
      "Early stopping, best iteration is:\n",
      "[11]\tvalid_0's auc: 0.855915\n"
     ]
    },
    {
     "name": "stderr",
     "output_type": "stream",
     "text": [
      "[I 2019-04-08 00:39:36,563] Finished trial#40 resulted in value: -0.8559150606058091. Current best value is -0.8872043548239902 with parameters: {'feature_fraction': 0.9391494635740887, 'learning_rate': 0.011489801023534488, 'subsample': 0.9743763280438088, 'min_data_in_leaf': 11, 'min_sum_hessian_in_leaf': 0.004878397582435823, 'bagging_fraction': 0.8606956267620264, 'bagging_freq': 10, 'min_gain_to_split': 0.8425849469423922, 'lambda_l1': 0.4199204095485375, 'lambda_l2': 0.16053845444503495, 'num_leaves': 26, 'max_bin': 214}.\n"
     ]
    },
    {
     "name": "stdout",
     "output_type": "stream",
     "text": [
      "Training until validation scores don't improve for 100 rounds.\n",
      "Early stopping, best iteration is:\n",
      "[9]\tvalid_0's auc: 0.862364\n"
     ]
    },
    {
     "name": "stderr",
     "output_type": "stream",
     "text": [
      "[I 2019-04-08 00:39:47,049] Finished trial#41 resulted in value: -0.8623638236001758. Current best value is -0.8872043548239902 with parameters: {'feature_fraction': 0.9391494635740887, 'learning_rate': 0.011489801023534488, 'subsample': 0.9743763280438088, 'min_data_in_leaf': 11, 'min_sum_hessian_in_leaf': 0.004878397582435823, 'bagging_fraction': 0.8606956267620264, 'bagging_freq': 10, 'min_gain_to_split': 0.8425849469423922, 'lambda_l1': 0.4199204095485375, 'lambda_l2': 0.16053845444503495, 'num_leaves': 26, 'max_bin': 214}.\n"
     ]
    },
    {
     "name": "stdout",
     "output_type": "stream",
     "text": [
      "Training until validation scores don't improve for 100 rounds.\n",
      "Early stopping, best iteration is:\n",
      "[71]\tvalid_0's auc: 0.87673\n"
     ]
    },
    {
     "name": "stderr",
     "output_type": "stream",
     "text": [
      "[I 2019-04-08 00:40:07,617] Finished trial#42 resulted in value: -0.8767296853697051. Current best value is -0.8872043548239902 with parameters: {'feature_fraction': 0.9391494635740887, 'learning_rate': 0.011489801023534488, 'subsample': 0.9743763280438088, 'min_data_in_leaf': 11, 'min_sum_hessian_in_leaf': 0.004878397582435823, 'bagging_fraction': 0.8606956267620264, 'bagging_freq': 10, 'min_gain_to_split': 0.8425849469423922, 'lambda_l1': 0.4199204095485375, 'lambda_l2': 0.16053845444503495, 'num_leaves': 26, 'max_bin': 214}.\n"
     ]
    },
    {
     "name": "stdout",
     "output_type": "stream",
     "text": [
      "Training until validation scores don't improve for 100 rounds.\n",
      "Early stopping, best iteration is:\n",
      "[10]\tvalid_0's auc: 0.862244\n"
     ]
    },
    {
     "name": "stderr",
     "output_type": "stream",
     "text": [
      "[I 2019-04-08 00:40:19,992] Finished trial#43 resulted in value: -0.8622443922687839. Current best value is -0.8872043548239902 with parameters: {'feature_fraction': 0.9391494635740887, 'learning_rate': 0.011489801023534488, 'subsample': 0.9743763280438088, 'min_data_in_leaf': 11, 'min_sum_hessian_in_leaf': 0.004878397582435823, 'bagging_fraction': 0.8606956267620264, 'bagging_freq': 10, 'min_gain_to_split': 0.8425849469423922, 'lambda_l1': 0.4199204095485375, 'lambda_l2': 0.16053845444503495, 'num_leaves': 26, 'max_bin': 214}.\n"
     ]
    },
    {
     "name": "stdout",
     "output_type": "stream",
     "text": [
      "Training until validation scores don't improve for 100 rounds.\n",
      "[200]\tvalid_0's auc: 0.881548\n",
      "[400]\tvalid_0's auc: 0.884315\n",
      "Early stopping, best iteration is:\n",
      "[410]\tvalid_0's auc: 0.884357\n"
     ]
    },
    {
     "name": "stderr",
     "output_type": "stream",
     "text": [
      "[I 2019-04-08 00:41:16,385] Finished trial#44 resulted in value: -0.8843569257658345. Current best value is -0.8872043548239902 with parameters: {'feature_fraction': 0.9391494635740887, 'learning_rate': 0.011489801023534488, 'subsample': 0.9743763280438088, 'min_data_in_leaf': 11, 'min_sum_hessian_in_leaf': 0.004878397582435823, 'bagging_fraction': 0.8606956267620264, 'bagging_freq': 10, 'min_gain_to_split': 0.8425849469423922, 'lambda_l1': 0.4199204095485375, 'lambda_l2': 0.16053845444503495, 'num_leaves': 26, 'max_bin': 214}.\n"
     ]
    },
    {
     "name": "stdout",
     "output_type": "stream",
     "text": [
      "Training until validation scores don't improve for 100 rounds.\n",
      "[200]\tvalid_0's auc: 0.858025\n",
      "[400]\tvalid_0's auc: 0.860533\n",
      "[600]\tvalid_0's auc: 0.862076\n",
      "[800]\tvalid_0's auc: 0.864446\n",
      "[1000]\tvalid_0's auc: 0.867574\n",
      "[1200]\tvalid_0's auc: 0.870476\n",
      "[1400]\tvalid_0's auc: 0.872964\n",
      "[1600]\tvalid_0's auc: 0.875167\n",
      "[1800]\tvalid_0's auc: 0.876714\n",
      "[2000]\tvalid_0's auc: 0.878071\n",
      "[2200]\tvalid_0's auc: 0.87922\n",
      "[2400]\tvalid_0's auc: 0.880182\n",
      "[2600]\tvalid_0's auc: 0.880962\n",
      "[2800]\tvalid_0's auc: 0.881705\n",
      "[3000]\tvalid_0's auc: 0.882372\n",
      "[3200]\tvalid_0's auc: 0.882912\n",
      "[3400]\tvalid_0's auc: 0.883394\n",
      "[3600]\tvalid_0's auc: 0.883739\n",
      "[3800]\tvalid_0's auc: 0.884222\n",
      "[4000]\tvalid_0's auc: 0.884507\n",
      "[4200]\tvalid_0's auc: 0.884824\n",
      "[4400]\tvalid_0's auc: 0.88517\n",
      "[4600]\tvalid_0's auc: 0.885383\n",
      "[4800]\tvalid_0's auc: 0.88563\n",
      "[5000]\tvalid_0's auc: 0.885856\n",
      "[5200]\tvalid_0's auc: 0.886035\n",
      "[5400]\tvalid_0's auc: 0.886162\n",
      "[5600]\tvalid_0's auc: 0.886325\n",
      "[5800]\tvalid_0's auc: 0.886469\n",
      "[6000]\tvalid_0's auc: 0.886642\n",
      "[6200]\tvalid_0's auc: 0.886757\n",
      "[6400]\tvalid_0's auc: 0.886877\n",
      "[6600]\tvalid_0's auc: 0.886989\n",
      "[6800]\tvalid_0's auc: 0.886997\n",
      "Early stopping, best iteration is:\n",
      "[6728]\tvalid_0's auc: 0.887016\n"
     ]
    },
    {
     "name": "stderr",
     "output_type": "stream",
     "text": [
      "[I 2019-04-08 00:54:50,324] Finished trial#45 resulted in value: -0.8870155061269528. Current best value is -0.8872043548239902 with parameters: {'feature_fraction': 0.9391494635740887, 'learning_rate': 0.011489801023534488, 'subsample': 0.9743763280438088, 'min_data_in_leaf': 11, 'min_sum_hessian_in_leaf': 0.004878397582435823, 'bagging_fraction': 0.8606956267620264, 'bagging_freq': 10, 'min_gain_to_split': 0.8425849469423922, 'lambda_l1': 0.4199204095485375, 'lambda_l2': 0.16053845444503495, 'num_leaves': 26, 'max_bin': 214}.\n"
     ]
    },
    {
     "name": "stdout",
     "output_type": "stream",
     "text": [
      "Training until validation scores don't improve for 100 rounds.\n",
      "[200]\tvalid_0's auc: 0.875515\n",
      "Early stopping, best iteration is:\n",
      "[117]\tvalid_0's auc: 0.877105\n"
     ]
    },
    {
     "name": "stderr",
     "output_type": "stream",
     "text": [
      "[I 2019-04-08 00:55:15,600] Finished trial#46 resulted in value: -0.8771049836974106. Current best value is -0.8872043548239902 with parameters: {'feature_fraction': 0.9391494635740887, 'learning_rate': 0.011489801023534488, 'subsample': 0.9743763280438088, 'min_data_in_leaf': 11, 'min_sum_hessian_in_leaf': 0.004878397582435823, 'bagging_fraction': 0.8606956267620264, 'bagging_freq': 10, 'min_gain_to_split': 0.8425849469423922, 'lambda_l1': 0.4199204095485375, 'lambda_l2': 0.16053845444503495, 'num_leaves': 26, 'max_bin': 214}.\n"
     ]
    },
    {
     "name": "stdout",
     "output_type": "stream",
     "text": [
      "Training until validation scores don't improve for 100 rounds.\n",
      "Early stopping, best iteration is:\n",
      "[11]\tvalid_0's auc: 0.863487\n"
     ]
    },
    {
     "name": "stderr",
     "output_type": "stream",
     "text": [
      "[I 2019-04-08 00:55:25,035] Finished trial#47 resulted in value: -0.8634873022325836. Current best value is -0.8872043548239902 with parameters: {'feature_fraction': 0.9391494635740887, 'learning_rate': 0.011489801023534488, 'subsample': 0.9743763280438088, 'min_data_in_leaf': 11, 'min_sum_hessian_in_leaf': 0.004878397582435823, 'bagging_fraction': 0.8606956267620264, 'bagging_freq': 10, 'min_gain_to_split': 0.8425849469423922, 'lambda_l1': 0.4199204095485375, 'lambda_l2': 0.16053845444503495, 'num_leaves': 26, 'max_bin': 214}.\n"
     ]
    },
    {
     "name": "stdout",
     "output_type": "stream",
     "text": [
      "Training until validation scores don't improve for 100 rounds.\n",
      "Early stopping, best iteration is:\n",
      "[30]\tvalid_0's auc: 0.872353\n"
     ]
    },
    {
     "name": "stderr",
     "output_type": "stream",
     "text": [
      "[I 2019-04-08 00:55:37,492] Finished trial#48 resulted in value: -0.8723526613735103. Current best value is -0.8872043548239902 with parameters: {'feature_fraction': 0.9391494635740887, 'learning_rate': 0.011489801023534488, 'subsample': 0.9743763280438088, 'min_data_in_leaf': 11, 'min_sum_hessian_in_leaf': 0.004878397582435823, 'bagging_fraction': 0.8606956267620264, 'bagging_freq': 10, 'min_gain_to_split': 0.8425849469423922, 'lambda_l1': 0.4199204095485375, 'lambda_l2': 0.16053845444503495, 'num_leaves': 26, 'max_bin': 214}.\n"
     ]
    },
    {
     "name": "stdout",
     "output_type": "stream",
     "text": [
      "Training until validation scores don't improve for 100 rounds.\n",
      "Early stopping, best iteration is:\n",
      "[15]\tvalid_0's auc: 0.865644\n"
     ]
    },
    {
     "name": "stderr",
     "output_type": "stream",
     "text": [
      "[I 2019-04-08 00:55:49,402] Finished trial#49 resulted in value: -0.8656440870964798. Current best value is -0.8872043548239902 with parameters: {'feature_fraction': 0.9391494635740887, 'learning_rate': 0.011489801023534488, 'subsample': 0.9743763280438088, 'min_data_in_leaf': 11, 'min_sum_hessian_in_leaf': 0.004878397582435823, 'bagging_fraction': 0.8606956267620264, 'bagging_freq': 10, 'min_gain_to_split': 0.8425849469423922, 'lambda_l1': 0.4199204095485375, 'lambda_l2': 0.16053845444503495, 'num_leaves': 26, 'max_bin': 214}.\n"
     ]
    },
    {
     "name": "stdout",
     "output_type": "stream",
     "text": [
      "Training until validation scores don't improve for 100 rounds.\n",
      "Early stopping, best iteration is:\n",
      "[8]\tvalid_0's auc: 0.860754\n"
     ]
    },
    {
     "name": "stderr",
     "output_type": "stream",
     "text": [
      "[I 2019-04-08 00:55:58,895] Finished trial#50 resulted in value: -0.8607536870953736. Current best value is -0.8872043548239902 with parameters: {'feature_fraction': 0.9391494635740887, 'learning_rate': 0.011489801023534488, 'subsample': 0.9743763280438088, 'min_data_in_leaf': 11, 'min_sum_hessian_in_leaf': 0.004878397582435823, 'bagging_fraction': 0.8606956267620264, 'bagging_freq': 10, 'min_gain_to_split': 0.8425849469423922, 'lambda_l1': 0.4199204095485375, 'lambda_l2': 0.16053845444503495, 'num_leaves': 26, 'max_bin': 214}.\n"
     ]
    },
    {
     "name": "stdout",
     "output_type": "stream",
     "text": [
      "Training until validation scores don't improve for 100 rounds.\n",
      "[200]\tvalid_0's auc: 0.880516\n",
      "[400]\tvalid_0's auc: 0.884462\n",
      "[600]\tvalid_0's auc: 0.884543\n",
      "Early stopping, best iteration is:\n",
      "[520]\tvalid_0's auc: 0.884863\n"
     ]
    },
    {
     "name": "stderr",
     "output_type": "stream",
     "text": [
      "[I 2019-04-08 00:57:15,098] Finished trial#51 resulted in value: -0.8848630942010349. Current best value is -0.8872043548239902 with parameters: {'feature_fraction': 0.9391494635740887, 'learning_rate': 0.011489801023534488, 'subsample': 0.9743763280438088, 'min_data_in_leaf': 11, 'min_sum_hessian_in_leaf': 0.004878397582435823, 'bagging_fraction': 0.8606956267620264, 'bagging_freq': 10, 'min_gain_to_split': 0.8425849469423922, 'lambda_l1': 0.4199204095485375, 'lambda_l2': 0.16053845444503495, 'num_leaves': 26, 'max_bin': 214}.\n"
     ]
    },
    {
     "name": "stdout",
     "output_type": "stream",
     "text": [
      "Training until validation scores don't improve for 100 rounds.\n",
      "[200]\tvalid_0's auc: 0.880259\n",
      "Early stopping, best iteration is:\n",
      "[195]\tvalid_0's auc: 0.88038\n"
     ]
    },
    {
     "name": "stderr",
     "output_type": "stream",
     "text": [
      "[I 2019-04-08 00:57:48,247] Finished trial#52 resulted in value: -0.8803802554763702. Current best value is -0.8872043548239902 with parameters: {'feature_fraction': 0.9391494635740887, 'learning_rate': 0.011489801023534488, 'subsample': 0.9743763280438088, 'min_data_in_leaf': 11, 'min_sum_hessian_in_leaf': 0.004878397582435823, 'bagging_fraction': 0.8606956267620264, 'bagging_freq': 10, 'min_gain_to_split': 0.8425849469423922, 'lambda_l1': 0.4199204095485375, 'lambda_l2': 0.16053845444503495, 'num_leaves': 26, 'max_bin': 214}.\n"
     ]
    },
    {
     "name": "stdout",
     "output_type": "stream",
     "text": [
      "Training until validation scores don't improve for 100 rounds.\n",
      "[200]\tvalid_0's auc: 0.857689\n",
      "[400]\tvalid_0's auc: 0.860557\n",
      "[600]\tvalid_0's auc: 0.862271\n",
      "[800]\tvalid_0's auc: 0.865111\n",
      "[1000]\tvalid_0's auc: 0.86817\n",
      "[1200]\tvalid_0's auc: 0.87111\n",
      "[1400]\tvalid_0's auc: 0.873792\n",
      "[1600]\tvalid_0's auc: 0.875859\n",
      "[1800]\tvalid_0's auc: 0.877298\n",
      "[2000]\tvalid_0's auc: 0.878517\n",
      "[2200]\tvalid_0's auc: 0.879637\n",
      "[2400]\tvalid_0's auc: 0.880685\n",
      "[2600]\tvalid_0's auc: 0.881518\n",
      "[2800]\tvalid_0's auc: 0.882353\n",
      "[3000]\tvalid_0's auc: 0.882966\n",
      "[3200]\tvalid_0's auc: 0.8835\n",
      "[3400]\tvalid_0's auc: 0.883909\n",
      "[3600]\tvalid_0's auc: 0.88445\n",
      "[3800]\tvalid_0's auc: 0.88497\n",
      "[4000]\tvalid_0's auc: 0.885268\n",
      "[4200]\tvalid_0's auc: 0.88559\n",
      "[4400]\tvalid_0's auc: 0.885914\n",
      "[4600]\tvalid_0's auc: 0.886017\n",
      "[4800]\tvalid_0's auc: 0.88625\n",
      "[5000]\tvalid_0's auc: 0.886436\n",
      "[5200]\tvalid_0's auc: 0.886603\n",
      "[5400]\tvalid_0's auc: 0.88672\n",
      "[5600]\tvalid_0's auc: 0.886848\n",
      "[5800]\tvalid_0's auc: 0.886925\n",
      "[6000]\tvalid_0's auc: 0.887028\n",
      "[6200]\tvalid_0's auc: 0.887118\n",
      "Early stopping, best iteration is:\n",
      "[6180]\tvalid_0's auc: 0.887133\n"
     ]
    },
    {
     "name": "stderr",
     "output_type": "stream",
     "text": [
      "[I 2019-04-08 01:10:31,432] Finished trial#53 resulted in value: -0.8871333576696839. Current best value is -0.8872043548239902 with parameters: {'feature_fraction': 0.9391494635740887, 'learning_rate': 0.011489801023534488, 'subsample': 0.9743763280438088, 'min_data_in_leaf': 11, 'min_sum_hessian_in_leaf': 0.004878397582435823, 'bagging_fraction': 0.8606956267620264, 'bagging_freq': 10, 'min_gain_to_split': 0.8425849469423922, 'lambda_l1': 0.4199204095485375, 'lambda_l2': 0.16053845444503495, 'num_leaves': 26, 'max_bin': 214}.\n"
     ]
    },
    {
     "name": "stdout",
     "output_type": "stream",
     "text": [
      "Training until validation scores don't improve for 100 rounds.\n",
      "Early stopping, best iteration is:\n",
      "[24]\tvalid_0's auc: 0.868491\n"
     ]
    },
    {
     "name": "stderr",
     "output_type": "stream",
     "text": [
      "[I 2019-04-08 01:10:46,595] Finished trial#54 resulted in value: -0.8684910356499881. Current best value is -0.8872043548239902 with parameters: {'feature_fraction': 0.9391494635740887, 'learning_rate': 0.011489801023534488, 'subsample': 0.9743763280438088, 'min_data_in_leaf': 11, 'min_sum_hessian_in_leaf': 0.004878397582435823, 'bagging_fraction': 0.8606956267620264, 'bagging_freq': 10, 'min_gain_to_split': 0.8425849469423922, 'lambda_l1': 0.4199204095485375, 'lambda_l2': 0.16053845444503495, 'num_leaves': 26, 'max_bin': 214}.\n"
     ]
    },
    {
     "name": "stdout",
     "output_type": "stream",
     "text": [
      "Training until validation scores don't improve for 100 rounds.\n",
      "Early stopping, best iteration is:\n",
      "[86]\tvalid_0's auc: 0.874997\n"
     ]
    },
    {
     "name": "stderr",
     "output_type": "stream",
     "text": [
      "[I 2019-04-08 01:11:11,316] Finished trial#55 resulted in value: -0.874997497227592. Current best value is -0.8872043548239902 with parameters: {'feature_fraction': 0.9391494635740887, 'learning_rate': 0.011489801023534488, 'subsample': 0.9743763280438088, 'min_data_in_leaf': 11, 'min_sum_hessian_in_leaf': 0.004878397582435823, 'bagging_fraction': 0.8606956267620264, 'bagging_freq': 10, 'min_gain_to_split': 0.8425849469423922, 'lambda_l1': 0.4199204095485375, 'lambda_l2': 0.16053845444503495, 'num_leaves': 26, 'max_bin': 214}.\n"
     ]
    },
    {
     "name": "stdout",
     "output_type": "stream",
     "text": [
      "Training until validation scores don't improve for 100 rounds.\n",
      "Early stopping, best iteration is:\n",
      "[50]\tvalid_0's auc: 0.872403\n"
     ]
    },
    {
     "name": "stderr",
     "output_type": "stream",
     "text": [
      "[I 2019-04-08 01:11:26,466] Finished trial#56 resulted in value: -0.8724031523870364. Current best value is -0.8872043548239902 with parameters: {'feature_fraction': 0.9391494635740887, 'learning_rate': 0.011489801023534488, 'subsample': 0.9743763280438088, 'min_data_in_leaf': 11, 'min_sum_hessian_in_leaf': 0.004878397582435823, 'bagging_fraction': 0.8606956267620264, 'bagging_freq': 10, 'min_gain_to_split': 0.8425849469423922, 'lambda_l1': 0.4199204095485375, 'lambda_l2': 0.16053845444503495, 'num_leaves': 26, 'max_bin': 214}.\n"
     ]
    },
    {
     "name": "stdout",
     "output_type": "stream",
     "text": [
      "Training until validation scores don't improve for 100 rounds.\n",
      "Early stopping, best iteration is:\n",
      "[7]\tvalid_0's auc: 0.85698\n"
     ]
    },
    {
     "name": "stderr",
     "output_type": "stream",
     "text": [
      "[I 2019-04-08 01:11:35,365] Finished trial#57 resulted in value: -0.8569797240866264. Current best value is -0.8872043548239902 with parameters: {'feature_fraction': 0.9391494635740887, 'learning_rate': 0.011489801023534488, 'subsample': 0.9743763280438088, 'min_data_in_leaf': 11, 'min_sum_hessian_in_leaf': 0.004878397582435823, 'bagging_fraction': 0.8606956267620264, 'bagging_freq': 10, 'min_gain_to_split': 0.8425849469423922, 'lambda_l1': 0.4199204095485375, 'lambda_l2': 0.16053845444503495, 'num_leaves': 26, 'max_bin': 214}.\n"
     ]
    },
    {
     "name": "stdout",
     "output_type": "stream",
     "text": [
      "Training until validation scores don't improve for 100 rounds.\n",
      "Early stopping, best iteration is:\n",
      "[9]\tvalid_0's auc: 0.857899\n"
     ]
    },
    {
     "name": "stderr",
     "output_type": "stream",
     "text": [
      "[I 2019-04-08 01:11:44,129] Finished trial#58 resulted in value: -0.857899143802942. Current best value is -0.8872043548239902 with parameters: {'feature_fraction': 0.9391494635740887, 'learning_rate': 0.011489801023534488, 'subsample': 0.9743763280438088, 'min_data_in_leaf': 11, 'min_sum_hessian_in_leaf': 0.004878397582435823, 'bagging_fraction': 0.8606956267620264, 'bagging_freq': 10, 'min_gain_to_split': 0.8425849469423922, 'lambda_l1': 0.4199204095485375, 'lambda_l2': 0.16053845444503495, 'num_leaves': 26, 'max_bin': 214}.\n"
     ]
    },
    {
     "name": "stdout",
     "output_type": "stream",
     "text": [
      "Training until validation scores don't improve for 100 rounds.\n",
      "[200]\tvalid_0's auc: 0.875316\n",
      "[400]\tvalid_0's auc: 0.882607\n",
      "[600]\tvalid_0's auc: 0.884743\n",
      "[800]\tvalid_0's auc: 0.885752\n",
      "Early stopping, best iteration is:\n",
      "[839]\tvalid_0's auc: 0.885929\n"
     ]
    },
    {
     "name": "stderr",
     "output_type": "stream",
     "text": [
      "[I 2019-04-08 01:13:34,636] Finished trial#59 resulted in value: -0.8859288742502054. Current best value is -0.8872043548239902 with parameters: {'feature_fraction': 0.9391494635740887, 'learning_rate': 0.011489801023534488, 'subsample': 0.9743763280438088, 'min_data_in_leaf': 11, 'min_sum_hessian_in_leaf': 0.004878397582435823, 'bagging_fraction': 0.8606956267620264, 'bagging_freq': 10, 'min_gain_to_split': 0.8425849469423922, 'lambda_l1': 0.4199204095485375, 'lambda_l2': 0.16053845444503495, 'num_leaves': 26, 'max_bin': 214}.\n"
     ]
    },
    {
     "name": "stdout",
     "output_type": "stream",
     "text": [
      "Training until validation scores don't improve for 100 rounds.\n",
      "[200]\tvalid_0's auc: 0.8806\n",
      "Early stopping, best iteration is:\n",
      "[269]\tvalid_0's auc: 0.881508\n"
     ]
    },
    {
     "name": "stderr",
     "output_type": "stream",
     "text": [
      "[I 2019-04-08 01:14:23,897] Finished trial#60 resulted in value: -0.8815080793918125. Current best value is -0.8872043548239902 with parameters: {'feature_fraction': 0.9391494635740887, 'learning_rate': 0.011489801023534488, 'subsample': 0.9743763280438088, 'min_data_in_leaf': 11, 'min_sum_hessian_in_leaf': 0.004878397582435823, 'bagging_fraction': 0.8606956267620264, 'bagging_freq': 10, 'min_gain_to_split': 0.8425849469423922, 'lambda_l1': 0.4199204095485375, 'lambda_l2': 0.16053845444503495, 'num_leaves': 26, 'max_bin': 214}.\n"
     ]
    },
    {
     "name": "stdout",
     "output_type": "stream",
     "text": [
      "Training until validation scores don't improve for 100 rounds.\n",
      "Early stopping, best iteration is:\n",
      "[31]\tvalid_0's auc: 0.866936\n"
     ]
    },
    {
     "name": "stderr",
     "output_type": "stream",
     "text": [
      "[I 2019-04-08 01:14:38,669] Finished trial#61 resulted in value: -0.8669355625983479. Current best value is -0.8872043548239902 with parameters: {'feature_fraction': 0.9391494635740887, 'learning_rate': 0.011489801023534488, 'subsample': 0.9743763280438088, 'min_data_in_leaf': 11, 'min_sum_hessian_in_leaf': 0.004878397582435823, 'bagging_fraction': 0.8606956267620264, 'bagging_freq': 10, 'min_gain_to_split': 0.8425849469423922, 'lambda_l1': 0.4199204095485375, 'lambda_l2': 0.16053845444503495, 'num_leaves': 26, 'max_bin': 214}.\n"
     ]
    },
    {
     "name": "stdout",
     "output_type": "stream",
     "text": [
      "Training until validation scores don't improve for 100 rounds.\n",
      "Early stopping, best iteration is:\n",
      "[20]\tvalid_0's auc: 0.867859\n"
     ]
    },
    {
     "name": "stderr",
     "output_type": "stream",
     "text": [
      "[I 2019-04-08 01:14:51,946] Finished trial#62 resulted in value: -0.867858504863122. Current best value is -0.8872043548239902 with parameters: {'feature_fraction': 0.9391494635740887, 'learning_rate': 0.011489801023534488, 'subsample': 0.9743763280438088, 'min_data_in_leaf': 11, 'min_sum_hessian_in_leaf': 0.004878397582435823, 'bagging_fraction': 0.8606956267620264, 'bagging_freq': 10, 'min_gain_to_split': 0.8425849469423922, 'lambda_l1': 0.4199204095485375, 'lambda_l2': 0.16053845444503495, 'num_leaves': 26, 'max_bin': 214}.\n"
     ]
    },
    {
     "name": "stdout",
     "output_type": "stream",
     "text": [
      "Training until validation scores don't improve for 100 rounds.\n",
      "Early stopping, best iteration is:\n",
      "[20]\tvalid_0's auc: 0.86547\n"
     ]
    },
    {
     "name": "stderr",
     "output_type": "stream",
     "text": [
      "[I 2019-04-08 01:15:06,379] Finished trial#63 resulted in value: -0.8654704659028372. Current best value is -0.8872043548239902 with parameters: {'feature_fraction': 0.9391494635740887, 'learning_rate': 0.011489801023534488, 'subsample': 0.9743763280438088, 'min_data_in_leaf': 11, 'min_sum_hessian_in_leaf': 0.004878397582435823, 'bagging_fraction': 0.8606956267620264, 'bagging_freq': 10, 'min_gain_to_split': 0.8425849469423922, 'lambda_l1': 0.4199204095485375, 'lambda_l2': 0.16053845444503495, 'num_leaves': 26, 'max_bin': 214}.\n"
     ]
    },
    {
     "name": "stdout",
     "output_type": "stream",
     "text": [
      "Training until validation scores don't improve for 100 rounds.\n",
      "[200]\tvalid_0's auc: 0.875896\n",
      "Early stopping, best iteration is:\n",
      "[160]\tvalid_0's auc: 0.876844\n"
     ]
    },
    {
     "name": "stderr",
     "output_type": "stream",
     "text": [
      "[I 2019-04-08 01:15:36,682] Finished trial#64 resulted in value: -0.8768436168241615. Current best value is -0.8872043548239902 with parameters: {'feature_fraction': 0.9391494635740887, 'learning_rate': 0.011489801023534488, 'subsample': 0.9743763280438088, 'min_data_in_leaf': 11, 'min_sum_hessian_in_leaf': 0.004878397582435823, 'bagging_fraction': 0.8606956267620264, 'bagging_freq': 10, 'min_gain_to_split': 0.8425849469423922, 'lambda_l1': 0.4199204095485375, 'lambda_l2': 0.16053845444503495, 'num_leaves': 26, 'max_bin': 214}.\n"
     ]
    },
    {
     "name": "stdout",
     "output_type": "stream",
     "text": [
      "Training until validation scores don't improve for 100 rounds.\n",
      "[200]\tvalid_0's auc: 0.861276\n",
      "[400]\tvalid_0's auc: 0.869224\n",
      "[600]\tvalid_0's auc: 0.875908\n",
      "[800]\tvalid_0's auc: 0.87926\n",
      "[1000]\tvalid_0's auc: 0.881309\n",
      "[1200]\tvalid_0's auc: 0.883064\n",
      "[1400]\tvalid_0's auc: 0.884106\n",
      "[1600]\tvalid_0's auc: 0.885044\n",
      "[1800]\tvalid_0's auc: 0.885765\n",
      "[2000]\tvalid_0's auc: 0.886172\n",
      "[2200]\tvalid_0's auc: 0.886593\n",
      "[2400]\tvalid_0's auc: 0.886922\n",
      "[2600]\tvalid_0's auc: 0.887079\n",
      "Early stopping, best iteration is:\n",
      "[2574]\tvalid_0's auc: 0.887114\n"
     ]
    },
    {
     "name": "stderr",
     "output_type": "stream",
     "text": [
      "[I 2019-04-08 01:20:47,660] Finished trial#65 resulted in value: -0.8871143310683935. Current best value is -0.8872043548239902 with parameters: {'feature_fraction': 0.9391494635740887, 'learning_rate': 0.011489801023534488, 'subsample': 0.9743763280438088, 'min_data_in_leaf': 11, 'min_sum_hessian_in_leaf': 0.004878397582435823, 'bagging_fraction': 0.8606956267620264, 'bagging_freq': 10, 'min_gain_to_split': 0.8425849469423922, 'lambda_l1': 0.4199204095485375, 'lambda_l2': 0.16053845444503495, 'num_leaves': 26, 'max_bin': 214}.\n"
     ]
    },
    {
     "name": "stdout",
     "output_type": "stream",
     "text": [
      "Training until validation scores don't improve for 100 rounds.\n",
      "[200]\tvalid_0's auc: 0.869348\n",
      "[400]\tvalid_0's auc: 0.878943\n",
      "[600]\tvalid_0's auc: 0.882678\n",
      "[800]\tvalid_0's auc: 0.884438\n",
      "[1000]\tvalid_0's auc: 0.885501\n",
      "[1200]\tvalid_0's auc: 0.885835\n",
      "[1400]\tvalid_0's auc: 0.886079\n",
      "Early stopping, best iteration is:\n",
      "[1471]\tvalid_0's auc: 0.886257\n"
     ]
    },
    {
     "name": "stderr",
     "output_type": "stream",
     "text": [
      "[I 2019-04-08 01:24:06,198] Finished trial#66 resulted in value: -0.8862566682983082. Current best value is -0.8872043548239902 with parameters: {'feature_fraction': 0.9391494635740887, 'learning_rate': 0.011489801023534488, 'subsample': 0.9743763280438088, 'min_data_in_leaf': 11, 'min_sum_hessian_in_leaf': 0.004878397582435823, 'bagging_fraction': 0.8606956267620264, 'bagging_freq': 10, 'min_gain_to_split': 0.8425849469423922, 'lambda_l1': 0.4199204095485375, 'lambda_l2': 0.16053845444503495, 'num_leaves': 26, 'max_bin': 214}.\n"
     ]
    },
    {
     "name": "stdout",
     "output_type": "stream",
     "text": [
      "Training until validation scores don't improve for 100 rounds.\n",
      "[200]\tvalid_0's auc: 0.880161\n",
      "[400]\tvalid_0's auc: 0.882639\n",
      "Early stopping, best iteration is:\n",
      "[347]\tvalid_0's auc: 0.882845\n"
     ]
    },
    {
     "name": "stderr",
     "output_type": "stream",
     "text": [
      "[I 2019-04-08 01:24:57,996] Finished trial#67 resulted in value: -0.8828451267840896. Current best value is -0.8872043548239902 with parameters: {'feature_fraction': 0.9391494635740887, 'learning_rate': 0.011489801023534488, 'subsample': 0.9743763280438088, 'min_data_in_leaf': 11, 'min_sum_hessian_in_leaf': 0.004878397582435823, 'bagging_fraction': 0.8606956267620264, 'bagging_freq': 10, 'min_gain_to_split': 0.8425849469423922, 'lambda_l1': 0.4199204095485375, 'lambda_l2': 0.16053845444503495, 'num_leaves': 26, 'max_bin': 214}.\n"
     ]
    },
    {
     "name": "stdout",
     "output_type": "stream",
     "text": [
      "Training until validation scores don't improve for 100 rounds.\n",
      "[200]\tvalid_0's auc: 0.879522\n",
      "Early stopping, best iteration is:\n",
      "[195]\tvalid_0's auc: 0.879672\n"
     ]
    },
    {
     "name": "stderr",
     "output_type": "stream",
     "text": [
      "[I 2019-04-08 01:25:32,687] Finished trial#68 resulted in value: -0.8796718740925721. Current best value is -0.8872043548239902 with parameters: {'feature_fraction': 0.9391494635740887, 'learning_rate': 0.011489801023534488, 'subsample': 0.9743763280438088, 'min_data_in_leaf': 11, 'min_sum_hessian_in_leaf': 0.004878397582435823, 'bagging_fraction': 0.8606956267620264, 'bagging_freq': 10, 'min_gain_to_split': 0.8425849469423922, 'lambda_l1': 0.4199204095485375, 'lambda_l2': 0.16053845444503495, 'num_leaves': 26, 'max_bin': 214}.\n"
     ]
    },
    {
     "name": "stdout",
     "output_type": "stream",
     "text": [
      "Training until validation scores don't improve for 100 rounds.\n",
      "[200]\tvalid_0's auc: 0.856632\n",
      "[400]\tvalid_0's auc: 0.859118\n",
      "[600]\tvalid_0's auc: 0.860558\n",
      "[800]\tvalid_0's auc: 0.862033\n",
      "[1000]\tvalid_0's auc: 0.863873\n",
      "[1200]\tvalid_0's auc: 0.866417\n",
      "[1400]\tvalid_0's auc: 0.868714\n",
      "[1600]\tvalid_0's auc: 0.870794\n",
      "[1800]\tvalid_0's auc: 0.872731\n",
      "[2000]\tvalid_0's auc: 0.874409\n",
      "[2200]\tvalid_0's auc: 0.875901\n",
      "[2400]\tvalid_0's auc: 0.876979\n",
      "[2600]\tvalid_0's auc: 0.877932\n",
      "[2800]\tvalid_0's auc: 0.878771\n",
      "[3000]\tvalid_0's auc: 0.879491\n",
      "[3200]\tvalid_0's auc: 0.880198\n",
      "[3400]\tvalid_0's auc: 0.880813\n",
      "[3600]\tvalid_0's auc: 0.881302\n",
      "[3800]\tvalid_0's auc: 0.88174\n",
      "[4000]\tvalid_0's auc: 0.882073\n",
      "[4200]\tvalid_0's auc: 0.882552\n",
      "[4400]\tvalid_0's auc: 0.882931\n",
      "[4600]\tvalid_0's auc: 0.883296\n",
      "[4800]\tvalid_0's auc: 0.883707\n",
      "[5000]\tvalid_0's auc: 0.88399\n",
      "[5200]\tvalid_0's auc: 0.884267\n",
      "[5400]\tvalid_0's auc: 0.884563\n",
      "[5600]\tvalid_0's auc: 0.884819\n",
      "[5800]\tvalid_0's auc: 0.885034\n",
      "[6000]\tvalid_0's auc: 0.885197\n",
      "[6200]\tvalid_0's auc: 0.885463\n",
      "[6400]\tvalid_0's auc: 0.885672\n",
      "[6600]\tvalid_0's auc: 0.885882\n",
      "[6800]\tvalid_0's auc: 0.886026\n",
      "[7000]\tvalid_0's auc: 0.886185\n",
      "[7200]\tvalid_0's auc: 0.886334\n",
      "[7400]\tvalid_0's auc: 0.886489\n",
      "[7600]\tvalid_0's auc: 0.886606\n",
      "[7800]\tvalid_0's auc: 0.886653\n",
      "[8000]\tvalid_0's auc: 0.886799\n",
      "[8200]\tvalid_0's auc: 0.886895\n",
      "[8400]\tvalid_0's auc: 0.886969\n",
      "[8600]\tvalid_0's auc: 0.887022\n",
      "[8800]\tvalid_0's auc: 0.887057\n",
      "[9000]\tvalid_0's auc: 0.887103\n",
      "Early stopping, best iteration is:\n",
      "[9005]\tvalid_0's auc: 0.887109\n"
     ]
    },
    {
     "name": "stderr",
     "output_type": "stream",
     "text": [
      "[I 2019-04-08 01:44:02,346] Finished trial#69 resulted in value: -0.8871093462647852. Current best value is -0.8872043548239902 with parameters: {'feature_fraction': 0.9391494635740887, 'learning_rate': 0.011489801023534488, 'subsample': 0.9743763280438088, 'min_data_in_leaf': 11, 'min_sum_hessian_in_leaf': 0.004878397582435823, 'bagging_fraction': 0.8606956267620264, 'bagging_freq': 10, 'min_gain_to_split': 0.8425849469423922, 'lambda_l1': 0.4199204095485375, 'lambda_l2': 0.16053845444503495, 'num_leaves': 26, 'max_bin': 214}.\n"
     ]
    },
    {
     "name": "stdout",
     "output_type": "stream",
     "text": [
      "Training until validation scores don't improve for 100 rounds.\n",
      "Early stopping, best iteration is:\n",
      "[95]\tvalid_0's auc: 0.877069\n"
     ]
    },
    {
     "name": "stderr",
     "output_type": "stream",
     "text": [
      "[I 2019-04-08 01:44:29,104] Finished trial#70 resulted in value: -0.8770693986985584. Current best value is -0.8872043548239902 with parameters: {'feature_fraction': 0.9391494635740887, 'learning_rate': 0.011489801023534488, 'subsample': 0.9743763280438088, 'min_data_in_leaf': 11, 'min_sum_hessian_in_leaf': 0.004878397582435823, 'bagging_fraction': 0.8606956267620264, 'bagging_freq': 10, 'min_gain_to_split': 0.8425849469423922, 'lambda_l1': 0.4199204095485375, 'lambda_l2': 0.16053845444503495, 'num_leaves': 26, 'max_bin': 214}.\n"
     ]
    },
    {
     "name": "stdout",
     "output_type": "stream",
     "text": [
      "Training until validation scores don't improve for 100 rounds.\n",
      "Early stopping, best iteration is:\n",
      "[67]\tvalid_0's auc: 0.874553\n"
     ]
    },
    {
     "name": "stderr",
     "output_type": "stream",
     "text": [
      "[I 2019-04-08 01:44:51,027] Finished trial#71 resulted in value: -0.8745533864861352. Current best value is -0.8872043548239902 with parameters: {'feature_fraction': 0.9391494635740887, 'learning_rate': 0.011489801023534488, 'subsample': 0.9743763280438088, 'min_data_in_leaf': 11, 'min_sum_hessian_in_leaf': 0.004878397582435823, 'bagging_fraction': 0.8606956267620264, 'bagging_freq': 10, 'min_gain_to_split': 0.8425849469423922, 'lambda_l1': 0.4199204095485375, 'lambda_l2': 0.16053845444503495, 'num_leaves': 26, 'max_bin': 214}.\n"
     ]
    },
    {
     "name": "stdout",
     "output_type": "stream",
     "text": [
      "Training until validation scores don't improve for 100 rounds.\n",
      "Early stopping, best iteration is:\n",
      "[33]\tvalid_0's auc: 0.871637\n"
     ]
    },
    {
     "name": "stderr",
     "output_type": "stream",
     "text": [
      "[I 2019-04-08 01:45:06,729] Finished trial#72 resulted in value: -0.8716374561323456. Current best value is -0.8872043548239902 with parameters: {'feature_fraction': 0.9391494635740887, 'learning_rate': 0.011489801023534488, 'subsample': 0.9743763280438088, 'min_data_in_leaf': 11, 'min_sum_hessian_in_leaf': 0.004878397582435823, 'bagging_fraction': 0.8606956267620264, 'bagging_freq': 10, 'min_gain_to_split': 0.8425849469423922, 'lambda_l1': 0.4199204095485375, 'lambda_l2': 0.16053845444503495, 'num_leaves': 26, 'max_bin': 214}.\n"
     ]
    },
    {
     "name": "stdout",
     "output_type": "stream",
     "text": [
      "Training until validation scores don't improve for 100 rounds.\n",
      "Early stopping, best iteration is:\n",
      "[97]\tvalid_0's auc: 0.878245\n"
     ]
    },
    {
     "name": "stderr",
     "output_type": "stream",
     "text": [
      "[I 2019-04-08 01:45:32,559] Finished trial#73 resulted in value: -0.8782449481331531. Current best value is -0.8872043548239902 with parameters: {'feature_fraction': 0.9391494635740887, 'learning_rate': 0.011489801023534488, 'subsample': 0.9743763280438088, 'min_data_in_leaf': 11, 'min_sum_hessian_in_leaf': 0.004878397582435823, 'bagging_fraction': 0.8606956267620264, 'bagging_freq': 10, 'min_gain_to_split': 0.8425849469423922, 'lambda_l1': 0.4199204095485375, 'lambda_l2': 0.16053845444503495, 'num_leaves': 26, 'max_bin': 214}.\n"
     ]
    },
    {
     "name": "stdout",
     "output_type": "stream",
     "text": [
      "Training until validation scores don't improve for 100 rounds.\n",
      "[200]\tvalid_0's auc: 0.880206\n",
      "[400]\tvalid_0's auc: 0.883226\n",
      "Early stopping, best iteration is:\n",
      "[422]\tvalid_0's auc: 0.883486\n"
     ]
    },
    {
     "name": "stderr",
     "output_type": "stream",
     "text": [
      "[I 2019-04-08 01:46:40,736] Finished trial#74 resulted in value: -0.8834864518430637. Current best value is -0.8872043548239902 with parameters: {'feature_fraction': 0.9391494635740887, 'learning_rate': 0.011489801023534488, 'subsample': 0.9743763280438088, 'min_data_in_leaf': 11, 'min_sum_hessian_in_leaf': 0.004878397582435823, 'bagging_fraction': 0.8606956267620264, 'bagging_freq': 10, 'min_gain_to_split': 0.8425849469423922, 'lambda_l1': 0.4199204095485375, 'lambda_l2': 0.16053845444503495, 'num_leaves': 26, 'max_bin': 214}.\n"
     ]
    },
    {
     "name": "stdout",
     "output_type": "stream",
     "text": [
      "Training until validation scores don't improve for 100 rounds.\n",
      "[200]\tvalid_0's auc: 0.880727\n",
      "Early stopping, best iteration is:\n",
      "[163]\tvalid_0's auc: 0.881006\n"
     ]
    },
    {
     "name": "stderr",
     "output_type": "stream",
     "text": [
      "[I 2019-04-08 01:47:09,115] Finished trial#75 resulted in value: -0.8810056028916008. Current best value is -0.8872043548239902 with parameters: {'feature_fraction': 0.9391494635740887, 'learning_rate': 0.011489801023534488, 'subsample': 0.9743763280438088, 'min_data_in_leaf': 11, 'min_sum_hessian_in_leaf': 0.004878397582435823, 'bagging_fraction': 0.8606956267620264, 'bagging_freq': 10, 'min_gain_to_split': 0.8425849469423922, 'lambda_l1': 0.4199204095485375, 'lambda_l2': 0.16053845444503495, 'num_leaves': 26, 'max_bin': 214}.\n"
     ]
    },
    {
     "name": "stdout",
     "output_type": "stream",
     "text": [
      "Training until validation scores don't improve for 100 rounds.\n",
      "Early stopping, best iteration is:\n",
      "[99]\tvalid_0's auc: 0.87686\n"
     ]
    },
    {
     "name": "stderr",
     "output_type": "stream",
     "text": [
      "[I 2019-04-08 01:47:31,971] Finished trial#76 resulted in value: -0.8768595944679051. Current best value is -0.8872043548239902 with parameters: {'feature_fraction': 0.9391494635740887, 'learning_rate': 0.011489801023534488, 'subsample': 0.9743763280438088, 'min_data_in_leaf': 11, 'min_sum_hessian_in_leaf': 0.004878397582435823, 'bagging_fraction': 0.8606956267620264, 'bagging_freq': 10, 'min_gain_to_split': 0.8425849469423922, 'lambda_l1': 0.4199204095485375, 'lambda_l2': 0.16053845444503495, 'num_leaves': 26, 'max_bin': 214}.\n"
     ]
    },
    {
     "name": "stdout",
     "output_type": "stream",
     "text": [
      "Training until validation scores don't improve for 100 rounds.\n",
      "[200]\tvalid_0's auc: 0.877287\n",
      "Early stopping, best iteration is:\n",
      "[115]\tvalid_0's auc: 0.877858\n"
     ]
    },
    {
     "name": "stderr",
     "output_type": "stream",
     "text": [
      "[I 2019-04-08 01:47:59,879] Finished trial#77 resulted in value: -0.8778580485565503. Current best value is -0.8872043548239902 with parameters: {'feature_fraction': 0.9391494635740887, 'learning_rate': 0.011489801023534488, 'subsample': 0.9743763280438088, 'min_data_in_leaf': 11, 'min_sum_hessian_in_leaf': 0.004878397582435823, 'bagging_fraction': 0.8606956267620264, 'bagging_freq': 10, 'min_gain_to_split': 0.8425849469423922, 'lambda_l1': 0.4199204095485375, 'lambda_l2': 0.16053845444503495, 'num_leaves': 26, 'max_bin': 214}.\n"
     ]
    },
    {
     "name": "stdout",
     "output_type": "stream",
     "text": [
      "Training until validation scores don't improve for 100 rounds.\n",
      "[200]\tvalid_0's auc: 0.877331\n",
      "[400]\tvalid_0's auc: 0.882661\n",
      "[600]\tvalid_0's auc: 0.884941\n",
      "[800]\tvalid_0's auc: 0.88536\n",
      "Early stopping, best iteration is:\n",
      "[731]\tvalid_0's auc: 0.885441\n"
     ]
    },
    {
     "name": "stderr",
     "output_type": "stream",
     "text": [
      "[I 2019-04-08 01:49:47,344] Finished trial#78 resulted in value: -0.8854406262185459. Current best value is -0.8872043548239902 with parameters: {'feature_fraction': 0.9391494635740887, 'learning_rate': 0.011489801023534488, 'subsample': 0.9743763280438088, 'min_data_in_leaf': 11, 'min_sum_hessian_in_leaf': 0.004878397582435823, 'bagging_fraction': 0.8606956267620264, 'bagging_freq': 10, 'min_gain_to_split': 0.8425849469423922, 'lambda_l1': 0.4199204095485375, 'lambda_l2': 0.16053845444503495, 'num_leaves': 26, 'max_bin': 214}.\n"
     ]
    },
    {
     "name": "stdout",
     "output_type": "stream",
     "text": [
      "Training until validation scores don't improve for 100 rounds.\n",
      "[200]\tvalid_0's auc: 0.880944\n",
      "[400]\tvalid_0's auc: 0.881969\n",
      "Early stopping, best iteration is:\n",
      "[324]\tvalid_0's auc: 0.882956\n"
     ]
    },
    {
     "name": "stderr",
     "output_type": "stream",
     "text": [
      "[I 2019-04-08 01:50:50,562] Finished trial#79 resulted in value: -0.8829563134853802. Current best value is -0.8872043548239902 with parameters: {'feature_fraction': 0.9391494635740887, 'learning_rate': 0.011489801023534488, 'subsample': 0.9743763280438088, 'min_data_in_leaf': 11, 'min_sum_hessian_in_leaf': 0.004878397582435823, 'bagging_fraction': 0.8606956267620264, 'bagging_freq': 10, 'min_gain_to_split': 0.8425849469423922, 'lambda_l1': 0.4199204095485375, 'lambda_l2': 0.16053845444503495, 'num_leaves': 26, 'max_bin': 214}.\n"
     ]
    },
    {
     "name": "stdout",
     "output_type": "stream",
     "text": [
      "Training until validation scores don't improve for 100 rounds.\n",
      "[200]\tvalid_0's auc: 0.872378\n",
      "Early stopping, best iteration is:\n",
      "[128]\tvalid_0's auc: 0.875187\n"
     ]
    },
    {
     "name": "stderr",
     "output_type": "stream",
     "text": [
      "[I 2019-04-08 01:51:18,960] Finished trial#80 resulted in value: -0.8751874521223786. Current best value is -0.8872043548239902 with parameters: {'feature_fraction': 0.9391494635740887, 'learning_rate': 0.011489801023534488, 'subsample': 0.9743763280438088, 'min_data_in_leaf': 11, 'min_sum_hessian_in_leaf': 0.004878397582435823, 'bagging_fraction': 0.8606956267620264, 'bagging_freq': 10, 'min_gain_to_split': 0.8425849469423922, 'lambda_l1': 0.4199204095485375, 'lambda_l2': 0.16053845444503495, 'num_leaves': 26, 'max_bin': 214}.\n"
     ]
    },
    {
     "name": "stdout",
     "output_type": "stream",
     "text": [
      "Training until validation scores don't improve for 100 rounds.\n",
      "[200]\tvalid_0's auc: 0.880566\n",
      "Early stopping, best iteration is:\n",
      "[296]\tvalid_0's auc: 0.881212\n"
     ]
    },
    {
     "name": "stderr",
     "output_type": "stream",
     "text": [
      "[I 2019-04-08 01:52:07,986] Finished trial#81 resulted in value: -0.8812115838262827. Current best value is -0.8872043548239902 with parameters: {'feature_fraction': 0.9391494635740887, 'learning_rate': 0.011489801023534488, 'subsample': 0.9743763280438088, 'min_data_in_leaf': 11, 'min_sum_hessian_in_leaf': 0.004878397582435823, 'bagging_fraction': 0.8606956267620264, 'bagging_freq': 10, 'min_gain_to_split': 0.8425849469423922, 'lambda_l1': 0.4199204095485375, 'lambda_l2': 0.16053845444503495, 'num_leaves': 26, 'max_bin': 214}.\n"
     ]
    },
    {
     "name": "stdout",
     "output_type": "stream",
     "text": [
      "Training until validation scores don't improve for 100 rounds.\n",
      "[200]\tvalid_0's auc: 0.856313\n",
      "[400]\tvalid_0's auc: 0.858265\n",
      "[600]\tvalid_0's auc: 0.859174\n",
      "[800]\tvalid_0's auc: 0.860049\n",
      "[1000]\tvalid_0's auc: 0.86099\n",
      "[1200]\tvalid_0's auc: 0.861793\n",
      "[1400]\tvalid_0's auc: 0.862797\n",
      "[1600]\tvalid_0's auc: 0.86396\n",
      "[1800]\tvalid_0's auc: 0.865271\n",
      "[2000]\tvalid_0's auc: 0.866694\n",
      "[2200]\tvalid_0's auc: 0.868157\n",
      "[2400]\tvalid_0's auc: 0.869503\n",
      "[2600]\tvalid_0's auc: 0.870756\n",
      "[2800]\tvalid_0's auc: 0.872006\n",
      "[3000]\tvalid_0's auc: 0.873139\n",
      "[3200]\tvalid_0's auc: 0.874164\n",
      "[3400]\tvalid_0's auc: 0.875125\n",
      "[3600]\tvalid_0's auc: 0.875985\n",
      "[3800]\tvalid_0's auc: 0.876697\n",
      "[4000]\tvalid_0's auc: 0.877361\n",
      "[4200]\tvalid_0's auc: 0.877993\n",
      "[4400]\tvalid_0's auc: 0.878592\n",
      "[4600]\tvalid_0's auc: 0.879158\n",
      "[4800]\tvalid_0's auc: 0.879576\n",
      "[5000]\tvalid_0's auc: 0.880067\n",
      "[5200]\tvalid_0's auc: 0.880521\n",
      "[5400]\tvalid_0's auc: 0.880885\n",
      "[5600]\tvalid_0's auc: 0.881291\n",
      "[5800]\tvalid_0's auc: 0.881633\n",
      "[6000]\tvalid_0's auc: 0.881948\n",
      "[6200]\tvalid_0's auc: 0.882293\n",
      "[6400]\tvalid_0's auc: 0.882664\n",
      "[6600]\tvalid_0's auc: 0.882949\n",
      "[6800]\tvalid_0's auc: 0.883267\n",
      "[7000]\tvalid_0's auc: 0.883522\n",
      "[7200]\tvalid_0's auc: 0.883783\n",
      "[7400]\tvalid_0's auc: 0.88402\n",
      "[7600]\tvalid_0's auc: 0.884286\n",
      "[7800]\tvalid_0's auc: 0.884482\n",
      "[8000]\tvalid_0's auc: 0.884653\n",
      "[8200]\tvalid_0's auc: 0.884831\n",
      "[8400]\tvalid_0's auc: 0.885017\n",
      "[8600]\tvalid_0's auc: 0.885183\n",
      "[8800]\tvalid_0's auc: 0.885416\n",
      "[9000]\tvalid_0's auc: 0.885565\n",
      "[9200]\tvalid_0's auc: 0.885693\n",
      "[9400]\tvalid_0's auc: 0.885875\n",
      "[9600]\tvalid_0's auc: 0.886014\n",
      "[9800]\tvalid_0's auc: 0.886142\n",
      "[10000]\tvalid_0's auc: 0.886247\n",
      "Did not meet early stopping. Best iteration is:\n",
      "[10000]\tvalid_0's auc: 0.886247\n"
     ]
    },
    {
     "name": "stderr",
     "output_type": "stream",
     "text": [
      "[I 2019-04-08 02:12:50,509] Finished trial#82 resulted in value: -0.8862469199306414. Current best value is -0.8872043548239902 with parameters: {'feature_fraction': 0.9391494635740887, 'learning_rate': 0.011489801023534488, 'subsample': 0.9743763280438088, 'min_data_in_leaf': 11, 'min_sum_hessian_in_leaf': 0.004878397582435823, 'bagging_fraction': 0.8606956267620264, 'bagging_freq': 10, 'min_gain_to_split': 0.8425849469423922, 'lambda_l1': 0.4199204095485375, 'lambda_l2': 0.16053845444503495, 'num_leaves': 26, 'max_bin': 214}.\n"
     ]
    },
    {
     "name": "stdout",
     "output_type": "stream",
     "text": [
      "Training until validation scores don't improve for 100 rounds.\n",
      "Early stopping, best iteration is:\n",
      "[63]\tvalid_0's auc: 0.872727\n"
     ]
    },
    {
     "name": "stderr",
     "output_type": "stream",
     "text": [
      "[I 2019-04-08 02:13:11,057] Finished trial#83 resulted in value: -0.8727268258485229. Current best value is -0.8872043548239902 with parameters: {'feature_fraction': 0.9391494635740887, 'learning_rate': 0.011489801023534488, 'subsample': 0.9743763280438088, 'min_data_in_leaf': 11, 'min_sum_hessian_in_leaf': 0.004878397582435823, 'bagging_fraction': 0.8606956267620264, 'bagging_freq': 10, 'min_gain_to_split': 0.8425849469423922, 'lambda_l1': 0.4199204095485375, 'lambda_l2': 0.16053845444503495, 'num_leaves': 26, 'max_bin': 214}.\n"
     ]
    },
    {
     "name": "stdout",
     "output_type": "stream",
     "text": [
      "Training until validation scores don't improve for 100 rounds.\n",
      "[200]\tvalid_0's auc: 0.872173\n",
      "[400]\tvalid_0's auc: 0.880177\n",
      "[600]\tvalid_0's auc: 0.883265\n",
      "[800]\tvalid_0's auc: 0.884904\n",
      "[1000]\tvalid_0's auc: 0.885421\n",
      "Early stopping, best iteration is:\n",
      "[1002]\tvalid_0's auc: 0.885428\n"
     ]
    },
    {
     "name": "stderr",
     "output_type": "stream",
     "text": [
      "[I 2019-04-08 02:15:28,842] Finished trial#84 resulted in value: -0.8854277804971805. Current best value is -0.8872043548239902 with parameters: {'feature_fraction': 0.9391494635740887, 'learning_rate': 0.011489801023534488, 'subsample': 0.9743763280438088, 'min_data_in_leaf': 11, 'min_sum_hessian_in_leaf': 0.004878397582435823, 'bagging_fraction': 0.8606956267620264, 'bagging_freq': 10, 'min_gain_to_split': 0.8425849469423922, 'lambda_l1': 0.4199204095485375, 'lambda_l2': 0.16053845444503495, 'num_leaves': 26, 'max_bin': 214}.\n"
     ]
    },
    {
     "name": "stdout",
     "output_type": "stream",
     "text": [
      "Training until validation scores don't improve for 100 rounds.\n",
      "[200]\tvalid_0's auc: 0.880126\n",
      "[400]\tvalid_0's auc: 0.882962\n",
      "Early stopping, best iteration is:\n",
      "[496]\tvalid_0's auc: 0.883195\n"
     ]
    },
    {
     "name": "stderr",
     "output_type": "stream",
     "text": [
      "[I 2019-04-08 02:16:44,348] Finished trial#85 resulted in value: -0.8831946645317049. Current best value is -0.8872043548239902 with parameters: {'feature_fraction': 0.9391494635740887, 'learning_rate': 0.011489801023534488, 'subsample': 0.9743763280438088, 'min_data_in_leaf': 11, 'min_sum_hessian_in_leaf': 0.004878397582435823, 'bagging_fraction': 0.8606956267620264, 'bagging_freq': 10, 'min_gain_to_split': 0.8425849469423922, 'lambda_l1': 0.4199204095485375, 'lambda_l2': 0.16053845444503495, 'num_leaves': 26, 'max_bin': 214}.\n"
     ]
    },
    {
     "name": "stdout",
     "output_type": "stream",
     "text": [
      "Training until validation scores don't improve for 100 rounds.\n",
      "Early stopping, best iteration is:\n",
      "[33]\tvalid_0's auc: 0.872735\n"
     ]
    },
    {
     "name": "stderr",
     "output_type": "stream",
     "text": [
      "[I 2019-04-08 02:17:00,993] Finished trial#86 resulted in value: -0.8727351776415309. Current best value is -0.8872043548239902 with parameters: {'feature_fraction': 0.9391494635740887, 'learning_rate': 0.011489801023534488, 'subsample': 0.9743763280438088, 'min_data_in_leaf': 11, 'min_sum_hessian_in_leaf': 0.004878397582435823, 'bagging_fraction': 0.8606956267620264, 'bagging_freq': 10, 'min_gain_to_split': 0.8425849469423922, 'lambda_l1': 0.4199204095485375, 'lambda_l2': 0.16053845444503495, 'num_leaves': 26, 'max_bin': 214}.\n"
     ]
    },
    {
     "name": "stdout",
     "output_type": "stream",
     "text": [
      "Training until validation scores don't improve for 100 rounds.\n",
      "Early stopping, best iteration is:\n",
      "[43]\tvalid_0's auc: 0.871536\n"
     ]
    },
    {
     "name": "stderr",
     "output_type": "stream",
     "text": [
      "[I 2019-04-08 02:17:16,639] Finished trial#87 resulted in value: -0.8715358726102672. Current best value is -0.8872043548239902 with parameters: {'feature_fraction': 0.9391494635740887, 'learning_rate': 0.011489801023534488, 'subsample': 0.9743763280438088, 'min_data_in_leaf': 11, 'min_sum_hessian_in_leaf': 0.004878397582435823, 'bagging_fraction': 0.8606956267620264, 'bagging_freq': 10, 'min_gain_to_split': 0.8425849469423922, 'lambda_l1': 0.4199204095485375, 'lambda_l2': 0.16053845444503495, 'num_leaves': 26, 'max_bin': 214}.\n"
     ]
    },
    {
     "name": "stdout",
     "output_type": "stream",
     "text": [
      "Training until validation scores don't improve for 100 rounds.\n",
      "[200]\tvalid_0's auc: 0.876826\n",
      "Early stopping, best iteration is:\n",
      "[175]\tvalid_0's auc: 0.877233\n"
     ]
    },
    {
     "name": "stderr",
     "output_type": "stream",
     "text": [
      "[I 2019-04-08 02:17:52,366] Finished trial#88 resulted in value: -0.8772329292946054. Current best value is -0.8872043548239902 with parameters: {'feature_fraction': 0.9391494635740887, 'learning_rate': 0.011489801023534488, 'subsample': 0.9743763280438088, 'min_data_in_leaf': 11, 'min_sum_hessian_in_leaf': 0.004878397582435823, 'bagging_fraction': 0.8606956267620264, 'bagging_freq': 10, 'min_gain_to_split': 0.8425849469423922, 'lambda_l1': 0.4199204095485375, 'lambda_l2': 0.16053845444503495, 'num_leaves': 26, 'max_bin': 214}.\n"
     ]
    },
    {
     "name": "stdout",
     "output_type": "stream",
     "text": [
      "Training until validation scores don't improve for 100 rounds.\n",
      "[200]\tvalid_0's auc: 0.878679\n",
      "[400]\tvalid_0's auc: 0.883115\n",
      "[600]\tvalid_0's auc: 0.88439\n",
      "[800]\tvalid_0's auc: 0.885126\n",
      "Early stopping, best iteration is:\n",
      "[786]\tvalid_0's auc: 0.885158\n"
     ]
    },
    {
     "name": "stderr",
     "output_type": "stream",
     "text": [
      "[I 2019-04-08 02:19:26,488] Finished trial#89 resulted in value: -0.8851583383803604. Current best value is -0.8872043548239902 with parameters: {'feature_fraction': 0.9391494635740887, 'learning_rate': 0.011489801023534488, 'subsample': 0.9743763280438088, 'min_data_in_leaf': 11, 'min_sum_hessian_in_leaf': 0.004878397582435823, 'bagging_fraction': 0.8606956267620264, 'bagging_freq': 10, 'min_gain_to_split': 0.8425849469423922, 'lambda_l1': 0.4199204095485375, 'lambda_l2': 0.16053845444503495, 'num_leaves': 26, 'max_bin': 214}.\n"
     ]
    },
    {
     "name": "stdout",
     "output_type": "stream",
     "text": [
      "Training until validation scores don't improve for 100 rounds.\n",
      "[200]\tvalid_0's auc: 0.865216\n",
      "[400]\tvalid_0's auc: 0.875979\n",
      "[600]\tvalid_0's auc: 0.88049\n",
      "[800]\tvalid_0's auc: 0.882596\n",
      "[1000]\tvalid_0's auc: 0.884341\n",
      "[1200]\tvalid_0's auc: 0.885211\n",
      "[1400]\tvalid_0's auc: 0.885803\n",
      "Early stopping, best iteration is:\n",
      "[1363]\tvalid_0's auc: 0.885828\n"
     ]
    },
    {
     "name": "stderr",
     "output_type": "stream",
     "text": [
      "[I 2019-04-08 02:22:34,774] Finished trial#90 resulted in value: -0.885827505053941. Current best value is -0.8872043548239902 with parameters: {'feature_fraction': 0.9391494635740887, 'learning_rate': 0.011489801023534488, 'subsample': 0.9743763280438088, 'min_data_in_leaf': 11, 'min_sum_hessian_in_leaf': 0.004878397582435823, 'bagging_fraction': 0.8606956267620264, 'bagging_freq': 10, 'min_gain_to_split': 0.8425849469423922, 'lambda_l1': 0.4199204095485375, 'lambda_l2': 0.16053845444503495, 'num_leaves': 26, 'max_bin': 214}.\n"
     ]
    },
    {
     "name": "stdout",
     "output_type": "stream",
     "text": [
      "Training until validation scores don't improve for 100 rounds.\n",
      "Early stopping, best iteration is:\n",
      "[77]\tvalid_0's auc: 0.871041\n"
     ]
    },
    {
     "name": "stderr",
     "output_type": "stream",
     "text": [
      "[I 2019-04-08 02:22:57,645] Finished trial#91 resulted in value: -0.8710408767723362. Current best value is -0.8872043548239902 with parameters: {'feature_fraction': 0.9391494635740887, 'learning_rate': 0.011489801023534488, 'subsample': 0.9743763280438088, 'min_data_in_leaf': 11, 'min_sum_hessian_in_leaf': 0.004878397582435823, 'bagging_fraction': 0.8606956267620264, 'bagging_freq': 10, 'min_gain_to_split': 0.8425849469423922, 'lambda_l1': 0.4199204095485375, 'lambda_l2': 0.16053845444503495, 'num_leaves': 26, 'max_bin': 214}.\n"
     ]
    },
    {
     "name": "stdout",
     "output_type": "stream",
     "text": [
      "Training until validation scores don't improve for 100 rounds.\n",
      "[200]\tvalid_0's auc: 0.88056\n",
      "[400]\tvalid_0's auc: 0.880831\n",
      "Early stopping, best iteration is:\n",
      "[365]\tvalid_0's auc: 0.881237\n"
     ]
    },
    {
     "name": "stderr",
     "output_type": "stream",
     "text": [
      "[I 2019-04-08 02:23:53,226] Finished trial#92 resulted in value: -0.8812374342849398. Current best value is -0.8872043548239902 with parameters: {'feature_fraction': 0.9391494635740887, 'learning_rate': 0.011489801023534488, 'subsample': 0.9743763280438088, 'min_data_in_leaf': 11, 'min_sum_hessian_in_leaf': 0.004878397582435823, 'bagging_fraction': 0.8606956267620264, 'bagging_freq': 10, 'min_gain_to_split': 0.8425849469423922, 'lambda_l1': 0.4199204095485375, 'lambda_l2': 0.16053845444503495, 'num_leaves': 26, 'max_bin': 214}.\n"
     ]
    },
    {
     "name": "stdout",
     "output_type": "stream",
     "text": [
      "Training until validation scores don't improve for 100 rounds.\n",
      "Early stopping, best iteration is:\n",
      "[41]\tvalid_0's auc: 0.869783\n"
     ]
    },
    {
     "name": "stderr",
     "output_type": "stream",
     "text": [
      "[I 2019-04-08 02:24:08,115] Finished trial#93 resulted in value: -0.8697830815350706. Current best value is -0.8872043548239902 with parameters: {'feature_fraction': 0.9391494635740887, 'learning_rate': 0.011489801023534488, 'subsample': 0.9743763280438088, 'min_data_in_leaf': 11, 'min_sum_hessian_in_leaf': 0.004878397582435823, 'bagging_fraction': 0.8606956267620264, 'bagging_freq': 10, 'min_gain_to_split': 0.8425849469423922, 'lambda_l1': 0.4199204095485375, 'lambda_l2': 0.16053845444503495, 'num_leaves': 26, 'max_bin': 214}.\n"
     ]
    },
    {
     "name": "stdout",
     "output_type": "stream",
     "text": [
      "Training until validation scores don't improve for 100 rounds.\n",
      "[200]\tvalid_0's auc: 0.878771\n",
      "Early stopping, best iteration is:\n",
      "[175]\tvalid_0's auc: 0.879327\n"
     ]
    },
    {
     "name": "stderr",
     "output_type": "stream",
     "text": [
      "[I 2019-04-08 02:24:39,381] Finished trial#94 resulted in value: -0.8793268924969372. Current best value is -0.8872043548239902 with parameters: {'feature_fraction': 0.9391494635740887, 'learning_rate': 0.011489801023534488, 'subsample': 0.9743763280438088, 'min_data_in_leaf': 11, 'min_sum_hessian_in_leaf': 0.004878397582435823, 'bagging_fraction': 0.8606956267620264, 'bagging_freq': 10, 'min_gain_to_split': 0.8425849469423922, 'lambda_l1': 0.4199204095485375, 'lambda_l2': 0.16053845444503495, 'num_leaves': 26, 'max_bin': 214}.\n"
     ]
    },
    {
     "name": "stdout",
     "output_type": "stream",
     "text": [
      "Training until validation scores don't improve for 100 rounds.\n",
      "[200]\tvalid_0's auc: 0.879931\n",
      "Early stopping, best iteration is:\n",
      "[163]\tvalid_0's auc: 0.88032\n"
     ]
    },
    {
     "name": "stderr",
     "output_type": "stream",
     "text": [
      "[I 2019-04-08 02:25:09,333] Finished trial#95 resulted in value: -0.880320458574277. Current best value is -0.8872043548239902 with parameters: {'feature_fraction': 0.9391494635740887, 'learning_rate': 0.011489801023534488, 'subsample': 0.9743763280438088, 'min_data_in_leaf': 11, 'min_sum_hessian_in_leaf': 0.004878397582435823, 'bagging_fraction': 0.8606956267620264, 'bagging_freq': 10, 'min_gain_to_split': 0.8425849469423922, 'lambda_l1': 0.4199204095485375, 'lambda_l2': 0.16053845444503495, 'num_leaves': 26, 'max_bin': 214}.\n"
     ]
    },
    {
     "name": "stdout",
     "output_type": "stream",
     "text": [
      "Training until validation scores don't improve for 100 rounds.\n",
      "Early stopping, best iteration is:\n",
      "[55]\tvalid_0's auc: 0.872142\n"
     ]
    },
    {
     "name": "stderr",
     "output_type": "stream",
     "text": [
      "[I 2019-04-08 02:25:30,185] Finished trial#96 resulted in value: -0.8721423109577184. Current best value is -0.8872043548239902 with parameters: {'feature_fraction': 0.9391494635740887, 'learning_rate': 0.011489801023534488, 'subsample': 0.9743763280438088, 'min_data_in_leaf': 11, 'min_sum_hessian_in_leaf': 0.004878397582435823, 'bagging_fraction': 0.8606956267620264, 'bagging_freq': 10, 'min_gain_to_split': 0.8425849469423922, 'lambda_l1': 0.4199204095485375, 'lambda_l2': 0.16053845444503495, 'num_leaves': 26, 'max_bin': 214}.\n"
     ]
    },
    {
     "name": "stdout",
     "output_type": "stream",
     "text": [
      "Training until validation scores don't improve for 100 rounds.\n",
      "[200]\tvalid_0's auc: 0.874728\n",
      "Early stopping, best iteration is:\n",
      "[120]\tvalid_0's auc: 0.87692\n"
     ]
    },
    {
     "name": "stderr",
     "output_type": "stream",
     "text": [
      "[I 2019-04-08 02:25:56,446] Finished trial#97 resulted in value: -0.8769201103985355. Current best value is -0.8872043548239902 with parameters: {'feature_fraction': 0.9391494635740887, 'learning_rate': 0.011489801023534488, 'subsample': 0.9743763280438088, 'min_data_in_leaf': 11, 'min_sum_hessian_in_leaf': 0.004878397582435823, 'bagging_fraction': 0.8606956267620264, 'bagging_freq': 10, 'min_gain_to_split': 0.8425849469423922, 'lambda_l1': 0.4199204095485375, 'lambda_l2': 0.16053845444503495, 'num_leaves': 26, 'max_bin': 214}.\n"
     ]
    },
    {
     "name": "stdout",
     "output_type": "stream",
     "text": [
      "Training until validation scores don't improve for 100 rounds.\n",
      "Early stopping, best iteration is:\n",
      "[17]\tvalid_0's auc: 0.862881\n"
     ]
    },
    {
     "name": "stderr",
     "output_type": "stream",
     "text": [
      "[I 2019-04-08 02:26:06,779] Finished trial#98 resulted in value: -0.8628809745049074. Current best value is -0.8872043548239902 with parameters: {'feature_fraction': 0.9391494635740887, 'learning_rate': 0.011489801023534488, 'subsample': 0.9743763280438088, 'min_data_in_leaf': 11, 'min_sum_hessian_in_leaf': 0.004878397582435823, 'bagging_fraction': 0.8606956267620264, 'bagging_freq': 10, 'min_gain_to_split': 0.8425849469423922, 'lambda_l1': 0.4199204095485375, 'lambda_l2': 0.16053845444503495, 'num_leaves': 26, 'max_bin': 214}.\n"
     ]
    },
    {
     "name": "stdout",
     "output_type": "stream",
     "text": [
      "Training until validation scores don't improve for 100 rounds.\n",
      "Early stopping, best iteration is:\n",
      "[49]\tvalid_0's auc: 0.87006\n"
     ]
    },
    {
     "name": "stderr",
     "output_type": "stream",
     "text": [
      "[I 2019-04-08 02:26:22,457] Finished trial#99 resulted in value: -0.8700604122245912. Current best value is -0.8872043548239902 with parameters: {'feature_fraction': 0.9391494635740887, 'learning_rate': 0.011489801023534488, 'subsample': 0.9743763280438088, 'min_data_in_leaf': 11, 'min_sum_hessian_in_leaf': 0.004878397582435823, 'bagging_fraction': 0.8606956267620264, 'bagging_freq': 10, 'min_gain_to_split': 0.8425849469423922, 'lambda_l1': 0.4199204095485375, 'lambda_l2': 0.16053845444503495, 'num_leaves': 26, 'max_bin': 214}.\n"
     ]
    },
    {
     "name": "stdout",
     "output_type": "stream",
     "text": [
      "Training until validation scores don't improve for 100 rounds.\n",
      "[200]\tvalid_0's auc: 0.881325\n",
      "[400]\tvalid_0's auc: 0.882948\n",
      "Early stopping, best iteration is:\n",
      "[370]\tvalid_0's auc: 0.882988\n"
     ]
    },
    {
     "name": "stderr",
     "output_type": "stream",
     "text": [
      "[I 2019-04-08 02:27:24,736] Finished trial#100 resulted in value: -0.8829880613607892. Current best value is -0.8872043548239902 with parameters: {'feature_fraction': 0.9391494635740887, 'learning_rate': 0.011489801023534488, 'subsample': 0.9743763280438088, 'min_data_in_leaf': 11, 'min_sum_hessian_in_leaf': 0.004878397582435823, 'bagging_fraction': 0.8606956267620264, 'bagging_freq': 10, 'min_gain_to_split': 0.8425849469423922, 'lambda_l1': 0.4199204095485375, 'lambda_l2': 0.16053845444503495, 'num_leaves': 26, 'max_bin': 214}.\n"
     ]
    },
    {
     "name": "stdout",
     "output_type": "stream",
     "text": [
      "Training until validation scores don't improve for 100 rounds.\n",
      "Early stopping, best iteration is:\n",
      "[11]\tvalid_0's auc: 0.86154\n"
     ]
    },
    {
     "name": "stderr",
     "output_type": "stream",
     "text": [
      "[I 2019-04-08 02:27:35,370] Finished trial#101 resulted in value: -0.8615400381361673. Current best value is -0.8872043548239902 with parameters: {'feature_fraction': 0.9391494635740887, 'learning_rate': 0.011489801023534488, 'subsample': 0.9743763280438088, 'min_data_in_leaf': 11, 'min_sum_hessian_in_leaf': 0.004878397582435823, 'bagging_fraction': 0.8606956267620264, 'bagging_freq': 10, 'min_gain_to_split': 0.8425849469423922, 'lambda_l1': 0.4199204095485375, 'lambda_l2': 0.16053845444503495, 'num_leaves': 26, 'max_bin': 214}.\n"
     ]
    },
    {
     "name": "stdout",
     "output_type": "stream",
     "text": [
      "Training until validation scores don't improve for 100 rounds.\n",
      "[200]\tvalid_0's auc: 0.87928\n",
      "[400]\tvalid_0's auc: 0.883787\n",
      "[600]\tvalid_0's auc: 0.884422\n",
      "Early stopping, best iteration is:\n",
      "[553]\tvalid_0's auc: 0.884542\n"
     ]
    },
    {
     "name": "stderr",
     "output_type": "stream",
     "text": [
      "[I 2019-04-08 02:28:57,088] Finished trial#102 resulted in value: -0.8845420548729392. Current best value is -0.8872043548239902 with parameters: {'feature_fraction': 0.9391494635740887, 'learning_rate': 0.011489801023534488, 'subsample': 0.9743763280438088, 'min_data_in_leaf': 11, 'min_sum_hessian_in_leaf': 0.004878397582435823, 'bagging_fraction': 0.8606956267620264, 'bagging_freq': 10, 'min_gain_to_split': 0.8425849469423922, 'lambda_l1': 0.4199204095485375, 'lambda_l2': 0.16053845444503495, 'num_leaves': 26, 'max_bin': 214}.\n"
     ]
    },
    {
     "name": "stdout",
     "output_type": "stream",
     "text": [
      "Training until validation scores don't improve for 100 rounds.\n",
      "Early stopping, best iteration is:\n",
      "[29]\tvalid_0's auc: 0.868184\n"
     ]
    },
    {
     "name": "stderr",
     "output_type": "stream",
     "text": [
      "[I 2019-04-08 02:29:15,079] Finished trial#103 resulted in value: -0.8681840035508948. Current best value is -0.8872043548239902 with parameters: {'feature_fraction': 0.9391494635740887, 'learning_rate': 0.011489801023534488, 'subsample': 0.9743763280438088, 'min_data_in_leaf': 11, 'min_sum_hessian_in_leaf': 0.004878397582435823, 'bagging_fraction': 0.8606956267620264, 'bagging_freq': 10, 'min_gain_to_split': 0.8425849469423922, 'lambda_l1': 0.4199204095485375, 'lambda_l2': 0.16053845444503495, 'num_leaves': 26, 'max_bin': 214}.\n"
     ]
    },
    {
     "name": "stdout",
     "output_type": "stream",
     "text": [
      "Training until validation scores don't improve for 100 rounds.\n",
      "Early stopping, best iteration is:\n",
      "[8]\tvalid_0's auc: 0.859567\n"
     ]
    },
    {
     "name": "stderr",
     "output_type": "stream",
     "text": [
      "[I 2019-04-08 02:29:23,264] Finished trial#104 resulted in value: -0.8595673314915141. Current best value is -0.8872043548239902 with parameters: {'feature_fraction': 0.9391494635740887, 'learning_rate': 0.011489801023534488, 'subsample': 0.9743763280438088, 'min_data_in_leaf': 11, 'min_sum_hessian_in_leaf': 0.004878397582435823, 'bagging_fraction': 0.8606956267620264, 'bagging_freq': 10, 'min_gain_to_split': 0.8425849469423922, 'lambda_l1': 0.4199204095485375, 'lambda_l2': 0.16053845444503495, 'num_leaves': 26, 'max_bin': 214}.\n"
     ]
    },
    {
     "name": "stdout",
     "output_type": "stream",
     "text": [
      "Training until validation scores don't improve for 100 rounds.\n",
      "Early stopping, best iteration is:\n",
      "[17]\tvalid_0's auc: 0.86431\n"
     ]
    },
    {
     "name": "stderr",
     "output_type": "stream",
     "text": [
      "[I 2019-04-08 02:29:38,202] Finished trial#105 resulted in value: -0.8643098985340114. Current best value is -0.8872043548239902 with parameters: {'feature_fraction': 0.9391494635740887, 'learning_rate': 0.011489801023534488, 'subsample': 0.9743763280438088, 'min_data_in_leaf': 11, 'min_sum_hessian_in_leaf': 0.004878397582435823, 'bagging_fraction': 0.8606956267620264, 'bagging_freq': 10, 'min_gain_to_split': 0.8425849469423922, 'lambda_l1': 0.4199204095485375, 'lambda_l2': 0.16053845444503495, 'num_leaves': 26, 'max_bin': 214}.\n"
     ]
    },
    {
     "name": "stdout",
     "output_type": "stream",
     "text": [
      "Training until validation scores don't improve for 100 rounds.\n",
      "Early stopping, best iteration is:\n",
      "[9]\tvalid_0's auc: 0.857911\n"
     ]
    },
    {
     "name": "stderr",
     "output_type": "stream",
     "text": [
      "[I 2019-04-08 02:29:47,603] Finished trial#106 resulted in value: -0.8579112912369778. Current best value is -0.8872043548239902 with parameters: {'feature_fraction': 0.9391494635740887, 'learning_rate': 0.011489801023534488, 'subsample': 0.9743763280438088, 'min_data_in_leaf': 11, 'min_sum_hessian_in_leaf': 0.004878397582435823, 'bagging_fraction': 0.8606956267620264, 'bagging_freq': 10, 'min_gain_to_split': 0.8425849469423922, 'lambda_l1': 0.4199204095485375, 'lambda_l2': 0.16053845444503495, 'num_leaves': 26, 'max_bin': 214}.\n"
     ]
    },
    {
     "name": "stdout",
     "output_type": "stream",
     "text": [
      "Training until validation scores don't improve for 100 rounds.\n",
      "Early stopping, best iteration is:\n",
      "[31]\tvalid_0's auc: 0.866272\n"
     ]
    },
    {
     "name": "stderr",
     "output_type": "stream",
     "text": [
      "[I 2019-04-08 02:30:00,828] Finished trial#107 resulted in value: -0.8662721274118568. Current best value is -0.8872043548239902 with parameters: {'feature_fraction': 0.9391494635740887, 'learning_rate': 0.011489801023534488, 'subsample': 0.9743763280438088, 'min_data_in_leaf': 11, 'min_sum_hessian_in_leaf': 0.004878397582435823, 'bagging_fraction': 0.8606956267620264, 'bagging_freq': 10, 'min_gain_to_split': 0.8425849469423922, 'lambda_l1': 0.4199204095485375, 'lambda_l2': 0.16053845444503495, 'num_leaves': 26, 'max_bin': 214}.\n"
     ]
    },
    {
     "name": "stdout",
     "output_type": "stream",
     "text": [
      "Training until validation scores don't improve for 100 rounds.\n",
      "[200]\tvalid_0's auc: 0.858357\n",
      "[400]\tvalid_0's auc: 0.861083\n",
      "[600]\tvalid_0's auc: 0.863559\n",
      "[800]\tvalid_0's auc: 0.867579\n",
      "[1000]\tvalid_0's auc: 0.870962\n",
      "[1200]\tvalid_0's auc: 0.874042\n",
      "[1400]\tvalid_0's auc: 0.876103\n",
      "[1600]\tvalid_0's auc: 0.877747\n",
      "[1800]\tvalid_0's auc: 0.879126\n",
      "[2000]\tvalid_0's auc: 0.880297\n",
      "[2200]\tvalid_0's auc: 0.881205\n",
      "[2400]\tvalid_0's auc: 0.882056\n",
      "[2600]\tvalid_0's auc: 0.882782\n",
      "[2800]\tvalid_0's auc: 0.883426\n",
      "[3000]\tvalid_0's auc: 0.883953\n",
      "[3200]\tvalid_0's auc: 0.884546\n",
      "[3400]\tvalid_0's auc: 0.885002\n",
      "[3600]\tvalid_0's auc: 0.885335\n",
      "[3800]\tvalid_0's auc: 0.88572\n",
      "[4000]\tvalid_0's auc: 0.885942\n",
      "[4200]\tvalid_0's auc: 0.886231\n",
      "[4400]\tvalid_0's auc: 0.886439\n",
      "[4600]\tvalid_0's auc: 0.886666\n",
      "[4800]\tvalid_0's auc: 0.886904\n",
      "[5000]\tvalid_0's auc: 0.887008\n",
      "[5200]\tvalid_0's auc: 0.887074\n",
      "[5400]\tvalid_0's auc: 0.887157\n",
      "[5600]\tvalid_0's auc: 0.887215\n",
      "[5800]\tvalid_0's auc: 0.8873\n",
      "[6000]\tvalid_0's auc: 0.887373\n",
      "Early stopping, best iteration is:\n",
      "[6097]\tvalid_0's auc: 0.887411\n"
     ]
    },
    {
     "name": "stderr",
     "output_type": "stream",
     "text": [
      "[I 2019-04-08 02:42:12,693] Finished trial#108 resulted in value: -0.8874108750300748. Current best value is -0.8874108750300748 with parameters: {'feature_fraction': 0.811841284297088, 'learning_rate': 0.005170500219831276, 'subsample': 0.9031375748573036, 'min_data_in_leaf': 23, 'min_sum_hessian_in_leaf': 0.004143313381895846, 'bagging_fraction': 0.8853489759295792, 'bagging_freq': 7, 'min_gain_to_split': 0.930373573068011, 'lambda_l1': 0.3019575587698339, 'lambda_l2': 0.3267317460704795, 'num_leaves': 27, 'max_bin': 182}.\n"
     ]
    },
    {
     "name": "stdout",
     "output_type": "stream",
     "text": [
      "Training until validation scores don't improve for 100 rounds.\n",
      "[200]\tvalid_0's auc: 0.882763\n",
      "Early stopping, best iteration is:\n",
      "[211]\tvalid_0's auc: 0.882891\n"
     ]
    },
    {
     "name": "stderr",
     "output_type": "stream",
     "text": [
      "[I 2019-04-08 02:42:52,976] Finished trial#109 resulted in value: -0.8828906952176306. Current best value is -0.8874108750300748 with parameters: {'feature_fraction': 0.811841284297088, 'learning_rate': 0.005170500219831276, 'subsample': 0.9031375748573036, 'min_data_in_leaf': 23, 'min_sum_hessian_in_leaf': 0.004143313381895846, 'bagging_fraction': 0.8853489759295792, 'bagging_freq': 7, 'min_gain_to_split': 0.930373573068011, 'lambda_l1': 0.3019575587698339, 'lambda_l2': 0.3267317460704795, 'num_leaves': 27, 'max_bin': 182}.\n"
     ]
    },
    {
     "name": "stdout",
     "output_type": "stream",
     "text": [
      "Training until validation scores don't improve for 100 rounds.\n",
      "Early stopping, best iteration is:\n",
      "[62]\tvalid_0's auc: 0.87559\n"
     ]
    },
    {
     "name": "stderr",
     "output_type": "stream",
     "text": [
      "[I 2019-04-08 02:43:11,536] Finished trial#110 resulted in value: -0.875590115016911. Current best value is -0.8874108750300748 with parameters: {'feature_fraction': 0.811841284297088, 'learning_rate': 0.005170500219831276, 'subsample': 0.9031375748573036, 'min_data_in_leaf': 23, 'min_sum_hessian_in_leaf': 0.004143313381895846, 'bagging_fraction': 0.8853489759295792, 'bagging_freq': 7, 'min_gain_to_split': 0.930373573068011, 'lambda_l1': 0.3019575587698339, 'lambda_l2': 0.3267317460704795, 'num_leaves': 27, 'max_bin': 182}.\n"
     ]
    },
    {
     "name": "stdout",
     "output_type": "stream",
     "text": [
      "Training until validation scores don't improve for 100 rounds.\n",
      "[200]\tvalid_0's auc: 0.878907\n",
      "Early stopping, best iteration is:\n",
      "[119]\tvalid_0's auc: 0.879527\n"
     ]
    },
    {
     "name": "stderr",
     "output_type": "stream",
     "text": [
      "[I 2019-04-08 02:43:38,893] Finished trial#111 resulted in value: -0.879526996756075. Current best value is -0.8874108750300748 with parameters: {'feature_fraction': 0.811841284297088, 'learning_rate': 0.005170500219831276, 'subsample': 0.9031375748573036, 'min_data_in_leaf': 23, 'min_sum_hessian_in_leaf': 0.004143313381895846, 'bagging_fraction': 0.8853489759295792, 'bagging_freq': 7, 'min_gain_to_split': 0.930373573068011, 'lambda_l1': 0.3019575587698339, 'lambda_l2': 0.3267317460704795, 'num_leaves': 27, 'max_bin': 182}.\n"
     ]
    },
    {
     "name": "stdout",
     "output_type": "stream",
     "text": [
      "Training until validation scores don't improve for 100 rounds.\n",
      "Early stopping, best iteration is:\n",
      "[13]\tvalid_0's auc: 0.862218\n"
     ]
    },
    {
     "name": "stderr",
     "output_type": "stream",
     "text": [
      "[I 2019-04-08 02:43:53,259] Finished trial#112 resulted in value: -0.8622179057464209. Current best value is -0.8874108750300748 with parameters: {'feature_fraction': 0.811841284297088, 'learning_rate': 0.005170500219831276, 'subsample': 0.9031375748573036, 'min_data_in_leaf': 23, 'min_sum_hessian_in_leaf': 0.004143313381895846, 'bagging_fraction': 0.8853489759295792, 'bagging_freq': 7, 'min_gain_to_split': 0.930373573068011, 'lambda_l1': 0.3019575587698339, 'lambda_l2': 0.3267317460704795, 'num_leaves': 27, 'max_bin': 182}.\n"
     ]
    },
    {
     "name": "stdout",
     "output_type": "stream",
     "text": [
      "Training until validation scores don't improve for 100 rounds.\n",
      "Early stopping, best iteration is:\n",
      "[21]\tvalid_0's auc: 0.867797\n"
     ]
    },
    {
     "name": "stderr",
     "output_type": "stream",
     "text": [
      "[I 2019-04-08 02:44:07,544] Finished trial#113 resulted in value: -0.8677965370479455. Current best value is -0.8874108750300748 with parameters: {'feature_fraction': 0.811841284297088, 'learning_rate': 0.005170500219831276, 'subsample': 0.9031375748573036, 'min_data_in_leaf': 23, 'min_sum_hessian_in_leaf': 0.004143313381895846, 'bagging_fraction': 0.8853489759295792, 'bagging_freq': 7, 'min_gain_to_split': 0.930373573068011, 'lambda_l1': 0.3019575587698339, 'lambda_l2': 0.3267317460704795, 'num_leaves': 27, 'max_bin': 182}.\n"
     ]
    },
    {
     "name": "stdout",
     "output_type": "stream",
     "text": [
      "Training until validation scores don't improve for 100 rounds.\n",
      "[200]\tvalid_0's auc: 0.853118\n",
      "[400]\tvalid_0's auc: 0.856186\n",
      "[600]\tvalid_0's auc: 0.857357\n",
      "[800]\tvalid_0's auc: 0.858321\n",
      "[1000]\tvalid_0's auc: 0.859057\n",
      "[1200]\tvalid_0's auc: 0.859695\n",
      "[1400]\tvalid_0's auc: 0.860287\n",
      "[1600]\tvalid_0's auc: 0.86084\n",
      "[1800]\tvalid_0's auc: 0.861429\n",
      "[2000]\tvalid_0's auc: 0.862\n",
      "[2200]\tvalid_0's auc: 0.862737\n",
      "[2400]\tvalid_0's auc: 0.86358\n",
      "[2600]\tvalid_0's auc: 0.864557\n",
      "[2800]\tvalid_0's auc: 0.865681\n",
      "[3000]\tvalid_0's auc: 0.866684\n",
      "[3200]\tvalid_0's auc: 0.867727\n",
      "[3400]\tvalid_0's auc: 0.868711\n",
      "[3600]\tvalid_0's auc: 0.869614\n",
      "[3800]\tvalid_0's auc: 0.870371\n",
      "[4000]\tvalid_0's auc: 0.871188\n",
      "[4200]\tvalid_0's auc: 0.872003\n",
      "[4400]\tvalid_0's auc: 0.872752\n",
      "[4600]\tvalid_0's auc: 0.873425\n",
      "[4800]\tvalid_0's auc: 0.874033\n",
      "[5000]\tvalid_0's auc: 0.874667\n",
      "[5200]\tvalid_0's auc: 0.875225\n",
      "[5400]\tvalid_0's auc: 0.875747\n",
      "[5600]\tvalid_0's auc: 0.87621\n",
      "[5800]\tvalid_0's auc: 0.876669\n",
      "[6000]\tvalid_0's auc: 0.877087\n",
      "[6200]\tvalid_0's auc: 0.877454\n",
      "[6400]\tvalid_0's auc: 0.877866\n",
      "[6600]\tvalid_0's auc: 0.878201\n",
      "[6800]\tvalid_0's auc: 0.878557\n",
      "[7000]\tvalid_0's auc: 0.878832\n",
      "[7200]\tvalid_0's auc: 0.87913\n",
      "[7400]\tvalid_0's auc: 0.879412\n",
      "[7600]\tvalid_0's auc: 0.879691\n",
      "[7800]\tvalid_0's auc: 0.879981\n",
      "[8000]\tvalid_0's auc: 0.880229\n",
      "[8200]\tvalid_0's auc: 0.880479\n",
      "[8400]\tvalid_0's auc: 0.880696\n",
      "[8600]\tvalid_0's auc: 0.88093\n",
      "[8800]\tvalid_0's auc: 0.881151\n",
      "[9000]\tvalid_0's auc: 0.881351\n",
      "[9200]\tvalid_0's auc: 0.881544\n",
      "[9400]\tvalid_0's auc: 0.881741\n",
      "[9600]\tvalid_0's auc: 0.881952\n",
      "[9800]\tvalid_0's auc: 0.882134\n",
      "[10000]\tvalid_0's auc: 0.882306\n",
      "Did not meet early stopping. Best iteration is:\n",
      "[10000]\tvalid_0's auc: 0.882306\n"
     ]
    },
    {
     "name": "stderr",
     "output_type": "stream",
     "text": [
      "[I 2019-04-08 03:04:37,057] Finished trial#114 resulted in value: -0.8823055442631202. Current best value is -0.8874108750300748 with parameters: {'feature_fraction': 0.811841284297088, 'learning_rate': 0.005170500219831276, 'subsample': 0.9031375748573036, 'min_data_in_leaf': 23, 'min_sum_hessian_in_leaf': 0.004143313381895846, 'bagging_fraction': 0.8853489759295792, 'bagging_freq': 7, 'min_gain_to_split': 0.930373573068011, 'lambda_l1': 0.3019575587698339, 'lambda_l2': 0.3267317460704795, 'num_leaves': 27, 'max_bin': 182}.\n"
     ]
    },
    {
     "name": "stdout",
     "output_type": "stream",
     "text": [
      "Training until validation scores don't improve for 100 rounds.\n",
      "Early stopping, best iteration is:\n",
      "[18]\tvalid_0's auc: 0.866398\n"
     ]
    },
    {
     "name": "stderr",
     "output_type": "stream",
     "text": [
      "[I 2019-04-08 03:04:51,809] Finished trial#115 resulted in value: -0.8663984482811069. Current best value is -0.8874108750300748 with parameters: {'feature_fraction': 0.811841284297088, 'learning_rate': 0.005170500219831276, 'subsample': 0.9031375748573036, 'min_data_in_leaf': 23, 'min_sum_hessian_in_leaf': 0.004143313381895846, 'bagging_fraction': 0.8853489759295792, 'bagging_freq': 7, 'min_gain_to_split': 0.930373573068011, 'lambda_l1': 0.3019575587698339, 'lambda_l2': 0.3267317460704795, 'num_leaves': 27, 'max_bin': 182}.\n"
     ]
    },
    {
     "name": "stdout",
     "output_type": "stream",
     "text": [
      "Training until validation scores don't improve for 100 rounds.\n",
      "Early stopping, best iteration is:\n",
      "[53]\tvalid_0's auc: 0.874864\n"
     ]
    },
    {
     "name": "stderr",
     "output_type": "stream",
     "text": [
      "[I 2019-04-08 03:05:13,341] Finished trial#116 resulted in value: -0.8748635228526628. Current best value is -0.8874108750300748 with parameters: {'feature_fraction': 0.811841284297088, 'learning_rate': 0.005170500219831276, 'subsample': 0.9031375748573036, 'min_data_in_leaf': 23, 'min_sum_hessian_in_leaf': 0.004143313381895846, 'bagging_fraction': 0.8853489759295792, 'bagging_freq': 7, 'min_gain_to_split': 0.930373573068011, 'lambda_l1': 0.3019575587698339, 'lambda_l2': 0.3267317460704795, 'num_leaves': 27, 'max_bin': 182}.\n"
     ]
    },
    {
     "name": "stdout",
     "output_type": "stream",
     "text": [
      "Training until validation scores don't improve for 100 rounds.\n",
      "[200]\tvalid_0's auc: 0.879058\n",
      "Early stopping, best iteration is:\n",
      "[233]\tvalid_0's auc: 0.879493\n"
     ]
    },
    {
     "name": "stderr",
     "output_type": "stream",
     "text": [
      "[I 2019-04-08 03:05:46,229] Finished trial#117 resulted in value: -0.8794934029131717. Current best value is -0.8874108750300748 with parameters: {'feature_fraction': 0.811841284297088, 'learning_rate': 0.005170500219831276, 'subsample': 0.9031375748573036, 'min_data_in_leaf': 23, 'min_sum_hessian_in_leaf': 0.004143313381895846, 'bagging_fraction': 0.8853489759295792, 'bagging_freq': 7, 'min_gain_to_split': 0.930373573068011, 'lambda_l1': 0.3019575587698339, 'lambda_l2': 0.3267317460704795, 'num_leaves': 27, 'max_bin': 182}.\n"
     ]
    },
    {
     "name": "stdout",
     "output_type": "stream",
     "text": [
      "Training until validation scores don't improve for 100 rounds.\n",
      "[200]\tvalid_0's auc: 0.874776\n",
      "[400]\tvalid_0's auc: 0.881976\n",
      "[600]\tvalid_0's auc: 0.884075\n",
      "[800]\tvalid_0's auc: 0.884991\n",
      "[1000]\tvalid_0's auc: 0.88553\n",
      "Early stopping, best iteration is:\n",
      "[989]\tvalid_0's auc: 0.885615\n"
     ]
    },
    {
     "name": "stderr",
     "output_type": "stream",
     "text": [
      "[I 2019-04-08 03:08:20,653] Finished trial#118 resulted in value: -0.8856151634821998. Current best value is -0.8874108750300748 with parameters: {'feature_fraction': 0.811841284297088, 'learning_rate': 0.005170500219831276, 'subsample': 0.9031375748573036, 'min_data_in_leaf': 23, 'min_sum_hessian_in_leaf': 0.004143313381895846, 'bagging_fraction': 0.8853489759295792, 'bagging_freq': 7, 'min_gain_to_split': 0.930373573068011, 'lambda_l1': 0.3019575587698339, 'lambda_l2': 0.3267317460704795, 'num_leaves': 27, 'max_bin': 182}.\n"
     ]
    },
    {
     "name": "stdout",
     "output_type": "stream",
     "text": [
      "Training until validation scores don't improve for 100 rounds.\n",
      "[200]\tvalid_0's auc: 0.877338\n",
      "Early stopping, best iteration is:\n",
      "[127]\tvalid_0's auc: 0.877906\n"
     ]
    },
    {
     "name": "stderr",
     "output_type": "stream",
     "text": [
      "[I 2019-04-08 03:08:51,339] Finished trial#119 resulted in value: -0.8779062165548024. Current best value is -0.8874108750300748 with parameters: {'feature_fraction': 0.811841284297088, 'learning_rate': 0.005170500219831276, 'subsample': 0.9031375748573036, 'min_data_in_leaf': 23, 'min_sum_hessian_in_leaf': 0.004143313381895846, 'bagging_fraction': 0.8853489759295792, 'bagging_freq': 7, 'min_gain_to_split': 0.930373573068011, 'lambda_l1': 0.3019575587698339, 'lambda_l2': 0.3267317460704795, 'num_leaves': 27, 'max_bin': 182}.\n"
     ]
    },
    {
     "name": "stdout",
     "output_type": "stream",
     "text": [
      "Training until validation scores don't improve for 100 rounds.\n",
      "Early stopping, best iteration is:\n",
      "[40]\tvalid_0's auc: 0.873333\n"
     ]
    },
    {
     "name": "stderr",
     "output_type": "stream",
     "text": [
      "[I 2019-04-08 03:09:06,621] Finished trial#120 resulted in value: -0.8733333195058617. Current best value is -0.8874108750300748 with parameters: {'feature_fraction': 0.811841284297088, 'learning_rate': 0.005170500219831276, 'subsample': 0.9031375748573036, 'min_data_in_leaf': 23, 'min_sum_hessian_in_leaf': 0.004143313381895846, 'bagging_fraction': 0.8853489759295792, 'bagging_freq': 7, 'min_gain_to_split': 0.930373573068011, 'lambda_l1': 0.3019575587698339, 'lambda_l2': 0.3267317460704795, 'num_leaves': 27, 'max_bin': 182}.\n"
     ]
    },
    {
     "name": "stdout",
     "output_type": "stream",
     "text": [
      "Training until validation scores don't improve for 100 rounds.\n",
      "[200]\tvalid_0's auc: 0.881539\n",
      "Early stopping, best iteration is:\n",
      "[296]\tvalid_0's auc: 0.882563\n"
     ]
    },
    {
     "name": "stderr",
     "output_type": "stream",
     "text": [
      "[I 2019-04-08 03:10:07,716] Finished trial#121 resulted in value: -0.8825630740129259. Current best value is -0.8874108750300748 with parameters: {'feature_fraction': 0.811841284297088, 'learning_rate': 0.005170500219831276, 'subsample': 0.9031375748573036, 'min_data_in_leaf': 23, 'min_sum_hessian_in_leaf': 0.004143313381895846, 'bagging_fraction': 0.8853489759295792, 'bagging_freq': 7, 'min_gain_to_split': 0.930373573068011, 'lambda_l1': 0.3019575587698339, 'lambda_l2': 0.3267317460704795, 'num_leaves': 27, 'max_bin': 182}.\n"
     ]
    },
    {
     "name": "stdout",
     "output_type": "stream",
     "text": [
      "Training until validation scores don't improve for 100 rounds.\n",
      "Early stopping, best iteration is:\n",
      "[57]\tvalid_0's auc: 0.875761\n"
     ]
    },
    {
     "name": "stderr",
     "output_type": "stream",
     "text": [
      "[I 2019-04-08 03:10:25,606] Finished trial#122 resulted in value: -0.8757611470164465. Current best value is -0.8874108750300748 with parameters: {'feature_fraction': 0.811841284297088, 'learning_rate': 0.005170500219831276, 'subsample': 0.9031375748573036, 'min_data_in_leaf': 23, 'min_sum_hessian_in_leaf': 0.004143313381895846, 'bagging_fraction': 0.8853489759295792, 'bagging_freq': 7, 'min_gain_to_split': 0.930373573068011, 'lambda_l1': 0.3019575587698339, 'lambda_l2': 0.3267317460704795, 'num_leaves': 27, 'max_bin': 182}.\n"
     ]
    },
    {
     "name": "stdout",
     "output_type": "stream",
     "text": [
      "Training until validation scores don't improve for 100 rounds.\n",
      "[200]\tvalid_0's auc: 0.880896\n",
      "Early stopping, best iteration is:\n",
      "[176]\tvalid_0's auc: 0.881096\n"
     ]
    },
    {
     "name": "stderr",
     "output_type": "stream",
     "text": [
      "[I 2019-04-08 03:11:01,575] Finished trial#123 resulted in value: -0.8810957234395007. Current best value is -0.8874108750300748 with parameters: {'feature_fraction': 0.811841284297088, 'learning_rate': 0.005170500219831276, 'subsample': 0.9031375748573036, 'min_data_in_leaf': 23, 'min_sum_hessian_in_leaf': 0.004143313381895846, 'bagging_fraction': 0.8853489759295792, 'bagging_freq': 7, 'min_gain_to_split': 0.930373573068011, 'lambda_l1': 0.3019575587698339, 'lambda_l2': 0.3267317460704795, 'num_leaves': 27, 'max_bin': 182}.\n"
     ]
    },
    {
     "name": "stdout",
     "output_type": "stream",
     "text": [
      "Training until validation scores don't improve for 100 rounds.\n",
      "[200]\tvalid_0's auc: 0.876542\n",
      "Early stopping, best iteration is:\n",
      "[121]\tvalid_0's auc: 0.878267\n"
     ]
    },
    {
     "name": "stderr",
     "output_type": "stream",
     "text": [
      "[I 2019-04-08 03:11:32,256] Finished trial#124 resulted in value: -0.8782665397304751. Current best value is -0.8874108750300748 with parameters: {'feature_fraction': 0.811841284297088, 'learning_rate': 0.005170500219831276, 'subsample': 0.9031375748573036, 'min_data_in_leaf': 23, 'min_sum_hessian_in_leaf': 0.004143313381895846, 'bagging_fraction': 0.8853489759295792, 'bagging_freq': 7, 'min_gain_to_split': 0.930373573068011, 'lambda_l1': 0.3019575587698339, 'lambda_l2': 0.3267317460704795, 'num_leaves': 27, 'max_bin': 182}.\n"
     ]
    },
    {
     "name": "stdout",
     "output_type": "stream",
     "text": [
      "Training until validation scores don't improve for 100 rounds.\n",
      "[200]\tvalid_0's auc: 0.881723\n",
      "[400]\tvalid_0's auc: 0.884642\n",
      "Early stopping, best iteration is:\n",
      "[435]\tvalid_0's auc: 0.884967\n"
     ]
    },
    {
     "name": "stderr",
     "output_type": "stream",
     "text": [
      "[I 2019-04-08 03:12:38,520] Finished trial#125 resulted in value: -0.8849669108598198. Current best value is -0.8874108750300748 with parameters: {'feature_fraction': 0.811841284297088, 'learning_rate': 0.005170500219831276, 'subsample': 0.9031375748573036, 'min_data_in_leaf': 23, 'min_sum_hessian_in_leaf': 0.004143313381895846, 'bagging_fraction': 0.8853489759295792, 'bagging_freq': 7, 'min_gain_to_split': 0.930373573068011, 'lambda_l1': 0.3019575587698339, 'lambda_l2': 0.3267317460704795, 'num_leaves': 27, 'max_bin': 182}.\n"
     ]
    },
    {
     "name": "stdout",
     "output_type": "stream",
     "text": [
      "Training until validation scores don't improve for 100 rounds.\n",
      "Early stopping, best iteration is:\n",
      "[69]\tvalid_0's auc: 0.87376\n"
     ]
    },
    {
     "name": "stderr",
     "output_type": "stream",
     "text": [
      "[I 2019-04-08 03:12:57,358] Finished trial#126 resulted in value: -0.8737600836838597. Current best value is -0.8874108750300748 with parameters: {'feature_fraction': 0.811841284297088, 'learning_rate': 0.005170500219831276, 'subsample': 0.9031375748573036, 'min_data_in_leaf': 23, 'min_sum_hessian_in_leaf': 0.004143313381895846, 'bagging_fraction': 0.8853489759295792, 'bagging_freq': 7, 'min_gain_to_split': 0.930373573068011, 'lambda_l1': 0.3019575587698339, 'lambda_l2': 0.3267317460704795, 'num_leaves': 27, 'max_bin': 182}.\n"
     ]
    },
    {
     "name": "stdout",
     "output_type": "stream",
     "text": [
      "Training until validation scores don't improve for 100 rounds.\n",
      "Early stopping, best iteration is:\n",
      "[7]\tvalid_0's auc: 0.857136\n"
     ]
    },
    {
     "name": "stderr",
     "output_type": "stream",
     "text": [
      "[I 2019-04-08 03:13:08,833] Finished trial#127 resulted in value: -0.8571362890937199. Current best value is -0.8874108750300748 with parameters: {'feature_fraction': 0.811841284297088, 'learning_rate': 0.005170500219831276, 'subsample': 0.9031375748573036, 'min_data_in_leaf': 23, 'min_sum_hessian_in_leaf': 0.004143313381895846, 'bagging_fraction': 0.8853489759295792, 'bagging_freq': 7, 'min_gain_to_split': 0.930373573068011, 'lambda_l1': 0.3019575587698339, 'lambda_l2': 0.3267317460704795, 'num_leaves': 27, 'max_bin': 182}.\n"
     ]
    },
    {
     "name": "stdout",
     "output_type": "stream",
     "text": [
      "Training until validation scores don't improve for 100 rounds.\n",
      "Early stopping, best iteration is:\n",
      "[8]\tvalid_0's auc: 0.859386\n"
     ]
    },
    {
     "name": "stderr",
     "output_type": "stream",
     "text": [
      "[I 2019-04-08 03:13:22,414] Finished trial#128 resulted in value: -0.8593863575397055. Current best value is -0.8874108750300748 with parameters: {'feature_fraction': 0.811841284297088, 'learning_rate': 0.005170500219831276, 'subsample': 0.9031375748573036, 'min_data_in_leaf': 23, 'min_sum_hessian_in_leaf': 0.004143313381895846, 'bagging_fraction': 0.8853489759295792, 'bagging_freq': 7, 'min_gain_to_split': 0.930373573068011, 'lambda_l1': 0.3019575587698339, 'lambda_l2': 0.3267317460704795, 'num_leaves': 27, 'max_bin': 182}.\n"
     ]
    },
    {
     "name": "stdout",
     "output_type": "stream",
     "text": [
      "Training until validation scores don't improve for 100 rounds.\n",
      "Early stopping, best iteration is:\n",
      "[42]\tvalid_0's auc: 0.870362\n"
     ]
    },
    {
     "name": "stderr",
     "output_type": "stream",
     "text": [
      "[I 2019-04-08 03:13:41,768] Finished trial#129 resulted in value: -0.8703624871750198. Current best value is -0.8874108750300748 with parameters: {'feature_fraction': 0.811841284297088, 'learning_rate': 0.005170500219831276, 'subsample': 0.9031375748573036, 'min_data_in_leaf': 23, 'min_sum_hessian_in_leaf': 0.004143313381895846, 'bagging_fraction': 0.8853489759295792, 'bagging_freq': 7, 'min_gain_to_split': 0.930373573068011, 'lambda_l1': 0.3019575587698339, 'lambda_l2': 0.3267317460704795, 'num_leaves': 27, 'max_bin': 182}.\n"
     ]
    },
    {
     "name": "stdout",
     "output_type": "stream",
     "text": [
      "Training until validation scores don't improve for 100 rounds.\n",
      "[200]\tvalid_0's auc: 0.864029\n",
      "[400]\tvalid_0's auc: 0.875181\n",
      "[600]\tvalid_0's auc: 0.879966\n",
      "[800]\tvalid_0's auc: 0.88267\n",
      "[1000]\tvalid_0's auc: 0.884294\n",
      "[1200]\tvalid_0's auc: 0.885417\n",
      "[1400]\tvalid_0's auc: 0.886067\n",
      "[1600]\tvalid_0's auc: 0.886479\n",
      "[1800]\tvalid_0's auc: 0.886569\n",
      "Early stopping, best iteration is:\n",
      "[1750]\tvalid_0's auc: 0.886623\n"
     ]
    },
    {
     "name": "stderr",
     "output_type": "stream",
     "text": [
      "[I 2019-04-08 03:17:05,730] Finished trial#130 resulted in value: -0.8866231723539058. Current best value is -0.8874108750300748 with parameters: {'feature_fraction': 0.811841284297088, 'learning_rate': 0.005170500219831276, 'subsample': 0.9031375748573036, 'min_data_in_leaf': 23, 'min_sum_hessian_in_leaf': 0.004143313381895846, 'bagging_fraction': 0.8853489759295792, 'bagging_freq': 7, 'min_gain_to_split': 0.930373573068011, 'lambda_l1': 0.3019575587698339, 'lambda_l2': 0.3267317460704795, 'num_leaves': 27, 'max_bin': 182}.\n"
     ]
    },
    {
     "name": "stdout",
     "output_type": "stream",
     "text": [
      "Training until validation scores don't improve for 100 rounds.\n",
      "[200]\tvalid_0's auc: 0.879277\n",
      "[400]\tvalid_0's auc: 0.884165\n",
      "[600]\tvalid_0's auc: 0.884813\n",
      "Early stopping, best iteration is:\n",
      "[565]\tvalid_0's auc: 0.885214\n"
     ]
    },
    {
     "name": "stderr",
     "output_type": "stream",
     "text": [
      "[I 2019-04-08 03:18:32,544] Finished trial#131 resulted in value: -0.8852143258139542. Current best value is -0.8874108750300748 with parameters: {'feature_fraction': 0.811841284297088, 'learning_rate': 0.005170500219831276, 'subsample': 0.9031375748573036, 'min_data_in_leaf': 23, 'min_sum_hessian_in_leaf': 0.004143313381895846, 'bagging_fraction': 0.8853489759295792, 'bagging_freq': 7, 'min_gain_to_split': 0.930373573068011, 'lambda_l1': 0.3019575587698339, 'lambda_l2': 0.3267317460704795, 'num_leaves': 27, 'max_bin': 182}.\n"
     ]
    },
    {
     "name": "stdout",
     "output_type": "stream",
     "text": [
      "Training until validation scores don't improve for 100 rounds.\n",
      "Early stopping, best iteration is:\n",
      "[97]\tvalid_0's auc: 0.875975\n"
     ]
    },
    {
     "name": "stderr",
     "output_type": "stream",
     "text": [
      "[I 2019-04-08 03:18:55,326] Finished trial#132 resulted in value: -0.8759745256485776. Current best value is -0.8874108750300748 with parameters: {'feature_fraction': 0.811841284297088, 'learning_rate': 0.005170500219831276, 'subsample': 0.9031375748573036, 'min_data_in_leaf': 23, 'min_sum_hessian_in_leaf': 0.004143313381895846, 'bagging_fraction': 0.8853489759295792, 'bagging_freq': 7, 'min_gain_to_split': 0.930373573068011, 'lambda_l1': 0.3019575587698339, 'lambda_l2': 0.3267317460704795, 'num_leaves': 27, 'max_bin': 182}.\n"
     ]
    },
    {
     "name": "stdout",
     "output_type": "stream",
     "text": [
      "Training until validation scores don't improve for 100 rounds.\n",
      "[200]\tvalid_0's auc: 0.879708\n",
      "Early stopping, best iteration is:\n",
      "[174]\tvalid_0's auc: 0.879976\n"
     ]
    },
    {
     "name": "stderr",
     "output_type": "stream",
     "text": [
      "[I 2019-04-08 03:19:28,295] Finished trial#133 resulted in value: -0.8799762997132183. Current best value is -0.8874108750300748 with parameters: {'feature_fraction': 0.811841284297088, 'learning_rate': 0.005170500219831276, 'subsample': 0.9031375748573036, 'min_data_in_leaf': 23, 'min_sum_hessian_in_leaf': 0.004143313381895846, 'bagging_fraction': 0.8853489759295792, 'bagging_freq': 7, 'min_gain_to_split': 0.930373573068011, 'lambda_l1': 0.3019575587698339, 'lambda_l2': 0.3267317460704795, 'num_leaves': 27, 'max_bin': 182}.\n"
     ]
    },
    {
     "name": "stdout",
     "output_type": "stream",
     "text": [
      "Training until validation scores don't improve for 100 rounds.\n",
      "Early stopping, best iteration is:\n",
      "[22]\tvalid_0's auc: 0.86697\n"
     ]
    },
    {
     "name": "stderr",
     "output_type": "stream",
     "text": [
      "[I 2019-04-08 03:19:41,118] Finished trial#134 resulted in value: -0.8669699446071477. Current best value is -0.8874108750300748 with parameters: {'feature_fraction': 0.811841284297088, 'learning_rate': 0.005170500219831276, 'subsample': 0.9031375748573036, 'min_data_in_leaf': 23, 'min_sum_hessian_in_leaf': 0.004143313381895846, 'bagging_fraction': 0.8853489759295792, 'bagging_freq': 7, 'min_gain_to_split': 0.930373573068011, 'lambda_l1': 0.3019575587698339, 'lambda_l2': 0.3267317460704795, 'num_leaves': 27, 'max_bin': 182}.\n"
     ]
    },
    {
     "name": "stdout",
     "output_type": "stream",
     "text": [
      "Training until validation scores don't improve for 100 rounds.\n",
      "[200]\tvalid_0's auc: 0.88214\n",
      "[400]\tvalid_0's auc: 0.882885\n",
      "Early stopping, best iteration is:\n",
      "[367]\tvalid_0's auc: 0.88339\n"
     ]
    },
    {
     "name": "stderr",
     "output_type": "stream",
     "text": [
      "[I 2019-04-08 03:20:32,155] Finished trial#135 resulted in value: -0.8833901227602953. Current best value is -0.8874108750300748 with parameters: {'feature_fraction': 0.811841284297088, 'learning_rate': 0.005170500219831276, 'subsample': 0.9031375748573036, 'min_data_in_leaf': 23, 'min_sum_hessian_in_leaf': 0.004143313381895846, 'bagging_fraction': 0.8853489759295792, 'bagging_freq': 7, 'min_gain_to_split': 0.930373573068011, 'lambda_l1': 0.3019575587698339, 'lambda_l2': 0.3267317460704795, 'num_leaves': 27, 'max_bin': 182}.\n"
     ]
    },
    {
     "name": "stdout",
     "output_type": "stream",
     "text": [
      "Training until validation scores don't improve for 100 rounds.\n",
      "Early stopping, best iteration is:\n",
      "[25]\tvalid_0's auc: 0.867947\n"
     ]
    },
    {
     "name": "stderr",
     "output_type": "stream",
     "text": [
      "[I 2019-04-08 03:20:47,689] Finished trial#136 resulted in value: -0.8679469937693411. Current best value is -0.8874108750300748 with parameters: {'feature_fraction': 0.811841284297088, 'learning_rate': 0.005170500219831276, 'subsample': 0.9031375748573036, 'min_data_in_leaf': 23, 'min_sum_hessian_in_leaf': 0.004143313381895846, 'bagging_fraction': 0.8853489759295792, 'bagging_freq': 7, 'min_gain_to_split': 0.930373573068011, 'lambda_l1': 0.3019575587698339, 'lambda_l2': 0.3267317460704795, 'num_leaves': 27, 'max_bin': 182}.\n"
     ]
    },
    {
     "name": "stdout",
     "output_type": "stream",
     "text": [
      "Training until validation scores don't improve for 100 rounds.\n",
      "[200]\tvalid_0's auc: 0.882118\n",
      "Early stopping, best iteration is:\n",
      "[270]\tvalid_0's auc: 0.882486\n"
     ]
    },
    {
     "name": "stderr",
     "output_type": "stream",
     "text": [
      "[I 2019-04-08 03:21:37,943] Finished trial#137 resulted in value: -0.8824861172182445. Current best value is -0.8874108750300748 with parameters: {'feature_fraction': 0.811841284297088, 'learning_rate': 0.005170500219831276, 'subsample': 0.9031375748573036, 'min_data_in_leaf': 23, 'min_sum_hessian_in_leaf': 0.004143313381895846, 'bagging_fraction': 0.8853489759295792, 'bagging_freq': 7, 'min_gain_to_split': 0.930373573068011, 'lambda_l1': 0.3019575587698339, 'lambda_l2': 0.3267317460704795, 'num_leaves': 27, 'max_bin': 182}.\n"
     ]
    },
    {
     "name": "stdout",
     "output_type": "stream",
     "text": [
      "Training until validation scores don't improve for 100 rounds.\n",
      "[200]\tvalid_0's auc: 0.875319\n",
      "[400]\tvalid_0's auc: 0.882086\n",
      "[600]\tvalid_0's auc: 0.884889\n",
      "[800]\tvalid_0's auc: 0.885776\n",
      "Early stopping, best iteration is:\n",
      "[713]\tvalid_0's auc: 0.885923\n"
     ]
    },
    {
     "name": "stderr",
     "output_type": "stream",
     "text": [
      "[I 2019-04-08 03:23:10,622] Finished trial#138 resulted in value: -0.8859234054850815. Current best value is -0.8874108750300748 with parameters: {'feature_fraction': 0.811841284297088, 'learning_rate': 0.005170500219831276, 'subsample': 0.9031375748573036, 'min_data_in_leaf': 23, 'min_sum_hessian_in_leaf': 0.004143313381895846, 'bagging_fraction': 0.8853489759295792, 'bagging_freq': 7, 'min_gain_to_split': 0.930373573068011, 'lambda_l1': 0.3019575587698339, 'lambda_l2': 0.3267317460704795, 'num_leaves': 27, 'max_bin': 182}.\n"
     ]
    },
    {
     "name": "stdout",
     "output_type": "stream",
     "text": [
      "Training until validation scores don't improve for 100 rounds.\n",
      "Early stopping, best iteration is:\n",
      "[72]\tvalid_0's auc: 0.878097\n"
     ]
    },
    {
     "name": "stderr",
     "output_type": "stream",
     "text": [
      "[I 2019-04-08 03:23:29,931] Finished trial#139 resulted in value: -0.87809691813307. Current best value is -0.8874108750300748 with parameters: {'feature_fraction': 0.811841284297088, 'learning_rate': 0.005170500219831276, 'subsample': 0.9031375748573036, 'min_data_in_leaf': 23, 'min_sum_hessian_in_leaf': 0.004143313381895846, 'bagging_fraction': 0.8853489759295792, 'bagging_freq': 7, 'min_gain_to_split': 0.930373573068011, 'lambda_l1': 0.3019575587698339, 'lambda_l2': 0.3267317460704795, 'num_leaves': 27, 'max_bin': 182}.\n"
     ]
    },
    {
     "name": "stdout",
     "output_type": "stream",
     "text": [
      "Training until validation scores don't improve for 100 rounds.\n",
      "[200]\tvalid_0's auc: 0.875529\n",
      "Early stopping, best iteration is:\n",
      "[137]\tvalid_0's auc: 0.876969\n"
     ]
    },
    {
     "name": "stderr",
     "output_type": "stream",
     "text": [
      "[I 2019-04-08 03:23:59,864] Finished trial#140 resulted in value: -0.8769690181665325. Current best value is -0.8874108750300748 with parameters: {'feature_fraction': 0.811841284297088, 'learning_rate': 0.005170500219831276, 'subsample': 0.9031375748573036, 'min_data_in_leaf': 23, 'min_sum_hessian_in_leaf': 0.004143313381895846, 'bagging_fraction': 0.8853489759295792, 'bagging_freq': 7, 'min_gain_to_split': 0.930373573068011, 'lambda_l1': 0.3019575587698339, 'lambda_l2': 0.3267317460704795, 'num_leaves': 27, 'max_bin': 182}.\n"
     ]
    },
    {
     "name": "stdout",
     "output_type": "stream",
     "text": [
      "Training until validation scores don't improve for 100 rounds.\n",
      "Early stopping, best iteration is:\n",
      "[10]\tvalid_0's auc: 0.85985\n"
     ]
    },
    {
     "name": "stderr",
     "output_type": "stream",
     "text": [
      "[I 2019-04-08 03:24:07,995] Finished trial#141 resulted in value: -0.859850079093139. Current best value is -0.8874108750300748 with parameters: {'feature_fraction': 0.811841284297088, 'learning_rate': 0.005170500219831276, 'subsample': 0.9031375748573036, 'min_data_in_leaf': 23, 'min_sum_hessian_in_leaf': 0.004143313381895846, 'bagging_fraction': 0.8853489759295792, 'bagging_freq': 7, 'min_gain_to_split': 0.930373573068011, 'lambda_l1': 0.3019575587698339, 'lambda_l2': 0.3267317460704795, 'num_leaves': 27, 'max_bin': 182}.\n"
     ]
    },
    {
     "name": "stdout",
     "output_type": "stream",
     "text": [
      "Training until validation scores don't improve for 100 rounds.\n",
      "[200]\tvalid_0's auc: 0.85623\n",
      "[400]\tvalid_0's auc: 0.859185\n",
      "[600]\tvalid_0's auc: 0.860828\n",
      "[800]\tvalid_0's auc: 0.862894\n",
      "[1000]\tvalid_0's auc: 0.865938\n",
      "[1200]\tvalid_0's auc: 0.86881\n",
      "[1400]\tvalid_0's auc: 0.871265\n",
      "[1600]\tvalid_0's auc: 0.873482\n",
      "[1800]\tvalid_0's auc: 0.87511\n",
      "[2000]\tvalid_0's auc: 0.876401\n",
      "[2200]\tvalid_0's auc: 0.877623\n",
      "[2400]\tvalid_0's auc: 0.878485\n",
      "[2600]\tvalid_0's auc: 0.8794\n",
      "[2800]\tvalid_0's auc: 0.880254\n",
      "[3000]\tvalid_0's auc: 0.880942\n",
      "[3200]\tvalid_0's auc: 0.881665\n",
      "[3400]\tvalid_0's auc: 0.882057\n",
      "[3600]\tvalid_0's auc: 0.882633\n",
      "[3800]\tvalid_0's auc: 0.883133\n",
      "[4000]\tvalid_0's auc: 0.883512\n",
      "[4200]\tvalid_0's auc: 0.884032\n",
      "[4400]\tvalid_0's auc: 0.884317\n",
      "[4600]\tvalid_0's auc: 0.884568\n",
      "[4800]\tvalid_0's auc: 0.884823\n",
      "[5000]\tvalid_0's auc: 0.885139\n",
      "[5200]\tvalid_0's auc: 0.885401\n",
      "[5400]\tvalid_0's auc: 0.885652\n",
      "[5600]\tvalid_0's auc: 0.885859\n",
      "[5800]\tvalid_0's auc: 0.886068\n",
      "[6000]\tvalid_0's auc: 0.886279\n",
      "[6200]\tvalid_0's auc: 0.886441\n",
      "[6400]\tvalid_0's auc: 0.886622\n",
      "[6600]\tvalid_0's auc: 0.886731\n",
      "[6800]\tvalid_0's auc: 0.886868\n",
      "[7000]\tvalid_0's auc: 0.886943\n",
      "[7200]\tvalid_0's auc: 0.887033\n",
      "[7400]\tvalid_0's auc: 0.887076\n",
      "[7600]\tvalid_0's auc: 0.887184\n",
      "[7800]\tvalid_0's auc: 0.887204\n",
      "Early stopping, best iteration is:\n",
      "[7714]\tvalid_0's auc: 0.887223\n"
     ]
    },
    {
     "name": "stderr",
     "output_type": "stream",
     "text": [
      "[I 2019-04-08 03:37:58,078] Finished trial#142 resulted in value: -0.8872231256170509. Current best value is -0.8874108750300748 with parameters: {'feature_fraction': 0.811841284297088, 'learning_rate': 0.005170500219831276, 'subsample': 0.9031375748573036, 'min_data_in_leaf': 23, 'min_sum_hessian_in_leaf': 0.004143313381895846, 'bagging_fraction': 0.8853489759295792, 'bagging_freq': 7, 'min_gain_to_split': 0.930373573068011, 'lambda_l1': 0.3019575587698339, 'lambda_l2': 0.3267317460704795, 'num_leaves': 27, 'max_bin': 182}.\n"
     ]
    },
    {
     "name": "stdout",
     "output_type": "stream",
     "text": [
      "Training until validation scores don't improve for 100 rounds.\n",
      "Early stopping, best iteration is:\n",
      "[12]\tvalid_0's auc: 0.858635\n"
     ]
    },
    {
     "name": "stderr",
     "output_type": "stream",
     "text": [
      "[I 2019-04-08 03:38:06,350] Finished trial#143 resulted in value: -0.858634661600281. Current best value is -0.8874108750300748 with parameters: {'feature_fraction': 0.811841284297088, 'learning_rate': 0.005170500219831276, 'subsample': 0.9031375748573036, 'min_data_in_leaf': 23, 'min_sum_hessian_in_leaf': 0.004143313381895846, 'bagging_fraction': 0.8853489759295792, 'bagging_freq': 7, 'min_gain_to_split': 0.930373573068011, 'lambda_l1': 0.3019575587698339, 'lambda_l2': 0.3267317460704795, 'num_leaves': 27, 'max_bin': 182}.\n"
     ]
    },
    {
     "name": "stdout",
     "output_type": "stream",
     "text": [
      "Training until validation scores don't improve for 100 rounds.\n",
      "Early stopping, best iteration is:\n",
      "[23]\tvalid_0's auc: 0.865658\n"
     ]
    },
    {
     "name": "stderr",
     "output_type": "stream",
     "text": [
      "[I 2019-04-08 03:38:18,702] Finished trial#144 resulted in value: -0.8656581738334452. Current best value is -0.8874108750300748 with parameters: {'feature_fraction': 0.811841284297088, 'learning_rate': 0.005170500219831276, 'subsample': 0.9031375748573036, 'min_data_in_leaf': 23, 'min_sum_hessian_in_leaf': 0.004143313381895846, 'bagging_fraction': 0.8853489759295792, 'bagging_freq': 7, 'min_gain_to_split': 0.930373573068011, 'lambda_l1': 0.3019575587698339, 'lambda_l2': 0.3267317460704795, 'num_leaves': 27, 'max_bin': 182}.\n"
     ]
    },
    {
     "name": "stdout",
     "output_type": "stream",
     "text": [
      "Training until validation scores don't improve for 100 rounds.\n",
      "[200]\tvalid_0's auc: 0.859909\n",
      "[400]\tvalid_0's auc: 0.867337\n",
      "[600]\tvalid_0's auc: 0.873847\n",
      "[800]\tvalid_0's auc: 0.877418\n",
      "[1000]\tvalid_0's auc: 0.879872\n",
      "[1200]\tvalid_0's auc: 0.88174\n",
      "[1400]\tvalid_0's auc: 0.883225\n",
      "[1600]\tvalid_0's auc: 0.884395\n",
      "[1800]\tvalid_0's auc: 0.885223\n",
      "[2000]\tvalid_0's auc: 0.885884\n",
      "[2200]\tvalid_0's auc: 0.886299\n",
      "[2400]\tvalid_0's auc: 0.886625\n",
      "[2600]\tvalid_0's auc: 0.88705\n",
      "[2800]\tvalid_0's auc: 0.887371\n",
      "[3000]\tvalid_0's auc: 0.887404\n",
      "[3200]\tvalid_0's auc: 0.887473\n",
      "Early stopping, best iteration is:\n",
      "[3179]\tvalid_0's auc: 0.887496\n"
     ]
    },
    {
     "name": "stderr",
     "output_type": "stream",
     "text": [
      "[I 2019-04-08 03:43:59,525] Finished trial#145 resulted in value: -0.8874963149787473. Current best value is -0.8874963149787473 with parameters: {'feature_fraction': 0.9077963052915876, 'learning_rate': 0.011358781846579069, 'subsample': 0.8453858498917617, 'min_data_in_leaf': 87, 'min_sum_hessian_in_leaf': 0.0021980270412619816, 'bagging_fraction': 0.8726993481456968, 'bagging_freq': 10, 'min_gain_to_split': 0.8438313225454216, 'lambda_l1': 0.4047026283855469, 'lambda_l2': 0.08369497932482868, 'num_leaves': 18, 'max_bin': 164}.\n"
     ]
    },
    {
     "name": "stdout",
     "output_type": "stream",
     "text": [
      "Training until validation scores don't improve for 100 rounds.\n",
      "[200]\tvalid_0's auc: 0.850105\n",
      "[400]\tvalid_0's auc: 0.853956\n",
      "[600]\tvalid_0's auc: 0.856023\n",
      "[800]\tvalid_0's auc: 0.856942\n",
      "[1000]\tvalid_0's auc: 0.857945\n",
      "[1200]\tvalid_0's auc: 0.858461\n",
      "[1400]\tvalid_0's auc: 0.85893\n",
      "[1600]\tvalid_0's auc: 0.859333\n",
      "[1800]\tvalid_0's auc: 0.859695\n",
      "[2000]\tvalid_0's auc: 0.860065\n",
      "[2200]\tvalid_0's auc: 0.860408\n",
      "[2400]\tvalid_0's auc: 0.860689\n",
      "[2600]\tvalid_0's auc: 0.861214\n",
      "[2800]\tvalid_0's auc: 0.861675\n",
      "[3000]\tvalid_0's auc: 0.862193\n",
      "[3200]\tvalid_0's auc: 0.862896\n",
      "[3400]\tvalid_0's auc: 0.863735\n",
      "[3600]\tvalid_0's auc: 0.86454\n",
      "[3800]\tvalid_0's auc: 0.865326\n",
      "[4000]\tvalid_0's auc: 0.866094\n",
      "[4200]\tvalid_0's auc: 0.866807\n",
      "[4400]\tvalid_0's auc: 0.867468\n",
      "[4600]\tvalid_0's auc: 0.868087\n",
      "[4800]\tvalid_0's auc: 0.868713\n",
      "[5000]\tvalid_0's auc: 0.869346\n",
      "[5200]\tvalid_0's auc: 0.870006\n",
      "[5400]\tvalid_0's auc: 0.870666\n",
      "[5600]\tvalid_0's auc: 0.871329\n",
      "[5800]\tvalid_0's auc: 0.8719\n",
      "[6000]\tvalid_0's auc: 0.872441\n",
      "[6200]\tvalid_0's auc: 0.872966\n",
      "[6400]\tvalid_0's auc: 0.873471\n",
      "[6600]\tvalid_0's auc: 0.873905\n",
      "[6800]\tvalid_0's auc: 0.874337\n",
      "[7000]\tvalid_0's auc: 0.874787\n",
      "[7200]\tvalid_0's auc: 0.875167\n",
      "[7400]\tvalid_0's auc: 0.875531\n",
      "[7600]\tvalid_0's auc: 0.875871\n",
      "[7800]\tvalid_0's auc: 0.876208\n",
      "[8000]\tvalid_0's auc: 0.87653\n",
      "[8200]\tvalid_0's auc: 0.876817\n",
      "[8400]\tvalid_0's auc: 0.877081\n",
      "[8600]\tvalid_0's auc: 0.877376\n",
      "[8800]\tvalid_0's auc: 0.877675\n",
      "[9000]\tvalid_0's auc: 0.877925\n",
      "[9200]\tvalid_0's auc: 0.878197\n",
      "[9400]\tvalid_0's auc: 0.878428\n",
      "[9600]\tvalid_0's auc: 0.878676\n",
      "[9800]\tvalid_0's auc: 0.878872\n",
      "[10000]\tvalid_0's auc: 0.879089\n",
      "Did not meet early stopping. Best iteration is:\n",
      "[10000]\tvalid_0's auc: 0.879089\n"
     ]
    },
    {
     "name": "stderr",
     "output_type": "stream",
     "text": [
      "[I 2019-04-08 04:01:30,407] Finished trial#146 resulted in value: -0.879088686639067. Current best value is -0.8874963149787473 with parameters: {'feature_fraction': 0.9077963052915876, 'learning_rate': 0.011358781846579069, 'subsample': 0.8453858498917617, 'min_data_in_leaf': 87, 'min_sum_hessian_in_leaf': 0.0021980270412619816, 'bagging_fraction': 0.8726993481456968, 'bagging_freq': 10, 'min_gain_to_split': 0.8438313225454216, 'lambda_l1': 0.4047026283855469, 'lambda_l2': 0.08369497932482868, 'num_leaves': 18, 'max_bin': 164}.\n"
     ]
    },
    {
     "name": "stdout",
     "output_type": "stream",
     "text": [
      "Training until validation scores don't improve for 100 rounds.\n",
      "[200]\tvalid_0's auc: 0.876345\n",
      "[400]\tvalid_0's auc: 0.882106\n",
      "[600]\tvalid_0's auc: 0.884178\n",
      "[800]\tvalid_0's auc: 0.885159\n",
      "Early stopping, best iteration is:\n",
      "[850]\tvalid_0's auc: 0.885368\n"
     ]
    },
    {
     "name": "stderr",
     "output_type": "stream",
     "text": [
      "[I 2019-04-08 04:03:03,678] Finished trial#147 resulted in value: -0.8853682048346372. Current best value is -0.8874963149787473 with parameters: {'feature_fraction': 0.9077963052915876, 'learning_rate': 0.011358781846579069, 'subsample': 0.8453858498917617, 'min_data_in_leaf': 87, 'min_sum_hessian_in_leaf': 0.0021980270412619816, 'bagging_fraction': 0.8726993481456968, 'bagging_freq': 10, 'min_gain_to_split': 0.8438313225454216, 'lambda_l1': 0.4047026283855469, 'lambda_l2': 0.08369497932482868, 'num_leaves': 18, 'max_bin': 164}.\n"
     ]
    },
    {
     "name": "stdout",
     "output_type": "stream",
     "text": [
      "Training until validation scores don't improve for 100 rounds.\n",
      "[200]\tvalid_0's auc: 0.867582\n",
      "[400]\tvalid_0's auc: 0.877136\n",
      "[600]\tvalid_0's auc: 0.88128\n",
      "[800]\tvalid_0's auc: 0.883605\n",
      "[1000]\tvalid_0's auc: 0.884831\n",
      "[1200]\tvalid_0's auc: 0.8858\n",
      "[1400]\tvalid_0's auc: 0.88634\n",
      "Early stopping, best iteration is:\n",
      "[1495]\tvalid_0's auc: 0.886531\n"
     ]
    },
    {
     "name": "stderr",
     "output_type": "stream",
     "text": [
      "[I 2019-04-08 04:05:50,189] Finished trial#148 resulted in value: -0.8865310191676414. Current best value is -0.8874963149787473 with parameters: {'feature_fraction': 0.9077963052915876, 'learning_rate': 0.011358781846579069, 'subsample': 0.8453858498917617, 'min_data_in_leaf': 87, 'min_sum_hessian_in_leaf': 0.0021980270412619816, 'bagging_fraction': 0.8726993481456968, 'bagging_freq': 10, 'min_gain_to_split': 0.8438313225454216, 'lambda_l1': 0.4047026283855469, 'lambda_l2': 0.08369497932482868, 'num_leaves': 18, 'max_bin': 164}.\n"
     ]
    },
    {
     "name": "stdout",
     "output_type": "stream",
     "text": [
      "Training until validation scores don't improve for 100 rounds.\n",
      "[200]\tvalid_0's auc: 0.88043\n",
      "[400]\tvalid_0's auc: 0.883243\n",
      "[600]\tvalid_0's auc: 0.88365\n",
      "Early stopping, best iteration is:\n",
      "[574]\tvalid_0's auc: 0.883686\n"
     ]
    },
    {
     "name": "stderr",
     "output_type": "stream",
     "text": [
      "[I 2019-04-08 04:06:59,294] Finished trial#149 resulted in value: -0.8836864731373705. Current best value is -0.8874963149787473 with parameters: {'feature_fraction': 0.9077963052915876, 'learning_rate': 0.011358781846579069, 'subsample': 0.8453858498917617, 'min_data_in_leaf': 87, 'min_sum_hessian_in_leaf': 0.0021980270412619816, 'bagging_fraction': 0.8726993481456968, 'bagging_freq': 10, 'min_gain_to_split': 0.8438313225454216, 'lambda_l1': 0.4047026283855469, 'lambda_l2': 0.08369497932482868, 'num_leaves': 18, 'max_bin': 164}.\n"
     ]
    },
    {
     "name": "stdout",
     "output_type": "stream",
     "text": [
      "Training until validation scores don't improve for 100 rounds.\n",
      "[200]\tvalid_0's auc: 0.88233\n",
      "[400]\tvalid_0's auc: 0.883541\n",
      "Early stopping, best iteration is:\n",
      "[363]\tvalid_0's auc: 0.883717\n"
     ]
    },
    {
     "name": "stderr",
     "output_type": "stream",
     "text": [
      "[I 2019-04-08 04:07:48,469] Finished trial#150 resulted in value: -0.8837170111089909. Current best value is -0.8874963149787473 with parameters: {'feature_fraction': 0.9077963052915876, 'learning_rate': 0.011358781846579069, 'subsample': 0.8453858498917617, 'min_data_in_leaf': 87, 'min_sum_hessian_in_leaf': 0.0021980270412619816, 'bagging_fraction': 0.8726993481456968, 'bagging_freq': 10, 'min_gain_to_split': 0.8438313225454216, 'lambda_l1': 0.4047026283855469, 'lambda_l2': 0.08369497932482868, 'num_leaves': 18, 'max_bin': 164}.\n"
     ]
    },
    {
     "name": "stdout",
     "output_type": "stream",
     "text": [
      "Training until validation scores don't improve for 100 rounds.\n",
      "[200]\tvalid_0's auc: 0.879338\n",
      "Early stopping, best iteration is:\n",
      "[163]\tvalid_0's auc: 0.88021\n"
     ]
    },
    {
     "name": "stderr",
     "output_type": "stream",
     "text": [
      "[I 2019-04-08 04:08:14,508] Finished trial#151 resulted in value: -0.8802097834894453. Current best value is -0.8874963149787473 with parameters: {'feature_fraction': 0.9077963052915876, 'learning_rate': 0.011358781846579069, 'subsample': 0.8453858498917617, 'min_data_in_leaf': 87, 'min_sum_hessian_in_leaf': 0.0021980270412619816, 'bagging_fraction': 0.8726993481456968, 'bagging_freq': 10, 'min_gain_to_split': 0.8438313225454216, 'lambda_l1': 0.4047026283855469, 'lambda_l2': 0.08369497932482868, 'num_leaves': 18, 'max_bin': 164}.\n"
     ]
    },
    {
     "name": "stdout",
     "output_type": "stream",
     "text": [
      "Training until validation scores don't improve for 100 rounds.\n",
      "[200]\tvalid_0's auc: 0.880797\n",
      "Early stopping, best iteration is:\n",
      "[163]\tvalid_0's auc: 0.881174\n"
     ]
    },
    {
     "name": "stderr",
     "output_type": "stream",
     "text": [
      "[I 2019-04-08 04:08:41,388] Finished trial#152 resulted in value: -0.8811743810132219. Current best value is -0.8874963149787473 with parameters: {'feature_fraction': 0.9077963052915876, 'learning_rate': 0.011358781846579069, 'subsample': 0.8453858498917617, 'min_data_in_leaf': 87, 'min_sum_hessian_in_leaf': 0.0021980270412619816, 'bagging_fraction': 0.8726993481456968, 'bagging_freq': 10, 'min_gain_to_split': 0.8438313225454216, 'lambda_l1': 0.4047026283855469, 'lambda_l2': 0.08369497932482868, 'num_leaves': 18, 'max_bin': 164}.\n"
     ]
    },
    {
     "name": "stdout",
     "output_type": "stream",
     "text": [
      "Training until validation scores don't improve for 100 rounds.\n",
      "[200]\tvalid_0's auc: 0.881032\n",
      "[400]\tvalid_0's auc: 0.881261\n",
      "Early stopping, best iteration is:\n",
      "[323]\tvalid_0's auc: 0.882034\n"
     ]
    },
    {
     "name": "stderr",
     "output_type": "stream",
     "text": [
      "[I 2019-04-08 04:09:26,371] Finished trial#153 resulted in value: -0.882034456677148. Current best value is -0.8874963149787473 with parameters: {'feature_fraction': 0.9077963052915876, 'learning_rate': 0.011358781846579069, 'subsample': 0.8453858498917617, 'min_data_in_leaf': 87, 'min_sum_hessian_in_leaf': 0.0021980270412619816, 'bagging_fraction': 0.8726993481456968, 'bagging_freq': 10, 'min_gain_to_split': 0.8438313225454216, 'lambda_l1': 0.4047026283855469, 'lambda_l2': 0.08369497932482868, 'num_leaves': 18, 'max_bin': 164}.\n"
     ]
    },
    {
     "name": "stdout",
     "output_type": "stream",
     "text": [
      "Training until validation scores don't improve for 100 rounds.\n",
      "[200]\tvalid_0's auc: 0.858234\n",
      "[400]\tvalid_0's auc: 0.8609\n",
      "[600]\tvalid_0's auc: 0.8652\n",
      "[800]\tvalid_0's auc: 0.869092\n",
      "[1000]\tvalid_0's auc: 0.872834\n",
      "[1200]\tvalid_0's auc: 0.875328\n",
      "[1400]\tvalid_0's auc: 0.877173\n",
      "[1600]\tvalid_0's auc: 0.878772\n",
      "[1800]\tvalid_0's auc: 0.880083\n",
      "[2000]\tvalid_0's auc: 0.88112\n",
      "[2200]\tvalid_0's auc: 0.88209\n",
      "[2400]\tvalid_0's auc: 0.882899\n",
      "[2600]\tvalid_0's auc: 0.883629\n",
      "[2800]\tvalid_0's auc: 0.884332\n",
      "[3000]\tvalid_0's auc: 0.884771\n",
      "[3200]\tvalid_0's auc: 0.885288\n",
      "[3400]\tvalid_0's auc: 0.885606\n",
      "[3600]\tvalid_0's auc: 0.886003\n",
      "[3800]\tvalid_0's auc: 0.88628\n",
      "[4000]\tvalid_0's auc: 0.886505\n",
      "[4200]\tvalid_0's auc: 0.886674\n",
      "Early stopping, best iteration is:\n",
      "[4224]\tvalid_0's auc: 0.886726\n"
     ]
    },
    {
     "name": "stderr",
     "output_type": "stream",
     "text": [
      "[I 2019-04-08 04:16:59,070] Finished trial#154 resulted in value: -0.8867259934347161. Current best value is -0.8874963149787473 with parameters: {'feature_fraction': 0.9077963052915876, 'learning_rate': 0.011358781846579069, 'subsample': 0.8453858498917617, 'min_data_in_leaf': 87, 'min_sum_hessian_in_leaf': 0.0021980270412619816, 'bagging_fraction': 0.8726993481456968, 'bagging_freq': 10, 'min_gain_to_split': 0.8438313225454216, 'lambda_l1': 0.4047026283855469, 'lambda_l2': 0.08369497932482868, 'num_leaves': 18, 'max_bin': 164}.\n"
     ]
    },
    {
     "name": "stdout",
     "output_type": "stream",
     "text": [
      "Training until validation scores don't improve for 100 rounds.\n",
      "[200]\tvalid_0's auc: 0.87635\n",
      "[400]\tvalid_0's auc: 0.882792\n",
      "[600]\tvalid_0's auc: 0.885126\n",
      "[800]\tvalid_0's auc: 0.885452\n",
      "Early stopping, best iteration is:\n",
      "[734]\tvalid_0's auc: 0.885556\n"
     ]
    },
    {
     "name": "stderr",
     "output_type": "stream",
     "text": [
      "[I 2019-04-08 04:18:27,610] Finished trial#155 resulted in value: -0.885555546337241. Current best value is -0.8874963149787473 with parameters: {'feature_fraction': 0.9077963052915876, 'learning_rate': 0.011358781846579069, 'subsample': 0.8453858498917617, 'min_data_in_leaf': 87, 'min_sum_hessian_in_leaf': 0.0021980270412619816, 'bagging_fraction': 0.8726993481456968, 'bagging_freq': 10, 'min_gain_to_split': 0.8438313225454216, 'lambda_l1': 0.4047026283855469, 'lambda_l2': 0.08369497932482868, 'num_leaves': 18, 'max_bin': 164}.\n"
     ]
    },
    {
     "name": "stdout",
     "output_type": "stream",
     "text": [
      "Training until validation scores don't improve for 100 rounds.\n",
      "[200]\tvalid_0's auc: 0.882021\n",
      "[400]\tvalid_0's auc: 0.883663\n",
      "Early stopping, best iteration is:\n",
      "[348]\tvalid_0's auc: 0.883923\n"
     ]
    },
    {
     "name": "stderr",
     "output_type": "stream",
     "text": [
      "[I 2019-04-08 04:19:17,142] Finished trial#156 resulted in value: -0.8839234552639803. Current best value is -0.8874963149787473 with parameters: {'feature_fraction': 0.9077963052915876, 'learning_rate': 0.011358781846579069, 'subsample': 0.8453858498917617, 'min_data_in_leaf': 87, 'min_sum_hessian_in_leaf': 0.0021980270412619816, 'bagging_fraction': 0.8726993481456968, 'bagging_freq': 10, 'min_gain_to_split': 0.8438313225454216, 'lambda_l1': 0.4047026283855469, 'lambda_l2': 0.08369497932482868, 'num_leaves': 18, 'max_bin': 164}.\n"
     ]
    },
    {
     "name": "stdout",
     "output_type": "stream",
     "text": [
      "Training until validation scores don't improve for 100 rounds.\n",
      "Early stopping, best iteration is:\n",
      "[97]\tvalid_0's auc: 0.877217\n"
     ]
    },
    {
     "name": "stderr",
     "output_type": "stream",
     "text": [
      "[I 2019-04-08 04:19:38,508] Finished trial#157 resulted in value: -0.8772165713953856. Current best value is -0.8874963149787473 with parameters: {'feature_fraction': 0.9077963052915876, 'learning_rate': 0.011358781846579069, 'subsample': 0.8453858498917617, 'min_data_in_leaf': 87, 'min_sum_hessian_in_leaf': 0.0021980270412619816, 'bagging_fraction': 0.8726993481456968, 'bagging_freq': 10, 'min_gain_to_split': 0.8438313225454216, 'lambda_l1': 0.4047026283855469, 'lambda_l2': 0.08369497932482868, 'num_leaves': 18, 'max_bin': 164}.\n"
     ]
    },
    {
     "name": "stdout",
     "output_type": "stream",
     "text": [
      "Training until validation scores don't improve for 100 rounds.\n",
      "[200]\tvalid_0's auc: 0.855748\n",
      "[400]\tvalid_0's auc: 0.858177\n",
      "[600]\tvalid_0's auc: 0.859621\n",
      "[800]\tvalid_0's auc: 0.860987\n",
      "[1000]\tvalid_0's auc: 0.862362\n",
      "[1200]\tvalid_0's auc: 0.864708\n",
      "[1400]\tvalid_0's auc: 0.8672\n",
      "[1600]\tvalid_0's auc: 0.869296\n",
      "[1800]\tvalid_0's auc: 0.871111\n",
      "[2000]\tvalid_0's auc: 0.87286\n",
      "[2200]\tvalid_0's auc: 0.874411\n",
      "[2400]\tvalid_0's auc: 0.875445\n",
      "[2600]\tvalid_0's auc: 0.876452\n",
      "[2800]\tvalid_0's auc: 0.87733\n",
      "[3000]\tvalid_0's auc: 0.878107\n",
      "[3200]\tvalid_0's auc: 0.878869\n",
      "[3400]\tvalid_0's auc: 0.879463\n",
      "[3600]\tvalid_0's auc: 0.879923\n",
      "[3800]\tvalid_0's auc: 0.880373\n",
      "[4000]\tvalid_0's auc: 0.880788\n",
      "[4200]\tvalid_0's auc: 0.881215\n",
      "[4400]\tvalid_0's auc: 0.881638\n",
      "[4600]\tvalid_0's auc: 0.882047\n",
      "[4800]\tvalid_0's auc: 0.882472\n",
      "[5000]\tvalid_0's auc: 0.882839\n",
      "[5200]\tvalid_0's auc: 0.883187\n",
      "[5400]\tvalid_0's auc: 0.883523\n",
      "[5600]\tvalid_0's auc: 0.883769\n",
      "[5800]\tvalid_0's auc: 0.884015\n",
      "[6000]\tvalid_0's auc: 0.88426\n",
      "[6200]\tvalid_0's auc: 0.88446\n",
      "[6400]\tvalid_0's auc: 0.88467\n",
      "[6600]\tvalid_0's auc: 0.884886\n",
      "[6800]\tvalid_0's auc: 0.885064\n",
      "[7000]\tvalid_0's auc: 0.885223\n",
      "[7200]\tvalid_0's auc: 0.885397\n",
      "[7400]\tvalid_0's auc: 0.885566\n",
      "[7600]\tvalid_0's auc: 0.885817\n",
      "[7800]\tvalid_0's auc: 0.88594\n",
      "[8000]\tvalid_0's auc: 0.886135\n",
      "[8200]\tvalid_0's auc: 0.886279\n",
      "[8400]\tvalid_0's auc: 0.886405\n",
      "[8600]\tvalid_0's auc: 0.886453\n",
      "Early stopping, best iteration is:\n",
      "[8591]\tvalid_0's auc: 0.886459\n"
     ]
    },
    {
     "name": "stderr",
     "output_type": "stream",
     "text": [
      "[I 2019-04-08 04:37:12,303] Finished trial#158 resulted in value: -0.8864585908699969. Current best value is -0.8874963149787473 with parameters: {'feature_fraction': 0.9077963052915876, 'learning_rate': 0.011358781846579069, 'subsample': 0.8453858498917617, 'min_data_in_leaf': 87, 'min_sum_hessian_in_leaf': 0.0021980270412619816, 'bagging_fraction': 0.8726993481456968, 'bagging_freq': 10, 'min_gain_to_split': 0.8438313225454216, 'lambda_l1': 0.4047026283855469, 'lambda_l2': 0.08369497932482868, 'num_leaves': 18, 'max_bin': 164}.\n"
     ]
    },
    {
     "name": "stdout",
     "output_type": "stream",
     "text": [
      "Training until validation scores don't improve for 100 rounds.\n",
      "[200]\tvalid_0's auc: 0.882085\n",
      "Early stopping, best iteration is:\n",
      "[205]\tvalid_0's auc: 0.8822\n"
     ]
    },
    {
     "name": "stderr",
     "output_type": "stream",
     "text": [
      "[I 2019-04-08 04:37:44,340] Finished trial#159 resulted in value: -0.8821997502758581. Current best value is -0.8874963149787473 with parameters: {'feature_fraction': 0.9077963052915876, 'learning_rate': 0.011358781846579069, 'subsample': 0.8453858498917617, 'min_data_in_leaf': 87, 'min_sum_hessian_in_leaf': 0.0021980270412619816, 'bagging_fraction': 0.8726993481456968, 'bagging_freq': 10, 'min_gain_to_split': 0.8438313225454216, 'lambda_l1': 0.4047026283855469, 'lambda_l2': 0.08369497932482868, 'num_leaves': 18, 'max_bin': 164}.\n"
     ]
    },
    {
     "name": "stdout",
     "output_type": "stream",
     "text": [
      "Training until validation scores don't improve for 100 rounds.\n",
      "Early stopping, best iteration is:\n",
      "[55]\tvalid_0's auc: 0.875523\n"
     ]
    },
    {
     "name": "stderr",
     "output_type": "stream",
     "text": [
      "[I 2019-04-08 04:38:00,392] Finished trial#160 resulted in value: -0.8755226715228748. Current best value is -0.8874963149787473 with parameters: {'feature_fraction': 0.9077963052915876, 'learning_rate': 0.011358781846579069, 'subsample': 0.8453858498917617, 'min_data_in_leaf': 87, 'min_sum_hessian_in_leaf': 0.0021980270412619816, 'bagging_fraction': 0.8726993481456968, 'bagging_freq': 10, 'min_gain_to_split': 0.8438313225454216, 'lambda_l1': 0.4047026283855469, 'lambda_l2': 0.08369497932482868, 'num_leaves': 18, 'max_bin': 164}.\n"
     ]
    },
    {
     "name": "stdout",
     "output_type": "stream",
     "text": [
      "Training until validation scores don't improve for 100 rounds.\n",
      "[200]\tvalid_0's auc: 0.877011\n",
      "Early stopping, best iteration is:\n",
      "[138]\tvalid_0's auc: 0.878372\n"
     ]
    },
    {
     "name": "stderr",
     "output_type": "stream",
     "text": [
      "[I 2019-04-08 04:38:25,921] Finished trial#161 resulted in value: -0.8783718843249013. Current best value is -0.8874963149787473 with parameters: {'feature_fraction': 0.9077963052915876, 'learning_rate': 0.011358781846579069, 'subsample': 0.8453858498917617, 'min_data_in_leaf': 87, 'min_sum_hessian_in_leaf': 0.0021980270412619816, 'bagging_fraction': 0.8726993481456968, 'bagging_freq': 10, 'min_gain_to_split': 0.8438313225454216, 'lambda_l1': 0.4047026283855469, 'lambda_l2': 0.08369497932482868, 'num_leaves': 18, 'max_bin': 164}.\n"
     ]
    },
    {
     "name": "stdout",
     "output_type": "stream",
     "text": [
      "Training until validation scores don't improve for 100 rounds.\n",
      "[200]\tvalid_0's auc: 0.879371\n",
      "[400]\tvalid_0's auc: 0.883485\n",
      "[600]\tvalid_0's auc: 0.884703\n",
      "Early stopping, best iteration is:\n",
      "[575]\tvalid_0's auc: 0.884729\n"
     ]
    },
    {
     "name": "stderr",
     "output_type": "stream",
     "text": [
      "[I 2019-04-08 04:39:41,543] Finished trial#162 resulted in value: -0.8847287533981013. Current best value is -0.8874963149787473 with parameters: {'feature_fraction': 0.9077963052915876, 'learning_rate': 0.011358781846579069, 'subsample': 0.8453858498917617, 'min_data_in_leaf': 87, 'min_sum_hessian_in_leaf': 0.0021980270412619816, 'bagging_fraction': 0.8726993481456968, 'bagging_freq': 10, 'min_gain_to_split': 0.8438313225454216, 'lambda_l1': 0.4047026283855469, 'lambda_l2': 0.08369497932482868, 'num_leaves': 18, 'max_bin': 164}.\n"
     ]
    },
    {
     "name": "stdout",
     "output_type": "stream",
     "text": [
      "Training until validation scores don't improve for 100 rounds.\n",
      "Early stopping, best iteration is:\n",
      "[98]\tvalid_0's auc: 0.876242\n"
     ]
    },
    {
     "name": "stderr",
     "output_type": "stream",
     "text": [
      "[I 2019-04-08 04:39:59,784] Finished trial#163 resulted in value: -0.8762419973506563. Current best value is -0.8874963149787473 with parameters: {'feature_fraction': 0.9077963052915876, 'learning_rate': 0.011358781846579069, 'subsample': 0.8453858498917617, 'min_data_in_leaf': 87, 'min_sum_hessian_in_leaf': 0.0021980270412619816, 'bagging_fraction': 0.8726993481456968, 'bagging_freq': 10, 'min_gain_to_split': 0.8438313225454216, 'lambda_l1': 0.4047026283855469, 'lambda_l2': 0.08369497932482868, 'num_leaves': 18, 'max_bin': 164}.\n"
     ]
    },
    {
     "name": "stdout",
     "output_type": "stream",
     "text": [
      "Training until validation scores don't improve for 100 rounds.\n",
      "[200]\tvalid_0's auc: 0.880003\n",
      "Early stopping, best iteration is:\n",
      "[260]\tvalid_0's auc: 0.880214\n"
     ]
    },
    {
     "name": "stderr",
     "output_type": "stream",
     "text": [
      "[I 2019-04-08 04:40:45,503] Finished trial#164 resulted in value: -0.8802143603826337. Current best value is -0.8874963149787473 with parameters: {'feature_fraction': 0.9077963052915876, 'learning_rate': 0.011358781846579069, 'subsample': 0.8453858498917617, 'min_data_in_leaf': 87, 'min_sum_hessian_in_leaf': 0.0021980270412619816, 'bagging_fraction': 0.8726993481456968, 'bagging_freq': 10, 'min_gain_to_split': 0.8438313225454216, 'lambda_l1': 0.4047026283855469, 'lambda_l2': 0.08369497932482868, 'num_leaves': 18, 'max_bin': 164}.\n"
     ]
    },
    {
     "name": "stdout",
     "output_type": "stream",
     "text": [
      "Training until validation scores don't improve for 100 rounds.\n",
      "[200]\tvalid_0's auc: 0.86829\n",
      "[400]\tvalid_0's auc: 0.877569\n",
      "[600]\tvalid_0's auc: 0.881369\n",
      "[800]\tvalid_0's auc: 0.883508\n",
      "[1000]\tvalid_0's auc: 0.884513\n",
      "[1200]\tvalid_0's auc: 0.885059\n",
      "[1400]\tvalid_0's auc: 0.885373\n",
      "[1600]\tvalid_0's auc: 0.885493\n",
      "Early stopping, best iteration is:\n",
      "[1584]\tvalid_0's auc: 0.885542\n"
     ]
    },
    {
     "name": "stderr",
     "output_type": "stream",
     "text": [
      "[I 2019-04-08 04:44:17,541] Finished trial#165 resulted in value: -0.8855415598494464. Current best value is -0.8874963149787473 with parameters: {'feature_fraction': 0.9077963052915876, 'learning_rate': 0.011358781846579069, 'subsample': 0.8453858498917617, 'min_data_in_leaf': 87, 'min_sum_hessian_in_leaf': 0.0021980270412619816, 'bagging_fraction': 0.8726993481456968, 'bagging_freq': 10, 'min_gain_to_split': 0.8438313225454216, 'lambda_l1': 0.4047026283855469, 'lambda_l2': 0.08369497932482868, 'num_leaves': 18, 'max_bin': 164}.\n"
     ]
    },
    {
     "name": "stdout",
     "output_type": "stream",
     "text": [
      "Training until validation scores don't improve for 100 rounds.\n",
      "Early stopping, best iteration is:\n",
      "[21]\tvalid_0's auc: 0.866959\n"
     ]
    },
    {
     "name": "stderr",
     "output_type": "stream",
     "text": [
      "[I 2019-04-08 04:44:29,909] Finished trial#166 resulted in value: -0.8669591038692033. Current best value is -0.8874963149787473 with parameters: {'feature_fraction': 0.9077963052915876, 'learning_rate': 0.011358781846579069, 'subsample': 0.8453858498917617, 'min_data_in_leaf': 87, 'min_sum_hessian_in_leaf': 0.0021980270412619816, 'bagging_fraction': 0.8726993481456968, 'bagging_freq': 10, 'min_gain_to_split': 0.8438313225454216, 'lambda_l1': 0.4047026283855469, 'lambda_l2': 0.08369497932482868, 'num_leaves': 18, 'max_bin': 164}.\n"
     ]
    },
    {
     "name": "stdout",
     "output_type": "stream",
     "text": [
      "Training until validation scores don't improve for 100 rounds.\n",
      "[200]\tvalid_0's auc: 0.879994\n",
      "Early stopping, best iteration is:\n",
      "[160]\tvalid_0's auc: 0.880136\n"
     ]
    },
    {
     "name": "stderr",
     "output_type": "stream",
     "text": [
      "[I 2019-04-08 04:44:57,080] Finished trial#167 resulted in value: -0.8801356889814408. Current best value is -0.8874963149787473 with parameters: {'feature_fraction': 0.9077963052915876, 'learning_rate': 0.011358781846579069, 'subsample': 0.8453858498917617, 'min_data_in_leaf': 87, 'min_sum_hessian_in_leaf': 0.0021980270412619816, 'bagging_fraction': 0.8726993481456968, 'bagging_freq': 10, 'min_gain_to_split': 0.8438313225454216, 'lambda_l1': 0.4047026283855469, 'lambda_l2': 0.08369497932482868, 'num_leaves': 18, 'max_bin': 164}.\n"
     ]
    },
    {
     "name": "stdout",
     "output_type": "stream",
     "text": [
      "Training until validation scores don't improve for 100 rounds.\n",
      "[200]\tvalid_0's auc: 0.881829\n",
      "[400]\tvalid_0's auc: 0.882397\n",
      "Early stopping, best iteration is:\n",
      "[338]\tvalid_0's auc: 0.882907\n"
     ]
    },
    {
     "name": "stderr",
     "output_type": "stream",
     "text": [
      "[I 2019-04-08 04:45:45,609] Finished trial#168 resulted in value: -0.8829067765674131. Current best value is -0.8874963149787473 with parameters: {'feature_fraction': 0.9077963052915876, 'learning_rate': 0.011358781846579069, 'subsample': 0.8453858498917617, 'min_data_in_leaf': 87, 'min_sum_hessian_in_leaf': 0.0021980270412619816, 'bagging_fraction': 0.8726993481456968, 'bagging_freq': 10, 'min_gain_to_split': 0.8438313225454216, 'lambda_l1': 0.4047026283855469, 'lambda_l2': 0.08369497932482868, 'num_leaves': 18, 'max_bin': 164}.\n"
     ]
    },
    {
     "name": "stdout",
     "output_type": "stream",
     "text": [
      "Training until validation scores don't improve for 100 rounds.\n",
      "[200]\tvalid_0's auc: 0.853455\n",
      "[400]\tvalid_0's auc: 0.856469\n",
      "[600]\tvalid_0's auc: 0.857652\n",
      "[800]\tvalid_0's auc: 0.858446\n",
      "[1000]\tvalid_0's auc: 0.859344\n",
      "[1200]\tvalid_0's auc: 0.860069\n",
      "[1400]\tvalid_0's auc: 0.860539\n",
      "[1600]\tvalid_0's auc: 0.861272\n",
      "[1800]\tvalid_0's auc: 0.862058\n",
      "[2000]\tvalid_0's auc: 0.863015\n",
      "[2200]\tvalid_0's auc: 0.864265\n",
      "[2400]\tvalid_0's auc: 0.865525\n",
      "[2600]\tvalid_0's auc: 0.866725\n",
      "[2800]\tvalid_0's auc: 0.867843\n",
      "[3000]\tvalid_0's auc: 0.868899\n",
      "[3200]\tvalid_0's auc: 0.869863\n",
      "[3400]\tvalid_0's auc: 0.870908\n",
      "[3600]\tvalid_0's auc: 0.871927\n",
      "[3800]\tvalid_0's auc: 0.872786\n",
      "[4000]\tvalid_0's auc: 0.873599\n",
      "[4200]\tvalid_0's auc: 0.874332\n",
      "[4400]\tvalid_0's auc: 0.874974\n",
      "[4600]\tvalid_0's auc: 0.875541\n",
      "[4800]\tvalid_0's auc: 0.87611\n",
      "[5000]\tvalid_0's auc: 0.876669\n",
      "[5200]\tvalid_0's auc: 0.87715\n",
      "[5400]\tvalid_0's auc: 0.877626\n",
      "[5600]\tvalid_0's auc: 0.878057\n",
      "[5800]\tvalid_0's auc: 0.878468\n",
      "[6000]\tvalid_0's auc: 0.878832\n",
      "[6200]\tvalid_0's auc: 0.879179\n",
      "[6400]\tvalid_0's auc: 0.87955\n",
      "[6600]\tvalid_0's auc: 0.879866\n",
      "[6800]\tvalid_0's auc: 0.880163\n",
      "[7000]\tvalid_0's auc: 0.880457\n",
      "[7200]\tvalid_0's auc: 0.880721\n",
      "[7400]\tvalid_0's auc: 0.880965\n",
      "[7600]\tvalid_0's auc: 0.881263\n",
      "[7800]\tvalid_0's auc: 0.881495\n",
      "[8000]\tvalid_0's auc: 0.881782\n",
      "[8200]\tvalid_0's auc: 0.882036\n",
      "[8400]\tvalid_0's auc: 0.882255\n",
      "[8600]\tvalid_0's auc: 0.882471\n",
      "[8800]\tvalid_0's auc: 0.882709\n",
      "[9000]\tvalid_0's auc: 0.882918\n",
      "[9200]\tvalid_0's auc: 0.883094\n",
      "[9400]\tvalid_0's auc: 0.883278\n",
      "[9600]\tvalid_0's auc: 0.88345\n",
      "[9800]\tvalid_0's auc: 0.883594\n",
      "[10000]\tvalid_0's auc: 0.883776\n",
      "Did not meet early stopping. Best iteration is:\n",
      "[10000]\tvalid_0's auc: 0.883776\n"
     ]
    },
    {
     "name": "stderr",
     "output_type": "stream",
     "text": [
      "[I 2019-04-08 05:03:51,994] Finished trial#169 resulted in value: -0.8837763240495687. Current best value is -0.8874963149787473 with parameters: {'feature_fraction': 0.9077963052915876, 'learning_rate': 0.011358781846579069, 'subsample': 0.8453858498917617, 'min_data_in_leaf': 87, 'min_sum_hessian_in_leaf': 0.0021980270412619816, 'bagging_fraction': 0.8726993481456968, 'bagging_freq': 10, 'min_gain_to_split': 0.8438313225454216, 'lambda_l1': 0.4047026283855469, 'lambda_l2': 0.08369497932482868, 'num_leaves': 18, 'max_bin': 164}.\n"
     ]
    },
    {
     "name": "stdout",
     "output_type": "stream",
     "text": [
      "Training until validation scores don't improve for 100 rounds.\n",
      "Early stopping, best iteration is:\n",
      "[83]\tvalid_0's auc: 0.878033\n"
     ]
    },
    {
     "name": "stderr",
     "output_type": "stream",
     "text": [
      "[I 2019-04-08 05:04:11,619] Finished trial#170 resulted in value: -0.8780325789064682. Current best value is -0.8874963149787473 with parameters: {'feature_fraction': 0.9077963052915876, 'learning_rate': 0.011358781846579069, 'subsample': 0.8453858498917617, 'min_data_in_leaf': 87, 'min_sum_hessian_in_leaf': 0.0021980270412619816, 'bagging_fraction': 0.8726993481456968, 'bagging_freq': 10, 'min_gain_to_split': 0.8438313225454216, 'lambda_l1': 0.4047026283855469, 'lambda_l2': 0.08369497932482868, 'num_leaves': 18, 'max_bin': 164}.\n"
     ]
    },
    {
     "name": "stdout",
     "output_type": "stream",
     "text": [
      "Training until validation scores don't improve for 100 rounds.\n",
      "[200]\tvalid_0's auc: 0.879198\n",
      "[400]\tvalid_0's auc: 0.88396\n",
      "[600]\tvalid_0's auc: 0.884739\n",
      "Early stopping, best iteration is:\n",
      "[612]\tvalid_0's auc: 0.884852\n"
     ]
    },
    {
     "name": "stderr",
     "output_type": "stream",
     "text": [
      "[I 2019-04-08 05:05:35,267] Finished trial#171 resulted in value: -0.8848524747026402. Current best value is -0.8874963149787473 with parameters: {'feature_fraction': 0.9077963052915876, 'learning_rate': 0.011358781846579069, 'subsample': 0.8453858498917617, 'min_data_in_leaf': 87, 'min_sum_hessian_in_leaf': 0.0021980270412619816, 'bagging_fraction': 0.8726993481456968, 'bagging_freq': 10, 'min_gain_to_split': 0.8438313225454216, 'lambda_l1': 0.4047026283855469, 'lambda_l2': 0.08369497932482868, 'num_leaves': 18, 'max_bin': 164}.\n"
     ]
    },
    {
     "name": "stdout",
     "output_type": "stream",
     "text": [
      "Training until validation scores don't improve for 100 rounds.\n",
      "Early stopping, best iteration is:\n",
      "[11]\tvalid_0's auc: 0.865772\n"
     ]
    },
    {
     "name": "stderr",
     "output_type": "stream",
     "text": [
      "[I 2019-04-08 05:05:46,572] Finished trial#172 resulted in value: -0.8657717423167652. Current best value is -0.8874963149787473 with parameters: {'feature_fraction': 0.9077963052915876, 'learning_rate': 0.011358781846579069, 'subsample': 0.8453858498917617, 'min_data_in_leaf': 87, 'min_sum_hessian_in_leaf': 0.0021980270412619816, 'bagging_fraction': 0.8726993481456968, 'bagging_freq': 10, 'min_gain_to_split': 0.8438313225454216, 'lambda_l1': 0.4047026283855469, 'lambda_l2': 0.08369497932482868, 'num_leaves': 18, 'max_bin': 164}.\n"
     ]
    },
    {
     "name": "stdout",
     "output_type": "stream",
     "text": [
      "Training until validation scores don't improve for 100 rounds.\n",
      "[200]\tvalid_0's auc: 0.876733\n",
      "Early stopping, best iteration is:\n",
      "[117]\tvalid_0's auc: 0.87932\n"
     ]
    },
    {
     "name": "stderr",
     "output_type": "stream",
     "text": [
      "[I 2019-04-08 05:06:11,987] Finished trial#173 resulted in value: -0.879320220741761. Current best value is -0.8874963149787473 with parameters: {'feature_fraction': 0.9077963052915876, 'learning_rate': 0.011358781846579069, 'subsample': 0.8453858498917617, 'min_data_in_leaf': 87, 'min_sum_hessian_in_leaf': 0.0021980270412619816, 'bagging_fraction': 0.8726993481456968, 'bagging_freq': 10, 'min_gain_to_split': 0.8438313225454216, 'lambda_l1': 0.4047026283855469, 'lambda_l2': 0.08369497932482868, 'num_leaves': 18, 'max_bin': 164}.\n"
     ]
    },
    {
     "name": "stdout",
     "output_type": "stream",
     "text": [
      "Training until validation scores don't improve for 100 rounds.\n",
      "Early stopping, best iteration is:\n",
      "[10]\tvalid_0's auc: 0.862494\n"
     ]
    },
    {
     "name": "stderr",
     "output_type": "stream",
     "text": [
      "[I 2019-04-08 05:06:21,581] Finished trial#174 resulted in value: -0.8624943549346099. Current best value is -0.8874963149787473 with parameters: {'feature_fraction': 0.9077963052915876, 'learning_rate': 0.011358781846579069, 'subsample': 0.8453858498917617, 'min_data_in_leaf': 87, 'min_sum_hessian_in_leaf': 0.0021980270412619816, 'bagging_fraction': 0.8726993481456968, 'bagging_freq': 10, 'min_gain_to_split': 0.8438313225454216, 'lambda_l1': 0.4047026283855469, 'lambda_l2': 0.08369497932482868, 'num_leaves': 18, 'max_bin': 164}.\n"
     ]
    },
    {
     "name": "stdout",
     "output_type": "stream",
     "text": [
      "Training until validation scores don't improve for 100 rounds.\n",
      "[200]\tvalid_0's auc: 0.874004\n",
      "[400]\tvalid_0's auc: 0.881478\n",
      "[600]\tvalid_0's auc: 0.884005\n",
      "[800]\tvalid_0's auc: 0.885268\n",
      "[1000]\tvalid_0's auc: 0.885919\n",
      "Early stopping, best iteration is:\n",
      "[1008]\tvalid_0's auc: 0.88597\n"
     ]
    },
    {
     "name": "stderr",
     "output_type": "stream",
     "text": [
      "[I 2019-04-08 05:08:35,094] Finished trial#175 resulted in value: -0.8859696030685925. Current best value is -0.8874963149787473 with parameters: {'feature_fraction': 0.9077963052915876, 'learning_rate': 0.011358781846579069, 'subsample': 0.8453858498917617, 'min_data_in_leaf': 87, 'min_sum_hessian_in_leaf': 0.0021980270412619816, 'bagging_fraction': 0.8726993481456968, 'bagging_freq': 10, 'min_gain_to_split': 0.8438313225454216, 'lambda_l1': 0.4047026283855469, 'lambda_l2': 0.08369497932482868, 'num_leaves': 18, 'max_bin': 164}.\n"
     ]
    },
    {
     "name": "stdout",
     "output_type": "stream",
     "text": [
      "Training until validation scores don't improve for 100 rounds.\n",
      "[200]\tvalid_0's auc: 0.880509\n",
      "[400]\tvalid_0's auc: 0.882774\n",
      "Early stopping, best iteration is:\n",
      "[471]\tvalid_0's auc: 0.883132\n"
     ]
    },
    {
     "name": "stderr",
     "output_type": "stream",
     "text": [
      "[I 2019-04-08 05:09:51,223] Finished trial#176 resulted in value: -0.8831315766913073. Current best value is -0.8874963149787473 with parameters: {'feature_fraction': 0.9077963052915876, 'learning_rate': 0.011358781846579069, 'subsample': 0.8453858498917617, 'min_data_in_leaf': 87, 'min_sum_hessian_in_leaf': 0.0021980270412619816, 'bagging_fraction': 0.8726993481456968, 'bagging_freq': 10, 'min_gain_to_split': 0.8438313225454216, 'lambda_l1': 0.4047026283855469, 'lambda_l2': 0.08369497932482868, 'num_leaves': 18, 'max_bin': 164}.\n"
     ]
    },
    {
     "name": "stdout",
     "output_type": "stream",
     "text": [
      "Training until validation scores don't improve for 100 rounds.\n",
      "Early stopping, best iteration is:\n",
      "[8]\tvalid_0's auc: 0.860672\n"
     ]
    },
    {
     "name": "stderr",
     "output_type": "stream",
     "text": [
      "[I 2019-04-08 05:10:00,687] Finished trial#177 resulted in value: -0.8606720911838805. Current best value is -0.8874963149787473 with parameters: {'feature_fraction': 0.9077963052915876, 'learning_rate': 0.011358781846579069, 'subsample': 0.8453858498917617, 'min_data_in_leaf': 87, 'min_sum_hessian_in_leaf': 0.0021980270412619816, 'bagging_fraction': 0.8726993481456968, 'bagging_freq': 10, 'min_gain_to_split': 0.8438313225454216, 'lambda_l1': 0.4047026283855469, 'lambda_l2': 0.08369497932482868, 'num_leaves': 18, 'max_bin': 164}.\n"
     ]
    },
    {
     "name": "stdout",
     "output_type": "stream",
     "text": [
      "Training until validation scores don't improve for 100 rounds.\n",
      "[200]\tvalid_0's auc: 0.880236\n",
      "Early stopping, best iteration is:\n",
      "[275]\tvalid_0's auc: 0.881252\n"
     ]
    },
    {
     "name": "stderr",
     "output_type": "stream",
     "text": [
      "[I 2019-04-08 05:10:37,717] Finished trial#178 resulted in value: -0.8812516558397562. Current best value is -0.8874963149787473 with parameters: {'feature_fraction': 0.9077963052915876, 'learning_rate': 0.011358781846579069, 'subsample': 0.8453858498917617, 'min_data_in_leaf': 87, 'min_sum_hessian_in_leaf': 0.0021980270412619816, 'bagging_fraction': 0.8726993481456968, 'bagging_freq': 10, 'min_gain_to_split': 0.8438313225454216, 'lambda_l1': 0.4047026283855469, 'lambda_l2': 0.08369497932482868, 'num_leaves': 18, 'max_bin': 164}.\n"
     ]
    },
    {
     "name": "stdout",
     "output_type": "stream",
     "text": [
      "Training until validation scores don't improve for 100 rounds.\n",
      "[200]\tvalid_0's auc: 0.879788\n",
      "Early stopping, best iteration is:\n",
      "[174]\tvalid_0's auc: 0.880426\n"
     ]
    },
    {
     "name": "stderr",
     "output_type": "stream",
     "text": [
      "[I 2019-04-08 05:11:03,339] Finished trial#179 resulted in value: -0.8804260036670455. Current best value is -0.8874963149787473 with parameters: {'feature_fraction': 0.9077963052915876, 'learning_rate': 0.011358781846579069, 'subsample': 0.8453858498917617, 'min_data_in_leaf': 87, 'min_sum_hessian_in_leaf': 0.0021980270412619816, 'bagging_fraction': 0.8726993481456968, 'bagging_freq': 10, 'min_gain_to_split': 0.8438313225454216, 'lambda_l1': 0.4047026283855469, 'lambda_l2': 0.08369497932482868, 'num_leaves': 18, 'max_bin': 164}.\n"
     ]
    },
    {
     "name": "stdout",
     "output_type": "stream",
     "text": [
      "Training until validation scores don't improve for 100 rounds.\n",
      "Early stopping, best iteration is:\n",
      "[22]\tvalid_0's auc: 0.867177\n"
     ]
    },
    {
     "name": "stderr",
     "output_type": "stream",
     "text": [
      "[I 2019-04-08 05:11:18,113] Finished trial#180 resulted in value: -0.8671770593945227. Current best value is -0.8874963149787473 with parameters: {'feature_fraction': 0.9077963052915876, 'learning_rate': 0.011358781846579069, 'subsample': 0.8453858498917617, 'min_data_in_leaf': 87, 'min_sum_hessian_in_leaf': 0.0021980270412619816, 'bagging_fraction': 0.8726993481456968, 'bagging_freq': 10, 'min_gain_to_split': 0.8438313225454216, 'lambda_l1': 0.4047026283855469, 'lambda_l2': 0.08369497932482868, 'num_leaves': 18, 'max_bin': 164}.\n"
     ]
    },
    {
     "name": "stdout",
     "output_type": "stream",
     "text": [
      "Training until validation scores don't improve for 100 rounds.\n",
      "Early stopping, best iteration is:\n",
      "[52]\tvalid_0's auc: 0.874352\n"
     ]
    },
    {
     "name": "stderr",
     "output_type": "stream",
     "text": [
      "[I 2019-04-08 05:11:36,017] Finished trial#181 resulted in value: -0.8743521829429838. Current best value is -0.8874963149787473 with parameters: {'feature_fraction': 0.9077963052915876, 'learning_rate': 0.011358781846579069, 'subsample': 0.8453858498917617, 'min_data_in_leaf': 87, 'min_sum_hessian_in_leaf': 0.0021980270412619816, 'bagging_fraction': 0.8726993481456968, 'bagging_freq': 10, 'min_gain_to_split': 0.8438313225454216, 'lambda_l1': 0.4047026283855469, 'lambda_l2': 0.08369497932482868, 'num_leaves': 18, 'max_bin': 164}.\n"
     ]
    },
    {
     "name": "stdout",
     "output_type": "stream",
     "text": [
      "Training until validation scores don't improve for 100 rounds.\n",
      "[200]\tvalid_0's auc: 0.882317\n",
      "Early stopping, best iteration is:\n",
      "[290]\tvalid_0's auc: 0.883068\n"
     ]
    },
    {
     "name": "stderr",
     "output_type": "stream",
     "text": [
      "[I 2019-04-08 05:12:16,907] Finished trial#182 resulted in value: -0.883067700685013. Current best value is -0.8874963149787473 with parameters: {'feature_fraction': 0.9077963052915876, 'learning_rate': 0.011358781846579069, 'subsample': 0.8453858498917617, 'min_data_in_leaf': 87, 'min_sum_hessian_in_leaf': 0.0021980270412619816, 'bagging_fraction': 0.8726993481456968, 'bagging_freq': 10, 'min_gain_to_split': 0.8438313225454216, 'lambda_l1': 0.4047026283855469, 'lambda_l2': 0.08369497932482868, 'num_leaves': 18, 'max_bin': 164}.\n"
     ]
    },
    {
     "name": "stdout",
     "output_type": "stream",
     "text": [
      "Training until validation scores don't improve for 100 rounds.\n",
      "[200]\tvalid_0's auc: 0.857168\n",
      "[400]\tvalid_0's auc: 0.858989\n",
      "[600]\tvalid_0's auc: 0.860397\n",
      "[800]\tvalid_0's auc: 0.861771\n",
      "[1000]\tvalid_0's auc: 0.863475\n",
      "[1200]\tvalid_0's auc: 0.86572\n",
      "[1400]\tvalid_0's auc: 0.868118\n",
      "[1600]\tvalid_0's auc: 0.870115\n",
      "[1800]\tvalid_0's auc: 0.871955\n",
      "[2000]\tvalid_0's auc: 0.873709\n",
      "[2200]\tvalid_0's auc: 0.875107\n",
      "[2400]\tvalid_0's auc: 0.876253\n",
      "[2600]\tvalid_0's auc: 0.877276\n",
      "[2800]\tvalid_0's auc: 0.878185\n",
      "[3000]\tvalid_0's auc: 0.878999\n",
      "[3200]\tvalid_0's auc: 0.879762\n",
      "[3400]\tvalid_0's auc: 0.880405\n",
      "[3600]\tvalid_0's auc: 0.880981\n",
      "[3800]\tvalid_0's auc: 0.881555\n",
      "[4000]\tvalid_0's auc: 0.882057\n",
      "[4200]\tvalid_0's auc: 0.882503\n",
      "[4400]\tvalid_0's auc: 0.882923\n",
      "[4600]\tvalid_0's auc: 0.8833\n",
      "[4800]\tvalid_0's auc: 0.8836\n",
      "[5000]\tvalid_0's auc: 0.88392\n",
      "[5200]\tvalid_0's auc: 0.884247\n",
      "[5400]\tvalid_0's auc: 0.884529\n",
      "[5600]\tvalid_0's auc: 0.88478\n",
      "[5800]\tvalid_0's auc: 0.885032\n",
      "[6000]\tvalid_0's auc: 0.885294\n",
      "[6200]\tvalid_0's auc: 0.885475\n",
      "[6400]\tvalid_0's auc: 0.885655\n",
      "[6600]\tvalid_0's auc: 0.885845\n",
      "[6800]\tvalid_0's auc: 0.886019\n",
      "[7000]\tvalid_0's auc: 0.886133\n",
      "[7200]\tvalid_0's auc: 0.886262\n",
      "[7400]\tvalid_0's auc: 0.886368\n",
      "[7600]\tvalid_0's auc: 0.886518\n",
      "[7800]\tvalid_0's auc: 0.886561\n",
      "[8000]\tvalid_0's auc: 0.886663\n",
      "[8200]\tvalid_0's auc: 0.886739\n",
      "[8400]\tvalid_0's auc: 0.886804\n",
      "[8600]\tvalid_0's auc: 0.886876\n",
      "[8800]\tvalid_0's auc: 0.886935\n",
      "[9000]\tvalid_0's auc: 0.886993\n",
      "[9200]\tvalid_0's auc: 0.887025\n",
      "[9400]\tvalid_0's auc: 0.88706\n",
      "Early stopping, best iteration is:\n",
      "[9349]\tvalid_0's auc: 0.887072\n"
     ]
    },
    {
     "name": "stderr",
     "output_type": "stream",
     "text": [
      "[I 2019-04-08 05:33:45,816] Finished trial#183 resulted in value: -0.8870715143017542. Current best value is -0.8874963149787473 with parameters: {'feature_fraction': 0.9077963052915876, 'learning_rate': 0.011358781846579069, 'subsample': 0.8453858498917617, 'min_data_in_leaf': 87, 'min_sum_hessian_in_leaf': 0.0021980270412619816, 'bagging_fraction': 0.8726993481456968, 'bagging_freq': 10, 'min_gain_to_split': 0.8438313225454216, 'lambda_l1': 0.4047026283855469, 'lambda_l2': 0.08369497932482868, 'num_leaves': 18, 'max_bin': 164}.\n"
     ]
    },
    {
     "name": "stdout",
     "output_type": "stream",
     "text": [
      "Training until validation scores don't improve for 100 rounds.\n",
      "[200]\tvalid_0's auc: 0.869442\n",
      "[400]\tvalid_0's auc: 0.87907\n",
      "[600]\tvalid_0's auc: 0.882247\n",
      "[800]\tvalid_0's auc: 0.884325\n",
      "[1000]\tvalid_0's auc: 0.885526\n",
      "[1200]\tvalid_0's auc: 0.886054\n",
      "Early stopping, best iteration is:\n",
      "[1216]\tvalid_0's auc: 0.886123\n"
     ]
    },
    {
     "name": "stderr",
     "output_type": "stream",
     "text": [
      "[I 2019-04-08 05:36:36,269] Finished trial#184 resulted in value: -0.8861232954184055. Current best value is -0.8874963149787473 with parameters: {'feature_fraction': 0.9077963052915876, 'learning_rate': 0.011358781846579069, 'subsample': 0.8453858498917617, 'min_data_in_leaf': 87, 'min_sum_hessian_in_leaf': 0.0021980270412619816, 'bagging_fraction': 0.8726993481456968, 'bagging_freq': 10, 'min_gain_to_split': 0.8438313225454216, 'lambda_l1': 0.4047026283855469, 'lambda_l2': 0.08369497932482868, 'num_leaves': 18, 'max_bin': 164}.\n"
     ]
    },
    {
     "name": "stdout",
     "output_type": "stream",
     "text": [
      "Training until validation scores don't improve for 100 rounds.\n",
      "Early stopping, best iteration is:\n",
      "[9]\tvalid_0's auc: 0.862858\n"
     ]
    },
    {
     "name": "stderr",
     "output_type": "stream",
     "text": [
      "[I 2019-04-08 05:36:47,966] Finished trial#185 resulted in value: -0.8628582628823642. Current best value is -0.8874963149787473 with parameters: {'feature_fraction': 0.9077963052915876, 'learning_rate': 0.011358781846579069, 'subsample': 0.8453858498917617, 'min_data_in_leaf': 87, 'min_sum_hessian_in_leaf': 0.0021980270412619816, 'bagging_fraction': 0.8726993481456968, 'bagging_freq': 10, 'min_gain_to_split': 0.8438313225454216, 'lambda_l1': 0.4047026283855469, 'lambda_l2': 0.08369497932482868, 'num_leaves': 18, 'max_bin': 164}.\n"
     ]
    },
    {
     "name": "stdout",
     "output_type": "stream",
     "text": [
      "Training until validation scores don't improve for 100 rounds.\n",
      "[200]\tvalid_0's auc: 0.873692\n",
      "Early stopping, best iteration is:\n",
      "[118]\tvalid_0's auc: 0.875251\n"
     ]
    },
    {
     "name": "stderr",
     "output_type": "stream",
     "text": [
      "[I 2019-04-08 05:37:09,350] Finished trial#186 resulted in value: -0.8752511760264824. Current best value is -0.8874963149787473 with parameters: {'feature_fraction': 0.9077963052915876, 'learning_rate': 0.011358781846579069, 'subsample': 0.8453858498917617, 'min_data_in_leaf': 87, 'min_sum_hessian_in_leaf': 0.0021980270412619816, 'bagging_fraction': 0.8726993481456968, 'bagging_freq': 10, 'min_gain_to_split': 0.8438313225454216, 'lambda_l1': 0.4047026283855469, 'lambda_l2': 0.08369497932482868, 'num_leaves': 18, 'max_bin': 164}.\n"
     ]
    },
    {
     "name": "stdout",
     "output_type": "stream",
     "text": [
      "Training until validation scores don't improve for 100 rounds.\n",
      "[200]\tvalid_0's auc: 0.87816\n",
      "Early stopping, best iteration is:\n",
      "[186]\tvalid_0's auc: 0.878517\n"
     ]
    },
    {
     "name": "stderr",
     "output_type": "stream",
     "text": [
      "[I 2019-04-08 05:37:44,499] Finished trial#187 resulted in value: -0.8785165819042641. Current best value is -0.8874963149787473 with parameters: {'feature_fraction': 0.9077963052915876, 'learning_rate': 0.011358781846579069, 'subsample': 0.8453858498917617, 'min_data_in_leaf': 87, 'min_sum_hessian_in_leaf': 0.0021980270412619816, 'bagging_fraction': 0.8726993481456968, 'bagging_freq': 10, 'min_gain_to_split': 0.8438313225454216, 'lambda_l1': 0.4047026283855469, 'lambda_l2': 0.08369497932482868, 'num_leaves': 18, 'max_bin': 164}.\n"
     ]
    },
    {
     "name": "stdout",
     "output_type": "stream",
     "text": [
      "Training until validation scores don't improve for 100 rounds.\n",
      "[200]\tvalid_0's auc: 0.880785\n",
      "[400]\tvalid_0's auc: 0.883951\n",
      "[600]\tvalid_0's auc: 0.884481\n",
      "Early stopping, best iteration is:\n",
      "[606]\tvalid_0's auc: 0.884613\n"
     ]
    },
    {
     "name": "stderr",
     "output_type": "stream",
     "text": [
      "[I 2019-04-08 05:39:00,847] Finished trial#188 resulted in value: -0.8846128930113193. Current best value is -0.8874963149787473 with parameters: {'feature_fraction': 0.9077963052915876, 'learning_rate': 0.011358781846579069, 'subsample': 0.8453858498917617, 'min_data_in_leaf': 87, 'min_sum_hessian_in_leaf': 0.0021980270412619816, 'bagging_fraction': 0.8726993481456968, 'bagging_freq': 10, 'min_gain_to_split': 0.8438313225454216, 'lambda_l1': 0.4047026283855469, 'lambda_l2': 0.08369497932482868, 'num_leaves': 18, 'max_bin': 164}.\n"
     ]
    },
    {
     "name": "stdout",
     "output_type": "stream",
     "text": [
      "Training until validation scores don't improve for 100 rounds.\n",
      "[200]\tvalid_0's auc: 0.878267\n",
      "[400]\tvalid_0's auc: 0.884029\n",
      "[600]\tvalid_0's auc: 0.88559\n",
      "[800]\tvalid_0's auc: 0.885682\n",
      "Early stopping, best iteration is:\n",
      "[817]\tvalid_0's auc: 0.885762\n"
     ]
    },
    {
     "name": "stderr",
     "output_type": "stream",
     "text": [
      "[I 2019-04-08 05:40:44,947] Finished trial#189 resulted in value: -0.8857621564218926. Current best value is -0.8874963149787473 with parameters: {'feature_fraction': 0.9077963052915876, 'learning_rate': 0.011358781846579069, 'subsample': 0.8453858498917617, 'min_data_in_leaf': 87, 'min_sum_hessian_in_leaf': 0.0021980270412619816, 'bagging_fraction': 0.8726993481456968, 'bagging_freq': 10, 'min_gain_to_split': 0.8438313225454216, 'lambda_l1': 0.4047026283855469, 'lambda_l2': 0.08369497932482868, 'num_leaves': 18, 'max_bin': 164}.\n"
     ]
    },
    {
     "name": "stdout",
     "output_type": "stream",
     "text": [
      "Training until validation scores don't improve for 100 rounds.\n",
      "[200]\tvalid_0's auc: 0.881137\n",
      "Early stopping, best iteration is:\n",
      "[229]\tvalid_0's auc: 0.881489\n"
     ]
    },
    {
     "name": "stderr",
     "output_type": "stream",
     "text": [
      "[I 2019-04-08 05:41:15,853] Finished trial#190 resulted in value: -0.8814888592059159. Current best value is -0.8874963149787473 with parameters: {'feature_fraction': 0.9077963052915876, 'learning_rate': 0.011358781846579069, 'subsample': 0.8453858498917617, 'min_data_in_leaf': 87, 'min_sum_hessian_in_leaf': 0.0021980270412619816, 'bagging_fraction': 0.8726993481456968, 'bagging_freq': 10, 'min_gain_to_split': 0.8438313225454216, 'lambda_l1': 0.4047026283855469, 'lambda_l2': 0.08369497932482868, 'num_leaves': 18, 'max_bin': 164}.\n"
     ]
    },
    {
     "name": "stdout",
     "output_type": "stream",
     "text": [
      "Training until validation scores don't improve for 100 rounds.\n",
      "Early stopping, best iteration is:\n",
      "[84]\tvalid_0's auc: 0.878695\n"
     ]
    },
    {
     "name": "stderr",
     "output_type": "stream",
     "text": [
      "[I 2019-04-08 05:41:34,452] Finished trial#191 resulted in value: -0.8786946935693959. Current best value is -0.8874963149787473 with parameters: {'feature_fraction': 0.9077963052915876, 'learning_rate': 0.011358781846579069, 'subsample': 0.8453858498917617, 'min_data_in_leaf': 87, 'min_sum_hessian_in_leaf': 0.0021980270412619816, 'bagging_fraction': 0.8726993481456968, 'bagging_freq': 10, 'min_gain_to_split': 0.8438313225454216, 'lambda_l1': 0.4047026283855469, 'lambda_l2': 0.08369497932482868, 'num_leaves': 18, 'max_bin': 164}.\n"
     ]
    },
    {
     "name": "stdout",
     "output_type": "stream",
     "text": [
      "Training until validation scores don't improve for 100 rounds.\n",
      "Early stopping, best iteration is:\n",
      "[14]\tvalid_0's auc: 0.863254\n"
     ]
    },
    {
     "name": "stderr",
     "output_type": "stream",
     "text": [
      "[I 2019-04-08 05:41:48,454] Finished trial#192 resulted in value: -0.8632538080857526. Current best value is -0.8874963149787473 with parameters: {'feature_fraction': 0.9077963052915876, 'learning_rate': 0.011358781846579069, 'subsample': 0.8453858498917617, 'min_data_in_leaf': 87, 'min_sum_hessian_in_leaf': 0.0021980270412619816, 'bagging_fraction': 0.8726993481456968, 'bagging_freq': 10, 'min_gain_to_split': 0.8438313225454216, 'lambda_l1': 0.4047026283855469, 'lambda_l2': 0.08369497932482868, 'num_leaves': 18, 'max_bin': 164}.\n"
     ]
    },
    {
     "name": "stdout",
     "output_type": "stream",
     "text": [
      "Training until validation scores don't improve for 100 rounds.\n",
      "Early stopping, best iteration is:\n",
      "[65]\tvalid_0's auc: 0.873844\n"
     ]
    },
    {
     "name": "stderr",
     "output_type": "stream",
     "text": [
      "[I 2019-04-08 05:42:07,971] Finished trial#193 resulted in value: -0.8738444727446701. Current best value is -0.8874963149787473 with parameters: {'feature_fraction': 0.9077963052915876, 'learning_rate': 0.011358781846579069, 'subsample': 0.8453858498917617, 'min_data_in_leaf': 87, 'min_sum_hessian_in_leaf': 0.0021980270412619816, 'bagging_fraction': 0.8726993481456968, 'bagging_freq': 10, 'min_gain_to_split': 0.8438313225454216, 'lambda_l1': 0.4047026283855469, 'lambda_l2': 0.08369497932482868, 'num_leaves': 18, 'max_bin': 164}.\n"
     ]
    },
    {
     "name": "stdout",
     "output_type": "stream",
     "text": [
      "Training until validation scores don't improve for 100 rounds.\n",
      "[200]\tvalid_0's auc: 0.880788\n",
      "Early stopping, best iteration is:\n",
      "[212]\tvalid_0's auc: 0.881062\n"
     ]
    },
    {
     "name": "stderr",
     "output_type": "stream",
     "text": [
      "[I 2019-04-08 05:42:44,206] Finished trial#194 resulted in value: -0.8810616732900256. Current best value is -0.8874963149787473 with parameters: {'feature_fraction': 0.9077963052915876, 'learning_rate': 0.011358781846579069, 'subsample': 0.8453858498917617, 'min_data_in_leaf': 87, 'min_sum_hessian_in_leaf': 0.0021980270412619816, 'bagging_fraction': 0.8726993481456968, 'bagging_freq': 10, 'min_gain_to_split': 0.8438313225454216, 'lambda_l1': 0.4047026283855469, 'lambda_l2': 0.08369497932482868, 'num_leaves': 18, 'max_bin': 164}.\n"
     ]
    },
    {
     "name": "stdout",
     "output_type": "stream",
     "text": [
      "Training until validation scores don't improve for 100 rounds.\n",
      "Early stopping, best iteration is:\n",
      "[48]\tvalid_0's auc: 0.874447\n"
     ]
    },
    {
     "name": "stderr",
     "output_type": "stream",
     "text": [
      "[I 2019-04-08 05:42:59,647] Finished trial#195 resulted in value: -0.8744470601412061. Current best value is -0.8874963149787473 with parameters: {'feature_fraction': 0.9077963052915876, 'learning_rate': 0.011358781846579069, 'subsample': 0.8453858498917617, 'min_data_in_leaf': 87, 'min_sum_hessian_in_leaf': 0.0021980270412619816, 'bagging_fraction': 0.8726993481456968, 'bagging_freq': 10, 'min_gain_to_split': 0.8438313225454216, 'lambda_l1': 0.4047026283855469, 'lambda_l2': 0.08369497932482868, 'num_leaves': 18, 'max_bin': 164}.\n"
     ]
    },
    {
     "name": "stdout",
     "output_type": "stream",
     "text": [
      "Training until validation scores don't improve for 100 rounds.\n",
      "[200]\tvalid_0's auc: 0.882062\n",
      "[400]\tvalid_0's auc: 0.883826\n",
      "Early stopping, best iteration is:\n",
      "[399]\tvalid_0's auc: 0.883859\n"
     ]
    },
    {
     "name": "stderr",
     "output_type": "stream",
     "text": [
      "[I 2019-04-08 05:43:58,185] Finished trial#196 resulted in value: -0.8838588947978285. Current best value is -0.8874963149787473 with parameters: {'feature_fraction': 0.9077963052915876, 'learning_rate': 0.011358781846579069, 'subsample': 0.8453858498917617, 'min_data_in_leaf': 87, 'min_sum_hessian_in_leaf': 0.0021980270412619816, 'bagging_fraction': 0.8726993481456968, 'bagging_freq': 10, 'min_gain_to_split': 0.8438313225454216, 'lambda_l1': 0.4047026283855469, 'lambda_l2': 0.08369497932482868, 'num_leaves': 18, 'max_bin': 164}.\n"
     ]
    },
    {
     "name": "stdout",
     "output_type": "stream",
     "text": [
      "Training until validation scores don't improve for 100 rounds.\n",
      "Early stopping, best iteration is:\n",
      "[19]\tvalid_0's auc: 0.866355\n"
     ]
    },
    {
     "name": "stderr",
     "output_type": "stream",
     "text": [
      "[I 2019-04-08 05:44:13,815] Finished trial#197 resulted in value: -0.8663550991568009. Current best value is -0.8874963149787473 with parameters: {'feature_fraction': 0.9077963052915876, 'learning_rate': 0.011358781846579069, 'subsample': 0.8453858498917617, 'min_data_in_leaf': 87, 'min_sum_hessian_in_leaf': 0.0021980270412619816, 'bagging_fraction': 0.8726993481456968, 'bagging_freq': 10, 'min_gain_to_split': 0.8438313225454216, 'lambda_l1': 0.4047026283855469, 'lambda_l2': 0.08369497932482868, 'num_leaves': 18, 'max_bin': 164}.\n"
     ]
    },
    {
     "name": "stdout",
     "output_type": "stream",
     "text": [
      "Training until validation scores don't improve for 100 rounds.\n",
      "Early stopping, best iteration is:\n",
      "[67]\tvalid_0's auc: 0.874527\n"
     ]
    },
    {
     "name": "stderr",
     "output_type": "stream",
     "text": [
      "[I 2019-04-08 05:44:32,120] Finished trial#198 resulted in value: -0.8745271212033219. Current best value is -0.8874963149787473 with parameters: {'feature_fraction': 0.9077963052915876, 'learning_rate': 0.011358781846579069, 'subsample': 0.8453858498917617, 'min_data_in_leaf': 87, 'min_sum_hessian_in_leaf': 0.0021980270412619816, 'bagging_fraction': 0.8726993481456968, 'bagging_freq': 10, 'min_gain_to_split': 0.8438313225454216, 'lambda_l1': 0.4047026283855469, 'lambda_l2': 0.08369497932482868, 'num_leaves': 18, 'max_bin': 164}.\n"
     ]
    },
    {
     "name": "stdout",
     "output_type": "stream",
     "text": [
      "Training until validation scores don't improve for 100 rounds.\n",
      "[200]\tvalid_0's auc: 0.875789\n",
      "Early stopping, best iteration is:\n",
      "[170]\tvalid_0's auc: 0.87627\n"
     ]
    },
    {
     "name": "stderr",
     "output_type": "stream",
     "text": [
      "[I 2019-04-08 05:45:01,677] Finished trial#199 resulted in value: -0.8762698389652624. Current best value is -0.8874963149787473 with parameters: {'feature_fraction': 0.9077963052915876, 'learning_rate': 0.011358781846579069, 'subsample': 0.8453858498917617, 'min_data_in_leaf': 87, 'min_sum_hessian_in_leaf': 0.0021980270412619816, 'bagging_fraction': 0.8726993481456968, 'bagging_freq': 10, 'min_gain_to_split': 0.8438313225454216, 'lambda_l1': 0.4047026283855469, 'lambda_l2': 0.08369497932482868, 'num_leaves': 18, 'max_bin': 164}.\n"
     ]
    },
    {
     "name": "stdout",
     "output_type": "stream",
     "text": [
      "Training until validation scores don't improve for 100 rounds.\n",
      "[200]\tvalid_0's auc: 0.882449\n",
      "[400]\tvalid_0's auc: 0.882793\n",
      "Early stopping, best iteration is:\n",
      "[320]\tvalid_0's auc: 0.883868\n"
     ]
    },
    {
     "name": "stderr",
     "output_type": "stream",
     "text": [
      "[I 2019-04-08 05:45:45,789] Finished trial#200 resulted in value: -0.8838683735297941. Current best value is -0.8874963149787473 with parameters: {'feature_fraction': 0.9077963052915876, 'learning_rate': 0.011358781846579069, 'subsample': 0.8453858498917617, 'min_data_in_leaf': 87, 'min_sum_hessian_in_leaf': 0.0021980270412619816, 'bagging_fraction': 0.8726993481456968, 'bagging_freq': 10, 'min_gain_to_split': 0.8438313225454216, 'lambda_l1': 0.4047026283855469, 'lambda_l2': 0.08369497932482868, 'num_leaves': 18, 'max_bin': 164}.\n"
     ]
    },
    {
     "name": "stdout",
     "output_type": "stream",
     "text": [
      "Training until validation scores don't improve for 100 rounds.\n",
      "[200]\tvalid_0's auc: 0.878555\n",
      "[400]\tvalid_0's auc: 0.883446\n",
      "[600]\tvalid_0's auc: 0.885402\n",
      "Early stopping, best iteration is:\n",
      "[677]\tvalid_0's auc: 0.885625\n"
     ]
    },
    {
     "name": "stderr",
     "output_type": "stream",
     "text": [
      "[I 2019-04-08 05:47:23,490] Finished trial#201 resulted in value: -0.8856253750701745. Current best value is -0.8874963149787473 with parameters: {'feature_fraction': 0.9077963052915876, 'learning_rate': 0.011358781846579069, 'subsample': 0.8453858498917617, 'min_data_in_leaf': 87, 'min_sum_hessian_in_leaf': 0.0021980270412619816, 'bagging_fraction': 0.8726993481456968, 'bagging_freq': 10, 'min_gain_to_split': 0.8438313225454216, 'lambda_l1': 0.4047026283855469, 'lambda_l2': 0.08369497932482868, 'num_leaves': 18, 'max_bin': 164}.\n"
     ]
    },
    {
     "name": "stdout",
     "output_type": "stream",
     "text": [
      "Training until validation scores don't improve for 100 rounds.\n",
      "[200]\tvalid_0's auc: 0.868629\n",
      "[400]\tvalid_0's auc: 0.878603\n",
      "[600]\tvalid_0's auc: 0.882522\n",
      "[800]\tvalid_0's auc: 0.884328\n",
      "[1000]\tvalid_0's auc: 0.88565\n",
      "[1200]\tvalid_0's auc: 0.886103\n",
      "[1400]\tvalid_0's auc: 0.886228\n",
      "[1600]\tvalid_0's auc: 0.886342\n",
      "Early stopping, best iteration is:\n",
      "[1528]\tvalid_0's auc: 0.886392\n"
     ]
    },
    {
     "name": "stderr",
     "output_type": "stream",
     "text": [
      "[I 2019-04-08 05:51:12,150] Finished trial#202 resulted in value: -0.8863916728198917. Current best value is -0.8874963149787473 with parameters: {'feature_fraction': 0.9077963052915876, 'learning_rate': 0.011358781846579069, 'subsample': 0.8453858498917617, 'min_data_in_leaf': 87, 'min_sum_hessian_in_leaf': 0.0021980270412619816, 'bagging_fraction': 0.8726993481456968, 'bagging_freq': 10, 'min_gain_to_split': 0.8438313225454216, 'lambda_l1': 0.4047026283855469, 'lambda_l2': 0.08369497932482868, 'num_leaves': 18, 'max_bin': 164}.\n"
     ]
    },
    {
     "name": "stdout",
     "output_type": "stream",
     "text": [
      "Training until validation scores don't improve for 100 rounds.\n",
      "[200]\tvalid_0's auc: 0.853912\n",
      "[400]\tvalid_0's auc: 0.856628\n",
      "[600]\tvalid_0's auc: 0.858296\n",
      "[800]\tvalid_0's auc: 0.859684\n",
      "[1000]\tvalid_0's auc: 0.86044\n",
      "[1200]\tvalid_0's auc: 0.861112\n",
      "[1400]\tvalid_0's auc: 0.862088\n",
      "[1600]\tvalid_0's auc: 0.863258\n",
      "[1800]\tvalid_0's auc: 0.864758\n",
      "[2000]\tvalid_0's auc: 0.866247\n",
      "[2200]\tvalid_0's auc: 0.867737\n",
      "[2400]\tvalid_0's auc: 0.869008\n",
      "[2600]\tvalid_0's auc: 0.870266\n",
      "[2800]\tvalid_0's auc: 0.871534\n",
      "[3000]\tvalid_0's auc: 0.872809\n",
      "[3200]\tvalid_0's auc: 0.873812\n",
      "[3400]\tvalid_0's auc: 0.874685\n",
      "[3600]\tvalid_0's auc: 0.875545\n",
      "[3800]\tvalid_0's auc: 0.876299\n",
      "[4000]\tvalid_0's auc: 0.876908\n",
      "[4200]\tvalid_0's auc: 0.877597\n",
      "[4400]\tvalid_0's auc: 0.878128\n",
      "[4600]\tvalid_0's auc: 0.878573\n",
      "[4800]\tvalid_0's auc: 0.879023\n",
      "[5000]\tvalid_0's auc: 0.879527\n",
      "[5200]\tvalid_0's auc: 0.879943\n",
      "[5400]\tvalid_0's auc: 0.880299\n",
      "[5600]\tvalid_0's auc: 0.880674\n",
      "[5800]\tvalid_0's auc: 0.881028\n",
      "[6000]\tvalid_0's auc: 0.881362\n",
      "[6200]\tvalid_0's auc: 0.881701\n",
      "[6400]\tvalid_0's auc: 0.882015\n",
      "[6600]\tvalid_0's auc: 0.882313\n",
      "[6800]\tvalid_0's auc: 0.882586\n",
      "[7000]\tvalid_0's auc: 0.882757\n",
      "[7200]\tvalid_0's auc: 0.882941\n",
      "[7400]\tvalid_0's auc: 0.883169\n",
      "[7600]\tvalid_0's auc: 0.883373\n",
      "[7800]\tvalid_0's auc: 0.883586\n",
      "[8000]\tvalid_0's auc: 0.883789\n",
      "[8200]\tvalid_0's auc: 0.883966\n",
      "[8400]\tvalid_0's auc: 0.884108\n",
      "[8600]\tvalid_0's auc: 0.884233\n",
      "[8800]\tvalid_0's auc: 0.884482\n",
      "[9000]\tvalid_0's auc: 0.884654\n",
      "[9200]\tvalid_0's auc: 0.884807\n",
      "[9400]\tvalid_0's auc: 0.884973\n",
      "[9600]\tvalid_0's auc: 0.885067\n",
      "[9800]\tvalid_0's auc: 0.885168\n",
      "[10000]\tvalid_0's auc: 0.885323\n",
      "Did not meet early stopping. Best iteration is:\n",
      "[10000]\tvalid_0's auc: 0.885323\n"
     ]
    },
    {
     "name": "stderr",
     "output_type": "stream",
     "text": [
      "[I 2019-04-08 06:12:35,319] Finished trial#203 resulted in value: -0.8853230650527242. Current best value is -0.8874963149787473 with parameters: {'feature_fraction': 0.9077963052915876, 'learning_rate': 0.011358781846579069, 'subsample': 0.8453858498917617, 'min_data_in_leaf': 87, 'min_sum_hessian_in_leaf': 0.0021980270412619816, 'bagging_fraction': 0.8726993481456968, 'bagging_freq': 10, 'min_gain_to_split': 0.8438313225454216, 'lambda_l1': 0.4047026283855469, 'lambda_l2': 0.08369497932482868, 'num_leaves': 18, 'max_bin': 164}.\n"
     ]
    },
    {
     "name": "stdout",
     "output_type": "stream",
     "text": [
      "Training until validation scores don't improve for 100 rounds.\n",
      "Early stopping, best iteration is:\n",
      "[33]\tvalid_0's auc: 0.870149\n"
     ]
    },
    {
     "name": "stderr",
     "output_type": "stream",
     "text": [
      "[I 2019-04-08 06:12:50,327] Finished trial#204 resulted in value: -0.8701492399038714. Current best value is -0.8874963149787473 with parameters: {'feature_fraction': 0.9077963052915876, 'learning_rate': 0.011358781846579069, 'subsample': 0.8453858498917617, 'min_data_in_leaf': 87, 'min_sum_hessian_in_leaf': 0.0021980270412619816, 'bagging_fraction': 0.8726993481456968, 'bagging_freq': 10, 'min_gain_to_split': 0.8438313225454216, 'lambda_l1': 0.4047026283855469, 'lambda_l2': 0.08369497932482868, 'num_leaves': 18, 'max_bin': 164}.\n"
     ]
    },
    {
     "name": "stdout",
     "output_type": "stream",
     "text": [
      "Training until validation scores don't improve for 100 rounds.\n",
      "Early stopping, best iteration is:\n",
      "[99]\tvalid_0's auc: 0.878847\n"
     ]
    },
    {
     "name": "stderr",
     "output_type": "stream",
     "text": [
      "[I 2019-04-08 06:13:15,808] Finished trial#205 resulted in value: -0.8788471760154203. Current best value is -0.8874963149787473 with parameters: {'feature_fraction': 0.9077963052915876, 'learning_rate': 0.011358781846579069, 'subsample': 0.8453858498917617, 'min_data_in_leaf': 87, 'min_sum_hessian_in_leaf': 0.0021980270412619816, 'bagging_fraction': 0.8726993481456968, 'bagging_freq': 10, 'min_gain_to_split': 0.8438313225454216, 'lambda_l1': 0.4047026283855469, 'lambda_l2': 0.08369497932482868, 'num_leaves': 18, 'max_bin': 164}.\n"
     ]
    },
    {
     "name": "stdout",
     "output_type": "stream",
     "text": [
      "Training until validation scores don't improve for 100 rounds.\n",
      "[200]\tvalid_0's auc: 0.88091\n",
      "Early stopping, best iteration is:\n",
      "[162]\tvalid_0's auc: 0.881066\n"
     ]
    },
    {
     "name": "stderr",
     "output_type": "stream",
     "text": [
      "[I 2019-04-08 06:13:40,306] Finished trial#206 resulted in value: -0.8810660635123438. Current best value is -0.8874963149787473 with parameters: {'feature_fraction': 0.9077963052915876, 'learning_rate': 0.011358781846579069, 'subsample': 0.8453858498917617, 'min_data_in_leaf': 87, 'min_sum_hessian_in_leaf': 0.0021980270412619816, 'bagging_fraction': 0.8726993481456968, 'bagging_freq': 10, 'min_gain_to_split': 0.8438313225454216, 'lambda_l1': 0.4047026283855469, 'lambda_l2': 0.08369497932482868, 'num_leaves': 18, 'max_bin': 164}.\n"
     ]
    },
    {
     "name": "stdout",
     "output_type": "stream",
     "text": [
      "Training until validation scores don't improve for 100 rounds.\n",
      "[200]\tvalid_0's auc: 0.876248\n",
      "Early stopping, best iteration is:\n",
      "[114]\tvalid_0's auc: 0.87786\n"
     ]
    },
    {
     "name": "stderr",
     "output_type": "stream",
     "text": [
      "[I 2019-04-08 06:14:07,557] Finished trial#207 resulted in value: -0.8778596179746072. Current best value is -0.8874963149787473 with parameters: {'feature_fraction': 0.9077963052915876, 'learning_rate': 0.011358781846579069, 'subsample': 0.8453858498917617, 'min_data_in_leaf': 87, 'min_sum_hessian_in_leaf': 0.0021980270412619816, 'bagging_fraction': 0.8726993481456968, 'bagging_freq': 10, 'min_gain_to_split': 0.8438313225454216, 'lambda_l1': 0.4047026283855469, 'lambda_l2': 0.08369497932482868, 'num_leaves': 18, 'max_bin': 164}.\n"
     ]
    },
    {
     "name": "stdout",
     "output_type": "stream",
     "text": [
      "Training until validation scores don't improve for 100 rounds.\n",
      "[200]\tvalid_0's auc: 0.880326\n",
      "[400]\tvalid_0's auc: 0.884066\n",
      "[600]\tvalid_0's auc: 0.884355\n",
      "Early stopping, best iteration is:\n",
      "[528]\tvalid_0's auc: 0.884527\n"
     ]
    },
    {
     "name": "stderr",
     "output_type": "stream",
     "text": [
      "[I 2019-04-08 06:15:11,660] Finished trial#208 resulted in value: -0.88452710737585. Current best value is -0.8874963149787473 with parameters: {'feature_fraction': 0.9077963052915876, 'learning_rate': 0.011358781846579069, 'subsample': 0.8453858498917617, 'min_data_in_leaf': 87, 'min_sum_hessian_in_leaf': 0.0021980270412619816, 'bagging_fraction': 0.8726993481456968, 'bagging_freq': 10, 'min_gain_to_split': 0.8438313225454216, 'lambda_l1': 0.4047026283855469, 'lambda_l2': 0.08369497932482868, 'num_leaves': 18, 'max_bin': 164}.\n"
     ]
    },
    {
     "name": "stdout",
     "output_type": "stream",
     "text": [
      "Training until validation scores don't improve for 100 rounds.\n",
      "Early stopping, best iteration is:\n",
      "[11]\tvalid_0's auc: 0.856629\n"
     ]
    },
    {
     "name": "stderr",
     "output_type": "stream",
     "text": [
      "[I 2019-04-08 06:15:22,869] Finished trial#209 resulted in value: -0.8566285685248024. Current best value is -0.8874963149787473 with parameters: {'feature_fraction': 0.9077963052915876, 'learning_rate': 0.011358781846579069, 'subsample': 0.8453858498917617, 'min_data_in_leaf': 87, 'min_sum_hessian_in_leaf': 0.0021980270412619816, 'bagging_fraction': 0.8726993481456968, 'bagging_freq': 10, 'min_gain_to_split': 0.8438313225454216, 'lambda_l1': 0.4047026283855469, 'lambda_l2': 0.08369497932482868, 'num_leaves': 18, 'max_bin': 164}.\n"
     ]
    },
    {
     "name": "stdout",
     "output_type": "stream",
     "text": [
      "Training until validation scores don't improve for 100 rounds.\n",
      "[200]\tvalid_0's auc: 0.880944\n",
      "[400]\tvalid_0's auc: 0.880586\n",
      "Early stopping, best iteration is:\n",
      "[307]\tvalid_0's auc: 0.881976\n"
     ]
    },
    {
     "name": "stderr",
     "output_type": "stream",
     "text": [
      "[I 2019-04-08 06:16:03,624] Finished trial#210 resulted in value: -0.8819759595574103. Current best value is -0.8874963149787473 with parameters: {'feature_fraction': 0.9077963052915876, 'learning_rate': 0.011358781846579069, 'subsample': 0.8453858498917617, 'min_data_in_leaf': 87, 'min_sum_hessian_in_leaf': 0.0021980270412619816, 'bagging_fraction': 0.8726993481456968, 'bagging_freq': 10, 'min_gain_to_split': 0.8438313225454216, 'lambda_l1': 0.4047026283855469, 'lambda_l2': 0.08369497932482868, 'num_leaves': 18, 'max_bin': 164}.\n"
     ]
    },
    {
     "name": "stdout",
     "output_type": "stream",
     "text": [
      "Training until validation scores don't improve for 100 rounds.\n",
      "[200]\tvalid_0's auc: 0.854684\n",
      "[400]\tvalid_0's auc: 0.856851\n",
      "[600]\tvalid_0's auc: 0.858193\n"
     ]
    },
    {
     "ename": "KeyboardInterrupt",
     "evalue": "",
     "output_type": "error",
     "traceback": [
      "\u001b[0;31m---------------------------------------------------------------------------\u001b[0m",
      "\u001b[0;31mKeyboardInterrupt\u001b[0m                         Traceback (most recent call last)",
      "\u001b[0;32m<ipython-input-42-782b8c616d8f>\u001b[0m in \u001b[0;36m<module>\u001b[0;34m\u001b[0m\n\u001b[1;32m      1\u001b[0m \u001b[0mstudy\u001b[0m \u001b[0;34m=\u001b[0m \u001b[0moptuna\u001b[0m\u001b[0;34m.\u001b[0m\u001b[0mcreate_study\u001b[0m\u001b[0;34m(\u001b[0m\u001b[0;34m)\u001b[0m\u001b[0;34m\u001b[0m\u001b[0;34m\u001b[0m\u001b[0m\n\u001b[0;32m----> 2\u001b[0;31m \u001b[0mstudy\u001b[0m\u001b[0;34m.\u001b[0m\u001b[0moptimize\u001b[0m\u001b[0;34m(\u001b[0m\u001b[0mobjective\u001b[0m\u001b[0;34m,\u001b[0m \u001b[0mn_trials\u001b[0m\u001b[0;34m=\u001b[0m\u001b[0;36m500\u001b[0m\u001b[0;34m)\u001b[0m\u001b[0;34m\u001b[0m\u001b[0;34m\u001b[0m\u001b[0m\n\u001b[0m",
      "\u001b[0;32m~/Documents/python/kaggle/ml/lib/python3.6/site-packages/optuna/study.py\u001b[0m in \u001b[0;36moptimize\u001b[0;34m(self, func, n_trials, timeout, n_jobs, catch)\u001b[0m\n\u001b[1;32m    208\u001b[0m \u001b[0;34m\u001b[0m\u001b[0m\n\u001b[1;32m    209\u001b[0m         \u001b[0;32mif\u001b[0m \u001b[0mn_jobs\u001b[0m \u001b[0;34m==\u001b[0m \u001b[0;36m1\u001b[0m\u001b[0;34m:\u001b[0m\u001b[0;34m\u001b[0m\u001b[0;34m\u001b[0m\u001b[0m\n\u001b[0;32m--> 210\u001b[0;31m             \u001b[0mself\u001b[0m\u001b[0;34m.\u001b[0m\u001b[0m_optimize_sequential\u001b[0m\u001b[0;34m(\u001b[0m\u001b[0mfunc\u001b[0m\u001b[0;34m,\u001b[0m \u001b[0mn_trials\u001b[0m\u001b[0;34m,\u001b[0m \u001b[0mtimeout\u001b[0m\u001b[0;34m,\u001b[0m \u001b[0mcatch\u001b[0m\u001b[0;34m)\u001b[0m\u001b[0;34m\u001b[0m\u001b[0;34m\u001b[0m\u001b[0m\n\u001b[0m\u001b[1;32m    211\u001b[0m         \u001b[0;32melse\u001b[0m\u001b[0;34m:\u001b[0m\u001b[0;34m\u001b[0m\u001b[0;34m\u001b[0m\u001b[0m\n\u001b[1;32m    212\u001b[0m             \u001b[0mself\u001b[0m\u001b[0;34m.\u001b[0m\u001b[0m_optimize_parallel\u001b[0m\u001b[0;34m(\u001b[0m\u001b[0mfunc\u001b[0m\u001b[0;34m,\u001b[0m \u001b[0mn_trials\u001b[0m\u001b[0;34m,\u001b[0m \u001b[0mtimeout\u001b[0m\u001b[0;34m,\u001b[0m \u001b[0mn_jobs\u001b[0m\u001b[0;34m,\u001b[0m \u001b[0mcatch\u001b[0m\u001b[0;34m)\u001b[0m\u001b[0;34m\u001b[0m\u001b[0;34m\u001b[0m\u001b[0m\n",
      "\u001b[0;32m~/Documents/python/kaggle/ml/lib/python3.6/site-packages/optuna/study.py\u001b[0m in \u001b[0;36m_optimize_sequential\u001b[0;34m(self, func, n_trials, timeout, catch)\u001b[0m\n\u001b[1;32m    322\u001b[0m                     \u001b[0;32mbreak\u001b[0m\u001b[0;34m\u001b[0m\u001b[0;34m\u001b[0m\u001b[0m\n\u001b[1;32m    323\u001b[0m \u001b[0;34m\u001b[0m\u001b[0m\n\u001b[0;32m--> 324\u001b[0;31m             \u001b[0mself\u001b[0m\u001b[0;34m.\u001b[0m\u001b[0m_run_trial\u001b[0m\u001b[0;34m(\u001b[0m\u001b[0mfunc\u001b[0m\u001b[0;34m,\u001b[0m \u001b[0mcatch\u001b[0m\u001b[0;34m)\u001b[0m\u001b[0;34m\u001b[0m\u001b[0;34m\u001b[0m\u001b[0m\n\u001b[0m\u001b[1;32m    325\u001b[0m \u001b[0;34m\u001b[0m\u001b[0m\n\u001b[1;32m    326\u001b[0m     def _optimize_parallel(\n",
      "\u001b[0;32m~/Documents/python/kaggle/ml/lib/python3.6/site-packages/optuna/study.py\u001b[0m in \u001b[0;36m_run_trial\u001b[0;34m(self, func, catch)\u001b[0m\n\u001b[1;32m    396\u001b[0m \u001b[0;34m\u001b[0m\u001b[0m\n\u001b[1;32m    397\u001b[0m         \u001b[0;32mtry\u001b[0m\u001b[0;34m:\u001b[0m\u001b[0;34m\u001b[0m\u001b[0;34m\u001b[0m\u001b[0m\n\u001b[0;32m--> 398\u001b[0;31m             \u001b[0mresult\u001b[0m \u001b[0;34m=\u001b[0m \u001b[0mfunc\u001b[0m\u001b[0;34m(\u001b[0m\u001b[0mtrial\u001b[0m\u001b[0;34m)\u001b[0m\u001b[0;34m\u001b[0m\u001b[0;34m\u001b[0m\u001b[0m\n\u001b[0m\u001b[1;32m    399\u001b[0m         \u001b[0;32mexcept\u001b[0m \u001b[0mstructs\u001b[0m\u001b[0;34m.\u001b[0m\u001b[0mTrialPruned\u001b[0m \u001b[0;32mas\u001b[0m \u001b[0me\u001b[0m\u001b[0;34m:\u001b[0m\u001b[0;34m\u001b[0m\u001b[0;34m\u001b[0m\u001b[0m\n\u001b[1;32m    400\u001b[0m             message = 'Setting status of trial#{} as {}. {}'.format(trial_number,\n",
      "\u001b[0;32m<ipython-input-41-7f992a1e43ac>\u001b[0m in \u001b[0;36mobjective\u001b[0;34m(trial)\u001b[0m\n\u001b[1;32m     26\u001b[0m                     \u001b[0mnum_boost_round\u001b[0m\u001b[0;34m=\u001b[0m\u001b[0;36m10000\u001b[0m\u001b[0;34m,\u001b[0m\u001b[0;34m\u001b[0m\u001b[0;34m\u001b[0m\u001b[0m\n\u001b[1;32m     27\u001b[0m                     \u001b[0mearly_stopping_rounds\u001b[0m\u001b[0;34m=\u001b[0m\u001b[0;36m100\u001b[0m\u001b[0;34m,\u001b[0m\u001b[0;34m\u001b[0m\u001b[0;34m\u001b[0m\u001b[0m\n\u001b[0;32m---> 28\u001b[0;31m                     verbose_eval = 200)    \n\u001b[0m\u001b[1;32m     29\u001b[0m \u001b[0;34m\u001b[0m\u001b[0m\n\u001b[1;32m     30\u001b[0m     \u001b[0my_val_pred\u001b[0m \u001b[0;34m=\u001b[0m \u001b[0mgbm\u001b[0m\u001b[0;34m.\u001b[0m\u001b[0mpredict\u001b[0m\u001b[0;34m(\u001b[0m\u001b[0mX_val\u001b[0m\u001b[0;34m,\u001b[0m \u001b[0mnum_iteration\u001b[0m\u001b[0;34m=\u001b[0m\u001b[0mgbm\u001b[0m\u001b[0;34m.\u001b[0m\u001b[0mbest_iteration\u001b[0m\u001b[0;34m)\u001b[0m\u001b[0;34m\u001b[0m\u001b[0;34m\u001b[0m\u001b[0m\n",
      "\u001b[0;32m~/Documents/python/kaggle/ml/lib/python3.6/site-packages/lightgbm/engine.py\u001b[0m in \u001b[0;36mtrain\u001b[0;34m(params, train_set, num_boost_round, valid_sets, valid_names, fobj, feval, init_model, feature_name, categorical_feature, early_stopping_rounds, evals_result, verbose_eval, learning_rates, keep_training_booster, callbacks)\u001b[0m\n\u001b[1;32m    216\u001b[0m                                     evaluation_result_list=None))\n\u001b[1;32m    217\u001b[0m \u001b[0;34m\u001b[0m\u001b[0m\n\u001b[0;32m--> 218\u001b[0;31m         \u001b[0mbooster\u001b[0m\u001b[0;34m.\u001b[0m\u001b[0mupdate\u001b[0m\u001b[0;34m(\u001b[0m\u001b[0mfobj\u001b[0m\u001b[0;34m=\u001b[0m\u001b[0mfobj\u001b[0m\u001b[0;34m)\u001b[0m\u001b[0;34m\u001b[0m\u001b[0;34m\u001b[0m\u001b[0m\n\u001b[0m\u001b[1;32m    219\u001b[0m \u001b[0;34m\u001b[0m\u001b[0m\n\u001b[1;32m    220\u001b[0m         \u001b[0mevaluation_result_list\u001b[0m \u001b[0;34m=\u001b[0m \u001b[0;34m[\u001b[0m\u001b[0;34m]\u001b[0m\u001b[0;34m\u001b[0m\u001b[0;34m\u001b[0m\u001b[0m\n",
      "\u001b[0;32m~/Documents/python/kaggle/ml/lib/python3.6/site-packages/lightgbm/basic.py\u001b[0m in \u001b[0;36mupdate\u001b[0;34m(self, train_set, fobj)\u001b[0m\n\u001b[1;32m   1800\u001b[0m             _safe_call(_LIB.LGBM_BoosterUpdateOneIter(\n\u001b[1;32m   1801\u001b[0m                 \u001b[0mself\u001b[0m\u001b[0;34m.\u001b[0m\u001b[0mhandle\u001b[0m\u001b[0;34m,\u001b[0m\u001b[0;34m\u001b[0m\u001b[0;34m\u001b[0m\u001b[0m\n\u001b[0;32m-> 1802\u001b[0;31m                 ctypes.byref(is_finished)))\n\u001b[0m\u001b[1;32m   1803\u001b[0m             \u001b[0mself\u001b[0m\u001b[0;34m.\u001b[0m\u001b[0m__is_predicted_cur_iter\u001b[0m \u001b[0;34m=\u001b[0m \u001b[0;34m[\u001b[0m\u001b[0;32mFalse\u001b[0m \u001b[0;32mfor\u001b[0m \u001b[0m_\u001b[0m \u001b[0;32min\u001b[0m \u001b[0mrange_\u001b[0m\u001b[0;34m(\u001b[0m\u001b[0mself\u001b[0m\u001b[0;34m.\u001b[0m\u001b[0m__num_dataset\u001b[0m\u001b[0;34m)\u001b[0m\u001b[0;34m]\u001b[0m\u001b[0;34m\u001b[0m\u001b[0;34m\u001b[0m\u001b[0m\n\u001b[1;32m   1804\u001b[0m             \u001b[0;32mreturn\u001b[0m \u001b[0mis_finished\u001b[0m\u001b[0;34m.\u001b[0m\u001b[0mvalue\u001b[0m \u001b[0;34m==\u001b[0m \u001b[0;36m1\u001b[0m\u001b[0;34m\u001b[0m\u001b[0;34m\u001b[0m\u001b[0m\n",
      "\u001b[0;31mKeyboardInterrupt\u001b[0m: "
     ]
    }
   ],
   "source": [
    "study = optuna.create_study()\n",
    "study.optimize(objective, n_trials=500)"
   ]
  },
  {
   "cell_type": "code",
   "execution_count": null,
   "metadata": {},
   "outputs": [],
   "source": [
    "params = {\n",
    "    'objective': 'binary',\n",
    "    'boost_from_average':False,\n",
    "    'metric': 'auc',\n",
    "    'boosting_type': 'gbdt', \n",
    "    'feature_fraction': study.best_params['feature_fraction'], # 1.0 use\n",
    "    'learning_rate': study.best_params['learning_rate'], # small for acc\n",
    "    'subsample': study.best_params['subsample'],\n",
    "    'min_data_in_leaf': study.best_params['min_data_in_leaf'], # 20 use\n",
    "    'min_sum_hessian_in_leaf' : study.best_params['min_sum_hessian_in_leaf'] ,#1e-3 use\n",
    "    'bagging_fraction' :  study.best_params['bagging_fraction'],# 1.0 use\n",
    "    'bagging_freq': study.best_params['bagging_freq'],#, 0 use\n",
    "    'min_gain_to_split': study.best_params['min_gain_to_split'],# 0.0 use\n",
    "    'lambda_l1': study.best_params['lambda_l1'],\n",
    "    'lambda_l2': study.best_params['lambda_l2'],\n",
    "    'num_leaves': study.best_params['num_leaves'], # 31, small for overfit, large for acc\n",
    "    'max_bin': study.best_params['max_bin'], # 255, small for overfit, large for acc, \n",
    "}"
   ]
  },
  {
   "cell_type": "code",
   "execution_count": 43,
   "metadata": {},
   "outputs": [],
   "source": [
    "params = {\n",
    "    'objective': 'binary',\n",
    "    'boost_from_average':False,\n",
    "    'metric': 'auc',\n",
    "    'boosting_type': 'gbdt', \n",
    "'feature_fraction': 0.9077963052915876, 'learning_rate': 0.011358781846579069, 'subsample': 0.8453858498917617, 'min_data_in_leaf': 87, 'min_sum_hessian_in_leaf': 0.0021980270412619816, 'bagging_fraction': 0.8726993481456968, 'bagging_freq': 10, 'min_gain_to_split': 0.8438313225454216, 'lambda_l1': 0.4047026283855469, 'lambda_l2': 0.08369497932482868, 'num_leaves': 18, 'max_bin': 164\n",
    "}"
   ]
  },
  {
   "cell_type": "code",
   "execution_count": 89,
   "metadata": {},
   "outputs": [
    {
     "name": "stdout",
     "output_type": "stream",
     "text": [
      "Training until validation scores don't improve for 100 rounds.\n",
      "[200]\tvalid_0's auc: 0.855544\n",
      "[400]\tvalid_0's auc: 0.864012\n",
      "[600]\tvalid_0's auc: 0.871242\n",
      "[800]\tvalid_0's auc: 0.875344\n",
      "[1000]\tvalid_0's auc: 0.877815\n",
      "[1200]\tvalid_0's auc: 0.879643\n",
      "[1400]\tvalid_0's auc: 0.88107\n",
      "[1600]\tvalid_0's auc: 0.88242\n",
      "[1800]\tvalid_0's auc: 0.883035\n",
      "[2000]\tvalid_0's auc: 0.883792\n",
      "[2200]\tvalid_0's auc: 0.884358\n",
      "[2400]\tvalid_0's auc: 0.884791\n",
      "[2600]\tvalid_0's auc: 0.885159\n",
      "[2800]\tvalid_0's auc: 0.885433\n",
      "[3000]\tvalid_0's auc: 0.88558\n",
      "[3200]\tvalid_0's auc: 0.885626\n",
      "Early stopping, best iteration is:\n",
      "[3203]\tvalid_0's auc: 0.885632\n"
     ]
    }
   ],
   "source": [
    "gbm = lgb.train(params,\n",
    "                lgb_train,\n",
    "                valid_sets=lgb_val,\n",
    "                num_boost_round=10000,\n",
    "                early_stopping_rounds=100,\n",
    "                verbose_eval = 200) "
   ]
  },
  {
   "cell_type": "code",
   "execution_count": 90,
   "metadata": {},
   "outputs": [],
   "source": [
    "y_train_pred = gbm.predict(X_train, num_iteration=gbm.best_iteration)\n",
    "y_val_pred = gbm.predict(X_val, num_iteration=gbm.best_iteration)"
   ]
  },
  {
   "cell_type": "code",
   "execution_count": 73,
   "metadata": {},
   "outputs": [],
   "source": [
    "neg_mask_train = y_train ==0\n",
    "pos_mask_train = y_train == 1\n",
    "neg_mask_val = y_val == 0\n",
    "pos_mask_val = y_val == 1"
   ]
  },
  {
   "cell_type": "code",
   "execution_count": 91,
   "metadata": {},
   "outputs": [
    {
     "name": "stdout",
     "output_type": "stream",
     "text": [
      "------------------\n",
      "0.962658402916236\n",
      "0.8856318394132727\n"
     ]
    },
    {
     "data": {
      "text/plain": [
       "<function matplotlib.pyplot.show(*args, **kw)>"
      ]
     },
     "execution_count": 91,
     "metadata": {},
     "output_type": "execute_result"
    },
    {
     "data": {
      "image/png": "[encoded data removed]",
      "text/plain": [
       "<Figure size 432x288 with 1 Axes>"
      ]
     },
     "metadata": {
      "needs_background": "light"
     },
     "output_type": "display_data"
    }
   ],
   "source": [
    "fpr_train, tpr_train, thresholds_train = metrics.roc_curve(y_train, y_train_pred)\n",
    "auc_train = metrics.auc(fpr_train, tpr_train)\n",
    "\n",
    "fpr_val, tpr_val, thresholds_val = metrics.roc_curve(y_val, y_val_pred)\n",
    "auc_val = metrics.auc(fpr_val, tpr_val)\n",
    "print('------------------')\n",
    "print(auc_train)\n",
    "print(auc_val)\n",
    "\n",
    "plt.plot(fpr_train, tpr_train, label='ROC curve (area = %.2f)'%auc_train)\n",
    "plt.plot(fpr_val, tpr_val, label='ROC curve (area = %.2f)'%auc_val)\n",
    "plt.legend()\n",
    "plt.title('ROC curve')\n",
    "plt.xlabel('False Positive Rate')\n",
    "plt.ylabel('True Positive Rate')\n",
    "plt.grid(True)\n",
    "\n",
    "plt.show"
   ]
  },
  {
   "cell_type": "code",
   "execution_count": 86,
   "metadata": {},
   "outputs": [],
   "source": [
    "imp_mask = gbm.feature_importance() > gbm.feature_importance().mean()"
   ]
  },
  {
   "cell_type": "code",
   "execution_count": 87,
   "metadata": {},
   "outputs": [],
   "source": [
    "X_train = X_train[:,imp_mask]\n",
    "X_val = X_val[:,imp_mask]"
   ]
  },
  {
   "cell_type": "code",
   "execution_count": null,
   "metadata": {},
   "outputs": [],
   "source": [
    "y_test_pred = gbm.predict(X_test, num_iteration=gbm.best_iteration)"
   ]
  },
  {
   "cell_type": "code",
   "execution_count": null,
   "metadata": {},
   "outputs": [],
   "source": [
    "se_submission = pd.Series(y_test_pred, 'target')\n",
    "df_sub = pd.concat([df_test['ID_code'], se_submission], axis=1)"
   ]
  },
  {
   "cell_type": "code",
   "execution_count": null,
   "metadata": {},
   "outputs": [],
   "source": [
    "print(df_sub.shape)\n",
    "print(df_sub.head())"
   ]
  },
  {
   "cell_type": "code",
   "execution_count": null,
   "metadata": {},
   "outputs": [],
   "source": [
    "df_sub.to_csv('submission_var_score_lr.csv', index=False)"
   ]
  },
  {
   "cell_type": "code",
   "execution_count": null,
   "metadata": {},
   "outputs": [],
   "source": []
  }
 ],
 "metadata": {
  "kernelspec": {
   "display_name": "Python 3",
   "language": "python",
   "name": "python3"
  },
  "language_info": {
   "codemirror_mode": {
    "name": "ipython",
    "version": 3
   },
   "file_extension": ".py",
   "mimetype": "text/x-python",
   "name": "python",
   "nbconvert_exporter": "python",
   "pygments_lexer": "ipython3",
   "version": "3.6.7"
  }
 },
 "nbformat": 4,
 "nbformat_minor": 2
}
