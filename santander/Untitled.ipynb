{
 "cells": [
  {
   "cell_type": "code",
   "execution_count": 55,
   "metadata": {},
   "outputs": [],
   "source": [
    "import pandas as pd\n",
    "import numpy as np\n",
    "import matplotlib.pyplot as plt\n",
    "%matplotlib inline\n",
    "\n",
    "\n",
    "from sklearn.model_selection import train_test_split\n",
    "from sklearn.preprocessing import StandardScaler\n",
    "\n",
    "from sklearn import metrics"
   ]
  },
  {
   "cell_type": "code",
   "execution_count": 3,
   "metadata": {},
   "outputs": [],
   "source": [
    "df_train = pd.read_csv('train.csv')\n",
    "df_test = pd.read_csv('test.csv')"
   ]
  },
  {
   "cell_type": "code",
   "execution_count": 33,
   "metadata": {},
   "outputs": [
    {
     "data": {
      "text/html": [
       "<div>\n",
       "<style scoped>\n",
       "    .dataframe tbody tr th:only-of-type {\n",
       "        vertical-align: middle;\n",
       "    }\n",
       "\n",
       "    .dataframe tbody tr th {\n",
       "        vertical-align: top;\n",
       "    }\n",
       "\n",
       "    .dataframe thead th {\n",
       "        text-align: right;\n",
       "    }\n",
       "</style>\n",
       "<table border=\"1\" class=\"dataframe\">\n",
       "  <thead>\n",
       "    <tr style=\"text-align: right;\">\n",
       "      <th></th>\n",
       "      <th>ID_code</th>\n",
       "      <th>target</th>\n",
       "      <th>var_0</th>\n",
       "      <th>var_1</th>\n",
       "      <th>var_2</th>\n",
       "      <th>var_3</th>\n",
       "      <th>var_4</th>\n",
       "      <th>var_5</th>\n",
       "      <th>var_6</th>\n",
       "      <th>var_7</th>\n",
       "      <th>...</th>\n",
       "      <th>var_190</th>\n",
       "      <th>var_191</th>\n",
       "      <th>var_192</th>\n",
       "      <th>var_193</th>\n",
       "      <th>var_194</th>\n",
       "      <th>var_195</th>\n",
       "      <th>var_196</th>\n",
       "      <th>var_197</th>\n",
       "      <th>var_198</th>\n",
       "      <th>var_199</th>\n",
       "    </tr>\n",
       "  </thead>\n",
       "  <tbody>\n",
       "    <tr>\n",
       "      <th>13</th>\n",
       "      <td>train_13</td>\n",
       "      <td>1</td>\n",
       "      <td>16.3699</td>\n",
       "      <td>1.5934</td>\n",
       "      <td>16.7395</td>\n",
       "      <td>7.3330</td>\n",
       "      <td>12.1450</td>\n",
       "      <td>5.9004</td>\n",
       "      <td>4.8222</td>\n",
       "      <td>20.9729</td>\n",
       "      <td>...</td>\n",
       "      <td>7.4002</td>\n",
       "      <td>7.4031</td>\n",
       "      <td>4.3989</td>\n",
       "      <td>4.0978</td>\n",
       "      <td>17.3638</td>\n",
       "      <td>-1.3022</td>\n",
       "      <td>9.6846</td>\n",
       "      <td>9.0419</td>\n",
       "      <td>15.6064</td>\n",
       "      <td>-10.8529</td>\n",
       "    </tr>\n",
       "    <tr>\n",
       "      <th>29</th>\n",
       "      <td>train_29</td>\n",
       "      <td>1</td>\n",
       "      <td>5.3301</td>\n",
       "      <td>-2.6064</td>\n",
       "      <td>13.1913</td>\n",
       "      <td>3.1193</td>\n",
       "      <td>6.6483</td>\n",
       "      <td>-6.5659</td>\n",
       "      <td>5.9064</td>\n",
       "      <td>15.2341</td>\n",
       "      <td>...</td>\n",
       "      <td>5.9215</td>\n",
       "      <td>7.9676</td>\n",
       "      <td>2.3405</td>\n",
       "      <td>1.1482</td>\n",
       "      <td>23.2168</td>\n",
       "      <td>-2.0105</td>\n",
       "      <td>3.7600</td>\n",
       "      <td>9.4513</td>\n",
       "      <td>17.4105</td>\n",
       "      <td>-14.6897</td>\n",
       "    </tr>\n",
       "    <tr>\n",
       "      <th>63</th>\n",
       "      <td>train_63</td>\n",
       "      <td>1</td>\n",
       "      <td>7.7072</td>\n",
       "      <td>0.0183</td>\n",
       "      <td>9.9974</td>\n",
       "      <td>8.3524</td>\n",
       "      <td>9.2886</td>\n",
       "      <td>-13.3627</td>\n",
       "      <td>6.0425</td>\n",
       "      <td>10.1108</td>\n",
       "      <td>...</td>\n",
       "      <td>1.5832</td>\n",
       "      <td>5.0039</td>\n",
       "      <td>3.8814</td>\n",
       "      <td>7.4241</td>\n",
       "      <td>21.4844</td>\n",
       "      <td>-0.8297</td>\n",
       "      <td>-3.0468</td>\n",
       "      <td>7.5790</td>\n",
       "      <td>15.7685</td>\n",
       "      <td>5.4769</td>\n",
       "    </tr>\n",
       "    <tr>\n",
       "      <th>65</th>\n",
       "      <td>train_65</td>\n",
       "      <td>1</td>\n",
       "      <td>10.5358</td>\n",
       "      <td>-2.5439</td>\n",
       "      <td>8.7394</td>\n",
       "      <td>6.7548</td>\n",
       "      <td>14.4099</td>\n",
       "      <td>-3.8724</td>\n",
       "      <td>5.1584</td>\n",
       "      <td>15.8381</td>\n",
       "      <td>...</td>\n",
       "      <td>4.6648</td>\n",
       "      <td>6.4227</td>\n",
       "      <td>3.4025</td>\n",
       "      <td>-4.0882</td>\n",
       "      <td>14.1174</td>\n",
       "      <td>-0.2472</td>\n",
       "      <td>5.3847</td>\n",
       "      <td>8.6949</td>\n",
       "      <td>15.1340</td>\n",
       "      <td>3.8449</td>\n",
       "    </tr>\n",
       "    <tr>\n",
       "      <th>71</th>\n",
       "      <td>train_71</td>\n",
       "      <td>1</td>\n",
       "      <td>6.7547</td>\n",
       "      <td>2.5973</td>\n",
       "      <td>14.2141</td>\n",
       "      <td>8.3514</td>\n",
       "      <td>7.4942</td>\n",
       "      <td>-1.3055</td>\n",
       "      <td>4.2336</td>\n",
       "      <td>15.0243</td>\n",
       "      <td>...</td>\n",
       "      <td>1.4677</td>\n",
       "      <td>3.5935</td>\n",
       "      <td>2.0013</td>\n",
       "      <td>1.5777</td>\n",
       "      <td>18.2820</td>\n",
       "      <td>-4.3408</td>\n",
       "      <td>6.8869</td>\n",
       "      <td>9.3567</td>\n",
       "      <td>18.9013</td>\n",
       "      <td>13.3447</td>\n",
       "    </tr>\n",
       "  </tbody>\n",
       "</table>\n",
       "<p>5 rows × 202 columns</p>\n",
       "</div>"
      ],
      "text/plain": [
       "     ID_code  target    var_0   var_1    var_2   var_3    var_4    var_5  \\\n",
       "13  train_13       1  16.3699  1.5934  16.7395  7.3330  12.1450   5.9004   \n",
       "29  train_29       1   5.3301 -2.6064  13.1913  3.1193   6.6483  -6.5659   \n",
       "63  train_63       1   7.7072  0.0183   9.9974  8.3524   9.2886 -13.3627   \n",
       "65  train_65       1  10.5358 -2.5439   8.7394  6.7548  14.4099  -3.8724   \n",
       "71  train_71       1   6.7547  2.5973  14.2141  8.3514   7.4942  -1.3055   \n",
       "\n",
       "     var_6    var_7  ...  var_190  var_191  var_192  var_193  var_194  \\\n",
       "13  4.8222  20.9729  ...   7.4002   7.4031   4.3989   4.0978  17.3638   \n",
       "29  5.9064  15.2341  ...   5.9215   7.9676   2.3405   1.1482  23.2168   \n",
       "63  6.0425  10.1108  ...   1.5832   5.0039   3.8814   7.4241  21.4844   \n",
       "65  5.1584  15.8381  ...   4.6648   6.4227   3.4025  -4.0882  14.1174   \n",
       "71  4.2336  15.0243  ...   1.4677   3.5935   2.0013   1.5777  18.2820   \n",
       "\n",
       "    var_195  var_196  var_197  var_198  var_199  \n",
       "13  -1.3022   9.6846   9.0419  15.6064 -10.8529  \n",
       "29  -2.0105   3.7600   9.4513  17.4105 -14.6897  \n",
       "63  -0.8297  -3.0468   7.5790  15.7685   5.4769  \n",
       "65  -0.2472   5.3847   8.6949  15.1340   3.8449  \n",
       "71  -4.3408   6.8869   9.3567  18.9013  13.3447  \n",
       "\n",
       "[5 rows x 202 columns]"
      ]
     },
     "execution_count": 33,
     "metadata": {},
     "output_type": "execute_result"
    }
   ],
   "source": [
    "df_train_pos.head()"
   ]
  },
  {
   "cell_type": "code",
   "execution_count": 49,
   "metadata": {},
   "outputs": [],
   "source": [
    "X = df_train.drop(['ID_code','target'], axis=1).values\n",
    "y = df_train['target'].values\n",
    "X_test = df_test.drop('ID_code', axis=1).values"
   ]
  },
  {
   "cell_type": "code",
   "execution_count": 7,
   "metadata": {},
   "outputs": [],
   "source": [
    "pos = y == 1\n",
    "neg = y == 0\n",
    "df_train_pos = df_train[pos]\n",
    "df_train_neg = df_train[neg]"
   ]
  },
  {
   "cell_type": "code",
   "execution_count": 11,
   "metadata": {},
   "outputs": [],
   "source": [
    "df_train_pos_describe = df_train_pos.describe()\n",
    "df_train_neg_describe = df_train_neg.describe()\n",
    "df_test_describe = df_test.describe()\n",
    "df_train_describe = df_train.describe()"
   ]
  },
  {
   "cell_type": "code",
   "execution_count": 22,
   "metadata": {},
   "outputs": [],
   "source": [
    "X_train_means = X.mean(axis=0)\n",
    "X_pos_means = X[pos].mean(axis=0)\n",
    "X_neg_means = X[neg].mean(axis=0)\n",
    "X_test_means = X_test.mean(axis=0)"
   ]
  },
  {
   "cell_type": "code",
   "execution_count": 75,
   "metadata": {},
   "outputs": [],
   "source": [
    "import keras\n",
    "from keras.models import Sequential\n",
    "from keras.layers.core import Dense, Dropout, Activation\n",
    "from keras.utils import np_utils\n",
    "import tensorflow as tf"
   ]
  },
  {
   "cell_type": "code",
   "execution_count": 78,
   "metadata": {},
   "outputs": [],
   "source": [
    "def auc(y_true, y_pred):\n",
    "    fpr, tpr, thresholds = metrics.roc_curve(tf.reshape(y_true,[-1]), tf.reshape(y_pred, [-1]))\n",
    "    return tf.reshape(metrics.auc(fpr, tpr), [-1, 1])"
   ]
  },
  {
   "cell_type": "code",
   "execution_count": 57,
   "metadata": {},
   "outputs": [],
   "source": [
    "X_train, X_val, y_train, y_val = train_test_split(X, y, test_size= 0.2, random_state=i, stratify=y)\n",
    "sc = StandardScaler()\n",
    "X_train_stan = sc.fit_transform(X_train)\n",
    "X_val_stan = sc.transform(X_val)"
   ]
  },
  {
   "cell_type": "code",
   "execution_count": 95,
   "metadata": {
    "scrolled": false
   },
   "outputs": [
    {
     "name": "stdout",
     "output_type": "stream",
     "text": [
      "_________________________________________________________________\n",
      "Layer (type)                 Output Shape              Param #   \n",
      "=================================================================\n",
      "dense_32 (Dense)             (None, 300)               60300     \n",
      "_________________________________________________________________\n",
      "activation_32 (Activation)   (None, 300)               0         \n",
      "_________________________________________________________________\n",
      "dropout_23 (Dropout)         (None, 300)               0         \n",
      "_________________________________________________________________\n",
      "dense_33 (Dense)             (None, 100)               30100     \n",
      "_________________________________________________________________\n",
      "activation_33 (Activation)   (None, 100)               0         \n",
      "_________________________________________________________________\n",
      "dropout_24 (Dropout)         (None, 100)               0         \n",
      "_________________________________________________________________\n",
      "dense_34 (Dense)             (None, 10)                1010      \n",
      "_________________________________________________________________\n",
      "activation_34 (Activation)   (None, 10)                0         \n",
      "_________________________________________________________________\n",
      "dropout_25 (Dropout)         (None, 10)                0         \n",
      "_________________________________________________________________\n",
      "dense_35 (Dense)             (None, 1)                 11        \n",
      "_________________________________________________________________\n",
      "activation_35 (Activation)   (None, 1)                 0         \n",
      "=================================================================\n",
      "Total params: 91,421\n",
      "Trainable params: 91,421\n",
      "Non-trainable params: 0\n",
      "_________________________________________________________________\n"
     ]
    }
   ],
   "source": [
    "# シーケンシャルモデル\n",
    "model = Sequential()\n",
    "\n",
    "model.add(Dense(300, input_dim=200))\n",
    "model.add(Activation('relu'))\n",
    "model.add(Dropout(0.2))\n",
    "\n",
    "model.add(Dense(100))\n",
    "model.add(Activation('relu'))\n",
    "model.add(Dropout(0.2))\n",
    "\n",
    "model.add(Dense(10))\n",
    "model.add(Activation('relu'))\n",
    "model.add(Dropout(0.2))\n",
    "\n",
    "model.add(Dense(1))\n",
    "model.add(Activation('softmax'))\n",
    "\n",
    "model.summary()"
   ]
  },
  {
   "cell_type": "code",
   "execution_count": 96,
   "metadata": {
    "scrolled": false
   },
   "outputs": [],
   "source": [
    "model.compile(loss='binary_crossentropy',\n",
    "              optimizer='adam',\n",
    "              metrics=['accuracy'])"
   ]
  },
  {
   "cell_type": "code",
   "execution_count": 97,
   "metadata": {},
   "outputs": [
    {
     "name": "stderr",
     "output_type": "stream",
     "text": [
      "/home/ryoji/Documents/python/kaggle/ml/lib/python3.6/site-packages/ipykernel_launcher.py:5: UserWarning: The `nb_epoch` argument in `fit` has been renamed `epochs`.\n",
      "  \"\"\"\n"
     ]
    },
    {
     "name": "stdout",
     "output_type": "stream",
     "text": [
      "Train on 160000 samples, validate on 40000 samples\n",
      "Epoch 1/20\n",
      "160000/160000 [==============================] - 4s 26us/step - loss: 14.3404 - acc: 0.1005 - val_loss: 14.3402 - val_acc: 0.1005\n",
      "Epoch 2/20\n",
      "160000/160000 [==============================] - 4s 24us/step - loss: 14.3404 - acc: 0.1005 - val_loss: 14.3402 - val_acc: 0.1005\n",
      "Epoch 3/20\n",
      " 87296/160000 [===============>..............] - ETA: 1s - loss: 14.3320 - acc: 0.1010"
     ]
    },
    {
     "ename": "KeyboardInterrupt",
     "evalue": "",
     "output_type": "error",
     "traceback": [
      "\u001b[0;31m---------------------------------------------------------------------------\u001b[0m",
      "\u001b[0;31mKeyboardInterrupt\u001b[0m                         Traceback (most recent call last)",
      "\u001b[0;32m<ipython-input-97-2c8a71c9358a>\u001b[0m in \u001b[0;36m<module>\u001b[0;34m\u001b[0m\n\u001b[1;32m      3\u001b[0m           \u001b[0mnb_epoch\u001b[0m\u001b[0;34m=\u001b[0m\u001b[0;36m20\u001b[0m\u001b[0;34m,\u001b[0m\u001b[0;34m\u001b[0m\u001b[0;34m\u001b[0m\u001b[0m\n\u001b[1;32m      4\u001b[0m           \u001b[0mverbose\u001b[0m\u001b[0;34m=\u001b[0m\u001b[0;36m1\u001b[0m\u001b[0;34m,\u001b[0m\u001b[0;34m\u001b[0m\u001b[0;34m\u001b[0m\u001b[0m\n\u001b[0;32m----> 5\u001b[0;31m           validation_data=(X_val_stan, y_val))\n\u001b[0m",
      "\u001b[0;32m~/Documents/python/kaggle/ml/lib/python3.6/site-packages/keras/engine/training.py\u001b[0m in \u001b[0;36mfit\u001b[0;34m(self, x, y, batch_size, epochs, verbose, callbacks, validation_split, validation_data, shuffle, class_weight, sample_weight, initial_epoch, steps_per_epoch, validation_steps, **kwargs)\u001b[0m\n\u001b[1;32m   1037\u001b[0m                                         \u001b[0minitial_epoch\u001b[0m\u001b[0;34m=\u001b[0m\u001b[0minitial_epoch\u001b[0m\u001b[0;34m,\u001b[0m\u001b[0;34m\u001b[0m\u001b[0;34m\u001b[0m\u001b[0m\n\u001b[1;32m   1038\u001b[0m                                         \u001b[0msteps_per_epoch\u001b[0m\u001b[0;34m=\u001b[0m\u001b[0msteps_per_epoch\u001b[0m\u001b[0;34m,\u001b[0m\u001b[0;34m\u001b[0m\u001b[0;34m\u001b[0m\u001b[0m\n\u001b[0;32m-> 1039\u001b[0;31m                                         validation_steps=validation_steps)\n\u001b[0m\u001b[1;32m   1040\u001b[0m \u001b[0;34m\u001b[0m\u001b[0m\n\u001b[1;32m   1041\u001b[0m     def evaluate(self, x=None, y=None,\n",
      "\u001b[0;32m~/Documents/python/kaggle/ml/lib/python3.6/site-packages/keras/engine/training_arrays.py\u001b[0m in \u001b[0;36mfit_loop\u001b[0;34m(model, f, ins, out_labels, batch_size, epochs, verbose, callbacks, val_f, val_ins, shuffle, callback_metrics, initial_epoch, steps_per_epoch, validation_steps)\u001b[0m\n\u001b[1;32m    197\u001b[0m                     \u001b[0mins_batch\u001b[0m\u001b[0;34m[\u001b[0m\u001b[0mi\u001b[0m\u001b[0;34m]\u001b[0m \u001b[0;34m=\u001b[0m \u001b[0mins_batch\u001b[0m\u001b[0;34m[\u001b[0m\u001b[0mi\u001b[0m\u001b[0;34m]\u001b[0m\u001b[0;34m.\u001b[0m\u001b[0mtoarray\u001b[0m\u001b[0;34m(\u001b[0m\u001b[0;34m)\u001b[0m\u001b[0;34m\u001b[0m\u001b[0;34m\u001b[0m\u001b[0m\n\u001b[1;32m    198\u001b[0m \u001b[0;34m\u001b[0m\u001b[0m\n\u001b[0;32m--> 199\u001b[0;31m                 \u001b[0mouts\u001b[0m \u001b[0;34m=\u001b[0m \u001b[0mf\u001b[0m\u001b[0;34m(\u001b[0m\u001b[0mins_batch\u001b[0m\u001b[0;34m)\u001b[0m\u001b[0;34m\u001b[0m\u001b[0;34m\u001b[0m\u001b[0m\n\u001b[0m\u001b[1;32m    200\u001b[0m                 \u001b[0mouts\u001b[0m \u001b[0;34m=\u001b[0m \u001b[0mto_list\u001b[0m\u001b[0;34m(\u001b[0m\u001b[0mouts\u001b[0m\u001b[0;34m)\u001b[0m\u001b[0;34m\u001b[0m\u001b[0;34m\u001b[0m\u001b[0m\n\u001b[1;32m    201\u001b[0m                 \u001b[0;32mfor\u001b[0m \u001b[0ml\u001b[0m\u001b[0;34m,\u001b[0m \u001b[0mo\u001b[0m \u001b[0;32min\u001b[0m \u001b[0mzip\u001b[0m\u001b[0;34m(\u001b[0m\u001b[0mout_labels\u001b[0m\u001b[0;34m,\u001b[0m \u001b[0mouts\u001b[0m\u001b[0;34m)\u001b[0m\u001b[0;34m:\u001b[0m\u001b[0;34m\u001b[0m\u001b[0;34m\u001b[0m\u001b[0m\n",
      "\u001b[0;32m~/Documents/python/kaggle/ml/lib/python3.6/site-packages/keras/backend/tensorflow_backend.py\u001b[0m in \u001b[0;36m__call__\u001b[0;34m(self, inputs)\u001b[0m\n\u001b[1;32m   2713\u001b[0m                 \u001b[0;32mreturn\u001b[0m \u001b[0mself\u001b[0m\u001b[0;34m.\u001b[0m\u001b[0m_legacy_call\u001b[0m\u001b[0;34m(\u001b[0m\u001b[0minputs\u001b[0m\u001b[0;34m)\u001b[0m\u001b[0;34m\u001b[0m\u001b[0;34m\u001b[0m\u001b[0m\n\u001b[1;32m   2714\u001b[0m \u001b[0;34m\u001b[0m\u001b[0m\n\u001b[0;32m-> 2715\u001b[0;31m             \u001b[0;32mreturn\u001b[0m \u001b[0mself\u001b[0m\u001b[0;34m.\u001b[0m\u001b[0m_call\u001b[0m\u001b[0;34m(\u001b[0m\u001b[0minputs\u001b[0m\u001b[0;34m)\u001b[0m\u001b[0;34m\u001b[0m\u001b[0;34m\u001b[0m\u001b[0m\n\u001b[0m\u001b[1;32m   2716\u001b[0m         \u001b[0;32melse\u001b[0m\u001b[0;34m:\u001b[0m\u001b[0;34m\u001b[0m\u001b[0;34m\u001b[0m\u001b[0m\n\u001b[1;32m   2717\u001b[0m             \u001b[0;32mif\u001b[0m \u001b[0mpy_any\u001b[0m\u001b[0;34m(\u001b[0m\u001b[0mis_tensor\u001b[0m\u001b[0;34m(\u001b[0m\u001b[0mx\u001b[0m\u001b[0;34m)\u001b[0m \u001b[0;32mfor\u001b[0m \u001b[0mx\u001b[0m \u001b[0;32min\u001b[0m \u001b[0minputs\u001b[0m\u001b[0;34m)\u001b[0m\u001b[0;34m:\u001b[0m\u001b[0;34m\u001b[0m\u001b[0;34m\u001b[0m\u001b[0m\n",
      "\u001b[0;32m~/Documents/python/kaggle/ml/lib/python3.6/site-packages/keras/backend/tensorflow_backend.py\u001b[0m in \u001b[0;36m_call\u001b[0;34m(self, inputs)\u001b[0m\n\u001b[1;32m   2673\u001b[0m             \u001b[0mfetched\u001b[0m \u001b[0;34m=\u001b[0m \u001b[0mself\u001b[0m\u001b[0;34m.\u001b[0m\u001b[0m_callable_fn\u001b[0m\u001b[0;34m(\u001b[0m\u001b[0;34m*\u001b[0m\u001b[0marray_vals\u001b[0m\u001b[0;34m,\u001b[0m \u001b[0mrun_metadata\u001b[0m\u001b[0;34m=\u001b[0m\u001b[0mself\u001b[0m\u001b[0;34m.\u001b[0m\u001b[0mrun_metadata\u001b[0m\u001b[0;34m)\u001b[0m\u001b[0;34m\u001b[0m\u001b[0;34m\u001b[0m\u001b[0m\n\u001b[1;32m   2674\u001b[0m         \u001b[0;32melse\u001b[0m\u001b[0;34m:\u001b[0m\u001b[0;34m\u001b[0m\u001b[0;34m\u001b[0m\u001b[0m\n\u001b[0;32m-> 2675\u001b[0;31m             \u001b[0mfetched\u001b[0m \u001b[0;34m=\u001b[0m \u001b[0mself\u001b[0m\u001b[0;34m.\u001b[0m\u001b[0m_callable_fn\u001b[0m\u001b[0;34m(\u001b[0m\u001b[0;34m*\u001b[0m\u001b[0marray_vals\u001b[0m\u001b[0;34m)\u001b[0m\u001b[0;34m\u001b[0m\u001b[0;34m\u001b[0m\u001b[0m\n\u001b[0m\u001b[1;32m   2676\u001b[0m         \u001b[0;32mreturn\u001b[0m \u001b[0mfetched\u001b[0m\u001b[0;34m[\u001b[0m\u001b[0;34m:\u001b[0m\u001b[0mlen\u001b[0m\u001b[0;34m(\u001b[0m\u001b[0mself\u001b[0m\u001b[0;34m.\u001b[0m\u001b[0moutputs\u001b[0m\u001b[0;34m)\u001b[0m\u001b[0;34m]\u001b[0m\u001b[0;34m\u001b[0m\u001b[0;34m\u001b[0m\u001b[0m\n\u001b[1;32m   2677\u001b[0m \u001b[0;34m\u001b[0m\u001b[0m\n",
      "\u001b[0;32m~/Documents/python/kaggle/ml/lib/python3.6/site-packages/tensorflow/python/client/session.py\u001b[0m in \u001b[0;36m__call__\u001b[0;34m(self, *args)\u001b[0m\n\u001b[1;32m   1449\u001b[0m         \u001b[0;32mif\u001b[0m \u001b[0mself\u001b[0m\u001b[0;34m.\u001b[0m\u001b[0m_session\u001b[0m\u001b[0;34m.\u001b[0m\u001b[0m_created_with_new_api\u001b[0m\u001b[0;34m:\u001b[0m\u001b[0;34m\u001b[0m\u001b[0;34m\u001b[0m\u001b[0m\n\u001b[1;32m   1450\u001b[0m           return tf_session.TF_SessionRunCallable(\n\u001b[0;32m-> 1451\u001b[0;31m               self._session._session, self._handle, args, status, None)\n\u001b[0m\u001b[1;32m   1452\u001b[0m         \u001b[0;32melse\u001b[0m\u001b[0;34m:\u001b[0m\u001b[0;34m\u001b[0m\u001b[0;34m\u001b[0m\u001b[0m\n\u001b[1;32m   1453\u001b[0m           return tf_session.TF_DeprecatedSessionRunCallable(\n",
      "\u001b[0;31mKeyboardInterrupt\u001b[0m: "
     ]
    }
   ],
   "source": [
    "model.fit(X_train_stan, y_train,\n",
    "          batch_size=128,\n",
    "          nb_epoch=20,\n",
    "          verbose=1,\n",
    "          validation_data=(X_val_stan, y_val))"
   ]
  },
  {
   "cell_type": "code",
   "execution_count": null,
   "metadata": {},
   "outputs": [],
   "source": []
  }
 ],
 "metadata": {
  "kernelspec": {
   "display_name": "Python 3",
   "language": "python",
   "name": "python3"
  },
  "language_info": {
   "codemirror_mode": {
    "name": "ipython",
    "version": 3
   },
   "file_extension": ".py",
   "mimetype": "text/x-python",
   "name": "python",
   "nbconvert_exporter": "python",
   "pygments_lexer": "ipython3",
   "version": "3.6.7"
  }
 },
 "nbformat": 4,
 "nbformat_minor": 2
}
