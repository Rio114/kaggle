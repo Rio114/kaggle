{
 "cells": [
  {
   "cell_type": "code",
   "execution_count": 1,
   "metadata": {},
   "outputs": [],
   "source": [
    "import pandas as pd\n",
    "import numpy as np\n",
    "import matplotlib.pyplot as plt\n",
    "%matplotlib inline\n",
    "\n",
    "from sklearn.model_selection import train_test_split\n",
    "from sklearn.naive_bayes import GaussianNB\n",
    "from sklearn.preprocessing import MinMaxScaler, StandardScaler\n",
    "from sklearn import metrics\n",
    "import lightgbm as lgb\n",
    "import random"
   ]
  },
  {
   "cell_type": "code",
   "execution_count": 2,
   "metadata": {},
   "outputs": [],
   "source": [
    "df = pd.read_csv('train.csv')"
   ]
  },
  {
   "cell_type": "code",
   "execution_count": 3,
   "metadata": {},
   "outputs": [],
   "source": [
    "# X_code = df.drop(['target'], axis=1).values\n",
    "# y = df['target'].values\n",
    "# X_code_train, X_code_val, y_train, y_val = train_test_split(X_code, y, test_size= 0.15, random_state=0, stratify=y)\n",
    "\n",
    "# X_train = X_code_train[:,1:].astype(np.float)\n",
    "# code_train = X_code_train[:,0]\n",
    "# X_val = X_code_val[:,1:].astype(np.float)\n",
    "# code_val = X_code_val[:,0]"
   ]
  },
  {
   "cell_type": "code",
   "execution_count": 4,
   "metadata": {},
   "outputs": [],
   "source": [
    "X_train = df.drop(['ID_code', 'target'], axis=1).values\n",
    "y_train = df['target'].values"
   ]
  },
  {
   "cell_type": "code",
   "execution_count": 5,
   "metadata": {},
   "outputs": [
    {
     "name": "stdout",
     "output_type": "stream",
     "text": [
      "Iter:0, AUC_train:0.96527, AUC_val:0.89512\n",
      "Iter:1, AUC_train:0.96481, AUC_val:0.89367\n",
      "Iter:2, AUC_train:0.96442, AUC_val:0.89961\n",
      "Iter:3, AUC_train:0.96520, AUC_val:0.89725\n",
      "Iter:4, AUC_train:0.96556, AUC_val:0.89272\n",
      "Iter:5, AUC_train:0.96505, AUC_val:0.89986\n",
      "Iter:6, AUC_train:0.96573, AUC_val:0.89520\n",
      "Iter:7, AUC_train:0.96463, AUC_val:0.89592\n",
      "Iter:8, AUC_train:0.96540, AUC_val:0.89359\n",
      "Iter:9, AUC_train:0.96514, AUC_val:0.89811\n",
      "Iter:10, AUC_train:0.96506, AUC_val:0.90037\n",
      "Iter:11, AUC_train:0.96571, AUC_val:0.89117\n",
      "Iter:12, AUC_train:0.96546, AUC_val:0.89589\n",
      "Iter:13, AUC_train:0.96537, AUC_val:0.89484\n",
      "Iter:14, AUC_train:0.96577, AUC_val:0.89485\n",
      "Iter:15, AUC_train:0.96529, AUC_val:0.89784\n",
      "Iter:16, AUC_train:0.96498, AUC_val:0.90052\n",
      "Iter:17, AUC_train:0.96495, AUC_val:0.89507\n",
      "Iter:18, AUC_train:0.96485, AUC_val:0.89950\n",
      "Iter:19, AUC_train:0.96525, AUC_val:0.89739\n",
      "Iter:20, AUC_train:0.96539, AUC_val:0.89385\n",
      "Iter:21, AUC_train:0.96539, AUC_val:0.89867\n",
      "Iter:22, AUC_train:0.96549, AUC_val:0.89382\n",
      "Iter:23, AUC_train:0.96512, AUC_val:0.89812\n",
      "Iter:24, AUC_train:0.96549, AUC_val:0.89318\n",
      "Iter:25, AUC_train:0.96490, AUC_val:0.89733\n",
      "Iter:26, AUC_train:0.96524, AUC_val:0.89696\n",
      "Iter:27, AUC_train:0.96496, AUC_val:0.89353\n",
      "Iter:28, AUC_train:0.96435, AUC_val:0.89975\n",
      "Iter:29, AUC_train:0.96542, AUC_val:0.89462\n",
      "Iter:30, AUC_train:0.96511, AUC_val:0.90095\n",
      "Iter:31, AUC_train:0.96495, AUC_val:0.90150\n",
      "Iter:32, AUC_train:0.96530, AUC_val:0.89705\n",
      "Iter:33, AUC_train:0.96545, AUC_val:0.89621\n",
      "Iter:34, AUC_train:0.96585, AUC_val:0.89236\n",
      "Iter:35, AUC_train:0.96564, AUC_val:0.89368\n",
      "Iter:36, AUC_train:0.96529, AUC_val:0.89875\n",
      "Iter:37, AUC_train:0.96404, AUC_val:0.89928\n",
      "Iter:38, AUC_train:0.96576, AUC_val:0.89746\n",
      "Iter:39, AUC_train:0.96535, AUC_val:0.89907\n",
      "Iter:40, AUC_train:0.96547, AUC_val:0.89510\n",
      "Iter:41, AUC_train:0.96635, AUC_val:0.88943\n",
      "Iter:42, AUC_train:0.96573, AUC_val:0.89363\n",
      "Iter:43, AUC_train:0.96470, AUC_val:0.89736\n",
      "Iter:44, AUC_train:0.96536, AUC_val:0.89232\n",
      "Iter:45, AUC_train:0.96493, AUC_val:0.89777\n",
      "Iter:46, AUC_train:0.96560, AUC_val:0.89345\n",
      "Iter:47, AUC_train:0.96560, AUC_val:0.89182\n",
      "Iter:48, AUC_train:0.96567, AUC_val:0.89180\n",
      "Iter:49, AUC_train:0.96532, AUC_val:0.89437\n"
     ]
    }
   ],
   "source": [
    "gbms = []\n",
    "num_gbm  = 50\n",
    "y_val_pred_gbm = []\n",
    "\n",
    "for i in range(num_gbm):\n",
    "\n",
    "    X_cv_train, X_cv_val, y_cv_train, y_cv_val = train_test_split(X_train, y_train, test_size= 0.175, random_state=i, stratify=y_train)\n",
    "\n",
    "    lgb_cv_train = lgb.Dataset(X_cv_train, y_cv_train)\n",
    "    lgb_cv_val = lgb.Dataset(X_cv_val, y_cv_val, reference=lgb_cv_train)\n",
    "\n",
    "    params = {\n",
    "        'objective': 'binary',\n",
    "        'boost_from_average':False,\n",
    "        'metric': 'auc',\n",
    "        'boosting_type': 'gbdt', \n",
    "    'feature_fraction': 0.826977192958044, 'learning_rate': 0.02282076577563403, 'subsample': 0.9474956435517711, 'min_data_in_leaf': 82, 'min_sum_hessian_in_leaf': 0.0017853923506107412, 'bagging_fraction': 0.8404734128700382, 'bagging_freq': 1, 'min_gain_to_split': 0.9445989208456473, 'lambda_l1': 0.45734714204064286, 'lambda_l2': 0.39514949348019346, 'num_leaves': 22, 'max_bin': 140\n",
    "    }\n",
    "\n",
    "    gbm = lgb.train(params,\n",
    "                    lgb_cv_train,\n",
    "                    valid_sets=lgb_cv_val,\n",
    "                    num_boost_round=2000,\n",
    "                    early_stopping_rounds=100,\n",
    "                    verbose_eval = 0)\n",
    "    \n",
    "    y_pred = gbm.predict(X_cv_train, num_iteration=gbm.best_iteration)\n",
    "    fpr, tpr, thresholds = metrics.roc_curve(y_cv_train, y_pred)\n",
    "    auc_train = metrics.auc(fpr, tpr)\n",
    "    \n",
    "    y_pred = gbm.predict(X_cv_val, num_iteration=gbm.best_iteration)\n",
    "    fpr, tpr, thresholds = metrics.roc_curve(y_cv_val, y_pred)\n",
    "    auc_val = metrics.auc(fpr, tpr)\n",
    "    \n",
    "    y_val_pred_gbm.append(y_pred)\n",
    "    \n",
    "    gbms.append(gbm)\n",
    "    print(\"Iter:%d, AUC_train:%.5f, AUC_val:%.5f\" % (i, auc_train, auc_val))"
   ]
  },
  {
   "cell_type": "code",
   "execution_count": 18,
   "metadata": {},
   "outputs": [
    {
     "data": {
      "image/png": "[encoded data removed]",
      "text/plain": [
       "<Figure size 432x288 with 1 Axes>"
      ]
     },
     "metadata": {
      "needs_background": "light"
     },
     "output_type": "display_data"
    }
   ],
   "source": [
    "pos = y_cv_val == 1\n",
    "neg = y_cv_val == 0\n",
    "y_pred = gbm.predict(X_cv_val, num_iteration=gbm.best_iteration)\n",
    "plt.hist(y_pred[neg], bins=100)\n",
    "plt.hist(y_pred[pos], bins=100,alpha=0.5)\n",
    "plt.ylim(0,100)\n",
    "plt.show()"
   ]
  },
  {
   "cell_type": "code",
   "execution_count": null,
   "metadata": {},
   "outputs": [],
   "source": []
  },
  {
   "cell_type": "code",
   "execution_count": null,
   "metadata": {},
   "outputs": [],
   "source": []
  },
  {
   "cell_type": "code",
   "execution_count": 6,
   "metadata": {},
   "outputs": [],
   "source": [
    "df_test = pd.read_csv('test.csv')\n",
    "X_test = df_test.drop('ID_code', axis=1).values"
   ]
  },
  {
   "cell_type": "code",
   "execution_count": 7,
   "metadata": {},
   "outputs": [],
   "source": [
    "y_test_pred_gbm = []\n",
    "\n",
    "num = len(gbms)\n",
    "for i in range(num):\n",
    "    gbm = gbms[i]\n",
    "    y_pred = gbm.predict(X_test, num_iteration=gbm.best_iteration)\n",
    "    y_test_pred_gbm.append(y_pred)\n",
    "y_test_pred_gbm = np.array(y_test_pred_gbm)\n",
    "y_test_pred_gmb_mean = (np.array(y_test_pred_gbm).prod(axis=0)) ** (1/num)"
   ]
  },
  {
   "cell_type": "code",
   "execution_count": 8,
   "metadata": {},
   "outputs": [
    {
     "data": {
      "text/plain": [
       "(200000,)"
      ]
     },
     "execution_count": 8,
     "metadata": {},
     "output_type": "execute_result"
    }
   ],
   "source": [
    "y_test_pred_gmb_mean.shape"
   ]
  },
  {
   "cell_type": "code",
   "execution_count": 9,
   "metadata": {},
   "outputs": [],
   "source": [
    "se_y_test_pred = pd.Series(y_test_pred_gmb_mean, name='target')\n",
    "df_sub = pd.concat([df_test['ID_code'], se_y_test_pred], axis=1)"
   ]
  },
  {
   "cell_type": "code",
   "execution_count": 10,
   "metadata": {},
   "outputs": [
    {
     "data": {
      "text/html": [
       "<div>\n",
       "<style scoped>\n",
       "    .dataframe tbody tr th:only-of-type {\n",
       "        vertical-align: middle;\n",
       "    }\n",
       "\n",
       "    .dataframe tbody tr th {\n",
       "        vertical-align: top;\n",
       "    }\n",
       "\n",
       "    .dataframe thead th {\n",
       "        text-align: right;\n",
       "    }\n",
       "</style>\n",
       "<table border=\"1\" class=\"dataframe\">\n",
       "  <thead>\n",
       "    <tr style=\"text-align: right;\">\n",
       "      <th></th>\n",
       "      <th>ID_code</th>\n",
       "      <th>target</th>\n",
       "    </tr>\n",
       "  </thead>\n",
       "  <tbody>\n",
       "    <tr>\n",
       "      <th>0</th>\n",
       "      <td>test_0</td>\n",
       "      <td>0.098244</td>\n",
       "    </tr>\n",
       "    <tr>\n",
       "      <th>1</th>\n",
       "      <td>test_1</td>\n",
       "      <td>0.254415</td>\n",
       "    </tr>\n",
       "    <tr>\n",
       "      <th>2</th>\n",
       "      <td>test_2</td>\n",
       "      <td>0.213933</td>\n",
       "    </tr>\n",
       "    <tr>\n",
       "      <th>3</th>\n",
       "      <td>test_3</td>\n",
       "      <td>0.139685</td>\n",
       "    </tr>\n",
       "    <tr>\n",
       "      <th>4</th>\n",
       "      <td>test_4</td>\n",
       "      <td>0.044985</td>\n",
       "    </tr>\n",
       "  </tbody>\n",
       "</table>\n",
       "</div>"
      ],
      "text/plain": [
       "  ID_code    target\n",
       "0  test_0  0.098244\n",
       "1  test_1  0.254415\n",
       "2  test_2  0.213933\n",
       "3  test_3  0.139685\n",
       "4  test_4  0.044985"
      ]
     },
     "execution_count": 10,
     "metadata": {},
     "output_type": "execute_result"
    }
   ],
   "source": [
    "df_sub.head()"
   ]
  },
  {
   "cell_type": "code",
   "execution_count": 11,
   "metadata": {},
   "outputs": [],
   "source": [
    "df_sub.to_csv('submission1.csv', index=False)"
   ]
  },
  {
   "cell_type": "code",
   "execution_count": 14,
   "metadata": {},
   "outputs": [
    {
     "data": {
      "image/png": "[encoded data removed]",
      "text/plain": [
       "<Figure size 432x288 with 1 Axes>"
      ]
     },
     "metadata": {
      "needs_background": "light"
     },
     "output_type": "display_data"
    }
   ],
   "source": [
    "plt.hist(y_test_pred_gmb_mean, bins=100)\n",
    "plt.show()"
   ]
  },
  {
   "cell_type": "code",
   "execution_count": null,
   "metadata": {},
   "outputs": [],
   "source": []
  }
 ],
 "metadata": {
  "kernelspec": {
   "display_name": "Python 3",
   "language": "python",
   "name": "python3"
  },
  "language_info": {
   "codemirror_mode": {
    "name": "ipython",
    "version": 3
   },
   "file_extension": ".py",
   "mimetype": "text/x-python",
   "name": "python",
   "nbconvert_exporter": "python",
   "pygments_lexer": "ipython3",
   "version": "3.6.7"
  }
 },
 "nbformat": 4,
 "nbformat_minor": 2
}
