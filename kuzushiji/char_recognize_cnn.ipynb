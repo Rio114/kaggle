{
 "cells": [
  {
   "cell_type": "code",
   "execution_count": 1,
   "metadata": {},
   "outputs": [],
   "source": [
    "import pandas as pd\n",
    "import numpy as np\n",
    "import os\n",
    "import time\n",
    "import cv2\n",
    "import matplotlib.pyplot as plt\n",
    "import pickle\n",
    "from tqdm import tqdm\n",
    "import random"
   ]
  },
  {
   "cell_type": "code",
   "execution_count": 2,
   "metadata": {},
   "outputs": [
    {
     "name": "stderr",
     "output_type": "stream",
     "text": [
      "Using TensorFlow backend.\n"
     ]
    }
   ],
   "source": [
    "from keras.models import Model\n",
    "from keras.layers import Conv2D, MaxPooling2D, Input, Dense\n",
    "from keras.layers import Flatten, Reshape, Activation, Concatenate, Dropout\n",
    "from keras.losses import categorical_crossentropy\n",
    "from keras.optimizers import adam\n",
    "from sklearn.preprocessing import  OneHotEncoder"
   ]
  },
  {
   "cell_type": "code",
   "execution_count": 3,
   "metadata": {},
   "outputs": [
    {
     "name": "stdout",
     "output_type": "stream",
     "text": [
      "['unicode_translation.csv', 'train_images', 'sample_submission.csv', 'train.csv', 'kuzushiji-recognition.zip', 'output', 'test_images', 'chars', 'models']\n"
     ]
    }
   ],
   "source": [
    "FOLDER = '../../data_kaggle/kuzushiji/'\n",
    "IMAGES = FOLDER + 'train_images/'\n",
    "CHARS = FOLDER + 'chars/'\n",
    "MODELS = FOLDER + 'models/'\n",
    "print(os.listdir(FOLDER))"
   ]
  },
  {
   "cell_type": "code",
   "execution_count": 4,
   "metadata": {},
   "outputs": [],
   "source": [
    "# os.mkdir(CHARS)"
   ]
  },
  {
   "cell_type": "code",
   "execution_count": 5,
   "metadata": {},
   "outputs": [],
   "source": [
    "df_train = pd.read_csv(FOLDER + 'train.csv')\n",
    "df_sub = pd.read_csv(FOLDER + 'sample_submission.csv')\n",
    "unicode_map = {codepoint: char for codepoint, char in pd.read_csv(FOLDER + 'unicode_translation.csv').values}"
   ]
  },
  {
   "cell_type": "code",
   "execution_count": 6,
   "metadata": {},
   "outputs": [],
   "source": [
    "df_sub_idx = df_sub.set_index(\"image_id\")\n",
    "df_train_idx = df_train.set_index(\"image_id\")\n",
    "idx_train = df_train['image_id']"
   ]
  },
  {
   "cell_type": "code",
   "execution_count": 7,
   "metadata": {},
   "outputs": [],
   "source": [
    "def label_reader(label):\n",
    "    try:\n",
    "        code_arr = np.array(label['labels'].split(' ')).reshape(-1, 5)\n",
    "    except:\n",
    "        return\n",
    "    return code_arr"
   ]
  },
  {
   "cell_type": "code",
   "execution_count": 8,
   "metadata": {},
   "outputs": [],
   "source": [
    "CHAR_SIZE = (100, 100)"
   ]
  },
  {
   "cell_type": "code",
   "execution_count": null,
   "metadata": {},
   "outputs": [
    {
     "name": "stderr",
     "output_type": "stream",
     "text": [
      "100%|██████████| 10/10 [00:03<00:00,  2.94it/s]\n"
     ]
    }
   ],
   "source": [
    "for idx in tqdm(idx_train[2000:2010]):\n",
    "    code = df_train_idx.loc[idx]\n",
    "    try:\n",
    "        code_arr = np.array(code['labels'].split(' ')).reshape(-1, 5)\n",
    "    except:\n",
    "        continue\n",
    "    df_char = pd.DataFrame(code_arr, columns=['unicode', 'x', 'y', 'w', 'h'])\n",
    "    df_char[['x','y','w','h']] = df_char[['x','y','w','h']].astype('int')\n",
    "\n",
    "    path = IMAGES + idx + '.jpg'\n",
    "    img = cv2.imread(path)\n",
    "    img_gray = cv2.cvtColor(img, cv2.COLOR_BGR2GRAY)\n",
    "\n",
    "    codes = df_char['unicode']\n",
    "    positions = df_char[['x','y', 'w','h']].values\n",
    "    char_arr = np.zeros([0, CHAR_SIZE[0], CHAR_SIZE[1]])\n",
    "    for pos in positions :\n",
    "        x, y, w, h = pos\n",
    "        img_char = img_gray[y:y+h, x:x+w]\n",
    "        w = img_char.shape[1]\n",
    "        h = img_char.shape[0]\n",
    "        if w > h:\n",
    "            delta = (w - h) // 2\n",
    "            pad = (np.ones([delta, w]) * 255).astype('int')\n",
    "            img_pad = (255 - np.vstack([pad, img_char, pad])).astype('float32')        \n",
    "            img_pad_resize = cv2.resize(img_pad, CHAR_SIZE).astype('int')\n",
    "            char_arr = np.vstack([char_arr, img_pad_resize.reshape([1, CHAR_SIZE[0], CHAR_SIZE[1]])])\n",
    "        else:\n",
    "            delta = (h - w) // 2\n",
    "            pad = (np.ones([h, delta]) * 255).astype('int')\n",
    "            img_pad = (255 - np.hstack([pad, img_char, pad])).astype('float32')\n",
    "            img_pad_resize = cv2.resize(img_pad, CHAR_SIZE).astype('int')        \n",
    "            char_arr = np.vstack([char_arr, img_pad_resize.reshape([1, CHAR_SIZE[0], CHAR_SIZE[1]])])\n",
    "\n",
    "    with open(CHARS + idx + '.pickle', 'wb') as f:\n",
    "        pickle.dump(char_arr, f)\n",
    "        pickle.dump(codes, f)"
   ]
  },
  {
   "cell_type": "code",
   "execution_count": null,
   "metadata": {},
   "outputs": [],
   "source": [
    "img_size = (CHAR_SIZE[0], CHAR_SIZE[1], 1)\n",
    "inputs = Input(shape=img_size, name='cnn_input')\n",
    "\n",
    "## Block 1\n",
    "conv1_1 = Conv2D(64, (3, 3),activation='relu',padding='same',name='conv1_1')(inputs)\n",
    "conv1_2 = Conv2D(64, (3, 3),activation='relu',padding='same',name='conv1_2')(conv1_1)\n",
    "pool1 = MaxPooling2D((2,2),strides=(2,2),padding='same',name='pool1')(conv1_2)\n",
    "\n",
    "conv2_1 = Conv2D(64, (3, 3),activation='relu',padding='same',name='conv2_1')(pool1)\n",
    "conv2_2 = Conv2D(64, (3, 3),activation='relu',padding='same',name='conv2_2')(conv2_1)\n",
    "pool2 = MaxPooling2D((2,2),strides=(2,2),padding='same',name='pool2')(conv2_2)\n",
    "\n",
    "conv3_1 = Conv2D(64, (3, 3),activation='relu',padding='same',name='conv3_1')(pool2)\n",
    "conv3_2 = Conv2D(64, (3, 3),activation='relu',padding='same',name='conv3_2')(conv3_1)\n",
    "pool3 = MaxPooling2D((2,2),strides=(2,2),padding='same',name='pool3')(conv3_2)\n",
    "flat3 = Flatten(name='flat3')(pool3)\n",
    "\n",
    "\n",
    "dense1 = Dense(4787,activation='relu', name='dense1')(flat3)\n",
    "dense2 = Dense(4787, activation='softmax', name='dense2')(dense1)\n",
    "model =  Model(inputs, dense2)"
   ]
  },
  {
   "cell_type": "code",
   "execution_count": null,
   "metadata": {},
   "outputs": [
    {
     "data": {
      "text/plain": [
       "OneHotEncoder(categorical_features=None, categories=None, drop=None,\n",
       "              dtype=<class 'numpy.float64'>, handle_unknown='error',\n",
       "              n_values=None, sparse=True)"
      ]
     },
     "execution_count": 11,
     "metadata": {},
     "output_type": "execute_result"
    }
   ],
   "source": [
    "model.compile(optimizer=adam(),\n",
    "              loss=categorical_crossentropy)\n",
    "\n",
    "ohe = OneHotEncoder()\n",
    "ohe.fit(pd.Series(list(unicode_map.keys())).unique().reshape(-1,1))"
   ]
  },
  {
   "cell_type": "code",
   "execution_count": null,
   "metadata": {},
   "outputs": [],
   "source": [
    "def data_flow(CHARS, idx, ohe, batch_size=32):\n",
    "    while True:\n",
    "        image_id = random.sample(list(idx),1)[0]\n",
    "        \n",
    "        try:\n",
    "            with open(CHARS + image_id + '.pickle', 'rb') as f:\n",
    "                char_arr = pickle.load(f) / 255\n",
    "                codes = pickle.load(f)\n",
    "        except:\n",
    "            continue\n",
    "            \n",
    "        num = len(codes)\n",
    "        try:\n",
    "            pickup = random.sample(list(range(num)), batch_size)\n",
    "        except:\n",
    "            continue\n",
    "            \n",
    "        inputs = char_arr[pickup][:, :, :, np.newaxis]\n",
    "        targets = ohe.transform(codes[pickup].values[:, np.newaxis]).toarray()\n",
    "        \n",
    "        yield inputs, targets"
   ]
  },
  {
   "cell_type": "code",
   "execution_count": null,
   "metadata": {},
   "outputs": [],
   "source": [
    "len_train = len(idx_train)\n",
    "idx_rand = random.sample(list(idx_train), len_train)\n",
    "idx_dev = idx_rand[:int(len_train*0.8)]\n",
    "idx_val = idx_rand[int(len_train*0.8):]\n",
    "\n",
    "gen_train = data_flow(CHARS, idx_dev, ohe, batch_size=32)\n",
    "gen_val = data_flow(CHARS, idx_val, ohe, batch_size=32)\n",
    "\n",
    "num_steps_dev = len(idx_dev)\n",
    "num_steps_val = len(idx_val)"
   ]
  },
  {
   "cell_type": "code",
   "execution_count": null,
   "metadata": {
    "scrolled": true
   },
   "outputs": [
    {
     "name": "stdout",
     "output_type": "stream",
     "text": [
      "Epoch 1/3\n",
      "3104/3104 [==============================] - 313s 101ms/step - loss: 2.7334 - val_loss: 1.8245\n",
      "Epoch 2/3\n",
      "3104/3104 [==============================] - 306s 98ms/step - loss: 1.4562 - val_loss: 1.4572\n",
      "Epoch 3/3\n",
      "2617/3104 [========================>.....] - ETA: 46s - loss: 1.1418"
     ]
    }
   ],
   "source": [
    "model.fit_generator(gen_train, steps_per_epoch=num_steps_dev, epochs=3, verbose=1, \n",
    "                    validation_data=gen_val, \n",
    "                    validation_steps=num_steps_val)"
   ]
  },
  {
   "cell_type": "code",
   "execution_count": null,
   "metadata": {},
   "outputs": [],
   "source": [
    "df_pred = pd.DataFrame()\n",
    "df_pred['y_true'] = codes.replace(unicode_map)\n",
    "df_pred['y_pred'] = pd.Series(ohe.inverse_transform(model.predict(char_arr[:,:,:,np.newaxis])).reshape(-1)).replace(unicode_map)"
   ]
  },
  {
   "cell_type": "code",
   "execution_count": null,
   "metadata": {},
   "outputs": [],
   "source": [
    "(df_pred['y_true'] == df_pred['y_pred']).mean()"
   ]
  },
  {
   "cell_type": "code",
   "execution_count": null,
   "metadata": {
    "scrolled": true
   },
   "outputs": [],
   "source": [
    "df_pred"
   ]
  },
  {
   "cell_type": "code",
   "execution_count": null,
   "metadata": {},
   "outputs": [],
   "source": [
    "model.save(MODELS + 'model.hdf5', include_optimizer=False)"
   ]
  },
  {
   "cell_type": "code",
   "execution_count": null,
   "metadata": {},
   "outputs": [],
   "source": []
  }
 ],
 "metadata": {
  "kernelspec": {
   "display_name": "Python 3",
   "language": "python",
   "name": "python3"
  },
  "language_info": {
   "codemirror_mode": {
    "name": "ipython",
    "version": 3
   },
   "file_extension": ".py",
   "mimetype": "text/x-python",
   "name": "python",
   "nbconvert_exporter": "python",
   "pygments_lexer": "ipython3",
   "version": "3.6.8"
  }
 },
 "nbformat": 4,
 "nbformat_minor": 2
}
