{
 "cells": [
  {
   "cell_type": "code",
   "execution_count": 1,
   "metadata": {},
   "outputs": [],
   "source": [
    "import os\n",
    "import pandas as pd\n",
    "import numpy as np\n",
    "import time\n",
    "import pickle\n",
    "import random\n",
    "random.seed(0)\n",
    "\n",
    "import matplotlib.pyplot as plt\n",
    "\n",
    "import lightgbm as lgb"
   ]
  },
  {
   "cell_type": "code",
   "execution_count": 2,
   "metadata": {},
   "outputs": [
    {
     "name": "stderr",
     "output_type": "stream",
     "text": [
      "Using TensorFlow backend.\n"
     ]
    }
   ],
   "source": [
    "from keras.datasets import mnist\n",
    "from keras.models import Sequential\n",
    "from keras.layers.core import Dense, Dropout, Activation\n",
    "from keras.utils import np_utils"
   ]
  },
  {
   "cell_type": "code",
   "execution_count": 3,
   "metadata": {},
   "outputs": [],
   "source": [
    "FOLDER = '../../data_kaggle/champs/'\n",
    "OUTPUT = FOLDER + 'out/'"
   ]
  },
  {
   "cell_type": "code",
   "execution_count": 4,
   "metadata": {},
   "outputs": [],
   "source": [
    "from process import type_score"
   ]
  },
  {
   "cell_type": "code",
   "execution_count": 5,
   "metadata": {},
   "outputs": [],
   "source": [
    "train_data = '20190715_dist_ang_ori_bond_cos_train_{}.pickle'\n",
    "trained_models = '20190715_3_champs_models_lgb_{}.pickle'\n",
    "pred_train_name = '20190715_2_predict_train.pickle'\n",
    "pred_train_temp = 'predict_train_temp_{}.pickle'\n",
    "pred_val_name = '20190715_2_predict_val.pickle'\n",
    "pred_val_temp = 'predict_val_temp_{}.pickle'"
   ]
  },
  {
   "cell_type": "code",
   "execution_count": 6,
   "metadata": {},
   "outputs": [],
   "source": [
    "# df = pd.DataFrame()\n",
    "# bond_types = ['1JHC', '2JHH', '1JHN', '2JHN', '2JHC', '3JHH', '3JHC', '3JHN']\n",
    "# for b in bond_types:\n",
    "#     df_bond = pd.read_pickle(OUTPUT + train_data.format(b))\n",
    "#     df = pd.concat([df, df_bond], axis=0)"
   ]
  },
  {
   "cell_type": "code",
   "execution_count": 49,
   "metadata": {},
   "outputs": [
    {
     "data": {
      "text/plain": [
       "(709416, 229)"
      ]
     },
     "execution_count": 49,
     "metadata": {},
     "output_type": "execute_result"
    }
   ],
   "source": [
    "df = pd.read_pickle(OUTPUT + train_data.format(\"1JHC\")).fillna(0)\n",
    "df.shape"
   ]
  },
  {
   "cell_type": "code",
   "execution_count": 50,
   "metadata": {},
   "outputs": [],
   "source": [
    "mols = df['molecule_name'].unique()\n",
    "num = len(mols)\n",
    "num_train = int(num * 0.95)\n",
    "pickup = random.sample(range(num), num)\n",
    "pick_train = pickup[:num_train]\n",
    "pick_val = pickup[num_train:]"
   ]
  },
  {
   "cell_type": "code",
   "execution_count": 51,
   "metadata": {},
   "outputs": [],
   "source": [
    "df_train_b = df[df['molecule_name'].isin(mols[pick_train])]\n",
    "df_val_b = df[df['molecule_name'].isin(mols[pick_val])]"
   ]
  },
  {
   "cell_type": "code",
   "execution_count": 52,
   "metadata": {},
   "outputs": [],
   "source": [
    "y_train = df_train_b['scalar_coupling_constant'].values\n",
    "X_train = df_train_b[df_train_b.columns[6:]].values\n",
    "\n",
    "y_val = df_val_b['scalar_coupling_constant'].values\n",
    "X_val = df_val_b[df_val_b.columns[6:]].values"
   ]
  },
  {
   "cell_type": "code",
   "execution_count": 53,
   "metadata": {},
   "outputs": [],
   "source": [
    "# rounds = 500000\n",
    "# num_seed = 1\n",
    "# # bond_types = ['1JHC', '2JHH', '1JHN', '2JHN', '2JHC', '3JHH', '3JHC', '3JHN']\n",
    "# bond_types = ['3JHN', '3JHC','1JHC', '2JHH', '1JHN', '2JHN', '2JHC', '3JHH']"
   ]
  },
  {
   "cell_type": "code",
   "execution_count": 87,
   "metadata": {},
   "outputs": [],
   "source": [
    "def type_score(val, pred):\n",
    "    return np.log(sum(np.abs(val - pred)) / len(val))"
   ]
  },
  {
   "cell_type": "code",
   "execution_count": 54,
   "metadata": {},
   "outputs": [],
   "source": [
    "from keras.layers.normalization import BatchNormalization"
   ]
  },
  {
   "cell_type": "code",
   "execution_count": 91,
   "metadata": {},
   "outputs": [
    {
     "name": "stdout",
     "output_type": "stream",
     "text": [
      "_________________________________________________________________\n",
      "Layer (type)                 Output Shape              Param #   \n",
      "=================================================================\n",
      "dense_42 (Dense)             (None, 64)                14336     \n",
      "_________________________________________________________________\n",
      "batch_normalization_30 (Batc (None, 64)                256       \n",
      "_________________________________________________________________\n",
      "activation_32 (Activation)   (None, 64)                0         \n",
      "_________________________________________________________________\n",
      "dropout_24 (Dropout)         (None, 64)                0         \n",
      "_________________________________________________________________\n",
      "dense_43 (Dense)             (None, 32)                2080      \n",
      "_________________________________________________________________\n",
      "batch_normalization_31 (Batc (None, 32)                128       \n",
      "_________________________________________________________________\n",
      "activation_33 (Activation)   (None, 32)                0         \n",
      "_________________________________________________________________\n",
      "dense_44 (Dense)             (None, 16)                528       \n",
      "_________________________________________________________________\n",
      "batch_normalization_32 (Batc (None, 16)                64        \n",
      "_________________________________________________________________\n",
      "activation_34 (Activation)   (None, 16)                0         \n",
      "_________________________________________________________________\n",
      "dense_45 (Dense)             (None, 1)                 17        \n",
      "=================================================================\n",
      "Total params: 17,409\n",
      "Trainable params: 17,185\n",
      "Non-trainable params: 224\n",
      "_________________________________________________________________\n"
     ]
    }
   ],
   "source": [
    "# シーケンシャルモデル\n",
    "model = Sequential()\n",
    "\n",
    "model.add(Dense(64, input_dim=223))\n",
    "model.add(BatchNormalization())\n",
    "model.add(Activation('relu'))\n",
    "model.add(Dropout(0.2))\n",
    "\n",
    "model.add(Dense(32))\n",
    "model.add(BatchNormalization())\n",
    "model.add(Activation('relu'))\n",
    "\n",
    "model.add(Dense(16))\n",
    "model.add(BatchNormalization())\n",
    "model.add(Activation('tanh'))\n",
    "\n",
    "model.add(Dense(1))\n",
    "\n",
    "# モデルの要約を出力\n",
    "model.summary()"
   ]
  },
  {
   "cell_type": "code",
   "execution_count": 92,
   "metadata": {},
   "outputs": [
    {
     "name": "stderr",
     "output_type": "stream",
     "text": [
      "/home/ryoji/Documents/git/kaggle/ml/lib/python3.6/site-packages/ipykernel_launcher.py:9: UserWarning: The `nb_epoch` argument in `fit` has been renamed `epochs`.\n",
      "  if __name__ == '__main__':\n"
     ]
    },
    {
     "name": "stdout",
     "output_type": "stream",
     "text": [
      "Train on 673886 samples, validate on 35530 samples\n",
      "Epoch 1/5\n",
      "673886/673886 [==============================] - 38s 56us/step - loss: 42.5111 - mean_absolute_error: 42.5111 - val_loss: 9.5058 - val_mean_absolute_error: 9.5058\n",
      "Epoch 2/5\n",
      "673886/673886 [==============================] - 34s 50us/step - loss: 6.7960 - mean_absolute_error: 6.7960 - val_loss: 4.9346 - val_mean_absolute_error: 4.9346\n",
      "Epoch 3/5\n",
      "673886/673886 [==============================] - 35s 52us/step - loss: 4.2932 - mean_absolute_error: 4.2932 - val_loss: 3.7299 - val_mean_absolute_error: 3.7299\n",
      "Epoch 4/5\n",
      "673886/673886 [==============================] - 34s 51us/step - loss: 3.6229 - mean_absolute_error: 3.6229 - val_loss: 3.6468 - val_mean_absolute_error: 3.6468\n",
      "Epoch 5/5\n",
      "673886/673886 [==============================] - 32s 47us/step - loss: 3.3276 - mean_absolute_error: 3.3276 - val_loss: 3.5076 - val_mean_absolute_error: 3.5076\n",
      "Test loss : 3.507555732920309\n",
      "Test accuracy : 3.507555732920309\n"
     ]
    }
   ],
   "source": [
    "model.compile(loss='mean_absolute_error',\n",
    "              optimizer='adam',\n",
    "              metrics=['mean_absolute_error'])\n",
    "\n",
    "model.fit(X_train, y_train,\n",
    "          batch_size=128,\n",
    "          nb_epoch=5,\n",
    "          verbose=1,\n",
    "          validation_data=(X_val, y_val))\n",
    "\n",
    "# 評価\n",
    "score = model.evaluate(X_val, y_val, verbose=0)\n",
    "print('Test loss :', score[0])\n",
    "print('Test accuracy :', score[1])"
   ]
  },
  {
   "cell_type": "code",
   "execution_count": 93,
   "metadata": {},
   "outputs": [],
   "source": [
    "y_train_pred = model.predict(X_train)\n",
    "y_val_pred = model.predict(X_val)"
   ]
  },
  {
   "cell_type": "code",
   "execution_count": 94,
   "metadata": {},
   "outputs": [
    {
     "name": "stdout",
     "output_type": "stream",
     "text": [
      "mean-ensemble score train: 16.16\n",
      "mean-ensemble score valid: 13.45\n"
     ]
    },
    {
     "data": {
      "image/png": "[encoded data removed]",
      "text/plain": [
       "<Figure size 432x288 with 1 Axes>"
      ]
     },
     "metadata": {
      "needs_background": "light"
     },
     "output_type": "display_data"
    }
   ],
   "source": [
    "score_train = type_score(y_train_pred[0], y_train)\n",
    "score_val = type_score(y_val_pred[0], y_val)\n",
    "\n",
    "print('mean-ensemble score train: %.2f' % score_train)\n",
    "print('mean-ensemble score valid: %.2f' % score_val)\n",
    "\n",
    "plt.scatter(y_train_pred, y_train)\n",
    "plt.scatter(y_val_pred, y_val)\n",
    "plt.show()"
   ]
  },
  {
   "cell_type": "code",
   "execution_count": null,
   "metadata": {},
   "outputs": [],
   "source": []
  },
  {
   "cell_type": "code",
   "execution_count": 10,
   "metadata": {
    "scrolled": false
   },
   "outputs": [
    {
     "name": "stdout",
     "output_type": "stream",
     "text": [
      "---------- 3JHN ----------\n",
      "seed No.0, bond type 3JHN\n",
      "best iteration: 335155\n",
      "single model score valid: -2.24\n",
      "elapsed_time:5478.49[sec]\n",
      "mean-ensemble score train: -3.70\n",
      "mean-ensemble score valid: -2.24\n"
     ]
    },
    {
     "data": {
      "image/png": "[encoded data removed]",
      "text/plain": [
       "<Figure size 432x288 with 1 Axes>"
      ]
     },
     "metadata": {
      "needs_background": "light"
     },
     "output_type": "display_data"
    },
    {
     "name": "stderr",
     "output_type": "stream",
     "text": [
      "/home/ryoji/Documents/git/kaggle/ml/lib/python3.6/site-packages/ipykernel_launcher.py:73: SettingWithCopyWarning: \n",
      "A value is trying to be set on a copy of a slice from a DataFrame.\n",
      "Try using .loc[row_indexer,col_indexer] = value instead\n",
      "\n",
      "See the caveats in the documentation: http://pandas.pydata.org/pandas-docs/stable/indexing.html#indexing-view-versus-copy\n",
      "/home/ryoji/Documents/git/kaggle/ml/lib/python3.6/site-packages/ipykernel_launcher.py:76: SettingWithCopyWarning: \n",
      "A value is trying to be set on a copy of a slice from a DataFrame.\n",
      "Try using .loc[row_indexer,col_indexer] = value instead\n",
      "\n",
      "See the caveats in the documentation: http://pandas.pydata.org/pandas-docs/stable/indexing.html#indexing-view-versus-copy\n"
     ]
    },
    {
     "name": "stdout",
     "output_type": "stream",
     "text": [
      "---------- 3JHC ----------\n",
      "seed No.0, bond type 3JHC\n"
     ]
    },
    {
     "ename": "KeyboardInterrupt",
     "evalue": "",
     "output_type": "error",
     "traceback": [
      "\u001b[0;31m---------------------------------------------------------------------------\u001b[0m",
      "\u001b[0;31mKeyboardInterrupt\u001b[0m                         Traceback (most recent call last)",
      "\u001b[0;32m<ipython-input-10-c67c03424866>\u001b[0m in \u001b[0;36m<module>\u001b[0;34m\u001b[0m\n\u001b[1;32m     43\u001b[0m                 \u001b[0mverbose_eval\u001b[0m\u001b[0;34m=\u001b[0m\u001b[0;36m0\u001b[0m\u001b[0;34m,\u001b[0m\u001b[0;34m\u001b[0m\u001b[0;34m\u001b[0m\u001b[0m\n\u001b[1;32m     44\u001b[0m                 \u001b[0mvalid_sets\u001b[0m\u001b[0;34m=\u001b[0m\u001b[0mlgb_eval\u001b[0m\u001b[0;34m,\u001b[0m\u001b[0;34m\u001b[0m\u001b[0;34m\u001b[0m\u001b[0m\n\u001b[0;32m---> 45\u001b[0;31m                 early_stopping_rounds=20)\n\u001b[0m\u001b[1;32m     46\u001b[0m \u001b[0;34m\u001b[0m\u001b[0m\n\u001b[1;32m     47\u001b[0m         \u001b[0mmodels_b\u001b[0m\u001b[0;34m.\u001b[0m\u001b[0mappend\u001b[0m\u001b[0;34m(\u001b[0m\u001b[0mgbm\u001b[0m\u001b[0;34m)\u001b[0m\u001b[0;34m\u001b[0m\u001b[0;34m\u001b[0m\u001b[0m\n",
      "\u001b[0;32m~/Documents/git/kaggle/ml/lib/python3.6/site-packages/lightgbm/engine.py\u001b[0m in \u001b[0;36mtrain\u001b[0;34m(params, train_set, num_boost_round, valid_sets, valid_names, fobj, feval, init_model, feature_name, categorical_feature, early_stopping_rounds, evals_result, verbose_eval, learning_rates, keep_training_booster, callbacks)\u001b[0m\n\u001b[1;32m    216\u001b[0m                                     evaluation_result_list=None))\n\u001b[1;32m    217\u001b[0m \u001b[0;34m\u001b[0m\u001b[0m\n\u001b[0;32m--> 218\u001b[0;31m         \u001b[0mbooster\u001b[0m\u001b[0;34m.\u001b[0m\u001b[0mupdate\u001b[0m\u001b[0;34m(\u001b[0m\u001b[0mfobj\u001b[0m\u001b[0;34m=\u001b[0m\u001b[0mfobj\u001b[0m\u001b[0;34m)\u001b[0m\u001b[0;34m\u001b[0m\u001b[0;34m\u001b[0m\u001b[0m\n\u001b[0m\u001b[1;32m    219\u001b[0m \u001b[0;34m\u001b[0m\u001b[0m\n\u001b[1;32m    220\u001b[0m         \u001b[0mevaluation_result_list\u001b[0m \u001b[0;34m=\u001b[0m \u001b[0;34m[\u001b[0m\u001b[0;34m]\u001b[0m\u001b[0;34m\u001b[0m\u001b[0;34m\u001b[0m\u001b[0m\n",
      "\u001b[0;32m~/Documents/git/kaggle/ml/lib/python3.6/site-packages/lightgbm/basic.py\u001b[0m in \u001b[0;36mupdate\u001b[0;34m(self, train_set, fobj)\u001b[0m\n\u001b[1;32m   1800\u001b[0m             _safe_call(_LIB.LGBM_BoosterUpdateOneIter(\n\u001b[1;32m   1801\u001b[0m                 \u001b[0mself\u001b[0m\u001b[0;34m.\u001b[0m\u001b[0mhandle\u001b[0m\u001b[0;34m,\u001b[0m\u001b[0;34m\u001b[0m\u001b[0;34m\u001b[0m\u001b[0m\n\u001b[0;32m-> 1802\u001b[0;31m                 ctypes.byref(is_finished)))\n\u001b[0m\u001b[1;32m   1803\u001b[0m             \u001b[0mself\u001b[0m\u001b[0;34m.\u001b[0m\u001b[0m__is_predicted_cur_iter\u001b[0m \u001b[0;34m=\u001b[0m \u001b[0;34m[\u001b[0m\u001b[0;32mFalse\u001b[0m \u001b[0;32mfor\u001b[0m \u001b[0m_\u001b[0m \u001b[0;32min\u001b[0m \u001b[0mrange_\u001b[0m\u001b[0;34m(\u001b[0m\u001b[0mself\u001b[0m\u001b[0;34m.\u001b[0m\u001b[0m__num_dataset\u001b[0m\u001b[0;34m)\u001b[0m\u001b[0;34m]\u001b[0m\u001b[0;34m\u001b[0m\u001b[0;34m\u001b[0m\u001b[0m\n\u001b[1;32m   1804\u001b[0m             \u001b[0;32mreturn\u001b[0m \u001b[0mis_finished\u001b[0m\u001b[0;34m.\u001b[0m\u001b[0mvalue\u001b[0m \u001b[0;34m==\u001b[0m \u001b[0;36m1\u001b[0m\u001b[0;34m\u001b[0m\u001b[0;34m\u001b[0m\u001b[0m\n",
      "\u001b[0;31mKeyboardInterrupt\u001b[0m: "
     ]
    }
   ],
   "source": [
    "# models = []\n",
    "# scores = []\n",
    "# start0 = time.time()\n",
    "\n",
    "# for i, b in enumerate(bond_types):\n",
    "#     print('-'*10, b, '-'*10)\n",
    "    \n",
    "#     models_b = []\n",
    "#     y_train_pred_b =[]\n",
    "#     y_val_pred_b =[]\n",
    "    \n",
    "#     df_train_b = df_train.query('type == \"{}\"'.format(b))\n",
    "#     y_train = df_train_b['scalar_coupling_constant'].values\n",
    "#     X_train = df_train_b[df_train.columns[6:]].values\n",
    "\n",
    "#     df_val_b = df_val.query('type == \"{}\"'.format(b))\n",
    "#     y_val = df_val_b['scalar_coupling_constant'].values\n",
    "#     X_val = df_val_b[df_val.columns[6:]].values\n",
    "\n",
    "#     lgb_train = lgb.Dataset(X_train, y_train)\n",
    "#     lgb_eval = lgb.Dataset(X_val, y_val, reference=lgb_train)\n",
    "        \n",
    "#     for s in range(num_seed):\n",
    "#         print('seed No.{}, bond type {}'.format(s, b))\n",
    "#         start = time.time()\n",
    "\n",
    "#         params = {\n",
    "#                 'task' : 'train',\n",
    "#                 'boosting_type' : 'gbdt',\n",
    "#                 'objective' : 'regression',\n",
    "#                 'metric' : {'l1'},\n",
    "#                 'num_leaves' : 63,\n",
    "#                 'learning_rate' : 0.001,\n",
    "#                 'feature_fraction' : 0.7,\n",
    "#                 'bagging_fraction' : 0.7,\n",
    "#                 'bagging_freq': 5,\n",
    "#             'seed':s\n",
    "#         }\n",
    "\n",
    "#         gbm = lgb.train(params,\n",
    "#                 lgb_train,\n",
    "#                 num_boost_round=rounds,\n",
    "#                 verbose_eval=0,\n",
    "#                 valid_sets=lgb_eval,\n",
    "#                 early_stopping_rounds=20)\n",
    "\n",
    "#         models_b.append(gbm)\n",
    "        \n",
    "#         y_train_pred_single = gbm.predict(X_train, num_iteration=gbm.best_iteration)\n",
    "#         y_train_pred_b.append(y_train_pred_single)\n",
    "        \n",
    "#         y_val_pred_single = gbm.predict(X_val, num_iteration=gbm.best_iteration)\n",
    "#         y_val_pred_b.append(y_val_pred_single)\n",
    "        \n",
    "#         print('best iteration: %.f' % gbm.best_iteration)\n",
    "#         print('single model score valid: %.2f' % type_score(y_val, y_val_pred_single))\n",
    "#         elapsed_time = time.time() - start\n",
    "#         print (\"elapsed_time:%.2f\" % elapsed_time + \"[sec]\")\n",
    "        \n",
    "#     y_train_pred = np.array(y_train_pred_b).mean(axis=0)\n",
    "#     y_val_pred = np.array(y_val_pred_b).mean(axis=0)\n",
    "    \n",
    "#     score_train = type_score(y_train_pred, y_train)\n",
    "#     score_val = type_score(y_val_pred, y_val)\n",
    "    \n",
    "#     print('mean-ensemble score train: %.2f' % score_train)\n",
    "#     print('mean-ensemble score valid: %.2f' % score_val)\n",
    "    \n",
    "#     plt.scatter(y_train_pred, y_train)\n",
    "#     plt.scatter(y_val_pred, y_val)\n",
    "#     plt.show()\n",
    "    \n",
    "#     df_train_b['predict'] = y_train_pred\n",
    "#     df_train_b.to_pickle(OUTPUT +  pred_train_temp.format(b))\n",
    "\n",
    "#     df_val_b['predict'] = y_val_pred\n",
    "#     df_val_b.to_pickle(OUTPUT + pred_val_temp.format(b))\n",
    "    \n",
    "#     with open(OUTPUT + trained_models.format(b), 'wb') as f:\n",
    "#         pickle.dump(models_b, f)\n",
    "\n",
    "#     scores.append(score_val)\n",
    "# elapsed_time = time.time() - start0\n",
    "# print (\"total elapsed_time:%.2f\" % (elapsed_time/3600) + \"[hours]\")\n"
   ]
  },
  {
   "cell_type": "code",
   "execution_count": null,
   "metadata": {},
   "outputs": [],
   "source": [
    "print('type score:', scores)\n",
    "print('total score:', np.array(scores).mean())\n",
    "\n",
    "# bond_types = ['1JHC', '2JHH', '1JHN', '2JHN', '2JHC', '3JHH', '3JHC', '3JHN']\n",
    "\n",
    "# type score: [-0.6475891072986386, -1.9721361628331164, -1.1912367029788065, -1.7391610037264984, -1.3598948274113396, -1.922368782849765, -0.857338974637314, -1.9542739523641741]\n",
    "# total score: -1.4554999392624568\n",
    "\n",
    "# type score: [-0.7645330704903743, -2.104084028025536, -1.3402588845078518, -1.8923981460798822, -1.500998060101688, -2.058753881131865, -0.9890402466066893, -2.0696881437055095]\n",
    "# total score: -1.5899693075811745\n",
    "\n",
    "# type score: [-0.7487882321683186, -2.154929679183851, -1.3385395863448157, -1.9494073155134974, -1.4796858054598758, -2.0678527290735764, -0.8668322021931907, -2.0989929940604086]\n",
    "# total score: -1.588128567999692\n",
    "\n",
    "# bond_types = ['3JHN', '3JHC','1JHC', '2JHH', '1JHN', '2JHN', '2JHC', '3JHH']\n",
    "# type score: [-2.151210567127715, -1.187568725302376, -0.6614562939594398, -2.0944129825221665, -1.372642157023402, -1.9124487059330253, -1.3387502372065168, -1.9828684571550126]\n",
    "# total score: -1.5876697657787067\n",
    "\n",
    "# type score: [-2.2228464134469648, -1.3176652237271005, -0.7691147220693114, -2.177655669465094, -1.3849037075799966, -1.991064979196199, -1.4601645925001645, -2.078594552382417]\n",
    "# total score: -1.675251232545906\n",
    "\n",
    "# type score: [-2.145429318690866, -1.294058684027914, -0.760119859244144, -2.139005467865551, -1.350309811202638, -1.9229016015078875, -1.4390039122302951, -2.0494419940987965]\n",
    "# total score: -1.6375338311085113\n",
    "\n",
    "# type score: [-2.209404721041051, -1.2277751365676979, -0.6895477849524412, -2.106917882503863, -1.378567767938254, -1.9432313732668243, -1.3771493620532902, -2.037484717400561]\n",
    "# total score: -1.6212598432154977\n",
    "\n",
    "# type score: [-2.213330811075121, -1.3581258350105094, -0.7845050130296711, -2.1655013094988513, -1.4024121799402647, -1.9751865470643377, -1.499394936229838, -2.1188348800106724]\n",
    "# total score: -1.689661438982408"
   ]
  },
  {
   "cell_type": "code",
   "execution_count": null,
   "metadata": {},
   "outputs": [],
   "source": [
    "# df_train_predict = pd.DataFrame()\n",
    "# df_val_predict = pd.DataFrame()\n",
    "\n",
    "# for b in bond_types:\n",
    "#     df_train_predict_b = pd.read_pickle(OUTPUT + pred_train_temp.format(b))\n",
    "#     df_train_predict = pd.concat([df_train_predict, df_train_predict_b], axis=0)\n",
    "    \n",
    "#     df_val_predict_b = pd.read_pickle(OUTPUT + pred_val_temp.format(b))\n",
    "#     df_val_predict = pd.concat([df_val_predict, df_val_predict_b], axis=0)\n",
    "\n",
    "# df_train_predict.to_pickle(OUTPUT + pred_train_name)\n",
    "# df_val_predict.to_pickle(OUTPUT + pred_val_name)"
   ]
  },
  {
   "cell_type": "code",
   "execution_count": null,
   "metadata": {},
   "outputs": [],
   "source": []
  }
 ],
 "metadata": {
  "kernelspec": {
   "display_name": "Python 3",
   "language": "python",
   "name": "python3"
  },
  "language_info": {
   "codemirror_mode": {
    "name": "ipython",
    "version": 3
   },
   "file_extension": ".py",
   "mimetype": "text/x-python",
   "name": "python",
   "nbconvert_exporter": "python",
   "pygments_lexer": "ipython3",
   "version": "3.6.8"
  }
 },
 "nbformat": 4,
 "nbformat_minor": 2
}
