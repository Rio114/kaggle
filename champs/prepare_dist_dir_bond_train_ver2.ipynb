{
 "cells": [
  {
   "cell_type": "code",
   "execution_count": 1,
   "metadata": {},
   "outputs": [],
   "source": [
    "import os\n",
    "import pandas as pd\n",
    "import numpy as np\n",
    "import time\n",
    "\n",
    "import pickle"
   ]
  },
  {
   "cell_type": "code",
   "execution_count": 2,
   "metadata": {},
   "outputs": [],
   "source": [
    "FOLDER = '../../data_kaggle/champs/'\n",
    "OUTPUT = FOLDER + 'out/'"
   ]
  },
  {
   "cell_type": "code",
   "execution_count": 3,
   "metadata": {},
   "outputs": [],
   "source": [
    "# df_mulliken_charges = pd.read_csv(FOLDER + 'mulliken_charges.csv')\n",
    "# df_sample =  pd.read_csv(FOLDER + 'sample_submission.csv')\n",
    "# df_magnetic_shielding_tensors = pd.read_csv(FOLDER + 'magnetic_shielding_tensors.csv')\n",
    "df_train = pd.read_csv(FOLDER + 'train.csv')\n",
    "# df_test = pd.read_csv(FOLDER + 'test.csv')\n",
    "# df_dipole_moments = pd.read_csv(FOLDER + 'dipole_moments.csv')\n",
    "# df_potential_energy = pd.read_csv(FOLDER + 'potential_energy.csv')\n",
    "df_structures = pd.read_csv(FOLDER + 'structures.csv')\n",
    "# df_scalar_coupling_contributions = pd.read_csv(FOLDER + 'scalar_coupling_contributions.csv')"
   ]
  },
  {
   "cell_type": "code",
   "execution_count": 4,
   "metadata": {},
   "outputs": [],
   "source": [
    "df_structures_idx = df_structures.set_index('molecule_name')\n",
    "df_train_idx = df_train.set_index('molecule_name')"
   ]
  },
  {
   "cell_type": "code",
   "execution_count": null,
   "metadata": {},
   "outputs": [],
   "source": [
    "mols = df_train['molecule_name'].unique()"
   ]
  },
  {
   "cell_type": "code",
   "execution_count": null,
   "metadata": {},
   "outputs": [],
   "source": [
    "def assign_atoms_index(df_idx, molecule):\n",
    "    se_0 = df_idx.loc[molecule]['atom_index_0']\n",
    "    se_1 = df_idx.loc[molecule]['atom_index_1']\n",
    "    if type(se_0) == np.int64:\n",
    "        se_0 = pd.Series(se_0)\n",
    "    if type(se_1) == np.int64:\n",
    "        se_1 = pd.Series(se_1)\n",
    "    assign_idx = pd.concat([se_0, se_1]).unique()\n",
    "    assign_idx.sort()\n",
    "    return assign_idx"
   ]
  },
  {
   "cell_type": "code",
   "execution_count": 7,
   "metadata": {},
   "outputs": [],
   "source": [
    "def get_dist_matrix(df_structures_idx, molecule):\n",
    "    df_temp = df_structures_idx.loc[molecule]\n",
    "    locs = df_temp[['x','y','z']].values\n",
    "    num_atoms = len(locs)\n",
    "    loc_tile = np.tile(locs.T, (num_atoms,1,1))\n",
    "    dist_mat = (np.linalg.norm(loc_tile - loc_tile.T, axis=1))\n",
    "    return dist_mat"
   ]
  },
  {
   "cell_type": "code",
   "execution_count": 8,
   "metadata": {},
   "outputs": [],
   "source": [
    "def n_bond_cnt(df_structures_idx, mol):\n",
    "    dist_mat = get_dist_matrix(df_structures_idx, mol)\n",
    "    df_temp = df_structures_idx.loc[mol]\n",
    "    num_atoms = df_temp.shape[0]\n",
    "\n",
    "    n_idx = df_temp[df_temp['atom'] == 'N']['atom_index'].values\n",
    "\n",
    "    n_bond_cnt = []\n",
    "\n",
    "    for i in n_idx:\n",
    "        dist_argsort = np.argsort(dist_mat[i])\n",
    "\n",
    "        near_1_idx = dist_argsort[1]\n",
    "        near_2_idx = dist_argsort[2]\n",
    "        \n",
    "        dist_1 = dist_mat[i][near_1_idx]\n",
    "        dist_2 = dist_mat[i][near_2_idx]\n",
    "\n",
    "        if dist_2 - dist_1 > 0.1:\n",
    "            n_bond_cnt.append(1)\n",
    "            continue\n",
    "        \n",
    "        near_3_idx = dist_argsort[3]\n",
    "        dist_3 = dist_mat[i][near_3_idx]\n",
    "        \n",
    "        if dist_3 - dist_2 > 0.1:\n",
    "            n_bond_cnt.append(2)\n",
    "        else:\n",
    "            n_bond_cnt.append(3)\n",
    "\n",
    "    se_n_bond = pd.Series(n_bond_cnt, name='n_bond')\n",
    "    se_n_idx = pd.Series(n_idx, name='atom_index')\n",
    "    df_bond = pd.concat([se_n_idx, se_n_bond], axis=1)\n",
    "\n",
    "    df_temp2 = pd.merge(df_temp[['atom', 'atom_index']], df_bond, on='atom_index', how='outer').fillna(0)\n",
    "    df_temp2['molecule_name'] = mol\n",
    "    return df_temp2"
   ]
  },
  {
   "cell_type": "code",
   "execution_count": 9,
   "metadata": {},
   "outputs": [],
   "source": [
    "def c_bond_cnt(df_structures_idx, mol):\n",
    "    dist_mat = get_dist_matrix(df_structures_idx, mol)\n",
    "    df_temp = df_structures_idx.loc[mol]\n",
    "    num_atoms = df_temp.shape[0]\n",
    "\n",
    "    c_idx = df_temp[df_temp['atom'] == 'C']['atom_index'].values\n",
    "\n",
    "    c_bond_cnt = []\n",
    "\n",
    "    for i in c_idx:\n",
    "        dist_argsort = np.argsort(dist_mat[i])\n",
    "\n",
    "        near_1_idx = dist_argsort[1]\n",
    "        near_2_idx = dist_argsort[2]\n",
    "\n",
    "        origin_loc = df_temp[df_temp['atom_index'] == i][['x', 'y', 'z']].values[0]\n",
    "        near_1_loc = df_temp[df_temp['atom_index'] == near_1_idx][['x', 'y', 'z']].values[0]\n",
    "        near_2_loc = df_temp[df_temp['atom_index'] == near_2_idx][['x', 'y', 'z']].values[0]\n",
    "\n",
    "        vec_01 = near_1_loc - origin_loc\n",
    "        vec_02 = near_2_loc - origin_loc\n",
    "        cos_12 = np.dot(vec_01, vec_02) / np.linalg.norm(vec_01) / np.linalg.norm(vec_02)\n",
    "\n",
    "        if cos_12 < -0.95:\n",
    "            c_bond_cnt.append(2)\n",
    "            continue\n",
    "\n",
    "        near_3_idx = dist_argsort[3]\n",
    "        near_3_loc = df_temp[df_temp['atom_index'] == near_3_idx][['x', 'y', 'z']].values[0]\n",
    "        vec_012 = vec_01 + vec_02\n",
    "        vec_03 = near_3_loc - origin_loc\n",
    "        cos_123 = np.dot(vec_012, vec_03) / np.linalg.norm(vec_012) / np.linalg.norm(vec_03)\n",
    "\n",
    "        if cos_123 < -0.95:\n",
    "            c_bond_cnt.append(3)\n",
    "        else:\n",
    "            c_bond_cnt.append(4)\n",
    "\n",
    "    se_c_bond = pd.Series(c_bond_cnt, name='c_bond')\n",
    "    se_c_idx = pd.Series(c_idx, name='atom_index')\n",
    "    df_bond = pd.concat([se_c_idx, se_c_bond], axis=1)\n",
    "\n",
    "    df_temp2 = pd.merge(df_temp[['atom', 'atom_index']], df_bond, on='atom_index', how='outer').fillna(0)\n",
    "    df_temp2['molecule_name'] = mol\n",
    "    return df_temp2"
   ]
  },
  {
   "cell_type": "code",
   "execution_count": 10,
   "metadata": {},
   "outputs": [],
   "source": [
    "def get_pickup_dist_matrix(df_idx, df_structures_idx, molecule, num_pickup=5, atoms=['H', 'C', 'N', 'O', 'F']):\n",
    "    pickup_dist_matrix = np.zeros([0, len(atoms)*num_pickup*3])\n",
    "    assigned_idxs = assign_atoms_index(df_idx, molecule) # [0, 1, 2, 3, 4, 5, 6] -> [1, 2, 3, 4, 5, 6]\n",
    "    dist_mat = get_dist_matrix(df_structures_idx, molecule)\n",
    "    df_cbond = c_bond_cnt(df_structures_idx, molecule)\n",
    "    df_nbond = n_bond_cnt(df_structures_idx, molecule)\n",
    "    \n",
    "    num_cbonds = df_cbond['c_bond'].values\n",
    "    num_nbonds = df_nbond['n_bond'].values\n",
    "    num_bonds = num_nbonds + num_cbonds\n",
    "    \n",
    "    for idx in assigned_idxs: # [1, 2, 3, 4, 5, 6] -> [2]\n",
    "        df_temp = df_structures_idx.loc[molecule]\n",
    "        locs = df_temp[['x','y','z']].values\n",
    "\n",
    "        dist_arr = dist_mat[idx] # (7, 7) -> (7, )\n",
    "\n",
    "        atoms_mole = df_structures_idx.loc[molecule]['atom'].values # ['O', 'C', 'C', 'N', 'H', 'H', 'H']\n",
    "        atoms_mole_idx = df_structures_idx.loc[molecule]['atom_index'].values # [0, 1, 2, 3, 4, 5, 6]\n",
    "\n",
    "        mask_atoms_mole_idx = atoms_mole_idx != idx # [ True,  True, False,  True,  True,  True,  True]\n",
    "        masked_atoms = atoms_mole[mask_atoms_mole_idx] # ['O', 'C', 'N', 'H', 'H', 'H']\n",
    "        masked_atoms_idx = atoms_mole_idx[mask_atoms_mole_idx]  # [0, 1, 3, 4, 5, 6]\n",
    "        masked_dist_arr = dist_arr[mask_atoms_mole_idx]  # [ 5.48387003, 2.15181049, 1.33269675, 10.0578779, 4.34733927, 4.34727838]\n",
    "        masked_locs = locs[masked_atoms_idx]\n",
    "        masked_num_bonds = num_bonds[masked_atoms_idx]\n",
    "\n",
    "        sorting_idx = np.argsort(masked_dist_arr) # [2, 1, 5, 4, 0, 3]\n",
    "        sorted_atoms_idx = masked_atoms_idx[sorting_idx] # [3, 1, 6, 5, 0, 4]\n",
    "        sorted_atoms = masked_atoms[sorting_idx] # ['N', 'C', 'H', 'H', 'O', 'H']\n",
    "        sorted_dist_arr = 1/masked_dist_arr[sorting_idx] #[0.75035825,0.46472494,0.23002898,0.23002576,0.18235297,0.09942455]\n",
    "        sorted_num_bonds = masked_num_bonds[sorting_idx]\n",
    "\n",
    "        sorted_locs = masked_locs[sorting_idx]\n",
    "        nearest_idx = sorted_atoms_idx[0]\n",
    "        nearest_atom = sorted_atoms[0]\n",
    "        base_vec = sorted_locs[0] - locs[idx]\n",
    "        base_vec = base_vec / np.linalg.norm(base_vec)\n",
    "        \n",
    "        target_matrix = np.zeros([len(atoms), num_pickup*3])\n",
    "        for a, atom in enumerate(atoms):\n",
    "            pickup_atom = sorted_atoms == atom # [False, False,  True,  True, False,  True]\n",
    "            pickup_dist = sorted_dist_arr[pickup_atom] # [0.23002898, 0.23002576, 0.09942455]\n",
    "            pickup_num_bond = sorted_num_bonds[pickup_atom]\n",
    "            pickup_locs = sorted_locs[pickup_atom] - np.tile(locs[idx], (sum(pickup_atom), 1))\n",
    "            \n",
    "            in_prods = np.dot(base_vec, pickup_locs.T) / np.linalg.norm(pickup_locs, axis=1)\n",
    "            \n",
    "            num_atom = len(pickup_dist)\n",
    "            if num_atom > num_pickup:\n",
    "                target_matrix[a, :num_pickup] = pickup_dist[:num_pickup]\n",
    "                target_matrix[a, num_pickup:num_pickup*2] = pickup_num_bond[:num_pickup]\n",
    "                target_matrix[a, num_pickup*2:] = in_prods[:num_pickup]\n",
    "            else:\n",
    "                target_matrix[a, :num_atom] = pickup_dist\n",
    "                target_matrix[a, num_pickup:num_pickup+num_atom] = pickup_num_bond\n",
    "                target_matrix[a, num_pickup*2:num_pickup*2+num_atom] = in_prods\n",
    "        \n",
    "        pickup_dist_matrix = np.vstack([pickup_dist_matrix, target_matrix.reshape(-1)])\n",
    "    return pickup_dist_matrix #(num_atoms, num_pickup*5)"
   ]
  },
  {
   "cell_type": "code",
   "execution_count": 11,
   "metadata": {},
   "outputs": [
    {
     "name": "stdout",
     "output_type": "stream",
     "text": [
      "elapsed_time:3855.880200147629[sec]\n"
     ]
    }
   ],
   "source": [
    "num = 10\n",
    "dist_mat = np.zeros([0, num*5*3])\n",
    "num_div = len(mols) // 4\n",
    "atoms_idx = np.zeros([0], dtype=np.int32)\n",
    "molecule_names = np.empty([0])\n",
    "\n",
    "start = time.time()\n",
    "\n",
    "for mol in mols[:num_div]:\n",
    "    \n",
    "    assigned_idxs = assign_atoms_index(df_train_idx, mol)\n",
    "    dist_mat_mole = get_pickup_dist_matrix(df_train_idx, df_structures_idx, mol, num_pickup=num)\n",
    "    mol_name_arr = [mol] * len(assigned_idxs) \n",
    "    \n",
    "    molecule_names = np.hstack([molecule_names, mol_name_arr])\n",
    "    atoms_idx = np.hstack([atoms_idx, assigned_idxs])\n",
    "    dist_mat = np.vstack([dist_mat, dist_mat_mole])\n",
    "    \n",
    "col_name_list = []\n",
    "atoms = ['H', 'C', 'N', 'O', 'F']\n",
    "for a in atoms:\n",
    "    for n in range(num):\n",
    "        col_name_list.append('dist_{}_{}'.format(a, n))\n",
    "    for n in range(num):\n",
    "        col_name_list.append('num_bond_{}_{}'.format(a, n))\n",
    "    for n in range(num):\n",
    "        col_name_list.append('cos_{}_{}'.format(a, n))\n",
    "        \n",
    "se_mole = pd.Series(molecule_names, name='molecule_name')\n",
    "se_atom_idx = pd.Series(atoms_idx, name='atom_index').astype('int32')\n",
    "df_dist = pd.DataFrame(dist_mat, columns=col_name_list).astype('float32')\n",
    "df_distance = pd.concat([se_mole, se_atom_idx,df_dist], axis=1)\n",
    "\n",
    "elapsed_time = time.time() - start\n",
    "print (\"elapsed_time:{0}\".format(elapsed_time) + \"[sec]\")"
   ]
  },
  {
   "cell_type": "code",
   "execution_count": 12,
   "metadata": {},
   "outputs": [],
   "source": [
    "for i in range(num):\n",
    "    del df_distance['num_bond_H_{}'.format(i)]\n",
    "    del df_distance['num_bond_O_{}'.format(i)]\n",
    "    del df_distance['num_bond_F_{}'.format(i)]"
   ]
  },
  {
   "cell_type": "code",
   "execution_count": 13,
   "metadata": {},
   "outputs": [],
   "source": [
    "nums = [10, 10, 5, 4, 3]\n",
    "for a, n in zip(atoms, nums):\n",
    "    for i in range(n, num):\n",
    "        del df_distance['dist_{}_{}'.format(a, i)]\n",
    "        del df_distance['cos_{}_{}'.format(a, i)]"
   ]
  },
  {
   "cell_type": "code",
   "execution_count": 14,
   "metadata": {
    "scrolled": true
   },
   "outputs": [],
   "source": [
    "df_distance.to_csv(OUTPUT + '20190628_dist_bond_dir_train_temp0.csv', index=False)"
   ]
  },
  {
   "cell_type": "code",
   "execution_count": null,
   "metadata": {},
   "outputs": [],
   "source": []
  },
  {
   "cell_type": "code",
   "execution_count": null,
   "metadata": {},
   "outputs": [],
   "source": []
  },
  {
   "cell_type": "code",
   "execution_count": null,
   "metadata": {},
   "outputs": [],
   "source": []
  },
  {
   "cell_type": "code",
   "execution_count": 3,
   "metadata": {},
   "outputs": [],
   "source": [
    "df_distance_list = []\n",
    "df_distance_list.append(pd.read_csv(OUTPUT + '20190626_dist_bond_dir_train_temp0.csv'))\n",
    "df_distance_list.append(pd.read_csv(OUTPUT + '20190626_dist_bond_dir_train_temp1.csv'))\n",
    "df_distance_list.append(pd.read_csv(OUTPUT + '20190626_dist_bond_dir_train_temp2.csv'))\n",
    "df_distance_list.append(pd.read_csv(OUTPUT + '20190626_dist_bond_dir_train_temp3.csv'))\n",
    "\n",
    "df_distance = pd.concat(df_distance_list, axis=0)\n"
   ]
  },
  {
   "cell_type": "code",
   "execution_count": 5,
   "metadata": {},
   "outputs": [],
   "source": [
    "# del df_distance['dist_H_8']\n",
    "# del df_distance['dist_H_9']\n",
    "# del df_distance['cos_H_8']\n",
    "# del df_distance['cos_H_9']\n",
    "# del df_distance['dist_C_8']\n",
    "# del df_distance['dist_C_9']\n",
    "# del df_distance['num_bond_C_8']\n",
    "# del df_distance['num_bond_C_9']\n",
    "# del df_distance['cos_C_8']\n",
    "# del df_distance['cos_C_9']"
   ]
  },
  {
   "cell_type": "code",
   "execution_count": 4,
   "metadata": {},
   "outputs": [],
   "source": [
    "def merge_atom(df, df_distance):\n",
    "    df_merge_0 = pd.merge(df, df_distance, left_on=['molecule_name', 'atom_index_0'], right_on=['molecule_name', 'atom_index'])\n",
    "    df_merge_0_1 = pd.merge(df_merge_0, df_distance, left_on=['molecule_name', 'atom_index_1'], right_on=['molecule_name', 'atom_index'])\n",
    "    del df_merge_0_1['atom_index_x'], df_merge_0_1['atom_index_y']\n",
    "    return df_merge_0_1"
   ]
  },
  {
   "cell_type": "code",
   "execution_count": 5,
   "metadata": {},
   "outputs": [],
   "source": [
    "df_train = pd.read_csv(FOLDER + 'train.csv')"
   ]
  },
  {
   "cell_type": "code",
   "execution_count": null,
   "metadata": {},
   "outputs": [],
   "source": []
  },
  {
   "cell_type": "code",
   "execution_count": 6,
   "metadata": {},
   "outputs": [],
   "source": [
    "# df_train_dist.to_csv(OUTPUT + '20190625_dist_bond_dir_train.csv', index=False)"
   ]
  },
  {
   "cell_type": "code",
   "execution_count": 7,
   "metadata": {},
   "outputs": [],
   "source": [
    "df_cos_3j = pd.read_csv(OUTPUT + '20190625_cos_3j_2.csv')"
   ]
  },
  {
   "cell_type": "code",
   "execution_count": 8,
   "metadata": {},
   "outputs": [],
   "source": [
    "# df_train_dist_cos = pd.merge(df_train_dist, df_cos_3j, on='id', how='outer')"
   ]
  },
  {
   "cell_type": "code",
   "execution_count": 9,
   "metadata": {},
   "outputs": [
    {
     "data": {
      "text/plain": [
       "0"
      ]
     },
     "execution_count": 9,
     "metadata": {},
     "output_type": "execute_result"
    }
   ],
   "source": [
    "import gc\n",
    "gc.collect()"
   ]
  },
  {
   "cell_type": "code",
   "execution_count": 14,
   "metadata": {},
   "outputs": [],
   "source": [
    "bond_types = df_train['type'].unique()\n",
    "\n",
    "\n",
    "for b in bond_types:\n",
    "\n",
    "    \n",
    "    df_train_dist = merge_atom(df_train.query('type == \"{}\"'.format(b)), df_distance)\n",
    "\n",
    "    \n",
    "    df_train_dist_cos = pd.merge(df_train_dist, df_cos_3j, on='id', how='left')\n",
    "                                                            \n",
    "    df_train_dist_cos.to_csv(OUTPUT + '20190626_dist_bond_dir_cos3j_train_{}.csv'.format(b), index=False)\n",
    "    del df_train_dist_cos\n",
    "    gc.collect()"
   ]
  },
  {
   "cell_type": "code",
   "execution_count": null,
   "metadata": {},
   "outputs": [],
   "source": []
  }
 ],
 "metadata": {
  "kernelspec": {
   "display_name": "Python 3",
   "language": "python",
   "name": "python3"
  },
  "language_info": {
   "codemirror_mode": {
    "name": "ipython",
    "version": 3
   },
   "file_extension": ".py",
   "mimetype": "text/x-python",
   "name": "python",
   "nbconvert_exporter": "python",
   "pygments_lexer": "ipython3",
   "version": "3.6.8"
  }
 },
 "nbformat": 4,
 "nbformat_minor": 2
}
