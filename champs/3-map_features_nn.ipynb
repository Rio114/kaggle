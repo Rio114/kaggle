{
 "cells": [
  {
   "cell_type": "code",
   "execution_count": null,
   "metadata": {},
   "outputs": [],
   "source": [
    "import pandas as pd\n",
    "import numpy as np\n",
    "import time\n",
    "import random\n",
    "import lightgbm as lgb\n",
    "import time\n",
    "from multiprocessing import Process, Pool\n",
    "import pickle\n",
    "import matplotlib.pyplot as plt\n",
    "from tqdm import tqdm\n",
    "import gc"
   ]
  },
  {
   "cell_type": "code",
   "execution_count": null,
   "metadata": {},
   "outputs": [],
   "source": [
    "from process import map_feature"
   ]
  },
  {
   "cell_type": "code",
   "execution_count": null,
   "metadata": {},
   "outputs": [],
   "source": [
    "FOLDER = '../../data_kaggle/champs/'\n",
    "OUTPUT = FOLDER + 'out/'\n",
    "TEMP = OUTPUT + 'temp/'\n",
    "MAP  = OUTPUT + 'map/'"
   ]
  },
  {
   "cell_type": "code",
   "execution_count": null,
   "metadata": {},
   "outputs": [],
   "source": [
    "# original input\n",
    "df_train = pd.read_csv(FOLDER+'train.csv')\n",
    "# df_test = pd.read_csv(FOLDER+'test.csv')\n",
    "mols_train = df_train['molecule_name'].unique()"
   ]
  },
  {
   "cell_type": "code",
   "execution_count": null,
   "metadata": {},
   "outputs": [],
   "source": [
    "DATA_DATE = '20190721'\n",
    "MAP_DATE = '20190728'\n",
    "GEN_DATE = '20190817'"
   ]
  },
  {
   "cell_type": "code",
   "execution_count": null,
   "metadata": {},
   "outputs": [],
   "source": [
    "# input files\n",
    "map_train = MAP + MAP_DATE + '_' + 'map_train.pickle'\n",
    "map_test = MAP + MAP_DATE + '_' + 'map_test.pickle'\n",
    "\n",
    "first_train = OUTPUT + DATA_DATE + '_' + 'features_train.pickle'\n",
    "first_test = OUTPUT + DATA_DATE + '_' + 'features_test.pickle'"
   ]
  },
  {
   "cell_type": "code",
   "execution_count": null,
   "metadata": {},
   "outputs": [],
   "source": [
    "merged_train_temp = TEMP + GEN_DATE + '_' + 'merged_features_train_{}.pickle'\n",
    "merged_test_temp = TEMP + GEN_DATE + '_' + 'merged_features_test_{}.pickle'"
   ]
  },
  {
   "cell_type": "code",
   "execution_count": null,
   "metadata": {},
   "outputs": [],
   "source": [
    "df_map_train = pd.read_pickle(map_train)\n",
    "df_map_train_idx = df_map_train.set_index('molecule_name')"
   ]
  },
  {
   "cell_type": "code",
   "execution_count": null,
   "metadata": {},
   "outputs": [],
   "source": [
    "df_map_train.head()"
   ]
  },
  {
   "cell_type": "code",
   "execution_count": null,
   "metadata": {},
   "outputs": [],
   "source": [
    "bond_types = ['1JHC', '1JHN', '2JHH', '2JHC', '2JHN', '3JHH', '3JHC', '3JHN']"
   ]
  },
  {
   "cell_type": "code",
   "execution_count": null,
   "metadata": {},
   "outputs": [],
   "source": [
    "cols_0, cols_1 = [], []\n",
    "cols_0.append('target')\n",
    "for b in bond_types:\n",
    "    for i in range(3):\n",
    "        cols_0.append('{}_{}_x'.format(b, i))\n",
    "        cols_1.append('{}_{}_y'.format(b, i))\n",
    "\n",
    "cols = []\n",
    "cols.extend(cols_0)\n",
    "cols.extend(cols_1)\n",
    "cols.append('id')\n",
    "cols.append('molecule_name')\n",
    "\n",
    "df_map_train.columns = cols\n",
    "df_map_train.head()"
   ]
  },
  {
   "cell_type": "code",
   "execution_count": null,
   "metadata": {},
   "outputs": [],
   "source": [
    "del_cols = ['1JHC_1_x', '1JHC_2_x', '1JHC_1_y', '1JHC_2_y',\n",
    "            '1JHN_1_x', '1JHN_2_x', '1JHN_1_y', '1JHN_2_y',\n",
    "            '2JHH_2_x', '2JHH_2_y',\n",
    "            '2JHC_2_x', '2JHC_2_y',\n",
    "            '2JHN_1_x', '2JHN_2_x', '2JHN_1_y', '2JHN_2_y',\n",
    "            '3JHH_2_x', '3JHH_2_y',\n",
    "            '3JHC_2_x', '3JHC_2_y',\n",
    "            '3JHN_1_x', '3JHN_2_x', '3JHN_1_y', '3JHN_2_y',\n",
    "           ]"
   ]
  },
  {
   "cell_type": "code",
   "execution_count": null,
   "metadata": {},
   "outputs": [],
   "source": [
    "for col in del_cols:\n",
    "    del df_map_train[col]"
   ]
  },
  {
   "cell_type": "code",
   "execution_count": null,
   "metadata": {},
   "outputs": [],
   "source": [
    "gc.collect()"
   ]
  },
  {
   "cell_type": "code",
   "execution_count": null,
   "metadata": {},
   "outputs": [],
   "source": [
    "with open(first_train, 'rb') as f:\n",
    "    features_train = pickle.load(f)"
   ]
  },
  {
   "cell_type": "code",
   "execution_count": null,
   "metadata": {},
   "outputs": [],
   "source": [
    "num_div = 8"
   ]
  },
  {
   "cell_type": "code",
   "execution_count": null,
   "metadata": {},
   "outputs": [],
   "source": [
    "def map_train_data(temp_no):\n",
    "    div = len(mols_train) // num_div\n",
    "    res = len(mols_train) % num_div\n",
    "    if temp_no == num_div - 1:\n",
    "        last_slice = div*(temp_no+1) + res\n",
    "    else:\n",
    "        last_slice = div*(temp_no+1)\n",
    "        \n",
    "    for m in tqdm(mols_train[div*temp_no:last_slice]):\n",
    "        merge_features = map_feature(df_map_train_idx,features_train, m)\n",
    "        with open(merged_train_temp.format(m), 'wb') as f:\n",
    "            pickle.dump(merge_features, f)"
   ]
  },
  {
   "cell_type": "code",
   "execution_count": null,
   "metadata": {
    "scrolled": true
   },
   "outputs": [],
   "source": [
    "start = time.time()\n",
    "with Pool(processes=num_div) as p:\n",
    "    p.map(map_train_data, [i for i in range(num_div)])\n",
    "\n",
    "elapsed_time = time.time() - start\n",
    "print (\"total elapsed_time:{0}\".format(elapsed_time) + \"[sec]\")"
   ]
  },
  {
   "cell_type": "code",
   "execution_count": null,
   "metadata": {},
   "outputs": [],
   "source": []
  },
  {
   "cell_type": "code",
   "execution_count": null,
   "metadata": {},
   "outputs": [],
   "source": [
    "df_map_test = pd.read_pickle(map_test)\n",
    "df_map_test_idx = df_map_test.set_index('molecule_name')\n",
    "df_map_test.columns = cols\n",
    "df_map_test.head()\n",
    "for col in del_cols:\n",
    "    del df_map_test[col]"
   ]
  },
  {
   "cell_type": "code",
   "execution_count": null,
   "metadata": {},
   "outputs": [],
   "source": [
    "with open(first_test, 'rb') as f:\n",
    "    features_test = pickle.load(f)"
   ]
  },
  {
   "cell_type": "code",
   "execution_count": null,
   "metadata": {},
   "outputs": [],
   "source": [
    "def map_test_data(temp_no):\n",
    "    div = len(mols_test) // num_div\n",
    "    res = len(mols_test) % num_div\n",
    "    if temp_no == num_div - 1:\n",
    "        last_slice = div*(temp_no+1) + res\n",
    "    else:\n",
    "        last_slice = div*(temp_no+1)\n",
    "        \n",
    "    for m in tqdm(mols_test[div*temp_no:last_slice]):\n",
    "        merge_features = map_feature(df_map_test_idx,features_test, m)\n",
    "        with open(merged_test_temp.format(m), 'wb') as f:\n",
    "            pickle.dump(merge_features, f)"
   ]
  },
  {
   "cell_type": "code",
   "execution_count": null,
   "metadata": {},
   "outputs": [],
   "source": [
    "start = time.time()\n",
    "with Pool(processes=num_div) as p:\n",
    "    p.map(map_test_data, [i for i in range(num_div)])\n",
    "\n",
    "elapsed_time = time.time() - start\n",
    "print (\"total elapsed_time:{0}\".format(elapsed_time) + \"[sec]\")   "
   ]
  }
 ],
 "metadata": {
  "kernelspec": {
   "display_name": "Python 3",
   "language": "python",
   "name": "python3"
  },
  "language_info": {
   "codemirror_mode": {
    "name": "ipython",
    "version": 3
   },
   "file_extension": ".py",
   "mimetype": "text/x-python",
   "name": "python",
   "nbconvert_exporter": "python",
   "pygments_lexer": "ipython3",
   "version": "3.6.8"
  }
 },
 "nbformat": 4,
 "nbformat_minor": 2
}
