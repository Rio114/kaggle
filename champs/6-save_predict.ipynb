{
 "cells": [
  {
   "cell_type": "code",
   "execution_count": 1,
   "metadata": {},
   "outputs": [],
   "source": [
    "import pandas as pd\n",
    "import numpy as np\n",
    "import time\n",
    "import random\n",
    "import lightgbm as lgb\n",
    "import time\n",
    "import gc\n",
    "import pickle\n",
    "import matplotlib.pyplot as plt"
   ]
  },
  {
   "cell_type": "code",
   "execution_count": 2,
   "metadata": {},
   "outputs": [],
   "source": [
    "from process import type_score"
   ]
  },
  {
   "cell_type": "code",
   "execution_count": 3,
   "metadata": {},
   "outputs": [],
   "source": [
    "FOLDER = '../../data_kaggle/champs/'\n",
    "OUTPUT = FOLDER + 'out/'"
   ]
  },
  {
   "cell_type": "code",
   "execution_count": 4,
   "metadata": {},
   "outputs": [],
   "source": [
    "DATA_DATE = '20190721'\n",
    "VER = '02'\n",
    "MAP_DATE = '20190728'\n",
    "MODEL_DATE = '20190804'\n",
    "num_rep = 3"
   ]
  },
  {
   "cell_type": "code",
   "execution_count": 5,
   "metadata": {},
   "outputs": [],
   "source": [
    "# input files\n",
    "mols_split = OUTPUT + DATA_DATE + '_' + 'molecule_name_split.pickle'\n",
    "features_train = OUTPUT + MAP_DATE + '_' + VER + '_' + 'features_train_{}.pickle'\n",
    "features_test = OUTPUT + MAP_DATE + '_' + VER + '_' + 'features_test_{}.pickle'\n",
    "trained_models = OUTPUT + MAP_DATE + '_' + VER + '_' + 'champs_models_lgb_{}_{}.pickle'"
   ]
  },
  {
   "cell_type": "code",
   "execution_count": 6,
   "metadata": {},
   "outputs": [],
   "source": [
    "# output files\n",
    "pred_train_temp = OUTPUT + 'pred_train_{}.pickle'\n",
    "pred_train = OUTPUT + MODEL_DATE + '_' + VER + '_' + 'pred_train_{}.pickle'.format(num_rep)\n",
    "\n",
    "submission = OUTPUT + MODEL_DATE + '_' + VER + '_' + 'submission_{}.csv'.format(num_rep)\n",
    "submission_temp = OUTPUT + 'submission_{}.pickle'"
   ]
  },
  {
   "cell_type": "code",
   "execution_count": 7,
   "metadata": {},
   "outputs": [],
   "source": [
    "bond_types = ['3JHN', '3JHC','1JHC', '2JHH', '1JHN', '2JHN', '2JHC', '3JHH']"
   ]
  },
  {
   "cell_type": "code",
   "execution_count": 8,
   "metadata": {},
   "outputs": [
    {
     "name": "stdout",
     "output_type": "stream",
     "text": [
      "---------- 3JHN ----------\n",
      "elapsed_time:6.371759414672852[sec]\n",
      "---------- 3JHC ----------\n",
      "elapsed_time:224.6197633743286[sec]\n",
      "---------- 1JHC ----------\n",
      "elapsed_time:54.98912787437439[sec]\n",
      "---------- 2JHH ----------\n",
      "elapsed_time:17.08229374885559[sec]\n",
      "---------- 1JHN ----------\n",
      "elapsed_time:1.3498890399932861[sec]\n",
      "---------- 2JHN ----------\n",
      "elapsed_time:5.257400751113892[sec]\n",
      "---------- 2JHC ----------\n",
      "elapsed_time:211.59247612953186[sec]\n",
      "---------- 3JHH ----------\n",
      "elapsed_time:50.161311626434326[sec]\n"
     ]
    }
   ],
   "source": [
    "for b in bond_types:\n",
    "    print('-'*10, b, '-'*10)\n",
    "    start = time.time()\n",
    "    df = pd.read_pickle(features_train.format(b))\n",
    "\n",
    "    with open(trained_models.format(b, num_rep), 'rb') as f:\n",
    "        gbm = pickle.load(f)\n",
    "\n",
    "    X = df[df.columns[6:]].values  \n",
    "    y_pred = gbm.predict(X, num_iteration=gbm.best_iteration)\n",
    "    \n",
    "    df_pred = pd.DataFrame([df['id'], y_pred], index=['id', 'scalar_coupling_constant']).T\n",
    "    df_pred['id'] = df_pred['id'].astype('int32')\n",
    "    df_pred.to_pickle(pred_train_temp.format(b))\n",
    "    \n",
    "    elapsed_time = time.time() - start\n",
    "    print (\"elapsed_time:{0}\".format(elapsed_time) + \"[sec]\")\n",
    "    gc.collect()\n",
    "    \n",
    "df_pred_train = pd.DataFrame()\n",
    "for b in bond_types:\n",
    "    df_b = pd.read_pickle(pred_train_temp.format(b))\n",
    "    df_pred_train = pd.concat([df_pred_train, df_b], axis=0, sort=False)\n",
    "    \n",
    "df_pred_train['id'] = df_pred_train['id'].astype('int32')\n",
    "df_pred_train = df_pred_train.reset_index(drop=True)\n",
    "df_pred_train.head()\n",
    "\n",
    "df_pred_train.to_pickle(pred_train)"
   ]
  },
  {
   "cell_type": "code",
   "execution_count": 9,
   "metadata": {},
   "outputs": [
    {
     "data": {
      "text/html": [
       "<div>\n",
       "<style scoped>\n",
       "    .dataframe tbody tr th:only-of-type {\n",
       "        vertical-align: middle;\n",
       "    }\n",
       "\n",
       "    .dataframe tbody tr th {\n",
       "        vertical-align: top;\n",
       "    }\n",
       "\n",
       "    .dataframe thead th {\n",
       "        text-align: right;\n",
       "    }\n",
       "</style>\n",
       "<table border=\"1\" class=\"dataframe\">\n",
       "  <thead>\n",
       "    <tr style=\"text-align: right;\">\n",
       "      <th></th>\n",
       "      <th>id</th>\n",
       "      <th>scalar_coupling_constant</th>\n",
       "    </tr>\n",
       "  </thead>\n",
       "  <tbody>\n",
       "    <tr>\n",
       "      <th>0</th>\n",
       "      <td>73</td>\n",
       "      <td>0.774622</td>\n",
       "    </tr>\n",
       "    <tr>\n",
       "      <th>1</th>\n",
       "      <td>78</td>\n",
       "      <td>0.750297</td>\n",
       "    </tr>\n",
       "    <tr>\n",
       "      <th>2</th>\n",
       "      <td>82</td>\n",
       "      <td>0.774249</td>\n",
       "    </tr>\n",
       "    <tr>\n",
       "      <th>3</th>\n",
       "      <td>213</td>\n",
       "      <td>-0.272996</td>\n",
       "    </tr>\n",
       "    <tr>\n",
       "      <th>4</th>\n",
       "      <td>218</td>\n",
       "      <td>1.448226</td>\n",
       "    </tr>\n",
       "  </tbody>\n",
       "</table>\n",
       "</div>"
      ],
      "text/plain": [
       "    id  scalar_coupling_constant\n",
       "0   73                  0.774622\n",
       "1   78                  0.750297\n",
       "2   82                  0.774249\n",
       "3  213                 -0.272996\n",
       "4  218                  1.448226"
      ]
     },
     "execution_count": 9,
     "metadata": {},
     "output_type": "execute_result"
    }
   ],
   "source": [
    "df_pred_train.head()"
   ]
  },
  {
   "cell_type": "code",
   "execution_count": 10,
   "metadata": {},
   "outputs": [
    {
     "data": {
      "text/html": [
       "<div>\n",
       "<style scoped>\n",
       "    .dataframe tbody tr th:only-of-type {\n",
       "        vertical-align: middle;\n",
       "    }\n",
       "\n",
       "    .dataframe tbody tr th {\n",
       "        vertical-align: top;\n",
       "    }\n",
       "\n",
       "    .dataframe thead th {\n",
       "        text-align: right;\n",
       "    }\n",
       "</style>\n",
       "<table border=\"1\" class=\"dataframe\">\n",
       "  <thead>\n",
       "    <tr style=\"text-align: right;\">\n",
       "      <th></th>\n",
       "      <th>id</th>\n",
       "      <th>scalar_coupling_constant</th>\n",
       "    </tr>\n",
       "  </thead>\n",
       "  <tbody>\n",
       "    <tr>\n",
       "      <th>4658142</th>\n",
       "      <td>4658101</td>\n",
       "      <td>0.058521</td>\n",
       "    </tr>\n",
       "    <tr>\n",
       "      <th>4658143</th>\n",
       "      <td>4658111</td>\n",
       "      <td>0.004197</td>\n",
       "    </tr>\n",
       "    <tr>\n",
       "      <th>4658144</th>\n",
       "      <td>4658138</td>\n",
       "      <td>0.324748</td>\n",
       "    </tr>\n",
       "    <tr>\n",
       "      <th>4658145</th>\n",
       "      <td>4658109</td>\n",
       "      <td>0.049869</td>\n",
       "    </tr>\n",
       "    <tr>\n",
       "      <th>4658146</th>\n",
       "      <td>4658110</td>\n",
       "      <td>0.176755</td>\n",
       "    </tr>\n",
       "  </tbody>\n",
       "</table>\n",
       "</div>"
      ],
      "text/plain": [
       "              id  scalar_coupling_constant\n",
       "4658142  4658101                  0.058521\n",
       "4658143  4658111                  0.004197\n",
       "4658144  4658138                  0.324748\n",
       "4658145  4658109                  0.049869\n",
       "4658146  4658110                  0.176755"
      ]
     },
     "execution_count": 10,
     "metadata": {},
     "output_type": "execute_result"
    }
   ],
   "source": [
    "df_pred_train.tail()"
   ]
  },
  {
   "cell_type": "code",
   "execution_count": 11,
   "metadata": {},
   "outputs": [
    {
     "data": {
      "text/plain": [
       "7"
      ]
     },
     "execution_count": 11,
     "metadata": {},
     "output_type": "execute_result"
    }
   ],
   "source": [
    "del df_pred_train\n",
    "gc.collect()"
   ]
  },
  {
   "cell_type": "code",
   "execution_count": null,
   "metadata": {},
   "outputs": [],
   "source": []
  },
  {
   "cell_type": "code",
   "execution_count": null,
   "metadata": {},
   "outputs": [],
   "source": []
  },
  {
   "cell_type": "code",
   "execution_count": null,
   "metadata": {},
   "outputs": [],
   "source": []
  },
  {
   "cell_type": "code",
   "execution_count": 12,
   "metadata": {},
   "outputs": [
    {
     "name": "stdout",
     "output_type": "stream",
     "text": [
      "---------- 3JHN ----------\n",
      "elapsed_time:3.22182297706604[sec]\n",
      "---------- 3JHC ----------\n",
      "elapsed_time:123.84311962127686[sec]\n",
      "---------- 1JHC ----------\n",
      "elapsed_time:29.129895448684692[sec]\n",
      "---------- 2JHH ----------\n",
      "elapsed_time:8.798673868179321[sec]\n",
      "---------- 1JHN ----------\n",
      "elapsed_time:0.72859787940979[sec]\n",
      "---------- 2JHN ----------\n",
      "elapsed_time:2.660564661026001[sec]\n",
      "---------- 2JHC ----------\n",
      "elapsed_time:114.49173641204834[sec]\n",
      "---------- 3JHH ----------\n",
      "elapsed_time:28.194542169570923[sec]\n"
     ]
    }
   ],
   "source": [
    "for b in bond_types:\n",
    "    print('-'*10, b, '-'*10)\n",
    "    start = time.time()\n",
    "    df_bond = pd.read_pickle(features_test.format(b))\n",
    "    y_pred_b =[]\n",
    "\n",
    "    with open(trained_models.format(b, num_rep), 'rb') as f:\n",
    "        gbm = pickle.load(f)\n",
    "\n",
    "    X_test = df_bond[df_bond.columns[5:]].values  \n",
    "    y_pred = gbm.predict(X_test, num_iteration=gbm.best_iteration)\n",
    "    \n",
    "    df_pred = pd.DataFrame([df_bond['id'], y_pred], index=['id', 'scalar_coupling_constant']).T\n",
    "    df_pred['id'] = df_pred['id'].astype('int32')\n",
    "    df_pred.to_pickle(submission_temp.format(b))\n",
    "    \n",
    "    elapsed_time = time.time() - start\n",
    "    print (\"elapsed_time:{0}\".format(elapsed_time) + \"[sec]\")\n",
    "    gc.collect()\n",
    "    \n",
    "df_submit = pd.DataFrame()\n",
    "for b in bond_types:\n",
    "    df_submit_b = pd.read_pickle(submission_temp.format(b))\n",
    "    df_submit = pd.concat([df_submit, df_submit_b], axis=0)\n",
    "    \n",
    "df_submit['id'] = df_submit['id'].astype('int32')\n",
    "df_submit = df_submit.sort_values('id').reset_index(drop=True)\n",
    "df_submit.head()\n",
    "\n",
    "df_submit.to_csv(submission, index=False)"
   ]
  },
  {
   "cell_type": "code",
   "execution_count": 13,
   "metadata": {},
   "outputs": [
    {
     "data": {
      "text/html": [
       "<div>\n",
       "<style scoped>\n",
       "    .dataframe tbody tr th:only-of-type {\n",
       "        vertical-align: middle;\n",
       "    }\n",
       "\n",
       "    .dataframe tbody tr th {\n",
       "        vertical-align: top;\n",
       "    }\n",
       "\n",
       "    .dataframe thead th {\n",
       "        text-align: right;\n",
       "    }\n",
       "</style>\n",
       "<table border=\"1\" class=\"dataframe\">\n",
       "  <thead>\n",
       "    <tr style=\"text-align: right;\">\n",
       "      <th></th>\n",
       "      <th>id</th>\n",
       "      <th>scalar_coupling_constant</th>\n",
       "    </tr>\n",
       "  </thead>\n",
       "  <tbody>\n",
       "    <tr>\n",
       "      <th>0</th>\n",
       "      <td>4658147</td>\n",
       "      <td>17.796563</td>\n",
       "    </tr>\n",
       "    <tr>\n",
       "      <th>1</th>\n",
       "      <td>4658148</td>\n",
       "      <td>188.519345</td>\n",
       "    </tr>\n",
       "    <tr>\n",
       "      <th>2</th>\n",
       "      <td>4658149</td>\n",
       "      <td>13.106957</td>\n",
       "    </tr>\n",
       "    <tr>\n",
       "      <th>3</th>\n",
       "      <td>4658150</td>\n",
       "      <td>188.605161</td>\n",
       "    </tr>\n",
       "    <tr>\n",
       "      <th>4</th>\n",
       "      <td>4658151</td>\n",
       "      <td>17.796563</td>\n",
       "    </tr>\n",
       "  </tbody>\n",
       "</table>\n",
       "</div>"
      ],
      "text/plain": [
       "        id  scalar_coupling_constant\n",
       "0  4658147                 17.796563\n",
       "1  4658148                188.519345\n",
       "2  4658149                 13.106957\n",
       "3  4658150                188.605161\n",
       "4  4658151                 17.796563"
      ]
     },
     "execution_count": 13,
     "metadata": {},
     "output_type": "execute_result"
    }
   ],
   "source": [
    "df_submit.head()"
   ]
  },
  {
   "cell_type": "code",
   "execution_count": 14,
   "metadata": {},
   "outputs": [
    {
     "data": {
      "text/html": [
       "<div>\n",
       "<style scoped>\n",
       "    .dataframe tbody tr th:only-of-type {\n",
       "        vertical-align: middle;\n",
       "    }\n",
       "\n",
       "    .dataframe tbody tr th {\n",
       "        vertical-align: top;\n",
       "    }\n",
       "\n",
       "    .dataframe thead th {\n",
       "        text-align: right;\n",
       "    }\n",
       "</style>\n",
       "<table border=\"1\" class=\"dataframe\">\n",
       "  <thead>\n",
       "    <tr style=\"text-align: right;\">\n",
       "      <th></th>\n",
       "      <th>id</th>\n",
       "      <th>scalar_coupling_constant</th>\n",
       "    </tr>\n",
       "  </thead>\n",
       "  <tbody>\n",
       "    <tr>\n",
       "      <th>2505537</th>\n",
       "      <td>7163684</td>\n",
       "      <td>1.054492</td>\n",
       "    </tr>\n",
       "    <tr>\n",
       "      <th>2505538</th>\n",
       "      <td>7163685</td>\n",
       "      <td>4.711128</td>\n",
       "    </tr>\n",
       "    <tr>\n",
       "      <th>2505539</th>\n",
       "      <td>7163686</td>\n",
       "      <td>5.229850</td>\n",
       "    </tr>\n",
       "    <tr>\n",
       "      <th>2505540</th>\n",
       "      <td>7163687</td>\n",
       "      <td>4.038620</td>\n",
       "    </tr>\n",
       "    <tr>\n",
       "      <th>2505541</th>\n",
       "      <td>7163688</td>\n",
       "      <td>118.460035</td>\n",
       "    </tr>\n",
       "  </tbody>\n",
       "</table>\n",
       "</div>"
      ],
      "text/plain": [
       "              id  scalar_coupling_constant\n",
       "2505537  7163684                  1.054492\n",
       "2505538  7163685                  4.711128\n",
       "2505539  7163686                  5.229850\n",
       "2505540  7163687                  4.038620\n",
       "2505541  7163688                118.460035"
      ]
     },
     "execution_count": 14,
     "metadata": {},
     "output_type": "execute_result"
    }
   ],
   "source": [
    "df_submit.tail()"
   ]
  },
  {
   "cell_type": "code",
   "execution_count": null,
   "metadata": {},
   "outputs": [],
   "source": []
  }
 ],
 "metadata": {
  "kernelspec": {
   "display_name": "Python 3",
   "language": "python",
   "name": "python3"
  },
  "language_info": {
   "codemirror_mode": {
    "name": "ipython",
    "version": 3
   },
   "file_extension": ".py",
   "mimetype": "text/x-python",
   "name": "python",
   "nbconvert_exporter": "python",
   "pygments_lexer": "ipython3",
   "version": "3.6.8"
  }
 },
 "nbformat": 4,
 "nbformat_minor": 2
}
