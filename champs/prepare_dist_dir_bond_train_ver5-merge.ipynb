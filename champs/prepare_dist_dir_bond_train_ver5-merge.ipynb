{
 "cells": [
  {
   "cell_type": "code",
   "execution_count": 1,
   "metadata": {},
   "outputs": [],
   "source": [
    "import os\n",
    "import pandas as pd\n",
    "import numpy as np\n",
    "import time\n",
    "import gc\n",
    "import pickle"
   ]
  },
  {
   "cell_type": "code",
   "execution_count": 2,
   "metadata": {},
   "outputs": [],
   "source": [
    "from process import merge_atom"
   ]
  },
  {
   "cell_type": "code",
   "execution_count": 3,
   "metadata": {},
   "outputs": [],
   "source": [
    "FOLDER = '../../data_kaggle/champs/'\n",
    "OUTPUT = FOLDER + 'out/'"
   ]
  },
  {
   "cell_type": "code",
   "execution_count": 4,
   "metadata": {},
   "outputs": [],
   "source": [
    "df_distance_list = []\n",
    "df_distance_list.append(pd.read_pickle(OUTPUT + '20190701_dist_bond_dir_train_temp0.pickle'))\n",
    "df_distance_list.append(pd.read_pickle(OUTPUT + '20190701_dist_bond_dir_train_temp1.pickle'))\n",
    "df_distance_list.append(pd.read_pickle(OUTPUT + '20190701_dist_bond_dir_train_temp2.pickle'))\n",
    "df_distance_list.append(pd.read_pickle(OUTPUT + '20190701_dist_bond_dir_train_temp3.pickle'))\n",
    "\n",
    "df_distance = pd.concat(df_distance_list, axis=0)"
   ]
  },
  {
   "cell_type": "code",
   "execution_count": 5,
   "metadata": {},
   "outputs": [],
   "source": [
    "df_train = pd.read_csv(FOLDER + 'train.csv')"
   ]
  },
  {
   "cell_type": "code",
   "execution_count": 6,
   "metadata": {},
   "outputs": [],
   "source": [
    "df_cos_3j = pd.read_pickle(OUTPUT + '20190629_cos_3j_2.pickle')"
   ]
  },
  {
   "cell_type": "code",
   "execution_count": 7,
   "metadata": {},
   "outputs": [],
   "source": [
    "bond_types = df_train['type'].unique()\n",
    "\n",
    "for b in bond_types:\n",
    "    df_train_dist = merge_atom(df_train.query('type == \"{}\"'.format(b)), df_distance)\n",
    "    df_train_dist_cos = pd.merge(df_train_dist, df_cos_3j, on='id', how='left')                           \n",
    "    df_train_dist_cos.to_pickle(OUTPUT + '20190701_dist_bond_dir_cos_train_{}.pickle'.format(b))\n",
    "    del df_train_dist_cos\n",
    "    gc.collect()"
   ]
  },
  {
   "cell_type": "code",
   "execution_count": null,
   "metadata": {},
   "outputs": [],
   "source": []
  },
  {
   "cell_type": "code",
   "execution_count": null,
   "metadata": {},
   "outputs": [],
   "source": []
  }
 ],
 "metadata": {
  "kernelspec": {
   "display_name": "Python 3",
   "language": "python",
   "name": "python3"
  },
  "language_info": {
   "codemirror_mode": {
    "name": "ipython",
    "version": 3
   },
   "file_extension": ".py",
   "mimetype": "text/x-python",
   "name": "python",
   "nbconvert_exporter": "python",
   "pygments_lexer": "ipython3",
   "version": "3.6.8"
  }
 },
 "nbformat": 4,
 "nbformat_minor": 2
}
