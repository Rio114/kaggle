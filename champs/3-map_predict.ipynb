{
 "cells": [
  {
   "cell_type": "code",
   "execution_count": 1,
   "metadata": {},
   "outputs": [],
   "source": [
    "import pandas as pd\n",
    "import numpy as np\n",
    "import time\n",
    "import random\n",
    "import lightgbm as lgb\n",
    "import time\n",
    "\n",
    "import pickle\n",
    "import matplotlib.pyplot as plt"
   ]
  },
  {
   "cell_type": "code",
   "execution_count": 2,
   "metadata": {},
   "outputs": [],
   "source": [
    "from process import map_pred"
   ]
  },
  {
   "cell_type": "code",
   "execution_count": 3,
   "metadata": {},
   "outputs": [],
   "source": [
    "FOLDER = '../../data_kaggle/champs/'\n",
    "OUTPUT = FOLDER + 'out/'\n",
    "TEMP = OUTPUT + 'temp/'\n",
    "MAP  = OUTPUT + 'map/'"
   ]
  },
  {
   "cell_type": "code",
   "execution_count": 4,
   "metadata": {},
   "outputs": [],
   "source": [
    "# original input\n",
    "df_train = pd.read_csv(FOLDER+'train.csv')\n",
    "df_test = pd.read_csv(FOLDER+'test.csv')"
   ]
  },
  {
   "cell_type": "code",
   "execution_count": 5,
   "metadata": {},
   "outputs": [],
   "source": [
    "DATA_DATE = '20190721'\n",
    "VER = '02'\n",
    "MAP_DATE = '20190728'\n",
    "MODEL_DATE = '20190804'\n",
    "num_rep = 2"
   ]
  },
  {
   "cell_type": "code",
   "execution_count": 6,
   "metadata": {},
   "outputs": [],
   "source": [
    "# input files\n",
    "# pred_train = OUTPUT + DATA_DATE + '_' + 'predict_train.pickle'\n",
    "# pred_test =  OUTPUT + DATA_DATE + '_' + 'submission.csv'\n",
    "\n",
    "pred_train = OUTPUT + MODEL_DATE + '_' + VER + '_' + 'pred_train_{}.pickle'.format(num_rep)\n",
    "pred_test = OUTPUT + MODEL_DATE + '_' + VER + '_' + 'submission_{}.csv'.format(num_rep)\n",
    "\n",
    "map_train = MAP + MAP_DATE + '_' + 'map_train.pickle'\n",
    "map_test = MAP + MAP_DATE + '_' + 'map_test.pickle'\n",
    "\n",
    "dist_train = MAP + MAP_DATE + '_' + 'dist_train.pickle'\n",
    "dist_test = MAP + MAP_DATE + '_' + 'dist_test.pickle'"
   ]
  },
  {
   "cell_type": "code",
   "execution_count": 7,
   "metadata": {},
   "outputs": [],
   "source": [
    "# output files\n",
    "temp_no = 0\n",
    "num_div = 4\n",
    "\n",
    "pred_dist_train_temp = TEMP + 'pred_dist_train_{}.pickle'\n",
    "pred_dist_test_temp = TEMP + 'pred_dist_test_{}.pickle'\n",
    "\n",
    "pred_dist_train = OUTPUT + MODEL_DATE + '_' + VER + '_' + 'pred_dist_train.pickle'\n",
    "pred_dist_test = OUTPUT + MODEL_DATE + '_' + VER + '_' + 'pred_dist_test.pickle'"
   ]
  },
  {
   "cell_type": "code",
   "execution_count": 8,
   "metadata": {},
   "outputs": [
    {
     "data": {
      "text/html": [
       "<div>\n",
       "<style scoped>\n",
       "    .dataframe tbody tr th:only-of-type {\n",
       "        vertical-align: middle;\n",
       "    }\n",
       "\n",
       "    .dataframe tbody tr th {\n",
       "        vertical-align: top;\n",
       "    }\n",
       "\n",
       "    .dataframe thead th {\n",
       "        text-align: right;\n",
       "    }\n",
       "</style>\n",
       "<table border=\"1\" class=\"dataframe\">\n",
       "  <thead>\n",
       "    <tr style=\"text-align: right;\">\n",
       "      <th></th>\n",
       "      <th>id</th>\n",
       "      <th>atom_index_0</th>\n",
       "      <th>atom_index_1</th>\n",
       "      <th>type</th>\n",
       "      <th>scalar_coupling_constant</th>\n",
       "      <th>predict</th>\n",
       "    </tr>\n",
       "    <tr>\n",
       "      <th>molecule_name</th>\n",
       "      <th></th>\n",
       "      <th></th>\n",
       "      <th></th>\n",
       "      <th></th>\n",
       "      <th></th>\n",
       "      <th></th>\n",
       "    </tr>\n",
       "  </thead>\n",
       "  <tbody>\n",
       "    <tr>\n",
       "      <th>dsgdb9nsd_000001</th>\n",
       "      <td>0</td>\n",
       "      <td>1</td>\n",
       "      <td>0</td>\n",
       "      <td>1JHC</td>\n",
       "      <td>84.8076</td>\n",
       "      <td>85.010650</td>\n",
       "    </tr>\n",
       "    <tr>\n",
       "      <th>dsgdb9nsd_000001</th>\n",
       "      <td>1</td>\n",
       "      <td>1</td>\n",
       "      <td>2</td>\n",
       "      <td>2JHH</td>\n",
       "      <td>-11.2570</td>\n",
       "      <td>-11.223590</td>\n",
       "    </tr>\n",
       "    <tr>\n",
       "      <th>dsgdb9nsd_000001</th>\n",
       "      <td>2</td>\n",
       "      <td>1</td>\n",
       "      <td>3</td>\n",
       "      <td>2JHH</td>\n",
       "      <td>-11.2548</td>\n",
       "      <td>-11.299028</td>\n",
       "    </tr>\n",
       "    <tr>\n",
       "      <th>dsgdb9nsd_000001</th>\n",
       "      <td>3</td>\n",
       "      <td>1</td>\n",
       "      <td>4</td>\n",
       "      <td>2JHH</td>\n",
       "      <td>-11.2543</td>\n",
       "      <td>-11.299028</td>\n",
       "    </tr>\n",
       "    <tr>\n",
       "      <th>dsgdb9nsd_000001</th>\n",
       "      <td>4</td>\n",
       "      <td>2</td>\n",
       "      <td>0</td>\n",
       "      <td>1JHC</td>\n",
       "      <td>84.8074</td>\n",
       "      <td>85.010650</td>\n",
       "    </tr>\n",
       "  </tbody>\n",
       "</table>\n",
       "</div>"
      ],
      "text/plain": [
       "                  id  atom_index_0  atom_index_1  type  \\\n",
       "molecule_name                                            \n",
       "dsgdb9nsd_000001   0             1             0  1JHC   \n",
       "dsgdb9nsd_000001   1             1             2  2JHH   \n",
       "dsgdb9nsd_000001   2             1             3  2JHH   \n",
       "dsgdb9nsd_000001   3             1             4  2JHH   \n",
       "dsgdb9nsd_000001   4             2             0  1JHC   \n",
       "\n",
       "                  scalar_coupling_constant    predict  \n",
       "molecule_name                                          \n",
       "dsgdb9nsd_000001                   84.8076  85.010650  \n",
       "dsgdb9nsd_000001                  -11.2570 -11.223590  \n",
       "dsgdb9nsd_000001                  -11.2548 -11.299028  \n",
       "dsgdb9nsd_000001                  -11.2543 -11.299028  \n",
       "dsgdb9nsd_000001                   84.8074  85.010650  "
      ]
     },
     "execution_count": 8,
     "metadata": {},
     "output_type": "execute_result"
    }
   ],
   "source": [
    "df_pred_train = pd.read_pickle(pred_train)\n",
    "df_pred_train = df_pred_train.rename(columns={'scalar_coupling_constant':'predict'})\n",
    "df_pred_train_idx = pd.merge(df_train, df_pred_train, on=['id']).set_index('molecule_name')\n",
    "df_pred_train_idx.head()"
   ]
  },
  {
   "cell_type": "code",
   "execution_count": 9,
   "metadata": {},
   "outputs": [
    {
     "data": {
      "text/html": [
       "<div>\n",
       "<style scoped>\n",
       "    .dataframe tbody tr th:only-of-type {\n",
       "        vertical-align: middle;\n",
       "    }\n",
       "\n",
       "    .dataframe tbody tr th {\n",
       "        vertical-align: top;\n",
       "    }\n",
       "\n",
       "    .dataframe thead th {\n",
       "        text-align: right;\n",
       "    }\n",
       "</style>\n",
       "<table border=\"1\" class=\"dataframe\">\n",
       "  <thead>\n",
       "    <tr style=\"text-align: right;\">\n",
       "      <th></th>\n",
       "      <th>id</th>\n",
       "      <th>atom_index_0</th>\n",
       "      <th>atom_index_1</th>\n",
       "      <th>type</th>\n",
       "      <th>scalar_coupling_constant</th>\n",
       "      <th>predict</th>\n",
       "    </tr>\n",
       "    <tr>\n",
       "      <th>molecule_name</th>\n",
       "      <th></th>\n",
       "      <th></th>\n",
       "      <th></th>\n",
       "      <th></th>\n",
       "      <th></th>\n",
       "      <th></th>\n",
       "    </tr>\n",
       "  </thead>\n",
       "  <tbody>\n",
       "    <tr>\n",
       "      <th>dsgdb9nsd_133884</th>\n",
       "      <td>4658142</td>\n",
       "      <td>17</td>\n",
       "      <td>4</td>\n",
       "      <td>2JHC</td>\n",
       "      <td>3.543450</td>\n",
       "      <td>0.507619</td>\n",
       "    </tr>\n",
       "    <tr>\n",
       "      <th>dsgdb9nsd_133884</th>\n",
       "      <td>4658143</td>\n",
       "      <td>17</td>\n",
       "      <td>5</td>\n",
       "      <td>3JHC</td>\n",
       "      <td>0.568997</td>\n",
       "      <td>-0.316933</td>\n",
       "    </tr>\n",
       "    <tr>\n",
       "      <th>dsgdb9nsd_133884</th>\n",
       "      <td>4658144</td>\n",
       "      <td>17</td>\n",
       "      <td>6</td>\n",
       "      <td>3JHC</td>\n",
       "      <td>1.173370</td>\n",
       "      <td>-0.299367</td>\n",
       "    </tr>\n",
       "    <tr>\n",
       "      <th>dsgdb9nsd_133884</th>\n",
       "      <td>4658145</td>\n",
       "      <td>17</td>\n",
       "      <td>7</td>\n",
       "      <td>2JHC</td>\n",
       "      <td>4.762010</td>\n",
       "      <td>0.520170</td>\n",
       "    </tr>\n",
       "    <tr>\n",
       "      <th>dsgdb9nsd_133884</th>\n",
       "      <td>4658146</td>\n",
       "      <td>17</td>\n",
       "      <td>8</td>\n",
       "      <td>1JHC</td>\n",
       "      <td>117.934000</td>\n",
       "      <td>79.953299</td>\n",
       "    </tr>\n",
       "  </tbody>\n",
       "</table>\n",
       "</div>"
      ],
      "text/plain": [
       "                       id  atom_index_0  atom_index_1  type  \\\n",
       "molecule_name                                                 \n",
       "dsgdb9nsd_133884  4658142            17             4  2JHC   \n",
       "dsgdb9nsd_133884  4658143            17             5  3JHC   \n",
       "dsgdb9nsd_133884  4658144            17             6  3JHC   \n",
       "dsgdb9nsd_133884  4658145            17             7  2JHC   \n",
       "dsgdb9nsd_133884  4658146            17             8  1JHC   \n",
       "\n",
       "                  scalar_coupling_constant    predict  \n",
       "molecule_name                                          \n",
       "dsgdb9nsd_133884                  3.543450   0.507619  \n",
       "dsgdb9nsd_133884                  0.568997  -0.316933  \n",
       "dsgdb9nsd_133884                  1.173370  -0.299367  \n",
       "dsgdb9nsd_133884                  4.762010   0.520170  \n",
       "dsgdb9nsd_133884                117.934000  79.953299  "
      ]
     },
     "execution_count": 9,
     "metadata": {},
     "output_type": "execute_result"
    }
   ],
   "source": [
    "df_pred_train_idx.tail()"
   ]
  },
  {
   "cell_type": "code",
   "execution_count": 10,
   "metadata": {},
   "outputs": [],
   "source": [
    "mols_train = df_train['molecule_name'].unique()"
   ]
  },
  {
   "cell_type": "code",
   "execution_count": 11,
   "metadata": {},
   "outputs": [],
   "source": [
    "df_map_train_idx = pd.read_pickle(map_train).set_index('molecule_name')\n",
    "df_dist_train_idx = pd.read_pickle(dist_train).set_index('molecule_name')"
   ]
  },
  {
   "cell_type": "code",
   "execution_count": 13,
   "metadata": {},
   "outputs": [
    {
     "name": "stdout",
     "output_type": "stream",
     "text": [
      "total elapsed_time:1700.918690443039[sec]\n"
     ]
    }
   ],
   "source": [
    "start = time.time()\n",
    "df_map_pred_train = pd.DataFrame()\n",
    "\n",
    "div = len(mols_train) // num_div\n",
    "\n",
    "# for m in mols_train[:10]:\n",
    "for m in mols_train[div*temp_no:div*(temp_no+1)]:\n",
    "    if m == mols_train[2]:\n",
    "        continue\n",
    "    df_map_pred_train_temp = map_pred(df_pred_train_idx, df_map_train_idx, m)\n",
    "    df_map_pred_train = pd.concat([df_map_pred_train, df_map_pred_train_temp], axis=0)\n",
    "    \n",
    "if temp_no == 0:\n",
    "    m = mols_train[2]\n",
    "    se_temp = pd.Series()\n",
    "#     se_temp['molecule_name']  = m\n",
    "    se_temp['0'] = df_pred_train_idx.loc[m]['predict']\n",
    "    for i in range(48):\n",
    "        se_temp['{}'.format(i+1)] = 0.0\n",
    "    cols = df_map_pred_train_temp.columns[:-1]\n",
    "    df_map_pred_train_temp = pd.DataFrame(se_temp).T\n",
    "    df_map_pred_train_temp.columns = cols\n",
    "    df_map_pred_train_temp['id'] = df_pred_train_idx.loc[m]['id']\n",
    "    df_map_pred_train = pd.concat([df_map_pred_train, df_map_pred_train_temp], axis=0, sort=False)\n",
    "\n",
    "df_pred_dist_train = pd.merge(df_map_pred_train, df_dist_train_idx, on=['id'])\n",
    "df_pred_dist_train.to_pickle(pred_dist_train_temp.format(temp_no))\n",
    "\n",
    "elapsed_time = time.time() - start\n",
    "print (\"total elapsed_time:{0}\".format(elapsed_time) + \"[sec]\")"
   ]
  },
  {
   "cell_type": "code",
   "execution_count": 14,
   "metadata": {},
   "outputs": [
    {
     "data": {
      "text/plain": [
       "0"
      ]
     },
     "execution_count": 14,
     "metadata": {},
     "output_type": "execute_result"
    }
   ],
   "source": [
    "sum(df_pred_dist_train['0_x'].isnull())"
   ]
  },
  {
   "cell_type": "code",
   "execution_count": 15,
   "metadata": {},
   "outputs": [
    {
     "data": {
      "text/plain": [
       "(958409, 99)"
      ]
     },
     "execution_count": 15,
     "metadata": {},
     "output_type": "execute_result"
    }
   ],
   "source": [
    "df_pred_dist_train.shape"
   ]
  },
  {
   "cell_type": "code",
   "execution_count": 16,
   "metadata": {},
   "outputs": [],
   "source": [
    "df_pred_test = pd.read_csv(pred_test)\n",
    "df_pred_test = df_pred_test.rename(columns={'scalar_coupling_constant':'predict'})\n",
    "df_pred_test_idx = pd.merge(df_test, df_pred_test, on=['id']).set_index('molecule_name')"
   ]
  },
  {
   "cell_type": "code",
   "execution_count": 17,
   "metadata": {},
   "outputs": [],
   "source": [
    "mols_test = df_test['molecule_name'].unique()"
   ]
  },
  {
   "cell_type": "code",
   "execution_count": 18,
   "metadata": {},
   "outputs": [],
   "source": [
    "df_map_test_idx = pd.read_pickle(map_test).set_index('molecule_name')\n",
    "df_dist_test_idx = pd.read_pickle(dist_test).set_index('molecule_name')"
   ]
  },
  {
   "cell_type": "code",
   "execution_count": 19,
   "metadata": {},
   "outputs": [
    {
     "name": "stdout",
     "output_type": "stream",
     "text": [
      "total elapsed_time:520.9655029773712[sec]\n"
     ]
    }
   ],
   "source": [
    "start = time.time()\n",
    "df_map_pred_test = pd.DataFrame()\n",
    "\n",
    "div = len(mols_test) // num_div\n",
    "# for m in mols_test[:10]:\n",
    "for m in mols_test[div*temp_no:div*(temp_no+1)]:\n",
    "    df_map_pred_test_temp = map_pred(df_pred_test_idx, df_map_test_idx, m)\n",
    "    df_map_pred_test = pd.concat([df_map_pred_test, df_map_pred_test_temp], axis=0, sort=False)\n",
    "\n",
    "df_pred_dist_test = pd.merge(df_map_pred_test, df_dist_test_idx, on=['id'])\n",
    "df_pred_dist_test.to_pickle(pred_dist_test_temp.format(temp_no))\n",
    "\n",
    "elapsed_time = time.time() - start\n",
    "print (\"total elapsed_time:{0}\".format(elapsed_time) + \"[sec]\")"
   ]
  },
  {
   "cell_type": "code",
   "execution_count": 20,
   "metadata": {},
   "outputs": [
    {
     "data": {
      "text/plain": [
       "(516698, 99)"
      ]
     },
     "execution_count": 20,
     "metadata": {},
     "output_type": "execute_result"
    }
   ],
   "source": [
    "df_pred_dist_test.shape"
   ]
  },
  {
   "cell_type": "code",
   "execution_count": 21,
   "metadata": {},
   "outputs": [
    {
     "data": {
      "text/plain": [
       "0"
      ]
     },
     "execution_count": 21,
     "metadata": {},
     "output_type": "execute_result"
    }
   ],
   "source": [
    "sum(df_pred_dist_test['0_x'].isnull())"
   ]
  },
  {
   "cell_type": "code",
   "execution_count": 24,
   "metadata": {
    "scrolled": true
   },
   "outputs": [
    {
     "name": "stdout",
     "output_type": "stream",
     "text": [
      "(4658147, 99) (2505542, 99)\n"
     ]
    }
   ],
   "source": [
    "df_pred_dist_train_list = []\n",
    "df_pred_dist_test_list = []\n",
    "\n",
    "for i in range(num_div):\n",
    "    df_pred_dist_train_list.append(pd.read_pickle(pred_dist_train_temp.format(i)))\n",
    "    df_pred_dist_test_list.append(pd.read_pickle(pred_dist_test_temp.format(i)))\n",
    "    \n",
    "df_pred_dist_train = pd.concat(df_pred_dist_train_list, axis=0,sort=False)\n",
    "df_pred_dist_test = pd.concat(df_pred_dist_test_list, axis=0,sort=False)\n",
    "\n",
    "df_pred_dist_train.to_pickle(pred_dist_train)\n",
    "df_pred_dist_test.to_pickle(pred_dist_test)\n",
    "\n",
    "print(df_pred_dist_train.shape, df_pred_dist_test.shape)"
   ]
  },
  {
   "cell_type": "code",
   "execution_count": 23,
   "metadata": {},
   "outputs": [],
   "source": [
    "# (4658147, 100) (2505542, 100)"
   ]
  },
  {
   "cell_type": "code",
   "execution_count": null,
   "metadata": {},
   "outputs": [],
   "source": []
  }
 ],
 "metadata": {
  "kernelspec": {
   "display_name": "Python 3",
   "language": "python",
   "name": "python3"
  },
  "language_info": {
   "codemirror_mode": {
    "name": "ipython",
    "version": 3
   },
   "file_extension": ".py",
   "mimetype": "text/x-python",
   "name": "python",
   "nbconvert_exporter": "python",
   "pygments_lexer": "ipython3",
   "version": "3.6.8"
  }
 },
 "nbformat": 4,
 "nbformat_minor": 2
}
