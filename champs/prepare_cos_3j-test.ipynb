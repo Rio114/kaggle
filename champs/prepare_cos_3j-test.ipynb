{
 "cells": [
  {
   "cell_type": "code",
   "execution_count": 1,
   "metadata": {},
   "outputs": [],
   "source": [
    "import os\n",
    "import pandas as pd\n",
    "import numpy as np\n",
    "import time"
   ]
  },
  {
   "cell_type": "code",
   "execution_count": 2,
   "metadata": {},
   "outputs": [
    {
     "data": {
      "text/plain": [
       "['mulliken_charges.csv',\n",
       " 'sample_submission.csv',\n",
       " 'magnetic_shielding_tensors.csv',\n",
       " 'train.csv',\n",
       " 'test.csv',\n",
       " 'dipole_moments.csv',\n",
       " 'potential_energy.csv',\n",
       " 'structures.csv',\n",
       " 'out',\n",
       " 'scalar_coupling_contributions.csv',\n",
       " 'dsgdb9nsd_000001.xyz',\n",
       " 'structures.zip']"
      ]
     },
     "execution_count": 2,
     "metadata": {},
     "output_type": "execute_result"
    }
   ],
   "source": [
    "FOLDER = '../../data_kaggle/champs/'\n",
    "OUTPUT = FOLDER + 'out/'\n",
    "os.listdir(FOLDER)"
   ]
  },
  {
   "cell_type": "code",
   "execution_count": 3,
   "metadata": {},
   "outputs": [],
   "source": [
    "# df_mulliken_charges = pd.read_csv(FOLDER + 'mulliken_charges.csv')\n",
    "# df_sample =  pd.read_csv(FOLDER + 'sample_submission.csv')\n",
    "# df_magnetic_shielding_tensors = pd.read_csv(FOLDER + 'magnetic_shielding_tensors.csv')\n",
    "# df_train = pd.read_csv(FOLDER + 'train.csv')\n",
    "df_test = pd.read_csv(FOLDER + 'test.csv')\n",
    "# df_dipole_moments = pd.read_csv(FOLDER + 'dipole_moments.csv')\n",
    "# df_potential_energy = pd.read_csv(FOLDER + 'potential_energy.csv')\n",
    "df_structures = pd.read_csv(FOLDER + 'structures.csv')\n",
    "# df_scalar_coupling_contributions = pd.read_csv(FOLDER + 'scalar_coupling_contributions.csv')"
   ]
  },
  {
   "cell_type": "code",
   "execution_count": 4,
   "metadata": {},
   "outputs": [],
   "source": [
    "df_structures_idx = df_structures.set_index('molecule_name')\n",
    "df_test_idx = df_test.set_index('molecule_name')\n",
    "mols = df_test['molecule_name'].unique()\n",
    "types_3J = ['3JHH', '3JHC', '3JHN']"
   ]
  },
  {
   "cell_type": "code",
   "execution_count": 5,
   "metadata": {},
   "outputs": [],
   "source": [
    "def get_dist_matrix(df_structures_idx, molecule):\n",
    "    df_temp = df_structures_idx.loc[molecule]\n",
    "    locs = df_temp[['x','y','z']].values\n",
    "    num_atoms = len(locs)\n",
    "    loc_tile = np.tile(locs.T, (num_atoms,1,1))\n",
    "    dist_mat = ((loc_tile - loc_tile.T)**2).sum(axis=1)\n",
    "    return dist_mat"
   ]
  },
  {
   "cell_type": "code",
   "execution_count": 6,
   "metadata": {},
   "outputs": [],
   "source": [
    "def gen_pairs_list(df_idx, df_structures_idx, molecule_name, type_3J):\n",
    "    pairs_list = []\n",
    "    df_tr = df_idx.loc[molecule_name]\n",
    "    df_st = df_structures_idx.loc[molecule_name]\n",
    "    if type(df_tr) == pd.Series:\n",
    "        return []\n",
    "    \n",
    "    pairs_3J = df_tr.query('type == \"{}\"'.format(type_3J))[['atom_index_0','atom_index_1','id']].values\n",
    "    dist_matrix = get_dist_matrix(df_structures_idx, molecule_name)\n",
    "\n",
    "    for p3 in pairs_3J:\n",
    "        atom_idx_0 = p3[0]\n",
    "        con_id = p3[2]\n",
    "\n",
    "        dist_arr = dist_matrix[atom_idx_0]\n",
    "        mask = dist_arr != 0\n",
    "        dist_arr_excl_0 = dist_arr[mask]\n",
    "        masked_idx = df_st['atom_index'].values[mask]\n",
    "        atom_idx_1 = masked_idx[np.argsort(dist_arr_excl_0)[0]]\n",
    "\n",
    "        atom_idx_3 = p3[1]\n",
    "        dist_arr = dist_matrix[atom_idx_3]\n",
    "        mask = dist_arr != 0\n",
    "        dist_arr_excl_0 = dist_arr[mask]\n",
    "        masked_idx = df_st['atom_index'].values[mask]\n",
    "        atom_idx_2 = masked_idx[np.argsort(dist_arr_excl_0)[0]]        \n",
    "        \n",
    "        pair = [atom_idx_0, atom_idx_1, atom_idx_2, atom_idx_3, con_id]\n",
    "        pairs_list.append(pair)\n",
    "        \n",
    "    return pairs_list"
   ]
  },
  {
   "cell_type": "code",
   "execution_count": 7,
   "metadata": {},
   "outputs": [],
   "source": [
    "def get_cos_3J(df_structures_idx, molecule_name, atom_idx_list):\n",
    "    pos_list = []\n",
    "    df_st = df_structures_idx.loc[molecule_name]\n",
    "\n",
    "    for idx in atom_idx_list:\n",
    "        pos = df_st.query('atom_index == {}'.format(idx))[['x', 'y', 'z']].values\n",
    "        pos_list.append(pos)\n",
    "\n",
    "    v01 = pos_list[1] - pos_list[0]\n",
    "    v12 = pos_list[2] - pos_list[1]\n",
    "    v23 = pos_list[3] - pos_list[2]\n",
    "\n",
    "    v01_12 = v01 - ((np.dot(v01, v12.T) / np.linalg.norm(v12) **2 ) * v12)[0]\n",
    "    v23_12 = v23 - ((np.dot(v23, v12.T) / np.linalg.norm(v12) **2 ) * v12)[0]\n",
    "    \n",
    "    return np.dot(v01_12, v23_12.T) / np.linalg.norm(v01_12) / np.linalg.norm(v23_12)"
   ]
  },
  {
   "cell_type": "code",
   "execution_count": 8,
   "metadata": {
    "scrolled": false
   },
   "outputs": [
    {
     "name": "stderr",
     "output_type": "stream",
     "text": [
      "/home/ryoji/Documents/git/kaggle/ml/lib/python3.6/site-packages/ipykernel_launcher.py:16: RuntimeWarning: invalid value encountered in true_divide\n",
      "  app.launch_new_instance()\n"
     ]
    },
    {
     "name": "stdout",
     "output_type": "stream",
     "text": [
      "elapsed_time:13448.327869653702[sec]\n"
     ]
    }
   ],
   "source": [
    "col_cos = np.zeros(0)\n",
    "id_arr = np.zeros(0)\n",
    "start = time.time()\n",
    "types_3J = ['3JHH', '3JHC', '3JHN']\n",
    "for m in mols:\n",
    "    df_tr = df_test_idx.loc[m]\n",
    "    cos_arr = np.zeros([df_tr.shape[0]])\n",
    "    for t in types_3J:\n",
    "        pairs_list = gen_pairs_list(df_test_idx, df_structures_idx, m, t)\n",
    "        if len(pairs_list) == 0:\n",
    "            continue\n",
    "        for pair in pairs_list:\n",
    "            col_cos = np.hstack([col_cos, get_cos_3J(df_structures_idx, m, pair)[0,0]])\n",
    "            id_arr = np.hstack([id_arr, pair[4]])\n",
    "\n",
    "se_id = pd.Series(id_arr, name='id', dtype='int')\n",
    "se_cos = pd.Series(col_cos, name='cos_3j')\n",
    "df_cos_3j = pd.concat([se_id, se_cos], axis=1)\n",
    "\n",
    "elapsed_time = time.time() - start\n",
    "print (\"elapsed_time:{0}\".format(elapsed_time) + \"[sec]\")"
   ]
  },
  {
   "cell_type": "code",
   "execution_count": 9,
   "metadata": {},
   "outputs": [],
   "source": [
    "df_cos_3j.to_csv(OUTPUT + '20190622_cos_3j_test.csv', index=False)"
   ]
  },
  {
   "cell_type": "code",
   "execution_count": null,
   "metadata": {},
   "outputs": [],
   "source": []
  }
 ],
 "metadata": {
  "kernelspec": {
   "display_name": "Python 3",
   "language": "python",
   "name": "python3"
  },
  "language_info": {
   "codemirror_mode": {
    "name": "ipython",
    "version": 3
   },
   "file_extension": ".py",
   "mimetype": "text/x-python",
   "name": "python",
   "nbconvert_exporter": "python",
   "pygments_lexer": "ipython3",
   "version": "3.6.8"
  }
 },
 "nbformat": 4,
 "nbformat_minor": 2
}
