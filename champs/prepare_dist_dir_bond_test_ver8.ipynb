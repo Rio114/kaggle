{
 "cells": [
  {
   "cell_type": "code",
   "execution_count": 1,
   "metadata": {},
   "outputs": [],
   "source": [
    "import os\n",
    "import pandas as pd\n",
    "import numpy as np\n",
    "import time\n",
    "import gc\n",
    "import pickle\n",
    "\n",
    "import random\n",
    "random.seed(0)"
   ]
  },
  {
   "cell_type": "code",
   "execution_count": 2,
   "metadata": {},
   "outputs": [],
   "source": [
    "from process import assign_atoms_index, get_pickup"
   ]
  },
  {
   "cell_type": "code",
   "execution_count": 3,
   "metadata": {},
   "outputs": [],
   "source": [
    "FOLDER = '../../data_kaggle/champs/'\n",
    "OUTPUT = FOLDER + 'out/'\n",
    "PROCESSED_NO = 0\n",
    "PROCESSED = '20190721_dist_bond_dir_test_temp{}.pickle'.format(PROCESSED_NO)\n",
    "NUM_COL = 12\n",
    "NUM_FEATURE = NUM_COL*5*5"
   ]
  },
  {
   "cell_type": "code",
   "execution_count": 4,
   "metadata": {},
   "outputs": [],
   "source": [
    "# df_mulliken_charges = pd.read_csv(FOLDER + 'mulliken_charges.csv')\n",
    "# df_sample =  pd.read_csv(FOLDER + 'sample_submission.csv')\n",
    "# df_magnetic_shielding_tensors = pd.read_csv(FOLDER + 'magnetic_shielding_tensors.csv')\n",
    "df = pd.read_csv(FOLDER + 'test.csv')\n",
    "# df_test = pd.read_csv(FOLDER + 'test.csv')\n",
    "# df_dipole_moments = pd.read_csv(FOLDER + 'dipole_moments.csv')\n",
    "# df_potential_energy = pd.read_csv(FOLDER + 'potential_energy.csv')\n",
    "df_structures = pd.read_csv(FOLDER + 'structures.csv')\n",
    "# df_scalar_coupling_contributions = pd.read_csv(FOLDER + 'scalar_coupling_contributions.csv')"
   ]
  },
  {
   "cell_type": "code",
   "execution_count": 5,
   "metadata": {},
   "outputs": [],
   "source": [
    "df_structures_idx = df_structures.set_index('molecule_name')\n",
    "df_idx = df.set_index('molecule_name')"
   ]
  },
  {
   "cell_type": "code",
   "execution_count": 6,
   "metadata": {},
   "outputs": [],
   "source": [
    "mols = df['molecule_name'].unique()"
   ]
  },
  {
   "cell_type": "code",
   "execution_count": 7,
   "metadata": {
    "scrolled": false
   },
   "outputs": [
    {
     "name": "stderr",
     "output_type": "stream",
     "text": [
      "/home/ryoji/Documents/git/kaggle/champs/process.py:60: RuntimeWarning: invalid value encountered in true_divide\n",
      "  out = (proj_1*proj_2).sum(axis=1) / np.linalg.norm(proj_1, axis=1) / np.linalg.norm(proj_2, axis=1)\n"
     ]
    },
    {
     "name": "stdout",
     "output_type": "stream",
     "text": [
      "elapsed_time:686.9316694736481[sec]\n"
     ]
    }
   ],
   "source": [
    "dist_mat = np.zeros([0, NUM_FEATURE])\n",
    "num_div = len(mols) // 8\n",
    "atoms_idx = np.zeros([0], dtype=np.int32)\n",
    "molecule_names = np.empty([0])\n",
    "\n",
    "start = time.time()\n",
    "\n",
    "for mol in mols[num_div*PROCESSED_NO:num_div*(1+PROCESSED_NO)]:\n",
    "    assigned_idxs = assign_atoms_index(df_idx, mol)\n",
    "    dist_mat_mole = get_pickup(df_idx, df_structures_idx, mol, num_pickup=NUM_COL)\n",
    "    mol_name_arr = [mol] * len(assigned_idxs) \n",
    "    \n",
    "    molecule_names = np.hstack([molecule_names, mol_name_arr])\n",
    "    atoms_idx = np.hstack([atoms_idx, assigned_idxs])\n",
    "    dist_mat = np.vstack([dist_mat, dist_mat_mole])\n",
    "    \n",
    "col_name_list = []\n",
    "atoms = ['H', 'C', 'N', 'O', 'F']\n",
    "for a in atoms:\n",
    "    for n in range(NUM_COL):\n",
    "        col_name_list.append('dist_{}_{}'.format(a, n))\n",
    "    for n in range(NUM_COL):\n",
    "        col_name_list.append('angle_{}_{}'.format(a, n))\n",
    "    for n in range(NUM_COL):\n",
    "        col_name_list.append('orientation_{}_{}'.format(a, n))\n",
    "    for n in range(NUM_COL):\n",
    "        col_name_list.append('bond_cos2_{}_{}'.format(a, n))\n",
    "    for n in range(NUM_COL):\n",
    "        col_name_list.append('bond_cos3_{}_{}'.format(a, n))\n",
    "        \n",
    "se_mole = pd.Series(molecule_names, name='molecule_name')\n",
    "se_atom_idx = pd.Series(atoms_idx, name='atom_index').astype('int32')\n",
    "df_dist = pd.DataFrame(dist_mat, columns=col_name_list).astype('float32')\n",
    "df_distance = pd.concat([se_mole, se_atom_idx,df_dist], axis=1)\n",
    "\n",
    "elapsed_time = time.time() - start\n",
    "print (\"elapsed_time:{0}\".format(elapsed_time) + \"[sec]\")"
   ]
  },
  {
   "cell_type": "code",
   "execution_count": 8,
   "metadata": {},
   "outputs": [],
   "source": [
    "for i in range(NUM_COL):\n",
    "    del df_distance['bond_cos2_H_{}'.format(i)]\n",
    "    del df_distance['bond_cos2_O_{}'.format(i)]\n",
    "    del df_distance['bond_cos2_F_{}'.format(i)]\n",
    "    del df_distance['bond_cos3_H_{}'.format(i)]\n",
    "    del df_distance['bond_cos3_O_{}'.format(i)]\n",
    "    del df_distance['bond_cos3_F_{}'.format(i)]"
   ]
  },
  {
   "cell_type": "code",
   "execution_count": 9,
   "metadata": {},
   "outputs": [],
   "source": [
    "nums = [NUM_COL, 8, 3, 3, 2]\n",
    "for a, n in zip(atoms, nums):\n",
    "    for i in range(n, NUM_COL):\n",
    "        del df_distance['dist_{}_{}'.format(a, i)]\n",
    "        del df_distance['angle_{}_{}'.format(a, i)]\n",
    "        del df_distance['orientation_{}_{}'.format(a, i)]"
   ]
  },
  {
   "cell_type": "code",
   "execution_count": 10,
   "metadata": {},
   "outputs": [],
   "source": [
    "del_list = ['bond_cos2_C_8', 'bond_cos2_C_9', 'bond_cos2_C_10', 'bond_cos2_C_11',\n",
    "            'bond_cos3_C_8', 'bond_cos3_C_9', 'bond_cos3_C_10', 'bond_cos3_C_11',\n",
    "            'bond_cos2_N_3', 'bond_cos2_N_4', 'bond_cos2_N_5', 'bond_cos2_N_6', 'bond_cos2_N_7', 'bond_cos2_N_8', 'bond_cos2_N_9', 'bond_cos2_N_10', 'bond_cos2_N_11',\n",
    "            'bond_cos3_N_3', 'bond_cos3_N_4', 'bond_cos3_N_5', 'bond_cos3_N_6', 'bond_cos3_N_7', 'bond_cos3_N_8', 'bond_cos3_N_9', 'bond_cos3_N_10', 'bond_cos3_N_11']\n",
    "for d in del_list:\n",
    "    del df_distance[d]"
   ]
  },
  {
   "cell_type": "code",
   "execution_count": 11,
   "metadata": {},
   "outputs": [
    {
     "data": {
      "text/plain": [
       "(85136, 108)"
      ]
     },
     "execution_count": 11,
     "metadata": {},
     "output_type": "execute_result"
    }
   ],
   "source": [
    "df_distance.shape"
   ]
  },
  {
   "cell_type": "code",
   "execution_count": 12,
   "metadata": {},
   "outputs": [
    {
     "data": {
      "text/html": [
       "<div>\n",
       "<style scoped>\n",
       "    .dataframe tbody tr th:only-of-type {\n",
       "        vertical-align: middle;\n",
       "    }\n",
       "\n",
       "    .dataframe tbody tr th {\n",
       "        vertical-align: top;\n",
       "    }\n",
       "\n",
       "    .dataframe thead th {\n",
       "        text-align: right;\n",
       "    }\n",
       "</style>\n",
       "<table border=\"1\" class=\"dataframe\">\n",
       "  <thead>\n",
       "    <tr style=\"text-align: right;\">\n",
       "      <th></th>\n",
       "      <th>molecule_name</th>\n",
       "      <th>atom_index</th>\n",
       "      <th>dist_H_0</th>\n",
       "      <th>dist_H_1</th>\n",
       "      <th>dist_H_2</th>\n",
       "      <th>dist_H_3</th>\n",
       "      <th>dist_H_4</th>\n",
       "      <th>dist_H_5</th>\n",
       "      <th>dist_H_6</th>\n",
       "      <th>dist_H_7</th>\n",
       "      <th>...</th>\n",
       "      <th>angle_O_2</th>\n",
       "      <th>orientation_O_0</th>\n",
       "      <th>orientation_O_1</th>\n",
       "      <th>orientation_O_2</th>\n",
       "      <th>dist_F_0</th>\n",
       "      <th>dist_F_1</th>\n",
       "      <th>angle_F_0</th>\n",
       "      <th>angle_F_1</th>\n",
       "      <th>orientation_F_0</th>\n",
       "      <th>orientation_F_1</th>\n",
       "    </tr>\n",
       "  </thead>\n",
       "  <tbody>\n",
       "    <tr>\n",
       "      <th>0</th>\n",
       "      <td>dsgdb9nsd_000004</td>\n",
       "      <td>0</td>\n",
       "      <td>0.941532</td>\n",
       "      <td>0.442247</td>\n",
       "      <td>0.000000</td>\n",
       "      <td>0.000000</td>\n",
       "      <td>0.000000</td>\n",
       "      <td>0.000000</td>\n",
       "      <td>0.0</td>\n",
       "      <td>0.0</td>\n",
       "      <td>...</td>\n",
       "      <td>1.0</td>\n",
       "      <td>1.000000</td>\n",
       "      <td>1.0</td>\n",
       "      <td>1.0</td>\n",
       "      <td>0.0</td>\n",
       "      <td>0.0</td>\n",
       "      <td>1.0</td>\n",
       "      <td>1.0</td>\n",
       "      <td>1.0</td>\n",
       "      <td>1.0</td>\n",
       "    </tr>\n",
       "    <tr>\n",
       "      <th>1</th>\n",
       "      <td>dsgdb9nsd_000004</td>\n",
       "      <td>1</td>\n",
       "      <td>0.941532</td>\n",
       "      <td>0.442247</td>\n",
       "      <td>0.000000</td>\n",
       "      <td>0.000000</td>\n",
       "      <td>0.000000</td>\n",
       "      <td>0.000000</td>\n",
       "      <td>0.0</td>\n",
       "      <td>0.0</td>\n",
       "      <td>...</td>\n",
       "      <td>1.0</td>\n",
       "      <td>1.000000</td>\n",
       "      <td>1.0</td>\n",
       "      <td>1.0</td>\n",
       "      <td>0.0</td>\n",
       "      <td>0.0</td>\n",
       "      <td>1.0</td>\n",
       "      <td>1.0</td>\n",
       "      <td>1.0</td>\n",
       "      <td>1.0</td>\n",
       "    </tr>\n",
       "    <tr>\n",
       "      <th>2</th>\n",
       "      <td>dsgdb9nsd_000004</td>\n",
       "      <td>2</td>\n",
       "      <td>0.300908</td>\n",
       "      <td>0.000000</td>\n",
       "      <td>0.000000</td>\n",
       "      <td>0.000000</td>\n",
       "      <td>0.000000</td>\n",
       "      <td>0.000000</td>\n",
       "      <td>0.0</td>\n",
       "      <td>0.0</td>\n",
       "      <td>...</td>\n",
       "      <td>1.0</td>\n",
       "      <td>1.000000</td>\n",
       "      <td>1.0</td>\n",
       "      <td>1.0</td>\n",
       "      <td>0.0</td>\n",
       "      <td>0.0</td>\n",
       "      <td>1.0</td>\n",
       "      <td>1.0</td>\n",
       "      <td>1.0</td>\n",
       "      <td>1.0</td>\n",
       "    </tr>\n",
       "    <tr>\n",
       "      <th>3</th>\n",
       "      <td>dsgdb9nsd_000004</td>\n",
       "      <td>3</td>\n",
       "      <td>0.300908</td>\n",
       "      <td>0.000000</td>\n",
       "      <td>0.000000</td>\n",
       "      <td>0.000000</td>\n",
       "      <td>0.000000</td>\n",
       "      <td>0.000000</td>\n",
       "      <td>0.0</td>\n",
       "      <td>0.0</td>\n",
       "      <td>...</td>\n",
       "      <td>1.0</td>\n",
       "      <td>1.000000</td>\n",
       "      <td>1.0</td>\n",
       "      <td>1.0</td>\n",
       "      <td>0.0</td>\n",
       "      <td>0.0</td>\n",
       "      <td>1.0</td>\n",
       "      <td>1.0</td>\n",
       "      <td>1.0</td>\n",
       "      <td>1.0</td>\n",
       "    </tr>\n",
       "    <tr>\n",
       "      <th>4</th>\n",
       "      <td>dsgdb9nsd_000015</td>\n",
       "      <td>0</td>\n",
       "      <td>0.915037</td>\n",
       "      <td>0.907172</td>\n",
       "      <td>0.907171</td>\n",
       "      <td>0.378793</td>\n",
       "      <td>0.378749</td>\n",
       "      <td>0.306507</td>\n",
       "      <td>0.0</td>\n",
       "      <td>0.0</td>\n",
       "      <td>...</td>\n",
       "      <td>1.0</td>\n",
       "      <td>0.476823</td>\n",
       "      <td>1.0</td>\n",
       "      <td>1.0</td>\n",
       "      <td>0.0</td>\n",
       "      <td>0.0</td>\n",
       "      <td>1.0</td>\n",
       "      <td>1.0</td>\n",
       "      <td>1.0</td>\n",
       "      <td>1.0</td>\n",
       "    </tr>\n",
       "  </tbody>\n",
       "</table>\n",
       "<p>5 rows × 108 columns</p>\n",
       "</div>"
      ],
      "text/plain": [
       "      molecule_name  atom_index  dist_H_0  dist_H_1  dist_H_2  dist_H_3  \\\n",
       "0  dsgdb9nsd_000004           0  0.941532  0.442247  0.000000  0.000000   \n",
       "1  dsgdb9nsd_000004           1  0.941532  0.442247  0.000000  0.000000   \n",
       "2  dsgdb9nsd_000004           2  0.300908  0.000000  0.000000  0.000000   \n",
       "3  dsgdb9nsd_000004           3  0.300908  0.000000  0.000000  0.000000   \n",
       "4  dsgdb9nsd_000015           0  0.915037  0.907172  0.907171  0.378793   \n",
       "\n",
       "   dist_H_4  dist_H_5  dist_H_6  dist_H_7  ...  angle_O_2  orientation_O_0  \\\n",
       "0  0.000000  0.000000       0.0       0.0  ...        1.0         1.000000   \n",
       "1  0.000000  0.000000       0.0       0.0  ...        1.0         1.000000   \n",
       "2  0.000000  0.000000       0.0       0.0  ...        1.0         1.000000   \n",
       "3  0.000000  0.000000       0.0       0.0  ...        1.0         1.000000   \n",
       "4  0.378749  0.306507       0.0       0.0  ...        1.0         0.476823   \n",
       "\n",
       "   orientation_O_1  orientation_O_2  dist_F_0  dist_F_1  angle_F_0  angle_F_1  \\\n",
       "0              1.0              1.0       0.0       0.0        1.0        1.0   \n",
       "1              1.0              1.0       0.0       0.0        1.0        1.0   \n",
       "2              1.0              1.0       0.0       0.0        1.0        1.0   \n",
       "3              1.0              1.0       0.0       0.0        1.0        1.0   \n",
       "4              1.0              1.0       0.0       0.0        1.0        1.0   \n",
       "\n",
       "   orientation_F_0  orientation_F_1  \n",
       "0              1.0              1.0  \n",
       "1              1.0              1.0  \n",
       "2              1.0              1.0  \n",
       "3              1.0              1.0  \n",
       "4              1.0              1.0  \n",
       "\n",
       "[5 rows x 108 columns]"
      ]
     },
     "execution_count": 12,
     "metadata": {},
     "output_type": "execute_result"
    }
   ],
   "source": [
    "df_distance.head()"
   ]
  },
  {
   "cell_type": "code",
   "execution_count": 13,
   "metadata": {
    "scrolled": true
   },
   "outputs": [],
   "source": [
    "df_distance.to_pickle(OUTPUT + PROCESSED)"
   ]
  },
  {
   "cell_type": "code",
   "execution_count": null,
   "metadata": {},
   "outputs": [],
   "source": []
  }
 ],
 "metadata": {
  "kernelspec": {
   "display_name": "Python 3",
   "language": "python",
   "name": "python3"
  },
  "language_info": {
   "codemirror_mode": {
    "name": "ipython",
    "version": 3
   },
   "file_extension": ".py",
   "mimetype": "text/x-python",
   "name": "python",
   "nbconvert_exporter": "python",
   "pygments_lexer": "ipython3",
   "version": "3.6.8"
  }
 },
 "nbformat": 4,
 "nbformat_minor": 2
}
