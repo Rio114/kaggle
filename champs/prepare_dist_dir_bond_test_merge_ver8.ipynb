{
 "cells": [
  {
   "cell_type": "code",
   "execution_count": 1,
   "metadata": {},
   "outputs": [],
   "source": [
    "import os\n",
    "import pandas as pd\n",
    "import numpy as np\n",
    "import time\n",
    "import gc\n",
    "import pickle"
   ]
  },
  {
   "cell_type": "code",
   "execution_count": 2,
   "metadata": {},
   "outputs": [],
   "source": [
    "from process import merge_atom"
   ]
  },
  {
   "cell_type": "code",
   "execution_count": 3,
   "metadata": {},
   "outputs": [],
   "source": [
    "FOLDER = '../../data_kaggle/champs/'\n",
    "OUTPUT = FOLDER + 'out/'"
   ]
  },
  {
   "cell_type": "code",
   "execution_count": 4,
   "metadata": {},
   "outputs": [],
   "source": [
    "df_distance_list = []\n",
    "for i in range(8):\n",
    "    df_distance_list.append(pd.read_pickle(OUTPUT + '20190721_dist_bond_dir_test_temp{}.pickle'.format(i)))\n",
    "\n",
    "df_distance = pd.concat(df_distance_list, axis=0)"
   ]
  },
  {
   "cell_type": "code",
   "execution_count": 5,
   "metadata": {},
   "outputs": [],
   "source": [
    "df_train = pd.read_csv(FOLDER + 'test.csv')"
   ]
  },
  {
   "cell_type": "code",
   "execution_count": 6,
   "metadata": {},
   "outputs": [],
   "source": [
    "df_cos_3j = pd.read_pickle(OUTPUT + '20190711_cos_3j_3_test.pickle')"
   ]
  },
  {
   "cell_type": "code",
   "execution_count": 7,
   "metadata": {},
   "outputs": [
    {
     "name": "stdout",
     "output_type": "stream",
     "text": [
      "(613138, 220)\n",
      "(380609, 220)\n",
      "(317435, 220)\n",
      "(811999, 220)\n",
      "(203126, 220)\n",
      "(24195, 220)\n",
      "(90616, 220)\n",
      "(64424, 220)\n"
     ]
    }
   ],
   "source": [
    "bond_types = df_train['type'].unique()\n",
    "\n",
    "for b in bond_types:\n",
    "    df_train_dist = merge_atom(df_train.query('type == \"{}\"'.format(b)), df_distance)\n",
    "    df_train_dist_cos = pd.merge(df_train_dist, df_cos_3j, on='id', how='left')                           \n",
    "    df_train_dist_cos.to_pickle(OUTPUT + '20190721_dist_ang_ori_bond_cos_test_{}.pickle'.format(b))\n",
    "    print(df_train_dist_cos.shape)\n",
    "    del df_train_dist_cos\n",
    "    gc.collect()"
   ]
  },
  {
   "cell_type": "code",
   "execution_count": 8,
   "metadata": {},
   "outputs": [],
   "source": [
    "# (613138, 228)\n",
    "# (380609, 228)\n",
    "# (317435, 228)\n",
    "# (811999, 228)\n",
    "# (203126, 228)\n",
    "# (24195, 228)\n",
    "# (90616, 228)\n",
    "# (64424, 228)\n"
   ]
  },
  {
   "cell_type": "code",
   "execution_count": null,
   "metadata": {},
   "outputs": [],
   "source": []
  }
 ],
 "metadata": {
  "kernelspec": {
   "display_name": "Python 3",
   "language": "python",
   "name": "python3"
  },
  "language_info": {
   "codemirror_mode": {
    "name": "ipython",
    "version": 3
   },
   "file_extension": ".py",
   "mimetype": "text/x-python",
   "name": "python",
   "nbconvert_exporter": "python",
   "pygments_lexer": "ipython3",
   "version": "3.6.8"
  }
 },
 "nbformat": 4,
 "nbformat_minor": 2
}
