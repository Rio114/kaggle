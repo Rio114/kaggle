{
 "cells": [
  {
   "cell_type": "code",
   "execution_count": 1,
   "metadata": {},
   "outputs": [],
   "source": [
    "import os\n",
    "import pandas as pd\n",
    "import numpy as np\n",
    "import matplotlib.pyplot as plt\n",
    "import time"
   ]
  },
  {
   "cell_type": "code",
   "execution_count": 2,
   "metadata": {},
   "outputs": [
    {
     "data": {
      "text/plain": [
       "['mulliken_charges.csv',\n",
       " 'sample_submission.csv',\n",
       " 'magnetic_shielding_tensors.csv',\n",
       " 'train.csv',\n",
       " 'test.csv',\n",
       " 'dipole_moments.csv',\n",
       " 'potential_energy.csv',\n",
       " 'structures.csv',\n",
       " 'out',\n",
       " 'scalar_coupling_contributions.csv',\n",
       " 'dsgdb9nsd_000001.xyz',\n",
       " 'structures.zip']"
      ]
     },
     "execution_count": 2,
     "metadata": {},
     "output_type": "execute_result"
    }
   ],
   "source": [
    "FOLDER = '../../data_kaggle/champs/'\n",
    "OUTPUT = FOLDER + 'out/'\n",
    "os.listdir(FOLDER)"
   ]
  },
  {
   "cell_type": "code",
   "execution_count": 3,
   "metadata": {},
   "outputs": [],
   "source": [
    "# df_mulliken_charges = pd.read_csv(FOLDER + 'mulliken_charges.csv')\n",
    "# df_sample =  pd.read_csv(FOLDER + 'sample_submission.csv')\n",
    "# df_magnetic_shielding_tensors = pd.read_csv(FOLDER + 'magnetic_shielding_tensors.csv')\n",
    "df_train = pd.read_csv(FOLDER + 'train.csv')\n",
    "# df_test = pd.read_csv(FOLDER + 'test.csv')\n",
    "# df_dipole_moments = pd.read_csv(FOLDER + 'dipole_moments.csv')\n",
    "# df_potential_energy = pd.read_csv(FOLDER + 'potential_energy.csv')\n",
    "df_structures = pd.read_csv(FOLDER + 'structures.csv')\n",
    "# df_scalar_coupling_contributions = pd.read_csv(FOLDER + 'scalar_coupling_contributions.csv')"
   ]
  },
  {
   "cell_type": "code",
   "execution_count": null,
   "metadata": {},
   "outputs": [],
   "source": [
    "def assign_atoms_index(df, molecule):\n",
    "    se_0 = df.query('molecule_name == \"{}\"'.format(molecule))['atom_index_0']\n",
    "    se_1 = df.query('molecule_name == \"{}\"'.format(molecule))['atom_index_1']\n",
    "    se = pd.concat([se_0, se_1])\n",
    "    return se.unique()"
   ]
  },
  {
   "cell_type": "code",
   "execution_count": null,
   "metadata": {},
   "outputs": [],
   "source": [
    "def gen_dist_matrix(df_structure, mole_name, assigned_atoms_idx, num):\n",
    "    atoms = ['H', 'C', 'N', 'O', 'F']\n",
    "    dist_matrix_list = []\n",
    "    for atom_idx0 in assigned_atoms_idx:\n",
    "        loc0 = df_structures.query('molecule_name == \"{}\" and atom_index == {}'.format(mole_name, atom_idx0))[['x','y','z']].values.reshape(-1)\n",
    "        atom_name0 = df_structures.query('molecule_name == \"{}\" and atom_index == {}'.format(mole_name, atom_idx0))['atom'].values[0] \n",
    "        \n",
    "        atom_mole = df_structures.query('molecule_name == \"{}\"'.format(mole_name))['atom_index'].values\n",
    "        mask = atom_mole != atom_idx0\n",
    "        atom_idx_excl0 = atom_mole[mask]\n",
    "\n",
    "        dist_list = []\n",
    "        atom_list = []\n",
    "        for i in atom_idx_excl0:\n",
    "            loc1 = df_structures.query('molecule_name == \"{}\" and atom_index == {}'.format(mole_name, i))[['x','y','z']].values.reshape(-1)\n",
    "            atom_name1 = df_structures.query('molecule_name == \"{}\" and atom_index == {}'.format(mole_name, i))['atom'].values[0]\n",
    "            dist_list.append(1.0 / sum((loc0 - loc1)**2))\n",
    "            atom_list.append(atom_name1)\n",
    "\n",
    "        dist_arr = np.array(dist_list)\n",
    "        atom_arr = np.array(atom_list)\n",
    "\n",
    "        dist_arr_sorted = -np.sort(-dist_arr)\n",
    "        atom_arr_sorted = atom_arr[np.argsort(-dist_arr)]\n",
    "\n",
    "        dist_matrix = np.zeros([len(atoms), num])\n",
    "        for j, atom in enumerate(atoms):\n",
    "            len_sorted = len(dist_arr_sorted[atom_arr_sorted == atom])\n",
    "            if num < len_sorted:\n",
    "                dist_matrix[j, :] = dist_arr_sorted[atom_arr_sorted == atom][:num]\n",
    "            else:\n",
    "                dist_matrix[j, :len_sorted] = dist_arr_sorted[atom_arr_sorted == atom]\n",
    "\n",
    "        dist_matrix_list.append(dist_matrix.reshape(-1))\n",
    "    return np.array(dist_matrix_list)"
   ]
  },
  {
   "cell_type": "code",
   "execution_count": null,
   "metadata": {
    "scrolled": true
   },
   "outputs": [],
   "source": [
    "num = 5\n",
    "mole_names = list(df_train['molecule_name'].value_counts().index)[:200]\n",
    "dist_mat = np.zeros([0, num*5])\n",
    "atoms_idx = np.zeros([0], dtype=np.int32)\n",
    "molecule_names = np.empty([0])\n",
    "\n",
    "start = time.time()\n",
    "\n",
    "for name in mole_names:\n",
    "    assigned_atoms_idx = assign_atoms_index(df_train, name)\n",
    "    dist_mat_mole = gen_dist_matrix(df_structures, name, assigned_atoms_idx, num)\n",
    "    name_arr = [name] * len(assigned_atoms_idx) \n",
    "    \n",
    "    molecule_names = np.hstack([molecule_names, name_arr])\n",
    "    atoms_idx = np.hstack([atoms_idx, assigned_atoms_idx])\n",
    "    dist_mat = np.vstack([dist_mat, dist_mat_mole])\n",
    "    \n",
    "col_name_list = []\n",
    "atoms = ['H', 'C', 'N', 'O', 'F']\n",
    "for a in atoms:\n",
    "    for n in range(num):\n",
    "        col_name_list.append('dist_{}_{}'.format(a, n))\n",
    "        \n",
    "se_mole = pd.Series(molecule_names, name='molecule_name')\n",
    "se_atom_idx = pd.Series(atoms_idx, name='atom_index')\n",
    "df_dist = pd.DataFrame(dist_mat, columns=col_name_list)\n",
    "df_distance = pd.concat([se_mole, se_atom_idx,df_dist], axis=1)\n",
    "\n",
    "elapsed_time = time.time() - start\n",
    "print (\"elapsed_time:{0}\".format(elapsed_time) + \"[sec]\")"
   ]
  },
  {
   "cell_type": "code",
   "execution_count": null,
   "metadata": {
    "scrolled": true
   },
   "outputs": [],
   "source": [
    "df_distance.to_csv(OUTPUT + 'dictance1.csv', index=False)"
   ]
  },
  {
   "cell_type": "code",
   "execution_count": null,
   "metadata": {},
   "outputs": [],
   "source": []
  }
 ],
 "metadata": {
  "kernelspec": {
   "display_name": "Python 3",
   "language": "python",
   "name": "python3"
  },
  "language_info": {
   "codemirror_mode": {
    "name": "ipython",
    "version": 3
   },
   "file_extension": ".py",
   "mimetype": "text/x-python",
   "name": "python",
   "nbconvert_exporter": "python",
   "pygments_lexer": "ipython3",
   "version": "3.6.7"
  }
 },
 "nbformat": 4,
 "nbformat_minor": 2
}
