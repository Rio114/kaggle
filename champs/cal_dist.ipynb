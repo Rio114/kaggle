{
 "cells": [
  {
   "cell_type": "code",
   "execution_count": 1,
   "metadata": {},
   "outputs": [],
   "source": [
    "import os\n",
    "import pandas as pd\n",
    "import numpy as np\n",
    "import matplotlib.pyplot as plt\n",
    "import time"
   ]
  },
  {
   "cell_type": "code",
   "execution_count": 2,
   "metadata": {},
   "outputs": [
    {
     "data": {
      "text/plain": [
       "['mulliken_charges.csv',\n",
       " 'sample_submission.csv',\n",
       " 'magnetic_shielding_tensors.csv',\n",
       " 'train.csv',\n",
       " 'test.csv',\n",
       " 'dipole_moments.csv',\n",
       " 'potential_energy.csv',\n",
       " 'structures.csv',\n",
       " 'out',\n",
       " 'scalar_coupling_contributions.csv',\n",
       " 'dsgdb9nsd_000001.xyz',\n",
       " 'structures.zip']"
      ]
     },
     "execution_count": 2,
     "metadata": {},
     "output_type": "execute_result"
    }
   ],
   "source": [
    "FOLDER = '../../data_kaggle/champs/'\n",
    "OUTPUT = FOLDER + 'out/'\n",
    "os.listdir(FOLDER)"
   ]
  },
  {
   "cell_type": "code",
   "execution_count": 3,
   "metadata": {},
   "outputs": [],
   "source": [
    "# df_mulliken_charges = pd.read_csv(FOLDER + 'mulliken_charges.csv')\n",
    "# df_sample =  pd.read_csv(FOLDER + 'sample_submission.csv')\n",
    "# df_magnetic_shielding_tensors = pd.read_csv(FOLDER + 'magnetic_shielding_tensors.csv')\n",
    "df_train = pd.read_csv(FOLDER + 'train.csv')\n",
    "# df_test = pd.read_csv(FOLDER + 'test.csv')\n",
    "# df_dipole_moments = pd.read_csv(FOLDER + 'dipole_moments.csv')\n",
    "# df_potential_energy = pd.read_csv(FOLDER + 'potential_energy.csv')\n",
    "df_structures = pd.read_csv(FOLDER + 'structures.csv')\n",
    "# df_scalar_coupling_contributions = pd.read_csv(FOLDER + 'scalar_coupling_contributions.csv')"
   ]
  },
  {
   "cell_type": "markdown",
   "metadata": {},
   "source": [
    "to find target bonding"
   ]
  },
  {
   "cell_type": "code",
   "execution_count": 4,
   "metadata": {},
   "outputs": [],
   "source": [
    "def assign_atoms_index(df, molecule):\n",
    "    se_0 = df.query('molecule_name == \"{}\"'.format(molecule))['atom_index_0']\n",
    "    se_1 = df.query('molecule_name == \"{}\"'.format(molecule))['atom_index_1']\n",
    "    se = pd.concat([se_0, se_1])\n",
    "    return se.unique()"
   ]
  },
  {
   "cell_type": "markdown",
   "metadata": {},
   "source": [
    "get distance between target atom and other surrounding atoms. Colomb interaction is propotional squared inverse "
   ]
  },
  {
   "cell_type": "code",
   "execution_count": 5,
   "metadata": {},
   "outputs": [],
   "source": [
    "def gen_dist_matrix(df_structure, mole_name, assigned_atoms_idx, num):\n",
    "    atoms = ['H', 'C', 'N', 'O', 'F']\n",
    "    dist_matrix_list = []\n",
    "    for atom_idx0 in assigned_atoms_idx:\n",
    "        loc0 = df_structures.query('molecule_name == \"{}\" and atom_index == {}'.format(mole_name, atom_idx0))[['x','y','z']].values.reshape(-1)\n",
    "        atom_name0 = df_structures.query('molecule_name == \"{}\" and atom_index == {}'.format(mole_name, atom_idx0))['atom'].values[0] \n",
    "        \n",
    "        atom_mole = df_structures.query('molecule_name == \"{}\"'.format(mole_name))['atom_index'].values\n",
    "        mask = atom_mole != atom_idx0\n",
    "        atom_idx_excl0 = atom_mole[mask]\n",
    "\n",
    "        dist_list = []\n",
    "        atom_list = []\n",
    "        for i in atom_idx_excl0:\n",
    "            loc1 = df_structures.query('molecule_name == \"{}\" and atom_index == {}'.format(mole_name, i))[['x','y','z']].values.reshape(-1)\n",
    "            atom_name1 = df_structures.query('molecule_name == \"{}\" and atom_index == {}'.format(mole_name, i))['atom'].values[0]\n",
    "            dist_list.append(1.0 / sum((loc0 - loc1)**2))\n",
    "            atom_list.append(atom_name1)\n",
    "\n",
    "        dist_arr = np.array(dist_list)\n",
    "        atom_arr = np.array(atom_list)\n",
    "\n",
    "        dist_arr_sorted = -np.sort(-dist_arr)\n",
    "        atom_arr_sorted = atom_arr[np.argsort(-dist_arr)]\n",
    "\n",
    "        dist_matrix = np.zeros([len(atoms), num])\n",
    "        for j, atom in enumerate(atoms):\n",
    "            len_sorted = len(dist_arr_sorted[atom_arr_sorted == atom])\n",
    "            if num < len_sorted:\n",
    "                dist_matrix[j, :] = dist_arr_sorted[atom_arr_sorted == atom][:num]\n",
    "            else:\n",
    "                dist_matrix[j, :len_sorted] = dist_arr_sorted[atom_arr_sorted == atom]\n",
    "\n",
    "        dist_matrix_list.append(dist_matrix.reshape(-1))\n",
    "    return np.array(dist_matrix_list)"
   ]
  },
  {
   "cell_type": "code",
   "execution_count": null,
   "metadata": {
    "scrolled": true
   },
   "outputs": [],
   "source": [
    "num = 5\n",
    "mole_names = list(df_train['molecule_name'].value_counts().index)[:1000]\n",
    "dist_mat = np.zeros([0, num*5])\n",
    "atoms_idx = np.zeros([0], dtype=np.int32)\n",
    "molecule_names = np.empty([0])\n",
    "\n",
    "start = time.time()\n",
    "\n",
    "for name in mole_names:\n",
    "    assigned_atoms_idx = assign_atoms_index(df_train, name)\n",
    "    dist_mat_mole = gen_dist_matrix(df_structures, name, assigned_atoms_idx, num)\n",
    "    name_arr = [name] * len(assigned_atoms_idx) \n",
    "    \n",
    "    molecule_names = np.hstack([molecule_names, name_arr])\n",
    "    atoms_idx = np.hstack([atoms_idx, assigned_atoms_idx])\n",
    "    dist_mat = np.vstack([dist_mat, dist_mat_mole])\n",
    "    \n",
    "col_name_list = []\n",
    "atoms = ['H', 'C', 'N', 'O', 'F']\n",
    "for a in atoms:\n",
    "    for n in range(num):\n",
    "        col_name_list.append('dist_{}_{}'.format(a, n))\n",
    "        \n",
    "se_mole = pd.Series(molecule_names, name='molecule_name')\n",
    "se_atom_idx = pd.Series(atoms_idx, name='atom_index')\n",
    "df_dist = pd.DataFrame(dist_mat, columns=col_name_list)\n",
    "df_distance = pd.concat([se_mole, se_atom_idx,df_dist], axis=1)\n",
    "\n",
    "elapsed_time = time.time() - start\n",
    "print (\"elapsed_time:{0}\".format(elapsed_time) + \"[sec]\")"
   ]
  },
  {
   "cell_type": "code",
   "execution_count": null,
   "metadata": {
    "scrolled": true
   },
   "outputs": [],
   "source": [
    "df_distance.to_csv(OUTPUT + 'distance1000.csv', index=False)"
   ]
  },
  {
   "cell_type": "code",
   "execution_count": 58,
   "metadata": {},
   "outputs": [],
   "source": [
    "df_dist1 = pd.read_csv(OUTPUT + 'distance1000.csv')\n",
    "# df_dist2 = pd.read_csv(OUTPUT + 'distance2000.csv')\n",
    "# df_dist3 = pd.read_csv(OUTPUT + 'distance3000.csv')\n",
    "df_dist = pd.concat([df_dist1, df_dist2, df_dist3], axis=0)"
   ]
  },
  {
   "cell_type": "code",
   "execution_count": 193,
   "metadata": {},
   "outputs": [],
   "source": [
    "mols = df_dist['molecule_name'].value_counts().index\n",
    "df_train_ext = df_train[df_train['molecule_name'].isin(mols)]"
   ]
  },
  {
   "cell_type": "code",
   "execution_count": 194,
   "metadata": {
    "scrolled": false
   },
   "outputs": [],
   "source": [
    "df_train_temp = df_train_ext.query('molecule_name == \"{}\"'.format(m))"
   ]
  },
  {
   "cell_type": "code",
   "execution_count": 195,
   "metadata": {},
   "outputs": [
    {
     "data": {
      "text/html": [
       "<div>\n",
       "<style scoped>\n",
       "    .dataframe tbody tr th:only-of-type {\n",
       "        vertical-align: middle;\n",
       "    }\n",
       "\n",
       "    .dataframe tbody tr th {\n",
       "        vertical-align: top;\n",
       "    }\n",
       "\n",
       "    .dataframe thead th {\n",
       "        text-align: right;\n",
       "    }\n",
       "</style>\n",
       "<table border=\"1\" class=\"dataframe\">\n",
       "  <thead>\n",
       "    <tr style=\"text-align: right;\">\n",
       "      <th></th>\n",
       "      <th>id</th>\n",
       "      <th>molecule_name</th>\n",
       "      <th>atom_index_0</th>\n",
       "      <th>atom_index_1</th>\n",
       "      <th>type</th>\n",
       "      <th>scalar_coupling_constant</th>\n",
       "    </tr>\n",
       "  </thead>\n",
       "  <tbody>\n",
       "    <tr>\n",
       "      <th>1531758</th>\n",
       "      <td>1531758</td>\n",
       "      <td>dsgdb9nsd_049709</td>\n",
       "      <td>9</td>\n",
       "      <td>1</td>\n",
       "      <td>1JHC</td>\n",
       "      <td>106.960000</td>\n",
       "    </tr>\n",
       "    <tr>\n",
       "      <th>1531759</th>\n",
       "      <td>1531759</td>\n",
       "      <td>dsgdb9nsd_049709</td>\n",
       "      <td>9</td>\n",
       "      <td>2</td>\n",
       "      <td>2JHC</td>\n",
       "      <td>29.062700</td>\n",
       "    </tr>\n",
       "    <tr>\n",
       "      <th>1531760</th>\n",
       "      <td>1531760</td>\n",
       "      <td>dsgdb9nsd_049709</td>\n",
       "      <td>9</td>\n",
       "      <td>3</td>\n",
       "      <td>3JHC</td>\n",
       "      <td>-0.279606</td>\n",
       "    </tr>\n",
       "    <tr>\n",
       "      <th>1531761</th>\n",
       "      <td>1531761</td>\n",
       "      <td>dsgdb9nsd_049709</td>\n",
       "      <td>9</td>\n",
       "      <td>6</td>\n",
       "      <td>3JHC</td>\n",
       "      <td>3.193280</td>\n",
       "    </tr>\n",
       "    <tr>\n",
       "      <th>1531762</th>\n",
       "      <td>1531762</td>\n",
       "      <td>dsgdb9nsd_049709</td>\n",
       "      <td>9</td>\n",
       "      <td>10</td>\n",
       "      <td>3JHH</td>\n",
       "      <td>0.763431</td>\n",
       "    </tr>\n",
       "  </tbody>\n",
       "</table>\n",
       "</div>"
      ],
      "text/plain": [
       "              id     molecule_name  atom_index_0  atom_index_1  type  \\\n",
       "1531758  1531758  dsgdb9nsd_049709             9             1  1JHC   \n",
       "1531759  1531759  dsgdb9nsd_049709             9             2  2JHC   \n",
       "1531760  1531760  dsgdb9nsd_049709             9             3  3JHC   \n",
       "1531761  1531761  dsgdb9nsd_049709             9             6  3JHC   \n",
       "1531762  1531762  dsgdb9nsd_049709             9            10  3JHH   \n",
       "\n",
       "         scalar_coupling_constant  \n",
       "1531758                106.960000  \n",
       "1531759                 29.062700  \n",
       "1531760                 -0.279606  \n",
       "1531761                  3.193280  \n",
       "1531762                  0.763431  "
      ]
     },
     "execution_count": 195,
     "metadata": {},
     "output_type": "execute_result"
    }
   ],
   "source": [
    "df_train_temp.head()"
   ]
  },
  {
   "cell_type": "code",
   "execution_count": 197,
   "metadata": {},
   "outputs": [
    {
     "data": {
      "text/plain": [
       "1911"
      ]
     },
     "execution_count": 197,
     "metadata": {},
     "output_type": "execute_result"
    }
   ],
   "source": [
    "len(mols)"
   ]
  },
  {
   "cell_type": "code",
   "execution_count": 198,
   "metadata": {
    "scrolled": true
   },
   "outputs": [
    {
     "ename": "KeyboardInterrupt",
     "evalue": "",
     "output_type": "error",
     "traceback": [
      "\u001b[0;31m---------------------------------------------------------------------------\u001b[0m",
      "\u001b[0;31mKeyboardInterrupt\u001b[0m                         Traceback (most recent call last)",
      "\u001b[0;32m<ipython-input-198-cc9a5a1ad891>\u001b[0m in \u001b[0;36m<module>\u001b[0;34m\u001b[0m\n\u001b[1;32m     25\u001b[0m         \u001b[0mdist_arr1\u001b[0m \u001b[0;34m=\u001b[0m \u001b[0mdf_dist_temp\u001b[0m\u001b[0;34m.\u001b[0m\u001b[0mquery\u001b[0m\u001b[0;34m(\u001b[0m\u001b[0;34m'atom_index == {}'\u001b[0m\u001b[0;34m.\u001b[0m\u001b[0mformat\u001b[0m\u001b[0;34m(\u001b[0m\u001b[0matom1\u001b[0m\u001b[0;34m)\u001b[0m\u001b[0;34m)\u001b[0m\u001b[0;34m.\u001b[0m\u001b[0mvalues\u001b[0m\u001b[0;34m[\u001b[0m\u001b[0;36m0\u001b[0m\u001b[0;34m,\u001b[0m \u001b[0;36m2\u001b[0m\u001b[0;34m:\u001b[0m\u001b[0;34m]\u001b[0m\u001b[0;34m.\u001b[0m\u001b[0mastype\u001b[0m\u001b[0;34m(\u001b[0m\u001b[0mnp\u001b[0m\u001b[0;34m.\u001b[0m\u001b[0mfloat32\u001b[0m\u001b[0;34m)\u001b[0m\u001b[0;34m\u001b[0m\u001b[0;34m\u001b[0m\u001b[0m\n\u001b[1;32m     26\u001b[0m         \u001b[0mdist_arr_bond\u001b[0m \u001b[0;34m=\u001b[0m \u001b[0mnp\u001b[0m\u001b[0;34m.\u001b[0m\u001b[0mhstack\u001b[0m\u001b[0;34m(\u001b[0m\u001b[0;34m[\u001b[0m\u001b[0mdist_arr0\u001b[0m\u001b[0;34m,\u001b[0m \u001b[0mdist_arr1\u001b[0m\u001b[0;34m]\u001b[0m\u001b[0;34m)\u001b[0m\u001b[0;34m\u001b[0m\u001b[0;34m\u001b[0m\u001b[0m\n\u001b[0;32m---> 27\u001b[0;31m         \u001b[0mdist_arr\u001b[0m \u001b[0;34m=\u001b[0m \u001b[0mnp\u001b[0m\u001b[0;34m.\u001b[0m\u001b[0mvstack\u001b[0m\u001b[0;34m(\u001b[0m\u001b[0;34m[\u001b[0m\u001b[0mdist_arr\u001b[0m\u001b[0;34m,\u001b[0m \u001b[0mdist_arr_bond\u001b[0m\u001b[0;34m]\u001b[0m\u001b[0;34m)\u001b[0m\u001b[0;34m\u001b[0m\u001b[0;34m\u001b[0m\u001b[0m\n\u001b[0m",
      "\u001b[0;32m~/Documents/git/kaggle/ml/lib/python3.6/site-packages/numpy/core/shape_base.py\u001b[0m in \u001b[0;36mvstack\u001b[0;34m(tup)\u001b[0m\n\u001b[1;32m    281\u001b[0m     \"\"\"\n\u001b[1;32m    282\u001b[0m     \u001b[0m_warn_for_nonsequence\u001b[0m\u001b[0;34m(\u001b[0m\u001b[0mtup\u001b[0m\u001b[0;34m)\u001b[0m\u001b[0;34m\u001b[0m\u001b[0;34m\u001b[0m\u001b[0m\n\u001b[0;32m--> 283\u001b[0;31m     \u001b[0;32mreturn\u001b[0m \u001b[0m_nx\u001b[0m\u001b[0;34m.\u001b[0m\u001b[0mconcatenate\u001b[0m\u001b[0;34m(\u001b[0m\u001b[0;34m[\u001b[0m\u001b[0matleast_2d\u001b[0m\u001b[0;34m(\u001b[0m\u001b[0m_m\u001b[0m\u001b[0;34m)\u001b[0m \u001b[0;32mfor\u001b[0m \u001b[0m_m\u001b[0m \u001b[0;32min\u001b[0m \u001b[0mtup\u001b[0m\u001b[0;34m]\u001b[0m\u001b[0;34m,\u001b[0m \u001b[0;36m0\u001b[0m\u001b[0;34m)\u001b[0m\u001b[0;34m\u001b[0m\u001b[0;34m\u001b[0m\u001b[0m\n\u001b[0m\u001b[1;32m    284\u001b[0m \u001b[0;34m\u001b[0m\u001b[0m\n\u001b[1;32m    285\u001b[0m \u001b[0;34m\u001b[0m\u001b[0m\n",
      "\u001b[0;31mKeyboardInterrupt\u001b[0m: "
     ]
    }
   ],
   "source": [
    "dist_arr = np.zeros([0, num*5*2])\n",
    "mole_arr = np.zeros([0])\n",
    "type_arr = np.zeros([0])\n",
    "atom_idx_arr = np.zeros([0,2])\n",
    "sc_const_arr = np.zeros([0])\n",
    "\n",
    "for m in mols:\n",
    "    df_train_temp = df_train_ext.query('molecule_name == \"{}\"'.format(m))\n",
    "    len_temp = df_train_temp.shape[0]\n",
    "    for i in range(len_temp):\n",
    "        atom0 = df_train_temp['atom_index_0'].values[i]\n",
    "        atom1 = df_train_temp['atom_index_1'].values[i]\n",
    "\n",
    "        type_conn = df_train_temp['type'].values[i]\n",
    "        type_arr = np.hstack([type_arr, type_conn])\n",
    "        \n",
    "        sc_const = df_train_temp['scalar_coupling_constant'].values[i]\n",
    "        sc_const_arr = np.hstack([sc_const_arr, sc_const])\n",
    "        \n",
    "        mole_arr = np.hstack([mole_arr, m])\n",
    "        atom_idx_arr = np.vstack([atom_idx_arr, [atom0, atom1]])\n",
    "\n",
    "        df_dist_temp =  df_dist.query('molecule_name == \"{}\"'.format(m))\n",
    "        dist_arr0 = df_dist_temp.query('atom_index == {}'.format(atom0)).values[0, 2:].astype(np.float32)\n",
    "        dist_arr1 = df_dist_temp.query('atom_index == {}'.format(atom1)).values[0, 2:].astype(np.float32)\n",
    "        dist_arr_bond = np.hstack([dist_arr0, dist_arr1])\n",
    "        dist_arr = np.vstack([dist_arr, dist_arr_bond])"
   ]
  },
  {
   "cell_type": "code",
   "execution_count": 199,
   "metadata": {},
   "outputs": [
    {
     "data": {
      "text/plain": [
       "133860"
      ]
     },
     "execution_count": 199,
     "metadata": {},
     "output_type": "execute_result"
    }
   ],
   "source": [
    "len(sc_const_arr)"
   ]
  },
  {
   "cell_type": "code",
   "execution_count": 200,
   "metadata": {},
   "outputs": [],
   "source": [
    "df_dist_arr_temp = pd.DataFrame(dist_arr)\n",
    "se_type_arr = pd.Series(type_arr, name='type')\n",
    "se_mole_arr = pd.Series(mole_arr, name='molecule_name')\n",
    "se_sc_const_arr = pd.Series(sc_const_arr, name='scalar_coupling_constant')\n",
    "df_atom_idx = pd.DataFrame(atom_idx_arr, columns=['atom_index_0', 'atom_index_1'])\n",
    "df_train_dist = pd.concat([se_mole_arr, df_atom_idx, se_type_arr, se_sc_const_arr, df_dist_arr_temp], axis=1)"
   ]
  },
  {
   "cell_type": "code",
   "execution_count": 202,
   "metadata": {
    "scrolled": false
   },
   "outputs": [],
   "source": [
    "df_1JHC = df_train_dist.query('type == \"1JHC\"')\n",
    "y = df_1JHC['scalar_coupling_constant'].values\n",
    "X = df_1JHC[df_1JHC.columns[5:]].values\n",
    "print(X.shape)\n",
    "print(y.shape)"
   ]
  },
  {
   "cell_type": "code",
   "execution_count": 205,
   "metadata": {},
   "outputs": [],
   "source": [
    "from sklearn.model_selection import train_test_split\n",
    "from sklearn.neural_network import MLPRegressor"
   ]
  },
  {
   "cell_type": "code",
   "execution_count": null,
   "metadata": {},
   "outputs": [],
   "source": [
    "X_train, X_val, y_train, y_val = train_test_split(X, y, test_size=0.2)"
   ]
  },
  {
   "cell_type": "code",
   "execution_count": 218,
   "metadata": {},
   "outputs": [
    {
     "name": "stderr",
     "output_type": "stream",
     "text": [
      "/home/ryoji/Documents/git/kaggle/ml/lib/python3.6/site-packages/sklearn/neural_network/multilayer_perceptron.py:566: ConvergenceWarning: Stochastic Optimizer: Maximum iterations (200) reached and the optimization hasn't converged yet.\n",
      "  % self.max_iter, ConvergenceWarning)\n"
     ]
    },
    {
     "data": {
      "text/plain": [
       "MLPRegressor(activation='relu', alpha=0.0001, batch_size='auto', beta_1=0.9,\n",
       "             beta_2=0.999, early_stopping=False, epsilon=1e-08,\n",
       "             hidden_layer_sizes=(100, 50), learning_rate='constant',\n",
       "             learning_rate_init=0.001, max_iter=200, momentum=0.9,\n",
       "             n_iter_no_change=10, nesterovs_momentum=True, power_t=0.5,\n",
       "             random_state=None, shuffle=True, solver='adam', tol=0.0001,\n",
       "             validation_fraction=0.1, verbose=False, warm_start=False)"
      ]
     },
     "execution_count": 218,
     "metadata": {},
     "output_type": "execute_result"
    }
   ],
   "source": [
    "mlp = MLPRegressor(hidden_layer_sizes=(100,50))\n",
    "mlp.fit(X_train, y_train)"
   ]
  },
  {
   "cell_type": "code",
   "execution_count": 219,
   "metadata": {},
   "outputs": [],
   "source": [
    "y_pred = mlp.predict(X_val)"
   ]
  },
  {
   "cell_type": "code",
   "execution_count": 220,
   "metadata": {},
   "outputs": [
    {
     "data": {
      "image/png": "[encoded data removed]",
      "text/plain": [
       "<Figure size 432x288 with 1 Axes>"
      ]
     },
     "metadata": {
      "needs_background": "light"
     },
     "output_type": "display_data"
    }
   ],
   "source": [
    "plt.scatter(y_val, y_pred)\n",
    "plt.title('1JCH')\n",
    "plt.plot([80, 200], [80, 200])\n",
    "plt.show()"
   ]
  },
  {
   "cell_type": "code",
   "execution_count": null,
   "metadata": {},
   "outputs": [],
   "source": []
  }
 ],
 "metadata": {
  "kernelspec": {
   "display_name": "Python 3",
   "language": "python",
   "name": "python3"
  },
  "language_info": {
   "codemirror_mode": {
    "name": "ipython",
    "version": 3
   },
   "file_extension": ".py",
   "mimetype": "text/x-python",
   "name": "python",
   "nbconvert_exporter": "python",
   "pygments_lexer": "ipython3",
   "version": "3.6.7"
  }
 },
 "nbformat": 4,
 "nbformat_minor": 2
}
