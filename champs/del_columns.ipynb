{
 "cells": [
  {
   "cell_type": "code",
   "execution_count": 1,
   "metadata": {},
   "outputs": [],
   "source": [
    "import pandas as pd\n",
    "import pickle"
   ]
  },
  {
   "cell_type": "code",
   "execution_count": 2,
   "metadata": {},
   "outputs": [],
   "source": [
    "FOLDER = '../../data_kaggle/champs/'\n",
    "OUTPUT = FOLDER + 'out/'"
   ]
  },
  {
   "cell_type": "code",
   "execution_count": 3,
   "metadata": {},
   "outputs": [],
   "source": [
    "bond_types = ['1JHC', '2JHH', '1JHN', '2JHN', '2JHC', '3JHH', '3JHC', '3JHN']"
   ]
  },
  {
   "cell_type": "code",
   "execution_count": null,
   "metadata": {},
   "outputs": [],
   "source": [
    "b = bond_types[0]\n",
    "df_bond = pd.read_pickle(OUTPUT + '20190629_dist_bond_dir_cos3j_train_{}.pickle'.format(b))\n",
    "for xy in ['x','y']\n",
    "    for i in range(8, 10):\n",
    "        del df_bond['dist_H_{}_{}'.format(i, xy)]\n",
    "        del df_bond['dist_C_{}_{}'.format(i, xy)]\n",
    "        del df_bond['cos_H_{}_{}'.format(i, xy)]\n",
    "        del df_bond['cos_C_{}_{}'.format(i, xy)]\n",
    "df_bond.columns"
   ]
  },
  {
   "cell_type": "code",
   "execution_count": null,
   "metadata": {},
   "outputs": [],
   "source": [
    "for i, b in enumerate(bond_types):\n",
    "    print('-'*10, b, '-'*10)\n",
    "    df_bond = pd.read_pickle(OUTPUT + '20190629_dist_bond_dir_cos3j_train_{}.pickle'.format(b))\n",
    "    for xy in ['x','y']\n",
    "        for i in range(8, 10):\n",
    "            del df_bond['dist_H_{}_{}'.format(i, xy)]\n",
    "            del df_bond['dist_C_{}_{}'.format(i, xy)]\n",
    "            del df_bond['cos_H_{}_{}'.format(i, xy)]\n",
    "            del df_bond['cos_C_{}_{}'.format(i, xy)]"
   ]
  }
 ],
 "metadata": {
  "kernelspec": {
   "display_name": "Python 3",
   "language": "python",
   "name": "python3"
  },
  "language_info": {
   "codemirror_mode": {
    "name": "ipython",
    "version": 3
   },
   "file_extension": ".py",
   "mimetype": "text/x-python",
   "name": "python",
   "nbconvert_exporter": "python",
   "pygments_lexer": "ipython3",
   "version": "3.6.8"
  }
 },
 "nbformat": 4,
 "nbformat_minor": 2
}
