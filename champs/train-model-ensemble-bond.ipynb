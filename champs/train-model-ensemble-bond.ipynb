{
 "cells": [
  {
   "cell_type": "code",
   "execution_count": 1,
   "metadata": {},
   "outputs": [],
   "source": [
    "import os\n",
    "import pandas as pd\n",
    "import numpy as np\n",
    "import time\n",
    "import random\n",
    "import lightgbm as lgb\n",
    "\n",
    "import pickle"
   ]
  },
  {
   "cell_type": "code",
   "execution_count": 2,
   "metadata": {},
   "outputs": [],
   "source": [
    "FOLDER = '../../data_kaggle/champs/'\n",
    "OUTPUT = FOLDER + 'out/'"
   ]
  },
  {
   "cell_type": "code",
   "execution_count": 3,
   "metadata": {},
   "outputs": [],
   "source": [
    "def type_score(y_val, y_pred):\n",
    "    return np.log(sum(np.abs(y_val- y_pred)) / len(y_val))"
   ]
  },
  {
   "cell_type": "code",
   "execution_count": null,
   "metadata": {},
   "outputs": [],
   "source": [
    "rounds = 100000\n",
    "num_seed = 5\n",
    "bond_types = ['1JHC', '2JHH', '1JHN', '2JHN', '2JHC', '3JHH', '3JHC', '3JHN']"
   ]
  },
  {
   "cell_type": "code",
   "execution_count": null,
   "metadata": {
    "scrolled": false
   },
   "outputs": [
    {
     "name": "stdout",
     "output_type": "stream",
     "text": [
      "---------- 1JHC ----------\n",
      "seed No.0, bond type 1JHC\n"
     ]
    }
   ],
   "source": [
    "models = []\n",
    "scores = []\n",
    "start0 = time.time()\n",
    "for i, b in enumerate(bond_types):\n",
    "    print('-'*10, b, '-'*10)\n",
    "    \n",
    "    df_bond = pd.read_pickle(OUTPUT + '20190629_dist_bond_dir_cos3j_train_{}.pickle'.format(b))\n",
    "    mols = df_bond['molecule_name'].unique()\n",
    "    num = len(mols)\n",
    "    num_train = int(num * 0.8)\n",
    "    pickup = random.sample(range(num), num)\n",
    "    pick_train = pickup[:num_train]\n",
    "    pick_val = pickup[num_train:]\n",
    "    \n",
    "    models_b = []\n",
    "    y_pred_b =[]\n",
    "    \n",
    "    df_train = df_bond[df_bond['molecule_name'].isin(mols[pick_train])]\n",
    "    y_train = df_train['scalar_coupling_constant'].values\n",
    "    X_train = df_train[df_train.columns[6:]].values\n",
    "\n",
    "    df_val = df_bond[df_bond['molecule_name'].isin(mols[pick_val])]\n",
    "    y_val = df_val['scalar_coupling_constant'].values\n",
    "    X_val = df_val[df_val.columns[6:]].values\n",
    "\n",
    "    lgb_train = lgb.Dataset(X_train, y_train)\n",
    "    lgb_eval = lgb.Dataset(X_val, y_val, reference=lgb_train)\n",
    "        \n",
    "    for s in range(num_seed):\n",
    "        print('seed No.{}, bond type {}'.format(s, b))\n",
    "        start = time.time()\n",
    "        \n",
    "        params = {\n",
    "                'task' : 'train',\n",
    "                'boosting_type' : 'gbdt',\n",
    "                'objective' : 'regression',\n",
    "                'metric' : {'l2'},\n",
    "                'num_leaves' : 31,\n",
    "                'learning_rate' : 0.1,\n",
    "                'feature_fraction' : 0.9,\n",
    "                'bagging_fraction' : 0.8,\n",
    "                'bagging_freq': 5,\n",
    "            'seed':s\n",
    "        }\n",
    "\n",
    "        gbm = lgb.train(params,\n",
    "                lgb_train,\n",
    "                num_boost_round=rounds,\n",
    "                verbose_eval=0,\n",
    "                valid_sets=lgb_eval,\n",
    "                early_stopping_rounds=100)\n",
    "        \n",
    "        models_b.append(gbm)\n",
    "        y_pred_single = gbm.predict(X_val, num_iteration=gbm.best_iteration)\n",
    "        print(gbm.best_iteration)\n",
    "        print('single model score:',type_score(y_val, y_pred_single))\n",
    "\n",
    "        y_pred_b.append(y_pred_single)\n",
    "        elapsed_time = time.time() - start\n",
    "        print (\"elapsed_time:{0}\".format(elapsed_time) + \"[sec]\")\n",
    "        \n",
    "    y_pred = np.array(y_pred_b).mean(axis=0)\n",
    "    score = type_score(y_val, y_pred)\n",
    "    print('mean-ensemble score:', score)\n",
    "    \n",
    "    with open(OUTPUT + '20190629_champs_models_lgb_{}.pickle'.format(b), 'wb') as f:\n",
    "        pickle.dump(models_b, f)\n",
    "\n",
    "    scores.append(score)\n",
    "elapsed_time = time.time() - start0\n",
    "print (\"total elapsed_time:{0}\".format(elapsed_time/3600) + \"[hours]\")"
   ]
  },
  {
   "cell_type": "code",
   "execution_count": null,
   "metadata": {},
   "outputs": [],
   "source": [
    "print('type score:', scores)\n",
    "print('total score:', np.array(scores).mean())\n",
    "\n",
    "# type score: [-0.7107571299257489, -2.0767665113807867, -1.2548499603026722, -1.854568916875408, -1.4865422286105732, -2.074127209929504, -0.9917317367984064, -2.101555204837629]\n",
    "# total score: -1.568862362332591\n",
    "\n",
    "# type score: [-0.7395686378862215, -2.0418889965244227, -1.2178209199205257, -1.815672423977162, -1.4683662039626242, -0.705921299898279, -0.6104222463407887, -1.9517610071479379]\n",
    "# total score: -1.318927716957245"
   ]
  },
  {
   "cell_type": "code",
   "execution_count": null,
   "metadata": {},
   "outputs": [],
   "source": []
  }
 ],
 "metadata": {
  "kernelspec": {
   "display_name": "Python 3",
   "language": "python",
   "name": "python3"
  },
  "language_info": {
   "codemirror_mode": {
    "name": "ipython",
    "version": 3
   },
   "file_extension": ".py",
   "mimetype": "text/x-python",
   "name": "python",
   "nbconvert_exporter": "python",
   "pygments_lexer": "ipython3",
   "version": "3.6.8"
  }
 },
 "nbformat": 4,
 "nbformat_minor": 2
}
