{
 "cells": [
  {
   "cell_type": "code",
   "execution_count": 1,
   "metadata": {},
   "outputs": [],
   "source": [
    "import os\n",
    "import pandas as pd\n",
    "import numpy as np\n",
    "import time\n",
    "import pickle\n",
    "import random\n",
    "random.seed(0)\n",
    "\n",
    "import gc"
   ]
  },
  {
   "cell_type": "code",
   "execution_count": 2,
   "metadata": {},
   "outputs": [],
   "source": [
    "FOLDER = '../../data_kaggle/champs/'\n",
    "OUTPUT = FOLDER + 'out/'"
   ]
  },
  {
   "cell_type": "code",
   "execution_count": 4,
   "metadata": {},
   "outputs": [],
   "source": [
    "MODEL_DATE = '20190819'"
   ]
  },
  {
   "cell_type": "code",
   "execution_count": 5,
   "metadata": {},
   "outputs": [],
   "source": [
    "# input files\n",
    "trained_models =  OUTPUT + MODEL_DATE + '_' + 'champs_models_nn_{}.h5'"
   ]
  },
  {
   "cell_type": "code",
   "execution_count": 6,
   "metadata": {},
   "outputs": [],
   "source": [
    "# output files\n",
    "merged_models =  OUTPUT + MODEL_DATE + '_' + 'merged_nn_{}.h5'"
   ]
  },
  {
   "cell_type": "code",
   "execution_count": 7,
   "metadata": {},
   "outputs": [
    {
     "name": "stderr",
     "output_type": "stream",
     "text": [
      "Using TensorFlow backend.\n"
     ]
    }
   ],
   "source": [
    "from keras.layers import Input\n",
    "from keras.layers import Dense\n",
    "from keras.models import Model\n",
    "from keras.layers.normalization import BatchNormalization\n",
    "from keras.models import load_model\n",
    "from keras.layers import Concatenate"
   ]
  },
  {
   "cell_type": "code",
   "execution_count": 8,
   "metadata": {},
   "outputs": [],
   "source": [
    "bond_types = ['1JHC', '1JHN', '2JHH', '2JHC', '2JHN', '3JHH', '3JHC', '3JHN'] #mapping order 3 type each"
   ]
  },
  {
   "cell_type": "code",
   "execution_count": 9,
   "metadata": {},
   "outputs": [],
   "source": [
    "for b_target in bond_types:\n",
    "    model_target = load_model(trained_models.format(b_target), compile=False)\n",
    "    for l in model_target.layers:\n",
    "        l.name = l.name + '_' + b_target\n",
    "\n",
    "    models_add = []\n",
    "    for b in bond_types:\n",
    "        for i in range(3):\n",
    "            model_add = load_model(trained_models.format(b), compile=False)\n",
    "            for l in model_add.layers:\n",
    "                l.name = l.name + '_' + b + '_' + 'x' + '_' + str(i)\n",
    "            models_add.append(model_add)\n",
    "\n",
    "    for b in bond_types:\n",
    "        for i in range(3):\n",
    "            model_add = load_model(trained_models.format(b), compile=False)\n",
    "            for l in model_add.layers:\n",
    "                l.name = l.name + '_' + b + '_' + 'y' + '_' + str(i)\n",
    "            models_add.append(model_add)\n",
    "\n",
    "    input_list = [model_target.input]\n",
    "    in_list_temp = [models_add[i].input for i in range(len(models_add))]\n",
    "    input_list.extend(in_list_temp)\n",
    "\n",
    "    output_list = [model_target.output]\n",
    "    out_list_temp = [models_add[i].output for i in range(len(models_add))]\n",
    "    output_list.extend(out_list_temp)\n",
    "\n",
    "    conc_output = Concatenate(name='concat_out')(output_list)\n",
    "    dense_merge0 = Dense(10, name='dense_merge0')(conc_output)\n",
    "    norm_merge0 = BatchNormalization(name='norm_merge0')(dense_merge0)\n",
    "    dense_merge1 = Dense(1, name='dense_merge1')(norm_merge0)\n",
    "\n",
    "    model_merge = Model(input_list, dense_merge1)\n",
    "    \n",
    "    model_merge.save(merged_models.format(b_target), include_optimizer=False)\n",
    "    del model_merge"
   ]
  },
  {
   "cell_type": "code",
   "execution_count": null,
   "metadata": {},
   "outputs": [],
   "source": []
  }
 ],
 "metadata": {
  "kernelspec": {
   "display_name": "Python 3",
   "language": "python",
   "name": "python3"
  },
  "language_info": {
   "codemirror_mode": {
    "name": "ipython",
    "version": 3
   },
   "file_extension": ".py",
   "mimetype": "text/x-python",
   "name": "python",
   "nbconvert_exporter": "python",
   "pygments_lexer": "ipython3",
   "version": "3.6.8"
  }
 },
 "nbformat": 4,
 "nbformat_minor": 2
}
