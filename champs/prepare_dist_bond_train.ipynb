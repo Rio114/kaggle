{
 "cells": [
  {
   "cell_type": "code",
   "execution_count": 1,
   "metadata": {},
   "outputs": [],
   "source": [
    "import os\n",
    "import pandas as pd\n",
    "import numpy as np\n",
    "import time\n",
    "\n",
    "import pickle"
   ]
  },
  {
   "cell_type": "code",
   "execution_count": 2,
   "metadata": {},
   "outputs": [],
   "source": [
    "FOLDER = '../../data_kaggle/champs/'\n",
    "OUTPUT = FOLDER + 'out/'"
   ]
  },
  {
   "cell_type": "code",
   "execution_count": 7,
   "metadata": {},
   "outputs": [],
   "source": [
    "# df_mulliken_charges = pd.read_csv(FOLDER + 'mulliken_charges.csv')\n",
    "# df_sample =  pd.read_csv(FOLDER + 'sample_submission.csv')\n",
    "# df_magnetic_shielding_tensors = pd.read_csv(FOLDER + 'magnetic_shielding_tensors.csv')\n",
    "df_train = pd.read_csv(FOLDER + 'train.csv')\n",
    "# df_test = pd.read_csv(FOLDER + 'test.csv')\n",
    "# df_dipole_moments = pd.read_csv(FOLDER + 'dipole_moments.csv')\n",
    "# df_potential_energy = pd.read_csv(FOLDER + 'potential_energy.csv')\n",
    "df_structures = pd.read_csv(FOLDER + 'structures.csv')\n",
    "# df_scalar_coupling_contributions = pd.read_csv(FOLDER + 'scalar_coupling_contributions.csv')"
   ]
  },
  {
   "cell_type": "code",
   "execution_count": 4,
   "metadata": {},
   "outputs": [],
   "source": [
    "df_structures_idx = df_structures.set_index('molecule_name')\n",
    "df_train_idx = df_train.set_index('molecule_name')"
   ]
  },
  {
   "cell_type": "code",
   "execution_count": 5,
   "metadata": {},
   "outputs": [],
   "source": [
    "def assign_atoms_index(df_idx, molecule):\n",
    "    se_0 = df_idx.loc[molecule]['atom_index_0']\n",
    "    se_1 = df_idx.loc[molecule]['atom_index_1']\n",
    "    if type(se_0) == np.int64:\n",
    "        se_0 = pd.Series(se_0)\n",
    "    if type(se_1) == np.int64:\n",
    "        se_1 = pd.Series(se_1)\n",
    "    assign_idx = pd.concat([se_0, se_1]).unique()\n",
    "    assign_idx.sort()\n",
    "    return assign_idx"
   ]
  },
  {
   "cell_type": "code",
   "execution_count": 6,
   "metadata": {},
   "outputs": [],
   "source": [
    "def get_dist_matrix(df_structures_idx, molecule):\n",
    "    df_temp = df_structures_idx.loc[molecule]\n",
    "    locs = df_temp[['x','y','z']].values\n",
    "    num_atoms = len(locs)\n",
    "    loc_tile = np.tile(locs.T, (num_atoms,1,1))\n",
    "    dist_mat = ((loc_tile - loc_tile.T)**2).sum(axis=1)\n",
    "    return dist_mat"
   ]
  },
  {
   "cell_type": "code",
   "execution_count": 7,
   "metadata": {},
   "outputs": [],
   "source": [
    "def gen_df_num_bond(df_structures_idx, mol):\n",
    "\n",
    "    dist_mat = get_dist_matrix(df_structures_idx, mol)\n",
    "    df_temp = df_structures_idx.loc[mol]\n",
    "    num_atoms = df_temp.shape[0]\n",
    "\n",
    "    non_h_idx = df_temp[df_temp['atom'] != 'H']['atom_index'].values\n",
    "    non_h = df_temp[df_temp['atom'] != 'H']['atom'].values\n",
    "\n",
    "    df_non_h_dist = dist_mat[non_h_idx][:, non_h_idx]\n",
    "    num_bond_list = []\n",
    "    for i, idx in enumerate(non_h_idx):\n",
    "        num_bond_list.append(sum((df_non_h_dist[i] > 0) * (df_non_h_dist[i] < 3)))\n",
    "    num_non_h_bond = np.array(num_bond_list)\n",
    "\n",
    "    h_idx = df_temp[df_temp['atom'] == 'H']['atom_index'].values\n",
    "    h_dist_mat = dist_mat[h_idx]\n",
    "    h_con_idx = h_dist_mat.argsort()[:,1]\n",
    "\n",
    "    num_h_bond = np.zeros(num_atoms)\n",
    "    for i in h_con_idx:\n",
    "        num_h_bond[idx] += 1\n",
    "\n",
    "    num_bond_non_h = num_non_h_bond + num_h_bond[non_h_idx]\n",
    "    num_bond = np.ones(num_atoms)\n",
    "    num_bond[non_h_idx] = num_bond_non_h\n",
    "\n",
    "    se_num_bond = pd.Series(num_bond, name='num_bonds', dtype='int')\n",
    "    se_num_bond = se_num_bond.where(se_num_bond < 5, 4)\n",
    "    se_atom = pd.Series(df_temp['atom'].values, name='atom')\n",
    "    se_atom_idx = pd.Series(df_temp['atom_index'].values, name='atom_index')\n",
    "\n",
    "    df_bond = pd.concat([se_atom, se_atom_idx, se_num_bond], axis=1)\n",
    "    df_bond['molecule_name'] = mol\n",
    "    return df_bond "
   ]
  },
  {
   "cell_type": "code",
   "execution_count": 9,
   "metadata": {},
   "outputs": [],
   "source": [
    "def get_pickup_dist_matrix(df_idx, df_structures_idx, molecule, num_pickup=5, atoms=['H', 'C', 'N', 'O', 'F']):\n",
    "    pickup_dist_matrix = np.zeros([0, len(atoms)*num_pickup*2])\n",
    "    assigned_idxs = assign_atoms_index(df_idx, molecule) # [0, 1, 2, 3, 4, 5, 6] -> [1, 2, 3, 4, 5, 6]\n",
    "    dist_mat = get_dist_matrix(df_structures_idx, molecule)\n",
    "    df_bond = gen_df_num_bond(df_structures_idx, molecule)\n",
    "    num_bonds = df_bond['num_bonds'].values\n",
    "    for idx in assigned_idxs: # [1, 2, 3, 4, 5, 6] -> [2]\n",
    "        df_temp = df_structures_idx.loc[molecule]\n",
    "        locs = df_temp[['x','y','z']].values\n",
    "\n",
    "        dist_arr = dist_mat[idx] # (7, 7) -> (7, )\n",
    "\n",
    "        atoms_mole = df_structures_idx.loc[molecule]['atom'].values # ['O', 'C', 'C', 'N', 'H', 'H', 'H']\n",
    "        atoms_mole_idx = df_structures_idx.loc[molecule]['atom_index'].values # [0, 1, 2, 3, 4, 5, 6]\n",
    "\n",
    "        mask_atoms_mole_idx = atoms_mole_idx != idx # [ True,  True, False,  True,  True,  True,  True]\n",
    "        masked_atoms = atoms_mole[mask_atoms_mole_idx] # ['O', 'C', 'N', 'H', 'H', 'H']\n",
    "        masked_atoms_idx = atoms_mole_idx[mask_atoms_mole_idx]  # [0, 1, 3, 4, 5, 6]\n",
    "        masked_dist_arr = dist_arr[mask_atoms_mole_idx]  # [ 5.48387003, 2.15181049, 1.33269675, 10.0578779, 4.34733927, 4.34727838]\n",
    "        masked_locs = locs[masked_atoms_idx]\n",
    "        masked_num_bonds = num_bonds[masked_atoms_idx]\n",
    "\n",
    "        sorting_idx = np.argsort(masked_dist_arr) # [2, 1, 5, 4, 0, 3]\n",
    "        sorted_atoms_idx = masked_atoms_idx[sorting_idx] # [3, 1, 6, 5, 0, 4]\n",
    "        sorted_atoms = masked_atoms[sorting_idx] # ['N', 'C', 'H', 'H', 'O', 'H']\n",
    "        sorted_dist_arr = 1/masked_dist_arr[sorting_idx] #[0.75035825,0.46472494,0.23002898,0.23002576,0.18235297,0.09942455]\n",
    "        sorted_num_bonds = masked_num_bonds[sorting_idx]\n",
    "\n",
    "        target_matrix = np.zeros([len(atoms), num_pickup*2])\n",
    "        for a, atom in enumerate(atoms):\n",
    "            pickup_atom = sorted_atoms == atom # [False, False,  True,  True, False,  True]\n",
    "            pickup_dist = sorted_dist_arr[pickup_atom] # [0.23002898, 0.23002576, 0.09942455]\n",
    "            pickup_num_bond = sorted_num_bonds[pickup_atom]\n",
    "\n",
    "            num_atom = len(pickup_dist)\n",
    "            if num_atom > num_pickup:\n",
    "                target_matrix[a, :num_pickup] = pickup_dist[:num_pickup]\n",
    "                target_matrix[a, num_pickup:] = pickup_num_bond[:num_pickup]\n",
    "            else:\n",
    "                target_matrix[a, :num_atom] = pickup_dist\n",
    "                target_matrix[a, num_pickup:num_pickup+num_atom] = pickup_num_bond\n",
    "        \n",
    "        pickup_dist_matrix = np.vstack([pickup_dist_matrix, target_matrix.reshape(-1)])\n",
    "    return pickup_dist_matrix #(num_atoms, num_pickup*5)"
   ]
  },
  {
   "cell_type": "code",
   "execution_count": 10,
   "metadata": {},
   "outputs": [
    {
     "name": "stdout",
     "output_type": "stream",
     "text": [
      "elapsed_time:706.4417717456818[sec]\n"
     ]
    }
   ],
   "source": [
    "num = 5\n",
    "mols = df_train['molecule_name'].unique()\n",
    "num_div = len(mols) // 3\n",
    "dist_mat = np.zeros([0, num*5*2])\n",
    "atoms_idx = np.zeros([0], dtype=np.int32)\n",
    "molecule_names = np.empty([0])\n",
    "\n",
    "start = time.time()\n",
    "\n",
    "for mol in mols:\n",
    "    \n",
    "    assigned_idxs = assign_atoms_index(df_train_idx, mol)\n",
    "    dist_mat_mole = get_pickup_dist_matrix(df_train_idx, df_structures_idx, mol, num_pickup=num)\n",
    "    mol_name_arr = [mol] * len(assigned_idxs) \n",
    "    \n",
    "    molecule_names = np.hstack([molecule_names, mol_name_arr])\n",
    "    atoms_idx = np.hstack([atoms_idx, assigned_idxs])\n",
    "    dist_mat = np.vstack([dist_mat, dist_mat_mole])\n",
    "    \n",
    "col_name_list = []\n",
    "atoms = ['H', 'C', 'N', 'O', 'F']\n",
    "for a in atoms:\n",
    "    for n in range(num):\n",
    "        col_name_list.append('dist_{}_{}'.format(a, n))\n",
    "    for n in range(num):\n",
    "        col_name_list.append('num_bond_{}_{}'.format(a, n))\n",
    "        \n",
    "se_mole = pd.Series(molecule_names, name='molecule_name')\n",
    "se_atom_idx = pd.Series(atoms_idx, name='atom_index')\n",
    "df_dist = pd.DataFrame(dist_mat, columns=col_name_list)\n",
    "df_distance = pd.concat([se_mole, se_atom_idx,df_dist], axis=1)\n",
    "\n",
    "elapsed_time = time.time() - start\n",
    "print (\"elapsed_time:{0}\".format(elapsed_time) + \"[sec]\")"
   ]
  },
  {
   "cell_type": "code",
   "execution_count": 11,
   "metadata": {},
   "outputs": [
    {
     "data": {
      "text/plain": [
       "(181966, 52)"
      ]
     },
     "execution_count": 11,
     "metadata": {},
     "output_type": "execute_result"
    }
   ],
   "source": [
    "df_distance.shape"
   ]
  },
  {
   "cell_type": "code",
   "execution_count": 12,
   "metadata": {
    "scrolled": true
   },
   "outputs": [],
   "source": [
    "df_distance.to_csv(OUTPUT + '20190618_dist_bond_train_temp.csv', index=False)"
   ]
  },
  {
   "cell_type": "code",
   "execution_count": 4,
   "metadata": {},
   "outputs": [
    {
     "data": {
      "text/plain": [
       "(1405126, 52)"
      ]
     },
     "execution_count": 4,
     "metadata": {},
     "output_type": "execute_result"
    }
   ],
   "source": [
    "# df_distance_list = []\n",
    "# df_distance_list.append(pd.read_csv(OUTPUT + '20190618_dist_bond_train_temp0.csv'))\n",
    "# df_distance_list.append(pd.read_csv(OUTPUT + '20190618_dist_bond_train_temp1.csv'))\n",
    "# df_distance_list.append(pd.read_csv(OUTPUT + '20190618_dist_bond_train_temp2.csv'))\n",
    "# df_distance_list.append(pd.read_csv(OUTPUT + '20190618_dist_bond_train_temp3.csv'))\n",
    "# df_distance_list.append(pd.read_csv(OUTPUT + '20190618_dist_bond_train_temp4.csv'))\n",
    "# df_distance_list.append(pd.read_csv(OUTPUT + '20190618_dist_bond_train_temp5.csv'))\n",
    "# df_distance_list.append(pd.read_csv(OUTPUT + '20190618_dist_bond_train_temp6.csv'))\n",
    "\n",
    "# df_distance = pd.concat(df_distance_list, axis=0)\n",
    "# df_distance.shape"
   ]
  },
  {
   "cell_type": "code",
   "execution_count": 5,
   "metadata": {},
   "outputs": [],
   "source": [
    "def merge_atom(df, df_distance):\n",
    "    df_merge_0 = pd.merge(df, df_distance, left_on=['molecule_name', 'atom_index_0'], right_on=['molecule_name', 'atom_index'])\n",
    "    df_merge_0_1 = pd.merge(df_merge_0, df_distance, left_on=['molecule_name', 'atom_index_1'], right_on=['molecule_name', 'atom_index'])\n",
    "    del df_merge_0_1['atom_index_x'], df_merge_0_1['atom_index_y']\n",
    "    return df_merge_0_1"
   ]
  },
  {
   "cell_type": "code",
   "execution_count": 8,
   "metadata": {},
   "outputs": [
    {
     "name": "stdout",
     "output_type": "stream",
     "text": [
      "elapsed_time:33.48328757286072[sec]\n"
     ]
    }
   ],
   "source": [
    "start = time.time()\n",
    "df_train_dist = merge_atom(df_train, df_distance)\n",
    "elapsed_time = time.time() - start\n",
    "print (\"elapsed_time:{0}\".format(elapsed_time) + \"[sec]\")"
   ]
  },
  {
   "cell_type": "code",
   "execution_count": 9,
   "metadata": {},
   "outputs": [],
   "source": [
    "df_train_dist.to_csv(OUTPUT + '20190618_dist_bond_train.csv', index=False)"
   ]
  },
  {
   "cell_type": "code",
   "execution_count": null,
   "metadata": {},
   "outputs": [],
   "source": []
  },
  {
   "cell_type": "code",
   "execution_count": null,
   "metadata": {},
   "outputs": [],
   "source": [
    "df_train_dist = pd.read_csv(OUTPUT + '20190618_dist_bond_train_temp0.csv')"
   ]
  }
 ],
 "metadata": {
  "kernelspec": {
   "display_name": "Python 3",
   "language": "python",
   "name": "python3"
  },
  "language_info": {
   "codemirror_mode": {
    "name": "ipython",
    "version": 3
   },
   "file_extension": ".py",
   "mimetype": "text/x-python",
   "name": "python",
   "nbconvert_exporter": "python",
   "pygments_lexer": "ipython3",
   "version": "3.7.3"
  }
 },
 "nbformat": 4,
 "nbformat_minor": 2
}
