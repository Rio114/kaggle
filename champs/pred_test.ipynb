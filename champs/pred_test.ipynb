{
 "cells": [
  {
   "cell_type": "code",
   "execution_count": 1,
   "metadata": {},
   "outputs": [],
   "source": [
    "import os\n",
    "import pandas as pd\n",
    "import numpy as np\n",
    "import random\n",
    "import lightgbm as lgb\n",
    "import pickle"
   ]
  },
  {
   "cell_type": "code",
   "execution_count": 2,
   "metadata": {},
   "outputs": [],
   "source": [
    "FOLDER = '../../data_kaggle/champs/'\n",
    "OUTPUT = FOLDER + 'out/'"
   ]
  },
  {
   "cell_type": "code",
   "execution_count": 3,
   "metadata": {},
   "outputs": [],
   "source": [
    "df_train = pd.read_csv(FOLDER + 'train.csv')\n",
    "df_test = pd.read_csv(FOLDER + 'test.csv')"
   ]
  },
  {
   "cell_type": "code",
   "execution_count": 4,
   "metadata": {},
   "outputs": [],
   "source": [
    "try_test = '20190611_test_dist_cos.csv'\n",
    "trained_model = '20190612_champs_models_lgb.pickle'\n",
    "submission_name = '20190612submission.csv'"
   ]
  },
  {
   "cell_type": "code",
   "execution_count": 5,
   "metadata": {},
   "outputs": [],
   "source": [
    "bond_types = df_train['type'].unique()\n",
    "del df_train"
   ]
  },
  {
   "cell_type": "code",
   "execution_count": 6,
   "metadata": {},
   "outputs": [],
   "source": [
    "df_test_dist = pd.read_csv(OUTPUT + try_test)"
   ]
  },
  {
   "cell_type": "code",
   "execution_count": 7,
   "metadata": {},
   "outputs": [],
   "source": [
    "with open(OUTPUT + trained_model, 'rb') as f:\n",
    "    models = pickle.load(f)"
   ]
  },
  {
   "cell_type": "code",
   "execution_count": 8,
   "metadata": {},
   "outputs": [],
   "source": [
    "ids_arr = np.zeros(0)\n",
    "pred_arr = np.zeros(0)\n",
    "for i, b in enumerate(bond_types):\n",
    "    df = df_test_dist.query('type == \"{}\"'.format(b))\n",
    "    ids = df['id'].values\n",
    "    ids_arr = np.hstack([ids_arr, ids])\n",
    "    X = df[df.columns[5:]].values\n",
    "    y_pred = models[i].predict(X).reshape(-1)\n",
    "    pred_arr = np.hstack([pred_arr, y_pred])"
   ]
  },
  {
   "cell_type": "code",
   "execution_count": 9,
   "metadata": {},
   "outputs": [],
   "source": [
    "se_ids = pd.Series(ids_arr, name='id', dtype='int')\n",
    "se_pred = pd.Series(pred_arr, name='scalar_coupling_constant')\n",
    "df_submission = pd.concat([se_ids, se_pred], axis=1)\n",
    "df_submission_s = df_submission.sort_values('id')\n",
    "df_submission_s.to_csv(OUTPUT + submission_name, index=False)"
   ]
  },
  {
   "cell_type": "code",
   "execution_count": null,
   "metadata": {},
   "outputs": [],
   "source": []
  }
 ],
 "metadata": {
  "kernelspec": {
   "display_name": "Python 3",
   "language": "python",
   "name": "python3"
  },
  "language_info": {
   "codemirror_mode": {
    "name": "ipython",
    "version": 3
   },
   "file_extension": ".py",
   "mimetype": "text/x-python",
   "name": "python",
   "nbconvert_exporter": "python",
   "pygments_lexer": "ipython3",
   "version": "3.6.7"
  }
 },
 "nbformat": 4,
 "nbformat_minor": 2
}
