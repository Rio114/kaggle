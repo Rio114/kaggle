{
 "cells": [
  {
   "cell_type": "code",
   "execution_count": 1,
   "metadata": {},
   "outputs": [],
   "source": [
    "import os\n",
    "import pandas as pd\n",
    "import numpy as np\n",
    "import time\n",
    "import gc\n",
    "import pickle\n",
    "from joblib import Parallel, delayed"
   ]
  },
  {
   "cell_type": "code",
   "execution_count": 24,
   "metadata": {},
   "outputs": [],
   "source": [
    "FOLDER = '../../data_kaggle/champs/'\n",
    "NCORES = 1\n",
    "OUTPUT = FOLDER + 'out/'"
   ]
  },
  {
   "cell_type": "code",
   "execution_count": 3,
   "metadata": {},
   "outputs": [],
   "source": [
    "# df_mulliken_charges = pd.read_csv(FOLDER + 'mulliken_charges.csv')\n",
    "# df_sample =  pd.read_csv(FOLDER + 'sample_submission.csv')\n",
    "# df_magnetic_shielding_tensors = pd.read_csv(FOLDER + 'magnetic_shielding_tensors.csv')\n",
    "df_train = pd.read_csv(FOLDER + 'train.csv')\n",
    "# df_test = pd.read_csv(FOLDER + 'test.csv')\n",
    "# df_dipole_moments = pd.read_csv(FOLDER + 'dipole_moments.csv')\n",
    "# df_potential_energy = pd.read_csv(FOLDER + 'potential_energy.csv')\n",
    "df_structures = pd.read_csv(FOLDER + 'structures.csv')\n",
    "# df_scalar_coupling_contributions = pd.read_csv(FOLDER + 'scalar_coupling_contributions.csv')"
   ]
  },
  {
   "cell_type": "code",
   "execution_count": 4,
   "metadata": {},
   "outputs": [],
   "source": [
    "df_structures_idx = df_structures.set_index('molecule_name')\n",
    "df_train_idx = df_train.set_index('molecule_name')"
   ]
  },
  {
   "cell_type": "code",
   "execution_count": 5,
   "metadata": {},
   "outputs": [],
   "source": [
    "mols = df_train['molecule_name'].unique()"
   ]
  },
  {
   "cell_type": "code",
   "execution_count": 6,
   "metadata": {},
   "outputs": [],
   "source": [
    "def assign_atoms_index(df_idx, molecule):\n",
    "    se_0 = df_idx.loc[molecule]['atom_index_0']\n",
    "    se_1 = df_idx.loc[molecule]['atom_index_1']\n",
    "    if type(se_0) == np.int64:\n",
    "        se_0 = pd.Series(se_0)\n",
    "    if type(se_1) == np.int64:\n",
    "        se_1 = pd.Series(se_1)\n",
    "    assign_idx = pd.concat([se_0, se_1]).unique()\n",
    "    assign_idx.sort()\n",
    "    return assign_idx"
   ]
  },
  {
   "cell_type": "code",
   "execution_count": 7,
   "metadata": {},
   "outputs": [],
   "source": [
    "def get_dist_matrix(df_structures_idx, molecule):\n",
    "    df_temp = df_structures_idx.loc[molecule]\n",
    "    locs = df_temp[['x','y','z']].values\n",
    "    num_atoms = len(locs)\n",
    "    loc_tile = np.tile(locs.T, (num_atoms,1,1))\n",
    "    dist_mat = (np.linalg.norm(loc_tile - loc_tile.T, axis=1)**2)\n",
    "    return dist_mat"
   ]
  },
  {
   "cell_type": "code",
   "execution_count": 8,
   "metadata": {},
   "outputs": [],
   "source": [
    "def n_bond_cnt(df_structures_idx, mol):\n",
    "    dist_mat = get_dist_matrix(df_structures_idx, mol)\n",
    "    df_temp = df_structures_idx.loc[mol]\n",
    "    num_atoms = df_temp.shape[0]\n",
    "\n",
    "    n_idx = df_temp[df_temp['atom'] == 'N']['atom_index'].values\n",
    "\n",
    "    n_bond_cnt = []\n",
    "\n",
    "    for i in n_idx:\n",
    "        dist_argsort = np.argsort(dist_mat[i])\n",
    "\n",
    "        near_1_idx = dist_argsort[1]\n",
    "        near_2_idx = dist_argsort[2]\n",
    "        \n",
    "        dist_1 = dist_mat[i][near_1_idx]\n",
    "        dist_2 = dist_mat[i][near_2_idx]\n",
    "\n",
    "        if dist_2 - dist_1 > 0.2:\n",
    "            n_bond_cnt.append(1)\n",
    "            continue\n",
    "        \n",
    "        near_3_idx = dist_argsort[3]\n",
    "        dist_3 = dist_mat[i][near_3_idx]\n",
    "        \n",
    "        if dist_3 - dist_2 > 0.2:\n",
    "            n_bond_cnt.append(2)\n",
    "        else:\n",
    "            n_bond_cnt.append(3)\n",
    "\n",
    "    se_n_bond = pd.Series(n_bond_cnt, name='n_bond')\n",
    "    se_n_idx = pd.Series(n_idx, name='atom_index')\n",
    "    df_bond = pd.concat([se_n_idx, se_n_bond], axis=1)\n",
    "\n",
    "    df_temp2 = pd.merge(df_temp[['atom', 'atom_index']], df_bond, on='atom_index', how='outer').fillna(0)\n",
    "    df_temp2['molecule_name'] = mol\n",
    "    return df_temp2"
   ]
  },
  {
   "cell_type": "code",
   "execution_count": 20,
   "metadata": {},
   "outputs": [],
   "source": [
    "def c_bond_cnt(df_structures_idx, mol):\n",
    "    dist_mat = get_dist_matrix(df_structures_idx, mol)\n",
    "    df_temp = df_structures_idx.loc[mol]\n",
    "    num_atoms = df_temp.shape[0]\n",
    "\n",
    "    c_idx = df_temp[df_temp['atom'] == 'C']['atom_index'].values\n",
    "\n",
    "    c_bond_cnt = []\n",
    "\n",
    "    for i in c_idx:\n",
    "        dist_argsort = np.argsort(dist_mat[i])\n",
    "\n",
    "        near_1_idx = dist_argsort[1]\n",
    "        near_2_idx = dist_argsort[2]\n",
    "\n",
    "        origin_loc = df_temp[df_temp['atom_index'] == i][['x', 'y', 'z']].values[0]\n",
    "        near_1_loc = df_temp[df_temp['atom_index'] == near_1_idx][['x', 'y', 'z']].values[0]\n",
    "        near_2_loc = df_temp[df_temp['atom_index'] == near_2_idx][['x', 'y', 'z']].values[0]\n",
    "\n",
    "        vec_01 = near_1_loc - origin_loc\n",
    "        vec_02 = near_2_loc - origin_loc\n",
    "        cos_12 = np.dot(vec_01, vec_02) /np.linalg.norm(vec_01) / np.linalg.norm(vec_02)\n",
    "\n",
    "        if cos_12 < -0.95:\n",
    "            c_bond_cnt.append(2)\n",
    "            continue\n",
    "\n",
    "        near_3_idx = dist_argsort[3]\n",
    "        near_3_loc = df_temp[df_temp['atom_index'] == near_3_idx][['x', 'y', 'z']].values[0]\n",
    "        vec_012 = vec_01 + vec_02\n",
    "        vec_03 = near_3_loc - origin_loc\n",
    "        cos_123 = np.dot(vec_012, vec_03) / np.linalg.norm(vec_012) / dist_mat[i][near_3_idx]\n",
    "\n",
    "        if cos_123 < -0.95:\n",
    "            c_bond_cnt.append(3)\n",
    "        else:\n",
    "            c_bond_cnt.append(4)\n",
    "\n",
    "    se_c_bond = pd.Series(c_bond_cnt, name='c_bond')\n",
    "    se_c_idx = pd.Series(c_idx, name='atom_index')\n",
    "    df_bond = pd.concat([se_c_idx, se_c_bond], axis=1)\n",
    "\n",
    "    df_temp2 = pd.merge(df_temp[['atom', 'atom_index']], df_bond, on='atom_index', how='outer').fillna(0)\n",
    "    df_temp2['molecule_name'] = mol\n",
    "    return df_temp2"
   ]
  },
  {
   "cell_type": "code",
   "execution_count": 21,
   "metadata": {},
   "outputs": [],
   "source": [
    "def get_pickup_dist_matrix(df_idx, df_structures_idx, molecule, num_pickup, atoms=['H', 'C', 'N', 'O', 'F']):\n",
    "    pickup_dist_matrix = np.zeros([0, len(atoms)*num_pickup*3])\n",
    "    assigned_idxs = assign_atoms_index(df_idx, molecule) # [0, 1, 2, 3, 4, 5, 6] -> [1, 2, 3, 4, 5, 6]\n",
    "    dist_mat = get_dist_matrix(df_structures_idx, molecule)\n",
    "    df_cbond = c_bond_cnt(df_structures_idx, molecule)\n",
    "    df_nbond = n_bond_cnt(df_structures_idx, molecule)\n",
    "    \n",
    "    num_cbonds = df_cbond['c_bond'].values\n",
    "    num_nbonds = df_nbond['n_bond'].values\n",
    "    num_bonds = num_nbonds + num_cbonds\n",
    "    \n",
    "    for idx in assigned_idxs: # [1, 2, 3, 4, 5, 6] -> [2]\n",
    "        df_temp = df_structures_idx.loc[molecule]\n",
    "        locs = df_temp[['x','y','z']].values\n",
    "\n",
    "        dist_arr = dist_mat[idx] # (7, 7) -> (7, )\n",
    "\n",
    "        atoms_mole = df_structures_idx.loc[molecule]['atom'].values # ['O', 'C', 'C', 'N', 'H', 'H', 'H']\n",
    "        atoms_mole_idx = df_structures_idx.loc[molecule]['atom_index'].values # [0, 1, 2, 3, 4, 5, 6]\n",
    "\n",
    "        mask_atoms_mole_idx = atoms_mole_idx != idx # [ True,  True, False,  True,  True,  True,  True]\n",
    "        masked_atoms = atoms_mole[mask_atoms_mole_idx] # ['O', 'C', 'N', 'H', 'H', 'H']\n",
    "        masked_atoms_idx = atoms_mole_idx[mask_atoms_mole_idx]  # [0, 1, 3, 4, 5, 6]\n",
    "        masked_dist_arr = dist_arr[mask_atoms_mole_idx]  # [ 5.48387003, 2.15181049, 1.33269675, 10.0578779, 4.34733927, 4.34727838]\n",
    "        masked_locs = locs[masked_atoms_idx]\n",
    "        masked_num_bonds = num_bonds[masked_atoms_idx]\n",
    "\n",
    "        sorting_idx = np.argsort(masked_dist_arr) # [2, 1, 5, 4, 0, 3]\n",
    "        sorted_atoms_idx = masked_atoms_idx[sorting_idx] # [3, 1, 6, 5, 0, 4]\n",
    "        sorted_atoms = masked_atoms[sorting_idx] # ['N', 'C', 'H', 'H', 'O', 'H']\n",
    "        sorted_dist_arr = 1/masked_dist_arr[sorting_idx] #[0.75035825,0.46472494,0.23002898,0.23002576,0.18235297,0.09942455]\n",
    "        sorted_num_bonds = masked_num_bonds[sorting_idx]\n",
    "\n",
    "        sorted_locs = masked_locs[sorting_idx]\n",
    "        nearest_idx = sorted_atoms_idx[0]\n",
    "        nearest_atom = sorted_atoms[0]\n",
    "        base_vec = sorted_locs[0] - locs[idx]\n",
    "        base_vec = base_vec / np.linalg.norm(base_vec)\n",
    "        \n",
    "        target_matrix = np.zeros([len(atoms), num_pickup*3])\n",
    "        for a, atom in enumerate(atoms):\n",
    "            pickup_atom = sorted_atoms == atom # [False, False,  True,  True, False,  True]\n",
    "            pickup_dist = sorted_dist_arr[pickup_atom] # [0.23002898, 0.23002576, 0.09942455]\n",
    "            pickup_num_bond = sorted_num_bonds[pickup_atom]\n",
    "            pickup_locs = sorted_locs[pickup_atom] - np.tile(locs[idx], (sum(pickup_atom), 1))\n",
    "            \n",
    "            in_prods = np.dot(base_vec, pickup_locs.T) / np.linalg.norm(pickup_locs, axis=1)\n",
    "            \n",
    "            num_atom = len(pickup_dist)\n",
    "            if num_atom > num_pickup:\n",
    "                target_matrix[a, :num_pickup] = pickup_dist[:num_pickup]\n",
    "                target_matrix[a, num_pickup:num_pickup*2] = pickup_num_bond[:num_pickup]\n",
    "                target_matrix[a, num_pickup*2:] = in_prods[:num_pickup]\n",
    "            else:\n",
    "                target_matrix[a, :num_atom] = pickup_dist\n",
    "                target_matrix[a, num_pickup:num_pickup+num_atom] = pickup_num_bond\n",
    "                target_matrix[a, num_pickup*2:num_pickup*2+num_atom] = in_prods\n",
    "        \n",
    "        pickup_dist_matrix = np.vstack([pickup_dist_matrix, target_matrix.reshape(-1)])\n",
    "    return pickup_dist_matrix #(num_atoms, num_pickup*5)"
   ]
  },
  {
   "cell_type": "code",
   "execution_count": 22,
   "metadata": {},
   "outputs": [],
   "source": [
    "def get_dist_mat(df, df_structures_idx, mol, num_pickup):\n",
    "    assigned_idxs = assign_atoms_index(df, mol)\n",
    "    dist_mat_mole = get_pickup_dist_matrix(df, df_structures_idx, mol, num_pickup=num_pickup)\n",
    "    mol_name_arr = [mol] * len(assigned_idxs) \n",
    "\n",
    "    return (mol_name_arr, assigned_idxs, dist_mat_mole)"
   ]
  },
  {
   "cell_type": "code",
   "execution_count": 25,
   "metadata": {},
   "outputs": [
    {
     "name": "stdout",
     "output_type": "stream",
     "text": [
      "elapsed_time:4.728086471557617[sec]\n"
     ]
    }
   ],
   "source": [
    "num = 10\n",
    "dist_mat = np.zeros([0, num*5*3])\n",
    "molecule_names = np.empty([0])\n",
    "atoms_idx = np.zeros([0], dtype=np.int32)\n",
    "\n",
    "start = time.time()\n",
    "\n",
    "dist_mats = Parallel(n_jobs=NCORES)(delayed(get_dist_mat)(df_train_idx, df_structures_idx, mol, num_pickup=num) for mol in mols[:100])\n",
    "molecule_names = np.hstack([x[0] for x in dist_mats])\n",
    "atoms_idx = np.hstack([x[1] for x in dist_mats])\n",
    "dist_mat = np.vstack([x[2] for x in dist_mats])\n",
    "\n",
    "col_name_list = []\n",
    "atoms = ['H', 'C', 'N', 'O', 'F']\n",
    "for a in atoms:\n",
    "    for n in range(num):\n",
    "        col_name_list.append('dist_{}_{}'.format(a, n))\n",
    "    for n in range(num):\n",
    "        col_name_list.append('num_bond_{}_{}'.format(a, n))\n",
    "    for n in range(num):\n",
    "        col_name_list.append('cos_{}_{}'.format(a, n))\n",
    "        \n",
    "se_mole = pd.Series(molecule_names, name='molecule_name')\n",
    "se_atom_idx = pd.Series(atoms_idx, name='atom_index').astype('int32')\n",
    "df_dist = pd.DataFrame(dist_mat, columns=col_name_list).astype('float32')\n",
    "df_distance = pd.concat([se_mole, se_atom_idx,df_dist], axis=1)\n",
    "\n",
    "elapsed_time = time.time() - start\n",
    "print (\"elapsed_time:{0}\".format(elapsed_time) + \"[sec]\")"
   ]
  },
  {
   "cell_type": "code",
   "execution_count": null,
   "metadata": {},
   "outputs": [],
   "source": [
    "for i in range(num):\n",
    "    del df_distance['num_bond_H_{}'.format(i)]\n",
    "    del df_distance['num_bond_O_{}'.format(i)]\n",
    "    del df_distance['num_bond_F_{}'.format(i)]"
   ]
  },
  {
   "cell_type": "code",
   "execution_count": null,
   "metadata": {},
   "outputs": [],
   "source": [
    "nums = [10, 10, 5, 4, 3]\n",
    "for a, n in zip(atoms, nums):\n",
    "    for i in range(n, num):\n",
    "        del df_distance['dist_{}_{}'.format(a, i)]\n",
    "        del df_distance['cos_{}_{}'.format(a, i)]"
   ]
  },
  {
   "cell_type": "code",
   "execution_count": null,
   "metadata": {
    "scrolled": true
   },
   "outputs": [],
   "source": [
    "df_distance.to_pickle(OUTPUT + '20190628_dist_bond_dir_train_temp0.pickle')"
   ]
  },
  {
   "cell_type": "code",
   "execution_count": null,
   "metadata": {},
   "outputs": [],
   "source": [
    "df_distance.head()"
   ]
  },
  {
   "cell_type": "code",
   "execution_count": null,
   "metadata": {},
   "outputs": [],
   "source": []
  }
 ],
 "metadata": {
  "kernelspec": {
   "display_name": "Python 3",
   "language": "python",
   "name": "python3"
  },
  "language_info": {
   "codemirror_mode": {
    "name": "ipython",
    "version": 3
   },
   "file_extension": ".py",
   "mimetype": "text/x-python",
   "name": "python",
   "nbconvert_exporter": "python",
   "pygments_lexer": "ipython3",
   "version": "3.6.8"
  }
 },
 "nbformat": 4,
 "nbformat_minor": 2
}
