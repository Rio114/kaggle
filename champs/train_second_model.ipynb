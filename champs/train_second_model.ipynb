{
 "cells": [
  {
   "cell_type": "code",
   "execution_count": 1,
   "metadata": {},
   "outputs": [],
   "source": [
    "import pandas as pd\n",
    "import numpy as np\n",
    "import time\n",
    "import random\n",
    "import lightgbm as lgb\n",
    "import time\n",
    "\n",
    "import pickle\n",
    "import matplotlib.pyplot as plt"
   ]
  },
  {
   "cell_type": "code",
   "execution_count": 2,
   "metadata": {},
   "outputs": [],
   "source": [
    "from process import gen_second_data"
   ]
  },
  {
   "cell_type": "code",
   "execution_count": 3,
   "metadata": {},
   "outputs": [],
   "source": [
    "FOLDER = '../../data_kaggle/champs/'\n",
    "OUTPUT = FOLDER + 'out/'"
   ]
  },
  {
   "cell_type": "code",
   "execution_count": 4,
   "metadata": {},
   "outputs": [],
   "source": [
    "second_train = \"20190715_second_train.pickle\"\n",
    "second_val = \"20190715_second_val.pickle\"\n",
    "second_test = \"20190715_second_test.pickle\"\n",
    "first = \"20190715_dist_ang_ori_bond_cos_train_1JHC.pickle\""
   ]
  },
  {
   "cell_type": "code",
   "execution_count": 5,
   "metadata": {},
   "outputs": [],
   "source": [
    "df_val_temp = pd.read_pickle(OUTPUT + second_val)\n",
    "df_train_temp = pd.read_pickle(OUTPUT + second_train)"
   ]
  },
  {
   "cell_type": "code",
   "execution_count": 6,
   "metadata": {},
   "outputs": [],
   "source": [
    "df_feat = pd.read_pickle(OUTPUT + first).fillna(0)"
   ]
  },
  {
   "cell_type": "code",
   "execution_count": 7,
   "metadata": {},
   "outputs": [
    {
     "data": {
      "text/html": [
       "<div>\n",
       "<style scoped>\n",
       "    .dataframe tbody tr th:only-of-type {\n",
       "        vertical-align: middle;\n",
       "    }\n",
       "\n",
       "    .dataframe tbody tr th {\n",
       "        vertical-align: top;\n",
       "    }\n",
       "\n",
       "    .dataframe thead th {\n",
       "        text-align: right;\n",
       "    }\n",
       "</style>\n",
       "<table border=\"1\" class=\"dataframe\">\n",
       "  <thead>\n",
       "    <tr style=\"text-align: right;\">\n",
       "      <th></th>\n",
       "      <th>id</th>\n",
       "      <th>molecule_name</th>\n",
       "      <th>atom_index_0</th>\n",
       "      <th>atom_index_1</th>\n",
       "      <th>type</th>\n",
       "      <th>scalar_coupling_constant</th>\n",
       "      <th>dist_H_0_x</th>\n",
       "      <th>dist_H_1_x</th>\n",
       "      <th>dist_H_2_x</th>\n",
       "      <th>dist_H_3_x</th>\n",
       "      <th>...</th>\n",
       "      <th>orientation_O_2_y</th>\n",
       "      <th>dist_F_0_y</th>\n",
       "      <th>dist_F_1_y</th>\n",
       "      <th>angle_F_0_y</th>\n",
       "      <th>angle_F_1_y</th>\n",
       "      <th>orientation_F_0_y</th>\n",
       "      <th>orientation_F_1_y</th>\n",
       "      <th>cos_3j</th>\n",
       "      <th>cos_3j^2</th>\n",
       "      <th>dist_center</th>\n",
       "    </tr>\n",
       "  </thead>\n",
       "  <tbody>\n",
       "    <tr>\n",
       "      <th>0</th>\n",
       "      <td>0</td>\n",
       "      <td>dsgdb9nsd_000001</td>\n",
       "      <td>1</td>\n",
       "      <td>0</td>\n",
       "      <td>1JHC</td>\n",
       "      <td>84.8076</td>\n",
       "      <td>0.560815</td>\n",
       "      <td>0.560806</td>\n",
       "      <td>0.560803</td>\n",
       "      <td>0.0</td>\n",
       "      <td>...</td>\n",
       "      <td>1.0</td>\n",
       "      <td>0.0</td>\n",
       "      <td>0.0</td>\n",
       "      <td>1.0</td>\n",
       "      <td>1.0</td>\n",
       "      <td>1.0</td>\n",
       "      <td>1.0</td>\n",
       "      <td>0.0</td>\n",
       "      <td>0.0</td>\n",
       "      <td>0.0</td>\n",
       "    </tr>\n",
       "    <tr>\n",
       "      <th>1</th>\n",
       "      <td>4</td>\n",
       "      <td>dsgdb9nsd_000001</td>\n",
       "      <td>2</td>\n",
       "      <td>0</td>\n",
       "      <td>1JHC</td>\n",
       "      <td>84.8074</td>\n",
       "      <td>0.560815</td>\n",
       "      <td>0.560806</td>\n",
       "      <td>0.560803</td>\n",
       "      <td>0.0</td>\n",
       "      <td>...</td>\n",
       "      <td>1.0</td>\n",
       "      <td>0.0</td>\n",
       "      <td>0.0</td>\n",
       "      <td>1.0</td>\n",
       "      <td>1.0</td>\n",
       "      <td>1.0</td>\n",
       "      <td>1.0</td>\n",
       "      <td>0.0</td>\n",
       "      <td>0.0</td>\n",
       "      <td>0.0</td>\n",
       "    </tr>\n",
       "    <tr>\n",
       "      <th>2</th>\n",
       "      <td>7</td>\n",
       "      <td>dsgdb9nsd_000001</td>\n",
       "      <td>3</td>\n",
       "      <td>0</td>\n",
       "      <td>1JHC</td>\n",
       "      <td>84.8093</td>\n",
       "      <td>0.560806</td>\n",
       "      <td>0.560806</td>\n",
       "      <td>0.560803</td>\n",
       "      <td>0.0</td>\n",
       "      <td>...</td>\n",
       "      <td>1.0</td>\n",
       "      <td>0.0</td>\n",
       "      <td>0.0</td>\n",
       "      <td>1.0</td>\n",
       "      <td>1.0</td>\n",
       "      <td>1.0</td>\n",
       "      <td>1.0</td>\n",
       "      <td>0.0</td>\n",
       "      <td>0.0</td>\n",
       "      <td>0.0</td>\n",
       "    </tr>\n",
       "    <tr>\n",
       "      <th>3</th>\n",
       "      <td>9</td>\n",
       "      <td>dsgdb9nsd_000001</td>\n",
       "      <td>4</td>\n",
       "      <td>0</td>\n",
       "      <td>1JHC</td>\n",
       "      <td>84.8095</td>\n",
       "      <td>0.560806</td>\n",
       "      <td>0.560806</td>\n",
       "      <td>0.560803</td>\n",
       "      <td>0.0</td>\n",
       "      <td>...</td>\n",
       "      <td>1.0</td>\n",
       "      <td>0.0</td>\n",
       "      <td>0.0</td>\n",
       "      <td>1.0</td>\n",
       "      <td>1.0</td>\n",
       "      <td>1.0</td>\n",
       "      <td>1.0</td>\n",
       "      <td>0.0</td>\n",
       "      <td>0.0</td>\n",
       "      <td>0.0</td>\n",
       "    </tr>\n",
       "    <tr>\n",
       "      <th>4</th>\n",
       "      <td>17</td>\n",
       "      <td>dsgdb9nsd_000005</td>\n",
       "      <td>2</td>\n",
       "      <td>0</td>\n",
       "      <td>1JHC</td>\n",
       "      <td>171.2200</td>\n",
       "      <td>0.000000</td>\n",
       "      <td>0.000000</td>\n",
       "      <td>0.000000</td>\n",
       "      <td>0.0</td>\n",
       "      <td>...</td>\n",
       "      <td>1.0</td>\n",
       "      <td>0.0</td>\n",
       "      <td>0.0</td>\n",
       "      <td>1.0</td>\n",
       "      <td>1.0</td>\n",
       "      <td>1.0</td>\n",
       "      <td>1.0</td>\n",
       "      <td>0.0</td>\n",
       "      <td>0.0</td>\n",
       "      <td>0.0</td>\n",
       "    </tr>\n",
       "  </tbody>\n",
       "</table>\n",
       "<p>5 rows × 229 columns</p>\n",
       "</div>"
      ],
      "text/plain": [
       "   id     molecule_name  atom_index_0  atom_index_1  type  \\\n",
       "0   0  dsgdb9nsd_000001             1             0  1JHC   \n",
       "1   4  dsgdb9nsd_000001             2             0  1JHC   \n",
       "2   7  dsgdb9nsd_000001             3             0  1JHC   \n",
       "3   9  dsgdb9nsd_000001             4             0  1JHC   \n",
       "4  17  dsgdb9nsd_000005             2             0  1JHC   \n",
       "\n",
       "   scalar_coupling_constant  dist_H_0_x  dist_H_1_x  dist_H_2_x  dist_H_3_x  \\\n",
       "0                   84.8076    0.560815    0.560806    0.560803         0.0   \n",
       "1                   84.8074    0.560815    0.560806    0.560803         0.0   \n",
       "2                   84.8093    0.560806    0.560806    0.560803         0.0   \n",
       "3                   84.8095    0.560806    0.560806    0.560803         0.0   \n",
       "4                  171.2200    0.000000    0.000000    0.000000         0.0   \n",
       "\n",
       "   ...  orientation_O_2_y  dist_F_0_y  dist_F_1_y  angle_F_0_y  angle_F_1_y  \\\n",
       "0  ...                1.0         0.0         0.0          1.0          1.0   \n",
       "1  ...                1.0         0.0         0.0          1.0          1.0   \n",
       "2  ...                1.0         0.0         0.0          1.0          1.0   \n",
       "3  ...                1.0         0.0         0.0          1.0          1.0   \n",
       "4  ...                1.0         0.0         0.0          1.0          1.0   \n",
       "\n",
       "   orientation_F_0_y  orientation_F_1_y  cos_3j  cos_3j^2  dist_center  \n",
       "0                1.0                1.0     0.0       0.0          0.0  \n",
       "1                1.0                1.0     0.0       0.0          0.0  \n",
       "2                1.0                1.0     0.0       0.0          0.0  \n",
       "3                1.0                1.0     0.0       0.0          0.0  \n",
       "4                1.0                1.0     0.0       0.0          0.0  \n",
       "\n",
       "[5 rows x 229 columns]"
      ]
     },
     "execution_count": 7,
     "metadata": {},
     "output_type": "execute_result"
    }
   ],
   "source": [
    "df_feat.head()"
   ]
  },
  {
   "cell_type": "code",
   "execution_count": 8,
   "metadata": {},
   "outputs": [
    {
     "data": {
      "text/plain": [
       "Index(['id', 'molecule_name', 'atom_index_0', 'atom_index_1', 'type',\n",
       "       'scalar_coupling_constant'],\n",
       "      dtype='object')"
      ]
     },
     "execution_count": 8,
     "metadata": {},
     "output_type": "execute_result"
    }
   ],
   "source": [
    "df_train_temp.columns[:6]"
   ]
  },
  {
   "cell_type": "code",
   "execution_count": 9,
   "metadata": {},
   "outputs": [],
   "source": [
    "df_train = pd.merge(df_feat, df_train_temp, \\\n",
    "                    left_on=['id', 'molecule_name', 'atom_index_0', 'atom_index_1', 'type','scalar_coupling_constant'],\n",
    "                    right_on=['id', 'molecule_name', 'atom_index_0', 'atom_index_1', 'type','scalar_coupling_constant'])"
   ]
  },
  {
   "cell_type": "code",
   "execution_count": 10,
   "metadata": {},
   "outputs": [],
   "source": [
    "df_val = pd.merge(df_feat, df_val_temp, \\\n",
    "                    left_on=['id', 'molecule_name', 'atom_index_0', 'atom_index_1', 'type','scalar_coupling_constant'],\n",
    "                    right_on=['id', 'molecule_name', 'atom_index_0', 'atom_index_1', 'type','scalar_coupling_constant'])"
   ]
  },
  {
   "cell_type": "code",
   "execution_count": 27,
   "metadata": {},
   "outputs": [],
   "source": [
    "rounds = 200000\n",
    "params = {\n",
    "        'task' : 'train',\n",
    "        'boosting_type' : 'gbdt',\n",
    "        'objective' : 'regression',\n",
    "        'metric' : {'l1'},\n",
    "        'num_leaves' : 63,\n",
    "        'learning_rate' : 0.005,\n",
    "        'feature_fraction' : 0.5,\n",
    "        'bagging_fraction' : 0.5,\n",
    "        'bagging_freq': 5,\n",
    "    'seed':0\n",
    "}"
   ]
  },
  {
   "cell_type": "code",
   "execution_count": 28,
   "metadata": {},
   "outputs": [],
   "source": [
    "def type_score(y_val, y_pred):\n",
    "    return np.log(sum(np.abs(y_val- y_pred)) / len(y_val))"
   ]
  },
  {
   "cell_type": "code",
   "execution_count": 29,
   "metadata": {},
   "outputs": [],
   "source": [
    "bond = \"1JHC\"\n",
    "y_train = df_train.query('type==\"{}\"'.format(bond))['scalar_coupling_constant'].values\n",
    "X_train = df_train.query('type==\"{}\"'.format(bond))[df_train.columns[6:]].values\n",
    "\n",
    "y_val = df_val.query('type==\"{}\"'.format(bond))['scalar_coupling_constant'].values\n",
    "X_val = df_val.query('type==\"{}\"'.format(bond))[df_val.columns[6:]].values"
   ]
  },
  {
   "cell_type": "code",
   "execution_count": 30,
   "metadata": {},
   "outputs": [],
   "source": [
    "lgb_train = lgb.Dataset(X_train, y_train)\n",
    "lgb_eval = lgb.Dataset(X_val, y_val, reference=lgb_train)"
   ]
  },
  {
   "cell_type": "code",
   "execution_count": 31,
   "metadata": {},
   "outputs": [
    {
     "name": "stdout",
     "output_type": "stream",
     "text": [
      "elapsed_time:3797.74[sec]\n"
     ]
    }
   ],
   "source": [
    "start = time.time()\n",
    "gbm = lgb.train(params,\n",
    "        lgb_train,\n",
    "        num_boost_round=rounds,\n",
    "        verbose_eval=0,\n",
    "        valid_sets=lgb_eval,\n",
    "        early_stopping_rounds=30)\n",
    "elapsed_time = time.time() - start\n",
    "print (\"elapsed_time:%.2f\" % elapsed_time + \"[sec]\")"
   ]
  },
  {
   "cell_type": "code",
   "execution_count": 32,
   "metadata": {},
   "outputs": [],
   "source": [
    "y_val_pred = gbm.predict(X_val, num_iteration=gbm.best_iteration)"
   ]
  },
  {
   "cell_type": "code",
   "execution_count": 33,
   "metadata": {},
   "outputs": [
    {
     "name": "stdout",
     "output_type": "stream",
     "text": [
      "121566\n",
      "score first model: -0.78\n",
      "score second model: -0.80\n"
     ]
    }
   ],
   "source": [
    "print(gbm.best_iteration)\n",
    "print(\"score first model: %.2f\" %  (type_score(y_val, X_val[:, -26])))\n",
    "print(\"score second model: %.2f\" %  (type_score(y_val, y_val_pred)))"
   ]
  },
  {
   "cell_type": "code",
   "execution_count": 34,
   "metadata": {},
   "outputs": [
    {
     "data": {
      "image/png": "[encoded data removed]",
      "text/plain": [
       "<Figure size 432x288 with 1 Axes>"
      ]
     },
     "metadata": {
      "needs_background": "light"
     },
     "output_type": "display_data"
    }
   ],
   "source": [
    "plt.scatter(y_val, X_val[:, -26])\n",
    "plt.scatter(y_val, y_val_pred)\n",
    "plt.show()"
   ]
  },
  {
   "cell_type": "code",
   "execution_count": 35,
   "metadata": {},
   "outputs": [
    {
     "data": {
      "text/plain": [
       "array([ 54559,  61089,  73271,  54011,  42779,  35297,  29059,  22829,\n",
       "        18090,  15329,  49663,  57123,  66233,  60813,  55598,  47605,\n",
       "        39847,  29621,  22650,  15750,  28887,  58997,  61597,  59795,\n",
       "        55002,  49300,  40888,  31796,  23688,  16617,  79015,  47852,\n",
       "        41361,  46132,  44629,  37273,  24544,  10097,   2423,      0,\n",
       "            0,  54878,  55130,  58040,  53112,  45578,  28183,  12295,\n",
       "         2787,      0,      0,  48126,  56626,  55398,  50830,  46306,\n",
       "        28764,  10821,   1606,      0,  55393,  54362,  56947,  58425,\n",
       "        55895,  46114,  28426,  11228,   2316,      0,  65030,  44426,\n",
       "        51230,  53937,  50626,  41135,  25675,   9551,   2016,      0,\n",
       "        46209,  18597,   7130,  40324,  17808,   7113,  28977,  14027,\n",
       "         4658,  30996,  14700,   6352,  19005,   8069,   3249,  76403,\n",
       "        42816,  11769,  66007,  35140,  10040,  47353,  30424,   7094,\n",
       "         2165,    948,   1510,    758,   1030,    362,  59291,  51587,\n",
       "        57895,  51283,  45818,  43632,  38423,  32566,  25672,  22109,\n",
       "            0,  49021,  51869,  52364,  53223,  51035,  45290,  37580,\n",
       "        29905,  22142,      0,  32159,  51785,  49825,  49095,  45754,\n",
       "        41045,  34548,  27000,  20635,  72212,  58901,  48349,  48235,\n",
       "        42908,  27626,  11840,   2794,      0,      0,  48693,  40693,\n",
       "        48017,  45299,  39835,  26164,  10171,   1398,      0,      0,\n",
       "        36946,  46293,  44951,  41787,  35960,  23096,   9581,   2113,\n",
       "            0,      0,  52563,  55960,  58067,  54583,  44339,  27789,\n",
       "        10811,   2199,      0,      0,  43898,  51268,  52726,  49950,\n",
       "        41387,  24951,   9610,   2497,      0,      0,  43169,  17279,\n",
       "         8269,  30565,  12846,   3588,  26636,  14235,   5968,  26978,\n",
       "        13622,   5533,  17175,   8356,   3157,  63032,  36768,  12070,\n",
       "        51514,  30742,   7554,  39615,  27707,   8566,   2349,    799,\n",
       "          403,    198,   1870,    722,      0,      0,      0, 214124,\n",
       "        52396,  18905,   3895,      0,  15518,   3131,      0,  72285,\n",
       "        53490,  16983,  35505,  25340,  12220,  74032,  52708,  24049,\n",
       "        64406,  38154,  17353,  37801,  17843,   6639,  34561,  16229,\n",
       "         5875])"
      ]
     },
     "execution_count": 35,
     "metadata": {},
     "output_type": "execute_result"
    }
   ],
   "source": [
    "gbm.feature_importance()"
   ]
  },
  {
   "cell_type": "code",
   "execution_count": 36,
   "metadata": {},
   "outputs": [],
   "source": [
    "df_imp = pd.Series(gbm.feature_importance(), index=df_train.query('type==\"{}\"'.format(bond))[df_train.columns[6:]].columns)"
   ]
  },
  {
   "cell_type": "code",
   "execution_count": 38,
   "metadata": {},
   "outputs": [
    {
     "data": {
      "text/plain": [
       "dist_H_0_x            54559\n",
       "dist_H_1_x            61089\n",
       "dist_H_2_x            73271\n",
       "dist_H_3_x            54011\n",
       "dist_H_4_x            42779\n",
       "dist_H_5_x            35297\n",
       "dist_H_6_x            29059\n",
       "dist_H_7_x            22829\n",
       "dist_H_8_x            18090\n",
       "dist_H_9_x            15329\n",
       "angle_H_0_x           49663\n",
       "angle_H_1_x           57123\n",
       "angle_H_2_x           66233\n",
       "angle_H_3_x           60813\n",
       "angle_H_4_x           55598\n",
       "angle_H_5_x           47605\n",
       "angle_H_6_x           39847\n",
       "angle_H_7_x           29621\n",
       "angle_H_8_x           22650\n",
       "angle_H_9_x           15750\n",
       "orientation_H_0_x     28887\n",
       "orientation_H_1_x     58997\n",
       "orientation_H_2_x     61597\n",
       "orientation_H_3_x     59795\n",
       "orientation_H_4_x     55002\n",
       "orientation_H_5_x     49300\n",
       "orientation_H_6_x     40888\n",
       "orientation_H_7_x     31796\n",
       "orientation_H_8_x     23688\n",
       "orientation_H_9_x     16617\n",
       "                      ...  \n",
       "orientation_F_1_y       722\n",
       "cos_3j                    0\n",
       "cos_3j^2                  0\n",
       "dist_center               0\n",
       "0                    214124\n",
       "1                     52396\n",
       "2                     18905\n",
       "3                      3895\n",
       "4                         0\n",
       "5                     15518\n",
       "6                      3131\n",
       "7                         0\n",
       "8                     72285\n",
       "9                     53490\n",
       "10                    16983\n",
       "11                    35505\n",
       "12                    25340\n",
       "13                    12220\n",
       "14                    74032\n",
       "15                    52708\n",
       "16                    24049\n",
       "17                    64406\n",
       "18                    38154\n",
       "19                    17353\n",
       "20                    37801\n",
       "21                    17843\n",
       "22                     6639\n",
       "23                    34561\n",
       "24                    16229\n",
       "25                     5875\n",
       "Length: 249, dtype: int64"
      ]
     },
     "execution_count": 38,
     "metadata": {},
     "output_type": "execute_result"
    }
   ],
   "source": [
    "df_imp"
   ]
  },
  {
   "cell_type": "code",
   "execution_count": null,
   "metadata": {},
   "outputs": [],
   "source": []
  }
 ],
 "metadata": {
  "kernelspec": {
   "display_name": "Python 3",
   "language": "python",
   "name": "python3"
  },
  "language_info": {
   "codemirror_mode": {
    "name": "ipython",
    "version": 3
   },
   "file_extension": ".py",
   "mimetype": "text/x-python",
   "name": "python",
   "nbconvert_exporter": "python",
   "pygments_lexer": "ipython3",
   "version": "3.6.8"
  }
 },
 "nbformat": 4,
 "nbformat_minor": 2
}
