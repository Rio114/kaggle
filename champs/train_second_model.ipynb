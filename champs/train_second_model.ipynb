{
 "cells": [
  {
   "cell_type": "code",
   "execution_count": 1,
   "metadata": {},
   "outputs": [],
   "source": [
    "import pandas as pd\n",
    "import numpy as np\n",
    "import time\n",
    "import random\n",
    "import lightgbm as lgb\n",
    "import time\n",
    "\n",
    "import pickle\n",
    "import matplotlib.pyplot as plt"
   ]
  },
  {
   "cell_type": "code",
   "execution_count": 2,
   "metadata": {},
   "outputs": [],
   "source": [
    "from process import gen_second_data"
   ]
  },
  {
   "cell_type": "code",
   "execution_count": 3,
   "metadata": {},
   "outputs": [],
   "source": [
    "FOLDER = '../../data_kaggle/champs/'\n",
    "OUTPUT = FOLDER + 'out/'"
   ]
  },
  {
   "cell_type": "code",
   "execution_count": 4,
   "metadata": {},
   "outputs": [],
   "source": [
    "second_train = \"20190715_second_train.pickle\"\n",
    "second_val = \"20190715_second_val.pickle\"\n",
    "second_test = \"20190715_second_test.pickle\"\n",
    "first = \"20190715_dist_ang_ori_bond_cos_train_1JHC.pickle\""
   ]
  },
  {
   "cell_type": "code",
   "execution_count": 5,
   "metadata": {},
   "outputs": [],
   "source": [
    "df_val_temp = pd.read_pickle(OUTPUT + second_val)\n",
    "df_train_temp = pd.read_pickle(OUTPUT + second_train)"
   ]
  },
  {
   "cell_type": "code",
   "execution_count": 6,
   "metadata": {},
   "outputs": [],
   "source": [
    "df_feat = pd.read_pickle(OUTPUT + first).fillna(0)"
   ]
  },
  {
   "cell_type": "code",
   "execution_count": 7,
   "metadata": {},
   "outputs": [
    {
     "data": {
      "text/html": [
       "<div>\n",
       "<style scoped>\n",
       "    .dataframe tbody tr th:only-of-type {\n",
       "        vertical-align: middle;\n",
       "    }\n",
       "\n",
       "    .dataframe tbody tr th {\n",
       "        vertical-align: top;\n",
       "    }\n",
       "\n",
       "    .dataframe thead th {\n",
       "        text-align: right;\n",
       "    }\n",
       "</style>\n",
       "<table border=\"1\" class=\"dataframe\">\n",
       "  <thead>\n",
       "    <tr style=\"text-align: right;\">\n",
       "      <th></th>\n",
       "      <th>id</th>\n",
       "      <th>molecule_name</th>\n",
       "      <th>atom_index_0</th>\n",
       "      <th>atom_index_1</th>\n",
       "      <th>type</th>\n",
       "      <th>scalar_coupling_constant</th>\n",
       "      <th>dist_H_0_x</th>\n",
       "      <th>dist_H_1_x</th>\n",
       "      <th>dist_H_2_x</th>\n",
       "      <th>dist_H_3_x</th>\n",
       "      <th>...</th>\n",
       "      <th>orientation_O_2_y</th>\n",
       "      <th>dist_F_0_y</th>\n",
       "      <th>dist_F_1_y</th>\n",
       "      <th>angle_F_0_y</th>\n",
       "      <th>angle_F_1_y</th>\n",
       "      <th>orientation_F_0_y</th>\n",
       "      <th>orientation_F_1_y</th>\n",
       "      <th>cos_3j</th>\n",
       "      <th>cos_3j^2</th>\n",
       "      <th>dist_center</th>\n",
       "    </tr>\n",
       "  </thead>\n",
       "  <tbody>\n",
       "    <tr>\n",
       "      <th>0</th>\n",
       "      <td>0</td>\n",
       "      <td>dsgdb9nsd_000001</td>\n",
       "      <td>1</td>\n",
       "      <td>0</td>\n",
       "      <td>1JHC</td>\n",
       "      <td>84.8076</td>\n",
       "      <td>0.560815</td>\n",
       "      <td>0.560806</td>\n",
       "      <td>0.560803</td>\n",
       "      <td>0.0</td>\n",
       "      <td>...</td>\n",
       "      <td>1.0</td>\n",
       "      <td>0.0</td>\n",
       "      <td>0.0</td>\n",
       "      <td>1.0</td>\n",
       "      <td>1.0</td>\n",
       "      <td>1.0</td>\n",
       "      <td>1.0</td>\n",
       "      <td>0.0</td>\n",
       "      <td>0.0</td>\n",
       "      <td>0.0</td>\n",
       "    </tr>\n",
       "    <tr>\n",
       "      <th>1</th>\n",
       "      <td>4</td>\n",
       "      <td>dsgdb9nsd_000001</td>\n",
       "      <td>2</td>\n",
       "      <td>0</td>\n",
       "      <td>1JHC</td>\n",
       "      <td>84.8074</td>\n",
       "      <td>0.560815</td>\n",
       "      <td>0.560806</td>\n",
       "      <td>0.560803</td>\n",
       "      <td>0.0</td>\n",
       "      <td>...</td>\n",
       "      <td>1.0</td>\n",
       "      <td>0.0</td>\n",
       "      <td>0.0</td>\n",
       "      <td>1.0</td>\n",
       "      <td>1.0</td>\n",
       "      <td>1.0</td>\n",
       "      <td>1.0</td>\n",
       "      <td>0.0</td>\n",
       "      <td>0.0</td>\n",
       "      <td>0.0</td>\n",
       "    </tr>\n",
       "    <tr>\n",
       "      <th>2</th>\n",
       "      <td>7</td>\n",
       "      <td>dsgdb9nsd_000001</td>\n",
       "      <td>3</td>\n",
       "      <td>0</td>\n",
       "      <td>1JHC</td>\n",
       "      <td>84.8093</td>\n",
       "      <td>0.560806</td>\n",
       "      <td>0.560806</td>\n",
       "      <td>0.560803</td>\n",
       "      <td>0.0</td>\n",
       "      <td>...</td>\n",
       "      <td>1.0</td>\n",
       "      <td>0.0</td>\n",
       "      <td>0.0</td>\n",
       "      <td>1.0</td>\n",
       "      <td>1.0</td>\n",
       "      <td>1.0</td>\n",
       "      <td>1.0</td>\n",
       "      <td>0.0</td>\n",
       "      <td>0.0</td>\n",
       "      <td>0.0</td>\n",
       "    </tr>\n",
       "    <tr>\n",
       "      <th>3</th>\n",
       "      <td>9</td>\n",
       "      <td>dsgdb9nsd_000001</td>\n",
       "      <td>4</td>\n",
       "      <td>0</td>\n",
       "      <td>1JHC</td>\n",
       "      <td>84.8095</td>\n",
       "      <td>0.560806</td>\n",
       "      <td>0.560806</td>\n",
       "      <td>0.560803</td>\n",
       "      <td>0.0</td>\n",
       "      <td>...</td>\n",
       "      <td>1.0</td>\n",
       "      <td>0.0</td>\n",
       "      <td>0.0</td>\n",
       "      <td>1.0</td>\n",
       "      <td>1.0</td>\n",
       "      <td>1.0</td>\n",
       "      <td>1.0</td>\n",
       "      <td>0.0</td>\n",
       "      <td>0.0</td>\n",
       "      <td>0.0</td>\n",
       "    </tr>\n",
       "    <tr>\n",
       "      <th>4</th>\n",
       "      <td>17</td>\n",
       "      <td>dsgdb9nsd_000005</td>\n",
       "      <td>2</td>\n",
       "      <td>0</td>\n",
       "      <td>1JHC</td>\n",
       "      <td>171.2200</td>\n",
       "      <td>0.000000</td>\n",
       "      <td>0.000000</td>\n",
       "      <td>0.000000</td>\n",
       "      <td>0.0</td>\n",
       "      <td>...</td>\n",
       "      <td>1.0</td>\n",
       "      <td>0.0</td>\n",
       "      <td>0.0</td>\n",
       "      <td>1.0</td>\n",
       "      <td>1.0</td>\n",
       "      <td>1.0</td>\n",
       "      <td>1.0</td>\n",
       "      <td>0.0</td>\n",
       "      <td>0.0</td>\n",
       "      <td>0.0</td>\n",
       "    </tr>\n",
       "  </tbody>\n",
       "</table>\n",
       "<p>5 rows × 229 columns</p>\n",
       "</div>"
      ],
      "text/plain": [
       "   id     molecule_name  atom_index_0  atom_index_1  type  \\\n",
       "0   0  dsgdb9nsd_000001             1             0  1JHC   \n",
       "1   4  dsgdb9nsd_000001             2             0  1JHC   \n",
       "2   7  dsgdb9nsd_000001             3             0  1JHC   \n",
       "3   9  dsgdb9nsd_000001             4             0  1JHC   \n",
       "4  17  dsgdb9nsd_000005             2             0  1JHC   \n",
       "\n",
       "   scalar_coupling_constant  dist_H_0_x  dist_H_1_x  dist_H_2_x  dist_H_3_x  \\\n",
       "0                   84.8076    0.560815    0.560806    0.560803         0.0   \n",
       "1                   84.8074    0.560815    0.560806    0.560803         0.0   \n",
       "2                   84.8093    0.560806    0.560806    0.560803         0.0   \n",
       "3                   84.8095    0.560806    0.560806    0.560803         0.0   \n",
       "4                  171.2200    0.000000    0.000000    0.000000         0.0   \n",
       "\n",
       "   ...  orientation_O_2_y  dist_F_0_y  dist_F_1_y  angle_F_0_y  angle_F_1_y  \\\n",
       "0  ...                1.0         0.0         0.0          1.0          1.0   \n",
       "1  ...                1.0         0.0         0.0          1.0          1.0   \n",
       "2  ...                1.0         0.0         0.0          1.0          1.0   \n",
       "3  ...                1.0         0.0         0.0          1.0          1.0   \n",
       "4  ...                1.0         0.0         0.0          1.0          1.0   \n",
       "\n",
       "   orientation_F_0_y  orientation_F_1_y  cos_3j  cos_3j^2  dist_center  \n",
       "0                1.0                1.0     0.0       0.0          0.0  \n",
       "1                1.0                1.0     0.0       0.0          0.0  \n",
       "2                1.0                1.0     0.0       0.0          0.0  \n",
       "3                1.0                1.0     0.0       0.0          0.0  \n",
       "4                1.0                1.0     0.0       0.0          0.0  \n",
       "\n",
       "[5 rows x 229 columns]"
      ]
     },
     "execution_count": 7,
     "metadata": {},
     "output_type": "execute_result"
    }
   ],
   "source": [
    "df_feat.head()"
   ]
  },
  {
   "cell_type": "code",
   "execution_count": 8,
   "metadata": {},
   "outputs": [
    {
     "data": {
      "text/plain": [
       "Index(['id', 'molecule_name', 'atom_index_0', 'atom_index_1', 'type',\n",
       "       'scalar_coupling_constant'],\n",
       "      dtype='object')"
      ]
     },
     "execution_count": 8,
     "metadata": {},
     "output_type": "execute_result"
    }
   ],
   "source": [
    "df_train_temp.columns[:6]"
   ]
  },
  {
   "cell_type": "code",
   "execution_count": null,
   "metadata": {},
   "outputs": [],
   "source": [
    "df_train = pd.merge(df_feat, df_train_temp, \\\n",
    "                    left_on=['id', 'molecule_name', 'atom_index_0', 'atom_index_1', 'type','scalar_coupling_constant'],\n",
    "                    right_on=['id', 'molecule_name', 'atom_index_0', 'atom_index_1', 'type','scalar_coupling_constant'])"
   ]
  },
  {
   "cell_type": "code",
   "execution_count": null,
   "metadata": {},
   "outputs": [],
   "source": [
    "df_val = pd.merge(df_feat, df_val_temp, \\\n",
    "                    left_on=['id', 'molecule_name', 'atom_index_0', 'atom_index_1', 'type','scalar_coupling_constant'],\n",
    "                    right_on=['id', 'molecule_name', 'atom_index_0', 'atom_index_1', 'type','scalar_coupling_constant'])"
   ]
  },
  {
   "cell_type": "code",
   "execution_count": null,
   "metadata": {},
   "outputs": [],
   "source": [
    "rounds = 200000\n",
    "params = {\n",
    "        'task' : 'train',\n",
    "        'boosting_type' : 'gbdt',\n",
    "        'objective' : 'regression',\n",
    "        'metric' : {'l2'},\n",
    "        'num_leaves' : 63,\n",
    "        'learning_rate' : 0.001,\n",
    "        'feature_fraction' : 0.5,\n",
    "        'bagging_fraction' : 0.5,\n",
    "        'bagging_freq': 5,\n",
    "    'seed':0\n",
    "}"
   ]
  },
  {
   "cell_type": "code",
   "execution_count": null,
   "metadata": {},
   "outputs": [],
   "source": [
    "def type_score(y_val, y_pred):\n",
    "    return np.log(sum(np.abs(y_val- y_pred)) / len(y_val))"
   ]
  },
  {
   "cell_type": "code",
   "execution_count": null,
   "metadata": {},
   "outputs": [],
   "source": [
    "bond = \"1JHC\"\n",
    "y_train = df_train.query('type==\"{}\"'.format(bond))['scalar_coupling_constant'].values\n",
    "X_train = df_train.query('type==\"{}\"'.format(bond))[df_train.columns[6:]].values\n",
    "\n",
    "y_val = df_val.query('type==\"{}\"'.format(bond))['scalar_coupling_constant'].values\n",
    "X_val = df_val.query('type==\"{}\"'.format(bond))[df_val.columns[6:]].values"
   ]
  },
  {
   "cell_type": "code",
   "execution_count": null,
   "metadata": {},
   "outputs": [],
   "source": [
    "lgb_train = lgb.Dataset(X_train, y_train)\n",
    "lgb_eval = lgb.Dataset(X_val, y_val, reference=lgb_train)"
   ]
  },
  {
   "cell_type": "code",
   "execution_count": null,
   "metadata": {},
   "outputs": [],
   "source": [
    "start = time.time()\n",
    "gbm = lgb.train(params,\n",
    "        lgb_train,\n",
    "        num_boost_round=rounds,\n",
    "        verbose_eval=0,\n",
    "        valid_sets=lgb_eval,\n",
    "        early_stopping_rounds=30)\n",
    "elapsed_time = time.time() - start\n",
    "print (\"elapsed_time:%.2f\" % elapsed_time + \"[sec]\")"
   ]
  },
  {
   "cell_type": "code",
   "execution_count": null,
   "metadata": {},
   "outputs": [],
   "source": [
    "y_val_pred = gbm.predict(X_val, num_iteration=gbm.best_iteration)"
   ]
  },
  {
   "cell_type": "code",
   "execution_count": null,
   "metadata": {},
   "outputs": [],
   "source": [
    "print(gbm.best_iteration)\n",
    "print(\"score first model: %.2f\" %  (type_score(y_val, X_val[:, -26])))\n",
    "print(\"score second model: %.2f\" %  (type_score(y_val, y_val_pred)))"
   ]
  },
  {
   "cell_type": "code",
   "execution_count": null,
   "metadata": {},
   "outputs": [],
   "source": [
    "plt.scatter(y_val, X_val[:, -26])\n",
    "plt.scatter(y_val, y_val_pred)\n",
    "plt.show()"
   ]
  },
  {
   "cell_type": "code",
   "execution_count": null,
   "metadata": {},
   "outputs": [],
   "source": [
    "gbm.feature_importance()"
   ]
  },
  {
   "cell_type": "code",
   "execution_count": null,
   "metadata": {},
   "outputs": [],
   "source": []
  }
 ],
 "metadata": {
  "kernelspec": {
   "display_name": "Python 3",
   "language": "python",
   "name": "python3"
  },
  "language_info": {
   "codemirror_mode": {
    "name": "ipython",
    "version": 3
   },
   "file_extension": ".py",
   "mimetype": "text/x-python",
   "name": "python",
   "nbconvert_exporter": "python",
   "pygments_lexer": "ipython3",
   "version": "3.6.8"
  }
 },
 "nbformat": 4,
 "nbformat_minor": 2
}
