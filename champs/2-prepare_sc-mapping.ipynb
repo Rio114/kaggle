{
 "cells": [
  {
   "cell_type": "code",
   "execution_count": null,
   "metadata": {},
   "outputs": [],
   "source": [
    "import pandas as pd\n",
    "import numpy as np\n",
    "import time\n",
    "import random\n",
    "import lightgbm as lgb\n",
    "import time\n",
    "from multiprocessing import Pool\n",
    "from tqdm import tqdm\n",
    "import pickle\n",
    "import matplotlib.pyplot as plt"
   ]
  },
  {
   "cell_type": "code",
   "execution_count": null,
   "metadata": {},
   "outputs": [],
   "source": [
    "from process import gen_map_dist"
   ]
  },
  {
   "cell_type": "code",
   "execution_count": null,
   "metadata": {},
   "outputs": [],
   "source": [
    "FOLDER = '../../data_kaggle/champs/'\n",
    "OUTPUT = FOLDER + 'out/'\n",
    "TEMP = OUTPUT + 'temp/'\n",
    "MAP  = OUTPUT + 'map/'"
   ]
  },
  {
   "cell_type": "code",
   "execution_count": null,
   "metadata": {},
   "outputs": [],
   "source": [
    "# original input\n",
    "df_structures = pd.read_csv(FOLDER+'structures.csv')\n",
    "df_train = pd.read_csv(FOLDER+'train.csv')\n",
    "df_test = pd.read_csv(FOLDER+'test.csv')"
   ]
  },
  {
   "cell_type": "code",
   "execution_count": null,
   "metadata": {},
   "outputs": [],
   "source": [
    "MAP_DATE = '20190818'"
   ]
  },
  {
   "cell_type": "code",
   "execution_count": null,
   "metadata": {},
   "outputs": [],
   "source": [
    "# input files\n"
   ]
  },
  {
   "cell_type": "code",
   "execution_count": null,
   "metadata": {},
   "outputs": [],
   "source": [
    "# output files\n",
    "temp_map_train = TEMP + 'map_train_{}.pickle'\n",
    "temp_dist_train = TEMP + 'dist_train_{}.pickle'\n",
    "temp_map_test = TEMP + 'map_test_{}.pickle'\n",
    "temp_dist_test = TEMP + 'dist_test_{}.pickle'\n",
    "\n",
    "map_train = MAP + MAP_DATE + '_' + 'map_train.pickle'\n",
    "map_test = MAP + MAP_DATE + '_' + 'map_test.pickle'\n",
    "\n",
    "dist_train = MAP + MAP_DATE + '_' + 'dist_train.pickle'\n",
    "dist_test = MAP + MAP_DATE + '_' + 'dist_test.pickle'"
   ]
  },
  {
   "cell_type": "code",
   "execution_count": null,
   "metadata": {},
   "outputs": [],
   "source": [
    "df_train_idx = df_train.set_index('molecule_name')\n",
    "df_structures_idx = df_structures.set_index('molecule_name')\n",
    "df_test_idx = df_test.set_index('molecule_name')\n",
    "mols_train = df_train['molecule_name'].unique()\n",
    "mols_test = df_test['molecule_name'].unique()"
   ]
  },
  {
   "cell_type": "code",
   "execution_count": null,
   "metadata": {},
   "outputs": [],
   "source": [
    "num_div = 8\n",
    "num_col = 1"
   ]
  },
  {
   "cell_type": "code",
   "execution_count": null,
   "metadata": {},
   "outputs": [],
   "source": [
    "def gen_mapping_train(temp_no):\n",
    "    df_train_map = pd.DataFrame()\n",
    "    df_train_dist = pd.DataFrame()\n",
    "\n",
    "    div = len(mols_train) // num_div\n",
    "    res = len(mols_train) % num_div\n",
    "    if temp_no == num_div - 1:\n",
    "        last_slice = div*(temp_no+1) + res\n",
    "    else:\n",
    "        last_slice = div*(temp_no+1)\n",
    "    for m in tqdm(mols_train[div*temp_no:last_slice]):\n",
    "        df_train_map_temp, df_train_dist_temp = gen_map_dist(df_train_idx, df_structures_idx, num_col, m)\n",
    "        df_train_map = pd.concat([df_train_map, df_train_map_temp], axis=0)\n",
    "        df_train_dist = pd.concat([df_train_dist, df_train_dist_temp], axis=0)\n",
    "        if df_train_idx.loc[m].shape[0] != df_train_dist_temp.shape[0]:\n",
    "            if type(df_train_idx.loc[m]) == pd.Series:\n",
    "                continue\n",
    "            else:\n",
    "                print('unmatch shape ', m)\n",
    "    \n",
    "    df_train_map.to_pickle(temp_map_train.format(temp_no))\n",
    "    df_train_dist.to_pickle(temp_dist_train.format(temp_no))\n",
    "\n"
   ]
  },
  {
   "cell_type": "code",
   "execution_count": null,
   "metadata": {},
   "outputs": [],
   "source": [
    "start = time.time()\n",
    "with Pool(processes=num_div) as p:\n",
    "    p.map(gen_mapping_train, [i for i in range(num_div)])\n",
    "\n",
    "elapsed_time = time.time() - start\n",
    "print (\"total elapsed_time:{0}\".format(elapsed_time) + \"[sec]\")    "
   ]
  },
  {
   "cell_type": "code",
   "execution_count": null,
   "metadata": {},
   "outputs": [],
   "source": [
    "def gen_mapping_test(temp_no)\n",
    "    df_test_map = pd.DataFrame()\n",
    "    df_test_dist = pd.DataFrame()\n",
    "\n",
    "    div = len(mols_test) // num_div\n",
    "    res = len(mols_test) % num_div\n",
    "    if temp_no == num_div - 1:\n",
    "        last_slice = div*(temp_no+1) + res\n",
    "    else:\n",
    "        last_slice = div*(temp_no+1)\n",
    "\n",
    "    for m in mols_test[div*temp_no:last_slice]:\n",
    "        df_test_map_temp, df_test_dist_temp = gen_map_dist(df_test_idx, df_structures_idx, num_col, m)\n",
    "        df_test_map = pd.concat([df_test_map, df_test_map_temp], axis=0)\n",
    "        df_test_dist = pd.concat([df_test_dist, df_test_dist_temp], axis=0)\n",
    "\n",
    "    df_test_map.to_pickle(temp_map_test.format(temp_no))\n",
    "    df_test_dist.to_pickle(temp_dist_test.format(temp_no))\n"
   ]
  },
  {
   "cell_type": "code",
   "execution_count": null,
   "metadata": {},
   "outputs": [],
   "source": [
    "start = time.time()\n",
    "with Pool(processes=num_div) as p:\n",
    "    p.map(gen_mapping_test, [i for i in range(num_div)])\n",
    "\n",
    "elapsed_time = time.time() - start\n",
    "print (\"total elapsed_time:{0}\".format(elapsed_time) + \"[sec]\")    "
   ]
  },
  {
   "cell_type": "code",
   "execution_count": null,
   "metadata": {
    "scrolled": true
   },
   "outputs": [],
   "source": [
    "# div = len(mols_train) // num_div\n",
    "\n",
    "# df_train_map = pd.DataFrame()\n",
    "# df_train_dist = pd.DataFrame()\n",
    "\n",
    "# start = time.time()\n",
    "\n",
    "# # for m in mols_train[:10]:\n",
    "# for m in mols_train[div*temp_no:]:\n",
    "#     df_train_map_temp, df_train_dist_temp = gen_map_dist(df_train_idx, df_structures_idx, m)\n",
    "#     df_train_map = pd.concat([df_train_map, df_train_map_temp], axis=0)\n",
    "#     df_train_dist = pd.concat([df_train_dist, df_train_dist_temp], axis=0)\n",
    "#     if df_train_idx.loc[m].shape[0] != df_train_dist_temp.shape[0]:\n",
    "#         if type(df_train_idx.loc[m]) == pd.Series:\n",
    "#             continue\n",
    "#         else:\n",
    "#             print('unmatch shape ', m)\n",
    "    \n",
    "# # df_train_map.to_pickle(temp_map_train.format(temp_no))\n",
    "# # df_train_dist.to_pickle(temp_dist_train.format(temp_no))\n",
    "\n",
    "# elapsed_time = time.time() - start\n",
    "# print (\"total elapsed_time:{0}\".format(elapsed_time) + \"[sec]\")"
   ]
  },
  {
   "cell_type": "code",
   "execution_count": null,
   "metadata": {},
   "outputs": [],
   "source": [
    "# div = len(mols_test) // num_div\n",
    "\n",
    "# df_test_map = pd.DataFrame()\n",
    "# df_test_dist = pd.DataFrame()\n",
    "\n",
    "# start = time.time()\n",
    "\n",
    "# # for m in mols_test[:10]:\n",
    "# for m in mols_test[div*temp_no:]:\n",
    "#     df_test_map_temp, df_test_dist_temp = gen_map_dist(df_test_idx, df_structures_idx, m)\n",
    "#     df_test_map = pd.concat([df_test_map, df_test_map_temp], axis=0)\n",
    "#     df_test_dist = pd.concat([df_test_dist, df_test_dist_temp], axis=0)\n",
    "    \n",
    "# df_test_map.to_pickle(temp_map_test.format(temp_no))\n",
    "# df_test_dist.to_pickle(temp_dist_test.format(temp_no))\n",
    "\n",
    "# elapsed_time = time.time() - start\n",
    "# print (\"total elapsed_time:{0}\".format(elapsed_time) + \"[sec]\")"
   ]
  },
  {
   "cell_type": "code",
   "execution_count": null,
   "metadata": {},
   "outputs": [],
   "source": [
    "df_map_train_list = []\n",
    "df_map_test_list = []\n",
    "\n",
    "df_dist_train_list = []\n",
    "df_dist_test_list = []\n",
    "\n",
    "\n",
    "for i in range(num_div):\n",
    "    temp1 = pd.read_pickle(temp_map_train.format(i)).shape[0]\n",
    "    temp2 = pd.read_pickle(temp_map_test.format(i)).shape[0]\n",
    "    \n",
    "    df_map_train_list.append(pd.read_pickle(temp_map_train.format(i)))\n",
    "    df_map_test_list.append(pd.read_pickle(temp_map_test.format(i)))\n",
    "    \n",
    "    df_dist_train_list.append(pd.read_pickle(temp_dist_train.format(i)))\n",
    "    df_dist_test_list.append(pd.read_pickle(temp_dist_test.format(i)))\n",
    "    \n",
    "df_map_train = pd.concat(df_map_train_list, axis=0)\n",
    "df_map_test = pd.concat(df_map_test_list, axis=0)\n",
    "\n",
    "df_dist_train = pd.concat(df_dist_train_list, axis=0)\n",
    "df_dist_test = pd.concat(df_dist_test_list, axis=0)"
   ]
  },
  {
   "cell_type": "code",
   "execution_count": null,
   "metadata": {},
   "outputs": [],
   "source": [
    "df_map_train.to_pickle(map_train)\n",
    "df_map_test.to_pickle(map_test)\n",
    "\n",
    "df_dist_train.to_pickle(dist_train)\n",
    "df_dist_test.to_pickle(dist_test)"
   ]
  },
  {
   "cell_type": "code",
   "execution_count": null,
   "metadata": {},
   "outputs": [],
   "source": [
    "print(df_map_train.shape, \n",
    "df_map_test.shape,\n",
    "df_dist_train.shape,\n",
    "df_dist_test.shape)"
   ]
  },
  {
   "cell_type": "code",
   "execution_count": null,
   "metadata": {},
   "outputs": [],
   "source": []
  }
 ],
 "metadata": {
  "kernelspec": {
   "display_name": "Python 3",
   "language": "python",
   "name": "python3"
  },
  "language_info": {
   "codemirror_mode": {
    "name": "ipython",
    "version": 3
   },
   "file_extension": ".py",
   "mimetype": "text/x-python",
   "name": "python",
   "nbconvert_exporter": "python",
   "pygments_lexer": "ipython3",
   "version": "3.6.8"
  }
 },
 "nbformat": 4,
 "nbformat_minor": 2
}
