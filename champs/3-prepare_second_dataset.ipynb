{
 "cells": [
  {
   "cell_type": "code",
   "execution_count": 1,
   "metadata": {},
   "outputs": [],
   "source": [
    "import pandas as pd\n",
    "import numpy as np\n",
    "import time\n",
    "import random\n",
    "import lightgbm as lgb\n",
    "import time\n",
    "\n",
    "import pickle\n",
    "import matplotlib.pyplot as plt"
   ]
  },
  {
   "cell_type": "code",
   "execution_count": 2,
   "metadata": {},
   "outputs": [],
   "source": [
    "from process import gen_second_data"
   ]
  },
  {
   "cell_type": "code",
   "execution_count": 3,
   "metadata": {},
   "outputs": [],
   "source": [
    "FOLDER = '../../data_kaggle/champs/'\n",
    "OUTPUT = FOLDER + 'out/'"
   ]
  },
  {
   "cell_type": "code",
   "execution_count": 4,
   "metadata": {},
   "outputs": [],
   "source": [
    "df = pd.read_csv(FOLDER+'train.csv')\n",
    "df_structures = pd.read_csv(FOLDER+'structures.csv')"
   ]
  },
  {
   "cell_type": "code",
   "execution_count": 5,
   "metadata": {},
   "outputs": [],
   "source": [
    "df_idx = df.set_index('molecule_name')\n",
    "df_structures_idx = df_structures.set_index('molecule_name')\n",
    "mols_train = df['molecule_name'].unique()"
   ]
  },
  {
   "cell_type": "code",
   "execution_count": 6,
   "metadata": {},
   "outputs": [],
   "source": [
    "pred_train = '20190721_predict_train.pickle'\n",
    "pred_val = '20190721_predict_val.pickle'\n",
    "first_submission_name = '20190721_submission.csv'\n",
    "temp_no = 0\n",
    "temp_pickle = '20190721_features_{}.pickle'.format(temp_no)\n",
    "temp_pickle_val = '20190721_features_val_{}.pickle'.format(temp_no)\n",
    "temp_pickle_sub = '20190721_features_sub_{}.pickle'.format(temp_no)"
   ]
  },
  {
   "cell_type": "code",
   "execution_count": 7,
   "metadata": {},
   "outputs": [],
   "source": [
    "df_train = pd.read_pickle(OUTPUT + pred_train)[['id', 'molecule_name', 'atom_index_0','atom_index_1','type', 'scalar_coupling_constant','predict']]\n",
    "df_val = pd.read_pickle(OUTPUT + pred_val)[['id', 'molecule_name', 'atom_index_0','atom_index_1','type', 'scalar_coupling_constant','predict']]\n",
    "\n",
    "mols_train = df_train['molecule_name'].unique()\n",
    "mols_val = df_val['molecule_name'].unique()\n",
    "\n",
    "df = pd.concat([df_train, df_val], axis=0).sort_values('id')\n",
    "df_idx = df.set_index('molecule_name')"
   ]
  },
  {
   "cell_type": "code",
   "execution_count": 8,
   "metadata": {},
   "outputs": [],
   "source": [
    "bonds = ['1JHC', '1JHN', '2JHH', '2JHC', '2JHN', '3JHH', '3JHC', '3JHN']"
   ]
  },
  {
   "cell_type": "code",
   "execution_count": null,
   "metadata": {
    "scrolled": true
   },
   "outputs": [],
   "source": [
    "div = len(mols_train) // 8\n",
    "\n",
    "df_train_features = pd.DataFrame()\n",
    "start0 = time.time()\n",
    "\n",
    "for m in mols_train[div*temp_no:div*(temp_no+1)]:\n",
    "# for m in mols_train[:100]:\n",
    "    for b in bonds:\n",
    "        df_feature = gen_second_data(df_idx, df_structures_idx, m, target_bond=b, target_col='predict')\n",
    "        df_train_features = pd.concat([df_train_features, df_feature], axis=0)\n",
    "\n",
    "df_train_features.to_pickle(OUTPUT + temp_pickle)\n",
    "elapsed_time = time.time() - start0\n",
    "print (\"total elapsed_time:{0}\".format(elapsed_time) + \"[sec]\")"
   ]
  },
  {
   "cell_type": "code",
   "execution_count": null,
   "metadata": {},
   "outputs": [],
   "source": [
    "pd.merge(df, df_train_features, on=['id'], how='inner')['type'].value_counts()"
   ]
  },
  {
   "cell_type": "code",
   "execution_count": null,
   "metadata": {
    "scrolled": true
   },
   "outputs": [],
   "source": [
    "div = len(mols_val) // 8\n",
    "\n",
    "df_val_features = pd.DataFrame()\n",
    "start0 = time.time()\n",
    "\n",
    "for m in mols_val[div*temp_no:div*(temp_no+1)]:\n",
    "# for m in mols_val[:100]:\n",
    "    for b in bonds:\n",
    "        df_feature = gen_second_data(df_idx, df_structures_idx, m, target_bond=b, target_col='predict')\n",
    "        df_val_features = pd.concat([df_val_features, df_feature], axis=0)\n",
    "    \n",
    "df_val_features.to_pickle(OUTPUT + temp_pickle_val)\n",
    "elapsed_time = time.time() - start0\n",
    "print (\"total elapsed_time:{0}\".format(elapsed_time) + \"[sec]\")"
   ]
  },
  {
   "cell_type": "code",
   "execution_count": null,
   "metadata": {},
   "outputs": [],
   "source": [
    "# df_test = pd.read_csv(FOLDER + 'test.csv')\n",
    "# df_test_pred = pd.read_csv(OUTPUT + first_submission_name).rename(columns={'scalar_coupling_constant':'predict'})\n",
    "# df_test_merge = pd.merge(df_test, df_test_pred, on=['id'], how='inner')\n",
    "\n",
    "# df_test_idx = df_test_merge.set_index('molecule_name')\n",
    "# mols_test = df_test['molecule_name'].unique()"
   ]
  },
  {
   "cell_type": "code",
   "execution_count": null,
   "metadata": {},
   "outputs": [],
   "source": [
    "# div = len(mols_test) // 8\n",
    "\n",
    "# df_test_features = pd.DataFrame()\n",
    "# start0 = time.time()\n",
    "\n",
    "# for m in mols_test[div*temp_no:div*(temp_no+1)]:\n",
    "# # for m in mols_test[:100]:\n",
    "#     for b in bonds:\n",
    "#         df_feature = gen_second_data(df_test_idx, df_structures_idx, m,  target_bond=b, target_col='predict')\n",
    "#         df_test_features = pd.concat([df_test_features, df_feature], axis=0)\n",
    "    \n",
    "# df_test_features.to_pickle(OUTPUT + temp_pickle_sub)\n",
    "# elapsed_time = time.time() - start0\n",
    "# print (\"total elapsed_time:{0}\".format(elapsed_time) + \"[sec]\")"
   ]
  },
  {
   "cell_type": "code",
   "execution_count": null,
   "metadata": {},
   "outputs": [],
   "source": []
  }
 ],
 "metadata": {
  "kernelspec": {
   "display_name": "Python 3",
   "language": "python",
   "name": "python3"
  },
  "language_info": {
   "codemirror_mode": {
    "name": "ipython",
    "version": 3
   },
   "file_extension": ".py",
   "mimetype": "text/x-python",
   "name": "python",
   "nbconvert_exporter": "python",
   "pygments_lexer": "ipython3",
   "version": "3.6.8"
  }
 },
 "nbformat": 4,
 "nbformat_minor": 2
}
