{
 "cells": [
  {
   "cell_type": "code",
   "execution_count": 1,
   "metadata": {},
   "outputs": [],
   "source": [
    "import os\n",
    "import pandas as pd\n",
    "import numpy as np\n",
    "import time\n",
    "import pickle\n",
    "import random\n",
    "random.seed(0)\n",
    "\n",
    "import matplotlib.pyplot as plt\n",
    "\n",
    "import lightgbm as lgb\n",
    "import gc"
   ]
  },
  {
   "cell_type": "code",
   "execution_count": 2,
   "metadata": {},
   "outputs": [],
   "source": [
    "FOLDER = '../../data_kaggle/champs/'\n",
    "OUTPUT = FOLDER + 'out/'"
   ]
  },
  {
   "cell_type": "code",
   "execution_count": 3,
   "metadata": {},
   "outputs": [],
   "source": [
    "from process import type_score"
   ]
  },
  {
   "cell_type": "code",
   "execution_count": 4,
   "metadata": {},
   "outputs": [],
   "source": [
    "DATA_DATE = '20190721'\n",
    "MODEL_DATE = '20190808'"
   ]
  },
  {
   "cell_type": "code",
   "execution_count": 5,
   "metadata": {},
   "outputs": [],
   "source": [
    "# input files\n",
    "features_train = OUTPUT + DATA_DATE + '_' + 'dist_ang_ori_bond_cos_train_{}.pickle'\n",
    "features_test = OUTPUT + DATA_DATE + '_' + 'dist_ang_ori_bond_cos_test_{}.pickle'"
   ]
  },
  {
   "cell_type": "code",
   "execution_count": 6,
   "metadata": {},
   "outputs": [],
   "source": [
    "# output files\n",
    "trained_models =  OUTPUT + MODEL_DATE + '_' + 'champs_models_lgb_{}.pickle'\n",
    "\n",
    "pred_train_temp = OUTPUT + 'predict_train_temp_{}.pickle'\n",
    "mols_split = OUTPUT + MODEL_DATE + '_' + 'molecule_name_split.pickle'\n",
    "\n",
    "pred_train = OUTPUT + MODEL_DATE  + '_' + 'pred_train_0.pickle'\n",
    "\n",
    "pred_test = OUTPUT + MODEL_DATE  + '_' + 'submission_0.csv'\n",
    "\n",
    "submission_temp = OUTPUT + 'submission_temp_{}.pickle'"
   ]
  },
  {
   "cell_type": "code",
   "execution_count": 7,
   "metadata": {},
   "outputs": [],
   "source": [
    "df = pd.DataFrame()\n",
    "bond_types = ['3JHN', '3JHC','1JHC', '2JHH', '1JHN', '2JHN', '2JHC', '3JHH']\n",
    "for b in bond_types:\n",
    "    df_bond = pd.read_pickle(features_train.format(b)).fillna(0)\n",
    "    df = pd.concat([df, df_bond], axis=0)"
   ]
  },
  {
   "cell_type": "code",
   "execution_count": 8,
   "metadata": {},
   "outputs": [
    {
     "data": {
      "text/plain": [
       "(4658147, 221)"
      ]
     },
     "execution_count": 8,
     "metadata": {},
     "output_type": "execute_result"
    }
   ],
   "source": [
    "df.shape"
   ]
  },
  {
   "cell_type": "code",
   "execution_count": null,
   "metadata": {},
   "outputs": [],
   "source": [
    "mols = df['molecule_name'].unique()\n",
    "num = len(mols)\n",
    "num_train = int(num * 0.9)\n",
    "pickup = random.sample(range(num), num)\n",
    "pick_train = pickup[:num_train]\n",
    "pick_val = pickup[num_train:]"
   ]
  },
  {
   "cell_type": "code",
   "execution_count": null,
   "metadata": {},
   "outputs": [],
   "source": [
    "mols_train = mols[pick_train]\n",
    "mols_val = mols[pick_val]"
   ]
  },
  {
   "cell_type": "code",
   "execution_count": null,
   "metadata": {},
   "outputs": [],
   "source": [
    "df_train = df[df['molecule_name'].isin(mols_train)]\n",
    "df_val = df[df['molecule_name'].isin(mols_val)]"
   ]
  },
  {
   "cell_type": "code",
   "execution_count": null,
   "metadata": {},
   "outputs": [],
   "source": [
    "with open(mols_split, 'wb') as f:\n",
    "    pickle.dump(mols_train, f)\n",
    "    pickle.dump(mols_val, f)"
   ]
  },
  {
   "cell_type": "code",
   "execution_count": null,
   "metadata": {},
   "outputs": [],
   "source": [
    "rounds = 300000\n",
    "params = {\n",
    "        'task' : 'train',\n",
    "        'boosting_type' : 'gbdt',\n",
    "        'objective' : 'regression',\n",
    "        'metric' : {'l1'},\n",
    "        'num_leaves' : 63,\n",
    "        'learning_rate' : 0.005,\n",
    "        'feature_fraction' : 0.8,\n",
    "    'seed':0\n",
    "}\n",
    "bond_types = ['3JHN', '3JHC','1JHC', '2JHH', '1JHN', '2JHN', '2JHC', '3JHH']"
   ]
  },
  {
   "cell_type": "code",
   "execution_count": null,
   "metadata": {
    "scrolled": false
   },
   "outputs": [
    {
     "name": "stdout",
     "output_type": "stream",
     "text": [
      "---------- 3JHN ----------\n"
     ]
    }
   ],
   "source": [
    "scores = []\n",
    "start0 = time.time()\n",
    "\n",
    "for i, b in enumerate(bond_types):\n",
    "    print('-'*10, b, '-'*10)\n",
    "    \n",
    "    y_train_pred_b =[]\n",
    "    y_val_pred_b =[]\n",
    "    \n",
    "    df_train_b = df_train.query('type == \"{}\"'.format(b))\n",
    "    y_train = df_train_b['scalar_coupling_constant'].values\n",
    "    X_train = df_train_b[df_train_b.columns[6:]].values\n",
    "\n",
    "    df_val_b = df_val.query('type == \"{}\"'.format(b))\n",
    "    y_val = df_val_b['scalar_coupling_constant'].values\n",
    "    X_val = df_val_b[df_val_b.columns[6:]].values\n",
    "\n",
    "    lgb_train = lgb.Dataset(X_train, y_train)\n",
    "    lgb_eval = lgb.Dataset(X_val, y_val, reference=lgb_train)\n",
    "\n",
    "    gbm = lgb.train(params,\n",
    "                lgb_train,\n",
    "                num_boost_round=rounds,\n",
    "                verbose_eval=0,\n",
    "                valid_sets=lgb_eval,\n",
    "                early_stopping_rounds=10)\n",
    "\n",
    "    y_train_pred = gbm.predict(X_train, num_iteration=gbm.best_iteration)\n",
    "    df_train_pred_b = pd.DataFrame([df_train_b['id'], y_train_pred], index=['id', 'scalar_coupling_constant']).T\n",
    "    \n",
    "    y_val_pred = gbm.predict(X_val, num_iteration=gbm.best_iteration)\n",
    "    df_val_pred_b = pd.DataFrame([df_val_b['id'], y_val_pred], index=['id', 'scalar_coupling_constant']).T\n",
    "    \n",
    "    df_pred_b = pd.concat([df_train_pred_b, df_val_pred_b], axis=0)\n",
    "    df_pred_b.to_pickle(pred_train_temp.format(b))\n",
    "    \n",
    "    score_train = type_score(y_train_pred, y_train)\n",
    "    score_val = type_score(y_val_pred, y_val)\n",
    "    \n",
    "    print(gbm.best_iteration)\n",
    "    print('score train: %.2f' % score_train)\n",
    "    print('score valid: %.2f' % score_val)\n",
    "    \n",
    "    plt.scatter(y_train_pred, y_train)\n",
    "    plt.scatter(y_val_pred, y_val)\n",
    "    plt.show()\n",
    "    \n",
    "    with open(trained_models.format(b), 'wb') as f:\n",
    "        pickle.dump(gbm, f)\n",
    "\n",
    "    scores.append(score_val)\n",
    "    gc.collect()\n",
    "elapsed_time = time.time() - start0\n",
    "print (\"total elapsed_time:%.2f\" % (elapsed_time/3600) + \"[hours]\")\n"
   ]
  },
  {
   "cell_type": "code",
   "execution_count": null,
   "metadata": {},
   "outputs": [],
   "source": [
    "print('type score:', scores)\n",
    "print('total score:', np.array(scores).mean())\n",
    "\n",
    "# bond_types = ['3JHN', '3JHC','1JHC', '2JHH', '1JHN', '2JHN', '2JHC', '3JHH']\n",
    "# type score: [-2.213330811075121, -1.3581258350105094, -0.7845050130296711, -2.1655013094988513, -1.4024121799402647, -1.9751865470643377, -1.499394936229838, -2.1188348800106724]\n",
    "# total score: -1.689661438982408"
   ]
  },
  {
   "cell_type": "code",
   "execution_count": null,
   "metadata": {},
   "outputs": [],
   "source": [
    "df_train_predict = pd.DataFrame()\n",
    "\n",
    "for b in bond_types:\n",
    "    df_train_predict_b = pd.read_pickle(pred_train_temp.format(b))\n",
    "    df_train_predict = pd.concat([df_train_predict, df_train_predict_b], axis=0)\n",
    "    \n",
    "df_train_predict.to_pickle(pred_train)"
   ]
  },
  {
   "cell_type": "code",
   "execution_count": null,
   "metadata": {},
   "outputs": [],
   "source": []
  },
  {
   "cell_type": "code",
   "execution_count": null,
   "metadata": {},
   "outputs": [],
   "source": [
    "for b in bond_types:\n",
    "    print('-'*10, b, '-'*10)\n",
    "    start = time.time()\n",
    "    df_bond = pd.read_pickle(features_test.format(b))\n",
    "    y_pred_b =[]\n",
    "\n",
    "    with open(trained_models.format(b), 'rb') as f:\n",
    "        gbm = pickle.load(f)\n",
    "\n",
    "    X_test = df_bond[df_bond.columns[5:]].values  \n",
    "    y_pred = gbm.predict(X_test, num_iteration=gbm.best_iteration)\n",
    "    \n",
    "    df_submit_b = pd.DataFrame([df_bond['id'], y_pred], index=['id', 'scalar_coupling_constant']).T\n",
    "    df_submit_b.to_pickle(submission_temp.format(b))\n",
    "    \n",
    "    elapsed_time = time.time() - start\n",
    "    print (\"elapsed_time:{0}\".format(elapsed_time) + \"[sec]\")\n",
    "    gc.collect()"
   ]
  },
  {
   "cell_type": "code",
   "execution_count": null,
   "metadata": {},
   "outputs": [],
   "source": [
    "df_submit = pd.DataFrame()\n",
    "for b in bond_types:\n",
    "    df_submit_b = pd.read_pickle(submission_temp.format(b))\n",
    "    df_submit = pd.concat([df_submit, df_submit_b], axis=0)\n",
    "    \n",
    "df_submit['id'] = df_submit['id'].astype('int32')\n",
    "df_submit.head()"
   ]
  },
  {
   "cell_type": "code",
   "execution_count": null,
   "metadata": {},
   "outputs": [],
   "source": [
    "df_submit.to_csv(pred_test, index=False)"
   ]
  },
  {
   "cell_type": "code",
   "execution_count": null,
   "metadata": {},
   "outputs": [],
   "source": [
    "# for b in bond_types:\n",
    "#     print('-'*10, b, '-'*10)\n",
    "#     start = time.time()\n",
    "#     df = pd.read_pickle(features_train.format(b))\n",
    "\n",
    "#     with open(trained_models.format(b), 'rb') as f:\n",
    "#         gbm = pickle.load(f)\n",
    "\n",
    "#     X = df[df.columns[6:]].values  \n",
    "#     y_pred = gbm.predict(X, num_iteration=gbm.best_iteration)\n",
    "    \n",
    "#     df_pred = pd.DataFrame([df['id'], y_pred], index=['id', 'scalar_coupling_constant']).T\n",
    "#     df_pred['id'] = df_pred['id'].astype('int32')\n",
    "#     df_pred.to_pickle(pred_train_temp.format(b))\n",
    "    \n",
    "#     elapsed_time = time.time() - start\n",
    "#     print (\"elapsed_time:{0}\".format(elapsed_time) + \"[sec]\")\n",
    "#     gc.collect()\n",
    "    \n",
    "# df_pred_train = pd.DataFrame()\n",
    "# for b in bond_types:\n",
    "#     df_b = pd.read_pickle(pred_train_temp.format(b))\n",
    "#     df_pred_train = pd.concat([df_pred_train, df_b], axis=0, sort=False)\n",
    "    \n",
    "# df_pred_train['id'] = df_pred_train['id'].astype('int32')\n",
    "# df_pred_train = df_pred_train.reset_index(drop=True)\n",
    "# df_pred_train.head()\n",
    "\n",
    "# df_pred_train.to_pickle(pred_train)"
   ]
  },
  {
   "cell_type": "code",
   "execution_count": null,
   "metadata": {},
   "outputs": [],
   "source": [
    "# for b in bond_types:\n",
    "#     print('-'*10, b, '-'*10)\n",
    "#     start = time.time()\n",
    "#     df_bond = pd.read_pickle(features_test.format(b))\n",
    "#     y_pred_b =[]\n",
    "\n",
    "#     with open(trained_models.format(b), 'rb') as f:\n",
    "#         gbm = pickle.load(f)\n",
    "\n",
    "#     X_test = df_bond[df_bond.columns[5:]].values  \n",
    "#     y_pred = gbm.predict(X_test, num_iteration=gbm.best_iteration)\n",
    "    \n",
    "#     df_pred = pd.DataFrame([df_bond['id'], y_pred], index=['id', 'scalar_coupling_constant']).T\n",
    "#     df_pred['id'] = df_pred['id'].astype('int32')\n",
    "#     df_pred.to_pickle(submission_temp.format(b))\n",
    "    \n",
    "#     elapsed_time = time.time() - start\n",
    "#     print (\"elapsed_time:{0}\".format(elapsed_time) + \"[sec]\")\n",
    "#     gc.collect()\n",
    "    \n",
    "# df_submit = pd.DataFrame()\n",
    "# for b in bond_types:\n",
    "#     df_submit_b = pd.read_pickle(submission_temp.format(b))\n",
    "#     df_submit = pd.concat([df_submit, df_submit_b], axis=0)\n",
    "    \n",
    "# df_submit['id'] = df_submit['id'].astype('int32')\n",
    "# df_submit.head()\n",
    "\n",
    "# df_submit.to_pickle(submission)"
   ]
  }
 ],
 "metadata": {
  "kernelspec": {
   "display_name": "Python 3",
   "language": "python",
   "name": "python3"
  },
  "language_info": {
   "codemirror_mode": {
    "name": "ipython",
    "version": 3
   },
   "file_extension": ".py",
   "mimetype": "text/x-python",
   "name": "python",
   "nbconvert_exporter": "python",
   "pygments_lexer": "ipython3",
   "version": "3.6.8"
  }
 },
 "nbformat": 4,
 "nbformat_minor": 2
}
