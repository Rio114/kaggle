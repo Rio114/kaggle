{
 "cells": [
  {
   "cell_type": "code",
   "execution_count": 1,
   "metadata": {},
   "outputs": [],
   "source": [
    "import pandas as pd\n",
    "import numpy as np\n",
    "import time\n",
    "import random\n",
    "import lightgbm as lgb\n",
    "import time\n",
    "\n",
    "import pickle\n",
    "import matplotlib.pyplot as plt"
   ]
  },
  {
   "cell_type": "code",
   "execution_count": 2,
   "metadata": {},
   "outputs": [],
   "source": [
    "from process import gen_second_data"
   ]
  },
  {
   "cell_type": "code",
   "execution_count": 3,
   "metadata": {},
   "outputs": [],
   "source": [
    "FOLDER = '../../data_kaggle/champs/'\n",
    "OUTPUT = FOLDER + 'out/'"
   ]
  },
  {
   "cell_type": "code",
   "execution_count": 4,
   "metadata": {},
   "outputs": [],
   "source": [
    "# original input\n",
    "df_structures = pd.read_csv(FOLDER+'structures.csv')\n",
    "df_test = pd.read_csv(FOLDER+'test.csv')"
   ]
  },
  {
   "cell_type": "code",
   "execution_count": 5,
   "metadata": {},
   "outputs": [],
   "source": [
    "df_structures_idx = df_structures.set_index('molecule_name')\n",
    "df_test_idx = df_test.set_index('molecule_name')"
   ]
  },
  {
   "cell_type": "code",
   "execution_count": 6,
   "metadata": {},
   "outputs": [],
   "source": [
    "# input files\n",
    "pred_train = '20190721_predict_train.pickle'\n",
    "pred_val = '20190721_predict_val.pickle'\n",
    "first_submission_name = '20190721_submission.csv'\n",
    "\n",
    "map_train_pickle = '20190727_map_train.pickle'\n",
    "map_val_pickle = '20190727_map_val.pickle'\n",
    "map_test_pickle = '20190727_map_test.pickle'\n",
    "\n",
    "dist_train_pickle = '20190727_dist_train.pickle'\n",
    "dist_val_pickle = '20190727_dist_val.pickle'\n",
    "dist_test_pickle = '20190727_dist_test.pickle'"
   ]
  },
  {
   "cell_type": "code",
   "execution_count": 7,
   "metadata": {},
   "outputs": [],
   "source": [
    "# output files\n",
    "temp_no = 0\n",
    "\n"
   ]
  },
  {
   "cell_type": "code",
   "execution_count": 8,
   "metadata": {},
   "outputs": [],
   "source": [
    "# fixed slice for mols_train, mols_val\n",
    "df_train = pd.read_pickle(OUTPUT + pred_train)[['id', 'molecule_name', 'atom_index_0','atom_index_1','type', 'scalar_coupling_constant','predict']]\n",
    "df_val = pd.read_pickle(OUTPUT + pred_val)[['id', 'molecule_name', 'atom_index_0','atom_index_1','type', 'scalar_coupling_constant','predict']]\n",
    "\n",
    "mols_train = df_train['molecule_name'].unique()\n",
    "mols_val = df_val['molecule_name'].unique()\n",
    "\n",
    "df = pd.concat([df_train, df_val], axis=0).sort_values('id')\n",
    "df_idx = df.set_index('molecule_name')"
   ]
  },
  {
   "cell_type": "code",
   "execution_count": null,
   "metadata": {},
   "outputs": [],
   "source": [
    "df_map_train = pd.read_pickle(OUTPUT + map_train_pickle)\n",
    "df_map_val = pd.read_pickle(OUTPUT + map_val_pickle)\n",
    "df_map_test = pd.read_pickle(OUTPUT + map_test_pickle)\n",
    "\n",
    "df_dist_train = pd.read_pickle(OUTPUT + dist_train_pickle)\n",
    "df_dist_val = pd.read_pickle(OUTPUT + dist_val_pickle)\n",
    "df_dist_test = pd.read_pickle(OUTPUT + dist_test_pickle)"
   ]
  },
  {
   "cell_type": "code",
   "execution_count": null,
   "metadata": {},
   "outputs": [],
   "source": [
    "df_map_train_idx = df_map_train.set_index('molecule_name')\n",
    "df_map_val_idx = df_map_val.set_index('molecule_name')\n",
    "df_map_test_idx = df_map_test.set_index('molecule_name')\n",
    "\n",
    "df_dist_train_idx = df_dist_train.set_index('molecule_name')\n",
    "df_dist_val_idx = df_dist_val.set_index('molecule_name')\n",
    "df_dist_test_idx = df_dist_test.set_index('molecule_name')"
   ]
  },
  {
   "cell_type": "code",
   "execution_count": null,
   "metadata": {},
   "outputs": [],
   "source": [
    "df_sc_dist_train = pd.DataFrame()\n",
    "m = mols_train[0]\n",
    "df_sc_dist_train_temp = gen_second_data(df_idx, df_map_train_idx, m, target_col='predict')\n",
    "df_sc_dsit_train = pd.concat([df_sc_dist_train, df_sc_dist_train_temp], axis=0)\n",
    "df_sc_dsit_train"
   ]
  },
  {
   "cell_type": "code",
   "execution_count": null,
   "metadata": {},
   "outputs": [],
   "source": []
  },
  {
   "cell_type": "code",
   "execution_count": null,
   "metadata": {},
   "outputs": [],
   "source": [
    "df_sc_dist_val = pd.DataFrame()\n",
    "m = mols_val[0]\n",
    "df_sc_dist_val_temp = gen_second_data(df_idx, df_map_val_idx, m, target_col='predict')\n",
    "df_sc_dsit_val = pd.concat([df_sc_dist_val, df_sc_dist_val_temp], axis=0)\n",
    "df_sc_dsit_val"
   ]
  },
  {
   "cell_type": "code",
   "execution_count": null,
   "metadata": {},
   "outputs": [],
   "source": []
  },
  {
   "cell_type": "code",
   "execution_count": null,
   "metadata": {},
   "outputs": [],
   "source": [
    "div = len(mols_train) // 8\n",
    "\n",
    "df_train_map = pd.DataFrame()\n",
    "df_train_dist = pd.DataFrame()\n",
    "\n",
    "start = time.time()\n",
    "\n",
    "# for m in mols_train[:10]:\n",
    "for m in mols_train[div*temp_no:div*(temp_no+1)]:\n",
    "    df_train_map_temp, df_train_dist_temp = gen_map_dist(df_idx, df_structures_idx, m)\n",
    "    df_train_map = pd.concat([df_train_map, df_train_map_temp], axis=0)\n",
    "    df_train_dist = pd.concat([df_train_dist, df_train_dist_temp], axis=0)\n",
    "    \n",
    "# df_train_map.to_pickle(OUTPUT + temp_map_train_pickle)\n",
    "# df_train_dist.to_pickle(OUTPUT + temp_dist_train_pickle)\n",
    "\n",
    "elapsed_time = time.time() - start\n",
    "print (\"total elapsed_time:{0}\".format(elapsed_time) + \"[sec]\")"
   ]
  },
  {
   "cell_type": "code",
   "execution_count": null,
   "metadata": {
    "scrolled": true
   },
   "outputs": [],
   "source": [
    "div = len(mols_val) // 8\n",
    "\n",
    "df_val_map = pd.DataFrame()\n",
    "df_val_dist = pd.DataFrame()\n",
    "\n",
    "start = time.time()\n",
    "\n",
    "# for m in mols_val[:10]:\n",
    "for m in mols_val[div*temp_no:div*(temp_no+1)]:\n",
    "    df_val_map_temp, df_val_dist_temp = gen_map_dist(df_idx, df_structures_idx, m)\n",
    "    df_val_map = pd.concat([df_val_map, df_val_map_temp], axis=0)\n",
    "    df_val_dist = pd.concat([df_val_dist, df_val_dist_temp], axis=0)\n",
    "    \n",
    "# df_val_map.to_pickle(OUTPUT + temp_map_val_pickle)\n",
    "# df_val_dist.to_pickle(OUTPUT + temp_dist_val_pickle)\n",
    "\n",
    "elapsed_time = time.time() - start\n",
    "print (\"total elapsed_time:{0}\".format(elapsed_time) + \"[sec]\")"
   ]
  },
  {
   "cell_type": "code",
   "execution_count": null,
   "metadata": {},
   "outputs": [],
   "source": [
    "mols_test = df_test['molecule_name'].unique()"
   ]
  },
  {
   "cell_type": "code",
   "execution_count": null,
   "metadata": {},
   "outputs": [],
   "source": [
    "div = len(mols_test) // 8\n",
    "\n",
    "df_test_map = pd.DataFrame()\n",
    "df_test_dist = pd.DataFrame()\n",
    "\n",
    "start = time.time()\n",
    "\n",
    "# for m in mols_test[:10]:\n",
    "for m in mols_test[div*temp_no:div*(temp_no+1)]:\n",
    "    df_test_map_temp, df_test_dist_temp = gen_map_dist(df_test_idx, df_structures_idx, m)\n",
    "    df_test_map = pd.concat([df_test_map, df_test_map_temp], axis=0)\n",
    "    df_test_dist = pd.concat([df_test_dist, df_test_dist_temp], axis=0)\n",
    "    \n",
    "# df_test_map.to_pickle(OUTPUT + temp_map_test_pickle)\n",
    "# df_test_dist.to_pickle(OUTPUT + temp_dist_test_pickle)\n",
    "\n",
    "elapsed_time = time.time() - start\n",
    "print (\"total elapsed_time:{0}\".format(elapsed_time) + \"[sec]\")"
   ]
  },
  {
   "cell_type": "code",
   "execution_count": null,
   "metadata": {
    "scrolled": true
   },
   "outputs": [],
   "source": [
    "df_test_map"
   ]
  },
  {
   "cell_type": "code",
   "execution_count": null,
   "metadata": {},
   "outputs": [],
   "source": []
  },
  {
   "cell_type": "code",
   "execution_count": null,
   "metadata": {},
   "outputs": [],
   "source": []
  },
  {
   "cell_type": "code",
   "execution_count": null,
   "metadata": {},
   "outputs": [],
   "source": [
    "# df_map_train_list = []\n",
    "# df_map_val_list = []\n",
    "# df_map_test_list = []\n",
    "\n",
    "# df_dist_train_list = []\n",
    "# df_dist_val_list = []\n",
    "# df_dist_test_list = []\n",
    "\n",
    "# for i in range(8):\n",
    "#     df_map_train_list.append(pd.read_pickle(OUTPUT + temp_map_train_pickle.format(i)))\n",
    "#     df_map_val_list.append(pd.read_pickle(OUTPUT + temp_map_val_pickle.format(i)))\n",
    "#     df_map_test_list.append(pd.read_pickle(OUTPUT + temp_map_test_pickle.format(i)))\n",
    "    \n",
    "#     df_dist_train_list.append(pd.read_pickle(OUTPUT + temp_dist_train_pickle.format(i)))\n",
    "#     df_dist_val_list.append(pd.read_pickle(OUTPUT + temp_dist_val_pickle.format(i)))\n",
    "#     df_dist_test_list.append(pd.read_pickle(OUTPUT + temp_dist_test_pickle.format(i)))\n",
    "    \n",
    "# df_map_train = pd.concat(df_map_train_list, axis=0)\n",
    "# df_map_val = pd.concat(df_map_val_list, axis=0)\n",
    "# df_map_test = pd.concat(df_map_test_list, axis=0)\n",
    "\n",
    "# df_dist_train = pd.concat(df_dist_train_list, axis=0)\n",
    "# df_dist_val = pd.concat(df_dist_val_list, axis=0)\n",
    "# df_dist_test = pd.concat(df_dist_test_list, axis=0)"
   ]
  },
  {
   "cell_type": "code",
   "execution_count": null,
   "metadata": {},
   "outputs": [],
   "source": [
    "# df_map_train.head()"
   ]
  },
  {
   "cell_type": "code",
   "execution_count": null,
   "metadata": {},
   "outputs": [],
   "source": [
    "# df_map_train.to_pickle(OUTPUT + map_train_pickle)\n",
    "# df_map_val.to_pickle(OUTPUT + map_val_pickle)\n",
    "# df_map_test.to_pickle(OUTPUT + map_test_pickle)\n",
    "\n",
    "# df_dist_train.to_pickle(OUTPUT + dist_train_pickle)\n",
    "# df_dist_val.to_pickle(OUTPUT + dist_val_pickle)\n",
    "# df_dist_test.to_pickle(OUTPUT + dist_test_pickle)"
   ]
  },
  {
   "cell_type": "code",
   "execution_count": null,
   "metadata": {},
   "outputs": [],
   "source": [
    "# print(df_train.shape,\n",
    "# df_val.shape,\n",
    "# df_test.shape)"
   ]
  },
  {
   "cell_type": "code",
   "execution_count": null,
   "metadata": {},
   "outputs": [],
   "source": [
    "# print(df_map_train.shape, \n",
    "# df_map_val.shape,\n",
    "# df_map_test.shape,\n",
    "# df_dist_train.shpape,\n",
    "# df_dist_val.shape,\n",
    "# df_dist_test.shape)"
   ]
  }
 ],
 "metadata": {
  "kernelspec": {
   "display_name": "Python 3",
   "language": "python",
   "name": "python3"
  },
  "language_info": {
   "codemirror_mode": {
    "name": "ipython",
    "version": 3
   },
   "file_extension": ".py",
   "mimetype": "text/x-python",
   "name": "python",
   "nbconvert_exporter": "python",
   "pygments_lexer": "ipython3",
   "version": "3.6.8"
  }
 },
 "nbformat": 4,
 "nbformat_minor": 2
}
