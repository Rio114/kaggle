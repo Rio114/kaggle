{
 "cells": [
  {
   "cell_type": "code",
   "execution_count": 1,
   "metadata": {},
   "outputs": [],
   "source": [
    "import os\n",
    "import pandas as pd\n",
    "import numpy as np\n",
    "import matplotlib.pyplot as plt\n",
    "import time\n",
    "import random\n",
    "import lightgbm as lgb\n",
    "\n",
    "from sklearn.model_selection import train_test_split\n",
    "from sklearn.neural_network import MLPRegressor"
   ]
  },
  {
   "cell_type": "code",
   "execution_count": 2,
   "metadata": {},
   "outputs": [
    {
     "data": {
      "text/plain": [
       "['out', 'structures.csv', 'train.csv']"
      ]
     },
     "execution_count": 2,
     "metadata": {},
     "output_type": "execute_result"
    }
   ],
   "source": [
    "FOLDER = '../../data_kaggle/champs/'\n",
    "OUTPUT = FOLDER + 'out/'\n",
    "os.listdir(FOLDER)"
   ]
  },
  {
   "cell_type": "code",
   "execution_count": 3,
   "metadata": {},
   "outputs": [],
   "source": [
    "# df_mulliken_charges = pd.read_csv(FOLDER + 'mulliken_charges.csv')\n",
    "# df_sample =  pd.read_csv(FOLDER + 'sample_submission.csv')\n",
    "# df_magnetic_shielding_tensors = pd.read_csv(FOLDER + 'magnetic_shielding_tensors.csv')\n",
    "df_train = pd.read_csv(FOLDER + 'train.csv')\n",
    "# df_test = pd.read_csv(FOLDER + 'test.csv')\n",
    "# df_dipole_moments = pd.read_csv(FOLDER + 'dipole_moments.csv')\n",
    "# df_potential_energy = pd.read_csv(FOLDER + 'potential_energy.csv')\n",
    "df_structures = pd.read_csv(FOLDER + 'structures.csv')\n",
    "# df_scalar_coupling_contributions = pd.read_csv(FOLDER + 'scalar_coupling_contributions.csv')"
   ]
  },
  {
   "cell_type": "code",
   "execution_count": 4,
   "metadata": {},
   "outputs": [],
   "source": [
    "df_structures_idx = df_structures.set_index('molecule_name')\n",
    "df_train_idx = df_train.set_index('molecule_name')\n",
    "mols = df_train['molecule_name'].unique()\n",
    "types_3J = ['3JHH', '3JHC', '3JHN']"
   ]
  },
  {
   "cell_type": "code",
   "execution_count": 5,
   "metadata": {},
   "outputs": [],
   "source": [
    "def get_dist_matrix(df_structures_idx, molecule):\n",
    "    df_temp = df_structures_idx.loc[molecule]\n",
    "    locs = df_temp[['x','y','z']].values\n",
    "    num_atoms = len(locs)\n",
    "    loc_tile = np.tile(locs.T, (num_atoms,1,1))\n",
    "    dist_mat = ((loc_tile - loc_tile.T)**2).sum(axis=1)\n",
    "    return dist_mat"
   ]
  },
  {
   "cell_type": "code",
   "execution_count": 6,
   "metadata": {},
   "outputs": [],
   "source": [
    "def gen_pairs_list(df_idx, df_structures_idx, molecule_name, type_3J):\n",
    "    pairs_list = []\n",
    "    df_tr = df_idx.loc[molecule_name]\n",
    "    df_st = df_structures_idx.loc[molecule_name]\n",
    "    if type(df_tr) == pd.Series:\n",
    "        return []\n",
    "    \n",
    "    pairs_3J = df_tr.query('type == \"{}\"'.format(type_3J))[['atom_index_0','atom_index_1','id']].values\n",
    "    dist_matrix = get_dist_matrix(df_structures_idx, molecule_name)\n",
    "\n",
    "    for p3 in pairs_3J:\n",
    "        atom_idx_0 = p3[0]\n",
    "        con_id = p3[2]\n",
    "\n",
    "        dist_arr = dist_matrix[atom_idx_0]\n",
    "        mask = dist_arr != 0\n",
    "        dist_arr_excl_0 = dist_arr[mask]\n",
    "        masked_idx = df_st['atom_index'].values[mask]\n",
    "        atom_idx_1 = masked_idx[np.argsort(dist_arr_excl_0)[0]]\n",
    "\n",
    "        atom_idx_3 = p3[1]\n",
    "        dist_arr = dist_matrix[atom_idx_3]\n",
    "        mask = dist_arr != 0\n",
    "        dist_arr_excl_0 = dist_arr[mask]\n",
    "        masked_idx = df_st['atom_index'].values[mask]\n",
    "        atom_idx_2 = masked_idx[np.argsort(dist_arr_excl_0)[0]]        \n",
    "        \n",
    "        pair = [atom_idx_0, atom_idx_1, atom_idx_2, atom_idx_3, con_id]\n",
    "        pairs_list.append(pair)\n",
    "        \n",
    "    return pairs_list"
   ]
  },
  {
   "cell_type": "code",
   "execution_count": 7,
   "metadata": {},
   "outputs": [],
   "source": [
    "def get_cos_3J(df_structures_idx, molecule_name, atom_idx_list):\n",
    "    pos_list = []\n",
    "    df_st = df_structures_idx.loc[molecule_name]\n",
    "\n",
    "    for idx in atom_idx_list:\n",
    "        pos = df_st.query('atom_index == {}'.format(idx))[['x', 'y', 'z']].values\n",
    "        pos_list.append(pos)\n",
    "\n",
    "    v01 = pos_list[1] - pos_list[0]\n",
    "    v12 = pos_list[2] - pos_list[1]\n",
    "    v23 = pos_list[3] - pos_list[2]\n",
    "\n",
    "    v01_12 = v01 - ((np.dot(v01, v12.T) / np.linalg.norm(v12) **2 ) * v12)[0]\n",
    "    v23_12 = v23 - ((np.dot(v23, v12.T) / np.linalg.norm(v12) **2 ) * v12)[0]\n",
    "    \n",
    "    return np.dot(v01_12, v23_12.T) / np.linalg.norm(v01_12) / np.linalg.norm(v23_12)"
   ]
  },
  {
   "cell_type": "code",
   "execution_count": 8,
   "metadata": {
    "scrolled": false
   },
   "outputs": [
    {
     "name": "stderr",
     "output_type": "stream",
     "text": [
      "c:\\users\\ryoji\\appdata\\local\\programs\\python\\python37\\lib\\site-packages\\ipykernel_launcher.py:16: RuntimeWarning: invalid value encountered in true_divide\n",
      "  app.launch_new_instance()\n"
     ]
    },
    {
     "name": "stdout",
     "output_type": "stream",
     "text": [
      "elapsed_time:2655.785256385803[sec]\n"
     ]
    }
   ],
   "source": [
    "col_cos = np.zeros(0)\n",
    "id_arr = np.zeros(0)\n",
    "start = time.time()\n",
    "types_3J = ['3JHH', '3JHC', '3JHN']\n",
    "for m in mols[:10000]:\n",
    "    df_tr = df_train_idx.loc[m]\n",
    "    cos_arr = np.zeros([df_tr.shape[0]])\n",
    "    for t in types_3J:\n",
    "        pairs_list = gen_pairs_list(df_train_idx, df_structures_idx, m, t)\n",
    "        if len(pairs_list) == 0:\n",
    "            continue\n",
    "        for pair in pairs_list:\n",
    "            col_cos = np.hstack([col_cos, get_cos_3J(df_structures_idx, m, pair)[0,0]])\n",
    "            id_arr = np.hstack([id_arr, pair[4]])\n",
    "\n",
    "se_id = pd.Series(id_arr, name='id', dtype='int')\n",
    "se_cos = pd.Series(col_cos, name='cos_3j')\n",
    "df_cos_3j = pd.concat([se_id, se_cos], axis=1)\n",
    "\n",
    "elapsed_time = time.time() - start\n",
    "print (\"elapsed_time:{0}\".format(elapsed_time) + \"[sec]\")"
   ]
  },
  {
   "cell_type": "code",
   "execution_count": 9,
   "metadata": {},
   "outputs": [
    {
     "data": {
      "text/plain": [
       "(224295, 2)"
      ]
     },
     "execution_count": 9,
     "metadata": {},
     "output_type": "execute_result"
    }
   ],
   "source": [
    "df_cos_3j.shape\n",
    "df_cos_3j.head()"
   ]
  },
  {
   "cell_type": "code",
   "execution_count": 16,
   "metadata": {},
   "outputs": [],
   "source": [
    "df_cos_3j.to_csv(OUTPUT + '20190621_cos_3j.csv', index=False)"
   ]
  },
  {
   "cell_type": "code",
   "execution_count": 3,
   "metadata": {},
   "outputs": [
    {
     "data": {
      "text/html": [
       "<div>\n",
       "<style scoped>\n",
       "    .dataframe tbody tr th:only-of-type {\n",
       "        vertical-align: middle;\n",
       "    }\n",
       "\n",
       "    .dataframe tbody tr th {\n",
       "        vertical-align: top;\n",
       "    }\n",
       "\n",
       "    .dataframe thead th {\n",
       "        text-align: right;\n",
       "    }\n",
       "</style>\n",
       "<table border=\"1\" class=\"dataframe\">\n",
       "  <thead>\n",
       "    <tr style=\"text-align: right;\">\n",
       "      <th></th>\n",
       "      <th>id</th>\n",
       "      <th>cos_3j</th>\n",
       "    </tr>\n",
       "  </thead>\n",
       "  <tbody>\n",
       "    <tr>\n",
       "      <th>0</th>\n",
       "      <td>23</td>\n",
       "      <td>-0.499958</td>\n",
       "    </tr>\n",
       "    <tr>\n",
       "      <th>1</th>\n",
       "      <td>24</td>\n",
       "      <td>1.000000</td>\n",
       "    </tr>\n",
       "    <tr>\n",
       "      <th>2</th>\n",
       "      <td>25</td>\n",
       "      <td>-0.500033</td>\n",
       "    </tr>\n",
       "    <tr>\n",
       "      <th>3</th>\n",
       "      <td>29</td>\n",
       "      <td>1.000000</td>\n",
       "    </tr>\n",
       "    <tr>\n",
       "      <th>4</th>\n",
       "      <td>30</td>\n",
       "      <td>-0.499932</td>\n",
       "    </tr>\n",
       "  </tbody>\n",
       "</table>\n",
       "</div>"
      ],
      "text/plain": [
       "   id    cos_3j\n",
       "0  23 -0.499958\n",
       "1  24  1.000000\n",
       "2  25 -0.500033\n",
       "3  29  1.000000\n",
       "4  30 -0.499932"
      ]
     },
     "execution_count": 3,
     "metadata": {},
     "output_type": "execute_result"
    }
   ],
   "source": [
    "# df_cos_3j = pd.read_csv(OUTPUT + '20190621_cos_3j.csv')\n",
    "# df_cos_3j.head()"
   ]
  },
  {
   "cell_type": "code",
   "execution_count": 4,
   "metadata": {},
   "outputs": [],
   "source": [
    "id_max = df_cos_3j['id'].max()"
   ]
  },
  {
   "cell_type": "code",
   "execution_count": 6,
   "metadata": {},
   "outputs": [
    {
     "data": {
      "text/plain": [
       "477288"
      ]
     },
     "execution_count": 6,
     "metadata": {},
     "output_type": "execute_result"
    }
   ],
   "source": [
    "id_max"
   ]
  },
  {
   "cell_type": "code",
   "execution_count": 10,
   "metadata": {},
   "outputs": [
    {
     "name": "stderr",
     "output_type": "stream",
     "text": [
      "c:\\users\\ryoji\\appdata\\local\\programs\\python\\python37\\lib\\site-packages\\numpy\\lib\\histograms.py:824: RuntimeWarning: invalid value encountered in greater_equal\n",
      "  keep = (tmp_a >= first_edge)\n",
      "c:\\users\\ryoji\\appdata\\local\\programs\\python\\python37\\lib\\site-packages\\numpy\\lib\\histograms.py:825: RuntimeWarning: invalid value encountered in less_equal\n",
      "  keep &= (tmp_a <= last_edge)\n"
     ]
    },
    {
     "data": {
      "image/png": "[encoded data removed]",
      "text/plain": [
       "<Figure size 432x288 with 1 Axes>"
      ]
     },
     "metadata": {
      "needs_background": "light"
     },
     "output_type": "display_data"
    }
   ],
   "source": [
    "plt.hist(col_cos, bins=100)\n",
    "plt.show()"
   ]
  },
  {
   "cell_type": "code",
   "execution_count": 15,
   "metadata": {},
   "outputs": [
    {
     "data": {
      "image/png": "[encoded data removed]",
      "text/plain": [
       "<Figure size 432x288 with 1 Axes>"
      ]
     },
     "metadata": {
      "needs_background": "light"
     },
     "output_type": "display_data"
    }
   ],
   "source": [
    "df_temp = pd.merge(df_train, df_cos_3j, on=['id'], how=\"outer\").query('type == \"3JHH\"').dropna()\n",
    "plt.scatter(df_temp['cos_3j'], df_temp['scalar_coupling_constant'])\n",
    "plt.show()"
   ]
  },
  {
   "cell_type": "code",
   "execution_count": 7,
   "metadata": {},
   "outputs": [],
   "source": [
    "PROCESSED_TRAIN = '20190618_dist_bond_train.csv'\n",
    "df_train_dist = pd.read_csv(OUTPUT + PROCESSED_TRAIN)"
   ]
  },
  {
   "cell_type": "code",
   "execution_count": 10,
   "metadata": {},
   "outputs": [
    {
     "data": {
      "text/html": [
       "<div>\n",
       "<style scoped>\n",
       "    .dataframe tbody tr th:only-of-type {\n",
       "        vertical-align: middle;\n",
       "    }\n",
       "\n",
       "    .dataframe tbody tr th {\n",
       "        vertical-align: top;\n",
       "    }\n",
       "\n",
       "    .dataframe thead th {\n",
       "        text-align: right;\n",
       "    }\n",
       "</style>\n",
       "<table border=\"1\" class=\"dataframe\">\n",
       "  <thead>\n",
       "    <tr style=\"text-align: right;\">\n",
       "      <th></th>\n",
       "      <th>id</th>\n",
       "      <th>molecule_name</th>\n",
       "      <th>atom_index_0</th>\n",
       "      <th>atom_index_1</th>\n",
       "      <th>type</th>\n",
       "      <th>scalar_coupling_constant</th>\n",
       "      <th>dist_H_0_x</th>\n",
       "      <th>dist_H_1_x</th>\n",
       "      <th>dist_H_2_x</th>\n",
       "      <th>dist_H_3_x</th>\n",
       "      <th>...</th>\n",
       "      <th>dist_F_1_y</th>\n",
       "      <th>dist_F_2_y</th>\n",
       "      <th>dist_F_3_y</th>\n",
       "      <th>dist_F_4_y</th>\n",
       "      <th>num_bond_F_0_y</th>\n",
       "      <th>num_bond_F_1_y</th>\n",
       "      <th>num_bond_F_2_y</th>\n",
       "      <th>num_bond_F_3_y</th>\n",
       "      <th>num_bond_F_4_y</th>\n",
       "      <th>cos_3j</th>\n",
       "    </tr>\n",
       "  </thead>\n",
       "  <tbody>\n",
       "    <tr>\n",
       "      <th>0</th>\n",
       "      <td>0</td>\n",
       "      <td>dsgdb9nsd_000001</td>\n",
       "      <td>1.0</td>\n",
       "      <td>0.0</td>\n",
       "      <td>1JHC</td>\n",
       "      <td>84.8076</td>\n",
       "      <td>0.314513</td>\n",
       "      <td>0.314503</td>\n",
       "      <td>0.3145</td>\n",
       "      <td>0.0</td>\n",
       "      <td>...</td>\n",
       "      <td>0.0</td>\n",
       "      <td>0.0</td>\n",
       "      <td>0.0</td>\n",
       "      <td>0.0</td>\n",
       "      <td>0.0</td>\n",
       "      <td>0.0</td>\n",
       "      <td>0.0</td>\n",
       "      <td>0.0</td>\n",
       "      <td>0.0</td>\n",
       "      <td>0.0</td>\n",
       "    </tr>\n",
       "    <tr>\n",
       "      <th>1</th>\n",
       "      <td>4</td>\n",
       "      <td>dsgdb9nsd_000001</td>\n",
       "      <td>2.0</td>\n",
       "      <td>0.0</td>\n",
       "      <td>1JHC</td>\n",
       "      <td>84.8074</td>\n",
       "      <td>0.314513</td>\n",
       "      <td>0.314503</td>\n",
       "      <td>0.3145</td>\n",
       "      <td>0.0</td>\n",
       "      <td>...</td>\n",
       "      <td>0.0</td>\n",
       "      <td>0.0</td>\n",
       "      <td>0.0</td>\n",
       "      <td>0.0</td>\n",
       "      <td>0.0</td>\n",
       "      <td>0.0</td>\n",
       "      <td>0.0</td>\n",
       "      <td>0.0</td>\n",
       "      <td>0.0</td>\n",
       "      <td>0.0</td>\n",
       "    </tr>\n",
       "    <tr>\n",
       "      <th>2</th>\n",
       "      <td>7</td>\n",
       "      <td>dsgdb9nsd_000001</td>\n",
       "      <td>3.0</td>\n",
       "      <td>0.0</td>\n",
       "      <td>1JHC</td>\n",
       "      <td>84.8093</td>\n",
       "      <td>0.314503</td>\n",
       "      <td>0.314503</td>\n",
       "      <td>0.3145</td>\n",
       "      <td>0.0</td>\n",
       "      <td>...</td>\n",
       "      <td>0.0</td>\n",
       "      <td>0.0</td>\n",
       "      <td>0.0</td>\n",
       "      <td>0.0</td>\n",
       "      <td>0.0</td>\n",
       "      <td>0.0</td>\n",
       "      <td>0.0</td>\n",
       "      <td>0.0</td>\n",
       "      <td>0.0</td>\n",
       "      <td>0.0</td>\n",
       "    </tr>\n",
       "    <tr>\n",
       "      <th>3</th>\n",
       "      <td>9</td>\n",
       "      <td>dsgdb9nsd_000001</td>\n",
       "      <td>4.0</td>\n",
       "      <td>0.0</td>\n",
       "      <td>1JHC</td>\n",
       "      <td>84.8095</td>\n",
       "      <td>0.314503</td>\n",
       "      <td>0.314503</td>\n",
       "      <td>0.3145</td>\n",
       "      <td>0.0</td>\n",
       "      <td>...</td>\n",
       "      <td>0.0</td>\n",
       "      <td>0.0</td>\n",
       "      <td>0.0</td>\n",
       "      <td>0.0</td>\n",
       "      <td>0.0</td>\n",
       "      <td>0.0</td>\n",
       "      <td>0.0</td>\n",
       "      <td>0.0</td>\n",
       "      <td>0.0</td>\n",
       "      <td>0.0</td>\n",
       "    </tr>\n",
       "    <tr>\n",
       "      <th>4</th>\n",
       "      <td>1</td>\n",
       "      <td>dsgdb9nsd_000001</td>\n",
       "      <td>1.0</td>\n",
       "      <td>2.0</td>\n",
       "      <td>2JHH</td>\n",
       "      <td>-11.2570</td>\n",
       "      <td>0.314513</td>\n",
       "      <td>0.314503</td>\n",
       "      <td>0.3145</td>\n",
       "      <td>0.0</td>\n",
       "      <td>...</td>\n",
       "      <td>0.0</td>\n",
       "      <td>0.0</td>\n",
       "      <td>0.0</td>\n",
       "      <td>0.0</td>\n",
       "      <td>0.0</td>\n",
       "      <td>0.0</td>\n",
       "      <td>0.0</td>\n",
       "      <td>0.0</td>\n",
       "      <td>0.0</td>\n",
       "      <td>0.0</td>\n",
       "    </tr>\n",
       "  </tbody>\n",
       "</table>\n",
       "<p>5 rows × 107 columns</p>\n",
       "</div>"
      ],
      "text/plain": [
       "   id     molecule_name  atom_index_0  atom_index_1  type  \\\n",
       "0   0  dsgdb9nsd_000001           1.0           0.0  1JHC   \n",
       "1   4  dsgdb9nsd_000001           2.0           0.0  1JHC   \n",
       "2   7  dsgdb9nsd_000001           3.0           0.0  1JHC   \n",
       "3   9  dsgdb9nsd_000001           4.0           0.0  1JHC   \n",
       "4   1  dsgdb9nsd_000001           1.0           2.0  2JHH   \n",
       "\n",
       "   scalar_coupling_constant  dist_H_0_x  dist_H_1_x  dist_H_2_x  dist_H_3_x  \\\n",
       "0                   84.8076    0.314513    0.314503      0.3145         0.0   \n",
       "1                   84.8074    0.314513    0.314503      0.3145         0.0   \n",
       "2                   84.8093    0.314503    0.314503      0.3145         0.0   \n",
       "3                   84.8095    0.314503    0.314503      0.3145         0.0   \n",
       "4                  -11.2570    0.314513    0.314503      0.3145         0.0   \n",
       "\n",
       "   ...  dist_F_1_y  dist_F_2_y  dist_F_3_y  dist_F_4_y  num_bond_F_0_y  \\\n",
       "0  ...         0.0         0.0         0.0         0.0             0.0   \n",
       "1  ...         0.0         0.0         0.0         0.0             0.0   \n",
       "2  ...         0.0         0.0         0.0         0.0             0.0   \n",
       "3  ...         0.0         0.0         0.0         0.0             0.0   \n",
       "4  ...         0.0         0.0         0.0         0.0             0.0   \n",
       "\n",
       "   num_bond_F_1_y  num_bond_F_2_y  num_bond_F_3_y  num_bond_F_4_y  cos_3j  \n",
       "0             0.0             0.0             0.0             0.0     0.0  \n",
       "1             0.0             0.0             0.0             0.0     0.0  \n",
       "2             0.0             0.0             0.0             0.0     0.0  \n",
       "3             0.0             0.0             0.0             0.0     0.0  \n",
       "4             0.0             0.0             0.0             0.0     0.0  \n",
       "\n",
       "[5 rows x 107 columns]"
      ]
     },
     "execution_count": 10,
     "metadata": {},
     "output_type": "execute_result"
    }
   ],
   "source": [
    "df_train_dist_cos = pd.merge(df_train_dist, df_cos_3j, on=['id'], how=\"outer\").fillna(0)\n",
    "df_train_dist_cos.head()"
   ]
  },
  {
   "cell_type": "code",
   "execution_count": 11,
   "metadata": {},
   "outputs": [],
   "source": [
    "df_train_dist_cos.to_csv(OUTPUT + '20190618_dist_bond_cos3j_train.csv', index=False)"
   ]
  },
  {
   "cell_type": "code",
   "execution_count": null,
   "metadata": {},
   "outputs": [],
   "source": []
  }
 ],
 "metadata": {
  "kernelspec": {
   "display_name": "Python 3",
   "language": "python",
   "name": "python3"
  },
  "language_info": {
   "codemirror_mode": {
    "name": "ipython",
    "version": 3
   },
   "file_extension": ".py",
   "mimetype": "text/x-python",
   "name": "python",
   "nbconvert_exporter": "python",
   "pygments_lexer": "ipython3",
   "version": "3.7.3"
  }
 },
 "nbformat": 4,
 "nbformat_minor": 2
}
