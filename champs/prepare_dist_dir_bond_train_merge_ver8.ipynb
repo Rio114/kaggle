{
 "cells": [
  {
   "cell_type": "code",
   "execution_count": 1,
   "metadata": {},
   "outputs": [],
   "source": [
    "import os\n",
    "import pandas as pd\n",
    "import numpy as np\n",
    "import time\n",
    "import gc\n",
    "import pickle"
   ]
  },
  {
   "cell_type": "code",
   "execution_count": 2,
   "metadata": {},
   "outputs": [],
   "source": [
    "from process import merge_atom"
   ]
  },
  {
   "cell_type": "code",
   "execution_count": 3,
   "metadata": {},
   "outputs": [],
   "source": [
    "FOLDER = '../../data_kaggle/champs/'\n",
    "OUTPUT = FOLDER + 'out/'"
   ]
  },
  {
   "cell_type": "code",
   "execution_count": 4,
   "metadata": {},
   "outputs": [],
   "source": [
    "df_distance_list = []\n",
    "for i in range(8):\n",
    "    df_distance_list.append(pd.read_pickle(OUTPUT + '20190721_dist_bond_dir_train_temp{}.pickle'.format(i)))\n",
    "\n",
    "df_distance = pd.concat(df_distance_list, axis=0)"
   ]
  },
  {
   "cell_type": "code",
   "execution_count": 5,
   "metadata": {},
   "outputs": [],
   "source": [
    "df_train = pd.read_csv(FOLDER + 'train.csv')"
   ]
  },
  {
   "cell_type": "code",
   "execution_count": 6,
   "metadata": {},
   "outputs": [],
   "source": [
    "df_cos_3j = pd.read_pickle(OUTPUT + '20190711_cos_3j_3.pickle')"
   ]
  },
  {
   "cell_type": "code",
   "execution_count": 7,
   "metadata": {},
   "outputs": [
    {
     "name": "stdout",
     "output_type": "stream",
     "text": [
      "(709416, 221)\n",
      "(378036, 221)\n",
      "(43363, 221)\n",
      "(119253, 221)\n",
      "(1140674, 221)\n",
      "(590611, 221)\n",
      "(1510379, 221)\n",
      "(166415, 221)\n"
     ]
    }
   ],
   "source": [
    "bond_types = df_train['type'].unique()\n",
    "\n",
    "for b in bond_types:\n",
    "    df_train_dist = merge_atom(df_train.query('type == \"{}\"'.format(b)), df_distance)\n",
    "    df_train_dist_cos = pd.merge(df_train_dist, df_cos_3j, on='id', how='left')                           \n",
    "    df_train_dist_cos.to_pickle(OUTPUT + '20190721_dist_ang_ori_bond_cos_train_{}.pickle'.format(b))\n",
    "    print(df_train_dist_cos.shape)\n",
    "    del df_train_dist_cos\n",
    "    gc.collect()"
   ]
  },
  {
   "cell_type": "code",
   "execution_count": 8,
   "metadata": {},
   "outputs": [],
   "source": [
    "# (709416, 229)\n",
    "# (378036, 229)\n",
    "# (43363, 229)\n",
    "# (119253, 229)\n",
    "# (1140674, 229)\n",
    "# (590611, 229)\n",
    "# (1510379, 229)\n",
    "# (166415, 229)\n",
    "\n"
   ]
  },
  {
   "cell_type": "code",
   "execution_count": null,
   "metadata": {},
   "outputs": [],
   "source": []
  }
 ],
 "metadata": {
  "kernelspec": {
   "display_name": "Python 3",
   "language": "python",
   "name": "python3"
  },
  "language_info": {
   "codemirror_mode": {
    "name": "ipython",
    "version": 3
   },
   "file_extension": ".py",
   "mimetype": "text/x-python",
   "name": "python",
   "nbconvert_exporter": "python",
   "pygments_lexer": "ipython3",
   "version": "3.6.8"
  }
 },
 "nbformat": 4,
 "nbformat_minor": 2
}
