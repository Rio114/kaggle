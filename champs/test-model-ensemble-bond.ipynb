{
 "cells": [
  {
   "cell_type": "code",
   "execution_count": 1,
   "metadata": {},
   "outputs": [],
   "source": [
    "import os\n",
    "import pandas as pd\n",
    "import numpy as np\n",
    "import time\n",
    "import random\n",
    "import lightgbm as lgb\n",
    "import gc\n",
    "import pickle"
   ]
  },
  {
   "cell_type": "code",
   "execution_count": 2,
   "metadata": {},
   "outputs": [],
   "source": [
    "FOLDER = '../../data_kaggle/champs/'\n",
    "OUTPUT = FOLDER + 'out/'"
   ]
  },
  {
   "cell_type": "code",
   "execution_count": 3,
   "metadata": {},
   "outputs": [],
   "source": [
    "# df_mulliken_charges = pd.read_csv(FOLDER + 'mulliken_charges.csv')\n",
    "# df_sample =  pd.read_csv(FOLDER + 'sample_submission.csv')\n",
    "# df_magnetic_shielding_tensors = pd.read_csv(FOLDER + 'magnetic_shielding_tensors.csv')\n",
    "# df_train = pd.read_csv(FOLDER + 'train.csv')\n",
    "# df_test = pd.read_csv(FOLDER + 'test.csv')\n",
    "# df_dipole_moments = pd.read_csv(FOLDER + 'dipole_moments.csv')\n",
    "# df_potential_energy = pd.read_csv(FOLDER + 'potential_energy.csv')\n",
    "# df_structures = pd.read_csv(FOLDER + 'structures.csv')\n",
    "# df_scalar_coupling_contributions = pd.read_csv(FOLDER + 'scalar_coupling_contributions.csv')"
   ]
  },
  {
   "cell_type": "code",
   "execution_count": 4,
   "metadata": {},
   "outputs": [],
   "source": [
    "try_test = '20190715_dist_ang_ori_bond_cos_test_{}.pickle'\n",
    "trained_models = '20190715_2_champs_models_lgb_{}.pickle'\n",
    "submission_name = '20190715_2submission.csv'\n",
    "submission_temp = 'submission_temp_{}.pickle'"
   ]
  },
  {
   "cell_type": "code",
   "execution_count": 5,
   "metadata": {},
   "outputs": [],
   "source": [
    "bond_types = ['1JHC', '2JHH', '1JHN', '2JHN', '2JHC', '3JHH', '3JHC', '3JHN']"
   ]
  },
  {
   "cell_type": "code",
   "execution_count": 6,
   "metadata": {
    "scrolled": false
   },
   "outputs": [
    {
     "name": "stdout",
     "output_type": "stream",
     "text": [
      "---------- 1JHC ----------\n",
      "elapsed_time:1197.4483001232147[sec]\n",
      "---------- 2JHH ----------\n",
      "elapsed_time:421.19561672210693[sec]\n",
      "---------- 1JHN ----------\n",
      "elapsed_time:14.156259536743164[sec]\n",
      "---------- 2JHN ----------\n",
      "elapsed_time:46.87821340560913[sec]\n",
      "---------- 2JHC ----------\n",
      "elapsed_time:1521.6596581935883[sec]\n",
      "---------- 3JHH ----------\n",
      "elapsed_time:893.0700449943542[sec]\n",
      "---------- 3JHC ----------\n",
      "elapsed_time:2036.7518043518066[sec]\n",
      "---------- 3JHN ----------\n",
      "elapsed_time:76.8850302696228[sec]\n"
     ]
    }
   ],
   "source": [
    "for i, b in enumerate(bond_types):\n",
    "    print('-'*10, b, '-'*10)\n",
    "    start = time.time()\n",
    "    df_bond = pd.read_pickle(OUTPUT +try_test.format(b))\n",
    "    y_pred_b =[]\n",
    "\n",
    "    with open(OUTPUT + trained_models.format(b), 'rb') as f:\n",
    "        models_b = pickle.load(f)\n",
    "\n",
    "    X_test = df_bond[df_bond.columns[5:]].values  \n",
    "    num_seed = len(models_b)\n",
    "    for s in range(num_seed):\n",
    "        gbm = models_b[s]\n",
    "        y_pred_single = gbm.predict(X_test, num_iteration=gbm.best_iteration)\n",
    "        y_pred_b.append(y_pred_single)\n",
    "        \n",
    "    y_pred = np.array(y_pred_b).mean(axis=0)\n",
    "    \n",
    "    df_submit_b = pd.DataFrame([df_bond['id'], y_pred], index=['id', 'scalar_coupling_constant']).T\n",
    "    df_submit_b.to_pickle(OUTPUT +submission_temp.format(b))\n",
    "    \n",
    "    elapsed_time = time.time() - start\n",
    "    print (\"elapsed_time:{0}\".format(elapsed_time) + \"[sec]\")\n",
    "    gc.collect()"
   ]
  },
  {
   "cell_type": "code",
   "execution_count": 7,
   "metadata": {},
   "outputs": [],
   "source": [
    "df_submit = pd.DataFrame()\n",
    "for b in bond_types:\n",
    "    df_submit_b = pd.read_pickle(OUTPUT +submission_temp.format(b))\n",
    "    df_submit = pd.concat([df_submit, df_submit_b], axis=0)"
   ]
  },
  {
   "cell_type": "code",
   "execution_count": 8,
   "metadata": {},
   "outputs": [],
   "source": [
    "df_submit['id'] = df_submit['id'].astype('int32')"
   ]
  },
  {
   "cell_type": "code",
   "execution_count": 9,
   "metadata": {},
   "outputs": [
    {
     "data": {
      "text/html": [
       "<div>\n",
       "<style scoped>\n",
       "    .dataframe tbody tr th:only-of-type {\n",
       "        vertical-align: middle;\n",
       "    }\n",
       "\n",
       "    .dataframe tbody tr th {\n",
       "        vertical-align: top;\n",
       "    }\n",
       "\n",
       "    .dataframe thead th {\n",
       "        text-align: right;\n",
       "    }\n",
       "</style>\n",
       "<table border=\"1\" class=\"dataframe\">\n",
       "  <thead>\n",
       "    <tr style=\"text-align: right;\">\n",
       "      <th></th>\n",
       "      <th>id</th>\n",
       "      <th>scalar_coupling_constant</th>\n",
       "    </tr>\n",
       "  </thead>\n",
       "  <tbody>\n",
       "    <tr>\n",
       "      <th>0</th>\n",
       "      <td>4658148</td>\n",
       "      <td>196.898820</td>\n",
       "    </tr>\n",
       "    <tr>\n",
       "      <th>1</th>\n",
       "      <td>4658150</td>\n",
       "      <td>196.898820</td>\n",
       "    </tr>\n",
       "    <tr>\n",
       "      <th>2</th>\n",
       "      <td>4658152</td>\n",
       "      <td>90.810420</td>\n",
       "    </tr>\n",
       "    <tr>\n",
       "      <th>3</th>\n",
       "      <td>4658156</td>\n",
       "      <td>90.809981</td>\n",
       "    </tr>\n",
       "    <tr>\n",
       "      <th>4</th>\n",
       "      <td>4658159</td>\n",
       "      <td>82.820017</td>\n",
       "    </tr>\n",
       "  </tbody>\n",
       "</table>\n",
       "</div>"
      ],
      "text/plain": [
       "        id  scalar_coupling_constant\n",
       "0  4658148                196.898820\n",
       "1  4658150                196.898820\n",
       "2  4658152                 90.810420\n",
       "3  4658156                 90.809981\n",
       "4  4658159                 82.820017"
      ]
     },
     "execution_count": 9,
     "metadata": {},
     "output_type": "execute_result"
    }
   ],
   "source": [
    "df_submit.head()"
   ]
  },
  {
   "cell_type": "code",
   "execution_count": 10,
   "metadata": {},
   "outputs": [],
   "source": [
    "df_submit.to_csv(OUTPUT + submission_name, index=False)"
   ]
  },
  {
   "cell_type": "code",
   "execution_count": 11,
   "metadata": {},
   "outputs": [],
   "source": [
    "b = \"3JHC\"\n",
    "with open(OUTPUT + trained_models.format(b), 'rb') as f:\n",
    "    gbm = pickle.load(f)[0]"
   ]
  },
  {
   "cell_type": "code",
   "execution_count": 12,
   "metadata": {},
   "outputs": [
    {
     "data": {
      "text/plain": [
       "dist_H_0_x           124327\n",
       "dist_H_1_x           123276\n",
       "dist_H_2_x           103469\n",
       "dist_H_3_x            86173\n",
       "dist_H_4_x            71479\n",
       "dist_H_5_x            54613\n",
       "dist_H_6_x            41237\n",
       "dist_H_7_x            29855\n",
       "dist_H_8_x            21974\n",
       "dist_H_9_x            14470\n",
       "angle_H_0_x          116445\n",
       "angle_H_1_x          115280\n",
       "angle_H_2_x           97147\n",
       "angle_H_3_x           78986\n",
       "angle_H_4_x           66172\n",
       "angle_H_5_x           52428\n",
       "angle_H_6_x           39131\n",
       "angle_H_7_x           27611\n",
       "angle_H_8_x           19108\n",
       "angle_H_9_x           11027\n",
       "orientation_H_0_x     56877\n",
       "orientation_H_1_x    106010\n",
       "orientation_H_2_x     88432\n",
       "orientation_H_3_x     73921\n",
       "orientation_H_4_x     63215\n",
       "orientation_H_5_x     53584\n",
       "orientation_H_6_x     43755\n",
       "orientation_H_7_x     30518\n",
       "orientation_H_8_x     21516\n",
       "orientation_H_9_x     12421\n",
       "dist_C_0_x           143329\n",
       "dist_C_1_x           151906\n",
       "dist_C_2_x           163089\n",
       "dist_C_3_x           148346\n",
       "dist_C_4_x           125213\n",
       "dist_C_5_x           101146\n",
       "dist_C_6_x            64415\n",
       "dist_C_7_x            25823\n",
       "dist_C_8_x             6321\n",
       "dist_C_9_x                0\n",
       "angle_C_0_x           22373\n",
       "angle_C_1_x          129132\n",
       "angle_C_2_x          139241\n",
       "angle_C_3_x          125936\n",
       "angle_C_4_x          108584\n",
       "angle_C_5_x           82361\n",
       "angle_C_6_x           45176\n",
       "angle_C_7_x           15374\n",
       "angle_C_8_x            3532\n",
       "angle_C_9_x               0\n",
       "dtype: int64"
      ]
     },
     "execution_count": 12,
     "metadata": {},
     "output_type": "execute_result"
    }
   ],
   "source": [
    "pd.Series(gbm.feature_importance(), index=df_bond.columns[5:])[:50]"
   ]
  },
  {
   "cell_type": "code",
   "execution_count": 13,
   "metadata": {},
   "outputs": [
    {
     "data": {
      "text/plain": [
       "orientation_C_0_x      1746\n",
       "orientation_C_1_x    101596\n",
       "orientation_C_2_x    130521\n",
       "orientation_C_3_x    129722\n",
       "orientation_C_4_x    111393\n",
       "orientation_C_5_x     82977\n",
       "orientation_C_6_x     47728\n",
       "orientation_C_7_x     16788\n",
       "orientation_C_8_x      2930\n",
       "orientation_C_9_x         0\n",
       "bond_cos2_C_0_x      120862\n",
       "bond_cos2_C_1_x      126764\n",
       "bond_cos2_C_2_x      100579\n",
       "bond_cos2_C_3_x       74725\n",
       "bond_cos2_C_4_x       62702\n",
       "bond_cos2_C_5_x       50219\n",
       "bond_cos2_C_6_x       30166\n",
       "bond_cos2_C_7_x       11146\n",
       "bond_cos2_C_8_x        3084\n",
       "bond_cos2_C_9_x           0\n",
       "bond_cos3_C_0_x      134429\n",
       "bond_cos3_C_1_x      132895\n",
       "bond_cos3_C_2_x      105052\n",
       "bond_cos3_C_3_x       84920\n",
       "bond_cos3_C_4_x       72288\n",
       "bond_cos3_C_5_x       57814\n",
       "bond_cos3_C_6_x       36340\n",
       "bond_cos3_C_7_x       15946\n",
       "bond_cos3_C_8_x        2485\n",
       "bond_cos3_C_9_x           0\n",
       "dist_N_0_x           106428\n",
       "dist_N_1_x            34943\n",
       "dist_N_2_x            10545\n",
       "angle_N_0_x           67557\n",
       "angle_N_1_x           24749\n",
       "angle_N_2_x            7788\n",
       "orientation_N_0_x     52474\n",
       "orientation_N_1_x     19552\n",
       "orientation_N_2_x      4329\n",
       "bond_cos2_N_0_x       37827\n",
       "bond_cos2_N_1_x       14805\n",
       "bond_cos2_N_2_x        5147\n",
       "bond_cos3_N_0_x       37115\n",
       "bond_cos3_N_1_x        9485\n",
       "bond_cos3_N_2_x        4082\n",
       "dist_O_0_x           147240\n",
       "dist_O_1_x            83014\n",
       "dist_O_2_x            21335\n",
       "angle_O_0_x          124807\n",
       "angle_O_1_x           60973\n",
       "dtype: int64"
      ]
     },
     "execution_count": 13,
     "metadata": {},
     "output_type": "execute_result"
    }
   ],
   "source": [
    "pd.Series(gbm.feature_importance(), index=df_bond.columns[5:])[50:100]"
   ]
  },
  {
   "cell_type": "code",
   "execution_count": 14,
   "metadata": {},
   "outputs": [
    {
     "data": {
      "text/plain": [
       "angle_O_2_x           14002\n",
       "orientation_O_0_x     91596\n",
       "orientation_O_1_x     56144\n",
       "orientation_O_2_x     10842\n",
       "dist_F_0_x             2364\n",
       "dist_F_1_x             1255\n",
       "angle_F_0_x            1359\n",
       "angle_F_1_x             683\n",
       "orientation_F_0_x       770\n",
       "orientation_F_1_x       344\n",
       "dist_H_0_y           118208\n",
       "dist_H_1_y           108936\n",
       "dist_H_2_y            95338\n",
       "dist_H_3_y            83933\n",
       "dist_H_4_y            76695\n",
       "dist_H_5_y            63604\n",
       "dist_H_6_y            53352\n",
       "dist_H_7_y            43005\n",
       "dist_H_8_y            31053\n",
       "dist_H_9_y            23488\n",
       "angle_H_0_y           30363\n",
       "angle_H_1_y           90856\n",
       "angle_H_2_y           81577\n",
       "angle_H_3_y           71268\n",
       "angle_H_4_y           64114\n",
       "angle_H_5_y           55426\n",
       "angle_H_6_y           45089\n",
       "angle_H_7_y           36931\n",
       "angle_H_8_y           26777\n",
       "angle_H_9_y           18834\n",
       "orientation_H_0_y     39147\n",
       "orientation_H_1_y     68223\n",
       "orientation_H_2_y     80730\n",
       "orientation_H_3_y     62785\n",
       "orientation_H_4_y     54658\n",
       "orientation_H_5_y     47446\n",
       "orientation_H_6_y     40408\n",
       "orientation_H_7_y     32280\n",
       "orientation_H_8_y     23188\n",
       "orientation_H_9_y     16472\n",
       "dist_C_0_y           161151\n",
       "dist_C_1_y           131108\n",
       "dist_C_2_y           146304\n",
       "dist_C_3_y           144145\n",
       "dist_C_4_y           112135\n",
       "dist_C_5_y            67531\n",
       "dist_C_6_y            25990\n",
       "dist_C_7_y             5855\n",
       "dist_C_8_y                0\n",
       "dist_C_9_y                0\n",
       "dtype: int64"
      ]
     },
     "execution_count": 14,
     "metadata": {},
     "output_type": "execute_result"
    }
   ],
   "source": [
    "pd.Series(gbm.feature_importance(), index=df_bond.columns[5:])[100:150]"
   ]
  },
  {
   "cell_type": "code",
   "execution_count": 15,
   "metadata": {},
   "outputs": [
    {
     "data": {
      "text/plain": [
       "angle_C_0_y          101221\n",
       "angle_C_1_y          101437\n",
       "angle_C_2_y          107286\n",
       "angle_C_3_y           92453\n",
       "angle_C_4_y           70308\n",
       "angle_C_5_y           40750\n",
       "angle_C_6_y           14239\n",
       "angle_C_7_y            2232\n",
       "angle_C_8_y               0\n",
       "angle_C_9_y               0\n",
       "orientation_C_0_y     67977\n",
       "orientation_C_1_y     88575\n",
       "orientation_C_2_y     90885\n",
       "orientation_C_3_y     73952\n",
       "orientation_C_4_y     53649\n",
       "orientation_C_5_y     29460\n",
       "orientation_C_6_y      9952\n",
       "orientation_C_7_y      2001\n",
       "orientation_C_8_y         0\n",
       "orientation_C_9_y         0\n",
       "bond_cos2_C_0_y      113075\n",
       "bond_cos2_C_1_y       99891\n",
       "bond_cos2_C_2_y       83176\n",
       "bond_cos2_C_3_y       67048\n",
       "bond_cos2_C_4_y       48756\n",
       "bond_cos2_C_5_y       27357\n",
       "bond_cos2_C_6_y       10319\n",
       "bond_cos2_C_7_y        2898\n",
       "bond_cos2_C_8_y           0\n",
       "bond_cos2_C_9_y           0\n",
       "bond_cos3_C_0_y      115890\n",
       "bond_cos3_C_1_y       99941\n",
       "bond_cos3_C_2_y       87628\n",
       "bond_cos3_C_3_y       78603\n",
       "bond_cos3_C_4_y       61452\n",
       "bond_cos3_C_5_y       36806\n",
       "bond_cos3_C_6_y       16481\n",
       "bond_cos3_C_7_y        4950\n",
       "bond_cos3_C_8_y           0\n",
       "bond_cos3_C_9_y           0\n",
       "dist_N_0_y           103538\n",
       "dist_N_1_y            36548\n",
       "dist_N_2_y            10057\n",
       "angle_N_0_y           51450\n",
       "angle_N_1_y           17240\n",
       "angle_N_2_y            3914\n",
       "orientation_N_0_y     35673\n",
       "orientation_N_1_y     17092\n",
       "orientation_N_2_y      5319\n",
       "bond_cos2_N_0_y       33751\n",
       "dtype: int64"
      ]
     },
     "execution_count": 15,
     "metadata": {},
     "output_type": "execute_result"
    }
   ],
   "source": [
    "pd.Series(gbm.feature_importance(), index=df_bond.columns[5:])[150:200]"
   ]
  },
  {
   "cell_type": "code",
   "execution_count": 16,
   "metadata": {},
   "outputs": [
    {
     "data": {
      "text/plain": [
       "bond_cos2_N_1_y       14877\n",
       "bond_cos2_N_2_y        5039\n",
       "bond_cos3_N_0_y       28586\n",
       "bond_cos3_N_1_y       10288\n",
       "bond_cos3_N_2_y        3410\n",
       "dist_O_0_y           159778\n",
       "dist_O_1_y            80279\n",
       "dist_O_2_y            17312\n",
       "angle_O_0_y           77092\n",
       "angle_O_1_y           43294\n",
       "angle_O_2_y            8286\n",
       "orientation_O_0_y     60513\n",
       "orientation_O_1_y     39106\n",
       "orientation_O_2_y      8953\n",
       "dist_F_0_y             3521\n",
       "dist_F_1_y             1511\n",
       "angle_F_0_y             249\n",
       "angle_F_1_y             218\n",
       "orientation_F_0_y       581\n",
       "orientation_F_1_y       569\n",
       "cos_3j               321159\n",
       "cos_3j^2             238135\n",
       "dist_center          236486\n",
       "dtype: int64"
      ]
     },
     "execution_count": 16,
     "metadata": {},
     "output_type": "execute_result"
    }
   ],
   "source": [
    "pd.Series(gbm.feature_importance(), index=df_bond.columns[5:])[200:]"
   ]
  },
  {
   "cell_type": "code",
   "execution_count": null,
   "metadata": {},
   "outputs": [],
   "source": []
  }
 ],
 "metadata": {
  "kernelspec": {
   "display_name": "Python 3",
   "language": "python",
   "name": "python3"
  },
  "language_info": {
   "codemirror_mode": {
    "name": "ipython",
    "version": 3
   },
   "file_extension": ".py",
   "mimetype": "text/x-python",
   "name": "python",
   "nbconvert_exporter": "python",
   "pygments_lexer": "ipython3",
   "version": "3.6.8"
  }
 },
 "nbformat": 4,
 "nbformat_minor": 2
}
