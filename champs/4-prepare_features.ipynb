{
 "cells": [
  {
   "cell_type": "code",
   "execution_count": 1,
   "metadata": {},
   "outputs": [],
   "source": [
    "import pandas as pd\n",
    "import numpy as np\n",
    "import time\n",
    "import random\n",
    "import lightgbm as lgb\n",
    "import time\n",
    "\n",
    "import pickle\n",
    "import matplotlib.pyplot as plt"
   ]
  },
  {
   "cell_type": "code",
   "execution_count": 2,
   "metadata": {},
   "outputs": [],
   "source": [
    "FOLDER = '../../data_kaggle/champs/'\n",
    "OUTPUT = FOLDER + 'out/'"
   ]
  },
  {
   "cell_type": "code",
   "execution_count": 3,
   "metadata": {},
   "outputs": [],
   "source": [
    "# original input\n",
    "df_structures = pd.read_csv(FOLDER+'structures.csv')\n",
    "df_test = pd.read_csv(FOLDER+'test.csv')"
   ]
  },
  {
   "cell_type": "code",
   "execution_count": 4,
   "metadata": {},
   "outputs": [],
   "source": [
    "df_structures_idx = df_structures.set_index('molecule_name')\n",
    "df_test_idx = df_test.set_index('molecule_name')"
   ]
  },
  {
   "cell_type": "code",
   "execution_count": 5,
   "metadata": {},
   "outputs": [],
   "source": [
    "DATA_DATE = '20190721'\n",
    "VER = '02'\n",
    "MAP_DATE = '20190728'\n",
    "MODEL_DATE = '20190804'"
   ]
  },
  {
   "cell_type": "code",
   "execution_count": 6,
   "metadata": {},
   "outputs": [],
   "source": [
    "# input files\n",
    "first_train = OUTPUT + DATA_DATE + '_' + 'dist_ang_ori_bond_cos_train_{}.pickle'\n",
    "first_test = OUTPUT + DATA_DATE + '_' + 'dist_ang_ori_bond_cos_test_{}.pickle'\n",
    "\n",
    "pred_dist_train = OUTPUT + MODEL_DATE + '_' + VER + '_' + 'pred_dist_train.pickle'\n",
    "pred_dist_test = OUTPUT + MODEL_DATE + '_' + VER + '_' + 'pred_dist_test.pickle'"
   ]
  },
  {
   "cell_type": "code",
   "execution_count": 7,
   "metadata": {},
   "outputs": [],
   "source": [
    "# outpute files\n",
    "features_train = OUTPUT + MODEL_DATE + '_' + VER + '_' + 'features_train_{}.pickle'\n",
    "features_test = OUTPUT + MODEL_DATE + '_' + VER + '_' + 'features_test_{}.pickle'"
   ]
  },
  {
   "cell_type": "code",
   "execution_count": 8,
   "metadata": {},
   "outputs": [],
   "source": [
    "bond_types = ['3JHN', '3JHC','1JHC', '2JHH', '1JHN', '2JHN', '2JHC', '3JHH']"
   ]
  },
  {
   "cell_type": "code",
   "execution_count": 9,
   "metadata": {
    "scrolled": false
   },
   "outputs": [
    {
     "name": "stdout",
     "output_type": "stream",
     "text": [
      "4658147\n"
     ]
    }
   ],
   "source": [
    "df_pred_dist_train = pd.read_pickle(pred_dist_train)\n",
    "cnt = 0\n",
    "for b in bond_types:\n",
    "    df_train_b = pd.read_pickle(first_train.format(b))\n",
    "    df_feature_train = pd.merge(df_train_b, df_pred_dist_train, on=['id'])\n",
    "    df_feature_train.to_pickle(features_train.format(b))\n",
    "    cnt += df_feature_train.shape[0]\n",
    "print(cnt)"
   ]
  },
  {
   "cell_type": "code",
   "execution_count": 10,
   "metadata": {},
   "outputs": [
    {
     "name": "stdout",
     "output_type": "stream",
     "text": [
      "2505542\n"
     ]
    }
   ],
   "source": [
    "df_pred_dist_test = pd.read_pickle(pred_dist_test)\n",
    "cnt = 0\n",
    "for b in bond_types:\n",
    "    df_test_b = pd.read_pickle(first_test.format(b))\n",
    "    df_feature_test = pd.merge(df_test_b, df_pred_dist_test, on=['id'])\n",
    "    df_feature_test.to_pickle(features_test.format(b))\n",
    "    cnt += df_feature_test.shape[0]\n",
    "print(cnt)"
   ]
  },
  {
   "cell_type": "code",
   "execution_count": 11,
   "metadata": {},
   "outputs": [],
   "source": [
    "# (4425213, 7) (232934, 7) (2505542, 5)"
   ]
  },
  {
   "cell_type": "code",
   "execution_count": 12,
   "metadata": {},
   "outputs": [
    {
     "data": {
      "text/plain": [
       "(590611, 319)"
      ]
     },
     "execution_count": 12,
     "metadata": {},
     "output_type": "execute_result"
    }
   ],
   "source": [
    "df_feature_train.shape\n",
    "# (590611, 319)"
   ]
  },
  {
   "cell_type": "code",
   "execution_count": 13,
   "metadata": {},
   "outputs": [
    {
     "data": {
      "text/plain": [
       "(317435, 318)"
      ]
     },
     "execution_count": 13,
     "metadata": {},
     "output_type": "execute_result"
    }
   ],
   "source": [
    "df_feature_test.shape\n",
    "# (317435, 318)"
   ]
  },
  {
   "cell_type": "code",
   "execution_count": null,
   "metadata": {},
   "outputs": [],
   "source": []
  }
 ],
 "metadata": {
  "kernelspec": {
   "display_name": "Python 3",
   "language": "python",
   "name": "python3"
  },
  "language_info": {
   "codemirror_mode": {
    "name": "ipython",
    "version": 3
   },
   "file_extension": ".py",
   "mimetype": "text/x-python",
   "name": "python",
   "nbconvert_exporter": "python",
   "pygments_lexer": "ipython3",
   "version": "3.6.8"
  }
 },
 "nbformat": 4,
 "nbformat_minor": 2
}
