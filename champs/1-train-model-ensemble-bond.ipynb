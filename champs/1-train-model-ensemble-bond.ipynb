{
 "cells": [
  {
   "cell_type": "code",
   "execution_count": 1,
   "metadata": {},
   "outputs": [],
   "source": [
    "import os\n",
    "import pandas as pd\n",
    "import numpy as np\n",
    "import time\n",
    "import pickle\n",
    "import random\n",
    "random.seed(0)\n",
    "\n",
    "import matplotlib.pyplot as plt\n",
    "\n",
    "import lightgbm as lgb"
   ]
  },
  {
   "cell_type": "code",
   "execution_count": 2,
   "metadata": {},
   "outputs": [],
   "source": [
    "FOLDER = '../../data_kaggle/champs/'\n",
    "OUTPUT = FOLDER + 'out/'"
   ]
  },
  {
   "cell_type": "code",
   "execution_count": 3,
   "metadata": {},
   "outputs": [],
   "source": [
    "from process import type_score"
   ]
  },
  {
   "cell_type": "code",
   "execution_count": 4,
   "metadata": {},
   "outputs": [],
   "source": [
    "train_data = '20190721_dist_ang_ori_bond_cos_train_{}.pickle'\n",
    "trained_models = '20190721_champs_models_lgb_{}.pickle'\n",
    "pred_train_name = '20190721_predict_train.pickle'\n",
    "pred_train_temp = 'predict_train_temp_{}.pickle'\n",
    "pred_val_name = '20190721_predict_val.pickle'\n",
    "pred_val_temp = 'predict_val_temp_{}.pickle'"
   ]
  },
  {
   "cell_type": "code",
   "execution_count": 5,
   "metadata": {},
   "outputs": [],
   "source": [
    "df = pd.DataFrame()\n",
    "bond_types = ['1JHC', '2JHH', '1JHN', '2JHN', '2JHC', '3JHH', '3JHC', '3JHN']\n",
    "for b in bond_types:\n",
    "    df_bond = pd.read_pickle(OUTPUT + train_data.format(b)).fillna(0)\n",
    "    df = pd.concat([df, df_bond], axis=0)"
   ]
  },
  {
   "cell_type": "code",
   "execution_count": 6,
   "metadata": {},
   "outputs": [
    {
     "data": {
      "text/plain": [
       "(4658147, 221)"
      ]
     },
     "execution_count": 6,
     "metadata": {},
     "output_type": "execute_result"
    }
   ],
   "source": [
    "df.shape"
   ]
  },
  {
   "cell_type": "code",
   "execution_count": 7,
   "metadata": {},
   "outputs": [],
   "source": [
    "mols = df['molecule_name'].unique()\n",
    "num = len(mols)\n",
    "num_train = int(num * 0.95)\n",
    "pickup = random.sample(range(num), num)\n",
    "pick_train = pickup[:num_train]\n",
    "pick_val = pickup[num_train:]"
   ]
  },
  {
   "cell_type": "code",
   "execution_count": 8,
   "metadata": {},
   "outputs": [],
   "source": [
    "df_train = df[df['molecule_name'].isin(mols[pick_train])]\n",
    "df_val = df[df['molecule_name'].isin(mols[pick_val])]"
   ]
  },
  {
   "cell_type": "code",
   "execution_count": 13,
   "metadata": {},
   "outputs": [],
   "source": [
    "rounds = 150000 #150000\n",
    "num_seed = 1\n",
    "# bond_types = ['1JHC', '2JHH', '1JHN', '2JHN', '2JHC', '3JHH', '3JHC', '3JHN']\n",
    "# bond_types = ['3JHN', '3JHC','1JHC', '2JHH', '1JHN', '2JHN', '2JHC', '3JHH']\n",
    "bond_types = ['3JHH']"
   ]
  },
  {
   "cell_type": "code",
   "execution_count": 15,
   "metadata": {
    "scrolled": false
   },
   "outputs": [
    {
     "name": "stdout",
     "output_type": "stream",
     "text": [
      "---------- 3JHH ----------\n",
      "seed No.0, bond type 3JHH\n",
      "best iteration: 150000\n",
      "single model score valid: -2.08\n",
      "elapsed_time:6527.13[sec]\n",
      "mean-ensemble score train: -3.14\n",
      "mean-ensemble score valid: -2.08\n"
     ]
    },
    {
     "data": {
      "image/png": "[encoded data removed]",
      "text/plain": [
       "<Figure size 432x288 with 1 Axes>"
      ]
     },
     "metadata": {
      "needs_background": "light"
     },
     "output_type": "display_data"
    },
    {
     "name": "stderr",
     "output_type": "stream",
     "text": [
      "/home/ryoji/Documents/git/kaggle/ml/lib/python3.6/site-packages/ipykernel_launcher.py:73: SettingWithCopyWarning: \n",
      "A value is trying to be set on a copy of a slice from a DataFrame.\n",
      "Try using .loc[row_indexer,col_indexer] = value instead\n",
      "\n",
      "See the caveats in the documentation: http://pandas.pydata.org/pandas-docs/stable/indexing.html#indexing-view-versus-copy\n",
      "/home/ryoji/Documents/git/kaggle/ml/lib/python3.6/site-packages/ipykernel_launcher.py:76: SettingWithCopyWarning: \n",
      "A value is trying to be set on a copy of a slice from a DataFrame.\n",
      "Try using .loc[row_indexer,col_indexer] = value instead\n",
      "\n",
      "See the caveats in the documentation: http://pandas.pydata.org/pandas-docs/stable/indexing.html#indexing-view-versus-copy\n"
     ]
    },
    {
     "name": "stdout",
     "output_type": "stream",
     "text": [
      "total elapsed_time:1.82[hours]\n"
     ]
    }
   ],
   "source": [
    "models = []\n",
    "scores = []\n",
    "start0 = time.time()\n",
    "\n",
    "for i, b in enumerate(bond_types):\n",
    "    print('-'*10, b, '-'*10)\n",
    "    \n",
    "    models_b = []\n",
    "    y_train_pred_b =[]\n",
    "    y_val_pred_b =[]\n",
    "    \n",
    "    df_train_b = df_train.query('type == \"{}\"'.format(b))\n",
    "    y_train = df_train_b['scalar_coupling_constant'].values\n",
    "    X_train = df_train_b[df_train.columns[6:]].values\n",
    "\n",
    "    df_val_b = df_val.query('type == \"{}\"'.format(b))\n",
    "    y_val = df_val_b['scalar_coupling_constant'].values\n",
    "    X_val = df_val_b[df_val.columns[6:]].values\n",
    "\n",
    "    lgb_train = lgb.Dataset(X_train, y_train)\n",
    "    lgb_eval = lgb.Dataset(X_val, y_val, reference=lgb_train)\n",
    "        \n",
    "    for s in range(num_seed):\n",
    "        print('seed No.{}, bond type {}'.format(s, b))\n",
    "        start = time.time()\n",
    "\n",
    "        params = {\n",
    "                'task' : 'train',\n",
    "                'boosting_type' : 'gbdt',\n",
    "                'objective' : 'regression',\n",
    "                'metric' : {'l1'},\n",
    "                'num_leaves' : 63,\n",
    "                'learning_rate' : 0.005,\n",
    "                'feature_fraction' : 0.7,\n",
    "                'bagging_fraction' : 0.7,\n",
    "                'bagging_freq': 5,\n",
    "            'seed':s\n",
    "        }\n",
    "\n",
    "        gbm = lgb.train(params,\n",
    "                lgb_train,\n",
    "                num_boost_round=rounds,\n",
    "                verbose_eval=0,\n",
    "                valid_sets=lgb_eval,\n",
    "                early_stopping_rounds=20)\n",
    "\n",
    "        models_b.append(gbm)\n",
    "        \n",
    "        y_train_pred_single = gbm.predict(X_train, num_iteration=gbm.best_iteration)\n",
    "        y_train_pred_b.append(y_train_pred_single)\n",
    "        \n",
    "        y_val_pred_single = gbm.predict(X_val, num_iteration=gbm.best_iteration)\n",
    "        y_val_pred_b.append(y_val_pred_single)\n",
    "        \n",
    "        print('best iteration: %.f' % gbm.best_iteration)\n",
    "        print('single model score valid: %.2f' % type_score(y_val, y_val_pred_single))\n",
    "        elapsed_time = time.time() - start\n",
    "        print (\"elapsed_time:%.2f\" % elapsed_time + \"[sec]\")\n",
    "        \n",
    "    y_train_pred = np.array(y_train_pred_b).mean(axis=0)\n",
    "    y_val_pred = np.array(y_val_pred_b).mean(axis=0)\n",
    "    \n",
    "    score_train = type_score(y_train_pred, y_train)\n",
    "    score_val = type_score(y_val_pred, y_val)\n",
    "    \n",
    "    print('mean-ensemble score train: %.2f' % score_train)\n",
    "    print('mean-ensemble score valid: %.2f' % score_val)\n",
    "    \n",
    "    plt.scatter(y_train_pred, y_train)\n",
    "    plt.scatter(y_val_pred, y_val)\n",
    "    plt.show()\n",
    "    \n",
    "    df_train_b['predict'] = y_train_pred\n",
    "    df_train_b.to_pickle(OUTPUT +  pred_train_temp.format(b))\n",
    "\n",
    "    df_val_b['predict'] = y_val_pred\n",
    "    df_val_b.to_pickle(OUTPUT + pred_val_temp.format(b))\n",
    "    \n",
    "    with open(OUTPUT + trained_models.format(b), 'wb') as f:\n",
    "        pickle.dump(models_b, f)\n",
    "\n",
    "    scores.append(score_val)\n",
    "elapsed_time = time.time() - start0\n",
    "print (\"total elapsed_time:%.2f\" % (elapsed_time/3600) + \"[hours]\")\n"
   ]
  },
  {
   "cell_type": "code",
   "execution_count": null,
   "metadata": {},
   "outputs": [],
   "source": [
    "print('type score:', scores)\n",
    "print('total score:', np.array(scores).mean())\n",
    "\n",
    "# bond_types = ['3JHN', '3JHC','1JHC', '2JHH', '1JHN', '2JHN', '2JHC', '3JHH']\n",
    "# type score: [-2.213330811075121, -1.3581258350105094, -0.7845050130296711, -2.1655013094988513, -1.4024121799402647, -1.9751865470643377, -1.499394936229838, -2.1188348800106724]\n",
    "# total score: -1.689661438982408"
   ]
  },
  {
   "cell_type": "code",
   "execution_count": 16,
   "metadata": {},
   "outputs": [],
   "source": [
    "df_train_predict = pd.DataFrame()\n",
    "df_val_predict = pd.DataFrame()\n",
    "\n",
    "for b in bond_types:\n",
    "    df_train_predict_b = pd.read_pickle(OUTPUT + pred_train_temp.format(b))\n",
    "    df_train_predict = pd.concat([df_train_predict, df_train_predict_b], axis=0)\n",
    "    \n",
    "    df_val_predict_b = pd.read_pickle(OUTPUT + pred_val_temp.format(b))\n",
    "    df_val_predict = pd.concat([df_val_predict, df_val_predict_b], axis=0)\n",
    "\n",
    "df_train_predict.to_pickle(OUTPUT + pred_train_name)\n",
    "df_val_predict.to_pickle(OUTPUT + pred_val_name)"
   ]
  },
  {
   "cell_type": "code",
   "execution_count": null,
   "metadata": {},
   "outputs": [],
   "source": []
  },
  {
   "cell_type": "code",
   "execution_count": null,
   "metadata": {},
   "outputs": [],
   "source": []
  }
 ],
 "metadata": {
  "kernelspec": {
   "display_name": "Python 3",
   "language": "python",
   "name": "python3"
  },
  "language_info": {
   "codemirror_mode": {
    "name": "ipython",
    "version": 3
   },
   "file_extension": ".py",
   "mimetype": "text/x-python",
   "name": "python",
   "nbconvert_exporter": "python",
   "pygments_lexer": "ipython3",
   "version": "3.6.8"
  }
 },
 "nbformat": 4,
 "nbformat_minor": 2
}
