{
 "cells": [
  {
   "cell_type": "code",
   "execution_count": 1,
   "metadata": {},
   "outputs": [],
   "source": [
    "import numpy as np\n",
    "import pandas as pd"
   ]
  },
  {
   "cell_type": "code",
   "execution_count": 2,
   "metadata": {},
   "outputs": [],
   "source": [
    "def get_dist_matrix(df_structures_idx, molecule):\n",
    "    df_temp = df_structures_idx.loc[molecule]\n",
    "    locs = df_temp[['x','y','z']].values\n",
    "    num_atoms = len(locs)\n",
    "    loc_tile = np.tile(locs.T, (num_atoms,1,1))\n",
    "    dist_mat = np.linalg.norm(loc_tile - loc_tile.T, axis=1)\n",
    "    return dist_mat"
   ]
  },
  {
   "cell_type": "code",
   "execution_count": 3,
   "metadata": {},
   "outputs": [],
   "source": [
    "def c_cos(df_structures_idx, mol, thres=1.65):\n",
    "    dist_mat = get_dist_matrix(df_structures_idx, mol)\n",
    "    df_temp = df_structures_idx.loc[mol]\n",
    "    num_atoms = df_temp.shape[0]\n",
    "\n",
    "    c_idx = df_temp[df_temp['atom'] == 'C']['atom_index'].values\n",
    "\n",
    "    c_cos2 = []\n",
    "    c_cos3 = []\n",
    "\n",
    "    for i in c_idx:\n",
    "        dist_argsort = np.argsort(dist_mat[i])\n",
    "\n",
    "        near_1_idx = dist_argsort[1]\n",
    "        near_2_idx = dist_argsort[2]\n",
    "\n",
    "        origin_loc = df_temp[df_temp['atom_index'] == i][['x', 'y', 'z']].values[0]\n",
    "        near_1_loc = df_temp[df_temp['atom_index'] == near_1_idx][['x', 'y', 'z']].values[0]\n",
    "        near_2_loc = df_temp[df_temp['atom_index'] == near_2_idx][['x', 'y', 'z']].values[0]\n",
    "\n",
    "        vec_01 = near_1_loc - origin_loc\n",
    "        vec_02 = near_2_loc - origin_loc\n",
    "        \n",
    "        cos_12 = np.dot(vec_01, vec_02) / dist_mat[i][near_1_idx] / dist_mat[i][near_2_idx] \n",
    "        \n",
    "        c_cos2.append(cos_12)\n",
    "\n",
    "        try:\n",
    "            near_3_idx = dist_argsort[3]\n",
    "            near_3_loc = df_temp[df_temp['atom_index'] == near_3_idx][['x', 'y', 'z']].values[0]\n",
    "            vec_03 = near_3_loc - origin_loc\n",
    "            \n",
    "            if  dist_mat[i][near_3_idx] < thres:\n",
    "                vec_012 = vec_01 / dist_mat[i][near_1_idx] + vec_02/ dist_mat[i][near_2_idx]\n",
    "                cos_123 = np.dot(vec_012, vec_03) / np.linalg.norm(vec_012) /dist_mat[i][near_3_idx]\n",
    "                c_cos3.append(cos_123)\n",
    "            else:\n",
    "                c_cos3.append(1)\n",
    "        except:\n",
    "             c_cos3.append(1)\n",
    "            \n",
    "    se_c_cos2 = pd.Series(c_cos2, name='cos2')\n",
    "    se_c_cos3 = pd.Series(c_cos3, name='cos3')\n",
    "    \n",
    "    se_c_idx = pd.Series(c_idx, name='atom_index')\n",
    "    df_bond = pd.concat([se_c_idx, se_c_cos2, se_c_cos3], axis=1)\n",
    "\n",
    "    df_temp2 = pd.merge(df_temp[['atom', 'atom_index']], df_bond, on='atom_index', how='outer').fillna(1)\n",
    "    df_temp2['molecule_name'] = mol\n",
    "    return df_temp2"
   ]
  },
  {
   "cell_type": "code",
   "execution_count": 4,
   "metadata": {},
   "outputs": [],
   "source": [
    "FOLDER = '../../data_kaggle/champs/'\n",
    "OUTPUT = FOLDER + 'out/'"
   ]
  },
  {
   "cell_type": "code",
   "execution_count": 5,
   "metadata": {},
   "outputs": [],
   "source": [
    "df = pd.read_csv(FOLDER + 'train.csv')\n",
    "# df_test = pd.read_csv(FOLDER + 'test.csv')\n",
    "# df_dipole_moments = pd.read_csv(FOLDER + 'dipole_moments.csv')\n",
    "# df_potential_energy = pd.read_csv(FOLDER + 'potential_energy.csv')\n",
    "df_structures = pd.read_csv(FOLDER + 'structures.csv')"
   ]
  },
  {
   "cell_type": "code",
   "execution_count": 6,
   "metadata": {},
   "outputs": [],
   "source": [
    "mols = df['molecule_name'].unique()"
   ]
  },
  {
   "cell_type": "code",
   "execution_count": 7,
   "metadata": {},
   "outputs": [],
   "source": [
    "df_structures_idx = df_structures.set_index('molecule_name')\n",
    "df_idx = df.set_index('molecule_name')"
   ]
  },
  {
   "cell_type": "code",
   "execution_count": 8,
   "metadata": {},
   "outputs": [
    {
     "data": {
      "text/html": [
       "<div>\n",
       "<style scoped>\n",
       "    .dataframe tbody tr th:only-of-type {\n",
       "        vertical-align: middle;\n",
       "    }\n",
       "\n",
       "    .dataframe tbody tr th {\n",
       "        vertical-align: top;\n",
       "    }\n",
       "\n",
       "    .dataframe thead th {\n",
       "        text-align: right;\n",
       "    }\n",
       "</style>\n",
       "<table border=\"1\" class=\"dataframe\">\n",
       "  <thead>\n",
       "    <tr style=\"text-align: right;\">\n",
       "      <th></th>\n",
       "      <th>atom</th>\n",
       "      <th>atom_index</th>\n",
       "      <th>cos2</th>\n",
       "      <th>cos3</th>\n",
       "      <th>molecule_name</th>\n",
       "    </tr>\n",
       "  </thead>\n",
       "  <tbody>\n",
       "    <tr>\n",
       "      <th>0</th>\n",
       "      <td>C</td>\n",
       "      <td>0</td>\n",
       "      <td>-0.333342</td>\n",
       "      <td>-0.577373</td>\n",
       "      <td>dsgdb9nsd_000001</td>\n",
       "    </tr>\n",
       "    <tr>\n",
       "      <th>1</th>\n",
       "      <td>H</td>\n",
       "      <td>1</td>\n",
       "      <td>1.000000</td>\n",
       "      <td>1.000000</td>\n",
       "      <td>dsgdb9nsd_000001</td>\n",
       "    </tr>\n",
       "    <tr>\n",
       "      <th>2</th>\n",
       "      <td>H</td>\n",
       "      <td>2</td>\n",
       "      <td>1.000000</td>\n",
       "      <td>1.000000</td>\n",
       "      <td>dsgdb9nsd_000001</td>\n",
       "    </tr>\n",
       "    <tr>\n",
       "      <th>3</th>\n",
       "      <td>H</td>\n",
       "      <td>3</td>\n",
       "      <td>1.000000</td>\n",
       "      <td>1.000000</td>\n",
       "      <td>dsgdb9nsd_000001</td>\n",
       "    </tr>\n",
       "    <tr>\n",
       "      <th>4</th>\n",
       "      <td>H</td>\n",
       "      <td>4</td>\n",
       "      <td>1.000000</td>\n",
       "      <td>1.000000</td>\n",
       "      <td>dsgdb9nsd_000001</td>\n",
       "    </tr>\n",
       "  </tbody>\n",
       "</table>\n",
       "</div>"
      ],
      "text/plain": [
       "  atom  atom_index      cos2      cos3     molecule_name\n",
       "0    C           0 -0.333342 -0.577373  dsgdb9nsd_000001\n",
       "1    H           1  1.000000  1.000000  dsgdb9nsd_000001\n",
       "2    H           2  1.000000  1.000000  dsgdb9nsd_000001\n",
       "3    H           3  1.000000  1.000000  dsgdb9nsd_000001\n",
       "4    H           4  1.000000  1.000000  dsgdb9nsd_000001"
      ]
     },
     "execution_count": 8,
     "metadata": {},
     "output_type": "execute_result"
    }
   ],
   "source": [
    "c_cos(df_structures_idx, mols[0], thres=1.65)"
   ]
  },
  {
   "cell_type": "code",
   "execution_count": null,
   "metadata": {},
   "outputs": [],
   "source": []
  },
  {
   "cell_type": "code",
   "execution_count": 7,
   "metadata": {},
   "outputs": [],
   "source": [
    "mat = get_dist_matrix(df_structures_idx, mols[0])\n",
    "locs = df_structures_idx.loc[mols[0]][['x','y','z']].values"
   ]
  },
  {
   "cell_type": "code",
   "execution_count": 136,
   "metadata": {},
   "outputs": [
    {
     "data": {
      "text/plain": [
       "(5, 3)"
      ]
     },
     "execution_count": 136,
     "metadata": {},
     "output_type": "execute_result"
    }
   ],
   "source": [
    "locs.shape"
   ]
  },
  {
   "cell_type": "code",
   "execution_count": 102,
   "metadata": {},
   "outputs": [
    {
     "data": {
      "text/plain": [
       "array([[0, 3, 4, 2, 1],\n",
       "       [1, 0, 2, 3, 4],\n",
       "       [2, 0, 1, 4, 3],\n",
       "       [3, 0, 1, 4, 2],\n",
       "       [4, 0, 3, 2, 1]])"
      ]
     },
     "execution_count": 102,
     "metadata": {},
     "output_type": "execute_result"
    }
   ],
   "source": [
    "sorted_mat_idx = np.argsort(mat)\n",
    "sorted_mat_idx"
   ]
  },
  {
   "cell_type": "code",
   "execution_count": 134,
   "metadata": {},
   "outputs": [],
   "source": [
    "origin_idx = sorted_mat_idx[:, 0]\n",
    "nearest_idx = sorted_mat_idx[:, 1]\n",
    "second_idx = sorted_mat_idx[:, 2:]"
   ]
  },
  {
   "cell_type": "code",
   "execution_count": 135,
   "metadata": {},
   "outputs": [
    {
     "data": {
      "text/plain": [
       "array([[4, 2, 1],\n",
       "       [2, 3, 4],\n",
       "       [1, 4, 3],\n",
       "       [1, 4, 2],\n",
       "       [3, 2, 1]])"
      ]
     },
     "execution_count": 135,
     "metadata": {},
     "output_type": "execute_result"
    }
   ],
   "source": [
    "second_idx"
   ]
  },
  {
   "cell_type": "code",
   "execution_count": 110,
   "metadata": {},
   "outputs": [],
   "source": [
    "origin_locs = locs[origin_idx]\n",
    "nearest_locs = locs[nearest_idx]\n",
    "second_locs = locs[second_idx]\n",
    "base_vec = nearest_locs - origin_locs"
   ]
  },
  {
   "cell_type": "code",
   "execution_count": 127,
   "metadata": {},
   "outputs": [
    {
     "data": {
      "text/plain": [
       "(5, 3, 3)"
      ]
     },
     "execution_count": 127,
     "metadata": {},
     "output_type": "execute_result"
    }
   ],
   "source": [
    "base_tile = np.tile(base_vec.T, (3,1,1)).T\n",
    "base_tile.shape"
   ]
  },
  {
   "cell_type": "code",
   "execution_count": 112,
   "metadata": {},
   "outputs": [
    {
     "data": {
      "text/plain": [
       "(5, 3, 3)"
      ]
     },
     "execution_count": 112,
     "metadata": {},
     "output_type": "execute_result"
    }
   ],
   "source": [
    "second_locs.shape"
   ]
  },
  {
   "cell_type": "code",
   "execution_count": 128,
   "metadata": {},
   "outputs": [
    {
     "data": {
      "text/plain": [
       "(5, 3, 3)"
      ]
     },
     "execution_count": 128,
     "metadata": {},
     "output_type": "execute_result"
    }
   ],
   "source": [
    "second_locs.shape"
   ]
  },
  {
   "cell_type": "code",
   "execution_count": 131,
   "metadata": {},
   "outputs": [
    {
     "data": {
      "text/plain": [
       "(5, 3, 3)"
      ]
     },
     "execution_count": 131,
     "metadata": {},
     "output_type": "execute_result"
    }
   ],
   "source": [
    "locs[second_idx][.shape"
   ]
  },
  {
   "cell_type": "code",
   "execution_count": 94,
   "metadata": {},
   "outputs": [
    {
     "name": "stderr",
     "output_type": "stream",
     "text": [
      "/home/ryoji/Documents/git/kaggle/ml/lib/python3.6/site-packages/ipykernel_launcher.py:8: RuntimeWarning: invalid value encountered in true_divide\n",
      "  \n"
     ]
    },
    {
     "data": {
      "text/plain": [
       "array([[        nan,  0.81649832,  0.81649835,  0.81650128,  0.81649981],\n",
       "       [-0.33333494,  1.        ,         nan,         nan,         nan],\n",
       "       [-0.33335189,  1.        ,  0.81648214,  0.81649909,  0.81649952],\n",
       "       [ 1.        ,  1.        ,  0.81648214,  0.81649909,  0.81649682],\n",
       "       [-0.33334224,  1.        ,  0.81650324,  0.81650128,  0.81649981]])"
      ]
     },
     "execution_count": 94,
     "metadata": {},
     "output_type": "execute_result"
    }
   ],
   "source": [
    "sorted_locs = locs[np.argsort(mat)]\n",
    "origin = sorted_locs[:, 0]\n",
    "nearest = sorted_locs[:, 1]\n",
    "second = sorted_locs\n",
    "base = nearest - origin\n",
    "sec_vec = second - np.tile(origin, (5,1,1))\n",
    "base_tile = np.tile(base, (5,1,1))\n",
    "(base_tile * sec_vec).sum(axis=2) / np.linalg.norm(sec_vec, axis=2) / np.linalg.norm(base_tile, axis=2)"
   ]
  },
  {
   "cell_type": "code",
   "execution_count": 91,
   "metadata": {},
   "outputs": [
    {
     "data": {
      "text/plain": [
       "(5, 3, 3)"
      ]
     },
     "execution_count": 91,
     "metadata": {},
     "output_type": "execute_result"
    }
   ],
   "source": [
    "base_tile.shape"
   ]
  },
  {
   "cell_type": "code",
   "execution_count": 79,
   "metadata": {},
   "outputs": [
    {
     "data": {
      "text/plain": [
       "(1, 3, 5)"
      ]
     },
     "execution_count": 79,
     "metadata": {},
     "output_type": "execute_result"
    }
   ],
   "source": [
    "np.tile(base.T, (1,1,1)) .shape"
   ]
  },
  {
   "cell_type": "code",
   "execution_count": 145,
   "metadata": {},
   "outputs": [
    {
     "data": {
      "text/plain": [
       "array([[-5.23813635e-01,  1.43793264e+00,  9.06397294e-01],\n",
       "       [ 1.01173084e+00,  1.46375116e+00,  2.76574800e-04],\n",
       "       [ 2.15041600e-03, -6.03131760e-03,  1.97612040e-03],\n",
       "       [ 2.15041600e-03, -6.03131760e-03,  1.97612040e-03],\n",
       "       [-5.40815069e-01,  1.44752661e+00, -8.76643715e-01]])"
      ]
     },
     "execution_count": 145,
     "metadata": {},
     "output_type": "execute_result"
    }
   ],
   "source": [
    "sorted_locs[:, 2:][:,0]"
   ]
  },
  {
   "cell_type": "code",
   "execution_count": 141,
   "metadata": {},
   "outputs": [
    {
     "data": {
      "text/plain": [
       "array([[-1.26981359e-02,  1.08580416e+00,  8.00099580e-03],\n",
       "       [ 2.15041600e-03, -6.03131760e-03,  1.97612040e-03],\n",
       "       [ 1.01173084e+00,  1.46375116e+00,  2.76574800e-04],\n",
       "       [-5.40815069e-01,  1.44752661e+00, -8.76643715e-01],\n",
       "       [-5.23813635e-01,  1.43793264e+00,  9.06397294e-01]])"
      ]
     },
     "execution_count": 141,
     "metadata": {},
     "output_type": "execute_result"
    }
   ],
   "source": [
    "locs"
   ]
  },
  {
   "cell_type": "code",
   "execution_count": 35,
   "metadata": {},
   "outputs": [
    {
     "data": {
      "text/plain": [
       "(5, 5, 3)"
      ]
     },
     "execution_count": 35,
     "metadata": {},
     "output_type": "execute_result"
    }
   ],
   "source": [
    "np.tile(base, (5,1,1)).shape"
   ]
  },
  {
   "cell_type": "code",
   "execution_count": 28,
   "metadata": {},
   "outputs": [
    {
     "ename": "ValueError",
     "evalue": "operands could not be broadcast together with shapes (5,3) (5,) ",
     "output_type": "error",
     "traceback": [
      "\u001b[0;31m---------------------------------------------------------------------------\u001b[0m",
      "\u001b[0;31mValueError\u001b[0m                                Traceback (most recent call last)",
      "\u001b[0;32m<ipython-input-28-841716f65ef7>\u001b[0m in \u001b[0;36m<module>\u001b[0;34m\u001b[0m\n\u001b[0;32m----> 1\u001b[0;31m \u001b[0;34m(\u001b[0m\u001b[0mnp\u001b[0m\u001b[0;34m.\u001b[0m\u001b[0mtile\u001b[0m\u001b[0;34m(\u001b[0m\u001b[0mbase\u001b[0m\u001b[0;34m.\u001b[0m\u001b[0mT\u001b[0m\u001b[0;34m,\u001b[0m \u001b[0;34m(\u001b[0m\u001b[0;36m3\u001b[0m\u001b[0;34m,\u001b[0m\u001b[0;36m1\u001b[0m\u001b[0;34m,\u001b[0m\u001b[0;36m1\u001b[0m\u001b[0;34m)\u001b[0m\u001b[0;34m)\u001b[0m\u001b[0;34m.\u001b[0m\u001b[0mT\u001b[0m \u001b[0;34m*\u001b[0m \u001b[0msec_vec\u001b[0m\u001b[0;34m)\u001b[0m\u001b[0;34m.\u001b[0m\u001b[0msum\u001b[0m\u001b[0;34m(\u001b[0m\u001b[0maxis\u001b[0m\u001b[0;34m=\u001b[0m\u001b[0;36m1\u001b[0m\u001b[0;34m)\u001b[0m \u001b[0;34m/\u001b[0m \u001b[0mnp\u001b[0m\u001b[0;34m.\u001b[0m\u001b[0mlinalg\u001b[0m\u001b[0;34m.\u001b[0m\u001b[0mnorm\u001b[0m\u001b[0;34m(\u001b[0m\u001b[0msec_vec\u001b[0m\u001b[0;34m,\u001b[0m \u001b[0maxis\u001b[0m\u001b[0;34m=\u001b[0m\u001b[0;36m1\u001b[0m\u001b[0;34m)\u001b[0m \u001b[0;34m/\u001b[0m \u001b[0mnp\u001b[0m\u001b[0;34m.\u001b[0m\u001b[0mlinalg\u001b[0m\u001b[0;34m.\u001b[0m\u001b[0mnorm\u001b[0m\u001b[0;34m(\u001b[0m\u001b[0mbase\u001b[0m\u001b[0;34m,\u001b[0m \u001b[0maxis\u001b[0m\u001b[0;34m=\u001b[0m\u001b[0;36m1\u001b[0m\u001b[0;34m)\u001b[0m\u001b[0;34m\u001b[0m\u001b[0;34m\u001b[0m\u001b[0m\n\u001b[0m",
      "\u001b[0;31mValueError\u001b[0m: operands could not be broadcast together with shapes (5,3) (5,) "
     ]
    }
   ],
   "source": [
    "(np.tile(base.T, (3,1,1)).T * sec_vec).sum(axis=1) / np.linalg.norm(sec_vec, axis=1) / np.linalg.norm(base, axis=1)"
   ]
  },
  {
   "cell_type": "code",
   "execution_count": 21,
   "metadata": {},
   "outputs": [
    {
     "data": {
      "text/plain": [
       "array([[[-5.11115499e-01,  1.45063078e+00,  9.19095430e-01],\n",
       "        [-7.40733150e-02,  3.77947004e-01, -1.08552758e+00],\n",
       "        [-5.85057980e-03, -1.40323134e-02, -6.02487540e-03]],\n",
       "\n",
       "       [[ 1.00958043e+00,  1.46160075e+00, -1.87384120e-03],\n",
       "        [-5.34783751e-01,  1.45355793e+00, -8.70612398e-01],\n",
       "        [-5.25789755e-01,  1.43595652e+00,  9.04421174e-01]],\n",
       "\n",
       "       [[-1.00958043e+00, -1.01776216e+00, -1.00975472e+00],\n",
       "        [-1.98756480e+00, -2.58185180e-02, -5.57353868e-01],\n",
       "        [-5.41091644e-01,  1.44725004e+00, -8.76920290e-01]],\n",
       "\n",
       "       [[ 5.42965485e-01,  5.34783751e-01,  5.42791189e-01],\n",
       "        [-1.97134025e+00, -9.59397000e-03, -5.41129320e-01],\n",
       "        [ 1.88837456e+00,  2.34039488e+00,  8.76920290e-01]],\n",
       "\n",
       "       [[-1.70014345e-02,  1.97134025e+00, -3.52830081e-01],\n",
       "        [-4.26201801e-01,  2.58185180e-02, -1.43765607e+00],\n",
       "        [-9.04246878e-01, -9.12428612e-01, -9.04421174e-01]]])"
      ]
     },
     "execution_count": 21,
     "metadata": {},
     "output_type": "execute_result"
    }
   ],
   "source": [
    "\n",
    "return (base * sec_vec).sum(axis=1) / np.linalg.norm(sec_vec, axis=1) / np.linalg.norm(base, axis=1)\n"
   ]
  },
  {
   "cell_type": "code",
   "execution_count": 174,
   "metadata": {},
   "outputs": [
    {
     "data": {
      "text/plain": [
       "array([[ 1.        , -0.33334224, -0.33335189, -0.33333494],\n",
       "       [ 1.        ,  0.81648268,  0.81649832,  0.81650188],\n",
       "       [ 1.        ,  0.81648214,  0.81649835,  0.81650324],\n",
       "       [ 1.        ,  0.81649582,  0.81649909,  0.81650128],\n",
       "       [ 1.        ,  0.81649952,  0.81649682,  0.81649981]])"
      ]
     },
     "execution_count": 174,
     "metadata": {},
     "output_type": "execute_result"
    }
   ],
   "source": [
    "get_angle(df_structures_idx, mols[0])"
   ]
  },
  {
   "cell_type": "code",
   "execution_count": 176,
   "metadata": {},
   "outputs": [
    {
     "data": {
      "text/plain": [
       "array([[ 1.        ,  1.        ,  0.50000392,  0.49999675],\n",
       "       [ 1.        ,  1.        , -0.36236402, -0.36235604],\n",
       "       [ 1.        ,  1.        , -0.36235995, -0.362357  ],\n",
       "       [ 1.        ,  1.        , -0.36239269, -0.36233693],\n",
       "       [ 1.        ,  1.        , -0.36239882, -0.36238805]])"
      ]
     },
     "execution_count": 176,
     "metadata": {},
     "output_type": "execute_result"
    }
   ],
   "source": [
    "get_orientation(df_structures_idx, mols[0])"
   ]
  },
  {
   "cell_type": "code",
   "execution_count": 173,
   "metadata": {},
   "outputs": [],
   "source": [
    "def get_angle(df_structures_idx, mol):\n",
    "    locs = df_structures_idx.loc[mol][['x','y','z']].values # ( ,3)\n",
    "    mat = get_dist_matrix(df_structures_idx, mol)\n",
    "    sorted_locs = locs[np.argsort(mat)]\n",
    "    origin = sorted_locs[:, 0]\n",
    "    nearest = sorted_locs[:, 1]\n",
    "    second = sorted_locs[:, 2:]\n",
    "    base = nearest - origin\n",
    "    out_mat = np.zeros((0, len(mat)))\n",
    "    for i in range(len(mat)-2):\n",
    "        sec_vec = second[:,i,:] - origin\n",
    "        out = (base * sec_vec).sum(axis=1) / np.linalg.norm(sec_vec, axis=1) / np.linalg.norm(base, axis=1)\n",
    "        out_mat = np.vstack([out_mat, out])\n",
    "    left = np.ones((len(mat), 1))\n",
    "    return np.hstack([left, out_mat.T])"
   ]
  },
  {
   "cell_type": "code",
   "execution_count": 175,
   "metadata": {},
   "outputs": [],
   "source": [
    "def get_orientation(df_structures_idx, mol):\n",
    "    locs = df_structures_idx.loc[mol][['x','y','z']].values # ( ,3)\n",
    "    mat = get_dist_matrix(df_structures_idx, mol)\n",
    "    sorted_locs = locs[np.argsort(mat)]    \n",
    "    \n",
    "    origin = sorted_locs[:, 0]\n",
    "    nearest = sorted_locs[:, 1]\n",
    "    second = sorted_locs[:, 2]\n",
    "    try:\n",
    "        third = sorted_locs[:, 3:]\n",
    "    except:\n",
    "        return np.ones(len(sorted_locs))\n",
    "    \n",
    "    base = nearest - origin\n",
    "    sec_vec = second - origin\n",
    "    out_mat = np.zeros((0, len(mat)))\n",
    "    left = np.ones((len(mat), 1))\n",
    "    for i in range(len(mat)-3):\n",
    "        thi_vec = third[:,i,:] - origin\n",
    "        proj_1 = sec_vec - base * np.tile(np.linalg.norm(sec_vec, axis=1), (3,1)).T / np.tile(np.linalg.norm(base, axis=1), (3,1)).T\n",
    "        proj_2 = thi_vec - base * np.tile(np.linalg.norm(thi_vec, axis=1), (3,1)).T / np.tile(np.linalg.norm(base, axis=1), (3,1)).T\n",
    "        out = (proj_1*proj_2).sum(axis=1) / np.linalg.norm(proj_1, axis=1) / np.linalg.norm(proj_2, axis=1)\n",
    "        out_mat = np.vstack([out_mat,out])\n",
    "    return np.hstack([left, (np.hstack([left, out_mat.T]))])"
   ]
  },
  {
   "cell_type": "code",
   "execution_count": 12,
   "metadata": {},
   "outputs": [
    {
     "data": {
      "text/plain": [
       "array([ 0.50000392, -0.36236402, -0.36235995, -0.36239269, -0.36239882])"
      ]
     },
     "execution_count": 12,
     "metadata": {},
     "output_type": "execute_result"
    }
   ],
   "source": [
    "get_orientation(df_structures_idx, mols[0])"
   ]
  },
  {
   "cell_type": "code",
   "execution_count": 13,
   "metadata": {},
   "outputs": [
    {
     "data": {
      "text/plain": [
       "array([-0.33334224,  0.81648268,  0.81648214,  0.81649582,  0.81649952])"
      ]
     },
     "execution_count": 13,
     "metadata": {},
     "output_type": "execute_result"
    }
   ],
   "source": [
    "get_angle(df_structures_idx, mols[0])"
   ]
  },
  {
   "cell_type": "code",
   "execution_count": 14,
   "metadata": {},
   "outputs": [
    {
     "data": {
      "text/plain": [
       "array([[0.        , 1.09195306, 1.09195162, 1.09194638, 1.09194754],\n",
       "       [1.09195306, 0.        , 1.78311976, 1.7831475 , 1.78315669],\n",
       "       [1.09195162, 1.78311976, 0.        , 1.78315766, 1.78314839],\n",
       "       [1.09194638, 1.7831475 , 1.78315766, 0.        , 1.78314787],\n",
       "       [1.09194754, 1.78315669, 1.78314839, 1.78314787, 0.        ]])"
      ]
     },
     "execution_count": 14,
     "metadata": {},
     "output_type": "execute_result"
    }
   ],
   "source": [
    "mat"
   ]
  },
  {
   "cell_type": "code",
   "execution_count": 18,
   "metadata": {},
   "outputs": [
    {
     "data": {
      "text/plain": [
       "array([[0, 3, 4, 2, 1],\n",
       "       [1, 0, 2, 3, 4],\n",
       "       [2, 0, 1, 4, 3],\n",
       "       [3, 0, 1, 4, 2],\n",
       "       [4, 0, 3, 2, 1]])"
      ]
     },
     "execution_count": 18,
     "metadata": {},
     "output_type": "execute_result"
    }
   ],
   "source": [
    "np.argsort(mat)"
   ]
  },
  {
   "cell_type": "code",
   "execution_count": 19,
   "metadata": {},
   "outputs": [
    {
     "data": {
      "text/plain": [
       "array([[-1.26981359e-02,  1.08580416e+00,  8.00099580e-03],\n",
       "       [ 2.15041600e-03, -6.03131760e-03,  1.97612040e-03],\n",
       "       [ 1.01173084e+00,  1.46375116e+00,  2.76574800e-04],\n",
       "       [-5.40815069e-01,  1.44752661e+00, -8.76643715e-01],\n",
       "       [-5.23813635e-01,  1.43793264e+00,  9.06397294e-01]])"
      ]
     },
     "execution_count": 19,
     "metadata": {},
     "output_type": "execute_result"
    }
   ],
   "source": [
    "locs[np.argsort(mat)][:, 0]"
   ]
  },
  {
   "cell_type": "code",
   "execution_count": 20,
   "metadata": {},
   "outputs": [
    {
     "data": {
      "text/plain": [
       "array([[[-1.26981359e-02,  1.08580416e+00,  8.00099580e-03],\n",
       "        [-5.40815069e-01,  1.44752661e+00, -8.76643715e-01],\n",
       "        [-5.23813635e-01,  1.43793264e+00,  9.06397294e-01],\n",
       "        [ 1.01173084e+00,  1.46375116e+00,  2.76574800e-04],\n",
       "        [ 2.15041600e-03, -6.03131760e-03,  1.97612040e-03]],\n",
       "\n",
       "       [[ 2.15041600e-03, -6.03131760e-03,  1.97612040e-03],\n",
       "        [-1.26981359e-02,  1.08580416e+00,  8.00099580e-03],\n",
       "        [ 1.01173084e+00,  1.46375116e+00,  2.76574800e-04],\n",
       "        [-5.40815069e-01,  1.44752661e+00, -8.76643715e-01],\n",
       "        [-5.23813635e-01,  1.43793264e+00,  9.06397294e-01]],\n",
       "\n",
       "       [[ 1.01173084e+00,  1.46375116e+00,  2.76574800e-04],\n",
       "        [-1.26981359e-02,  1.08580416e+00,  8.00099580e-03],\n",
       "        [ 2.15041600e-03, -6.03131760e-03,  1.97612040e-03],\n",
       "        [-5.23813635e-01,  1.43793264e+00,  9.06397294e-01],\n",
       "        [-5.40815069e-01,  1.44752661e+00, -8.76643715e-01]],\n",
       "\n",
       "       [[-5.40815069e-01,  1.44752661e+00, -8.76643715e-01],\n",
       "        [-1.26981359e-02,  1.08580416e+00,  8.00099580e-03],\n",
       "        [ 2.15041600e-03, -6.03131760e-03,  1.97612040e-03],\n",
       "        [-5.23813635e-01,  1.43793264e+00,  9.06397294e-01],\n",
       "        [ 1.01173084e+00,  1.46375116e+00,  2.76574800e-04]],\n",
       "\n",
       "       [[-5.23813635e-01,  1.43793264e+00,  9.06397294e-01],\n",
       "        [-1.26981359e-02,  1.08580416e+00,  8.00099580e-03],\n",
       "        [-5.40815069e-01,  1.44752661e+00, -8.76643715e-01],\n",
       "        [ 1.01173084e+00,  1.46375116e+00,  2.76574800e-04],\n",
       "        [ 2.15041600e-03, -6.03131760e-03,  1.97612040e-03]]])"
      ]
     },
     "execution_count": 20,
     "metadata": {},
     "output_type": "execute_result"
    }
   ],
   "source": [
    "locs[np.argsort(mat)]"
   ]
  },
  {
   "cell_type": "code",
   "execution_count": 65,
   "metadata": {},
   "outputs": [],
   "source": [
    "origin = test[:,0]\n",
    "nearest = test[:,1]\n",
    "second = test[:,2]\n",
    "base = nearest - origin\n",
    "sec_vec = second - origin"
   ]
  },
  {
   "cell_type": "code",
   "execution_count": 106,
   "metadata": {},
   "outputs": [
    {
     "data": {
      "text/plain": [
       "array([[-5.11115499e-01,  3.52128486e-01,  8.98396298e-01],\n",
       "       [ 1.00958043e+00,  1.46978248e+00, -1.69954560e-03],\n",
       "       [-1.00958043e+00, -1.46978248e+00,  1.69954560e-03],\n",
       "       [ 5.42965485e-01, -1.45355793e+00,  8.78619836e-01],\n",
       "       [-1.70014345e-02,  9.59397000e-03, -1.78304101e+00]])"
      ]
     },
     "execution_count": 106,
     "metadata": {},
     "output_type": "execute_result"
    }
   ],
   "source": [
    "sec_vec"
   ]
  },
  {
   "cell_type": "code",
   "execution_count": 124,
   "metadata": {},
   "outputs": [
    {
     "data": {
      "text/plain": [
       "array([[1.09194754, 1.09194754, 1.09194754],\n",
       "       [1.78311976, 1.78311976, 1.78311976],\n",
       "       [1.78311976, 1.78311976, 1.78311976],\n",
       "       [1.7831475 , 1.7831475 , 1.7831475 ],\n",
       "       [1.78314787, 1.78314787, 1.78314787]])"
      ]
     },
     "execution_count": 124,
     "metadata": {},
     "output_type": "execute_result"
    }
   ],
   "source": [
    "np.tile(np.linalg.norm(sec_vec, axis=1), (3,1)).T"
   ]
  },
  {
   "cell_type": "code",
   "execution_count": 70,
   "metadata": {},
   "outputs": [
    {
     "data": {
      "text/plain": [
       "array([-0.33334224,  0.81648268,  0.81648214,  0.81649582,  0.81649952])"
      ]
     },
     "execution_count": 70,
     "metadata": {},
     "output_type": "execute_result"
    }
   ],
   "source": [
    "(base * sec_vec).sum(axis=1) / np.linalg.norm(sec_vec, axis=1) / np.linalg.norm(base, axis=1)"
   ]
  },
  {
   "cell_type": "code",
   "execution_count": 72,
   "metadata": {},
   "outputs": [
    {
     "data": {
      "text/plain": [
       "array([-0.33334224,  0.81648268,  0.81648214,  0.81649582,  0.81649952])"
      ]
     },
     "execution_count": 72,
     "metadata": {},
     "output_type": "execute_result"
    }
   ],
   "source": [
    "get_angle(test) "
   ]
  },
  {
   "cell_type": "code",
   "execution_count": 37,
   "metadata": {},
   "outputs": [
    {
     "data": {
      "text/plain": [
       "array([[[-1.26981359e-02,  1.08580416e+00,  8.00099580e-03],\n",
       "        [-5.40815069e-01,  1.44752661e+00, -8.76643715e-01],\n",
       "        [-5.23813635e-01,  1.43793264e+00,  9.06397294e-01]],\n",
       "\n",
       "       [[ 2.15041600e-03, -6.03131760e-03,  1.97612040e-03],\n",
       "        [-1.26981359e-02,  1.08580416e+00,  8.00099580e-03],\n",
       "        [ 1.01173084e+00,  1.46375116e+00,  2.76574800e-04]],\n",
       "\n",
       "       [[ 1.01173084e+00,  1.46375116e+00,  2.76574800e-04],\n",
       "        [-1.26981359e-02,  1.08580416e+00,  8.00099580e-03],\n",
       "        [ 2.15041600e-03, -6.03131760e-03,  1.97612040e-03]],\n",
       "\n",
       "       [[-5.40815069e-01,  1.44752661e+00, -8.76643715e-01],\n",
       "        [-1.26981359e-02,  1.08580416e+00,  8.00099580e-03],\n",
       "        [ 2.15041600e-03, -6.03131760e-03,  1.97612040e-03]],\n",
       "\n",
       "       [[-5.23813635e-01,  1.43793264e+00,  9.06397294e-01],\n",
       "        [-1.26981359e-02,  1.08580416e+00,  8.00099580e-03],\n",
       "        [-5.40815069e-01,  1.44752661e+00, -8.76643715e-01]]])"
      ]
     },
     "execution_count": 37,
     "metadata": {},
     "output_type": "execute_result"
    }
   ],
   "source": [
    "locs[np.argsort(mat)[:, :3]]"
   ]
  },
  {
   "cell_type": "code",
   "execution_count": null,
   "metadata": {},
   "outputs": [],
   "source": []
  }
 ],
 "metadata": {
  "kernelspec": {
   "display_name": "Python 3",
   "language": "python",
   "name": "python3"
  },
  "language_info": {
   "codemirror_mode": {
    "name": "ipython",
    "version": 3
   },
   "file_extension": ".py",
   "mimetype": "text/x-python",
   "name": "python",
   "nbconvert_exporter": "python",
   "pygments_lexer": "ipython3",
   "version": "3.6.8"
  }
 },
 "nbformat": 4,
 "nbformat_minor": 2
}
