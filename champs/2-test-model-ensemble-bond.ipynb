{
 "cells": [
  {
   "cell_type": "code",
   "execution_count": 1,
   "metadata": {},
   "outputs": [],
   "source": [
    "import os\n",
    "import pandas as pd\n",
    "import numpy as np\n",
    "import time\n",
    "import random\n",
    "import lightgbm as lgb\n",
    "import gc\n",
    "import pickle"
   ]
  },
  {
   "cell_type": "code",
   "execution_count": 2,
   "metadata": {},
   "outputs": [],
   "source": [
    "FOLDER = '../../data_kaggle/champs/'\n",
    "OUTPUT = FOLDER + 'out/'"
   ]
  },
  {
   "cell_type": "code",
   "execution_count": 3,
   "metadata": {},
   "outputs": [],
   "source": [
    "# df_mulliken_charges = pd.read_csv(FOLDER + 'mulliken_charges.csv')\n",
    "# df_sample =  pd.read_csv(FOLDER + 'sample_submission.csv')\n",
    "# df_magnetic_shielding_tensors = pd.read_csv(FOLDER + 'magnetic_shielding_tensors.csv')\n",
    "# df_train = pd.read_csv(FOLDER + 'train.csv')\n",
    "# df_test = pd.read_csv(FOLDER + 'test.csv')\n",
    "# df_dipole_moments = pd.read_csv(FOLDER + 'dipole_moments.csv')\n",
    "# df_potential_energy = pd.read_csv(FOLDER + 'potential_energy.csv')\n",
    "# df_structures = pd.read_csv(FOLDER + 'structures.csv')\n",
    "# df_scalar_coupling_contributions = pd.read_csv(FOLDER + 'scalar_coupling_contributions.csv')"
   ]
  },
  {
   "cell_type": "code",
   "execution_count": 4,
   "metadata": {},
   "outputs": [],
   "source": [
    "try_test = '20190721_dist_ang_ori_bond_cos_test_{}.pickle'\n",
    "trained_models = '20190721_champs_models_lgb_{}.pickle'\n",
    "submission_name = '20190721_submission.csv'\n",
    "submission_temp = 'submission_temp_{}.pickle'"
   ]
  },
  {
   "cell_type": "code",
   "execution_count": 5,
   "metadata": {},
   "outputs": [],
   "source": [
    "bond_types = ['1JHC', '2JHH', '1JHN', '2JHN', '2JHC', '3JHH', '3JHC', '3JHN']"
   ]
  },
  {
   "cell_type": "code",
   "execution_count": 6,
   "metadata": {
    "scrolled": false
   },
   "outputs": [
    {
     "name": "stdout",
     "output_type": "stream",
     "text": [
      "---------- 1JHC ----------\n",
      "elapsed_time:1197.4483001232147[sec]\n",
      "---------- 2JHH ----------\n",
      "elapsed_time:421.19561672210693[sec]\n",
      "---------- 1JHN ----------\n",
      "elapsed_time:14.156259536743164[sec]\n",
      "---------- 2JHN ----------\n",
      "elapsed_time:46.87821340560913[sec]\n",
      "---------- 2JHC ----------\n",
      "elapsed_time:1521.6596581935883[sec]\n",
      "---------- 3JHH ----------\n",
      "elapsed_time:893.0700449943542[sec]\n",
      "---------- 3JHC ----------\n",
      "elapsed_time:2036.7518043518066[sec]\n",
      "---------- 3JHN ----------\n",
      "elapsed_time:76.8850302696228[sec]\n"
     ]
    }
   ],
   "source": [
    "for i, b in enumerate(bond_types):\n",
    "    print('-'*10, b, '-'*10)\n",
    "    start = time.time()\n",
    "    df_bond = pd.read_pickle(OUTPUT +try_test.format(b))\n",
    "    y_pred_b =[]\n",
    "\n",
    "    with open(OUTPUT + trained_models.format(b), 'rb') as f:\n",
    "        models_b = pickle.load(f)\n",
    "\n",
    "    X_test = df_bond[df_bond.columns[5:]].values  \n",
    "    num_seed = len(models_b)\n",
    "    for s in range(num_seed):\n",
    "        gbm = models_b[s]\n",
    "        y_pred_single = gbm.predict(X_test, num_iteration=gbm.best_iteration)\n",
    "        y_pred_b.append(y_pred_single)\n",
    "        \n",
    "    y_pred = np.array(y_pred_b).mean(axis=0)\n",
    "    \n",
    "    df_submit_b = pd.DataFrame([df_bond['id'], y_pred], index=['id', 'scalar_coupling_constant']).T\n",
    "    df_submit_b.to_pickle(OUTPUT +submission_temp.format(b))\n",
    "    \n",
    "    elapsed_time = time.time() - start\n",
    "    print (\"elapsed_time:{0}\".format(elapsed_time) + \"[sec]\")\n",
    "    gc.collect()"
   ]
  },
  {
   "cell_type": "code",
   "execution_count": 7,
   "metadata": {},
   "outputs": [],
   "source": [
    "df_submit = pd.DataFrame()\n",
    "for b in bond_types:\n",
    "    df_submit_b = pd.read_pickle(OUTPUT +submission_temp.format(b))\n",
    "    df_submit = pd.concat([df_submit, df_submit_b], axis=0)"
   ]
  },
  {
   "cell_type": "code",
   "execution_count": 8,
   "metadata": {},
   "outputs": [],
   "source": [
    "df_submit['id'] = df_submit['id'].astype('int32')"
   ]
  },
  {
   "cell_type": "code",
   "execution_count": 9,
   "metadata": {},
   "outputs": [
    {
     "data": {
      "text/html": [
       "<div>\n",
       "<style scoped>\n",
       "    .dataframe tbody tr th:only-of-type {\n",
       "        vertical-align: middle;\n",
       "    }\n",
       "\n",
       "    .dataframe tbody tr th {\n",
       "        vertical-align: top;\n",
       "    }\n",
       "\n",
       "    .dataframe thead th {\n",
       "        text-align: right;\n",
       "    }\n",
       "</style>\n",
       "<table border=\"1\" class=\"dataframe\">\n",
       "  <thead>\n",
       "    <tr style=\"text-align: right;\">\n",
       "      <th></th>\n",
       "      <th>id</th>\n",
       "      <th>scalar_coupling_constant</th>\n",
       "    </tr>\n",
       "  </thead>\n",
       "  <tbody>\n",
       "    <tr>\n",
       "      <th>0</th>\n",
       "      <td>4658148</td>\n",
       "      <td>196.898820</td>\n",
       "    </tr>\n",
       "    <tr>\n",
       "      <th>1</th>\n",
       "      <td>4658150</td>\n",
       "      <td>196.898820</td>\n",
       "    </tr>\n",
       "    <tr>\n",
       "      <th>2</th>\n",
       "      <td>4658152</td>\n",
       "      <td>90.810420</td>\n",
       "    </tr>\n",
       "    <tr>\n",
       "      <th>3</th>\n",
       "      <td>4658156</td>\n",
       "      <td>90.809981</td>\n",
       "    </tr>\n",
       "    <tr>\n",
       "      <th>4</th>\n",
       "      <td>4658159</td>\n",
       "      <td>82.820017</td>\n",
       "    </tr>\n",
       "  </tbody>\n",
       "</table>\n",
       "</div>"
      ],
      "text/plain": [
       "        id  scalar_coupling_constant\n",
       "0  4658148                196.898820\n",
       "1  4658150                196.898820\n",
       "2  4658152                 90.810420\n",
       "3  4658156                 90.809981\n",
       "4  4658159                 82.820017"
      ]
     },
     "execution_count": 9,
     "metadata": {},
     "output_type": "execute_result"
    }
   ],
   "source": [
    "df_submit.head()"
   ]
  },
  {
   "cell_type": "code",
   "execution_count": 10,
   "metadata": {},
   "outputs": [],
   "source": [
    "df_submit.to_csv(OUTPUT + submission_name, index=False)"
   ]
  },
  {
   "cell_type": "code",
   "execution_count": null,
   "metadata": {},
   "outputs": [],
   "source": []
  }
 ],
 "metadata": {
  "kernelspec": {
   "display_name": "Python 3",
   "language": "python",
   "name": "python3"
  },
  "language_info": {
   "codemirror_mode": {
    "name": "ipython",
    "version": 3
   },
   "file_extension": ".py",
   "mimetype": "text/x-python",
   "name": "python",
   "nbconvert_exporter": "python",
   "pygments_lexer": "ipython3",
   "version": "3.6.8"
  }
 },
 "nbformat": 4,
 "nbformat_minor": 2
}
