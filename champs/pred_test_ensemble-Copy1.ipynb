{
 "cells": [
  {
   "cell_type": "code",
   "execution_count": 1,
   "metadata": {},
   "outputs": [],
   "source": [
    "import os\n",
    "import pandas as pd\n",
    "import numpy as np\n",
    "import random\n",
    "import lightgbm as lgb\n",
    "import pickle"
   ]
  },
  {
   "cell_type": "code",
   "execution_count": 2,
   "metadata": {},
   "outputs": [],
   "source": [
    "FOLDER = '../../data_kaggle/champs/'\n",
    "OUTPUT = FOLDER + 'out/'"
   ]
  },
  {
   "cell_type": "code",
   "execution_count": 3,
   "metadata": {},
   "outputs": [],
   "source": [
    "df_train = pd.read_csv(FOLDER + 'train.csv')\n",
    "df_test = pd.read_csv(FOLDER + 'test.csv')"
   ]
  },
  {
   "cell_type": "code",
   "execution_count": null,
   "metadata": {},
   "outputs": [],
   "source": [
    "try_test = '20190611_test_dist_cos.csv'\n",
    "trained_model = '20190614_champs_models_lgb_en.pickle'\n",
    "submission_name = '20190615submission_2.csv'"
   ]
  },
  {
   "cell_type": "code",
   "execution_count": null,
   "metadata": {},
   "outputs": [],
   "source": [
    "bond_types = df_train['type'].unique()\n",
    "del df_train"
   ]
  },
  {
   "cell_type": "code",
   "execution_count": null,
   "metadata": {},
   "outputs": [],
   "source": [
    "df_test_dist = pd.read_csv(OUTPUT + try_test)"
   ]
  },
  {
   "cell_type": "code",
   "execution_count": null,
   "metadata": {},
   "outputs": [],
   "source": [
    "with open(OUTPUT + trained_model, 'rb') as f:\n",
    "    models_0 = pickle.load(f)\n",
    "    models_1 = pickle.load(f)\n",
    "    models_2 = pickle.load(f)\n",
    "    models_3 = pickle.load(f)\n",
    "    models_4 = pickle.load(f)"
   ]
  },
  {
   "cell_type": "code",
   "execution_count": null,
   "metadata": {},
   "outputs": [],
   "source": [
    "ids_arr = np.zeros(0)\n",
    "pred_arr = np.zeros(0)\n",
    "for i, b in enumerate(bond_types):\n",
    "    df = df_test_dist.query('type == \"{}\"'.format(b))\n",
    "    ids = df['id'].values\n",
    "    ids_arr = np.hstack([ids_arr, ids])\n",
    "    X = df[df.columns[5:]].values\n",
    "    \n",
    "    gbm_0 = models_0[i]\n",
    "    gbm_1 = models_1[i]\n",
    "    gbm_2 = models_2[i]\n",
    "    gbm_3 = models_3[i]\n",
    "    gbm_4 = models_4[i]\n",
    "    \n",
    "    y_pred_0 = gbm_0.predict(X)\n",
    "    y_pred_1 = gbm_1.predict(X)\n",
    "    y_pred_2 = gbm_2.predict(X)\n",
    "    y_pred_3 = gbm_3.predict(X)\n",
    "    y_pred_4 = gbm_4.predict(X)\n",
    "    \n",
    "    y_pred = (y_pred_0 + y_pred_1 + y_pred_2 + y_pred_3 + y_pred_4) / 5.\n",
    "    \n",
    "    pred_arr = np.hstack([pred_arr, y_pred])"
   ]
  },
  {
   "cell_type": "code",
   "execution_count": null,
   "metadata": {},
   "outputs": [],
   "source": [
    "se_ids = pd.Series(ids_arr, name='id', dtype='int')\n",
    "se_pred = pd.Series(pred_arr, name='scalar_coupling_constant')\n",
    "df_submission = pd.concat([se_ids, se_pred], axis=1)\n",
    "df_submission_s = df_submission.sort_values('id')\n",
    "df_submission_s.to_csv(OUTPUT + submission_name, index=False)"
   ]
  },
  {
   "cell_type": "code",
   "execution_count": null,
   "metadata": {},
   "outputs": [],
   "source": []
  }
 ],
 "metadata": {
  "kernelspec": {
   "display_name": "Python 3",
   "language": "python",
   "name": "python3"
  },
  "language_info": {
   "codemirror_mode": {
    "name": "ipython",
    "version": 3
   },
   "file_extension": ".py",
   "mimetype": "text/x-python",
   "name": "python",
   "nbconvert_exporter": "python",
   "pygments_lexer": "ipython3",
   "version": "3.6.7"
  }
 },
 "nbformat": 4,
 "nbformat_minor": 2
}
